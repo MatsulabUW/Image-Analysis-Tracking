{
 "cells": [
  {
   "cell_type": "code",
   "execution_count": 2,
   "id": "5b3d8620",
   "metadata": {},
   "outputs": [
    {
     "ename": "ModuleNotFoundError",
     "evalue": "No module named 'filters'",
     "output_type": "error",
     "traceback": [
      "\u001b[0;31m---------------------------------------------------------------------------\u001b[0m",
      "\u001b[0;31mModuleNotFoundError\u001b[0m                       Traceback (most recent call last)",
      "Cell \u001b[0;32mIn[2], line 5\u001b[0m\n\u001b[1;32m      3\u001b[0m \u001b[38;5;28;01mimport\u001b[39;00m \u001b[38;5;21;01msys\u001b[39;00m\n\u001b[1;32m      4\u001b[0m sys\u001b[38;5;241m.\u001b[39mpath\u001b[38;5;241m.\u001b[39mappend(\u001b[38;5;124m'\u001b[39m\u001b[38;5;124m../src/\u001b[39m\u001b[38;5;124m'\u001b[39m)\n\u001b[0;32m----> 5\u001b[0m \u001b[38;5;28;01mfrom\u001b[39;00m \u001b[38;5;21;01mfilters\u001b[39;00m \u001b[38;5;28;01mimport\u001b[39;00m Track, create_tracks_from_dataframe\n",
      "\u001b[0;31mModuleNotFoundError\u001b[0m: No module named 'filters'"
     ]
    }
   ],
   "source": [
    "import pandas as pd \n",
    "import numpy as np \n",
    "import sys\n",
    "sys.path.append('../src/')\n",
    "from filters import Track, create_tracks_from_dataframe"
   ]
  },
  {
   "cell_type": "code",
   "execution_count": null,
   "id": "69768e7b",
   "metadata": {},
   "outputs": [],
   "source": [
    "track_df = pd.read_pickle('/Users/apple/Desktop/Akamatsu_Lab/Lap_track/self/files/track_df_updated.pkl')"
   ]
  },
  {
   "cell_type": "code",
   "execution_count": null,
   "id": "e793211e",
   "metadata": {},
   "outputs": [],
   "source": [
    "track_df.head()"
   ]
  },
  {
   "cell_type": "code",
   "execution_count": null,
   "id": "cbe0a2c7",
   "metadata": {},
   "outputs": [],
   "source": [
    "tracks = create_tracks_from_dataframe(df = track_df)"
   ]
  },
  {
   "cell_type": "code",
   "execution_count": null,
   "id": "eab55415",
   "metadata": {},
   "outputs": [],
   "source": [
    "# Create DataFrame from Track instances\n",
    "tracks_data = {\n",
    "    'track_id': [track.track_id.values[0] for track in tracks],\n",
    "    'track_length': [track.track_length for track in tracks],\n",
    "    'track_start': [track.track_start for track in tracks],\n",
    "    'track_end': [track.track_end for track in tracks],\n",
    "    'c3_peak': [track.peak_intensities[0] for track in tracks],\n",
    "    'c2_peak': [track.peak_intensities[1] for track in tracks],\n",
    "    'c2_peak_frame': [track.peak_intensity_frames[0] for track in tracks],\n",
    "    'c3_peak_frame': [track.peak_intensity_frames[1] for track in tracks],\n",
    "    'mean_displacement': [track.mean_displacement_track for track in tracks]\n",
    "}\n",
    "\n",
    "tracks_df = pd.DataFrame(tracks_data)"
   ]
  },
  {
   "cell_type": "code",
   "execution_count": null,
   "id": "77116329",
   "metadata": {},
   "outputs": [],
   "source": [
    "tracks_df.head()"
   ]
  },
  {
   "cell_type": "code",
   "execution_count": null,
   "id": "d6da87a8",
   "metadata": {},
   "outputs": [],
   "source": [
    "tracks_df[tracks_df['track_id']==541]"
   ]
  },
  {
   "cell_type": "code",
   "execution_count": null,
   "id": "f97e5e0e",
   "metadata": {},
   "outputs": [],
   "source": []
  }
 ],
 "metadata": {
  "kernelspec": {
   "display_name": "Python 3 (ipykernel)",
   "language": "python",
   "name": "python3"
  },
  "language_info": {
   "codemirror_mode": {
    "name": "ipython",
    "version": 3
   },
   "file_extension": ".py",
   "mimetype": "text/x-python",
   "name": "python",
   "nbconvert_exporter": "python",
   "pygments_lexer": "ipython3",
   "version": "3.10.13"
  }
 },
 "nbformat": 4,
 "nbformat_minor": 5
}
