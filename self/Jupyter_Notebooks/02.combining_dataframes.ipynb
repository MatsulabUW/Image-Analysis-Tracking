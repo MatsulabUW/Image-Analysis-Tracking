{
 "cells": [
  {
   "cell_type": "markdown",
   "id": "2a659319",
   "metadata": {},
   "source": [
    "# This notebook only calls the combine dataframe function and combines all of the dataframes "
   ]
  },
  {
   "cell_type": "code",
   "execution_count": 1,
   "id": "d9dcf790",
   "metadata": {},
   "outputs": [],
   "source": [
    "import sys \n",
    "#sys.path.append('/Users/apple/Desktop/Akamatsu_Lab/Lap_track/Final/src')\n",
    "sys.path.append('../src/')\n",
    "from detections_preprocessing import combine_dataframes"
   ]
  },
  {
   "cell_type": "code",
   "execution_count": 2,
   "id": "1194acf3",
   "metadata": {},
   "outputs": [],
   "source": [
    "path_channel_3 = '/Users/apple/Desktop/Akamatsu_Lab/Data/Channel_3_pkl'\n",
    "c3_combined_df = combine_dataframes(number_of_files = 130, channel = 3, directory_path = path_channel_3)"
   ]
  },
  {
   "cell_type": "code",
   "execution_count": 3,
   "id": "09a97722",
   "metadata": {},
   "outputs": [
    {
     "data": {
      "text/html": [
       "<div>\n",
       "<style scoped>\n",
       "    .dataframe tbody tr th:only-of-type {\n",
       "        vertical-align: middle;\n",
       "    }\n",
       "\n",
       "    .dataframe tbody tr th {\n",
       "        vertical-align: top;\n",
       "    }\n",
       "\n",
       "    .dataframe thead th {\n",
       "        text-align: right;\n",
       "    }\n",
       "</style>\n",
       "<table border=\"1\" class=\"dataframe\">\n",
       "  <thead>\n",
       "    <tr style=\"text-align: right;\">\n",
       "      <th></th>\n",
       "      <th>amplitude</th>\n",
       "      <th>mu_x</th>\n",
       "      <th>mu_y</th>\n",
       "      <th>mu_z</th>\n",
       "      <th>sigma_x</th>\n",
       "      <th>sigma_y</th>\n",
       "      <th>sigma_z</th>\n",
       "      <th>frame</th>\n",
       "    </tr>\n",
       "  </thead>\n",
       "  <tbody>\n",
       "    <tr>\n",
       "      <th>0</th>\n",
       "      <td>175.000000</td>\n",
       "      <td>19.0</td>\n",
       "      <td>1813.0</td>\n",
       "      <td>3.0</td>\n",
       "      <td>2.0</td>\n",
       "      <td>1.0</td>\n",
       "      <td>2.0</td>\n",
       "      <td>0</td>\n",
       "    </tr>\n",
       "    <tr>\n",
       "      <th>1</th>\n",
       "      <td>188.000000</td>\n",
       "      <td>24.0</td>\n",
       "      <td>1804.0</td>\n",
       "      <td>4.0</td>\n",
       "      <td>2.0</td>\n",
       "      <td>2.0</td>\n",
       "      <td>3.0</td>\n",
       "      <td>0</td>\n",
       "    </tr>\n",
       "    <tr>\n",
       "      <th>2</th>\n",
       "      <td>182.305173</td>\n",
       "      <td>49.0</td>\n",
       "      <td>569.0</td>\n",
       "      <td>4.0</td>\n",
       "      <td>2.0</td>\n",
       "      <td>1.0</td>\n",
       "      <td>2.0</td>\n",
       "      <td>0</td>\n",
       "    </tr>\n",
       "    <tr>\n",
       "      <th>3</th>\n",
       "      <td>176.000000</td>\n",
       "      <td>134.0</td>\n",
       "      <td>739.0</td>\n",
       "      <td>4.0</td>\n",
       "      <td>2.0</td>\n",
       "      <td>2.0</td>\n",
       "      <td>3.0</td>\n",
       "      <td>0</td>\n",
       "    </tr>\n",
       "    <tr>\n",
       "      <th>4</th>\n",
       "      <td>178.333333</td>\n",
       "      <td>10.0</td>\n",
       "      <td>1196.0</td>\n",
       "      <td>3.0</td>\n",
       "      <td>0.0</td>\n",
       "      <td>1.0</td>\n",
       "      <td>1.0</td>\n",
       "      <td>0</td>\n",
       "    </tr>\n",
       "  </tbody>\n",
       "</table>\n",
       "</div>"
      ],
      "text/plain": [
       "    amplitude   mu_x    mu_y  mu_z  sigma_x  sigma_y  sigma_z  frame\n",
       "0  175.000000   19.0  1813.0   3.0      2.0      1.0      2.0      0\n",
       "1  188.000000   24.0  1804.0   4.0      2.0      2.0      3.0      0\n",
       "2  182.305173   49.0   569.0   4.0      2.0      1.0      2.0      0\n",
       "3  176.000000  134.0   739.0   4.0      2.0      2.0      3.0      0\n",
       "4  178.333333   10.0  1196.0   3.0      0.0      1.0      1.0      0"
      ]
     },
     "execution_count": 3,
     "metadata": {},
     "output_type": "execute_result"
    }
   ],
   "source": [
    "c3_combined_df.head()"
   ]
  },
  {
   "cell_type": "code",
   "execution_count": 4,
   "id": "5987ea54-b162-460d-8ca5-8ece9edd9b56",
   "metadata": {},
   "outputs": [
    {
     "data": {
      "text/plain": [
       "(618578, 8)"
      ]
     },
     "execution_count": 4,
     "metadata": {},
     "output_type": "execute_result"
    }
   ],
   "source": [
    "c3_combined_df.shape"
   ]
  },
  {
   "cell_type": "code",
   "execution_count": 5,
   "id": "693baa0a",
   "metadata": {},
   "outputs": [],
   "source": [
    "pickle_file_with_intensities = \"/Users/apple/Desktop/Akamatsu_Lab/Data/full_movie_output/spots_c3_all.pkl\"\n",
    "\n",
    "# Save the DataFrame to a pickle file\n",
    "c3_combined_df.to_pickle(pickle_file_with_intensities)"
   ]
  },
  {
   "cell_type": "code",
   "execution_count": null,
   "id": "ee3d6102-3ab0-4274-863b-11ca082cd47f",
   "metadata": {},
   "outputs": [],
   "source": []
  }
 ],
 "metadata": {
  "kernelspec": {
   "display_name": "Python 3 (ipykernel)",
   "language": "python",
   "name": "python3"
  },
  "language_info": {
   "codemirror_mode": {
    "name": "ipython",
    "version": 3
   },
   "file_extension": ".py",
   "mimetype": "text/x-python",
   "name": "python",
   "nbconvert_exporter": "python",
   "pygments_lexer": "ipython3",
   "version": "3.10.13"
  }
 },
 "nbformat": 4,
 "nbformat_minor": 5
}
