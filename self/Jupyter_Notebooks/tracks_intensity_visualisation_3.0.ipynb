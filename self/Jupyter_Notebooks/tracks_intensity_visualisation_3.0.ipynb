{
 "cells": [
  {
   "cell_type": "code",
   "execution_count": 1,
   "id": "46d9a76f",
   "metadata": {},
   "outputs": [],
   "source": [
    "from os import path\n",
    "import pandas as pd\n",
    "from IPython.display import display\n",
    "from matplotlib import pyplot as plt\n",
    "import napari\n",
    "from skimage import io\n",
    "import matplotlib.pyplot as plt\n",
    "import seaborn as sns\n",
    "import numpy as np\n",
    "import plotly.graph_objects as go\n",
    "from plotly.subplots import make_subplots\n",
    "import plotly.express as px\n",
    "\n",
    "\n",
    "plt.rcParams[\"font.family\"] = \"\""
   ]
  },
  {
   "cell_type": "code",
   "execution_count": 22,
   "id": "4f12778e",
   "metadata": {},
   "outputs": [],
   "source": [
    "def max_z_track_visualisation(track_of_interest,raw_image,main_tracking_df):\n",
    "    \n",
    "    \n",
    "    current_track = main_tracking_df[main_tracking_df['track_id'] == track_of_interest]\n",
    "    #A black image with all pixels set to zero\n",
    "    empty_layer = np.zeros_like(raw_image_3)\n",
    "\n",
    "    # Loop through tracks and set values in the volume\n",
    "    for index, track in current_track.iterrows():\n",
    "        frame, mu_z, mu_y, mu_x = int(track['frame']), track['mu_z'], track['mu_y'], track['mu_x']\n",
    "        #sigma_z, sigma_y, sigma_x = track['sigma_z'], track['sigma_y'], track['sigma_x']\n",
    "        sigma_z = 4\n",
    "        sigma_y = 2\n",
    "        sigma_x = 2\n",
    "\n",
    "        # Define the bounding box based on center and sigma\n",
    "        z_start, z_end = int(mu_z - 3 * sigma_z), int(mu_z + 3 * sigma_z)\n",
    "        y_start, y_end = int(mu_y - 3 * sigma_y), int(mu_y + 3 * sigma_y)\n",
    "        x_start, x_end = int(mu_x - 3 * sigma_x), int(mu_x + 3 * sigma_x)\n",
    "\n",
    "        # Clip the coordinates to be within the image bounds\n",
    "        z_start = max(0, z_start)\n",
    "        y_start = max(0, y_start)\n",
    "        x_start = max(0, x_start)\n",
    "        z_end = min(raw_image.shape[1], z_end)\n",
    "        y_end = min(raw_image.shape[2], y_end)\n",
    "        x_end = min(raw_image.shape[3], x_end)\n",
    "\n",
    "        # Extract the region from the raw image data\n",
    "        #print(frame,z_start,z_end, y_start,y_end, x_start,x_end)\n",
    "        #region_data = raw_image_3[frame, z_start:z_end, y_start:y_end, x_start:x_end]\n",
    "\n",
    "        # Set everything outside the region to zero\n",
    "        # Set the region inside the bounding box to the corresponding values in raw_image_data\n",
    "        empty_layer[frame, z_start:z_end, y_start:y_end, x_start:x_end] = raw_image[frame, z_start:z_end, y_start:y_end, x_start:x_end]\n",
    "        \n",
    "\n",
    "    # Assuming 'your_4d_array' is the numpy array with dimensions (Time, z, y, x)\n",
    "\n",
    "    # Get the shape of the array\n",
    "    time_points, z_values, y_values, x_values = empty_layer.shape\n",
    "\n",
    "    # Create an empty 3D array to store the result\n",
    "    result_array = np.zeros((time_points, y_values, x_values))\n",
    "\n",
    "    # Loop through each time point\n",
    "    for t in range(time_points):\n",
    "        # Calculate the sum along the z-axis\n",
    "        z_sum = np.sum(empty_layer[t, :, :, :], axis=(1, 2))\n",
    "\n",
    "        # Find the index of the maximum sum\n",
    "        max_sum_index = np.argmax(z_sum)\n",
    "\n",
    "        # Select the slice with the maximum sum\n",
    "        result_array[t, :, :] = empty_layer[t, max_sum_index, :, :]\n",
    "        \n",
    "    \n",
    "    return result_array\n",
    "\n",
    "    # Now, 'result_array' contains the 3D array with the maximum sum along the z-axis for each time point\n"
   ]
  },
  {
   "cell_type": "code",
   "execution_count": 3,
   "id": "dc79deb2",
   "metadata": {},
   "outputs": [],
   "source": [
    "def max_intensity_projection_track_visualisation(track_of_interest,raw_image,main_tracking_df):\n",
    "    \n",
    "    \n",
    "    current_track = main_tracking_df[main_tracking_df['track_id'] == track_of_interest]\n",
    "    #A black image with all pixels set to zero\n",
    "    empty_layer = np.zeros_like(raw_image)\n",
    "\n",
    "    # Loop through tracks and set values in the volume\n",
    "    for index, track in current_track.iterrows():\n",
    "        frame, mu_z, mu_y, mu_x = int(track['frame']), track['mu_z'], track['mu_y'], track['mu_x']\n",
    "        #sigma_z, sigma_y, sigma_x = track['sigma_z'], track['sigma_y'], track['sigma_x']\n",
    "        sigma_z = 4\n",
    "        sigma_y = 2\n",
    "        sigma_x = 2\n",
    "\n",
    "        # Define the bounding box based on center and sigma\n",
    "        z_start, z_end = int(mu_z - 3 * sigma_z), int(mu_z + 3 * sigma_z)\n",
    "        y_start, y_end = int(mu_y - 3 * sigma_y), int(mu_y + 3 * sigma_y)\n",
    "        x_start, x_end = int(mu_x - 3 * sigma_x), int(mu_x + 3 * sigma_x)\n",
    "\n",
    "        # Clip the coordinates to be within the image bounds\n",
    "        z_start = max(0, z_start)\n",
    "        y_start = max(0, y_start)\n",
    "        x_start = max(0, x_start)\n",
    "        z_end = min(raw_image.shape[1], z_end)\n",
    "        y_end = min(raw_image.shape[2], y_end)\n",
    "        x_end = min(raw_image.shape[3], x_end)\n",
    "\n",
    "        # Extract the region from the raw image data\n",
    "        #print(frame,z_start,z_end, y_start,y_end, x_start,x_end)\n",
    "        #region_data = raw_image_3[frame, z_start:z_end, y_start:y_end, x_start:x_end]\n",
    "\n",
    "        # Set everything outside the region to zero\n",
    "        # Set the region inside the bounding box to the corresponding values in raw_image_data\n",
    "        empty_layer[frame, z_start:z_end, y_start:y_end, x_start:x_end] = raw_image[frame, z_start:z_end, y_start:y_end, x_start:x_end]\n",
    "        \n",
    "\n",
    "    # Assuming 'your_4d_array' is the numpy array with dimensions (Time, z, y, x)\n",
    "\n",
    "    # Get the shape of the array\n",
    "    time_points, z_values, y_values, x_values = empty_layer.shape\n",
    "    \n",
    "    # Create an empty array to store the maximum intensity projections in each time \n",
    "    \n",
    "    mip_movie = []\n",
    "    # Loop through each time point\n",
    "    for t in range(time_points):\n",
    "        max_slice = np.max(empty_layer[t],axis=0)\n",
    "        mip_movie.append(max_slice)\n",
    "    \n",
    "    mip_movie = np.array(mip_movie)\n",
    "    return mip_movie\n"
   ]
  },
  {
   "cell_type": "code",
   "execution_count": 4,
   "id": "f6bb2e64",
   "metadata": {},
   "outputs": [],
   "source": [
    "def total_sum_track_visualisation(track_of_interest,raw_image,main_tracking_df):\n",
    "    \n",
    "    \n",
    "    current_track = main_tracking_df[main_tracking_df['track_id'] == track_of_interest]\n",
    "    #A black image with all pixels set to zero\n",
    "    empty_layer = np.zeros_like(raw_image_3)\n",
    "\n",
    "    # Loop through tracks and set values in the volume\n",
    "    for index, track in current_track.iterrows():\n",
    "        frame, mu_z, mu_y, mu_x = int(track['frame']), track['mu_z'], track['mu_y'], track['mu_x']\n",
    "        #sigma_z, sigma_y, sigma_x = track['sigma_z'], track['sigma_y'], track['sigma_x']\n",
    "        sigma_z = 4\n",
    "        sigma_y = 2\n",
    "        sigma_x = 2\n",
    "\n",
    "        # Define the bounding box based on center and sigma\n",
    "        z_start, z_end = int(mu_z - 3 * sigma_z), int(mu_z + 3 * sigma_z)\n",
    "        y_start, y_end = int(mu_y - 3 * sigma_y), int(mu_y + 3 * sigma_y)\n",
    "        x_start, x_end = int(mu_x - 3 * sigma_x), int(mu_x + 3 * sigma_x)\n",
    "\n",
    "        # Clip the coordinates to be within the image bounds\n",
    "        z_start = max(0, z_start)\n",
    "        y_start = max(0, y_start)\n",
    "        x_start = max(0, x_start)\n",
    "        z_end = min(raw_image.shape[1], z_end)\n",
    "        y_end = min(raw_image.shape[2], y_end)\n",
    "        x_end = min(raw_image.shape[3], x_end)\n",
    "\n",
    "        # Extract the region from the raw image data\n",
    "        #print(frame,z_start,z_end, y_start,y_end, x_start,x_end)\n",
    "        #region_data = raw_image_3[frame, z_start:z_end, y_start:y_end, x_start:x_end]\n",
    "\n",
    "        # Set everything outside the region to zero\n",
    "        # Set the region inside the bounding box to the corresponding values in raw_image_data\n",
    "        empty_layer[frame, z_start:z_end, y_start:y_end, x_start:x_end] = raw_image[frame, z_start:z_end, y_start:y_end, x_start:x_end]\n",
    "        \n",
    "\n",
    "    # Assuming 'your_4d_array' is the numpy array with dimensions (Time, z, y, x)\n",
    "\n",
    "    # Get the shape of the array\n",
    "    time_points, z_values, y_values, x_values = empty_layer.shape\n",
    "    \n",
    "    # Create an empty array to store the maximum intensity projections in each time \n",
    "    \n",
    "    total_sum_movie = []\n",
    "    # Loop through each time point\n",
    "    for t in range(time_points):\n",
    "        z_sum = np.sum(empty_layer[t],axis=0)\n",
    "        total_sum_movie.append(z_sum)\n",
    "    \n",
    "    total_sum_movie = np.array(total_sum_movie)\n",
    "    return total_sum_movie\n"
   ]
  },
  {
   "cell_type": "code",
   "execution_count": 5,
   "id": "9f2f02c4",
   "metadata": {},
   "outputs": [],
   "source": [
    "def crop_movie(image):\n",
    "    image_array = []\n",
    "    # Iterate through each frame in the time series\n",
    "    for i in range(image.shape[0]):\n",
    "        # Get non-zero indices in the current frame\n",
    "        non_zero_indices = np.nonzero(image[i, :, :])\n",
    "        if len(non_zero_indices[1]) > 0:\n",
    "            image_array.append(image[i,min(non_zero_indices[0]):max(non_zero_indices[0])+1,\n",
    "                                             min(non_zero_indices[1]):max(non_zero_indices[1])+1])\n",
    "    return image_array"
   ]
  },
  {
   "cell_type": "code",
   "execution_count": 6,
   "id": "5701e627",
   "metadata": {},
   "outputs": [],
   "source": [
    "def plot_raw_movie_v1(track_array):\n",
    "    # Assuming 'images_list' is a list containing NumPy arrays representing images\n",
    "    # Each NumPy array is assumed to be a 2D array (e.g., 30x30)\n",
    "\n",
    "    # Set the number of rows and columns for subplots\n",
    "    num_rows = 5\n",
    "    num_cols = 7\n",
    "\n",
    "    # Create subplots\n",
    "    fig, axes = plt.subplots(num_rows, num_cols, figsize=(12, 8))\n",
    "\n",
    "    # Flatten the axes array for easier indexing\n",
    "    axes = axes.flatten()\n",
    "\n",
    "    # Loop through the images and display them in subplots\n",
    "    for i in range(min(len(ans), num_rows * num_cols)):\n",
    "        axes[i].imshow(ans[i])  # Adjust cmap if needed\n",
    "        axes[i].axis('off')  # Turn off axis labels\n",
    "\n",
    "    # Adjust layout to prevent overlap of subplots\n",
    "    plt.tight_layout()\n",
    "\n",
    "    # Show the plot\n",
    "    plt.show()\n"
   ]
  },
  {
   "cell_type": "code",
   "execution_count": 7,
   "id": "b88823d1",
   "metadata": {},
   "outputs": [],
   "source": [
    "def plot_raw_movie(track_array):\n",
    "    \n",
    "    length_of_track = len(track_array)\n",
    "    # Set the number of rows and columns for subplots\n",
    "    num_cols = 7\n",
    "    num_rows = length_of_track // num_cols + 1\n",
    "\n",
    "    fig = make_subplots(rows=num_rows, cols=7)\n",
    "\n",
    "    r = 1\n",
    "    c = 1\n",
    "    for i in range(len(track_array)):\n",
    "        image = px.imshow(track_array[i], range_color = [0,200])\n",
    "        fig.add_trace(image.data[0], row = r, col = c)\n",
    "        if i != 0 and (i+1) % (num_cols) == 0: \n",
    "            r = r + 1\n",
    "            c = 1\n",
    "        else: \n",
    "            c = c + 1\n",
    "\n",
    "    return fig"
   ]
  },
  {
   "cell_type": "code",
   "execution_count": 8,
   "id": "d7dda823",
   "metadata": {},
   "outputs": [],
   "source": [
    "track_df = pd.read_pickle('/Users/apple/Desktop/Akamatsu_Lab/Lap_track/self/files/track_df_updated.pkl')\n",
    "filtered_tracks = pd.read_pickle('/Users/apple/Desktop/Akamatsu_Lab/Lap_track/self/files/filtered_tracks.pkl')\n",
    "# Replace 'your_file.tif' with the path to your 4D TIFF file\n",
    "file_path_3 = '/Users/apple/Desktop/Akamatsu_Lab/Lap_track/self/files/Channel3_complete.tif'\n",
    "# Load the TIFF file using skimage\n",
    "raw_image_3 = io.imread(file_path_3)\n",
    "# Replace 'your_file.tif' with the path to your 4D TIFF file\n",
    "file_path_2 = '/Users/apple/Desktop/Akamatsu_Lab/Lap_track/self/files/Channel2_complete.tif'\n",
    "# Load the TIFF file using skimage\n",
    "raw_image_2 = io.imread(file_path_2)"
   ]
  },
  {
   "cell_type": "code",
   "execution_count": 9,
   "id": "192e66f6",
   "metadata": {},
   "outputs": [
    {
     "data": {
      "text/html": [
       "<div>\n",
       "<style scoped>\n",
       "    .dataframe tbody tr th:only-of-type {\n",
       "        vertical-align: middle;\n",
       "    }\n",
       "\n",
       "    .dataframe tbody tr th {\n",
       "        vertical-align: top;\n",
       "    }\n",
       "\n",
       "    .dataframe thead th {\n",
       "        text-align: right;\n",
       "    }\n",
       "</style>\n",
       "<table border=\"1\" class=\"dataframe\">\n",
       "  <thead>\n",
       "    <tr style=\"text-align: right;\">\n",
       "      <th></th>\n",
       "      <th>track_id</th>\n",
       "      <th>c2_peak</th>\n",
       "      <th>c3_peak</th>\n",
       "      <th>track_length</th>\n",
       "      <th>start_frame</th>\n",
       "      <th>end_frame</th>\n",
       "      <th>peak_frame_c2</th>\n",
       "      <th>peak_start_c2</th>\n",
       "      <th>peak_frame_c3</th>\n",
       "      <th>peak_start_c3</th>\n",
       "    </tr>\n",
       "  </thead>\n",
       "  <tbody>\n",
       "    <tr>\n",
       "      <th>185</th>\n",
       "      <td>364</td>\n",
       "      <td>227.0</td>\n",
       "      <td>325.145821</td>\n",
       "      <td>25</td>\n",
       "      <td>0</td>\n",
       "      <td>24</td>\n",
       "      <td>22</td>\n",
       "      <td>22</td>\n",
       "      <td>7</td>\n",
       "      <td>7</td>\n",
       "    </tr>\n",
       "    <tr>\n",
       "      <th>216</th>\n",
       "      <td>415</td>\n",
       "      <td>195.0</td>\n",
       "      <td>289.600996</td>\n",
       "      <td>27</td>\n",
       "      <td>0</td>\n",
       "      <td>26</td>\n",
       "      <td>23</td>\n",
       "      <td>23</td>\n",
       "      <td>20</td>\n",
       "      <td>20</td>\n",
       "    </tr>\n",
       "    <tr>\n",
       "      <th>254</th>\n",
       "      <td>516</td>\n",
       "      <td>189.0</td>\n",
       "      <td>286.000000</td>\n",
       "      <td>21</td>\n",
       "      <td>1</td>\n",
       "      <td>21</td>\n",
       "      <td>6</td>\n",
       "      <td>5</td>\n",
       "      <td>19</td>\n",
       "      <td>18</td>\n",
       "    </tr>\n",
       "    <tr>\n",
       "      <th>255</th>\n",
       "      <td>519</td>\n",
       "      <td>195.0</td>\n",
       "      <td>340.213324</td>\n",
       "      <td>37</td>\n",
       "      <td>1</td>\n",
       "      <td>37</td>\n",
       "      <td>7</td>\n",
       "      <td>6</td>\n",
       "      <td>5</td>\n",
       "      <td>4</td>\n",
       "    </tr>\n",
       "    <tr>\n",
       "      <th>266</th>\n",
       "      <td>541</td>\n",
       "      <td>211.0</td>\n",
       "      <td>321.000000</td>\n",
       "      <td>22</td>\n",
       "      <td>1</td>\n",
       "      <td>22</td>\n",
       "      <td>9</td>\n",
       "      <td>8</td>\n",
       "      <td>9</td>\n",
       "      <td>8</td>\n",
       "    </tr>\n",
       "  </tbody>\n",
       "</table>\n",
       "</div>"
      ],
      "text/plain": [
       "     track_id  c2_peak     c3_peak  track_length  start_frame  end_frame  \\\n",
       "185       364    227.0  325.145821            25            0         24   \n",
       "216       415    195.0  289.600996            27            0         26   \n",
       "254       516    189.0  286.000000            21            1         21   \n",
       "255       519    195.0  340.213324            37            1         37   \n",
       "266       541    211.0  321.000000            22            1         22   \n",
       "\n",
       "     peak_frame_c2  peak_start_c2  peak_frame_c3  peak_start_c3  \n",
       "185             22             22              7              7  \n",
       "216             23             23             20             20  \n",
       "254              6              5             19             18  \n",
       "255              7              6              5              4  \n",
       "266              9              8              9              8  "
      ]
     },
     "execution_count": 9,
     "metadata": {},
     "output_type": "execute_result"
    }
   ],
   "source": [
    "filtered_tracks[15:20]"
   ]
  },
  {
   "cell_type": "code",
   "execution_count": 10,
   "id": "17467e89",
   "metadata": {},
   "outputs": [
    {
     "data": {
      "text/plain": [
       "<matplotlib.legend.Legend at 0x7fd68beeabf0>"
      ]
     },
     "execution_count": 10,
     "metadata": {},
     "output_type": "execute_result"
    },
    {
     "data": {
      "image/png": "[encoded data removed]",
      "text/plain": [
       "<Figure size 640x480 with 1 Axes>"
      ]
     },
     "metadata": {},
     "output_type": "display_data"
    }
   ],
   "source": [
    "current_track = track_df[track_df['track_id'] == 91]\n",
    "plt.title(f'Track 91, length {len(current_track)}')\n",
    "plt.plot(current_track['frame'],current_track['amplitude'], color ='red', label = 'Channel 3')\n",
    "plt.plot(current_track['frame'], current_track['c2_amp'], color = 'green', label = 'Channel 2')\n",
    "plt.xlabel('frame')\n",
    "plt.ylabel('intensity')\n",
    "plt.legend()"
   ]
  },
  {
   "cell_type": "code",
   "execution_count": 11,
   "id": "7c7a9ea6",
   "metadata": {},
   "outputs": [
    {
     "data": {
      "text/html": [
       "<div>\n",
       "<style scoped>\n",
       "    .dataframe tbody tr th:only-of-type {\n",
       "        vertical-align: middle;\n",
       "    }\n",
       "\n",
       "    .dataframe tbody tr th {\n",
       "        vertical-align: top;\n",
       "    }\n",
       "\n",
       "    .dataframe thead th {\n",
       "        text-align: right;\n",
       "    }\n",
       "</style>\n",
       "<table border=\"1\" class=\"dataframe\">\n",
       "  <thead>\n",
       "    <tr style=\"text-align: right;\">\n",
       "      <th></th>\n",
       "      <th>frame</th>\n",
       "      <th>index</th>\n",
       "      <th>amplitude</th>\n",
       "      <th>mu_x</th>\n",
       "      <th>mu_y</th>\n",
       "      <th>mu_z</th>\n",
       "      <th>sigma_x</th>\n",
       "      <th>sigma_y</th>\n",
       "      <th>sigma_z</th>\n",
       "      <th>frame_y</th>\n",
       "      <th>...</th>\n",
       "      <th>track_id</th>\n",
       "      <th>c2_amp</th>\n",
       "      <th>c2_peak</th>\n",
       "      <th>c2_peak_x</th>\n",
       "      <th>c2_peak_y</th>\n",
       "      <th>c2_peak_z</th>\n",
       "      <th>c3_mean_amp</th>\n",
       "      <th>c2_peak_mean</th>\n",
       "      <th>c2_voxel_sum</th>\n",
       "      <th>c3_voxel_sum</th>\n",
       "    </tr>\n",
       "  </thead>\n",
       "  <tbody>\n",
       "    <tr>\n",
       "      <th>0</th>\n",
       "      <td>0</td>\n",
       "      <td>0</td>\n",
       "      <td>206.593249</td>\n",
       "      <td>11.0</td>\n",
       "      <td>12.0</td>\n",
       "      <td>0.0</td>\n",
       "      <td>2.0</td>\n",
       "      <td>2.0</td>\n",
       "      <td>4.0</td>\n",
       "      <td>0</td>\n",
       "      <td>...</td>\n",
       "      <td>0</td>\n",
       "      <td>122.947826</td>\n",
       "      <td>152.0</td>\n",
       "      <td>9.0</td>\n",
       "      <td>14.0</td>\n",
       "      <td>2.0</td>\n",
       "      <td>163.682353</td>\n",
       "      <td>125.500000</td>\n",
       "      <td>11295</td>\n",
       "      <td>13913</td>\n",
       "    </tr>\n",
       "    <tr>\n",
       "      <th>1</th>\n",
       "      <td>0</td>\n",
       "      <td>1</td>\n",
       "      <td>191.000000</td>\n",
       "      <td>36.0</td>\n",
       "      <td>88.0</td>\n",
       "      <td>1.0</td>\n",
       "      <td>2.0</td>\n",
       "      <td>1.0</td>\n",
       "      <td>2.0</td>\n",
       "      <td>0</td>\n",
       "      <td>...</td>\n",
       "      <td>1</td>\n",
       "      <td>116.233333</td>\n",
       "      <td>143.0</td>\n",
       "      <td>34.0</td>\n",
       "      <td>87.0</td>\n",
       "      <td>2.0</td>\n",
       "      <td>138.233333</td>\n",
       "      <td>114.826667</td>\n",
       "      <td>20068</td>\n",
       "      <td>19928</td>\n",
       "    </tr>\n",
       "    <tr>\n",
       "      <th>2</th>\n",
       "      <td>0</td>\n",
       "      <td>2</td>\n",
       "      <td>231.007679</td>\n",
       "      <td>40.0</td>\n",
       "      <td>141.0</td>\n",
       "      <td>1.0</td>\n",
       "      <td>2.0</td>\n",
       "      <td>2.0</td>\n",
       "      <td>2.0</td>\n",
       "      <td>0</td>\n",
       "      <td>...</td>\n",
       "      <td>2</td>\n",
       "      <td>122.330000</td>\n",
       "      <td>142.0</td>\n",
       "      <td>41.0</td>\n",
       "      <td>142.0</td>\n",
       "      <td>0.0</td>\n",
       "      <td>153.940000</td>\n",
       "      <td>122.853333</td>\n",
       "      <td>15316</td>\n",
       "      <td>22805</td>\n",
       "    </tr>\n",
       "    <tr>\n",
       "      <th>3</th>\n",
       "      <td>0</td>\n",
       "      <td>3</td>\n",
       "      <td>185.152538</td>\n",
       "      <td>40.0</td>\n",
       "      <td>58.0</td>\n",
       "      <td>1.0</td>\n",
       "      <td>2.0</td>\n",
       "      <td>1.0</td>\n",
       "      <td>3.0</td>\n",
       "      <td>0</td>\n",
       "      <td>...</td>\n",
       "      <td>3</td>\n",
       "      <td>117.626667</td>\n",
       "      <td>142.0</td>\n",
       "      <td>42.0</td>\n",
       "      <td>59.0</td>\n",
       "      <td>0.0</td>\n",
       "      <td>141.280000</td>\n",
       "      <td>118.016667</td>\n",
       "      <td>14557</td>\n",
       "      <td>20358</td>\n",
       "    </tr>\n",
       "    <tr>\n",
       "      <th>4</th>\n",
       "      <td>0</td>\n",
       "      <td>4</td>\n",
       "      <td>202.000000</td>\n",
       "      <td>46.0</td>\n",
       "      <td>73.0</td>\n",
       "      <td>1.0</td>\n",
       "      <td>2.0</td>\n",
       "      <td>2.0</td>\n",
       "      <td>3.0</td>\n",
       "      <td>0</td>\n",
       "      <td>...</td>\n",
       "      <td>4</td>\n",
       "      <td>115.112000</td>\n",
       "      <td>141.0</td>\n",
       "      <td>45.0</td>\n",
       "      <td>74.0</td>\n",
       "      <td>3.0</td>\n",
       "      <td>147.768000</td>\n",
       "      <td>115.502857</td>\n",
       "      <td>23194</td>\n",
       "      <td>21963</td>\n",
       "    </tr>\n",
       "  </tbody>\n",
       "</table>\n",
       "<p>5 rows × 21 columns</p>\n",
       "</div>"
      ],
      "text/plain": [
       "   frame  index   amplitude  mu_x   mu_y  mu_z  sigma_x  sigma_y  sigma_z  \\\n",
       "0      0      0  206.593249  11.0   12.0   0.0      2.0      2.0      4.0   \n",
       "1      0      1  191.000000  36.0   88.0   1.0      2.0      1.0      2.0   \n",
       "2      0      2  231.007679  40.0  141.0   1.0      2.0      2.0      2.0   \n",
       "3      0      3  185.152538  40.0   58.0   1.0      2.0      1.0      3.0   \n",
       "4      0      4  202.000000  46.0   73.0   1.0      2.0      2.0      3.0   \n",
       "\n",
       "   frame_y  ...  track_id      c2_amp  c2_peak  c2_peak_x  c2_peak_y  \\\n",
       "0        0  ...         0  122.947826    152.0        9.0       14.0   \n",
       "1        0  ...         1  116.233333    143.0       34.0       87.0   \n",
       "2        0  ...         2  122.330000    142.0       41.0      142.0   \n",
       "3        0  ...         3  117.626667    142.0       42.0       59.0   \n",
       "4        0  ...         4  115.112000    141.0       45.0       74.0   \n",
       "\n",
       "   c2_peak_z  c3_mean_amp  c2_peak_mean  c2_voxel_sum  c3_voxel_sum  \n",
       "0        2.0   163.682353    125.500000         11295         13913  \n",
       "1        2.0   138.233333    114.826667         20068         19928  \n",
       "2        0.0   153.940000    122.853333         15316         22805  \n",
       "3        0.0   141.280000    118.016667         14557         20358  \n",
       "4        3.0   147.768000    115.502857         23194         21963  \n",
       "\n",
       "[5 rows x 21 columns]"
      ]
     },
     "execution_count": 11,
     "metadata": {},
     "output_type": "execute_result"
    }
   ],
   "source": [
    "track_df.head()"
   ]
  },
  {
   "cell_type": "code",
   "execution_count": 25,
   "id": "d91b5049",
   "metadata": {},
   "outputs": [],
   "source": [
    "def plot_raw_movie(plot_type, track_number = 36, raw_image = raw_image_3, main_tracking_df = track_df):\n",
    "    \n",
    "    \n",
    "    if plot_type == 'max_intensity_projection':      \n",
    "        result_array = max_intensity_projection_track_visualisation(track_number,raw_image,main_tracking_df)\n",
    "        track_array = crop_movie(result_array)\n",
    "    elif plot_type == 'max_z_slice':      \n",
    "        result_array = max_z_track_visualisation(track_number,raw_image,main_tracking_df)\n",
    "        track_array = crop_movie(result_array)\n",
    "    elif plot_type == 'total_z_sum':      \n",
    "        result_array = total_sum_track_visualisation(track_number,raw_image,main_tracking_df)\n",
    "        track_array = crop_movie(result_array)\n",
    "    \n",
    "    length_of_track = len(track_array)\n",
    "    # Set the number of rows and columns for subplots\n",
    "    num_cols = 7\n",
    "    num_rows = length_of_track // num_cols + 1\n",
    "\n",
    "    fig = make_subplots(rows=num_rows, cols=7)\n",
    "\n",
    "    r = 1\n",
    "    c = 1\n",
    "    for i in range(len(track_array)):\n",
    "        image = px.imshow(track_array[i])\n",
    "        fig.add_trace(image.data[0], row = r, col = c)\n",
    "        if i != 0 and (i+1) % (num_cols) == 0: \n",
    "            r = r + 1\n",
    "            c = 1\n",
    "        else: \n",
    "            c = c + 1\n",
    "    r = 1 \n",
    "    c = 1\n",
    "\n",
    "    return fig"
   ]
  },
  {
   "cell_type": "code",
   "execution_count": 30,
   "id": "a8123244",
   "metadata": {},
   "outputs": [
    {
     "data": {
      "application/vnd.plotly.v1+json": {
       "config": {
        "plotlyServerURL": "https://plot.ly"
       },
       "data": [
        {
         "coloraxis": "coloraxis",
         "hovertemplate": "x: %{x}<br>y: %{y}<br>color: %{z}<extra></extra>",
         "name": "0",
         "type": "heatmap",
         "xaxis": "x",
         "yaxis": "y",
         "z": [
          [
           162,
           149,
           150,
           155,
           140,
           145,
           145,
           155,
           156,
           169,
           161,
           154
          ],
          [
           158,
           159,
           162,
           149,
           156,
           142,
           145,
           152,
           159,
           168,
           152,
           160
          ],
          [
           150,
           151,
           147,
           148,
           157,
           156,
           151,
           153,
           150,
           171,
           154,
           175
          ],
          [
           144,
           151,
           167,
           157,
           148,
           150,
           163,
           168,
           167,
           154,
           149,
           151
          ],
          [
           160,
           159,
           160,
           164,
           160,
           165,
           176,
           199,
           210,
           181,
           173,
           160
          ],
          [
           156,
           179,
           163,
           173,
           197,
           216,
           251,
           284,
           243,
           217,
           190,
           189
          ],
          [
           165,
           165,
           189,
           199,
           199,
           220,
           246,
           256,
           243,
           218,
           210,
           203
          ],
          [
           194,
           187,
           170,
           168,
           182,
           192,
           202,
           230,
           223,
           241,
           244,
           238
          ],
          [
           216,
           175,
           172,
           176,
           168,
           175,
           211,
           207,
           242,
           274,
           278,
           254
          ],
          [
           178,
           174,
           170,
           175,
           182,
           177,
           185,
           221,
           218,
           204,
           223,
           219
          ],
          [
           177,
           196,
           171,
           183,
           190,
           171,
           180,
           187,
           172,
           186,
           201,
           193
          ],
          [
           164,
           168,
           169,
           186,
           178,
           186,
           170,
           172,
           167,
           162,
           167,
           183
          ]
         ]
        },
        {
         "coloraxis": "coloraxis",
         "hovertemplate": "x: %{x}<br>y: %{y}<br>color: %{z}<extra></extra>",
         "name": "0",
         "type": "heatmap",
         "xaxis": "x2",
         "yaxis": "y2",
         "z": [
          [
           143,
           150,
           148,
           151,
           144,
           147,
           153,
           162,
           173,
           190,
           176,
           165
          ],
          [
           140,
           147,
           140,
           139,
           149,
           144,
           158,
           171,
           154,
           151,
           162,
           165
          ],
          [
           154,
           164,
           159,
           158,
           145,
           148,
           156,
           144,
           157,
           163,
           165,
           173
          ],
          [
           158,
           163,
           164,
           147,
           165,
           158,
           146,
           150,
           161,
           153,
           168,
           179
          ],
          [
           143,
           143,
           162,
           168,
           166,
           171,
           153,
           159,
           174,
           170,
           168,
           172
          ],
          [
           153,
           163,
           172,
           168,
           177,
           185,
           199,
           186,
           195,
           179,
           171,
           174
          ],
          [
           156,
           159,
           174,
           195,
           216,
           254,
           240,
           243,
           234,
           208,
           180,
           169
          ],
          [
           148,
           168,
           182,
           198,
           230,
           240,
           284,
           243,
           240,
           232,
           191,
           215
          ],
          [
           177,
           168,
           179,
           202,
           219,
           199,
           225,
           231,
           237,
           245,
           237,
           235
          ],
          [
           176,
           179,
           199,
           207,
           193,
           220,
           231,
           222,
           254,
           261,
           239,
           225
          ],
          [
           172,
           183,
           178,
           174,
           195,
           207,
           200,
           192,
           198,
           230,
           227,
           232
          ],
          [
           177,
           170,
           171,
           175,
           175,
           197,
           209,
           177,
           186,
           188,
           199,
           186
          ]
         ]
        },
        {
         "coloraxis": "coloraxis",
         "hovertemplate": "x: %{x}<br>y: %{y}<br>color: %{z}<extra></extra>",
         "name": "0",
         "type": "heatmap",
         "xaxis": "x3",
         "yaxis": "y3",
         "z": [
          [
           150,
           152,
           181,
           165,
           174,
           170,
           158,
           160,
           169,
           159,
           191,
           190
          ],
          [
           152,
           163,
           148,
           158,
           154,
           158,
           161,
           150,
           160,
           179,
           201,
           223
          ],
          [
           160,
           149,
           147,
           152,
           170,
           156,
           159,
           166,
           162,
           183,
           196,
           203
          ],
          [
           187,
           174,
           204,
           211,
           189,
           163,
           180,
           163,
           172,
           164,
           169,
           175
          ],
          [
           200,
           235,
           251,
           232,
           228,
           203,
           187,
           196,
           181,
           191,
           188,
           184
          ],
          [
           225,
           241,
           232,
           217,
           230,
           206,
           206,
           199,
           201,
           200,
           213,
           211
          ],
          [
           193,
           194,
           198,
           232,
           262,
           272,
           247,
           210,
           243,
           253,
           229,
           231
          ],
          [
           209,
           202,
           204,
           214,
           215,
           250,
           276,
           268,
           235,
           224,
           214,
           200
          ],
          [
           192,
           188,
           181,
           203,
           226,
           234,
           234,
           229,
           230,
           218,
           187,
           186
          ],
          [
           210,
           168,
           195,
           202,
           183,
           184,
           181,
           205,
           198,
           205,
           208,
           202
          ],
          [
           202,
           191,
           191,
           193,
           198,
           171,
           185,
           163,
           178,
           166,
           174,
           172
          ],
          [
           179,
           176,
           161,
           166,
           173,
           177,
           166,
           166,
           185,
           221,
           209,
           193
          ]
         ]
        },
        {
         "coloraxis": "coloraxis",
         "hovertemplate": "x: %{x}<br>y: %{y}<br>color: %{z}<extra></extra>",
         "name": "0",
         "type": "heatmap",
         "xaxis": "x4",
         "yaxis": "y4",
         "z": [
          [
           149,
           147,
           146,
           137,
           142,
           141,
           148,
           175,
           157,
           174,
           172,
           179
          ],
          [
           144,
           136,
           143,
           151,
           150,
           150,
           152,
           155,
           157,
           157,
           159,
           163
          ],
          [
           134,
           148,
           139,
           143,
           149,
           143,
           145,
           142,
           151,
           159,
           160,
           158
          ],
          [
           158,
           161,
           152,
           153,
           157,
           149,
           157,
           155,
           160,
           177,
           168,
           177
          ],
          [
           150,
           143,
           147,
           148,
           164,
           161,
           177,
           172,
           158,
           163,
           165,
           172
          ],
          [
           144,
           149,
           164,
           171,
           184,
           194,
           189,
           193,
           177,
           161,
           163,
           204
          ],
          [
           164,
           166,
           167,
           178,
           192,
           209,
           224,
           221,
           194,
           196,
           174,
           177
          ],
          [
           157,
           163,
           169,
           170,
           192,
           212,
           238,
           257,
           238,
           212,
           191,
           187
          ],
          [
           184,
           161,
           170,
           178,
           185,
           206,
           246,
           247,
           234,
           232,
           225,
           223
          ],
          [
           177,
           178,
           182,
           184,
           211,
           204,
           197,
           213,
           209,
           233,
           247,
           238
          ],
          [
           176,
           158,
           175,
           190,
           183,
           203,
           224,
           192,
           213,
           219,
           245,
           249
          ],
          [
           168,
           176,
           173,
           179,
           182,
           185,
           195,
           190,
           193,
           180,
           206,
           199
          ]
         ]
        },
        {
         "coloraxis": "coloraxis",
         "hovertemplate": "x: %{x}<br>y: %{y}<br>color: %{z}<extra></extra>",
         "name": "0",
         "type": "heatmap",
         "xaxis": "x5",
         "yaxis": "y5",
         "z": [
          [
           159,
           150,
           150,
           140,
           147,
           152,
           150,
           149,
           160,
           166,
           182,
           172
          ],
          [
           157,
           143,
           147,
           140,
           148,
           159,
           153,
           161,
           156,
           189,
           178,
           178
          ],
          [
           148,
           159,
           161,
           156,
           155,
           162,
           159,
           160,
           177,
           179,
           197,
           224
          ],
          [
           161,
           158,
           165,
           164,
           183,
           207,
           190,
           168,
           167,
           163,
           171,
           189
          ],
          [
           162,
           166,
           175,
           182,
           235,
           209,
           190,
           190,
           189,
           193,
           179,
           178
          ],
          [
           164,
           173,
           207,
           217,
           215,
           232,
           242,
           223,
           193,
           198,
           198,
           197
          ],
          [
           182,
           181,
           189,
           209,
           237,
           226,
           252,
           253,
           237,
           211,
           219,
           221
          ],
          [
           167,
           170,
           179,
           187,
           216,
           244,
           232,
           234,
           242,
           221,
           200,
           201
          ],
          [
           177,
           182,
           198,
           206,
           203,
           214,
           248,
           238,
           227,
           235,
           231,
           230
          ],
          [
           176,
           176,
           164,
           169,
           194,
           188,
           177,
           181,
           187,
           187,
           187,
           197
          ],
          [
           181,
           170,
           174,
           164,
           167,
           161,
           165,
           181,
           180,
           176,
           168,
           172
          ],
          [
           181,
           177,
           172,
           205,
           185,
           163,
           178,
           204,
           194,
           170,
           174,
           217
          ]
         ]
        },
        {
         "coloraxis": "coloraxis",
         "hovertemplate": "x: %{x}<br>y: %{y}<br>color: %{z}<extra></extra>",
         "name": "0",
         "type": "heatmap",
         "xaxis": "x6",
         "yaxis": "y6",
         "z": [
          [
           148,
           139,
           131,
           135,
           141,
           149,
           146,
           145,
           145,
           158,
           182,
           167
          ],
          [
           148,
           155,
           139,
           145,
           148,
           144,
           153,
           149,
           146,
           155,
           163,
           162
          ],
          [
           154,
           153,
           161,
           154,
           167,
           159,
           147,
           156,
           158,
           161,
           175,
           173
          ],
          [
           153,
           156,
           155,
           151,
           151,
           155,
           157,
           149,
           154,
           162,
           181,
           179
          ],
          [
           147,
           146,
           151,
           151,
           161,
           178,
           183,
           172,
           171,
           168,
           166,
           179
          ],
          [
           164,
           185,
           193,
           202,
           222,
           203,
           230,
           190,
           207,
           193,
           169,
           179
          ],
          [
           170,
           175,
           183,
           214,
           211,
           215,
           243,
           219,
           203,
           196,
           208,
           214
          ],
          [
           172,
           176,
           178,
           181,
           214,
           247,
           251,
           226,
           210,
           229,
           245,
           251
          ],
          [
           185,
           165,
           174,
           179,
           190,
           205,
           219,
           221,
           231,
           240,
           242,
           230
          ],
          [
           167,
           163,
           189,
           210,
           188,
           185,
           213,
           208,
           213,
           208,
           230,
           218
          ],
          [
           172,
           176,
           179,
           172,
           174,
           178,
           176,
           190,
           176,
           197,
           219,
           222
          ],
          [
           172,
           170,
           183,
           179,
           173,
           169,
           169,
           157,
           170,
           192,
           176,
           168
          ]
         ]
        },
        {
         "coloraxis": "coloraxis",
         "hovertemplate": "x: %{x}<br>y: %{y}<br>color: %{z}<extra></extra>",
         "name": "0",
         "type": "heatmap",
         "xaxis": "x7",
         "yaxis": "y7",
         "z": [
          [
           142,
           142,
           155,
           164,
           145,
           146,
           161,
           159,
           149,
           159,
           160,
           158
          ],
          [
           154,
           147,
           148,
           145,
           151,
           150,
           142,
           157,
           144,
           160,
           160,
           159
          ],
          [
           148,
           142,
           145,
           151,
           145,
           144,
           147,
           147,
           145,
           160,
           154,
           159
          ],
          [
           148,
           159,
           149,
           147,
           153,
           144,
           164,
           153,
           156,
           154,
           158,
           161
          ],
          [
           139,
           145,
           154,
           157,
           161,
           151,
           151,
           146,
           155,
           161,
           159,
           157
          ],
          [
           148,
           151,
           150,
           147,
           156,
           169,
           170,
           173,
           189,
           186,
           177,
           159
          ],
          [
           156,
           168,
           180,
           182,
           196,
           219,
           231,
           235,
           204,
           183,
           177,
           174
          ],
          [
           157,
           169,
           177,
           208,
           202,
           224,
           242,
           268,
           249,
           240,
           212,
           212
          ],
          [
           173,
           171,
           174,
           189,
           188,
           197,
           213,
           221,
           223,
           226,
           232,
           248
          ],
          [
           176,
           169,
           171,
           178,
           182,
           207,
           203,
           203,
           214,
           227,
           236,
           249
          ],
          [
           185,
           162,
           165,
           180,
           200,
           190,
           208,
           234,
           198,
           206,
           211,
           213
          ],
          [
           171,
           166,
           175,
           179,
           202,
           190,
           171,
           180,
           195,
           203,
           191,
           209
          ]
         ]
        },
        {
         "coloraxis": "coloraxis",
         "hovertemplate": "x: %{x}<br>y: %{y}<br>color: %{z}<extra></extra>",
         "name": "0",
         "type": "heatmap",
         "xaxis": "x8",
         "yaxis": "y8",
         "z": [
          [
           146,
           146,
           151,
           155,
           145,
           142,
           151,
           151,
           150,
           156,
           162,
           169
          ],
          [
           147,
           149,
           151,
           150,
           150,
           152,
           156,
           150,
           148,
           153,
           169,
           172
          ],
          [
           161,
           164,
           146,
           148,
           151,
           151,
           151,
           158,
           149,
           153,
           181,
           184
          ],
          [
           148,
           156,
           155,
           155,
           157,
           144,
           156,
           173,
           156,
           156,
           170,
           176
          ],
          [
           151,
           154,
           159,
           190,
           164,
           176,
           172,
           172,
           172,
           170,
           176,
           171
          ],
          [
           149,
           163,
           168,
           180,
           213,
           217,
           227,
           232,
           223,
           177,
           168,
           173
          ],
          [
           162,
           174,
           182,
           192,
           189,
           205,
           224,
           229,
           214,
           204,
           229,
           210
          ],
          [
           183,
           176,
           168,
           196,
           197,
           210,
           227,
           224,
           235,
           214,
           239,
           231
          ],
          [
           163,
           179,
           181,
           198,
           194,
           192,
           228,
           208,
           217,
           241,
           234,
           246
          ],
          [
           174,
           172,
           180,
           187,
           191,
           202,
           202,
           188,
           199,
           233,
           248,
           242
          ],
          [
           173,
           181,
           194,
           187,
           196,
           195,
           176,
           168,
           178,
           179,
           209,
           199
          ],
          [
           165,
           197,
           181,
           162,
           173,
           169,
           178,
           160,
           166,
           171,
           165,
           179
          ]
         ]
        },
        {
         "coloraxis": "coloraxis",
         "hovertemplate": "x: %{x}<br>y: %{y}<br>color: %{z}<extra></extra>",
         "name": "0",
         "type": "heatmap",
         "xaxis": "x9",
         "yaxis": "y9",
         "z": [
          [
           146,
           147,
           144,
           144,
           154,
           147,
           142,
           144,
           151,
           161,
           153,
           145
          ],
          [
           145,
           139,
           159,
           143,
           146,
           147,
           148,
           146,
           140,
           141,
           147,
           158
          ],
          [
           140,
           156,
           137,
           142,
           151,
           149,
           146,
           152,
           144,
           144,
           146,
           152
          ],
          [
           146,
           145,
           150,
           148,
           149,
           143,
           153,
           154,
           158,
           157,
           155,
           168
          ],
          [
           139,
           141,
           154,
           153,
           162,
           155,
           152,
           161,
           149,
           156,
           162,
           157
          ],
          [
           154,
           149,
           148,
           152,
           155,
           164,
           176,
           170,
           179,
           181,
           172,
           162
          ],
          [
           149,
           149,
           162,
           168,
           168,
           179,
           196,
           203,
           204,
           212,
           197,
           214
          ],
          [
           168,
           158,
           172,
           187,
           171,
           232,
           252,
           240,
           218,
           242,
           234,
           237
          ],
          [
           205,
           172,
           167,
           182,
           174,
           183,
           196,
           203,
           197,
           232,
           244,
           242
          ],
          [
           208,
           183,
           178,
           197,
           203,
           194,
           224,
           208,
           213,
           233,
           247,
           241
          ],
          [
           210,
           182,
           179,
           188,
           225,
           231,
           208,
           192,
           222,
           204,
           212,
           216
          ],
          [
           186,
           187,
           182,
           168,
           186,
           174,
           173,
           170,
           175,
           181,
           181,
           195
          ]
         ]
        },
        {
         "coloraxis": "coloraxis",
         "hovertemplate": "x: %{x}<br>y: %{y}<br>color: %{z}<extra></extra>",
         "name": "0",
         "type": "heatmap",
         "xaxis": "x10",
         "yaxis": "y10",
         "z": [
          [
           140,
           141,
           158,
           156,
           150,
           151,
           152,
           151,
           154,
           178,
           175,
           173
          ],
          [
           152,
           150,
           159,
           145,
           150,
           150,
           152,
           158,
           160,
           161,
           168,
           185
          ],
          [
           159,
           165,
           163,
           154,
           151,
           149,
           155,
           160,
           165,
           167,
           166,
           161
          ],
          [
           160,
           170,
           178,
           190,
           180,
           180,
           160,
           152,
           160,
           174,
           172,
           173
          ],
          [
           181,
           207,
           230,
           241,
           218,
           219,
           187,
           178,
           177,
           178,
           199,
           178
          ],
          [
           177,
           193,
           234,
           255,
           249,
           240,
           236,
           214,
           212,
           188,
           191,
           186
          ],
          [
           179,
           192,
           206,
           209,
           220,
           257,
           256,
           251,
           241,
           217,
           207,
           192
          ],
          [
           214,
           202,
           214,
           213,
           268,
           265,
           261,
           274,
           240,
           208,
           199,
           183
          ],
          [
           222,
           211,
           202,
           212,
           221,
           212,
           221,
           214,
           222,
           217,
           191,
           165
          ],
          [
           208,
           187,
           184,
           190,
           174,
           167,
           181,
           181,
           193,
           191,
           181,
           165
          ],
          [
           170,
           182,
           166,
           158,
           152,
           154,
           160,
           165,
           168,
           187,
           200,
           185
          ],
          [
           181,
           175,
           158,
           157,
           152,
           160,
           166,
           159,
           172,
           178,
           195,
           183
          ]
         ]
        },
        {
         "coloraxis": "coloraxis",
         "hovertemplate": "x: %{x}<br>y: %{y}<br>color: %{z}<extra></extra>",
         "name": "0",
         "type": "heatmap",
         "xaxis": "x11",
         "yaxis": "y11",
         "z": [
          [
           148,
           145,
           143,
           145,
           150,
           146,
           148,
           152,
           162,
           153,
           143,
           154
          ],
          [
           153,
           157,
           150,
           143,
           145,
           141,
           152,
           150,
           146,
           163,
           171,
           172
          ],
          [
           146,
           150,
           150,
           153,
           145,
           145,
           140,
           147,
           145,
           157,
           164,
           189
          ],
          [
           155,
           143,
           150,
           145,
           146,
           153,
           154,
           160,
           162,
           156,
           166,
           162
          ],
          [
           152,
           162,
           164,
           166,
           184,
           204,
           173,
           177,
           163,
           171,
           162,
           158
          ],
          [
           183,
           169,
           186,
           231,
           225,
           210,
           203,
           206,
           200,
           189,
           191,
           184
          ],
          [
           165,
           196,
           198,
           209,
           234,
           256,
           249,
           219,
           209,
           202,
           191,
           195
          ],
          [
           182,
           178,
           188,
           196,
           230,
           245,
           237,
           278,
           236,
           228,
           259,
           205
          ],
          [
           180,
           181,
           185,
           213,
           210,
           212,
           225,
           229,
           246,
           244,
           252,
           207
          ],
          [
           194,
           207,
           224,
           220,
           206,
           207,
           226,
           238,
           241,
           259,
           208,
           215
          ],
          [
           199,
           194,
           227,
           210,
           207,
           205,
           192,
           183,
           184,
           199,
           213,
           209
          ],
          [
           175,
           189,
           189,
           179,
           175,
           170,
           165,
           171,
           154,
           173,
           166,
           190
          ]
         ]
        },
        {
         "coloraxis": "coloraxis",
         "hovertemplate": "x: %{x}<br>y: %{y}<br>color: %{z}<extra></extra>",
         "name": "0",
         "type": "heatmap",
         "xaxis": "x12",
         "yaxis": "y12",
         "z": [
          [
           139,
           141,
           145,
           144,
           151,
           150,
           144,
           144,
           143,
           155,
           160,
           151
          ],
          [
           144,
           159,
           152,
           148,
           153,
           150,
           137,
           139,
           148,
           156,
           154,
           160
          ],
          [
           145,
           150,
           153,
           153,
           151,
           148,
           169,
           153,
           148,
           154,
           166,
           164
          ],
          [
           149,
           152,
           155,
           157,
           164,
           174,
           153,
           153,
           149,
           155,
           162,
           166
          ],
          [
           170,
           162,
           158,
           172,
           193,
           184,
           164,
           159,
           162,
           152,
           177,
           171
          ],
          [
           167,
           181,
           204,
           209,
           216,
           196,
           198,
           185,
           188,
           171,
           166,
           177
          ],
          [
           182,
           195,
           222,
           258,
           236,
           226,
           216,
           202,
           193,
           194,
           219,
           209
          ],
          [
           171,
           195,
           202,
           208,
           230,
           243,
           261,
           250,
           242,
           241,
           233,
           208
          ],
          [
           182,
           183,
           217,
           220,
           227,
           247,
           245,
           251,
           252,
           242,
           211,
           219
          ],
          [
           205,
           208,
           214,
           222,
           206,
           203,
           210,
           214,
           234,
           236,
           228,
           194
          ],
          [
           217,
           217,
           196,
           201,
           197,
           191,
           185,
           174,
           188,
           190,
           190,
           170
          ],
          [
           213,
           203,
           195,
           202,
           192,
           184,
           170,
           171,
           157,
           169,
           169,
           188
          ]
         ]
        },
        {
         "coloraxis": "coloraxis",
         "hovertemplate": "x: %{x}<br>y: %{y}<br>color: %{z}<extra></extra>",
         "name": "0",
         "type": "heatmap",
         "xaxis": "x13",
         "yaxis": "y13",
         "z": [
          [
           146,
           157,
           155,
           158,
           150,
           177,
           186,
           177,
           154,
           172,
           171,
           160
          ],
          [
           152,
           153,
           160,
           191,
           203,
           205,
           179,
           189,
           191,
           177,
           169,
           172
          ],
          [
           152,
           155,
           158,
           181,
           199,
           179,
           187,
           186,
           177,
           175,
           174,
           170
          ],
          [
           173,
           182,
           196,
           183,
           184,
           179,
           170,
           176,
           176,
           169,
           185,
           187
          ],
          [
           186,
           207,
           224,
           232,
           226,
           193,
           189,
           187,
           171,
           169,
           188,
           180
          ],
          [
           201,
           220,
           223,
           245,
           255,
           233,
           225,
           217,
           203,
           207,
           189,
           179
          ],
          [
           181,
           193,
           215,
           234,
           213,
           270,
           251,
           241,
           230,
           218,
           206,
           194
          ],
          [
           188,
           207,
           214,
           213,
           206,
           224,
           251,
           270,
           238,
           206,
           198,
           178
          ],
          [
           218,
           217,
           193,
           233,
           194,
           203,
           215,
           224,
           235,
           209,
           179,
           179
          ],
          [
           201,
           207,
           196,
           197,
           182,
           194,
           182,
           190,
           180,
           171,
           179,
           170
          ],
          [
           180,
           178,
           181,
           186,
           159,
           180,
           176,
           169,
           176,
           169,
           183,
           178
          ],
          [
           171,
           180,
           181,
           161,
           161,
           162,
           176,
           182,
           180,
           175,
           185,
           208
          ]
         ]
        },
        {
         "coloraxis": "coloraxis",
         "hovertemplate": "x: %{x}<br>y: %{y}<br>color: %{z}<extra></extra>",
         "name": "0",
         "type": "heatmap",
         "xaxis": "x14",
         "yaxis": "y14",
         "z": [
          [
           150,
           155,
           150,
           152,
           149,
           164,
           155,
           155,
           151,
           150,
           162,
           159
          ],
          [
           153,
           146,
           136,
           146,
           149,
           149,
           161,
           168,
           153,
           166,
           160,
           158
          ],
          [
           144,
           158,
           161,
           156,
           154,
           156,
           162,
           166,
           156,
           158,
           165,
           168
          ],
          [
           161,
           160,
           171,
           189,
           176,
           165,
           148,
           156,
           155,
           162,
           173,
           189
          ],
          [
           162,
           172,
           167,
           166,
           163,
           183,
           166,
           161,
           162,
           177,
           206,
           179
          ],
          [
           169,
           195,
           201,
           202,
           186,
           207,
           208,
           182,
           177,
           185,
           187,
           192
          ],
          [
           179,
           196,
           191,
           207,
           215,
           248,
           259,
           235,
           211,
           206,
           206,
           235
          ],
          [
           175,
           183,
           210,
           217,
           239,
           260,
           278,
           266,
           249,
           247,
           232,
           205
          ],
          [
           191,
           195,
           209,
           218,
           210,
           228,
           231,
           232,
           243,
           253,
           254,
           215
          ],
          [
           218,
           216,
           233,
           231,
           225,
           209,
           219,
           211,
           200,
           218,
           217,
           209
          ],
          [
           205,
           200,
           192,
           190,
           189,
           194,
           177,
           189,
           203,
           214,
           190,
           179
          ],
          [
           175,
           176,
           174,
           171,
           167,
           170,
           174,
           174,
           178,
           176,
           174,
           179
          ]
         ]
        },
        {
         "coloraxis": "coloraxis",
         "hovertemplate": "x: %{x}<br>y: %{y}<br>color: %{z}<extra></extra>",
         "name": "0",
         "type": "heatmap",
         "xaxis": "x15",
         "yaxis": "y15",
         "z": [
          [
           147,
           146,
           153,
           146,
           151,
           152,
           150,
           150,
           142,
           137,
           152,
           151
          ],
          [
           138,
           139,
           147,
           142,
           156,
           154,
           152,
           156,
           166,
           164,
           162,
           172
          ],
          [
           161,
           158,
           155,
           148,
           142,
           150,
           164,
           161,
           165,
           180,
           177,
           179
          ],
          [
           161,
           170,
           165,
           150,
           154,
           151,
           164,
           167,
           160,
           172,
           177,
           169
          ],
          [
           182,
           182,
           167,
           170,
           183,
           175,
           190,
           187,
           168,
           154,
           156,
           168
          ],
          [
           172,
           184,
           216,
           234,
           220,
           196,
           199,
           222,
           188,
           192,
           177,
           173
          ],
          [
           201,
           212,
           223,
           244,
           272,
           239,
           255,
           234,
           216,
           222,
           220,
           203
          ],
          [
           205,
           216,
           227,
           259,
           226,
           240,
           277,
           265,
           242,
           217,
           218,
           222
          ],
          [
           215,
           198,
           211,
           216,
           224,
           249,
           260,
           239,
           231,
           238,
           234,
           185
          ],
          [
           221,
           218,
           231,
           196,
           206,
           195,
           215,
           209,
           216,
           214,
           197,
           181
          ],
          [
           221,
           177,
           198,
           227,
           201,
           188,
           189,
           202,
           192,
           186,
           191,
           176
          ],
          [
           171,
           173,
           160,
           166,
           157,
           159,
           157,
           166,
           171,
           181,
           162,
           171
          ]
         ]
        },
        {
         "coloraxis": "coloraxis",
         "hovertemplate": "x: %{x}<br>y: %{y}<br>color: %{z}<extra></extra>",
         "name": "0",
         "type": "heatmap",
         "xaxis": "x16",
         "yaxis": "y16",
         "z": [
          [
           156,
           175,
           155,
           148,
           153,
           164,
           149,
           152,
           158,
           158,
           164,
           164
          ],
          [
           157,
           158,
           160,
           173,
           149,
           138,
           144,
           152,
           161,
           151,
           154,
           163
          ],
          [
           160,
           160,
           152,
           150,
           154,
           154,
           153,
           155,
           150,
           160,
           169,
           167
          ],
          [
           170,
           164,
           164,
           164,
           149,
           154,
           162,
           160,
           159,
           161,
           153,
           171
          ],
          [
           163,
           172,
           162,
           168,
           170,
           190,
           192,
           169,
           154,
           165,
           162,
           149
          ],
          [
           184,
           177,
           191,
           206,
           231,
           249,
           246,
           215,
           234,
           190,
           170,
           173
          ],
          [
           183,
           179,
           227,
           236,
           240,
           261,
           273,
           242,
           239,
           215,
           204,
           221
          ],
          [
           186,
           194,
           201,
           217,
           226,
           249,
           277,
           294,
           261,
           220,
           222,
           215
          ],
          [
           216,
           220,
           209,
           207,
           217,
           229,
           248,
           277,
           266,
           257,
           229,
           220
          ],
          [
           230,
           220,
           213,
           208,
           191,
           215,
           231,
           205,
           234,
           214,
           198,
           209
          ],
          [
           177,
           184,
           194,
           178,
           190,
           172,
           188,
           186,
           204,
           192,
           172,
           175
          ],
          [
           172,
           170,
           167,
           161,
           161,
           158,
           174,
           168,
           161,
           167,
           172,
           177
          ]
         ]
        },
        {
         "coloraxis": "coloraxis",
         "hovertemplate": "x: %{x}<br>y: %{y}<br>color: %{z}<extra></extra>",
         "name": "0",
         "type": "heatmap",
         "xaxis": "x17",
         "yaxis": "y17",
         "z": [
          [
           143,
           142,
           148,
           154,
           149,
           146,
           150,
           145,
           157,
           172,
           204,
           180
          ],
          [
           151,
           147,
           160,
           152,
           150,
           166,
           153,
           172,
           190,
           201,
           238,
           227
          ],
          [
           148,
           151,
           165,
           161,
           156,
           158,
           162,
           172,
           166,
           178,
           163,
           180
          ],
          [
           170,
           182,
           181,
           169,
           187,
           192,
           174,
           155,
           156,
           155,
           171,
           171
          ],
          [
           197,
           244,
           203,
           221,
           217,
           213,
           204,
           187,
           171,
           165,
           174,
           176
          ],
          [
           204,
           222,
           242,
           247,
           245,
           221,
           231,
           241,
           243,
           229,
           199,
           195
          ],
          [
           221,
           205,
           238,
           262,
           241,
           259,
           272,
           251,
           236,
           220,
           241,
           221
          ],
          [
           223,
           220,
           255,
           226,
           249,
           266,
           282,
           260,
           238,
           229,
           209,
           215
          ],
          [
           210,
           216,
           206,
           209,
           210,
           204,
           206,
           251,
           272,
           226,
           216,
           192
          ],
          [
           209,
           210,
           197,
           173,
           182,
           181,
           187,
           185,
           198,
           191,
           189,
           172
          ],
          [
           183,
           169,
           165,
           162,
           185,
           180,
           167,
           167,
           161,
           178,
           177,
           191
          ],
          [
           189,
           170,
           158,
           158,
           160,
           158,
           167,
           168,
           162,
           178,
           187,
           195
          ]
         ]
        },
        {
         "coloraxis": "coloraxis",
         "hovertemplate": "x: %{x}<br>y: %{y}<br>color: %{z}<extra></extra>",
         "name": "0",
         "type": "heatmap",
         "xaxis": "x18",
         "yaxis": "y18",
         "z": [
          [
           149,
           149,
           141,
           144,
           153,
           153,
           156,
           140,
           158,
           155,
           150,
           146
          ],
          [
           147,
           144,
           154,
           151,
           150,
           142,
           139,
           152,
           162,
           149,
           145,
           153
          ],
          [
           146,
           155,
           147,
           150,
           152,
           157,
           158,
           144,
           152,
           146,
           160,
           163
          ],
          [
           152,
           163,
           152,
           156,
           157,
           152,
           158,
           160,
           159,
           148,
           161,
           171
          ],
          [
           166,
           153,
           158,
           167,
           165,
           165,
           181,
           171,
           162,
           173,
           169,
           154
          ],
          [
           152,
           167,
           167,
           174,
           194,
           178,
           190,
           190,
           201,
           222,
           203,
           206
          ],
          [
           168,
           165,
           176,
           186,
           191,
           221,
           207,
           232,
           247,
           247,
           217,
           220
          ],
          [
           172,
           188,
           183,
           203,
           216,
           215,
           250,
           275,
           233,
           244,
           270,
           257
          ],
          [
           178,
           181,
           182,
           195,
           208,
           216,
           203,
           218,
           256,
           267,
           255,
           259
          ],
          [
           191,
           193,
           215,
           216,
           209,
           214,
           200,
           210,
           208,
           200,
           215,
           238
          ],
          [
           176,
           176,
           171,
           181,
           188,
           202,
           191,
           215,
           183,
           195,
           205,
           200
          ],
          [
           161,
           163,
           161,
           183,
           161,
           164,
           177,
           167,
           172,
           161,
           172,
           160
          ]
         ]
        },
        {
         "coloraxis": "coloraxis",
         "hovertemplate": "x: %{x}<br>y: %{y}<br>color: %{z}<extra></extra>",
         "name": "0",
         "type": "heatmap",
         "xaxis": "x19",
         "yaxis": "y19",
         "z": [
          [
           139,
           147,
           146,
           151,
           167,
           151,
           146,
           148,
           156,
           148,
           153,
           152
          ],
          [
           138,
           143,
           151,
           162,
           165,
           164,
           153,
           158,
           154,
           147,
           164,
           159
          ],
          [
           147,
           144,
           151,
           164,
           160,
           158,
           174,
           160,
           166,
           183,
           163,
           168
          ],
          [
           177,
           156,
           153,
           171,
           162,
           181,
           181,
           173,
           189,
           214,
           206,
           194
          ],
          [
           165,
           162,
           155,
           170,
           184,
           171,
           210,
           208,
           232,
           258,
           246,
           227
          ],
          [
           169,
           164,
           169,
           166,
           174,
           217,
           198,
           212,
           228,
           256,
           239,
           267
          ],
          [
           195,
           201,
           177,
           190,
           200,
           206,
           194,
           224,
           211,
           222,
           228,
           271
          ],
          [
           205,
           195,
           182,
           186,
           182,
           210,
           209,
           263,
           217,
           202,
           211,
           200
          ],
          [
           186,
           200,
           186,
           194,
           178,
           180,
           186,
           200,
           180,
           179,
           168,
           193
          ],
          [
           167,
           154,
           164,
           159,
           166,
           162,
           174,
           177,
           183,
           181,
           169,
           166
          ],
          [
           150,
           155,
           160,
           153,
           166,
           157,
           167,
           164,
           160,
           158,
           163,
           179
          ],
          [
           150,
           165,
           165,
           164,
           183,
           177,
           173,
           165,
           173,
           177,
           177,
           158
          ]
         ]
        },
        {
         "coloraxis": "coloraxis",
         "hovertemplate": "x: %{x}<br>y: %{y}<br>color: %{z}<extra></extra>",
         "name": "0",
         "type": "heatmap",
         "xaxis": "x20",
         "yaxis": "y20",
         "z": [
          [
           142,
           140,
           142,
           141,
           167,
           146,
           149,
           145,
           151,
           155,
           147,
           149
          ],
          [
           136,
           139,
           143,
           149,
           152,
           145,
           139,
           146,
           153,
           165,
           168,
           154
          ],
          [
           157,
           150,
           153,
           151,
           146,
           153,
           154,
           171,
           152,
           153,
           158,
           181
          ],
          [
           140,
           153,
           180,
           160,
           154,
           164,
           153,
           152,
           154,
           162,
           151,
           152
          ],
          [
           148,
           150,
           151,
           163,
           182,
           170,
           172,
           161,
           175,
           168,
           157,
           164
          ],
          [
           168,
           165,
           169,
           169,
           163,
           175,
           189,
           226,
           191,
           192,
           190,
           177
          ],
          [
           154,
           153,
           160,
           181,
           196,
           198,
           209,
           240,
           224,
           235,
           230,
           224
          ],
          [
           172,
           158,
           178,
           188,
           191,
           199,
           222,
           242,
           253,
           255,
           258,
           239
          ],
          [
           166,
           182,
           188,
           182,
           202,
           212,
           233,
           243,
           249,
           252,
           265,
           270
          ],
          [
           190,
           190,
           185,
           199,
           222,
           223,
           227,
           216,
           214,
           233,
           225,
           250
          ],
          [
           170,
           172,
           194,
           204,
           187,
           196,
           197,
           209,
           187,
           205,
           198,
           201
          ],
          [
           164,
           177,
           195,
           185,
           173,
           178,
           168,
           172,
           163,
           167,
           170,
           181
          ]
         ]
        },
        {
         "coloraxis": "coloraxis",
         "hovertemplate": "x: %{x}<br>y: %{y}<br>color: %{z}<extra></extra>",
         "name": "0",
         "type": "heatmap",
         "xaxis": "x21",
         "yaxis": "y21",
         "z": [
          [
           148,
           151,
           149,
           144,
           157,
           164,
           169,
           158,
           166,
           189,
           216,
           190
          ],
          [
           151,
           145,
           150,
           162,
           157,
           150,
           146,
           156,
           166,
           188,
           211,
           198
          ],
          [
           151,
           155,
           152,
           148,
           157,
           151,
           157,
           161,
           152,
           167,
           165,
           170
          ],
          [
           156,
           158,
           166,
           161,
           165,
           179,
           174,
           163,
           169,
           154,
           151,
           165
          ],
          [
           182,
           189,
           184,
           182,
           216,
           200,
           198,
           196,
           191,
           189,
           189,
           177
          ],
          [
           187,
           186,
           228,
           208,
           223,
           230,
           212,
           214,
           227,
           220,
           204,
           211
          ],
          [
           187,
           211,
           205,
           195,
           235,
           244,
           246,
           248,
           238,
           223,
           232,
           236
          ],
          [
           201,
           222,
           209,
           195,
           195,
           264,
           286,
           286,
           270,
           239,
           196,
           213
          ],
          [
           233,
           198,
           207,
           207,
           229,
           233,
           236,
           268,
           250,
           226,
           190,
           187
          ],
          [
           205,
           188,
           180,
           181,
           177,
           196,
           204,
           196,
           210,
           198,
           162,
           176
          ],
          [
           163,
           164,
           163,
           167,
           168,
           162,
           171,
           169,
           178,
           185,
           165,
           189
          ],
          [
           163,
           164,
           178,
           175,
           159,
           158,
           168,
           169,
           169,
           177,
           175,
           167
          ]
         ]
        },
        {
         "coloraxis": "coloraxis",
         "hovertemplate": "x: %{x}<br>y: %{y}<br>color: %{z}<extra></extra>",
         "name": "0",
         "type": "heatmap",
         "xaxis": "x22",
         "yaxis": "y22",
         "z": [
          [
           160,
           157,
           146,
           156,
           152,
           153,
           164,
           174,
           168,
           181,
           213,
           202
          ],
          [
           163,
           152,
           147,
           153,
           155,
           146,
           151,
           160,
           158,
           154,
           173,
           156
          ],
          [
           162,
           184,
           165,
           176,
           165,
           150,
           157,
           148,
           151,
           154,
           152,
           164
          ],
          [
           151,
           157,
           153,
           151,
           180,
           164,
           160,
           161,
           195,
           169,
           156,
           152
          ],
          [
           169,
           203,
           183,
           185,
           184,
           185,
           194,
           195,
           195,
           170,
           163,
           169
          ],
          [
           169,
           178,
           193,
           189,
           228,
           228,
           249,
           229,
           218,
           210,
           205,
           184
          ],
          [
           174,
           197,
           198,
           224,
           214,
           209,
           222,
           263,
           247,
           262,
           229,
           197
          ],
          [
           172,
           189,
           200,
           210,
           211,
           271,
           301,
           301,
           275,
           271,
           243,
           224
          ],
          [
           184,
           197,
           212,
           213,
           222,
           230,
           218,
           258,
           261,
           245,
           218,
           182
          ],
          [
           187,
           190,
           191,
           218,
           217,
           193,
           187,
           193,
           187,
           189,
           194,
           200
          ],
          [
           180,
           162,
           181,
           174,
           171,
           160,
           160,
           183,
           183,
           200,
           185,
           179
          ],
          [
           201,
           194,
           162,
           174,
           177,
           157,
           154,
           161,
           159,
           159,
           167,
           179
          ]
         ]
        },
        {
         "coloraxis": "coloraxis",
         "hovertemplate": "x: %{x}<br>y: %{y}<br>color: %{z}<extra></extra>",
         "name": "0",
         "type": "heatmap",
         "xaxis": "x23",
         "yaxis": "y23",
         "z": [
          [
           144,
           139,
           155,
           152,
           155,
           149,
           145,
           171,
           168,
           181,
           187,
           175
          ],
          [
           151,
           157,
           154,
           158,
           153,
           150,
           156,
           158,
           144,
           147,
           156,
           145
          ],
          [
           156,
           146,
           144,
           156,
           161,
           153,
           157,
           159,
           170,
           162,
           154,
           151
          ],
          [
           153,
           172,
           165,
           151,
           151,
           161,
           169,
           176,
           150,
           143,
           140,
           154
          ],
          [
           169,
           159,
           171,
           194,
           185,
           198,
           195,
           174,
           166,
           168,
           164,
           164
          ],
          [
           181,
           179,
           207,
           206,
           210,
           223,
           209,
           210,
           188,
           190,
           188,
           202
          ],
          [
           157,
           181,
           200,
           211,
           212,
           240,
           269,
           270,
           243,
           211,
           198,
           189
          ],
          [
           172,
           178,
           195,
           200,
           209,
           216,
           251,
           270,
           267,
           253,
           241,
           210
          ],
          [
           202,
           216,
           201,
           194,
           197,
           194,
           217,
           233,
           259,
           255,
           237,
           199
          ],
          [
           175,
           175,
           188,
           199,
           182,
           176,
           176,
           187,
           203,
           206,
           200,
           196
          ],
          [
           158,
           170,
           166,
           180,
           179,
           167,
           182,
           174,
           166,
           170,
           168,
           164
          ],
          [
           169,
           164,
           161,
           152,
           157,
           159,
           160,
           156,
           169,
           158,
           153,
           170
          ]
         ]
        },
        {
         "coloraxis": "coloraxis",
         "hovertemplate": "x: %{x}<br>y: %{y}<br>color: %{z}<extra></extra>",
         "name": "0",
         "type": "heatmap",
         "xaxis": "x24",
         "yaxis": "y24",
         "z": [
          [
           159,
           144,
           154,
           147,
           155,
           147,
           173,
           180,
           194,
           208,
           187,
           164
          ],
          [
           165,
           178,
           171,
           143,
           146,
           146,
           157,
           150,
           165,
           185,
           163,
           160
          ],
          [
           153,
           159,
           142,
           145,
           146,
           150,
           159,
           161,
           151,
           152,
           161,
           148
          ],
          [
           179,
           176,
           155,
           170,
           158,
           170,
           155,
           148,
           159,
           163,
           152,
           151
          ],
          [
           177,
           175,
           195,
           193,
           191,
           204,
           195,
           169,
           161,
           155,
           166,
           162
          ],
          [
           189,
           198,
           217,
           225,
           237,
           226,
           242,
           228,
           207,
           191,
           198,
           180
          ],
          [
           179,
           188,
           208,
           223,
           233,
           245,
           228,
           247,
           241,
           205,
           227,
           217
          ],
          [
           203,
           196,
           187,
           208,
           230,
           247,
           269,
           269,
           230,
           221,
           204,
           195
          ],
          [
           210,
           208,
           201,
           189,
           211,
           223,
           243,
           248,
           243,
           235,
           214,
           190
          ],
          [
           179,
           167,
           170,
           171,
           191,
           190,
           187,
           198,
           205,
           192,
           183,
           176
          ],
          [
           164,
           170,
           167,
           179,
           182,
           174,
           163,
           180,
           168,
           154,
           164,
           167
          ],
          [
           163,
           153,
           173,
           172,
           163,
           170,
           166,
           164,
           159,
           176,
           201,
           201
          ]
         ]
        },
        {
         "coloraxis": "coloraxis",
         "hovertemplate": "x: %{x}<br>y: %{y}<br>color: %{z}<extra></extra>",
         "name": "0",
         "type": "heatmap",
         "xaxis": "x25",
         "yaxis": "y25",
         "z": [
          [
           162,
           150,
           159,
           141,
           156,
           158,
           142,
           143,
           143,
           145,
           151,
           152
          ],
          [
           144,
           152,
           155,
           150,
           139,
           157,
           154,
           150,
           156,
           150,
           144,
           141
          ],
          [
           155,
           173,
           161,
           159,
           181,
           168,
           167,
           186,
           167,
           166,
           145,
           150
          ],
          [
           183,
           204,
           188,
           175,
           214,
           209,
           193,
           171,
           157,
           152,
           151,
           158
          ],
          [
           177,
           173,
           182,
           245,
           254,
           251,
           237,
           209,
           205,
           186,
           217,
           213
          ],
          [
           155,
           183,
           197,
           205,
           216,
           256,
           263,
           254,
           241,
           244,
           214,
           203
          ],
          [
           182,
           202,
           194,
           200,
           217,
           235,
           267,
           292,
           265,
           232,
           211,
           213
          ],
          [
           204,
           198,
           199,
           193,
           194,
           218,
           250,
           275,
           286,
           238,
           195,
           197
          ],
          [
           192,
           177,
           190,
           191,
           187,
           182,
           212,
           207,
           217,
           190,
           168,
           158
          ],
          [
           180,
           187,
           192,
           173,
           174,
           166,
           172,
           183,
           191,
           163,
           166,
           192
          ],
          [
           168,
           180,
           174,
           178,
           165,
           166,
           187,
           171,
           164,
           180,
           162,
           169
          ],
          [
           184,
           195,
           195,
           186,
           183,
           171,
           150,
           146,
           158,
           176,
           181,
           161
          ]
         ]
        },
        {
         "coloraxis": "coloraxis",
         "hovertemplate": "x: %{x}<br>y: %{y}<br>color: %{z}<extra></extra>",
         "name": "0",
         "type": "heatmap",
         "xaxis": "x26",
         "yaxis": "y26",
         "z": [
          [
           145,
           137,
           144,
           141,
           147,
           166,
           162,
           167,
           174,
           180,
           169,
           177
          ],
          [
           148,
           149,
           147,
           137,
           146,
           157,
           153,
           149,
           161,
           160,
           167,
           166
          ],
          [
           153,
           158,
           148,
           153,
           150,
           152,
           148,
           142,
           148,
           154,
           149,
           152
          ],
          [
           160,
           163,
           188,
           166,
           175,
           163,
           168,
           153,
           149,
           157,
           151,
           148
          ],
          [
           164,
           184,
           176,
           178,
           177,
           177,
           212,
           205,
           175,
           163,
           163,
           163
          ],
          [
           154,
           192,
           185,
           190,
           210,
           223,
           235,
           236,
           205,
           195,
           191,
           206
          ],
          [
           162,
           173,
           181,
           206,
           227,
           237,
           247,
           259,
           260,
           248,
           247,
           218
          ],
          [
           190,
           183,
           191,
           191,
           215,
           222,
           260,
           304,
           285,
           270,
           212,
           189
          ],
          [
           237,
           201,
           205,
           194,
           213,
           223,
           230,
           248,
           252,
           234,
           218,
           206
          ],
          [
           170,
           204,
           167,
           175,
           186,
           182,
           198,
           194,
           200,
           202,
           186,
           180
          ],
          [
           170,
           161,
           174,
           171,
           189,
           165,
           159,
           178,
           179,
           168,
           178,
           158
          ],
          [
           168,
           176,
           161,
           153,
           167,
           153,
           148,
           171,
           163,
           156,
           163,
           152
          ]
         ]
        },
        {
         "coloraxis": "coloraxis",
         "hovertemplate": "x: %{x}<br>y: %{y}<br>color: %{z}<extra></extra>",
         "name": "0",
         "type": "heatmap",
         "xaxis": "x27",
         "yaxis": "y27",
         "z": [
          [
           151,
           152,
           156,
           176,
           161,
           158,
           155,
           166,
           168,
           177,
           179,
           196
          ],
          [
           149,
           157,
           154,
           161,
           155,
           184,
           177,
           195,
           209,
           234,
           182,
           169
          ],
          [
           167,
           155,
           152,
           166,
           172,
           171,
           184,
           180,
           177,
           172,
           167,
           166
          ],
          [
           165,
           176,
           162,
           156,
           157,
           155,
           152,
           158,
           168,
           159,
           152,
           152
          ],
          [
           160,
           151,
           150,
           163,
           162,
           159,
           163,
           151,
           154,
           159,
           166,
           162
          ],
          [
           186,
           177,
           169,
           187,
           222,
           202,
           183,
           186,
           182,
           162,
           154,
           175
          ],
          [
           172,
           174,
           184,
           195,
           234,
           223,
           234,
           207,
           200,
           180,
           201,
           185
          ],
          [
           180,
           165,
           186,
           187,
           235,
           234,
           267,
           251,
           243,
           223,
           227,
           250
          ],
          [
           184,
           179,
           182,
           195,
           210,
           257,
           262,
           266,
           267,
           234,
           224,
           203
          ],
          [
           186,
           166,
           195,
           197,
           215,
           207,
           230,
           246,
           247,
           242,
           215,
           181
          ],
          [
           224,
           180,
           171,
           173,
           176,
           195,
           204,
           196,
           199,
           212,
           184,
           178
          ],
          [
           160,
           170,
           159,
           169,
           178,
           177,
           174,
           173,
           170,
           176,
           169,
           165
          ]
         ]
        },
        {
         "coloraxis": "coloraxis",
         "hovertemplate": "x: %{x}<br>y: %{y}<br>color: %{z}<extra></extra>",
         "name": "0",
         "type": "heatmap",
         "xaxis": "x28",
         "yaxis": "y28",
         "z": [
          [
           156,
           150,
           163,
           175,
           160,
           156,
           157,
           158,
           179,
           167,
           171,
           163
          ],
          [
           161,
           154,
           168,
           148,
           169,
           161,
           174,
           149,
           161,
           158,
           159,
           168
          ],
          [
           166,
           180,
           173,
           165,
           180,
           179,
           166,
           160,
           154,
           153,
           152,
           153
          ],
          [
           160,
           174,
           177,
           183,
           233,
           203,
           200,
           200,
           174,
           163,
           160,
           166
          ],
          [
           177,
           176,
           185,
           194,
           201,
           221,
           242,
           210,
           190,
           183,
           181,
           213
          ],
          [
           166,
           173,
           173,
           195,
           202,
           229,
           247,
           244,
           221,
           219,
           215,
           214
          ],
          [
           166,
           170,
           183,
           223,
           230,
           253,
           262,
           247,
           246,
           224,
           193,
           194
          ],
          [
           186,
           187,
           190,
           214,
           245,
           225,
           284,
           274,
           253,
           244,
           204,
           185
          ],
          [
           187,
           192,
           181,
           203,
           220,
           202,
           217,
           202,
           205,
           229,
           165,
           165
          ],
          [
           164,
           175,
           175,
           171,
           169,
           167,
           177,
           187,
           169,
           167,
           169,
           162
          ],
          [
           162,
           158,
           160,
           164,
           167,
           161,
           170,
           180,
           156,
           160,
           158,
           155
          ],
          [
           175,
           182,
           153,
           158,
           167,
           169,
           155,
           158,
           169,
           155,
           154,
           159
          ]
         ]
        },
        {
         "coloraxis": "coloraxis",
         "hovertemplate": "x: %{x}<br>y: %{y}<br>color: %{z}<extra></extra>",
         "name": "0",
         "type": "heatmap",
         "xaxis": "x29",
         "yaxis": "y29",
         "z": [
          [
           145,
           143,
           145,
           148,
           151,
           153,
           158,
           159,
           166,
           161,
           163,
           163
          ],
          [
           143,
           152,
           157,
           153,
           163,
           173,
           152,
           145,
           153,
           163,
           160,
           153
          ],
          [
           150,
           143,
           146,
           152,
           152,
           154,
           147,
           153,
           154,
           158,
           159,
           158
          ],
          [
           150,
           162,
           159,
           161,
           155,
           175,
           191,
           198,
           178,
           170,
           149,
           162
          ],
          [
           156,
           162,
           164,
           175,
           179,
           211,
           222,
           209,
           203,
           174,
           177,
           169
          ],
          [
           156,
           163,
           169,
           189,
           194,
           208,
           222,
           220,
           220,
           209,
           192,
           194
          ],
          [
           164,
           159,
           189,
           170,
           210,
           227,
           230,
           275,
           242,
           216,
           233,
           234
          ],
          [
           166,
           168,
           170,
           186,
           217,
           252,
           287,
           296,
           260,
           225,
           200,
           192
          ],
          [
           181,
           168,
           184,
           188,
           193,
           226,
           235,
           257,
           254,
           246,
           251,
           199
          ],
          [
           197,
           201,
           216,
           205,
           204,
           193,
           214,
           225,
           202,
           208,
           192,
           184
          ],
          [
           181,
           171,
           196,
           192,
           193,
           171,
           162,
           162,
           176,
           163,
           172,
           184
          ],
          [
           177,
           162,
           182,
           187,
           166,
           171,
           170,
           179,
           171,
           164,
           158,
           158
          ]
         ]
        },
        {
         "coloraxis": "coloraxis",
         "hovertemplate": "x: %{x}<br>y: %{y}<br>color: %{z}<extra></extra>",
         "name": "0",
         "type": "heatmap",
         "xaxis": "x30",
         "yaxis": "y30",
         "z": [
          [
           153,
           157,
           158,
           154,
           150,
           164,
           155,
           158,
           154,
           185,
           153,
           159
          ],
          [
           158,
           170,
           156,
           168,
           160,
           174,
           168,
           181,
           156,
           147,
           151,
           145
          ],
          [
           159,
           159,
           172,
           171,
           186,
           201,
           191,
           192,
           185,
           159,
           151,
           146
          ],
          [
           175,
           167,
           178,
           197,
           210,
           207,
           215,
           183,
           173,
           167,
           170,
           160
          ],
          [
           178,
           169,
           185,
           199,
           201,
           231,
           212,
           210,
           194,
           211,
           229,
           191
          ],
          [
           173,
           184,
           185,
           195,
           229,
           227,
           222,
           211,
           216,
           233,
           247,
           229
          ],
          [
           190,
           182,
           204,
           226,
           250,
           244,
           252,
           235,
           206,
           212,
           206,
           198
          ],
          [
           180,
           178,
           197,
           234,
           234,
           255,
           266,
           269,
           224,
           204,
           181,
           188
          ],
          [
           181,
           186,
           200,
           211,
           219,
           215,
           222,
           203,
           202,
           170,
           166,
           171
          ],
          [
           181,
           173,
           169,
           170,
           186,
           179,
           191,
           165,
           161,
           165,
           178,
           179
          ],
          [
           182,
           187,
           169,
           164,
           160,
           159,
           161,
           165,
           160,
           160,
           163,
           160
          ],
          [
           157,
           155,
           156,
           181,
           170,
           180,
           164,
           160,
           160,
           162,
           155,
           163
          ]
         ]
        },
        {
         "coloraxis": "coloraxis",
         "hovertemplate": "x: %{x}<br>y: %{y}<br>color: %{z}<extra></extra>",
         "name": "0",
         "type": "heatmap",
         "xaxis": "x31",
         "yaxis": "y31",
         "z": [
          [
           156,
           152,
           169,
           161,
           146,
           159,
           156,
           158,
           144,
           155,
           154,
           157
          ],
          [
           146,
           148,
           162,
           158,
           158,
           157,
           170,
           161,
           150,
           152,
           166,
           171
          ],
          [
           174,
           158,
           167,
           182,
           171,
           198,
           220,
           181,
           189,
           185,
           157,
           150
          ],
          [
           177,
           180,
           174,
           200,
           223,
           234,
           206,
           190,
           176,
           168,
           166,
           162
          ],
          [
           200,
           177,
           191,
           184,
           185,
           175,
           190,
           215,
           194,
           208,
           215,
           183
          ],
          [
           176,
           174,
           191,
           203,
           201,
           255,
           248,
           227,
           219,
           239,
           242,
           217
          ],
          [
           179,
           180,
           199,
           236,
           276,
           278,
           253,
           238,
           213,
           227,
           226,
           217
          ],
          [
           173,
           180,
           190,
           215,
           235,
           272,
           300,
           292,
           238,
           193,
           178,
           180
          ],
          [
           177,
           209,
           200,
           214,
           225,
           227,
           216,
           212,
           186,
           197,
           183,
           171
          ],
          [
           189,
           173,
           190,
           207,
           194,
           176,
           185,
           182,
           185,
           207,
           168,
           180
          ],
          [
           160,
           170,
           167,
           175,
           175,
           200,
           181,
           168,
           158,
           166,
           160,
           177
          ],
          [
           155,
           150,
           159,
           171,
           163,
           171,
           165,
           166,
           159,
           161,
           164,
           176
          ]
         ]
        },
        {
         "coloraxis": "coloraxis",
         "hovertemplate": "x: %{x}<br>y: %{y}<br>color: %{z}<extra></extra>",
         "name": "0",
         "type": "heatmap",
         "xaxis": "x32",
         "yaxis": "y32",
         "z": [
          [
           149,
           152,
           148,
           150,
           154,
           172,
           192,
           172,
           162,
           149,
           156,
           155
          ],
          [
           145,
           154,
           145,
           139,
           158,
           164,
           164,
           172,
           177,
           179,
           158,
           164
          ],
          [
           160,
           157,
           170,
           147,
           145,
           156,
           165,
           192,
           190,
           191,
           187,
           180
          ],
          [
           167,
           166,
           164,
           167,
           173,
           166,
           179,
           197,
           216,
           206,
           183,
           171
          ],
          [
           151,
           166,
           174,
           168,
           162,
           176,
           182,
           185,
           200,
           195,
           199,
           200
          ],
          [
           163,
           152,
           159,
           167,
           164,
           173,
           184,
           207,
           223,
           220,
           214,
           215
          ],
          [
           149,
           157,
           150,
           158,
           174,
           194,
           228,
           228,
           253,
           264,
           257,
           234
          ],
          [
           175,
           162,
           175,
           169,
           182,
           214,
           270,
           261,
           266,
           255,
           220,
           198
          ],
          [
           156,
           156,
           169,
           172,
           185,
           195,
           213,
           216,
           217,
           244,
           217,
           189
          ],
          [
           172,
           171,
           166,
           169,
           177,
           185,
           198,
           171,
           175,
           183,
           182,
           171
          ],
          [
           163,
           187,
           181,
           163,
           158,
           166,
           166,
           176,
           183,
           171,
           161,
           162
          ],
          [
           165,
           171,
           168,
           149,
           159,
           164,
           160,
           159,
           163,
           158,
           152,
           159
          ]
         ]
        },
        {
         "coloraxis": "coloraxis",
         "hovertemplate": "x: %{x}<br>y: %{y}<br>color: %{z}<extra></extra>",
         "name": "0",
         "type": "heatmap",
         "xaxis": "x33",
         "yaxis": "y33",
         "z": [
          [
           141,
           152,
           151,
           149,
           145,
           148,
           153,
           154,
           151,
           157,
           154,
           151
          ],
          [
           154,
           149,
           142,
           145,
           152,
           168,
           160,
           151,
           164,
           156,
           156,
           149
          ],
          [
           169,
           160,
           160,
           156,
           168,
           166,
           169,
           211,
           165,
           157,
           162,
           166
          ],
          [
           168,
           171,
           172,
           166,
           166,
           168,
           180,
           185,
           184,
           175,
           198,
           168
          ],
          [
           168,
           167,
           179,
           168,
           170,
           166,
           177,
           205,
           207,
           191,
           208,
           198
          ],
          [
           169,
           169,
           163,
           164,
           186,
           208,
           211,
           204,
           195,
           213,
           217,
           214
          ],
          [
           164,
           176,
           182,
           202,
           241,
           260,
           267,
           228,
           197,
           211,
           209,
           214
          ],
          [
           154,
           182,
           184,
           215,
           224,
           226,
           250,
           268,
           234,
           193,
           203,
           191
          ],
          [
           184,
           188,
           173,
           179,
           214,
           252,
           230,
           225,
           215,
           205,
           184,
           161
          ],
          [
           160,
           163,
           174,
           173,
           169,
           172,
           194,
           193,
           168,
           173,
           154,
           144
          ],
          [
           176,
           159,
           176,
           174,
           177,
           183,
           198,
           179,
           159,
           158,
           153,
           158
          ],
          [
           191,
           176,
           183,
           161,
           168,
           151,
           152,
           176,
           160,
           163,
           154,
           152
          ]
         ]
        },
        {
         "coloraxis": "coloraxis",
         "hovertemplate": "x: %{x}<br>y: %{y}<br>color: %{z}<extra></extra>",
         "name": "0",
         "type": "heatmap",
         "xaxis": "x34",
         "yaxis": "y34",
         "z": [
          [
           146,
           147,
           149,
           152,
           149,
           141,
           145,
           155,
           159,
           145,
           157,
           149
          ],
          [
           148,
           153,
           149,
           155,
           149,
           150,
           145,
           147,
           155,
           158,
           191,
           154
          ],
          [
           158,
           166,
           153,
           147,
           161,
           175,
           154,
           167,
           171,
           183,
           171,
           170
          ],
          [
           145,
           159,
           170,
           166,
           159,
           159,
           161,
           174,
           181,
           178,
           174,
           186
          ],
          [
           157,
           166,
           177,
           162,
           182,
           196,
           189,
           168,
           173,
           176,
           176,
           207
          ],
          [
           150,
           155,
           164,
           175,
           177,
           182,
           190,
           193,
           208,
           234,
           218,
           227
          ],
          [
           140,
           149,
           159,
           186,
           195,
           189,
           219,
           228,
           246,
           248,
           230,
           208
          ],
          [
           162,
           146,
           153,
           173,
           216,
           205,
           229,
           234,
           239,
           241,
           220,
           198
          ],
          [
           153,
           161,
           156,
           168,
           176,
           194,
           198,
           211,
           235,
           248,
           237,
           201
          ],
          [
           154,
           170,
           165,
           156,
           172,
           187,
           181,
           196,
           187,
           187,
           192,
           181
          ],
          [
           158,
           172,
           170,
           172,
           173,
           176,
           191,
           181,
           174,
           163,
           166,
           175
          ],
          [
           178,
           188,
           206,
           175,
           180,
           205,
           181,
           169,
           178,
           156,
           166,
           163
          ]
         ]
        }
       ],
       "layout": {
        "template": {
         "data": {
          "bar": [
           {
            "error_x": {
             "color": "#2a3f5f"
            },
            "error_y": {
             "color": "#2a3f5f"
            },
            "marker": {
             "line": {
              "color": "#E5ECF6",
              "width": 0.5
             },
             "pattern": {
              "fillmode": "overlay",
              "size": 10,
              "solidity": 0.2
             }
            },
            "type": "bar"
           }
          ],
          "barpolar": [
           {
            "marker": {
             "line": {
              "color": "#E5ECF6",
              "width": 0.5
             },
             "pattern": {
              "fillmode": "overlay",
              "size": 10,
              "solidity": 0.2
             }
            },
            "type": "barpolar"
           }
          ],
          "carpet": [
           {
            "aaxis": {
             "endlinecolor": "#2a3f5f",
             "gridcolor": "white",
             "linecolor": "white",
             "minorgridcolor": "white",
             "startlinecolor": "#2a3f5f"
            },
            "baxis": {
             "endlinecolor": "#2a3f5f",
             "gridcolor": "white",
             "linecolor": "white",
             "minorgridcolor": "white",
             "startlinecolor": "#2a3f5f"
            },
            "type": "carpet"
           }
          ],
          "choropleth": [
           {
            "colorbar": {
             "outlinewidth": 0,
             "ticks": ""
            },
            "type": "choropleth"
           }
          ],
          "contour": [
           {
            "colorbar": {
             "outlinewidth": 0,
             "ticks": ""
            },
            "colorscale": [
             [
              0,
              "#0d0887"
             ],
             [
              0.1111111111111111,
              "#46039f"
             ],
             [
              0.2222222222222222,
              "#7201a8"
             ],
             [
              0.3333333333333333,
              "#9c179e"
             ],
             [
              0.4444444444444444,
              "#bd3786"
             ],
             [
              0.5555555555555556,
              "#d8576b"
             ],
             [
              0.6666666666666666,
              "#ed7953"
             ],
             [
              0.7777777777777778,
              "#fb9f3a"
             ],
             [
              0.8888888888888888,
              "#fdca26"
             ],
             [
              1,
              "#f0f921"
             ]
            ],
            "type": "contour"
           }
          ],
          "contourcarpet": [
           {
            "colorbar": {
             "outlinewidth": 0,
             "ticks": ""
            },
            "type": "contourcarpet"
           }
          ],
          "heatmap": [
           {
            "colorbar": {
             "outlinewidth": 0,
             "ticks": ""
            },
            "colorscale": [
             [
              0,
              "#0d0887"
             ],
             [
              0.1111111111111111,
              "#46039f"
             ],
             [
              0.2222222222222222,
              "#7201a8"
             ],
             [
              0.3333333333333333,
              "#9c179e"
             ],
             [
              0.4444444444444444,
              "#bd3786"
             ],
             [
              0.5555555555555556,
              "#d8576b"
             ],
             [
              0.6666666666666666,
              "#ed7953"
             ],
             [
              0.7777777777777778,
              "#fb9f3a"
             ],
             [
              0.8888888888888888,
              "#fdca26"
             ],
             [
              1,
              "#f0f921"
             ]
            ],
            "type": "heatmap"
           }
          ],
          "heatmapgl": [
           {
            "colorbar": {
             "outlinewidth": 0,
             "ticks": ""
            },
            "colorscale": [
             [
              0,
              "#0d0887"
             ],
             [
              0.1111111111111111,
              "#46039f"
             ],
             [
              0.2222222222222222,
              "#7201a8"
             ],
             [
              0.3333333333333333,
              "#9c179e"
             ],
             [
              0.4444444444444444,
              "#bd3786"
             ],
             [
              0.5555555555555556,
              "#d8576b"
             ],
             [
              0.6666666666666666,
              "#ed7953"
             ],
             [
              0.7777777777777778,
              "#fb9f3a"
             ],
             [
              0.8888888888888888,
              "#fdca26"
             ],
             [
              1,
              "#f0f921"
             ]
            ],
            "type": "heatmapgl"
           }
          ],
          "histogram": [
           {
            "marker": {
             "pattern": {
              "fillmode": "overlay",
              "size": 10,
              "solidity": 0.2
             }
            },
            "type": "histogram"
           }
          ],
          "histogram2d": [
           {
            "colorbar": {
             "outlinewidth": 0,
             "ticks": ""
            },
            "colorscale": [
             [
              0,
              "#0d0887"
             ],
             [
              0.1111111111111111,
              "#46039f"
             ],
             [
              0.2222222222222222,
              "#7201a8"
             ],
             [
              0.3333333333333333,
              "#9c179e"
             ],
             [
              0.4444444444444444,
              "#bd3786"
             ],
             [
              0.5555555555555556,
              "#d8576b"
             ],
             [
              0.6666666666666666,
              "#ed7953"
             ],
             [
              0.7777777777777778,
              "#fb9f3a"
             ],
             [
              0.8888888888888888,
              "#fdca26"
             ],
             [
              1,
              "#f0f921"
             ]
            ],
            "type": "histogram2d"
           }
          ],
          "histogram2dcontour": [
           {
            "colorbar": {
             "outlinewidth": 0,
             "ticks": ""
            },
            "colorscale": [
             [
              0,
              "#0d0887"
             ],
             [
              0.1111111111111111,
              "#46039f"
             ],
             [
              0.2222222222222222,
              "#7201a8"
             ],
             [
              0.3333333333333333,
              "#9c179e"
             ],
             [
              0.4444444444444444,
              "#bd3786"
             ],
             [
              0.5555555555555556,
              "#d8576b"
             ],
             [
              0.6666666666666666,
              "#ed7953"
             ],
             [
              0.7777777777777778,
              "#fb9f3a"
             ],
             [
              0.8888888888888888,
              "#fdca26"
             ],
             [
              1,
              "#f0f921"
             ]
            ],
            "type": "histogram2dcontour"
           }
          ],
          "mesh3d": [
           {
            "colorbar": {
             "outlinewidth": 0,
             "ticks": ""
            },
            "type": "mesh3d"
           }
          ],
          "parcoords": [
           {
            "line": {
             "colorbar": {
              "outlinewidth": 0,
              "ticks": ""
             }
            },
            "type": "parcoords"
           }
          ],
          "pie": [
           {
            "automargin": true,
            "type": "pie"
           }
          ],
          "scatter": [
           {
            "fillpattern": {
             "fillmode": "overlay",
             "size": 10,
             "solidity": 0.2
            },
            "type": "scatter"
           }
          ],
          "scatter3d": [
           {
            "line": {
             "colorbar": {
              "outlinewidth": 0,
              "ticks": ""
             }
            },
            "marker": {
             "colorbar": {
              "outlinewidth": 0,
              "ticks": ""
             }
            },
            "type": "scatter3d"
           }
          ],
          "scattercarpet": [
           {
            "marker": {
             "colorbar": {
              "outlinewidth": 0,
              "ticks": ""
             }
            },
            "type": "scattercarpet"
           }
          ],
          "scattergeo": [
           {
            "marker": {
             "colorbar": {
              "outlinewidth": 0,
              "ticks": ""
             }
            },
            "type": "scattergeo"
           }
          ],
          "scattergl": [
           {
            "marker": {
             "colorbar": {
              "outlinewidth": 0,
              "ticks": ""
             }
            },
            "type": "scattergl"
           }
          ],
          "scattermapbox": [
           {
            "marker": {
             "colorbar": {
              "outlinewidth": 0,
              "ticks": ""
             }
            },
            "type": "scattermapbox"
           }
          ],
          "scatterpolar": [
           {
            "marker": {
             "colorbar": {
              "outlinewidth": 0,
              "ticks": ""
             }
            },
            "type": "scatterpolar"
           }
          ],
          "scatterpolargl": [
           {
            "marker": {
             "colorbar": {
              "outlinewidth": 0,
              "ticks": ""
             }
            },
            "type": "scatterpolargl"
           }
          ],
          "scatterternary": [
           {
            "marker": {
             "colorbar": {
              "outlinewidth": 0,
              "ticks": ""
             }
            },
            "type": "scatterternary"
           }
          ],
          "surface": [
           {
            "colorbar": {
             "outlinewidth": 0,
             "ticks": ""
            },
            "colorscale": [
             [
              0,
              "#0d0887"
             ],
             [
              0.1111111111111111,
              "#46039f"
             ],
             [
              0.2222222222222222,
              "#7201a8"
             ],
             [
              0.3333333333333333,
              "#9c179e"
             ],
             [
              0.4444444444444444,
              "#bd3786"
             ],
             [
              0.5555555555555556,
              "#d8576b"
             ],
             [
              0.6666666666666666,
              "#ed7953"
             ],
             [
              0.7777777777777778,
              "#fb9f3a"
             ],
             [
              0.8888888888888888,
              "#fdca26"
             ],
             [
              1,
              "#f0f921"
             ]
            ],
            "type": "surface"
           }
          ],
          "table": [
           {
            "cells": {
             "fill": {
              "color": "#EBF0F8"
             },
             "line": {
              "color": "white"
             }
            },
            "header": {
             "fill": {
              "color": "#C8D4E3"
             },
             "line": {
              "color": "white"
             }
            },
            "type": "table"
           }
          ]
         },
         "layout": {
          "annotationdefaults": {
           "arrowcolor": "#2a3f5f",
           "arrowhead": 0,
           "arrowwidth": 1
          },
          "autotypenumbers": "strict",
          "coloraxis": {
           "colorbar": {
            "outlinewidth": 0,
            "ticks": ""
           }
          },
          "colorscale": {
           "diverging": [
            [
             0,
             "#8e0152"
            ],
            [
             0.1,
             "#c51b7d"
            ],
            [
             0.2,
             "#de77ae"
            ],
            [
             0.3,
             "#f1b6da"
            ],
            [
             0.4,
             "#fde0ef"
            ],
            [
             0.5,
             "#f7f7f7"
            ],
            [
             0.6,
             "#e6f5d0"
            ],
            [
             0.7,
             "#b8e186"
            ],
            [
             0.8,
             "#7fbc41"
            ],
            [
             0.9,
             "#4d9221"
            ],
            [
             1,
             "#276419"
            ]
           ],
           "sequential": [
            [
             0,
             "#0d0887"
            ],
            [
             0.1111111111111111,
             "#46039f"
            ],
            [
             0.2222222222222222,
             "#7201a8"
            ],
            [
             0.3333333333333333,
             "#9c179e"
            ],
            [
             0.4444444444444444,
             "#bd3786"
            ],
            [
             0.5555555555555556,
             "#d8576b"
            ],
            [
             0.6666666666666666,
             "#ed7953"
            ],
            [
             0.7777777777777778,
             "#fb9f3a"
            ],
            [
             0.8888888888888888,
             "#fdca26"
            ],
            [
             1,
             "#f0f921"
            ]
           ],
           "sequentialminus": [
            [
             0,
             "#0d0887"
            ],
            [
             0.1111111111111111,
             "#46039f"
            ],
            [
             0.2222222222222222,
             "#7201a8"
            ],
            [
             0.3333333333333333,
             "#9c179e"
            ],
            [
             0.4444444444444444,
             "#bd3786"
            ],
            [
             0.5555555555555556,
             "#d8576b"
            ],
            [
             0.6666666666666666,
             "#ed7953"
            ],
            [
             0.7777777777777778,
             "#fb9f3a"
            ],
            [
             0.8888888888888888,
             "#fdca26"
            ],
            [
             1,
             "#f0f921"
            ]
           ]
          },
          "colorway": [
           "#636efa",
           "#EF553B",
           "#00cc96",
           "#ab63fa",
           "#FFA15A",
           "#19d3f3",
           "#FF6692",
           "#B6E880",
           "#FF97FF",
           "#FECB52"
          ],
          "font": {
           "color": "#2a3f5f"
          },
          "geo": {
           "bgcolor": "white",
           "lakecolor": "white",
           "landcolor": "#E5ECF6",
           "showlakes": true,
           "showland": true,
           "subunitcolor": "white"
          },
          "hoverlabel": {
           "align": "left"
          },
          "hovermode": "closest",
          "mapbox": {
           "style": "light"
          },
          "paper_bgcolor": "white",
          "plot_bgcolor": "#E5ECF6",
          "polar": {
           "angularaxis": {
            "gridcolor": "white",
            "linecolor": "white",
            "ticks": ""
           },
           "bgcolor": "#E5ECF6",
           "radialaxis": {
            "gridcolor": "white",
            "linecolor": "white",
            "ticks": ""
           }
          },
          "scene": {
           "xaxis": {
            "backgroundcolor": "#E5ECF6",
            "gridcolor": "white",
            "gridwidth": 2,
            "linecolor": "white",
            "showbackground": true,
            "ticks": "",
            "zerolinecolor": "white"
           },
           "yaxis": {
            "backgroundcolor": "#E5ECF6",
            "gridcolor": "white",
            "gridwidth": 2,
            "linecolor": "white",
            "showbackground": true,
            "ticks": "",
            "zerolinecolor": "white"
           },
           "zaxis": {
            "backgroundcolor": "#E5ECF6",
            "gridcolor": "white",
            "gridwidth": 2,
            "linecolor": "white",
            "showbackground": true,
            "ticks": "",
            "zerolinecolor": "white"
           }
          },
          "shapedefaults": {
           "line": {
            "color": "#2a3f5f"
           }
          },
          "ternary": {
           "aaxis": {
            "gridcolor": "white",
            "linecolor": "white",
            "ticks": ""
           },
           "baxis": {
            "gridcolor": "white",
            "linecolor": "white",
            "ticks": ""
           },
           "bgcolor": "#E5ECF6",
           "caxis": {
            "gridcolor": "white",
            "linecolor": "white",
            "ticks": ""
           }
          },
          "title": {
           "x": 0.05
          },
          "xaxis": {
           "automargin": true,
           "gridcolor": "white",
           "linecolor": "white",
           "ticks": "",
           "title": {
            "standoff": 15
           },
           "zerolinecolor": "white",
           "zerolinewidth": 2
          },
          "yaxis": {
           "automargin": true,
           "gridcolor": "white",
           "linecolor": "white",
           "ticks": "",
           "title": {
            "standoff": 15
           },
           "zerolinecolor": "white",
           "zerolinewidth": 2
          }
         }
        },
        "xaxis": {
         "anchor": "y",
         "domain": [
          0,
          0.1183673469387755
         ]
        },
        "xaxis10": {
         "anchor": "y10",
         "domain": [
          0.29387755102040813,
          0.4122448979591836
         ]
        },
        "xaxis11": {
         "anchor": "y11",
         "domain": [
          0.4408163265306122,
          0.5591836734693877
         ]
        },
        "xaxis12": {
         "anchor": "y12",
         "domain": [
          0.5877551020408163,
          0.7061224489795918
         ]
        },
        "xaxis13": {
         "anchor": "y13",
         "domain": [
          0.7346938775510204,
          0.8530612244897959
         ]
        },
        "xaxis14": {
         "anchor": "y14",
         "domain": [
          0.8816326530612244,
          0.9999999999999999
         ]
        },
        "xaxis15": {
         "anchor": "y15",
         "domain": [
          0,
          0.1183673469387755
         ]
        },
        "xaxis16": {
         "anchor": "y16",
         "domain": [
          0.14693877551020407,
          0.26530612244897955
         ]
        },
        "xaxis17": {
         "anchor": "y17",
         "domain": [
          0.29387755102040813,
          0.4122448979591836
         ]
        },
        "xaxis18": {
         "anchor": "y18",
         "domain": [
          0.4408163265306122,
          0.5591836734693877
         ]
        },
        "xaxis19": {
         "anchor": "y19",
         "domain": [
          0.5877551020408163,
          0.7061224489795918
         ]
        },
        "xaxis2": {
         "anchor": "y2",
         "domain": [
          0.14693877551020407,
          0.26530612244897955
         ]
        },
        "xaxis20": {
         "anchor": "y20",
         "domain": [
          0.7346938775510204,
          0.8530612244897959
         ]
        },
        "xaxis21": {
         "anchor": "y21",
         "domain": [
          0.8816326530612244,
          0.9999999999999999
         ]
        },
        "xaxis22": {
         "anchor": "y22",
         "domain": [
          0,
          0.1183673469387755
         ]
        },
        "xaxis23": {
         "anchor": "y23",
         "domain": [
          0.14693877551020407,
          0.26530612244897955
         ]
        },
        "xaxis24": {
         "anchor": "y24",
         "domain": [
          0.29387755102040813,
          0.4122448979591836
         ]
        },
        "xaxis25": {
         "anchor": "y25",
         "domain": [
          0.4408163265306122,
          0.5591836734693877
         ]
        },
        "xaxis26": {
         "anchor": "y26",
         "domain": [
          0.5877551020408163,
          0.7061224489795918
         ]
        },
        "xaxis27": {
         "anchor": "y27",
         "domain": [
          0.7346938775510204,
          0.8530612244897959
         ]
        },
        "xaxis28": {
         "anchor": "y28",
         "domain": [
          0.8816326530612244,
          0.9999999999999999
         ]
        },
        "xaxis29": {
         "anchor": "y29",
         "domain": [
          0,
          0.1183673469387755
         ]
        },
        "xaxis3": {
         "anchor": "y3",
         "domain": [
          0.29387755102040813,
          0.4122448979591836
         ]
        },
        "xaxis30": {
         "anchor": "y30",
         "domain": [
          0.14693877551020407,
          0.26530612244897955
         ]
        },
        "xaxis31": {
         "anchor": "y31",
         "domain": [
          0.29387755102040813,
          0.4122448979591836
         ]
        },
        "xaxis32": {
         "anchor": "y32",
         "domain": [
          0.4408163265306122,
          0.5591836734693877
         ]
        },
        "xaxis33": {
         "anchor": "y33",
         "domain": [
          0.5877551020408163,
          0.7061224489795918
         ]
        },
        "xaxis34": {
         "anchor": "y34",
         "domain": [
          0.7346938775510204,
          0.8530612244897959
         ]
        },
        "xaxis35": {
         "anchor": "y35",
         "domain": [
          0.8816326530612244,
          0.9999999999999999
         ]
        },
        "xaxis4": {
         "anchor": "y4",
         "domain": [
          0.4408163265306122,
          0.5591836734693877
         ]
        },
        "xaxis5": {
         "anchor": "y5",
         "domain": [
          0.5877551020408163,
          0.7061224489795918
         ]
        },
        "xaxis6": {
         "anchor": "y6",
         "domain": [
          0.7346938775510204,
          0.8530612244897959
         ]
        },
        "xaxis7": {
         "anchor": "y7",
         "domain": [
          0.8816326530612244,
          0.9999999999999999
         ]
        },
        "xaxis8": {
         "anchor": "y8",
         "domain": [
          0,
          0.1183673469387755
         ]
        },
        "xaxis9": {
         "anchor": "y9",
         "domain": [
          0.14693877551020407,
          0.26530612244897955
         ]
        },
        "yaxis": {
         "anchor": "x",
         "domain": [
          0.848,
          1
         ]
        },
        "yaxis10": {
         "anchor": "x10",
         "domain": [
          0.6359999999999999,
          0.7879999999999999
         ]
        },
        "yaxis11": {
         "anchor": "x11",
         "domain": [
          0.6359999999999999,
          0.7879999999999999
         ]
        },
        "yaxis12": {
         "anchor": "x12",
         "domain": [
          0.6359999999999999,
          0.7879999999999999
         ]
        },
        "yaxis13": {
         "anchor": "x13",
         "domain": [
          0.6359999999999999,
          0.7879999999999999
         ]
        },
        "yaxis14": {
         "anchor": "x14",
         "domain": [
          0.6359999999999999,
          0.7879999999999999
         ]
        },
        "yaxis15": {
         "anchor": "x15",
         "domain": [
          0.424,
          0.576
         ]
        },
        "yaxis16": {
         "anchor": "x16",
         "domain": [
          0.424,
          0.576
         ]
        },
        "yaxis17": {
         "anchor": "x17",
         "domain": [
          0.424,
          0.576
         ]
        },
        "yaxis18": {
         "anchor": "x18",
         "domain": [
          0.424,
          0.576
         ]
        },
        "yaxis19": {
         "anchor": "x19",
         "domain": [
          0.424,
          0.576
         ]
        },
        "yaxis2": {
         "anchor": "x2",
         "domain": [
          0.848,
          1
         ]
        },
        "yaxis20": {
         "anchor": "x20",
         "domain": [
          0.424,
          0.576
         ]
        },
        "yaxis21": {
         "anchor": "x21",
         "domain": [
          0.424,
          0.576
         ]
        },
        "yaxis22": {
         "anchor": "x22",
         "domain": [
          0.212,
          0.364
         ]
        },
        "yaxis23": {
         "anchor": "x23",
         "domain": [
          0.212,
          0.364
         ]
        },
        "yaxis24": {
         "anchor": "x24",
         "domain": [
          0.212,
          0.364
         ]
        },
        "yaxis25": {
         "anchor": "x25",
         "domain": [
          0.212,
          0.364
         ]
        },
        "yaxis26": {
         "anchor": "x26",
         "domain": [
          0.212,
          0.364
         ]
        },
        "yaxis27": {
         "anchor": "x27",
         "domain": [
          0.212,
          0.364
         ]
        },
        "yaxis28": {
         "anchor": "x28",
         "domain": [
          0.212,
          0.364
         ]
        },
        "yaxis29": {
         "anchor": "x29",
         "domain": [
          0,
          0.152
         ]
        },
        "yaxis3": {
         "anchor": "x3",
         "domain": [
          0.848,
          1
         ]
        },
        "yaxis30": {
         "anchor": "x30",
         "domain": [
          0,
          0.152
         ]
        },
        "yaxis31": {
         "anchor": "x31",
         "domain": [
          0,
          0.152
         ]
        },
        "yaxis32": {
         "anchor": "x32",
         "domain": [
          0,
          0.152
         ]
        },
        "yaxis33": {
         "anchor": "x33",
         "domain": [
          0,
          0.152
         ]
        },
        "yaxis34": {
         "anchor": "x34",
         "domain": [
          0,
          0.152
         ]
        },
        "yaxis35": {
         "anchor": "x35",
         "domain": [
          0,
          0.152
         ]
        },
        "yaxis4": {
         "anchor": "x4",
         "domain": [
          0.848,
          1
         ]
        },
        "yaxis5": {
         "anchor": "x5",
         "domain": [
          0.848,
          1
         ]
        },
        "yaxis6": {
         "anchor": "x6",
         "domain": [
          0.848,
          1
         ]
        },
        "yaxis7": {
         "anchor": "x7",
         "domain": [
          0.848,
          1
         ]
        },
        "yaxis8": {
         "anchor": "x8",
         "domain": [
          0.6359999999999999,
          0.7879999999999999
         ]
        },
        "yaxis9": {
         "anchor": "x9",
         "domain": [
          0.6359999999999999,
          0.7879999999999999
         ]
        }
       }
      },
      "text/html": [
       "<div>                            <div id=\"4e92486a-fc97-4d50-b710-de5d0d2b9962\" class=\"plotly-graph-div\" style=\"height:525px; width:100%;\"></div>            <script type=\"text/javascript\">                require([\"plotly\"], function(Plotly) {                    window.PLOTLYENV=window.PLOTLYENV || {};                                    if (document.getElementById(\"4e92486a-fc97-4d50-b710-de5d0d2b9962\")) {                    Plotly.newPlot(                        \"4e92486a-fc97-4d50-b710-de5d0d2b9962\",                        [{\"coloraxis\":\"coloraxis\",\"hovertemplate\":\"x: %{x}\\u003cbr\\u003ey: %{y}\\u003cbr\\u003ecolor: %{z}\\u003cextra\\u003e\\u003c\\u002fextra\\u003e\",\"name\":\"0\",\"xaxis\":\"x\",\"yaxis\":\"y\",\"z\":[[162,149,150,155,140,145,145,155,156,169,161,154],[158,159,162,149,156,142,145,152,159,168,152,160],[150,151,147,148,157,156,151,153,150,171,154,175],[144,151,167,157,148,150,163,168,167,154,149,151],[160,159,160,164,160,165,176,199,210,181,173,160],[156,179,163,173,197,216,251,284,243,217,190,189],[165,165,189,199,199,220,246,256,243,218,210,203],[194,187,170,168,182,192,202,230,223,241,244,238],[216,175,172,176,168,175,211,207,242,274,278,254],[178,174,170,175,182,177,185,221,218,204,223,219],[177,196,171,183,190,171,180,187,172,186,201,193],[164,168,169,186,178,186,170,172,167,162,167,183]],\"type\":\"heatmap\"},{\"coloraxis\":\"coloraxis\",\"hovertemplate\":\"x: %{x}\\u003cbr\\u003ey: %{y}\\u003cbr\\u003ecolor: %{z}\\u003cextra\\u003e\\u003c\\u002fextra\\u003e\",\"name\":\"0\",\"xaxis\":\"x2\",\"yaxis\":\"y2\",\"z\":[[143,150,148,151,144,147,153,162,173,190,176,165],[140,147,140,139,149,144,158,171,154,151,162,165],[154,164,159,158,145,148,156,144,157,163,165,173],[158,163,164,147,165,158,146,150,161,153,168,179],[143,143,162,168,166,171,153,159,174,170,168,172],[153,163,172,168,177,185,199,186,195,179,171,174],[156,159,174,195,216,254,240,243,234,208,180,169],[148,168,182,198,230,240,284,243,240,232,191,215],[177,168,179,202,219,199,225,231,237,245,237,235],[176,179,199,207,193,220,231,222,254,261,239,225],[172,183,178,174,195,207,200,192,198,230,227,232],[177,170,171,175,175,197,209,177,186,188,199,186]],\"type\":\"heatmap\"},{\"coloraxis\":\"coloraxis\",\"hovertemplate\":\"x: %{x}\\u003cbr\\u003ey: %{y}\\u003cbr\\u003ecolor: %{z}\\u003cextra\\u003e\\u003c\\u002fextra\\u003e\",\"name\":\"0\",\"xaxis\":\"x3\",\"yaxis\":\"y3\",\"z\":[[150,152,181,165,174,170,158,160,169,159,191,190],[152,163,148,158,154,158,161,150,160,179,201,223],[160,149,147,152,170,156,159,166,162,183,196,203],[187,174,204,211,189,163,180,163,172,164,169,175],[200,235,251,232,228,203,187,196,181,191,188,184],[225,241,232,217,230,206,206,199,201,200,213,211],[193,194,198,232,262,272,247,210,243,253,229,231],[209,202,204,214,215,250,276,268,235,224,214,200],[192,188,181,203,226,234,234,229,230,218,187,186],[210,168,195,202,183,184,181,205,198,205,208,202],[202,191,191,193,198,171,185,163,178,166,174,172],[179,176,161,166,173,177,166,166,185,221,209,193]],\"type\":\"heatmap\"},{\"coloraxis\":\"coloraxis\",\"hovertemplate\":\"x: %{x}\\u003cbr\\u003ey: %{y}\\u003cbr\\u003ecolor: %{z}\\u003cextra\\u003e\\u003c\\u002fextra\\u003e\",\"name\":\"0\",\"xaxis\":\"x4\",\"yaxis\":\"y4\",\"z\":[[149,147,146,137,142,141,148,175,157,174,172,179],[144,136,143,151,150,150,152,155,157,157,159,163],[134,148,139,143,149,143,145,142,151,159,160,158],[158,161,152,153,157,149,157,155,160,177,168,177],[150,143,147,148,164,161,177,172,158,163,165,172],[144,149,164,171,184,194,189,193,177,161,163,204],[164,166,167,178,192,209,224,221,194,196,174,177],[157,163,169,170,192,212,238,257,238,212,191,187],[184,161,170,178,185,206,246,247,234,232,225,223],[177,178,182,184,211,204,197,213,209,233,247,238],[176,158,175,190,183,203,224,192,213,219,245,249],[168,176,173,179,182,185,195,190,193,180,206,199]],\"type\":\"heatmap\"},{\"coloraxis\":\"coloraxis\",\"hovertemplate\":\"x: %{x}\\u003cbr\\u003ey: %{y}\\u003cbr\\u003ecolor: %{z}\\u003cextra\\u003e\\u003c\\u002fextra\\u003e\",\"name\":\"0\",\"xaxis\":\"x5\",\"yaxis\":\"y5\",\"z\":[[159,150,150,140,147,152,150,149,160,166,182,172],[157,143,147,140,148,159,153,161,156,189,178,178],[148,159,161,156,155,162,159,160,177,179,197,224],[161,158,165,164,183,207,190,168,167,163,171,189],[162,166,175,182,235,209,190,190,189,193,179,178],[164,173,207,217,215,232,242,223,193,198,198,197],[182,181,189,209,237,226,252,253,237,211,219,221],[167,170,179,187,216,244,232,234,242,221,200,201],[177,182,198,206,203,214,248,238,227,235,231,230],[176,176,164,169,194,188,177,181,187,187,187,197],[181,170,174,164,167,161,165,181,180,176,168,172],[181,177,172,205,185,163,178,204,194,170,174,217]],\"type\":\"heatmap\"},{\"coloraxis\":\"coloraxis\",\"hovertemplate\":\"x: %{x}\\u003cbr\\u003ey: %{y}\\u003cbr\\u003ecolor: %{z}\\u003cextra\\u003e\\u003c\\u002fextra\\u003e\",\"name\":\"0\",\"xaxis\":\"x6\",\"yaxis\":\"y6\",\"z\":[[148,139,131,135,141,149,146,145,145,158,182,167],[148,155,139,145,148,144,153,149,146,155,163,162],[154,153,161,154,167,159,147,156,158,161,175,173],[153,156,155,151,151,155,157,149,154,162,181,179],[147,146,151,151,161,178,183,172,171,168,166,179],[164,185,193,202,222,203,230,190,207,193,169,179],[170,175,183,214,211,215,243,219,203,196,208,214],[172,176,178,181,214,247,251,226,210,229,245,251],[185,165,174,179,190,205,219,221,231,240,242,230],[167,163,189,210,188,185,213,208,213,208,230,218],[172,176,179,172,174,178,176,190,176,197,219,222],[172,170,183,179,173,169,169,157,170,192,176,168]],\"type\":\"heatmap\"},{\"coloraxis\":\"coloraxis\",\"hovertemplate\":\"x: %{x}\\u003cbr\\u003ey: %{y}\\u003cbr\\u003ecolor: %{z}\\u003cextra\\u003e\\u003c\\u002fextra\\u003e\",\"name\":\"0\",\"xaxis\":\"x7\",\"yaxis\":\"y7\",\"z\":[[142,142,155,164,145,146,161,159,149,159,160,158],[154,147,148,145,151,150,142,157,144,160,160,159],[148,142,145,151,145,144,147,147,145,160,154,159],[148,159,149,147,153,144,164,153,156,154,158,161],[139,145,154,157,161,151,151,146,155,161,159,157],[148,151,150,147,156,169,170,173,189,186,177,159],[156,168,180,182,196,219,231,235,204,183,177,174],[157,169,177,208,202,224,242,268,249,240,212,212],[173,171,174,189,188,197,213,221,223,226,232,248],[176,169,171,178,182,207,203,203,214,227,236,249],[185,162,165,180,200,190,208,234,198,206,211,213],[171,166,175,179,202,190,171,180,195,203,191,209]],\"type\":\"heatmap\"},{\"coloraxis\":\"coloraxis\",\"hovertemplate\":\"x: %{x}\\u003cbr\\u003ey: %{y}\\u003cbr\\u003ecolor: %{z}\\u003cextra\\u003e\\u003c\\u002fextra\\u003e\",\"name\":\"0\",\"xaxis\":\"x8\",\"yaxis\":\"y8\",\"z\":[[146,146,151,155,145,142,151,151,150,156,162,169],[147,149,151,150,150,152,156,150,148,153,169,172],[161,164,146,148,151,151,151,158,149,153,181,184],[148,156,155,155,157,144,156,173,156,156,170,176],[151,154,159,190,164,176,172,172,172,170,176,171],[149,163,168,180,213,217,227,232,223,177,168,173],[162,174,182,192,189,205,224,229,214,204,229,210],[183,176,168,196,197,210,227,224,235,214,239,231],[163,179,181,198,194,192,228,208,217,241,234,246],[174,172,180,187,191,202,202,188,199,233,248,242],[173,181,194,187,196,195,176,168,178,179,209,199],[165,197,181,162,173,169,178,160,166,171,165,179]],\"type\":\"heatmap\"},{\"coloraxis\":\"coloraxis\",\"hovertemplate\":\"x: %{x}\\u003cbr\\u003ey: %{y}\\u003cbr\\u003ecolor: %{z}\\u003cextra\\u003e\\u003c\\u002fextra\\u003e\",\"name\":\"0\",\"xaxis\":\"x9\",\"yaxis\":\"y9\",\"z\":[[146,147,144,144,154,147,142,144,151,161,153,145],[145,139,159,143,146,147,148,146,140,141,147,158],[140,156,137,142,151,149,146,152,144,144,146,152],[146,145,150,148,149,143,153,154,158,157,155,168],[139,141,154,153,162,155,152,161,149,156,162,157],[154,149,148,152,155,164,176,170,179,181,172,162],[149,149,162,168,168,179,196,203,204,212,197,214],[168,158,172,187,171,232,252,240,218,242,234,237],[205,172,167,182,174,183,196,203,197,232,244,242],[208,183,178,197,203,194,224,208,213,233,247,241],[210,182,179,188,225,231,208,192,222,204,212,216],[186,187,182,168,186,174,173,170,175,181,181,195]],\"type\":\"heatmap\"},{\"coloraxis\":\"coloraxis\",\"hovertemplate\":\"x: %{x}\\u003cbr\\u003ey: %{y}\\u003cbr\\u003ecolor: %{z}\\u003cextra\\u003e\\u003c\\u002fextra\\u003e\",\"name\":\"0\",\"xaxis\":\"x10\",\"yaxis\":\"y10\",\"z\":[[140,141,158,156,150,151,152,151,154,178,175,173],[152,150,159,145,150,150,152,158,160,161,168,185],[159,165,163,154,151,149,155,160,165,167,166,161],[160,170,178,190,180,180,160,152,160,174,172,173],[181,207,230,241,218,219,187,178,177,178,199,178],[177,193,234,255,249,240,236,214,212,188,191,186],[179,192,206,209,220,257,256,251,241,217,207,192],[214,202,214,213,268,265,261,274,240,208,199,183],[222,211,202,212,221,212,221,214,222,217,191,165],[208,187,184,190,174,167,181,181,193,191,181,165],[170,182,166,158,152,154,160,165,168,187,200,185],[181,175,158,157,152,160,166,159,172,178,195,183]],\"type\":\"heatmap\"},{\"coloraxis\":\"coloraxis\",\"hovertemplate\":\"x: %{x}\\u003cbr\\u003ey: %{y}\\u003cbr\\u003ecolor: %{z}\\u003cextra\\u003e\\u003c\\u002fextra\\u003e\",\"name\":\"0\",\"xaxis\":\"x11\",\"yaxis\":\"y11\",\"z\":[[148,145,143,145,150,146,148,152,162,153,143,154],[153,157,150,143,145,141,152,150,146,163,171,172],[146,150,150,153,145,145,140,147,145,157,164,189],[155,143,150,145,146,153,154,160,162,156,166,162],[152,162,164,166,184,204,173,177,163,171,162,158],[183,169,186,231,225,210,203,206,200,189,191,184],[165,196,198,209,234,256,249,219,209,202,191,195],[182,178,188,196,230,245,237,278,236,228,259,205],[180,181,185,213,210,212,225,229,246,244,252,207],[194,207,224,220,206,207,226,238,241,259,208,215],[199,194,227,210,207,205,192,183,184,199,213,209],[175,189,189,179,175,170,165,171,154,173,166,190]],\"type\":\"heatmap\"},{\"coloraxis\":\"coloraxis\",\"hovertemplate\":\"x: %{x}\\u003cbr\\u003ey: %{y}\\u003cbr\\u003ecolor: %{z}\\u003cextra\\u003e\\u003c\\u002fextra\\u003e\",\"name\":\"0\",\"xaxis\":\"x12\",\"yaxis\":\"y12\",\"z\":[[139,141,145,144,151,150,144,144,143,155,160,151],[144,159,152,148,153,150,137,139,148,156,154,160],[145,150,153,153,151,148,169,153,148,154,166,164],[149,152,155,157,164,174,153,153,149,155,162,166],[170,162,158,172,193,184,164,159,162,152,177,171],[167,181,204,209,216,196,198,185,188,171,166,177],[182,195,222,258,236,226,216,202,193,194,219,209],[171,195,202,208,230,243,261,250,242,241,233,208],[182,183,217,220,227,247,245,251,252,242,211,219],[205,208,214,222,206,203,210,214,234,236,228,194],[217,217,196,201,197,191,185,174,188,190,190,170],[213,203,195,202,192,184,170,171,157,169,169,188]],\"type\":\"heatmap\"},{\"coloraxis\":\"coloraxis\",\"hovertemplate\":\"x: %{x}\\u003cbr\\u003ey: %{y}\\u003cbr\\u003ecolor: %{z}\\u003cextra\\u003e\\u003c\\u002fextra\\u003e\",\"name\":\"0\",\"xaxis\":\"x13\",\"yaxis\":\"y13\",\"z\":[[146,157,155,158,150,177,186,177,154,172,171,160],[152,153,160,191,203,205,179,189,191,177,169,172],[152,155,158,181,199,179,187,186,177,175,174,170],[173,182,196,183,184,179,170,176,176,169,185,187],[186,207,224,232,226,193,189,187,171,169,188,180],[201,220,223,245,255,233,225,217,203,207,189,179],[181,193,215,234,213,270,251,241,230,218,206,194],[188,207,214,213,206,224,251,270,238,206,198,178],[218,217,193,233,194,203,215,224,235,209,179,179],[201,207,196,197,182,194,182,190,180,171,179,170],[180,178,181,186,159,180,176,169,176,169,183,178],[171,180,181,161,161,162,176,182,180,175,185,208]],\"type\":\"heatmap\"},{\"coloraxis\":\"coloraxis\",\"hovertemplate\":\"x: %{x}\\u003cbr\\u003ey: %{y}\\u003cbr\\u003ecolor: %{z}\\u003cextra\\u003e\\u003c\\u002fextra\\u003e\",\"name\":\"0\",\"xaxis\":\"x14\",\"yaxis\":\"y14\",\"z\":[[150,155,150,152,149,164,155,155,151,150,162,159],[153,146,136,146,149,149,161,168,153,166,160,158],[144,158,161,156,154,156,162,166,156,158,165,168],[161,160,171,189,176,165,148,156,155,162,173,189],[162,172,167,166,163,183,166,161,162,177,206,179],[169,195,201,202,186,207,208,182,177,185,187,192],[179,196,191,207,215,248,259,235,211,206,206,235],[175,183,210,217,239,260,278,266,249,247,232,205],[191,195,209,218,210,228,231,232,243,253,254,215],[218,216,233,231,225,209,219,211,200,218,217,209],[205,200,192,190,189,194,177,189,203,214,190,179],[175,176,174,171,167,170,174,174,178,176,174,179]],\"type\":\"heatmap\"},{\"coloraxis\":\"coloraxis\",\"hovertemplate\":\"x: %{x}\\u003cbr\\u003ey: %{y}\\u003cbr\\u003ecolor: %{z}\\u003cextra\\u003e\\u003c\\u002fextra\\u003e\",\"name\":\"0\",\"xaxis\":\"x15\",\"yaxis\":\"y15\",\"z\":[[147,146,153,146,151,152,150,150,142,137,152,151],[138,139,147,142,156,154,152,156,166,164,162,172],[161,158,155,148,142,150,164,161,165,180,177,179],[161,170,165,150,154,151,164,167,160,172,177,169],[182,182,167,170,183,175,190,187,168,154,156,168],[172,184,216,234,220,196,199,222,188,192,177,173],[201,212,223,244,272,239,255,234,216,222,220,203],[205,216,227,259,226,240,277,265,242,217,218,222],[215,198,211,216,224,249,260,239,231,238,234,185],[221,218,231,196,206,195,215,209,216,214,197,181],[221,177,198,227,201,188,189,202,192,186,191,176],[171,173,160,166,157,159,157,166,171,181,162,171]],\"type\":\"heatmap\"},{\"coloraxis\":\"coloraxis\",\"hovertemplate\":\"x: %{x}\\u003cbr\\u003ey: %{y}\\u003cbr\\u003ecolor: %{z}\\u003cextra\\u003e\\u003c\\u002fextra\\u003e\",\"name\":\"0\",\"xaxis\":\"x16\",\"yaxis\":\"y16\",\"z\":[[156,175,155,148,153,164,149,152,158,158,164,164],[157,158,160,173,149,138,144,152,161,151,154,163],[160,160,152,150,154,154,153,155,150,160,169,167],[170,164,164,164,149,154,162,160,159,161,153,171],[163,172,162,168,170,190,192,169,154,165,162,149],[184,177,191,206,231,249,246,215,234,190,170,173],[183,179,227,236,240,261,273,242,239,215,204,221],[186,194,201,217,226,249,277,294,261,220,222,215],[216,220,209,207,217,229,248,277,266,257,229,220],[230,220,213,208,191,215,231,205,234,214,198,209],[177,184,194,178,190,172,188,186,204,192,172,175],[172,170,167,161,161,158,174,168,161,167,172,177]],\"type\":\"heatmap\"},{\"coloraxis\":\"coloraxis\",\"hovertemplate\":\"x: %{x}\\u003cbr\\u003ey: %{y}\\u003cbr\\u003ecolor: %{z}\\u003cextra\\u003e\\u003c\\u002fextra\\u003e\",\"name\":\"0\",\"xaxis\":\"x17\",\"yaxis\":\"y17\",\"z\":[[143,142,148,154,149,146,150,145,157,172,204,180],[151,147,160,152,150,166,153,172,190,201,238,227],[148,151,165,161,156,158,162,172,166,178,163,180],[170,182,181,169,187,192,174,155,156,155,171,171],[197,244,203,221,217,213,204,187,171,165,174,176],[204,222,242,247,245,221,231,241,243,229,199,195],[221,205,238,262,241,259,272,251,236,220,241,221],[223,220,255,226,249,266,282,260,238,229,209,215],[210,216,206,209,210,204,206,251,272,226,216,192],[209,210,197,173,182,181,187,185,198,191,189,172],[183,169,165,162,185,180,167,167,161,178,177,191],[189,170,158,158,160,158,167,168,162,178,187,195]],\"type\":\"heatmap\"},{\"coloraxis\":\"coloraxis\",\"hovertemplate\":\"x: %{x}\\u003cbr\\u003ey: %{y}\\u003cbr\\u003ecolor: %{z}\\u003cextra\\u003e\\u003c\\u002fextra\\u003e\",\"name\":\"0\",\"xaxis\":\"x18\",\"yaxis\":\"y18\",\"z\":[[149,149,141,144,153,153,156,140,158,155,150,146],[147,144,154,151,150,142,139,152,162,149,145,153],[146,155,147,150,152,157,158,144,152,146,160,163],[152,163,152,156,157,152,158,160,159,148,161,171],[166,153,158,167,165,165,181,171,162,173,169,154],[152,167,167,174,194,178,190,190,201,222,203,206],[168,165,176,186,191,221,207,232,247,247,217,220],[172,188,183,203,216,215,250,275,233,244,270,257],[178,181,182,195,208,216,203,218,256,267,255,259],[191,193,215,216,209,214,200,210,208,200,215,238],[176,176,171,181,188,202,191,215,183,195,205,200],[161,163,161,183,161,164,177,167,172,161,172,160]],\"type\":\"heatmap\"},{\"coloraxis\":\"coloraxis\",\"hovertemplate\":\"x: %{x}\\u003cbr\\u003ey: %{y}\\u003cbr\\u003ecolor: %{z}\\u003cextra\\u003e\\u003c\\u002fextra\\u003e\",\"name\":\"0\",\"xaxis\":\"x19\",\"yaxis\":\"y19\",\"z\":[[139,147,146,151,167,151,146,148,156,148,153,152],[138,143,151,162,165,164,153,158,154,147,164,159],[147,144,151,164,160,158,174,160,166,183,163,168],[177,156,153,171,162,181,181,173,189,214,206,194],[165,162,155,170,184,171,210,208,232,258,246,227],[169,164,169,166,174,217,198,212,228,256,239,267],[195,201,177,190,200,206,194,224,211,222,228,271],[205,195,182,186,182,210,209,263,217,202,211,200],[186,200,186,194,178,180,186,200,180,179,168,193],[167,154,164,159,166,162,174,177,183,181,169,166],[150,155,160,153,166,157,167,164,160,158,163,179],[150,165,165,164,183,177,173,165,173,177,177,158]],\"type\":\"heatmap\"},{\"coloraxis\":\"coloraxis\",\"hovertemplate\":\"x: %{x}\\u003cbr\\u003ey: %{y}\\u003cbr\\u003ecolor: %{z}\\u003cextra\\u003e\\u003c\\u002fextra\\u003e\",\"name\":\"0\",\"xaxis\":\"x20\",\"yaxis\":\"y20\",\"z\":[[142,140,142,141,167,146,149,145,151,155,147,149],[136,139,143,149,152,145,139,146,153,165,168,154],[157,150,153,151,146,153,154,171,152,153,158,181],[140,153,180,160,154,164,153,152,154,162,151,152],[148,150,151,163,182,170,172,161,175,168,157,164],[168,165,169,169,163,175,189,226,191,192,190,177],[154,153,160,181,196,198,209,240,224,235,230,224],[172,158,178,188,191,199,222,242,253,255,258,239],[166,182,188,182,202,212,233,243,249,252,265,270],[190,190,185,199,222,223,227,216,214,233,225,250],[170,172,194,204,187,196,197,209,187,205,198,201],[164,177,195,185,173,178,168,172,163,167,170,181]],\"type\":\"heatmap\"},{\"coloraxis\":\"coloraxis\",\"hovertemplate\":\"x: %{x}\\u003cbr\\u003ey: %{y}\\u003cbr\\u003ecolor: %{z}\\u003cextra\\u003e\\u003c\\u002fextra\\u003e\",\"name\":\"0\",\"xaxis\":\"x21\",\"yaxis\":\"y21\",\"z\":[[148,151,149,144,157,164,169,158,166,189,216,190],[151,145,150,162,157,150,146,156,166,188,211,198],[151,155,152,148,157,151,157,161,152,167,165,170],[156,158,166,161,165,179,174,163,169,154,151,165],[182,189,184,182,216,200,198,196,191,189,189,177],[187,186,228,208,223,230,212,214,227,220,204,211],[187,211,205,195,235,244,246,248,238,223,232,236],[201,222,209,195,195,264,286,286,270,239,196,213],[233,198,207,207,229,233,236,268,250,226,190,187],[205,188,180,181,177,196,204,196,210,198,162,176],[163,164,163,167,168,162,171,169,178,185,165,189],[163,164,178,175,159,158,168,169,169,177,175,167]],\"type\":\"heatmap\"},{\"coloraxis\":\"coloraxis\",\"hovertemplate\":\"x: %{x}\\u003cbr\\u003ey: %{y}\\u003cbr\\u003ecolor: %{z}\\u003cextra\\u003e\\u003c\\u002fextra\\u003e\",\"name\":\"0\",\"xaxis\":\"x22\",\"yaxis\":\"y22\",\"z\":[[160,157,146,156,152,153,164,174,168,181,213,202],[163,152,147,153,155,146,151,160,158,154,173,156],[162,184,165,176,165,150,157,148,151,154,152,164],[151,157,153,151,180,164,160,161,195,169,156,152],[169,203,183,185,184,185,194,195,195,170,163,169],[169,178,193,189,228,228,249,229,218,210,205,184],[174,197,198,224,214,209,222,263,247,262,229,197],[172,189,200,210,211,271,301,301,275,271,243,224],[184,197,212,213,222,230,218,258,261,245,218,182],[187,190,191,218,217,193,187,193,187,189,194,200],[180,162,181,174,171,160,160,183,183,200,185,179],[201,194,162,174,177,157,154,161,159,159,167,179]],\"type\":\"heatmap\"},{\"coloraxis\":\"coloraxis\",\"hovertemplate\":\"x: %{x}\\u003cbr\\u003ey: %{y}\\u003cbr\\u003ecolor: %{z}\\u003cextra\\u003e\\u003c\\u002fextra\\u003e\",\"name\":\"0\",\"xaxis\":\"x23\",\"yaxis\":\"y23\",\"z\":[[144,139,155,152,155,149,145,171,168,181,187,175],[151,157,154,158,153,150,156,158,144,147,156,145],[156,146,144,156,161,153,157,159,170,162,154,151],[153,172,165,151,151,161,169,176,150,143,140,154],[169,159,171,194,185,198,195,174,166,168,164,164],[181,179,207,206,210,223,209,210,188,190,188,202],[157,181,200,211,212,240,269,270,243,211,198,189],[172,178,195,200,209,216,251,270,267,253,241,210],[202,216,201,194,197,194,217,233,259,255,237,199],[175,175,188,199,182,176,176,187,203,206,200,196],[158,170,166,180,179,167,182,174,166,170,168,164],[169,164,161,152,157,159,160,156,169,158,153,170]],\"type\":\"heatmap\"},{\"coloraxis\":\"coloraxis\",\"hovertemplate\":\"x: %{x}\\u003cbr\\u003ey: %{y}\\u003cbr\\u003ecolor: %{z}\\u003cextra\\u003e\\u003c\\u002fextra\\u003e\",\"name\":\"0\",\"xaxis\":\"x24\",\"yaxis\":\"y24\",\"z\":[[159,144,154,147,155,147,173,180,194,208,187,164],[165,178,171,143,146,146,157,150,165,185,163,160],[153,159,142,145,146,150,159,161,151,152,161,148],[179,176,155,170,158,170,155,148,159,163,152,151],[177,175,195,193,191,204,195,169,161,155,166,162],[189,198,217,225,237,226,242,228,207,191,198,180],[179,188,208,223,233,245,228,247,241,205,227,217],[203,196,187,208,230,247,269,269,230,221,204,195],[210,208,201,189,211,223,243,248,243,235,214,190],[179,167,170,171,191,190,187,198,205,192,183,176],[164,170,167,179,182,174,163,180,168,154,164,167],[163,153,173,172,163,170,166,164,159,176,201,201]],\"type\":\"heatmap\"},{\"coloraxis\":\"coloraxis\",\"hovertemplate\":\"x: %{x}\\u003cbr\\u003ey: %{y}\\u003cbr\\u003ecolor: %{z}\\u003cextra\\u003e\\u003c\\u002fextra\\u003e\",\"name\":\"0\",\"xaxis\":\"x25\",\"yaxis\":\"y25\",\"z\":[[162,150,159,141,156,158,142,143,143,145,151,152],[144,152,155,150,139,157,154,150,156,150,144,141],[155,173,161,159,181,168,167,186,167,166,145,150],[183,204,188,175,214,209,193,171,157,152,151,158],[177,173,182,245,254,251,237,209,205,186,217,213],[155,183,197,205,216,256,263,254,241,244,214,203],[182,202,194,200,217,235,267,292,265,232,211,213],[204,198,199,193,194,218,250,275,286,238,195,197],[192,177,190,191,187,182,212,207,217,190,168,158],[180,187,192,173,174,166,172,183,191,163,166,192],[168,180,174,178,165,166,187,171,164,180,162,169],[184,195,195,186,183,171,150,146,158,176,181,161]],\"type\":\"heatmap\"},{\"coloraxis\":\"coloraxis\",\"hovertemplate\":\"x: %{x}\\u003cbr\\u003ey: %{y}\\u003cbr\\u003ecolor: %{z}\\u003cextra\\u003e\\u003c\\u002fextra\\u003e\",\"name\":\"0\",\"xaxis\":\"x26\",\"yaxis\":\"y26\",\"z\":[[145,137,144,141,147,166,162,167,174,180,169,177],[148,149,147,137,146,157,153,149,161,160,167,166],[153,158,148,153,150,152,148,142,148,154,149,152],[160,163,188,166,175,163,168,153,149,157,151,148],[164,184,176,178,177,177,212,205,175,163,163,163],[154,192,185,190,210,223,235,236,205,195,191,206],[162,173,181,206,227,237,247,259,260,248,247,218],[190,183,191,191,215,222,260,304,285,270,212,189],[237,201,205,194,213,223,230,248,252,234,218,206],[170,204,167,175,186,182,198,194,200,202,186,180],[170,161,174,171,189,165,159,178,179,168,178,158],[168,176,161,153,167,153,148,171,163,156,163,152]],\"type\":\"heatmap\"},{\"coloraxis\":\"coloraxis\",\"hovertemplate\":\"x: %{x}\\u003cbr\\u003ey: %{y}\\u003cbr\\u003ecolor: %{z}\\u003cextra\\u003e\\u003c\\u002fextra\\u003e\",\"name\":\"0\",\"xaxis\":\"x27\",\"yaxis\":\"y27\",\"z\":[[151,152,156,176,161,158,155,166,168,177,179,196],[149,157,154,161,155,184,177,195,209,234,182,169],[167,155,152,166,172,171,184,180,177,172,167,166],[165,176,162,156,157,155,152,158,168,159,152,152],[160,151,150,163,162,159,163,151,154,159,166,162],[186,177,169,187,222,202,183,186,182,162,154,175],[172,174,184,195,234,223,234,207,200,180,201,185],[180,165,186,187,235,234,267,251,243,223,227,250],[184,179,182,195,210,257,262,266,267,234,224,203],[186,166,195,197,215,207,230,246,247,242,215,181],[224,180,171,173,176,195,204,196,199,212,184,178],[160,170,159,169,178,177,174,173,170,176,169,165]],\"type\":\"heatmap\"},{\"coloraxis\":\"coloraxis\",\"hovertemplate\":\"x: %{x}\\u003cbr\\u003ey: %{y}\\u003cbr\\u003ecolor: %{z}\\u003cextra\\u003e\\u003c\\u002fextra\\u003e\",\"name\":\"0\",\"xaxis\":\"x28\",\"yaxis\":\"y28\",\"z\":[[156,150,163,175,160,156,157,158,179,167,171,163],[161,154,168,148,169,161,174,149,161,158,159,168],[166,180,173,165,180,179,166,160,154,153,152,153],[160,174,177,183,233,203,200,200,174,163,160,166],[177,176,185,194,201,221,242,210,190,183,181,213],[166,173,173,195,202,229,247,244,221,219,215,214],[166,170,183,223,230,253,262,247,246,224,193,194],[186,187,190,214,245,225,284,274,253,244,204,185],[187,192,181,203,220,202,217,202,205,229,165,165],[164,175,175,171,169,167,177,187,169,167,169,162],[162,158,160,164,167,161,170,180,156,160,158,155],[175,182,153,158,167,169,155,158,169,155,154,159]],\"type\":\"heatmap\"},{\"coloraxis\":\"coloraxis\",\"hovertemplate\":\"x: %{x}\\u003cbr\\u003ey: %{y}\\u003cbr\\u003ecolor: %{z}\\u003cextra\\u003e\\u003c\\u002fextra\\u003e\",\"name\":\"0\",\"xaxis\":\"x29\",\"yaxis\":\"y29\",\"z\":[[145,143,145,148,151,153,158,159,166,161,163,163],[143,152,157,153,163,173,152,145,153,163,160,153],[150,143,146,152,152,154,147,153,154,158,159,158],[150,162,159,161,155,175,191,198,178,170,149,162],[156,162,164,175,179,211,222,209,203,174,177,169],[156,163,169,189,194,208,222,220,220,209,192,194],[164,159,189,170,210,227,230,275,242,216,233,234],[166,168,170,186,217,252,287,296,260,225,200,192],[181,168,184,188,193,226,235,257,254,246,251,199],[197,201,216,205,204,193,214,225,202,208,192,184],[181,171,196,192,193,171,162,162,176,163,172,184],[177,162,182,187,166,171,170,179,171,164,158,158]],\"type\":\"heatmap\"},{\"coloraxis\":\"coloraxis\",\"hovertemplate\":\"x: %{x}\\u003cbr\\u003ey: %{y}\\u003cbr\\u003ecolor: %{z}\\u003cextra\\u003e\\u003c\\u002fextra\\u003e\",\"name\":\"0\",\"xaxis\":\"x30\",\"yaxis\":\"y30\",\"z\":[[153,157,158,154,150,164,155,158,154,185,153,159],[158,170,156,168,160,174,168,181,156,147,151,145],[159,159,172,171,186,201,191,192,185,159,151,146],[175,167,178,197,210,207,215,183,173,167,170,160],[178,169,185,199,201,231,212,210,194,211,229,191],[173,184,185,195,229,227,222,211,216,233,247,229],[190,182,204,226,250,244,252,235,206,212,206,198],[180,178,197,234,234,255,266,269,224,204,181,188],[181,186,200,211,219,215,222,203,202,170,166,171],[181,173,169,170,186,179,191,165,161,165,178,179],[182,187,169,164,160,159,161,165,160,160,163,160],[157,155,156,181,170,180,164,160,160,162,155,163]],\"type\":\"heatmap\"},{\"coloraxis\":\"coloraxis\",\"hovertemplate\":\"x: %{x}\\u003cbr\\u003ey: %{y}\\u003cbr\\u003ecolor: %{z}\\u003cextra\\u003e\\u003c\\u002fextra\\u003e\",\"name\":\"0\",\"xaxis\":\"x31\",\"yaxis\":\"y31\",\"z\":[[156,152,169,161,146,159,156,158,144,155,154,157],[146,148,162,158,158,157,170,161,150,152,166,171],[174,158,167,182,171,198,220,181,189,185,157,150],[177,180,174,200,223,234,206,190,176,168,166,162],[200,177,191,184,185,175,190,215,194,208,215,183],[176,174,191,203,201,255,248,227,219,239,242,217],[179,180,199,236,276,278,253,238,213,227,226,217],[173,180,190,215,235,272,300,292,238,193,178,180],[177,209,200,214,225,227,216,212,186,197,183,171],[189,173,190,207,194,176,185,182,185,207,168,180],[160,170,167,175,175,200,181,168,158,166,160,177],[155,150,159,171,163,171,165,166,159,161,164,176]],\"type\":\"heatmap\"},{\"coloraxis\":\"coloraxis\",\"hovertemplate\":\"x: %{x}\\u003cbr\\u003ey: %{y}\\u003cbr\\u003ecolor: %{z}\\u003cextra\\u003e\\u003c\\u002fextra\\u003e\",\"name\":\"0\",\"xaxis\":\"x32\",\"yaxis\":\"y32\",\"z\":[[149,152,148,150,154,172,192,172,162,149,156,155],[145,154,145,139,158,164,164,172,177,179,158,164],[160,157,170,147,145,156,165,192,190,191,187,180],[167,166,164,167,173,166,179,197,216,206,183,171],[151,166,174,168,162,176,182,185,200,195,199,200],[163,152,159,167,164,173,184,207,223,220,214,215],[149,157,150,158,174,194,228,228,253,264,257,234],[175,162,175,169,182,214,270,261,266,255,220,198],[156,156,169,172,185,195,213,216,217,244,217,189],[172,171,166,169,177,185,198,171,175,183,182,171],[163,187,181,163,158,166,166,176,183,171,161,162],[165,171,168,149,159,164,160,159,163,158,152,159]],\"type\":\"heatmap\"},{\"coloraxis\":\"coloraxis\",\"hovertemplate\":\"x: %{x}\\u003cbr\\u003ey: %{y}\\u003cbr\\u003ecolor: %{z}\\u003cextra\\u003e\\u003c\\u002fextra\\u003e\",\"name\":\"0\",\"xaxis\":\"x33\",\"yaxis\":\"y33\",\"z\":[[141,152,151,149,145,148,153,154,151,157,154,151],[154,149,142,145,152,168,160,151,164,156,156,149],[169,160,160,156,168,166,169,211,165,157,162,166],[168,171,172,166,166,168,180,185,184,175,198,168],[168,167,179,168,170,166,177,205,207,191,208,198],[169,169,163,164,186,208,211,204,195,213,217,214],[164,176,182,202,241,260,267,228,197,211,209,214],[154,182,184,215,224,226,250,268,234,193,203,191],[184,188,173,179,214,252,230,225,215,205,184,161],[160,163,174,173,169,172,194,193,168,173,154,144],[176,159,176,174,177,183,198,179,159,158,153,158],[191,176,183,161,168,151,152,176,160,163,154,152]],\"type\":\"heatmap\"},{\"coloraxis\":\"coloraxis\",\"hovertemplate\":\"x: %{x}\\u003cbr\\u003ey: %{y}\\u003cbr\\u003ecolor: %{z}\\u003cextra\\u003e\\u003c\\u002fextra\\u003e\",\"name\":\"0\",\"xaxis\":\"x34\",\"yaxis\":\"y34\",\"z\":[[146,147,149,152,149,141,145,155,159,145,157,149],[148,153,149,155,149,150,145,147,155,158,191,154],[158,166,153,147,161,175,154,167,171,183,171,170],[145,159,170,166,159,159,161,174,181,178,174,186],[157,166,177,162,182,196,189,168,173,176,176,207],[150,155,164,175,177,182,190,193,208,234,218,227],[140,149,159,186,195,189,219,228,246,248,230,208],[162,146,153,173,216,205,229,234,239,241,220,198],[153,161,156,168,176,194,198,211,235,248,237,201],[154,170,165,156,172,187,181,196,187,187,192,181],[158,172,170,172,173,176,191,181,174,163,166,175],[178,188,206,175,180,205,181,169,178,156,166,163]],\"type\":\"heatmap\"}],                        {\"template\":{\"data\":{\"histogram2dcontour\":[{\"type\":\"histogram2dcontour\",\"colorbar\":{\"outlinewidth\":0,\"ticks\":\"\"},\"colorscale\":[[0.0,\"#0d0887\"],[0.1111111111111111,\"#46039f\"],[0.2222222222222222,\"#7201a8\"],[0.3333333333333333,\"#9c179e\"],[0.4444444444444444,\"#bd3786\"],[0.5555555555555556,\"#d8576b\"],[0.6666666666666666,\"#ed7953\"],[0.7777777777777778,\"#fb9f3a\"],[0.8888888888888888,\"#fdca26\"],[1.0,\"#f0f921\"]]}],\"choropleth\":[{\"type\":\"choropleth\",\"colorbar\":{\"outlinewidth\":0,\"ticks\":\"\"}}],\"histogram2d\":[{\"type\":\"histogram2d\",\"colorbar\":{\"outlinewidth\":0,\"ticks\":\"\"},\"colorscale\":[[0.0,\"#0d0887\"],[0.1111111111111111,\"#46039f\"],[0.2222222222222222,\"#7201a8\"],[0.3333333333333333,\"#9c179e\"],[0.4444444444444444,\"#bd3786\"],[0.5555555555555556,\"#d8576b\"],[0.6666666666666666,\"#ed7953\"],[0.7777777777777778,\"#fb9f3a\"],[0.8888888888888888,\"#fdca26\"],[1.0,\"#f0f921\"]]}],\"heatmap\":[{\"type\":\"heatmap\",\"colorbar\":{\"outlinewidth\":0,\"ticks\":\"\"},\"colorscale\":[[0.0,\"#0d0887\"],[0.1111111111111111,\"#46039f\"],[0.2222222222222222,\"#7201a8\"],[0.3333333333333333,\"#9c179e\"],[0.4444444444444444,\"#bd3786\"],[0.5555555555555556,\"#d8576b\"],[0.6666666666666666,\"#ed7953\"],[0.7777777777777778,\"#fb9f3a\"],[0.8888888888888888,\"#fdca26\"],[1.0,\"#f0f921\"]]}],\"heatmapgl\":[{\"type\":\"heatmapgl\",\"colorbar\":{\"outlinewidth\":0,\"ticks\":\"\"},\"colorscale\":[[0.0,\"#0d0887\"],[0.1111111111111111,\"#46039f\"],[0.2222222222222222,\"#7201a8\"],[0.3333333333333333,\"#9c179e\"],[0.4444444444444444,\"#bd3786\"],[0.5555555555555556,\"#d8576b\"],[0.6666666666666666,\"#ed7953\"],[0.7777777777777778,\"#fb9f3a\"],[0.8888888888888888,\"#fdca26\"],[1.0,\"#f0f921\"]]}],\"contourcarpet\":[{\"type\":\"contourcarpet\",\"colorbar\":{\"outlinewidth\":0,\"ticks\":\"\"}}],\"contour\":[{\"type\":\"contour\",\"colorbar\":{\"outlinewidth\":0,\"ticks\":\"\"},\"colorscale\":[[0.0,\"#0d0887\"],[0.1111111111111111,\"#46039f\"],[0.2222222222222222,\"#7201a8\"],[0.3333333333333333,\"#9c179e\"],[0.4444444444444444,\"#bd3786\"],[0.5555555555555556,\"#d8576b\"],[0.6666666666666666,\"#ed7953\"],[0.7777777777777778,\"#fb9f3a\"],[0.8888888888888888,\"#fdca26\"],[1.0,\"#f0f921\"]]}],\"surface\":[{\"type\":\"surface\",\"colorbar\":{\"outlinewidth\":0,\"ticks\":\"\"},\"colorscale\":[[0.0,\"#0d0887\"],[0.1111111111111111,\"#46039f\"],[0.2222222222222222,\"#7201a8\"],[0.3333333333333333,\"#9c179e\"],[0.4444444444444444,\"#bd3786\"],[0.5555555555555556,\"#d8576b\"],[0.6666666666666666,\"#ed7953\"],[0.7777777777777778,\"#fb9f3a\"],[0.8888888888888888,\"#fdca26\"],[1.0,\"#f0f921\"]]}],\"mesh3d\":[{\"type\":\"mesh3d\",\"colorbar\":{\"outlinewidth\":0,\"ticks\":\"\"}}],\"scatter\":[{\"fillpattern\":{\"fillmode\":\"overlay\",\"size\":10,\"solidity\":0.2},\"type\":\"scatter\"}],\"parcoords\":[{\"type\":\"parcoords\",\"line\":{\"colorbar\":{\"outlinewidth\":0,\"ticks\":\"\"}}}],\"scatterpolargl\":[{\"type\":\"scatterpolargl\",\"marker\":{\"colorbar\":{\"outlinewidth\":0,\"ticks\":\"\"}}}],\"bar\":[{\"error_x\":{\"color\":\"#2a3f5f\"},\"error_y\":{\"color\":\"#2a3f5f\"},\"marker\":{\"line\":{\"color\":\"#E5ECF6\",\"width\":0.5},\"pattern\":{\"fillmode\":\"overlay\",\"size\":10,\"solidity\":0.2}},\"type\":\"bar\"}],\"scattergeo\":[{\"type\":\"scattergeo\",\"marker\":{\"colorbar\":{\"outlinewidth\":0,\"ticks\":\"\"}}}],\"scatterpolar\":[{\"type\":\"scatterpolar\",\"marker\":{\"colorbar\":{\"outlinewidth\":0,\"ticks\":\"\"}}}],\"histogram\":[{\"marker\":{\"pattern\":{\"fillmode\":\"overlay\",\"size\":10,\"solidity\":0.2}},\"type\":\"histogram\"}],\"scattergl\":[{\"type\":\"scattergl\",\"marker\":{\"colorbar\":{\"outlinewidth\":0,\"ticks\":\"\"}}}],\"scatter3d\":[{\"type\":\"scatter3d\",\"line\":{\"colorbar\":{\"outlinewidth\":0,\"ticks\":\"\"}},\"marker\":{\"colorbar\":{\"outlinewidth\":0,\"ticks\":\"\"}}}],\"scattermapbox\":[{\"type\":\"scattermapbox\",\"marker\":{\"colorbar\":{\"outlinewidth\":0,\"ticks\":\"\"}}}],\"scatterternary\":[{\"type\":\"scatterternary\",\"marker\":{\"colorbar\":{\"outlinewidth\":0,\"ticks\":\"\"}}}],\"scattercarpet\":[{\"type\":\"scattercarpet\",\"marker\":{\"colorbar\":{\"outlinewidth\":0,\"ticks\":\"\"}}}],\"carpet\":[{\"aaxis\":{\"endlinecolor\":\"#2a3f5f\",\"gridcolor\":\"white\",\"linecolor\":\"white\",\"minorgridcolor\":\"white\",\"startlinecolor\":\"#2a3f5f\"},\"baxis\":{\"endlinecolor\":\"#2a3f5f\",\"gridcolor\":\"white\",\"linecolor\":\"white\",\"minorgridcolor\":\"white\",\"startlinecolor\":\"#2a3f5f\"},\"type\":\"carpet\"}],\"table\":[{\"cells\":{\"fill\":{\"color\":\"#EBF0F8\"},\"line\":{\"color\":\"white\"}},\"header\":{\"fill\":{\"color\":\"#C8D4E3\"},\"line\":{\"color\":\"white\"}},\"type\":\"table\"}],\"barpolar\":[{\"marker\":{\"line\":{\"color\":\"#E5ECF6\",\"width\":0.5},\"pattern\":{\"fillmode\":\"overlay\",\"size\":10,\"solidity\":0.2}},\"type\":\"barpolar\"}],\"pie\":[{\"automargin\":true,\"type\":\"pie\"}]},\"layout\":{\"autotypenumbers\":\"strict\",\"colorway\":[\"#636efa\",\"#EF553B\",\"#00cc96\",\"#ab63fa\",\"#FFA15A\",\"#19d3f3\",\"#FF6692\",\"#B6E880\",\"#FF97FF\",\"#FECB52\"],\"font\":{\"color\":\"#2a3f5f\"},\"hovermode\":\"closest\",\"hoverlabel\":{\"align\":\"left\"},\"paper_bgcolor\":\"white\",\"plot_bgcolor\":\"#E5ECF6\",\"polar\":{\"bgcolor\":\"#E5ECF6\",\"angularaxis\":{\"gridcolor\":\"white\",\"linecolor\":\"white\",\"ticks\":\"\"},\"radialaxis\":{\"gridcolor\":\"white\",\"linecolor\":\"white\",\"ticks\":\"\"}},\"ternary\":{\"bgcolor\":\"#E5ECF6\",\"aaxis\":{\"gridcolor\":\"white\",\"linecolor\":\"white\",\"ticks\":\"\"},\"baxis\":{\"gridcolor\":\"white\",\"linecolor\":\"white\",\"ticks\":\"\"},\"caxis\":{\"gridcolor\":\"white\",\"linecolor\":\"white\",\"ticks\":\"\"}},\"coloraxis\":{\"colorbar\":{\"outlinewidth\":0,\"ticks\":\"\"}},\"colorscale\":{\"sequential\":[[0.0,\"#0d0887\"],[0.1111111111111111,\"#46039f\"],[0.2222222222222222,\"#7201a8\"],[0.3333333333333333,\"#9c179e\"],[0.4444444444444444,\"#bd3786\"],[0.5555555555555556,\"#d8576b\"],[0.6666666666666666,\"#ed7953\"],[0.7777777777777778,\"#fb9f3a\"],[0.8888888888888888,\"#fdca26\"],[1.0,\"#f0f921\"]],\"sequentialminus\":[[0.0,\"#0d0887\"],[0.1111111111111111,\"#46039f\"],[0.2222222222222222,\"#7201a8\"],[0.3333333333333333,\"#9c179e\"],[0.4444444444444444,\"#bd3786\"],[0.5555555555555556,\"#d8576b\"],[0.6666666666666666,\"#ed7953\"],[0.7777777777777778,\"#fb9f3a\"],[0.8888888888888888,\"#fdca26\"],[1.0,\"#f0f921\"]],\"diverging\":[[0,\"#8e0152\"],[0.1,\"#c51b7d\"],[0.2,\"#de77ae\"],[0.3,\"#f1b6da\"],[0.4,\"#fde0ef\"],[0.5,\"#f7f7f7\"],[0.6,\"#e6f5d0\"],[0.7,\"#b8e186\"],[0.8,\"#7fbc41\"],[0.9,\"#4d9221\"],[1,\"#276419\"]]},\"xaxis\":{\"gridcolor\":\"white\",\"linecolor\":\"white\",\"ticks\":\"\",\"title\":{\"standoff\":15},\"zerolinecolor\":\"white\",\"automargin\":true,\"zerolinewidth\":2},\"yaxis\":{\"gridcolor\":\"white\",\"linecolor\":\"white\",\"ticks\":\"\",\"title\":{\"standoff\":15},\"zerolinecolor\":\"white\",\"automargin\":true,\"zerolinewidth\":2},\"scene\":{\"xaxis\":{\"backgroundcolor\":\"#E5ECF6\",\"gridcolor\":\"white\",\"linecolor\":\"white\",\"showbackground\":true,\"ticks\":\"\",\"zerolinecolor\":\"white\",\"gridwidth\":2},\"yaxis\":{\"backgroundcolor\":\"#E5ECF6\",\"gridcolor\":\"white\",\"linecolor\":\"white\",\"showbackground\":true,\"ticks\":\"\",\"zerolinecolor\":\"white\",\"gridwidth\":2},\"zaxis\":{\"backgroundcolor\":\"#E5ECF6\",\"gridcolor\":\"white\",\"linecolor\":\"white\",\"showbackground\":true,\"ticks\":\"\",\"zerolinecolor\":\"white\",\"gridwidth\":2}},\"shapedefaults\":{\"line\":{\"color\":\"#2a3f5f\"}},\"annotationdefaults\":{\"arrowcolor\":\"#2a3f5f\",\"arrowhead\":0,\"arrowwidth\":1},\"geo\":{\"bgcolor\":\"white\",\"landcolor\":\"#E5ECF6\",\"subunitcolor\":\"white\",\"showland\":true,\"showlakes\":true,\"lakecolor\":\"white\"},\"title\":{\"x\":0.05},\"mapbox\":{\"style\":\"light\"}}},\"xaxis\":{\"anchor\":\"y\",\"domain\":[0.0,0.1183673469387755]},\"yaxis\":{\"anchor\":\"x\",\"domain\":[0.848,1.0]},\"xaxis2\":{\"anchor\":\"y2\",\"domain\":[0.14693877551020407,0.26530612244897955]},\"yaxis2\":{\"anchor\":\"x2\",\"domain\":[0.848,1.0]},\"xaxis3\":{\"anchor\":\"y3\",\"domain\":[0.29387755102040813,0.4122448979591836]},\"yaxis3\":{\"anchor\":\"x3\",\"domain\":[0.848,1.0]},\"xaxis4\":{\"anchor\":\"y4\",\"domain\":[0.4408163265306122,0.5591836734693877]},\"yaxis4\":{\"anchor\":\"x4\",\"domain\":[0.848,1.0]},\"xaxis5\":{\"anchor\":\"y5\",\"domain\":[0.5877551020408163,0.7061224489795918]},\"yaxis5\":{\"anchor\":\"x5\",\"domain\":[0.848,1.0]},\"xaxis6\":{\"anchor\":\"y6\",\"domain\":[0.7346938775510204,0.8530612244897959]},\"yaxis6\":{\"anchor\":\"x6\",\"domain\":[0.848,1.0]},\"xaxis7\":{\"anchor\":\"y7\",\"domain\":[0.8816326530612244,0.9999999999999999]},\"yaxis7\":{\"anchor\":\"x7\",\"domain\":[0.848,1.0]},\"xaxis8\":{\"anchor\":\"y8\",\"domain\":[0.0,0.1183673469387755]},\"yaxis8\":{\"anchor\":\"x8\",\"domain\":[0.6359999999999999,0.7879999999999999]},\"xaxis9\":{\"anchor\":\"y9\",\"domain\":[0.14693877551020407,0.26530612244897955]},\"yaxis9\":{\"anchor\":\"x9\",\"domain\":[0.6359999999999999,0.7879999999999999]},\"xaxis10\":{\"anchor\":\"y10\",\"domain\":[0.29387755102040813,0.4122448979591836]},\"yaxis10\":{\"anchor\":\"x10\",\"domain\":[0.6359999999999999,0.7879999999999999]},\"xaxis11\":{\"anchor\":\"y11\",\"domain\":[0.4408163265306122,0.5591836734693877]},\"yaxis11\":{\"anchor\":\"x11\",\"domain\":[0.6359999999999999,0.7879999999999999]},\"xaxis12\":{\"anchor\":\"y12\",\"domain\":[0.5877551020408163,0.7061224489795918]},\"yaxis12\":{\"anchor\":\"x12\",\"domain\":[0.6359999999999999,0.7879999999999999]},\"xaxis13\":{\"anchor\":\"y13\",\"domain\":[0.7346938775510204,0.8530612244897959]},\"yaxis13\":{\"anchor\":\"x13\",\"domain\":[0.6359999999999999,0.7879999999999999]},\"xaxis14\":{\"anchor\":\"y14\",\"domain\":[0.8816326530612244,0.9999999999999999]},\"yaxis14\":{\"anchor\":\"x14\",\"domain\":[0.6359999999999999,0.7879999999999999]},\"xaxis15\":{\"anchor\":\"y15\",\"domain\":[0.0,0.1183673469387755]},\"yaxis15\":{\"anchor\":\"x15\",\"domain\":[0.424,0.576]},\"xaxis16\":{\"anchor\":\"y16\",\"domain\":[0.14693877551020407,0.26530612244897955]},\"yaxis16\":{\"anchor\":\"x16\",\"domain\":[0.424,0.576]},\"xaxis17\":{\"anchor\":\"y17\",\"domain\":[0.29387755102040813,0.4122448979591836]},\"yaxis17\":{\"anchor\":\"x17\",\"domain\":[0.424,0.576]},\"xaxis18\":{\"anchor\":\"y18\",\"domain\":[0.4408163265306122,0.5591836734693877]},\"yaxis18\":{\"anchor\":\"x18\",\"domain\":[0.424,0.576]},\"xaxis19\":{\"anchor\":\"y19\",\"domain\":[0.5877551020408163,0.7061224489795918]},\"yaxis19\":{\"anchor\":\"x19\",\"domain\":[0.424,0.576]},\"xaxis20\":{\"anchor\":\"y20\",\"domain\":[0.7346938775510204,0.8530612244897959]},\"yaxis20\":{\"anchor\":\"x20\",\"domain\":[0.424,0.576]},\"xaxis21\":{\"anchor\":\"y21\",\"domain\":[0.8816326530612244,0.9999999999999999]},\"yaxis21\":{\"anchor\":\"x21\",\"domain\":[0.424,0.576]},\"xaxis22\":{\"anchor\":\"y22\",\"domain\":[0.0,0.1183673469387755]},\"yaxis22\":{\"anchor\":\"x22\",\"domain\":[0.212,0.364]},\"xaxis23\":{\"anchor\":\"y23\",\"domain\":[0.14693877551020407,0.26530612244897955]},\"yaxis23\":{\"anchor\":\"x23\",\"domain\":[0.212,0.364]},\"xaxis24\":{\"anchor\":\"y24\",\"domain\":[0.29387755102040813,0.4122448979591836]},\"yaxis24\":{\"anchor\":\"x24\",\"domain\":[0.212,0.364]},\"xaxis25\":{\"anchor\":\"y25\",\"domain\":[0.4408163265306122,0.5591836734693877]},\"yaxis25\":{\"anchor\":\"x25\",\"domain\":[0.212,0.364]},\"xaxis26\":{\"anchor\":\"y26\",\"domain\":[0.5877551020408163,0.7061224489795918]},\"yaxis26\":{\"anchor\":\"x26\",\"domain\":[0.212,0.364]},\"xaxis27\":{\"anchor\":\"y27\",\"domain\":[0.7346938775510204,0.8530612244897959]},\"yaxis27\":{\"anchor\":\"x27\",\"domain\":[0.212,0.364]},\"xaxis28\":{\"anchor\":\"y28\",\"domain\":[0.8816326530612244,0.9999999999999999]},\"yaxis28\":{\"anchor\":\"x28\",\"domain\":[0.212,0.364]},\"xaxis29\":{\"anchor\":\"y29\",\"domain\":[0.0,0.1183673469387755]},\"yaxis29\":{\"anchor\":\"x29\",\"domain\":[0.0,0.152]},\"xaxis30\":{\"anchor\":\"y30\",\"domain\":[0.14693877551020407,0.26530612244897955]},\"yaxis30\":{\"anchor\":\"x30\",\"domain\":[0.0,0.152]},\"xaxis31\":{\"anchor\":\"y31\",\"domain\":[0.29387755102040813,0.4122448979591836]},\"yaxis31\":{\"anchor\":\"x31\",\"domain\":[0.0,0.152]},\"xaxis32\":{\"anchor\":\"y32\",\"domain\":[0.4408163265306122,0.5591836734693877]},\"yaxis32\":{\"anchor\":\"x32\",\"domain\":[0.0,0.152]},\"xaxis33\":{\"anchor\":\"y33\",\"domain\":[0.5877551020408163,0.7061224489795918]},\"yaxis33\":{\"anchor\":\"x33\",\"domain\":[0.0,0.152]},\"xaxis34\":{\"anchor\":\"y34\",\"domain\":[0.7346938775510204,0.8530612244897959]},\"yaxis34\":{\"anchor\":\"x34\",\"domain\":[0.0,0.152]},\"xaxis35\":{\"anchor\":\"y35\",\"domain\":[0.8816326530612244,0.9999999999999999]},\"yaxis35\":{\"anchor\":\"x35\",\"domain\":[0.0,0.152]}},                        {\"responsive\": true}                    ).then(function(){\n",
       "                            \n",
       "var gd = document.getElementById('4e92486a-fc97-4d50-b710-de5d0d2b9962');\n",
       "var x = new MutationObserver(function (mutations, observer) {{\n",
       "        var display = window.getComputedStyle(gd).display;\n",
       "        if (!display || display === 'none') {{\n",
       "            console.log([gd, 'removed!']);\n",
       "            Plotly.purge(gd);\n",
       "            observer.disconnect();\n",
       "        }}\n",
       "}});\n",
       "\n",
       "// Listen for the removal of the full notebook cells\n",
       "var notebookContainer = gd.closest('#notebook-container');\n",
       "if (notebookContainer) {{\n",
       "    x.observe(notebookContainer, {childList: true});\n",
       "}}\n",
       "\n",
       "// Listen for the clearing of the current output cell\n",
       "var outputEl = gd.closest('.output');\n",
       "if (outputEl) {{\n",
       "    x.observe(outputEl, {childList: true});\n",
       "}}\n",
       "\n",
       "                        })                };                });            </script>        </div>"
      ]
     },
     "metadata": {},
     "output_type": "display_data"
    }
   ],
   "source": [
    "plot_raw_movie(plot_type = 'max_intensity_projection', raw_image = raw_image_3,track_number = 36)"
   ]
  },
  {
   "cell_type": "code",
   "execution_count": 31,
   "id": "c1653c29",
   "metadata": {},
   "outputs": [
    {
     "data": {
      "application/vnd.plotly.v1+json": {
       "config": {
        "plotlyServerURL": "https://plot.ly"
       },
       "data": [
        {
         "coloraxis": "coloraxis",
         "hovertemplate": "x: %{x}<br>y: %{y}<br>color: %{z}<extra></extra>",
         "name": "0",
         "type": "heatmap",
         "xaxis": "x",
         "yaxis": "y",
         "z": [
          [
           152,
           150,
           145,
           151,
           150,
           152,
           150,
           149,
           153,
           163,
           148,
           159
          ],
          [
           147,
           144,
           143,
           154,
           147,
           145,
           156,
           138,
           150,
           162,
           152,
           151
          ],
          [
           146,
           139,
           140,
           141,
           151,
           138,
           149,
           158,
           155,
           152,
           155,
           145
          ],
          [
           149,
           137,
           138,
           139,
           144,
           145,
           160,
           162,
           152,
           147,
           157,
           164
          ],
          [
           158,
           146,
           148,
           148,
           152,
           159,
           157,
           154,
           160,
           150,
           149,
           154
          ],
          [
           139,
           142,
           141,
           147,
           145,
           165,
           156,
           175,
           152,
           156,
           155,
           143
          ],
          [
           155,
           151,
           158,
           145,
           157,
           165,
           170,
           159,
           155,
           149,
           136,
           152
          ],
          [
           164,
           148,
           160,
           151,
           168,
           151,
           147,
           159,
           168,
           170,
           151,
           161
          ],
          [
           168,
           158,
           157,
           155,
           174,
           162,
           147,
           156,
           160,
           152,
           157,
           165
          ],
          [
           149,
           146,
           156,
           162,
           151,
           158,
           153,
           149,
           150,
           166,
           151,
           154
          ],
          [
           150,
           148,
           143,
           145,
           154,
           149,
           152,
           160,
           174,
           158,
           152,
           152
          ],
          [
           150,
           159,
           155,
           157,
           154,
           155,
           143,
           143,
           149,
           153,
           154,
           152
          ]
         ]
        },
        {
         "coloraxis": "coloraxis",
         "hovertemplate": "x: %{x}<br>y: %{y}<br>color: %{z}<extra></extra>",
         "name": "0",
         "type": "heatmap",
         "xaxis": "x2",
         "yaxis": "y2",
         "z": [
          [
           140,
           141,
           134,
           138,
           137,
           145,
           137,
           146,
           162,
           148,
           151,
           152
          ],
          [
           146,
           151,
           163,
           147,
           134,
           129,
           142,
           147,
           149,
           140,
           142,
           147
          ],
          [
           143,
           143,
           139,
           138,
           143,
           148,
           144,
           143,
           141,
           146,
           143,
           141
          ],
          [
           139,
           137,
           134,
           146,
           146,
           142,
           142,
           152,
           151,
           138,
           145,
           148
          ],
          [
           145,
           147,
           145,
           145,
           142,
           141,
           144,
           147,
           149,
           161,
           142,
           144
          ],
          [
           143,
           142,
           154,
           149,
           152,
           137,
           145,
           162,
           159,
           143,
           145,
           153
          ],
          [
           151,
           148,
           147,
           146,
           156,
           157,
           153,
           150,
           150,
           143,
           152,
           145
          ],
          [
           141,
           140,
           140,
           141,
           158,
           161,
           166,
           152,
           158,
           144,
           142,
           154
          ],
          [
           142,
           152,
           143,
           145,
           151,
           157,
           153,
           146,
           151,
           141,
           152,
           150
          ],
          [
           154,
           148,
           148,
           148,
           155,
           157,
           154,
           150,
           150,
           170,
           139,
           141
          ],
          [
           153,
           148,
           167,
           153,
           151,
           139,
           141,
           143,
           147,
           145,
           148,
           156
          ],
          [
           157,
           152,
           153,
           148,
           144,
           149,
           149,
           148,
           137,
           147,
           158,
           150
          ]
         ]
        },
        {
         "coloraxis": "coloraxis",
         "hovertemplate": "x: %{x}<br>y: %{y}<br>color: %{z}<extra></extra>",
         "name": "0",
         "type": "heatmap",
         "xaxis": "x3",
         "yaxis": "y3",
         "z": [
          [
           155,
           147,
           147,
           156,
           152,
           145,
           151,
           150,
           147,
           145,
           154,
           148
          ],
          [
           150,
           144,
           148,
           148,
           137,
           134,
           139,
           137,
           142,
           141,
           144,
           156
          ],
          [
           145,
           155,
           147,
           159,
           150,
           146,
           139,
           146,
           147,
           144,
           143,
           163
          ],
          [
           138,
           147,
           157,
           144,
           149,
           148,
           147,
           148,
           151,
           149,
           160,
           186
          ],
          [
           145,
           150,
           154,
           167,
           151,
           151,
           148,
           142,
           143,
           150,
           148,
           153
          ],
          [
           174,
           159,
           155,
           151,
           170,
           147,
           141,
           142,
           146,
           143,
           152,
           147
          ],
          [
           149,
           154,
           151,
           142,
           158,
           152,
           146,
           160,
           161,
           137,
           143,
           147
          ],
          [
           139,
           143,
           148,
           148,
           147,
           144,
           152,
           149,
           146,
           150,
           147,
           148
          ],
          [
           144,
           160,
           151,
           147,
           142,
           154,
           161,
           153,
           146,
           144,
           153,
           146
          ],
          [
           152,
           162,
           170,
           150,
           153,
           143,
           149,
           147,
           148,
           150,
           148,
           160
          ],
          [
           145,
           150,
           135,
           145,
           144,
           154,
           151,
           149,
           141,
           144,
           145,
           146
          ],
          [
           154,
           147,
           148,
           154,
           145,
           135,
           138,
           143,
           138,
           139,
           148,
           149
          ]
         ]
        },
        {
         "coloraxis": "coloraxis",
         "hovertemplate": "x: %{x}<br>y: %{y}<br>color: %{z}<extra></extra>",
         "name": "0",
         "type": "heatmap",
         "xaxis": "x4",
         "yaxis": "y4",
         "z": [
          [
           141,
           137,
           145,
           135,
           140,
           160,
           146,
           136,
           148,
           151,
           156,
           153
          ],
          [
           132,
           137,
           140,
           140,
           138,
           139,
           154,
           147,
           140,
           135,
           145,
           150
          ],
          [
           137,
           133,
           134,
           164,
           149,
           150,
           138,
           135,
           132,
           143,
           148,
           165
          ],
          [
           139,
           142,
           146,
           135,
           139,
           150,
           132,
           132,
           136,
           147,
           162,
           160
          ],
          [
           144,
           139,
           141,
           139,
           144,
           148,
           158,
           159,
           153,
           144,
           183,
           169
          ],
          [
           148,
           149,
           147,
           145,
           145,
           143,
           155,
           153,
           160,
           144,
           149,
           166
          ],
          [
           153,
           149,
           144,
           158,
           157,
           157,
           147,
           132,
           133,
           152,
           143,
           158
          ],
          [
           146,
           141,
           142,
           156,
           159,
           172,
           159,
           160,
           141,
           145,
           155,
           160
          ],
          [
           150,
           146,
           144,
           143,
           156,
           168,
           162,
           156,
           145,
           160,
           148,
           143
          ],
          [
           145,
           154,
           142,
           147,
           154,
           163,
           148,
           168,
           164,
           161,
           157,
           146
          ],
          [
           155,
           142,
           140,
           152,
           143,
           148,
           147,
           148,
           144,
           150,
           148,
           161
          ],
          [
           161,
           148,
           141,
           148,
           167,
           143,
           152,
           141,
           159,
           156,
           153,
           155
          ]
         ]
        },
        {
         "coloraxis": "coloraxis",
         "hovertemplate": "x: %{x}<br>y: %{y}<br>color: %{z}<extra></extra>",
         "name": "0",
         "type": "heatmap",
         "xaxis": "x5",
         "yaxis": "y5",
         "z": [
          [
           139,
           148,
           148,
           147,
           143,
           160,
           144,
           141,
           140,
           134,
           133,
           139
          ],
          [
           142,
           158,
           158,
           141,
           141,
           147,
           156,
           146,
           141,
           161,
           147,
           152
          ],
          [
           138,
           150,
           146,
           142,
           133,
           140,
           132,
           143,
           144,
           144,
           140,
           147
          ],
          [
           139,
           143,
           144,
           148,
           144,
           149,
           145,
           146,
           154,
           156,
           157,
           158
          ],
          [
           155,
           149,
           155,
           146,
           144,
           143,
           136,
           143,
           144,
           143,
           139,
           133
          ],
          [
           160,
           154,
           161,
           166,
           155,
           149,
           143,
           149,
           145,
           153,
           156,
           150
          ],
          [
           153,
           165,
           152,
           150,
           144,
           151,
           143,
           146,
           145,
           146,
           147,
           134
          ],
          [
           153,
           153,
           158,
           170,
           153,
           150,
           148,
           152,
           148,
           140,
           154,
           143
          ],
          [
           148,
           153,
           145,
           157,
           139,
           143,
           148,
           147,
           163,
           147,
           140,
           139
          ],
          [
           143,
           144,
           143,
           139,
           149,
           156,
           152,
           147,
           157,
           148,
           150,
           142
          ],
          [
           165,
           156,
           142,
           139,
           145,
           152,
           146,
           143,
           147,
           173,
           144,
           139
          ],
          [
           174,
           157,
           155,
           143,
           150,
           148,
           147,
           145,
           143,
           149,
           140,
           142
          ]
         ]
        },
        {
         "coloraxis": "coloraxis",
         "hovertemplate": "x: %{x}<br>y: %{y}<br>color: %{z}<extra></extra>",
         "name": "0",
         "type": "heatmap",
         "xaxis": "x6",
         "yaxis": "y6",
         "z": [
          [
           146,
           142,
           148,
           144,
           140,
           149,
           142,
           151,
           141,
           151,
           141,
           155
          ],
          [
           134,
           143,
           152,
           153,
           152,
           144,
           153,
           156,
           150,
           142,
           143,
           148
          ],
          [
           146,
           144,
           144,
           138,
           139,
           141,
           146,
           141,
           138,
           144,
           143,
           148
          ],
          [
           141,
           147,
           145,
           140,
           142,
           143,
           146,
           151,
           155,
           157,
           148,
           146
          ],
          [
           156,
           150,
           158,
           139,
           144,
           152,
           141,
           146,
           145,
           154,
           155,
           168
          ],
          [
           151,
           142,
           152,
           151,
           143,
           149,
           152,
           152,
           146,
           153,
           145,
           142
          ],
          [
           151,
           149,
           172,
           161,
           160,
           176,
           147,
           146,
           145,
           143,
           147,
           152
          ],
          [
           147,
           157,
           153,
           159,
           156,
           158,
           170,
           157,
           146,
           144,
           146,
           149
          ],
          [
           158,
           154,
           164,
           152,
           158,
           165,
           162,
           157,
           151,
           153,
           154,
           145
          ],
          [
           140,
           139,
           146,
           155,
           151,
           153,
           149,
           151,
           144,
           149,
           149,
           141
          ],
          [
           152,
           156,
           156,
           153,
           154,
           161,
           154,
           160,
           165,
           146,
           141,
           142
          ],
          [
           155,
           144,
           154,
           156,
           136,
           145,
           154,
           143,
           134,
           146,
           143,
           147
          ]
         ]
        },
        {
         "coloraxis": "coloraxis",
         "hovertemplate": "x: %{x}<br>y: %{y}<br>color: %{z}<extra></extra>",
         "name": "0",
         "type": "heatmap",
         "xaxis": "x7",
         "yaxis": "y7",
         "z": [
          [
           134,
           144,
           147,
           135,
           148,
           134,
           135,
           134,
           166,
           151,
           138,
           138
          ],
          [
           148,
           146,
           148,
           146,
           132,
           138,
           149,
           137,
           144,
           151,
           149,
           145
          ],
          [
           142,
           132,
           145,
           140,
           137,
           132,
           136,
           142,
           140,
           151,
           153,
           148
          ],
          [
           138,
           134,
           134,
           146,
           146,
           142,
           133,
           136,
           156,
           137,
           140,
           161
          ],
          [
           141,
           142,
           148,
           143,
           146,
           151,
           142,
           137,
           136,
           136,
           151,
           146
          ],
          [
           146,
           136,
           146,
           160,
           143,
           138,
           139,
           142,
           150,
           147,
           144,
           149
          ],
          [
           140,
           134,
           177,
           153,
           142,
           145,
           144,
           144,
           140,
           138,
           142,
           135
          ],
          [
           143,
           143,
           141,
           154,
           165,
           178,
           164,
           167,
           160,
           149,
           148,
           149
          ],
          [
           147,
           153,
           156,
           144,
           155,
           162,
           160,
           158,
           153,
           152,
           155,
           133
          ],
          [
           147,
           144,
           144,
           150,
           159,
           157,
           153,
           146,
           165,
           152,
           149,
           143
          ],
          [
           151,
           154,
           146,
           151,
           149,
           147,
           151,
           160,
           166,
           166,
           156,
           148
          ],
          [
           148,
           150,
           150,
           164,
           163,
           151,
           156,
           162,
           157,
           144,
           153,
           151
          ]
         ]
        },
        {
         "coloraxis": "coloraxis",
         "hovertemplate": "x: %{x}<br>y: %{y}<br>color: %{z}<extra></extra>",
         "name": "0",
         "type": "heatmap",
         "xaxis": "x8",
         "yaxis": "y8",
         "z": [
          [
           151,
           152,
           149,
           143,
           133,
           147,
           148,
           153,
           147,
           144,
           144,
           140
          ],
          [
           144,
           142,
           149,
           141,
           140,
           138,
           139,
           154,
           150,
           142,
           149,
           147
          ],
          [
           152,
           141,
           136,
           138,
           140,
           152,
           146,
           141,
           143,
           149,
           147,
           146
          ],
          [
           148,
           142,
           143,
           138,
           155,
           168,
           157,
           142,
           157,
           172,
           147,
           142
          ],
          [
           142,
           141,
           150,
           147,
           147,
           166,
           152,
           151,
           149,
           157,
           143,
           149
          ],
          [
           145,
           148,
           162,
           148,
           149,
           156,
           155,
           160,
           154,
           152,
           146,
           143
          ],
          [
           155,
           162,
           150,
           148,
           146,
           164,
           155,
           140,
           151,
           147,
           149,
           148
          ],
          [
           144,
           148,
           146,
           151,
           161,
           163,
           164,
           149,
           147,
           144,
           144,
           152
          ],
          [
           145,
           151,
           164,
           151,
           153,
           150,
           147,
           149,
           158,
           146,
           143,
           152
          ],
          [
           157,
           151,
           160,
           162,
           147,
           146,
           148,
           149,
           150,
           160,
           151,
           145
          ],
          [
           162,
           163,
           176,
           169,
           163,
           156,
           151,
           143,
           146,
           148,
           157,
           146
          ],
          [
           163,
           155,
           146,
           153,
           154,
           163,
           146,
           146,
           144,
           145,
           150,
           145
          ]
         ]
        },
        {
         "coloraxis": "coloraxis",
         "hovertemplate": "x: %{x}<br>y: %{y}<br>color: %{z}<extra></extra>",
         "name": "0",
         "type": "heatmap",
         "xaxis": "x9",
         "yaxis": "y9",
         "z": [
          [
           161,
           149,
           134,
           143,
           134,
           146,
           147,
           144,
           138,
           142,
           142,
           141
          ],
          [
           144,
           143,
           135,
           135,
           134,
           162,
           147,
           155,
           147,
           140,
           136,
           140
          ],
          [
           145,
           152,
           139,
           144,
           134,
           136,
           138,
           137,
           142,
           147,
           151,
           138
          ],
          [
           135,
           129,
           142,
           137,
           153,
           137,
           134,
           142,
           131,
           142,
           149,
           143
          ],
          [
           139,
           144,
           142,
           145,
           147,
           153,
           153,
           159,
           144,
           136,
           151,
           156
          ],
          [
           146,
           140,
           138,
           144,
           137,
           142,
           136,
           137,
           143,
           151,
           143,
           150
          ],
          [
           136,
           143,
           137,
           147,
           164,
           155,
           149,
           149,
           140,
           145,
           149,
           145
          ],
          [
           139,
           144,
           147,
           144,
           153,
           166,
           159,
           163,
           154,
           148,
           149,
           143
          ],
          [
           146,
           150,
           144,
           145,
           145,
           152,
           149,
           154,
           204,
           160,
           150,
           146
          ],
          [
           144,
           151,
           144,
           152,
           162,
           165,
           165,
           167,
           168,
           167,
           160,
           152
          ],
          [
           155,
           152,
           157,
           172,
           194,
           203,
           183,
           160,
           153,
           163,
           155,
           147
          ],
          [
           143,
           150,
           155,
           166,
           166,
           161,
           158,
           152,
           155,
           143,
           150,
           150
          ]
         ]
        },
        {
         "coloraxis": "coloraxis",
         "hovertemplate": "x: %{x}<br>y: %{y}<br>color: %{z}<extra></extra>",
         "name": "0",
         "type": "heatmap",
         "xaxis": "x10",
         "yaxis": "y10",
         "z": [
          [
           143,
           139,
           137,
           140,
           142,
           132,
           138,
           148,
           145,
           146,
           141,
           139
          ],
          [
           136,
           138,
           134,
           135,
           143,
           141,
           145,
           146,
           135,
           136,
           140,
           142
          ],
          [
           151,
           138,
           143,
           142,
           154,
           145,
           147,
           159,
           149,
           157,
           147,
           154
          ],
          [
           146,
           141,
           150,
           148,
           141,
           153,
           160,
           152,
           145,
           142,
           144,
           149
          ],
          [
           146,
           145,
           149,
           156,
           153,
           143,
           144,
           137,
           140,
           137,
           138,
           140
          ],
          [
           158,
           159,
           159,
           174,
           162,
           147,
           154,
           146,
           147,
           142,
           143,
           133
          ],
          [
           162,
           181,
           164,
           155,
           152,
           139,
           154,
           151,
           143,
           149,
           144,
           144
          ],
          [
           156,
           163,
           154,
           165,
           165,
           150,
           148,
           144,
           155,
           147,
           141,
           141
          ],
          [
           178,
           172,
           158,
           162,
           160,
           173,
           150,
           145,
           147,
           142,
           142,
           145
          ],
          [
           162,
           164,
           150,
           146,
           149,
           153,
           146,
           146,
           138,
           144,
           137,
           143
          ],
          [
           144,
           153,
           154,
           138,
           142,
           141,
           151,
           148,
           137,
           148,
           148,
           150
          ],
          [
           148,
           150,
           152,
           141,
           139,
           142,
           145,
           154,
           145,
           152,
           148,
           157
          ]
         ]
        },
        {
         "coloraxis": "coloraxis",
         "hovertemplate": "x: %{x}<br>y: %{y}<br>color: %{z}<extra></extra>",
         "name": "0",
         "type": "heatmap",
         "xaxis": "x11",
         "yaxis": "y11",
         "z": [
          [
           144,
           140,
           143,
           139,
           133,
           153,
           146,
           143,
           137,
           144,
           169,
           142
          ],
          [
           137,
           135,
           136,
           132,
           142,
           142,
           139,
           139,
           127,
           132,
           147,
           137
          ],
          [
           131,
           136,
           140,
           153,
           144,
           143,
           153,
           133,
           149,
           148,
           140,
           148
          ],
          [
           138,
           141,
           134,
           149,
           137,
           138,
           140,
           150,
           158,
           150,
           149,
           143
          ],
          [
           155,
           162,
           138,
           146,
           133,
           140,
           146,
           135,
           148,
           171,
           156,
           137
          ],
          [
           141,
           143,
           142,
           147,
           151,
           165,
           160,
           148,
           143,
           149,
           143,
           136
          ],
          [
           148,
           155,
           148,
           158,
           192,
           168,
           147,
           156,
           158,
           149,
           143,
           149
          ],
          [
           149,
           173,
           181,
           161,
           172,
           168,
           156,
           145,
           148,
           141,
           147,
           147
          ],
          [
           155,
           149,
           156,
           155,
           162,
           182,
           163,
           150,
           139,
           144,
           151,
           151
          ],
          [
           162,
           173,
           156,
           179,
           159,
           175,
           156,
           152,
           140,
           141,
           138,
           142
          ],
          [
           167,
           185,
           164,
           161,
           148,
           151,
           150,
           146,
           143,
           143,
           140,
           144
          ],
          [
           174,
           170,
           164,
           156,
           145,
           156,
           146,
           142,
           146,
           139,
           143,
           143
          ]
         ]
        },
        {
         "coloraxis": "coloraxis",
         "hovertemplate": "x: %{x}<br>y: %{y}<br>color: %{z}<extra></extra>",
         "name": "0",
         "type": "heatmap",
         "xaxis": "x12",
         "yaxis": "y12",
         "z": [
          [
           136,
           128,
           139,
           130,
           141,
           151,
           144,
           139,
           136,
           133,
           151,
           155
          ],
          [
           134,
           137,
           147,
           139,
           149,
           141,
           132,
           139,
           136,
           150,
           145,
           140
          ],
          [
           131,
           132,
           134,
           139,
           140,
           157,
           144,
           150,
           147,
           135,
           132,
           149
          ],
          [
           138,
           142,
           135,
           133,
           141,
           140,
           142,
           142,
           142,
           136,
           138,
           146
          ],
          [
           149,
           145,
           144,
           142,
           137,
           148,
           140,
           158,
           131,
           133,
           151,
           141
          ],
          [
           142,
           151,
           150,
           149,
           156,
           140,
           149,
           147,
           153,
           142,
           133,
           144
          ],
          [
           141,
           150,
           158,
           163,
           171,
           160,
           146,
           142,
           144,
           146,
           143,
           150
          ],
          [
           146,
           148,
           157,
           174,
           160,
           161,
           155,
           152,
           158,
           147,
           136,
           146
          ],
          [
           154,
           159,
           158,
           160,
           161,
           159,
           163,
           158,
           149,
           148,
           152,
           146
          ],
          [
           171,
           161,
           164,
           160,
           159,
           188,
           151,
           147,
           153,
           147,
           144,
           145
          ],
          [
           165,
           172,
           171,
           165,
           165,
           159,
           155,
           153,
           148,
           155,
           156,
           170
          ],
          [
           187,
           162,
           156,
           147,
           149,
           152,
           163,
           152,
           149,
           152,
           143,
           142
          ]
         ]
        },
        {
         "coloraxis": "coloraxis",
         "hovertemplate": "x: %{x}<br>y: %{y}<br>color: %{z}<extra></extra>",
         "name": "0",
         "type": "heatmap",
         "xaxis": "x13",
         "yaxis": "y13",
         "z": [
          [
           145,
           139,
           135,
           138,
           149,
           143,
           143,
           140,
           150,
           140,
           136,
           131
          ],
          [
           136,
           138,
           137,
           141,
           135,
           148,
           135,
           132,
           144,
           134,
           151,
           147
          ],
          [
           143,
           142,
           150,
           145,
           133,
           133,
           136,
           146,
           149,
           151,
           140,
           140
          ],
          [
           140,
           145,
           138,
           137,
           139,
           132,
           139,
           154,
           137,
           146,
           146,
           145
          ],
          [
           147,
           151,
           160,
           147,
           147,
           142,
           139,
           134,
           138,
           139,
           143,
           137
          ],
          [
           161,
           168,
           176,
           176,
           159,
           145,
           152,
           154,
           151,
           132,
           130,
           139
          ],
          [
           154,
           165,
           191,
           187,
           160,
           144,
           154,
           154,
           142,
           133,
           144,
           143
          ],
          [
           156,
           154,
           156,
           149,
           147,
           161,
           157,
           154,
           156,
           146,
           141,
           150
          ],
          [
           186,
           172,
           172,
           150,
           159,
           153,
           147,
           142,
           156,
           134,
           151,
           155
          ],
          [
           161,
           171,
           169,
           156,
           149,
           138,
           145,
           148,
           145,
           139,
           141,
           154
          ],
          [
           154,
           142,
           141,
           140,
           155,
           147,
           171,
           140,
           138,
           153,
           138,
           145
          ],
          [
           150,
           144,
           146,
           142,
           147,
           141,
           138,
           155,
           134,
           133,
           141,
           147
          ]
         ]
        },
        {
         "coloraxis": "coloraxis",
         "hovertemplate": "x: %{x}<br>y: %{y}<br>color: %{z}<extra></extra>",
         "name": "0",
         "type": "heatmap",
         "xaxis": "x14",
         "yaxis": "y14",
         "z": [
          [
           131,
           131,
           131,
           139,
           147,
           148,
           138,
           130,
           142,
           140,
           146,
           154
          ],
          [
           140,
           138,
           138,
           140,
           133,
           144,
           142,
           137,
           137,
           146,
           137,
           143
          ],
          [
           141,
           133,
           145,
           143,
           138,
           135,
           141,
           141,
           142,
           137,
           132,
           130
          ],
          [
           145,
           143,
           135,
           145,
           137,
           132,
           145,
           139,
           145,
           144,
           141,
           137
          ],
          [
           133,
           136,
           137,
           145,
           147,
           140,
           139,
           143,
           150,
           137,
           137,
           142
          ],
          [
           146,
           149,
           143,
           151,
           162,
           153,
           153,
           154,
           147,
           143,
           140,
           141
          ],
          [
           163,
           168,
           158,
           159,
           165,
           155,
           151,
           150,
           136,
           150,
           134,
           135
          ],
          [
           145,
           146,
           171,
           200,
           171,
           171,
           156,
           143,
           153,
           148,
           139,
           143
          ],
          [
           155,
           169,
           200,
           161,
           163,
           164,
           153,
           145,
           144,
           144,
           149,
           143
          ],
          [
           168,
           185,
           205,
           197,
           167,
           158,
           164,
           138,
           141,
           146,
           150,
           147
          ],
          [
           172,
           179,
           177,
           165,
           154,
           150,
           152,
           140,
           157,
           161,
           142,
           150
          ],
          [
           166,
           169,
           155,
           155,
           150,
           152,
           154,
           162,
           147,
           148,
           151,
           151
          ]
         ]
        },
        {
         "coloraxis": "coloraxis",
         "hovertemplate": "x: %{x}<br>y: %{y}<br>color: %{z}<extra></extra>",
         "name": "0",
         "type": "heatmap",
         "xaxis": "x15",
         "yaxis": "y15",
         "z": [
          [
           140,
           139,
           138,
           135,
           151,
           136,
           138,
           141,
           147,
           132,
           140,
           148
          ],
          [
           143,
           139,
           148,
           150,
           137,
           134,
           139,
           136,
           140,
           135,
           146,
           141
          ],
          [
           135,
           139,
           136,
           149,
           135,
           151,
           141,
           139,
           153,
           141,
           136,
           136
          ],
          [
           140,
           141,
           144,
           149,
           146,
           146,
           151,
           142,
           155,
           150,
           151,
           135
          ],
          [
           152,
           150,
           151,
           159,
           147,
           148,
           147,
           141,
           147,
           151,
           150,
           161
          ],
          [
           138,
           153,
           153,
           159,
           160,
           147,
           140,
           139,
           152,
           151,
           142,
           137
          ],
          [
           170,
           157,
           159,
           167,
           187,
           173,
           152,
           144,
           147,
           141,
           137,
           142
          ],
          [
           160,
           202,
           193,
           192,
           174,
           158,
           147,
           142,
           146,
           154,
           152,
           157
          ],
          [
           177,
           177,
           177,
           170,
           162,
           157,
           153,
           155,
           156,
           153,
           148,
           149
          ],
          [
           214,
           199,
           195,
           177,
           156,
           173,
           157,
           149,
           148,
           153,
           140,
           138
          ],
          [
           205,
           191,
           166,
           162,
           157,
           146,
           145,
           153,
           144,
           140,
           144,
           144
          ],
          [
           166,
           154,
           159,
           153,
           142,
           142,
           154,
           151,
           143,
           148,
           141,
           148
          ]
         ]
        },
        {
         "coloraxis": "coloraxis",
         "hovertemplate": "x: %{x}<br>y: %{y}<br>color: %{z}<extra></extra>",
         "name": "0",
         "type": "heatmap",
         "xaxis": "x16",
         "yaxis": "y16",
         "z": [
          [
           148,
           144,
           140,
           146,
           179,
           149,
           140,
           147,
           147,
           137,
           137,
           138
          ],
          [
           136,
           137,
           141,
           142,
           135,
           144,
           140,
           145,
           136,
           137,
           163,
           146
          ],
          [
           144,
           140,
           135,
           130,
           151,
           146,
           153,
           137,
           158,
           164,
           141,
           133
          ],
          [
           152,
           133,
           127,
           136,
           135,
           154,
           147,
           139,
           139,
           151,
           168,
           152
          ],
          [
           153,
           156,
           146,
           137,
           146,
           162,
           159,
           147,
           145,
           149,
           152,
           149
          ],
          [
           152,
           142,
           158,
           155,
           148,
           169,
           148,
           147,
           155,
           155,
           146,
           131
          ],
          [
           154,
           159,
           169,
           171,
           174,
           169,
           161,
           162,
           142,
           138,
           140,
           145
          ],
          [
           175,
           179,
           166,
           184,
           179,
           160,
           151,
           154,
           141,
           147,
           144,
           145
          ],
          [
           165,
           207,
           182,
           170,
           160,
           151,
           155,
           141,
           147,
           148,
           149,
           163
          ],
          [
           215,
           240,
           208,
           193,
           182,
           168,
           148,
           146,
           143,
           139,
           136,
           139
          ],
          [
           201,
           202,
           183,
           173,
           177,
           147,
           153,
           142,
           136,
           141,
           141,
           140
          ],
          [
           171,
           146,
           155,
           151,
           137,
           148,
           161,
           146,
           149,
           132,
           135,
           139
          ]
         ]
        },
        {
         "coloraxis": "coloraxis",
         "hovertemplate": "x: %{x}<br>y: %{y}<br>color: %{z}<extra></extra>",
         "name": "0",
         "type": "heatmap",
         "xaxis": "x17",
         "yaxis": "y17",
         "z": [
          [
           139,
           137,
           129,
           144,
           143,
           139,
           144,
           150,
           140,
           137,
           137,
           135
          ],
          [
           150,
           147,
           145,
           138,
           136,
           138,
           146,
           140,
           141,
           140,
           142,
           138
          ],
          [
           137,
           161,
           148,
           134,
           143,
           140,
           140,
           143,
           133,
           145,
           136,
           142
          ],
          [
           150,
           147,
           143,
           164,
           151,
           151,
           141,
           143,
           138,
           149,
           152,
           134
          ],
          [
           144,
           143,
           145,
           147,
           138,
           140,
           149,
           155,
           159,
           139,
           132,
           144
          ],
          [
           163,
           161,
           163,
           181,
           177,
           141,
           147,
           151,
           158,
           145,
           149,
           144
          ],
          [
           166,
           162,
           163,
           175,
           164,
           167,
           147,
           146,
           145,
           140,
           142,
           141
          ],
          [
           165,
           172,
           177,
           170,
           160,
           146,
           154,
           136,
           144,
           150,
           153,
           137
          ],
          [
           192,
           192,
           182,
           203,
           179,
           149,
           146,
           139,
           148,
           143,
           148,
           153
          ],
          [
           219,
           179,
           164,
           148,
           148,
           142,
           149,
           150,
           152,
           137,
           144,
           157
          ],
          [
           155,
           163,
           149,
           146,
           137,
           137,
           140,
           139,
           140,
           159,
           147,
           149
          ],
          [
           138,
           139,
           144,
           140,
           156,
           141,
           136,
           138,
           148,
           147,
           152,
           148
          ]
         ]
        },
        {
         "coloraxis": "coloraxis",
         "hovertemplate": "x: %{x}<br>y: %{y}<br>color: %{z}<extra></extra>",
         "name": "0",
         "type": "heatmap",
         "xaxis": "x18",
         "yaxis": "y18",
         "z": [
          [
           134,
           137,
           135,
           130,
           136,
           138,
           136,
           133,
           136,
           149,
           144,
           143
          ],
          [
           142,
           162,
           138,
           135,
           141,
           138,
           136,
           137,
           145,
           141,
           148,
           135
          ],
          [
           140,
           148,
           142,
           146,
           142,
           140,
           135,
           145,
           138,
           139,
           141,
           146
          ],
          [
           137,
           147,
           139,
           138,
           139,
           142,
           145,
           141,
           138,
           144,
           137,
           150
          ],
          [
           135,
           131,
           143,
           141,
           142,
           144,
           148,
           150,
           149,
           147,
           143,
           141
          ],
          [
           145,
           145,
           160,
           142,
           145,
           140,
           150,
           157,
           151,
           154,
           137,
           143
          ],
          [
           153,
           140,
           145,
           148,
           143,
           168,
           184,
           183,
           146,
           153,
           144,
           136
          ],
          [
           146,
           144,
           144,
           156,
           160,
           169,
           176,
           202,
           168,
           171,
           161,
           150
          ],
          [
           151,
           149,
           164,
           174,
           173,
           191,
           164,
           175,
           171,
           165,
           165,
           141
          ],
          [
           150,
           163,
           171,
           189,
           185,
           183,
           180,
           164,
           168,
           148,
           140,
           146
          ],
          [
           147,
           169,
           172,
           174,
           179,
           173,
           208,
           162,
           162,
           144,
           143,
           137
          ],
          [
           143,
           154,
           143,
           160,
           148,
           148,
           149,
           145,
           154,
           156,
           149,
           151
          ]
         ]
        },
        {
         "coloraxis": "coloraxis",
         "hovertemplate": "x: %{x}<br>y: %{y}<br>color: %{z}<extra></extra>",
         "name": "0",
         "type": "heatmap",
         "xaxis": "x19",
         "yaxis": "y19",
         "z": [
          [
           135,
           137,
           132,
           144,
           142,
           157,
           147,
           136,
           137,
           138,
           139,
           138
          ],
          [
           141,
           137,
           139,
           141,
           148,
           146,
           139,
           140,
           143,
           140,
           147,
           143
          ],
          [
           145,
           141,
           144,
           148,
           150,
           148,
           145,
           144,
           143,
           142,
           143,
           141
          ],
          [
           146,
           141,
           139,
           138,
           141,
           153,
           152,
           147,
           141,
           147,
           144,
           151
          ],
          [
           150,
           152,
           142,
           147,
           159,
           163,
           160,
           153,
           146,
           159,
           147,
           159
          ],
          [
           152,
           149,
           144,
           167,
           141,
           150,
           164,
           157,
           173,
           161,
           160,
           154
          ],
          [
           138,
           134,
           144,
           146,
           147,
           146,
           152,
           147,
           163,
           171,
           168,
           147
          ],
          [
           146,
           148,
           155,
           149,
           153,
           153,
           159,
           160,
           166,
           150,
           145,
           156
          ],
          [
           147,
           141,
           157,
           159,
           153,
           151,
           161,
           159,
           149,
           156,
           153,
           146
          ],
          [
           142,
           159,
           152,
           151,
           149,
           148,
           143,
           150,
           173,
           160,
           158,
           145
          ],
          [
           146,
           150,
           148,
           142,
           140,
           155,
           149,
           138,
           146,
           147,
           141,
           142
          ],
          [
           144,
           141,
           147,
           142,
           142,
           146,
           149,
           157,
           156,
           140,
           151,
           143
          ]
         ]
        },
        {
         "coloraxis": "coloraxis",
         "hovertemplate": "x: %{x}<br>y: %{y}<br>color: %{z}<extra></extra>",
         "name": "0",
         "type": "heatmap",
         "xaxis": "x20",
         "yaxis": "y20",
         "z": [
          [
           141,
           138,
           136,
           165,
           140,
           139,
           141,
           152,
           138,
           137,
           133,
           143
          ],
          [
           136,
           137,
           139,
           140,
           145,
           134,
           128,
           138,
           139,
           141,
           135,
           136
          ],
          [
           155,
           146,
           137,
           137,
           140,
           140,
           138,
           130,
           133,
           136,
           133,
           132
          ],
          [
           137,
           138,
           137,
           138,
           141,
           148,
           155,
           154,
           144,
           144,
           136,
           145
          ],
          [
           142,
           141,
           137,
           144,
           143,
           143,
           139,
           146,
           155,
           137,
           142,
           158
          ],
          [
           143,
           142,
           143,
           134,
           133,
           135,
           143,
           143,
           140,
           138,
           137,
           155
          ],
          [
           156,
           140,
           149,
           141,
           138,
           149,
           157,
           163,
           151,
           162,
           141,
           139
          ],
          [
           138,
           148,
           150,
           139,
           148,
           152,
           160,
           144,
           154,
           158,
           144,
           139
          ],
          [
           141,
           140,
           148,
           142,
           150,
           158,
           159,
           152,
           149,
           140,
           148,
           155
          ],
          [
           151,
           144,
           137,
           130,
           150,
           140,
           153,
           144,
           149,
           151,
           148,
           153
          ],
          [
           138,
           146,
           150,
           149,
           141,
           142,
           138,
           137,
           145,
           160,
           148,
           162
          ],
          [
           135,
           150,
           158,
           150,
           135,
           140,
           146,
           141,
           141,
           145,
           146,
           157
          ]
         ]
        },
        {
         "coloraxis": "coloraxis",
         "hovertemplate": "x: %{x}<br>y: %{y}<br>color: %{z}<extra></extra>",
         "name": "0",
         "type": "heatmap",
         "xaxis": "x21",
         "yaxis": "y21",
         "z": [
          [
           144,
           139,
           144,
           136,
           142,
           142,
           134,
           152,
           141,
           143,
           134,
           138
          ],
          [
           135,
           150,
           141,
           141,
           139,
           128,
           136,
           136,
           146,
           144,
           138,
           136
          ],
          [
           136,
           129,
           139,
           143,
           136,
           135,
           140,
           148,
           140,
           138,
           128,
           139
          ],
          [
           132,
           134,
           146,
           139,
           133,
           142,
           141,
           147,
           136,
           136,
           133,
           134
          ],
          [
           138,
           138,
           132,
           148,
           135,
           152,
           150,
           145,
           138,
           133,
           133,
           153
          ],
          [
           139,
           145,
           164,
           151,
           150,
           160,
           146,
           139,
           133,
           137,
           141,
           145
          ],
          [
           149,
           161,
           154,
           145,
           145,
           159,
           149,
           141,
           143,
           138,
           142,
           150
          ],
          [
           139,
           139,
           150,
           151,
           159,
           163,
           151,
           150,
           150,
           153,
           150,
           139
          ],
          [
           147,
           148,
           152,
           161,
           164,
           170,
           158,
           155,
           157,
           149,
           148,
           160
          ],
          [
           153,
           143,
           147,
           145,
           150,
           159,
           162,
           153,
           146,
           148,
           141,
           145
          ],
          [
           149,
           150,
           167,
           162,
           149,
           145,
           146,
           146,
           147,
           142,
           134,
           149
          ],
          [
           143,
           146,
           142,
           147,
           130,
           141,
           146,
           143,
           137,
           146,
           144,
           145
          ]
         ]
        },
        {
         "coloraxis": "coloraxis",
         "hovertemplate": "x: %{x}<br>y: %{y}<br>color: %{z}<extra></extra>",
         "name": "0",
         "type": "heatmap",
         "xaxis": "x22",
         "yaxis": "y22",
         "z": [
          [
           139,
           140,
           143,
           136,
           142,
           136,
           143,
           136,
           139,
           145,
           148,
           145
          ],
          [
           151,
           140,
           159,
           136,
           134,
           141,
           149,
           141,
           149,
           143,
           151,
           138
          ],
          [
           146,
           144,
           139,
           140,
           134,
           142,
           142,
           131,
           140,
           141,
           143,
           141
          ],
          [
           138,
           137,
           136,
           142,
           142,
           138,
           142,
           150,
           150,
           153,
           146,
           144
          ],
          [
           141,
           145,
           141,
           138,
           143,
           144,
           140,
           134,
           146,
           149,
           141,
           146
          ],
          [
           136,
           139,
           142,
           150,
           141,
           141,
           142,
           138,
           138,
           140,
           149,
           139
          ],
          [
           153,
           156,
           157,
           157,
           156,
           146,
           162,
           153,
           139,
           141,
           147,
           147
          ],
          [
           135,
           150,
           152,
           159,
           161,
           159,
           153,
           144,
           145,
           148,
           149,
           139
          ],
          [
           149,
           152,
           146,
           139,
           145,
           145,
           170,
           158,
           166,
           151,
           151,
           141
          ],
          [
           150,
           152,
           161,
           165,
           150,
           140,
           164,
           151,
           152,
           164,
           155,
           146
          ],
          [
           149,
           151,
           151,
           140,
           140,
           142,
           146,
           152,
           144,
           151,
           138,
           140
          ],
          [
           159,
           146,
           150,
           147,
           142,
           149,
           143,
           143,
           146,
           145,
           155,
           156
          ]
         ]
        },
        {
         "coloraxis": "coloraxis",
         "hovertemplate": "x: %{x}<br>y: %{y}<br>color: %{z}<extra></extra>",
         "name": "0",
         "type": "heatmap",
         "xaxis": "x23",
         "yaxis": "y23",
         "z": [
          [
           133,
           133,
           129,
           138,
           134,
           141,
           141,
           135,
           137,
           147,
           157,
           163
          ],
          [
           137,
           148,
           139,
           142,
           154,
           137,
           139,
           139,
           144,
           145,
           139,
           142
          ],
          [
           147,
           131,
           136,
           138,
           141,
           135,
           135,
           147,
           154,
           144,
           137,
           136
          ],
          [
           132,
           132,
           146,
           144,
           152,
           157,
           136,
           147,
           148,
           135,
           144,
           147
          ],
          [
           133,
           142,
           145,
           137,
           142,
           131,
           131,
           141,
           137,
           139,
           140,
           133
          ],
          [
           141,
           146,
           139,
           142,
           143,
           143,
           151,
           143,
           142,
           140,
           144,
           139
          ],
          [
           143,
           141,
           145,
           145,
           143,
           151,
           144,
           145,
           144,
           142,
           145,
           151
          ],
          [
           146,
           146,
           153,
           153,
           154,
           161,
           150,
           143,
           133,
           137,
           137,
           142
          ],
          [
           137,
           149,
           145,
           148,
           148,
           142,
           144,
           147,
           144,
           138,
           141,
           149
          ],
          [
           153,
           146,
           161,
           150,
           166,
           158,
           142,
           145,
           150,
           147,
           144,
           142
          ],
          [
           149,
           156,
           151,
           141,
           145,
           146,
           152,
           146,
           142,
           138,
           144,
           146
          ],
          [
           143,
           154,
           166,
           149,
           140,
           146,
           149,
           145,
           145,
           160,
           155,
           147
          ]
         ]
        },
        {
         "coloraxis": "coloraxis",
         "hovertemplate": "x: %{x}<br>y: %{y}<br>color: %{z}<extra></extra>",
         "name": "0",
         "type": "heatmap",
         "xaxis": "x24",
         "yaxis": "y24",
         "z": [
          [
           153,
           144,
           136,
           146,
           145,
           139,
           142,
           136,
           139,
           141,
           138,
           135
          ],
          [
           139,
           144,
           139,
           140,
           132,
           147,
           150,
           160,
           145,
           130,
           138,
           148
          ],
          [
           142,
           150,
           153,
           143,
           136,
           139,
           148,
           140,
           141,
           160,
           153,
           133
          ],
          [
           154,
           144,
           144,
           138,
           146,
           138,
           139,
           142,
           148,
           141,
           146,
           150
          ],
          [
           136,
           137,
           130,
           138,
           132,
           140,
           147,
           146,
           135,
           140,
           141,
           144
          ],
          [
           137,
           138,
           147,
           144,
           137,
           135,
           160,
           165,
           141,
           135,
           165,
           149
          ],
          [
           146,
           143,
           146,
           140,
           134,
           140,
           152,
           142,
           146,
           135,
           136,
           138
          ],
          [
           138,
           138,
           140,
           144,
           140,
           149,
           153,
           146,
           153,
           150,
           148,
           164
          ],
          [
           133,
           142,
           147,
           147,
           150,
           147,
           157,
           139,
           144,
           147,
           141,
           147
          ],
          [
           140,
           136,
           139,
           138,
           133,
           150,
           149,
           142,
           153,
           148,
           145,
           157
          ],
          [
           141,
           143,
           143,
           146,
           148,
           136,
           141,
           143,
           142,
           158,
           176,
           148
          ],
          [
           144,
           140,
           135,
           144,
           140,
           139,
           152,
           155,
           157,
           145,
           140,
           141
          ]
         ]
        },
        {
         "coloraxis": "coloraxis",
         "hovertemplate": "x: %{x}<br>y: %{y}<br>color: %{z}<extra></extra>",
         "name": "0",
         "type": "heatmap",
         "xaxis": "x25",
         "yaxis": "y25",
         "z": [
          [
           160,
           135,
           132,
           146,
           142,
           160,
           139,
           136,
           138,
           136,
           132,
           135
          ],
          [
           142,
           133,
           129,
           133,
           142,
           145,
           153,
           147,
           150,
           135,
           139,
           156
          ],
          [
           140,
           136,
           137,
           143,
           157,
           149,
           146,
           150,
           150,
           142,
           138,
           138
          ],
          [
           146,
           137,
           127,
           134,
           145,
           146,
           146,
           132,
           135,
           136,
           135,
           147
          ],
          [
           132,
           131,
           126,
           139,
           145,
           141,
           141,
           139,
           139,
           135,
           132,
           134
          ],
          [
           143,
           134,
           142,
           140,
           136,
           142,
           142,
           140,
           140,
           136,
           142,
           152
          ],
          [
           137,
           137,
           143,
           146,
           149,
           148,
           146,
           143,
           142,
           147,
           146,
           144
          ],
          [
           130,
           132,
           143,
           146,
           157,
           147,
           144,
           140,
           142,
           143,
           150,
           148
          ],
          [
           135,
           148,
           148,
           148,
           144,
           145,
           149,
           151,
           146,
           140,
           140,
           140
          ],
          [
           141,
           144,
           148,
           144,
           140,
           154,
           149,
           149,
           153,
           157,
           149,
           156
          ],
          [
           148,
           140,
           141,
           138,
           145,
           153,
           140,
           156,
           146,
           135,
           140,
           145
          ],
          [
           139,
           136,
           142,
           139,
           142,
           134,
           138,
           140,
           134,
           152,
           136,
           139
          ]
         ]
        },
        {
         "coloraxis": "coloraxis",
         "hovertemplate": "x: %{x}<br>y: %{y}<br>color: %{z}<extra></extra>",
         "name": "0",
         "type": "heatmap",
         "xaxis": "x26",
         "yaxis": "y26",
         "z": [
          [
           144,
           162,
           140,
           138,
           141,
           149,
           139,
           140,
           137,
           135,
           147,
           158
          ],
          [
           132,
           130,
           151,
           154,
           139,
           132,
           137,
           135,
           138,
           139,
           139,
           133
          ],
          [
           141,
           133,
           136,
           139,
           137,
           138,
           135,
           137,
           149,
           143,
           141,
           135
          ],
          [
           147,
           139,
           160,
           136,
           138,
           138,
           132,
           131,
           147,
           136,
           150,
           160
          ],
          [
           134,
           132,
           135,
           130,
           137,
           137,
           141,
           141,
           130,
           140,
           141,
           138
          ],
          [
           130,
           137,
           148,
           139,
           145,
           139,
           138,
           167,
           145,
           137,
           143,
           137
          ],
          [
           152,
           150,
           144,
           152,
           147,
           146,
           150,
           144,
           159,
           137,
           149,
           138
          ],
          [
           145,
           138,
           145,
           143,
           142,
           156,
           155,
           146,
           141,
           149,
           150,
           139
          ],
          [
           134,
           144,
           142,
           139,
           142,
           149,
           152,
           157,
           151,
           145,
           140,
           152
          ],
          [
           134,
           141,
           128,
           129,
           133,
           147,
           142,
           155,
           155,
           142,
           146,
           148
          ],
          [
           143,
           150,
           143,
           143,
           146,
           152,
           150,
           137,
           138,
           145,
           140,
           150
          ],
          [
           141,
           140,
           138,
           133,
           141,
           145,
           156,
           149,
           137,
           148,
           159,
           157
          ]
         ]
        },
        {
         "coloraxis": "coloraxis",
         "hovertemplate": "x: %{x}<br>y: %{y}<br>color: %{z}<extra></extra>",
         "name": "0",
         "type": "heatmap",
         "xaxis": "x27",
         "yaxis": "y27",
         "z": [
          [
           138,
           132,
           136,
           151,
           138,
           134,
           128,
           134,
           139,
           133,
           130,
           133
          ],
          [
           147,
           143,
           151,
           153,
           140,
           144,
           135,
           140,
           138,
           147,
           139,
           136
          ],
          [
           143,
           148,
           141,
           143,
           142,
           132,
           141,
           137,
           141,
           150,
           147,
           134
          ],
          [
           140,
           148,
           145,
           145,
           138,
           136,
           137,
           137,
           133,
           138,
           145,
           142
          ],
          [
           145,
           145,
           140,
           134,
           141,
           141,
           140,
           139,
           142,
           157,
           152,
           129
          ],
          [
           136,
           132,
           131,
           142,
           136,
           142,
           143,
           142,
           148,
           147,
           136,
           130
          ],
          [
           135,
           137,
           142,
           161,
           158,
           142,
           162,
           140,
           143,
           139,
           148,
           136
          ],
          [
           145,
           140,
           138,
           147,
           146,
           144,
           151,
           149,
           134,
           136,
           133,
           141
          ],
          [
           160,
           143,
           138,
           140,
           141,
           142,
           138,
           146,
           151,
           141,
           140,
           141
          ],
          [
           163,
           147,
           140,
           149,
           145,
           147,
           153,
           143,
           146,
           143,
           147,
           155
          ],
          [
           158,
           156,
           140,
           141,
           147,
           147,
           148,
           139,
           132,
           140,
           139,
           144
          ],
          [
           153,
           152,
           145,
           145,
           155,
           140,
           140,
           136,
           138,
           138,
           146,
           149
          ]
         ]
        },
        {
         "coloraxis": "coloraxis",
         "hovertemplate": "x: %{x}<br>y: %{y}<br>color: %{z}<extra></extra>",
         "name": "0",
         "type": "heatmap",
         "xaxis": "x28",
         "yaxis": "y28",
         "z": [
          [
           145,
           136,
           141,
           139,
           154,
           133,
           141,
           136,
           145,
           136,
           130,
           130
          ],
          [
           136,
           133,
           138,
           144,
           139,
           143,
           145,
           138,
           141,
           148,
           138,
           133
          ],
          [
           139,
           143,
           142,
           147,
           143,
           148,
           151,
           169,
           149,
           142,
           140,
           149
          ],
          [
           141,
           146,
           144,
           147,
           144,
           134,
           138,
           135,
           141,
           135,
           142,
           137
          ],
          [
           138,
           151,
           141,
           151,
           157,
           145,
           144,
           140,
           152,
           140,
           140,
           141
          ],
          [
           138,
           155,
           150,
           141,
           165,
           160,
           150,
           155,
           148,
           133,
           134,
           154
          ],
          [
           139,
           140,
           130,
           148,
           161,
           153,
           150,
           145,
           152,
           155,
           145,
           158
          ],
          [
           159,
           164,
           147,
           138,
           144,
           148,
           146,
           139,
           143,
           147,
           150,
           141
          ],
          [
           139,
           140,
           143,
           139,
           137,
           138,
           162,
           167,
           166,
           150,
           148,
           133
          ],
          [
           156,
           155,
           146,
           155,
           151,
           167,
           153,
           152,
           152,
           161,
           146,
           140
          ],
          [
           141,
           146,
           142,
           134,
           151,
           146,
           143,
           138,
           152,
           145,
           139,
           149
          ],
          [
           137,
           142,
           135,
           144,
           150,
           157,
           143,
           143,
           142,
           144,
           152,
           148
          ]
         ]
        },
        {
         "coloraxis": "coloraxis",
         "hovertemplate": "x: %{x}<br>y: %{y}<br>color: %{z}<extra></extra>",
         "name": "0",
         "type": "heatmap",
         "xaxis": "x29",
         "yaxis": "y29",
         "z": [
          [
           134,
           143,
           161,
           150,
           150,
           138,
           158,
           150,
           137,
           136,
           139,
           138
          ],
          [
           147,
           142,
           139,
           146,
           135,
           139,
           133,
           131,
           135,
           141,
           136,
           136
          ],
          [
           144,
           141,
           152,
           142,
           147,
           143,
           135,
           146,
           138,
           143,
           141,
           140
          ],
          [
           139,
           145,
           137,
           146,
           142,
           149,
           138,
           135,
           136,
           140,
           152,
           149
          ],
          [
           139,
           152,
           137,
           141,
           143,
           132,
           132,
           143,
           135,
           136,
           140,
           133
          ],
          [
           148,
           137,
           167,
           136,
           137,
           141,
           143,
           144,
           141,
           138,
           142,
           153
          ],
          [
           131,
           148,
           155,
           147,
           145,
           135,
           141,
           138,
           133,
           142,
           127,
           137
          ],
          [
           137,
           136,
           142,
           151,
           153,
           138,
           146,
           144,
           147,
           143,
           150,
           150
          ],
          [
           131,
           145,
           144,
           139,
           145,
           149,
           155,
           161,
           146,
           143,
           137,
           146
          ],
          [
           140,
           134,
           141,
           137,
           141,
           144,
           137,
           140,
           139,
           147,
           149,
           150
          ],
          [
           140,
           136,
           144,
           145,
           136,
           145,
           151,
           147,
           138,
           148,
           151,
           144
          ],
          [
           148,
           140,
           146,
           160,
           150,
           161,
           139,
           148,
           164,
           148,
           143,
           142
          ]
         ]
        },
        {
         "coloraxis": "coloraxis",
         "hovertemplate": "x: %{x}<br>y: %{y}<br>color: %{z}<extra></extra>",
         "name": "0",
         "type": "heatmap",
         "xaxis": "x30",
         "yaxis": "y30",
         "z": [
          [
           137,
           141,
           142,
           145,
           140,
           140,
           152,
           143,
           137,
           135,
           140,
           144
          ],
          [
           144,
           140,
           147,
           144,
           150,
           140,
           144,
           141,
           151,
           135,
           134,
           144
          ],
          [
           143,
           151,
           159,
           149,
           133,
           133,
           144,
           145,
           141,
           143,
           149,
           152
          ],
          [
           140,
           139,
           140,
           150,
           138,
           133,
           143,
           146,
           167,
           138,
           139,
           135
          ],
          [
           140,
           140,
           139,
           136,
           141,
           135,
           138,
           144,
           143,
           151,
           150,
           150
          ],
          [
           149,
           145,
           147,
           145,
           139,
           139,
           146,
           145,
           139,
           154,
           152,
           164
          ],
          [
           141,
           146,
           149,
           154,
           146,
           151,
           141,
           143,
           152,
           143,
           149,
           151
          ],
          [
           139,
           145,
           148,
           161,
           141,
           143,
           141,
           144,
           144,
           143,
           148,
           154
          ],
          [
           141,
           150,
           150,
           140,
           143,
           145,
           146,
           141,
           149,
           149,
           142,
           143
          ],
          [
           143,
           150,
           156,
           145,
           141,
           144,
           140,
           143,
           144,
           136,
           138,
           152
          ],
          [
           142,
           145,
           140,
           135,
           140,
           138,
           143,
           137,
           130,
           136,
           147,
           151
          ],
          [
           141,
           142,
           140,
           142,
           143,
           135,
           133,
           145,
           165,
           141,
           141,
           140
          ]
         ]
        },
        {
         "coloraxis": "coloraxis",
         "hovertemplate": "x: %{x}<br>y: %{y}<br>color: %{z}<extra></extra>",
         "name": "0",
         "type": "heatmap",
         "xaxis": "x31",
         "yaxis": "y31",
         "z": [
          [
           137,
           138,
           137,
           161,
           156,
           140,
           134,
           137,
           148,
           149,
           139,
           137
          ],
          [
           139,
           133,
           135,
           137,
           135,
           133,
           141,
           159,
           130,
           131,
           138,
           138
          ],
          [
           137,
           134,
           137,
           154,
           142,
           141,
           158,
           154,
           141,
           137,
           133,
           132
          ],
          [
           135,
           143,
           151,
           148,
           140,
           139,
           136,
           143,
           137,
           137,
           134,
           137
          ],
          [
           141,
           135,
           132,
           137,
           134,
           134,
           135,
           136,
           140,
           134,
           164,
           169
          ],
          [
           147,
           146,
           150,
           145,
           144,
           145,
           147,
           146,
           157,
           151,
           161,
           149
          ],
          [
           142,
           159,
           142,
           149,
           159,
           138,
           136,
           138,
           140,
           138,
           153,
           153
          ],
          [
           142,
           151,
           144,
           146,
           152,
           159,
           141,
           138,
           155,
           142,
           147,
           147
          ],
          [
           138,
           145,
           148,
           147,
           150,
           151,
           163,
           148,
           144,
           139,
           138,
           144
          ],
          [
           130,
           138,
           141,
           147,
           145,
           142,
           143,
           141,
           140,
           145,
           136,
           127
          ],
          [
           148,
           153,
           155,
           154,
           160,
           140,
           146,
           138,
           145,
           139,
           144,
           140
          ],
          [
           137,
           141,
           138,
           146,
           157,
           141,
           139,
           133,
           140,
           140,
           138,
           144
          ]
         ]
        },
        {
         "coloraxis": "coloraxis",
         "hovertemplate": "x: %{x}<br>y: %{y}<br>color: %{z}<extra></extra>",
         "name": "0",
         "type": "heatmap",
         "xaxis": "x32",
         "yaxis": "y32",
         "z": [
          [
           135,
           136,
           131,
           137,
           133,
           131,
           130,
           135,
           143,
           140,
           141,
           136
          ],
          [
           147,
           140,
           133,
           134,
           134,
           139,
           135,
           135,
           134,
           137,
           135,
           134
          ],
          [
           142,
           141,
           133,
           137,
           145,
           136,
           143,
           140,
           145,
           137,
           132,
           150
          ],
          [
           142,
           130,
           142,
           134,
           134,
           137,
           139,
           133,
           143,
           137,
           138,
           140
          ],
          [
           137,
           139,
           141,
           134,
           137,
           132,
           131,
           131,
           144,
           138,
           133,
           138
          ],
          [
           134,
           141,
           145,
           139,
           133,
           143,
           143,
           139,
           136,
           151,
           144,
           145
          ],
          [
           135,
           142,
           134,
           131,
           138,
           137,
           137,
           143,
           139,
           139,
           140,
           141
          ],
          [
           144,
           140,
           144,
           158,
           138,
           134,
           141,
           142,
           138,
           136,
           138,
           141
          ],
          [
           137,
           134,
           135,
           133,
           141,
           136,
           142,
           141,
           135,
           137,
           134,
           134
          ],
          [
           153,
           139,
           141,
           147,
           141,
           146,
           153,
           152,
           147,
           150,
           143,
           146
          ],
          [
           145,
           137,
           137,
           138,
           135,
           136,
           136,
           139,
           134,
           141,
           148,
           151
          ],
          [
           145,
           141,
           144,
           135,
           137,
           135,
           135,
           146,
           145,
           140,
           144,
           150
          ]
         ]
        },
        {
         "coloraxis": "coloraxis",
         "hovertemplate": "x: %{x}<br>y: %{y}<br>color: %{z}<extra></extra>",
         "name": "0",
         "type": "heatmap",
         "xaxis": "x33",
         "yaxis": "y33",
         "z": [
          [
           134,
           141,
           137,
           131,
           129,
           132,
           135,
           142,
           153,
           134,
           135,
           139
          ],
          [
           142,
           133,
           145,
           131,
           131,
           134,
           140,
           135,
           144,
           136,
           135,
           138
          ],
          [
           134,
           139,
           132,
           136,
           133,
           141,
           146,
           145,
           151,
           134,
           130,
           131
          ],
          [
           135,
           141,
           134,
           144,
           134,
           133,
           133,
           133,
           142,
           137,
           139,
           141
          ],
          [
           131,
           149,
           141,
           130,
           135,
           154,
           143,
           138,
           136,
           146,
           143,
           138
          ],
          [
           135,
           136,
           138,
           133,
           146,
           145,
           143,
           133,
           143,
           156,
           165,
           134
          ],
          [
           136,
           139,
           139,
           140,
           143,
           148,
           145,
           140,
           143,
           145,
           149,
           160
          ],
          [
           147,
           147,
           156,
           143,
           144,
           141,
           140,
           143,
           135,
           153,
           146,
           141
          ],
          [
           138,
           138,
           137,
           136,
           142,
           151,
           148,
           155,
           150,
           153,
           151,
           158
          ],
          [
           136,
           146,
           146,
           136,
           138,
           141,
           148,
           153,
           144,
           137,
           145,
           142
          ],
          [
           145,
           148,
           153,
           139,
           142,
           141,
           154,
           152,
           142,
           141,
           139,
           143
          ],
          [
           151,
           138,
           141,
           138,
           133,
           143,
           158,
           148,
           141,
           146,
           147,
           135
          ]
         ]
        },
        {
         "coloraxis": "coloraxis",
         "hovertemplate": "x: %{x}<br>y: %{y}<br>color: %{z}<extra></extra>",
         "name": "0",
         "type": "heatmap",
         "xaxis": "x34",
         "yaxis": "y34",
         "z": [
          [
           138,
           139,
           139,
           133,
           141,
           134,
           136,
           140,
           140,
           143,
           135,
           137
          ],
          [
           135,
           140,
           137,
           138,
           148,
           153,
           158,
           143,
           141,
           143,
           145,
           134
          ],
          [
           144,
           136,
           136,
           137,
           136,
           130,
           143,
           142,
           139,
           138,
           135,
           138
          ],
          [
           148,
           140,
           139,
           129,
           131,
           131,
           139,
           131,
           131,
           134,
           133,
           142
          ],
          [
           144,
           130,
           133,
           131,
           136,
           143,
           144,
           134,
           144,
           138,
           137,
           134
          ],
          [
           141,
           143,
           143,
           129,
           152,
           148,
           150,
           143,
           136,
           138,
           133,
           133
          ],
          [
           145,
           149,
           150,
           142,
           135,
           139,
           145,
           142,
           139,
           143,
           155,
           141
          ],
          [
           147,
           142,
           162,
           149,
           154,
           150,
           144,
           141,
           138,
           145,
           148,
           138
          ],
          [
           150,
           154,
           144,
           142,
           148,
           150,
           149,
           158,
           147,
           148,
           151,
           144
          ],
          [
           138,
           141,
           138,
           142,
           158,
           157,
           154,
           144,
           151,
           162,
           146,
           138
          ],
          [
           148,
           137,
           141,
           137,
           149,
           154,
           147,
           140,
           139,
           163,
           147,
           139
          ],
          [
           146,
           149,
           151,
           152,
           177,
           148,
           149,
           174,
           144,
           136,
           139,
           143
          ]
         ]
        }
       ],
       "layout": {
        "template": {
         "data": {
          "bar": [
           {
            "error_x": {
             "color": "#2a3f5f"
            },
            "error_y": {
             "color": "#2a3f5f"
            },
            "marker": {
             "line": {
              "color": "#E5ECF6",
              "width": 0.5
             },
             "pattern": {
              "fillmode": "overlay",
              "size": 10,
              "solidity": 0.2
             }
            },
            "type": "bar"
           }
          ],
          "barpolar": [
           {
            "marker": {
             "line": {
              "color": "#E5ECF6",
              "width": 0.5
             },
             "pattern": {
              "fillmode": "overlay",
              "size": 10,
              "solidity": 0.2
             }
            },
            "type": "barpolar"
           }
          ],
          "carpet": [
           {
            "aaxis": {
             "endlinecolor": "#2a3f5f",
             "gridcolor": "white",
             "linecolor": "white",
             "minorgridcolor": "white",
             "startlinecolor": "#2a3f5f"
            },
            "baxis": {
             "endlinecolor": "#2a3f5f",
             "gridcolor": "white",
             "linecolor": "white",
             "minorgridcolor": "white",
             "startlinecolor": "#2a3f5f"
            },
            "type": "carpet"
           }
          ],
          "choropleth": [
           {
            "colorbar": {
             "outlinewidth": 0,
             "ticks": ""
            },
            "type": "choropleth"
           }
          ],
          "contour": [
           {
            "colorbar": {
             "outlinewidth": 0,
             "ticks": ""
            },
            "colorscale": [
             [
              0,
              "#0d0887"
             ],
             [
              0.1111111111111111,
              "#46039f"
             ],
             [
              0.2222222222222222,
              "#7201a8"
             ],
             [
              0.3333333333333333,
              "#9c179e"
             ],
             [
              0.4444444444444444,
              "#bd3786"
             ],
             [
              0.5555555555555556,
              "#d8576b"
             ],
             [
              0.6666666666666666,
              "#ed7953"
             ],
             [
              0.7777777777777778,
              "#fb9f3a"
             ],
             [
              0.8888888888888888,
              "#fdca26"
             ],
             [
              1,
              "#f0f921"
             ]
            ],
            "type": "contour"
           }
          ],
          "contourcarpet": [
           {
            "colorbar": {
             "outlinewidth": 0,
             "ticks": ""
            },
            "type": "contourcarpet"
           }
          ],
          "heatmap": [
           {
            "colorbar": {
             "outlinewidth": 0,
             "ticks": ""
            },
            "colorscale": [
             [
              0,
              "#0d0887"
             ],
             [
              0.1111111111111111,
              "#46039f"
             ],
             [
              0.2222222222222222,
              "#7201a8"
             ],
             [
              0.3333333333333333,
              "#9c179e"
             ],
             [
              0.4444444444444444,
              "#bd3786"
             ],
             [
              0.5555555555555556,
              "#d8576b"
             ],
             [
              0.6666666666666666,
              "#ed7953"
             ],
             [
              0.7777777777777778,
              "#fb9f3a"
             ],
             [
              0.8888888888888888,
              "#fdca26"
             ],
             [
              1,
              "#f0f921"
             ]
            ],
            "type": "heatmap"
           }
          ],
          "heatmapgl": [
           {
            "colorbar": {
             "outlinewidth": 0,
             "ticks": ""
            },
            "colorscale": [
             [
              0,
              "#0d0887"
             ],
             [
              0.1111111111111111,
              "#46039f"
             ],
             [
              0.2222222222222222,
              "#7201a8"
             ],
             [
              0.3333333333333333,
              "#9c179e"
             ],
             [
              0.4444444444444444,
              "#bd3786"
             ],
             [
              0.5555555555555556,
              "#d8576b"
             ],
             [
              0.6666666666666666,
              "#ed7953"
             ],
             [
              0.7777777777777778,
              "#fb9f3a"
             ],
             [
              0.8888888888888888,
              "#fdca26"
             ],
             [
              1,
              "#f0f921"
             ]
            ],
            "type": "heatmapgl"
           }
          ],
          "histogram": [
           {
            "marker": {
             "pattern": {
              "fillmode": "overlay",
              "size": 10,
              "solidity": 0.2
             }
            },
            "type": "histogram"
           }
          ],
          "histogram2d": [
           {
            "colorbar": {
             "outlinewidth": 0,
             "ticks": ""
            },
            "colorscale": [
             [
              0,
              "#0d0887"
             ],
             [
              0.1111111111111111,
              "#46039f"
             ],
             [
              0.2222222222222222,
              "#7201a8"
             ],
             [
              0.3333333333333333,
              "#9c179e"
             ],
             [
              0.4444444444444444,
              "#bd3786"
             ],
             [
              0.5555555555555556,
              "#d8576b"
             ],
             [
              0.6666666666666666,
              "#ed7953"
             ],
             [
              0.7777777777777778,
              "#fb9f3a"
             ],
             [
              0.8888888888888888,
              "#fdca26"
             ],
             [
              1,
              "#f0f921"
             ]
            ],
            "type": "histogram2d"
           }
          ],
          "histogram2dcontour": [
           {
            "colorbar": {
             "outlinewidth": 0,
             "ticks": ""
            },
            "colorscale": [
             [
              0,
              "#0d0887"
             ],
             [
              0.1111111111111111,
              "#46039f"
             ],
             [
              0.2222222222222222,
              "#7201a8"
             ],
             [
              0.3333333333333333,
              "#9c179e"
             ],
             [
              0.4444444444444444,
              "#bd3786"
             ],
             [
              0.5555555555555556,
              "#d8576b"
             ],
             [
              0.6666666666666666,
              "#ed7953"
             ],
             [
              0.7777777777777778,
              "#fb9f3a"
             ],
             [
              0.8888888888888888,
              "#fdca26"
             ],
             [
              1,
              "#f0f921"
             ]
            ],
            "type": "histogram2dcontour"
           }
          ],
          "mesh3d": [
           {
            "colorbar": {
             "outlinewidth": 0,
             "ticks": ""
            },
            "type": "mesh3d"
           }
          ],
          "parcoords": [
           {
            "line": {
             "colorbar": {
              "outlinewidth": 0,
              "ticks": ""
             }
            },
            "type": "parcoords"
           }
          ],
          "pie": [
           {
            "automargin": true,
            "type": "pie"
           }
          ],
          "scatter": [
           {
            "fillpattern": {
             "fillmode": "overlay",
             "size": 10,
             "solidity": 0.2
            },
            "type": "scatter"
           }
          ],
          "scatter3d": [
           {
            "line": {
             "colorbar": {
              "outlinewidth": 0,
              "ticks": ""
             }
            },
            "marker": {
             "colorbar": {
              "outlinewidth": 0,
              "ticks": ""
             }
            },
            "type": "scatter3d"
           }
          ],
          "scattercarpet": [
           {
            "marker": {
             "colorbar": {
              "outlinewidth": 0,
              "ticks": ""
             }
            },
            "type": "scattercarpet"
           }
          ],
          "scattergeo": [
           {
            "marker": {
             "colorbar": {
              "outlinewidth": 0,
              "ticks": ""
             }
            },
            "type": "scattergeo"
           }
          ],
          "scattergl": [
           {
            "marker": {
             "colorbar": {
              "outlinewidth": 0,
              "ticks": ""
             }
            },
            "type": "scattergl"
           }
          ],
          "scattermapbox": [
           {
            "marker": {
             "colorbar": {
              "outlinewidth": 0,
              "ticks": ""
             }
            },
            "type": "scattermapbox"
           }
          ],
          "scatterpolar": [
           {
            "marker": {
             "colorbar": {
              "outlinewidth": 0,
              "ticks": ""
             }
            },
            "type": "scatterpolar"
           }
          ],
          "scatterpolargl": [
           {
            "marker": {
             "colorbar": {
              "outlinewidth": 0,
              "ticks": ""
             }
            },
            "type": "scatterpolargl"
           }
          ],
          "scatterternary": [
           {
            "marker": {
             "colorbar": {
              "outlinewidth": 0,
              "ticks": ""
             }
            },
            "type": "scatterternary"
           }
          ],
          "surface": [
           {
            "colorbar": {
             "outlinewidth": 0,
             "ticks": ""
            },
            "colorscale": [
             [
              0,
              "#0d0887"
             ],
             [
              0.1111111111111111,
              "#46039f"
             ],
             [
              0.2222222222222222,
              "#7201a8"
             ],
             [
              0.3333333333333333,
              "#9c179e"
             ],
             [
              0.4444444444444444,
              "#bd3786"
             ],
             [
              0.5555555555555556,
              "#d8576b"
             ],
             [
              0.6666666666666666,
              "#ed7953"
             ],
             [
              0.7777777777777778,
              "#fb9f3a"
             ],
             [
              0.8888888888888888,
              "#fdca26"
             ],
             [
              1,
              "#f0f921"
             ]
            ],
            "type": "surface"
           }
          ],
          "table": [
           {
            "cells": {
             "fill": {
              "color": "#EBF0F8"
             },
             "line": {
              "color": "white"
             }
            },
            "header": {
             "fill": {
              "color": "#C8D4E3"
             },
             "line": {
              "color": "white"
             }
            },
            "type": "table"
           }
          ]
         },
         "layout": {
          "annotationdefaults": {
           "arrowcolor": "#2a3f5f",
           "arrowhead": 0,
           "arrowwidth": 1
          },
          "autotypenumbers": "strict",
          "coloraxis": {
           "colorbar": {
            "outlinewidth": 0,
            "ticks": ""
           }
          },
          "colorscale": {
           "diverging": [
            [
             0,
             "#8e0152"
            ],
            [
             0.1,
             "#c51b7d"
            ],
            [
             0.2,
             "#de77ae"
            ],
            [
             0.3,
             "#f1b6da"
            ],
            [
             0.4,
             "#fde0ef"
            ],
            [
             0.5,
             "#f7f7f7"
            ],
            [
             0.6,
             "#e6f5d0"
            ],
            [
             0.7,
             "#b8e186"
            ],
            [
             0.8,
             "#7fbc41"
            ],
            [
             0.9,
             "#4d9221"
            ],
            [
             1,
             "#276419"
            ]
           ],
           "sequential": [
            [
             0,
             "#0d0887"
            ],
            [
             0.1111111111111111,
             "#46039f"
            ],
            [
             0.2222222222222222,
             "#7201a8"
            ],
            [
             0.3333333333333333,
             "#9c179e"
            ],
            [
             0.4444444444444444,
             "#bd3786"
            ],
            [
             0.5555555555555556,
             "#d8576b"
            ],
            [
             0.6666666666666666,
             "#ed7953"
            ],
            [
             0.7777777777777778,
             "#fb9f3a"
            ],
            [
             0.8888888888888888,
             "#fdca26"
            ],
            [
             1,
             "#f0f921"
            ]
           ],
           "sequentialminus": [
            [
             0,
             "#0d0887"
            ],
            [
             0.1111111111111111,
             "#46039f"
            ],
            [
             0.2222222222222222,
             "#7201a8"
            ],
            [
             0.3333333333333333,
             "#9c179e"
            ],
            [
             0.4444444444444444,
             "#bd3786"
            ],
            [
             0.5555555555555556,
             "#d8576b"
            ],
            [
             0.6666666666666666,
             "#ed7953"
            ],
            [
             0.7777777777777778,
             "#fb9f3a"
            ],
            [
             0.8888888888888888,
             "#fdca26"
            ],
            [
             1,
             "#f0f921"
            ]
           ]
          },
          "colorway": [
           "#636efa",
           "#EF553B",
           "#00cc96",
           "#ab63fa",
           "#FFA15A",
           "#19d3f3",
           "#FF6692",
           "#B6E880",
           "#FF97FF",
           "#FECB52"
          ],
          "font": {
           "color": "#2a3f5f"
          },
          "geo": {
           "bgcolor": "white",
           "lakecolor": "white",
           "landcolor": "#E5ECF6",
           "showlakes": true,
           "showland": true,
           "subunitcolor": "white"
          },
          "hoverlabel": {
           "align": "left"
          },
          "hovermode": "closest",
          "mapbox": {
           "style": "light"
          },
          "paper_bgcolor": "white",
          "plot_bgcolor": "#E5ECF6",
          "polar": {
           "angularaxis": {
            "gridcolor": "white",
            "linecolor": "white",
            "ticks": ""
           },
           "bgcolor": "#E5ECF6",
           "radialaxis": {
            "gridcolor": "white",
            "linecolor": "white",
            "ticks": ""
           }
          },
          "scene": {
           "xaxis": {
            "backgroundcolor": "#E5ECF6",
            "gridcolor": "white",
            "gridwidth": 2,
            "linecolor": "white",
            "showbackground": true,
            "ticks": "",
            "zerolinecolor": "white"
           },
           "yaxis": {
            "backgroundcolor": "#E5ECF6",
            "gridcolor": "white",
            "gridwidth": 2,
            "linecolor": "white",
            "showbackground": true,
            "ticks": "",
            "zerolinecolor": "white"
           },
           "zaxis": {
            "backgroundcolor": "#E5ECF6",
            "gridcolor": "white",
            "gridwidth": 2,
            "linecolor": "white",
            "showbackground": true,
            "ticks": "",
            "zerolinecolor": "white"
           }
          },
          "shapedefaults": {
           "line": {
            "color": "#2a3f5f"
           }
          },
          "ternary": {
           "aaxis": {
            "gridcolor": "white",
            "linecolor": "white",
            "ticks": ""
           },
           "baxis": {
            "gridcolor": "white",
            "linecolor": "white",
            "ticks": ""
           },
           "bgcolor": "#E5ECF6",
           "caxis": {
            "gridcolor": "white",
            "linecolor": "white",
            "ticks": ""
           }
          },
          "title": {
           "x": 0.05
          },
          "xaxis": {
           "automargin": true,
           "gridcolor": "white",
           "linecolor": "white",
           "ticks": "",
           "title": {
            "standoff": 15
           },
           "zerolinecolor": "white",
           "zerolinewidth": 2
          },
          "yaxis": {
           "automargin": true,
           "gridcolor": "white",
           "linecolor": "white",
           "ticks": "",
           "title": {
            "standoff": 15
           },
           "zerolinecolor": "white",
           "zerolinewidth": 2
          }
         }
        },
        "xaxis": {
         "anchor": "y",
         "domain": [
          0,
          0.1183673469387755
         ]
        },
        "xaxis10": {
         "anchor": "y10",
         "domain": [
          0.29387755102040813,
          0.4122448979591836
         ]
        },
        "xaxis11": {
         "anchor": "y11",
         "domain": [
          0.4408163265306122,
          0.5591836734693877
         ]
        },
        "xaxis12": {
         "anchor": "y12",
         "domain": [
          0.5877551020408163,
          0.7061224489795918
         ]
        },
        "xaxis13": {
         "anchor": "y13",
         "domain": [
          0.7346938775510204,
          0.8530612244897959
         ]
        },
        "xaxis14": {
         "anchor": "y14",
         "domain": [
          0.8816326530612244,
          0.9999999999999999
         ]
        },
        "xaxis15": {
         "anchor": "y15",
         "domain": [
          0,
          0.1183673469387755
         ]
        },
        "xaxis16": {
         "anchor": "y16",
         "domain": [
          0.14693877551020407,
          0.26530612244897955
         ]
        },
        "xaxis17": {
         "anchor": "y17",
         "domain": [
          0.29387755102040813,
          0.4122448979591836
         ]
        },
        "xaxis18": {
         "anchor": "y18",
         "domain": [
          0.4408163265306122,
          0.5591836734693877
         ]
        },
        "xaxis19": {
         "anchor": "y19",
         "domain": [
          0.5877551020408163,
          0.7061224489795918
         ]
        },
        "xaxis2": {
         "anchor": "y2",
         "domain": [
          0.14693877551020407,
          0.26530612244897955
         ]
        },
        "xaxis20": {
         "anchor": "y20",
         "domain": [
          0.7346938775510204,
          0.8530612244897959
         ]
        },
        "xaxis21": {
         "anchor": "y21",
         "domain": [
          0.8816326530612244,
          0.9999999999999999
         ]
        },
        "xaxis22": {
         "anchor": "y22",
         "domain": [
          0,
          0.1183673469387755
         ]
        },
        "xaxis23": {
         "anchor": "y23",
         "domain": [
          0.14693877551020407,
          0.26530612244897955
         ]
        },
        "xaxis24": {
         "anchor": "y24",
         "domain": [
          0.29387755102040813,
          0.4122448979591836
         ]
        },
        "xaxis25": {
         "anchor": "y25",
         "domain": [
          0.4408163265306122,
          0.5591836734693877
         ]
        },
        "xaxis26": {
         "anchor": "y26",
         "domain": [
          0.5877551020408163,
          0.7061224489795918
         ]
        },
        "xaxis27": {
         "anchor": "y27",
         "domain": [
          0.7346938775510204,
          0.8530612244897959
         ]
        },
        "xaxis28": {
         "anchor": "y28",
         "domain": [
          0.8816326530612244,
          0.9999999999999999
         ]
        },
        "xaxis29": {
         "anchor": "y29",
         "domain": [
          0,
          0.1183673469387755
         ]
        },
        "xaxis3": {
         "anchor": "y3",
         "domain": [
          0.29387755102040813,
          0.4122448979591836
         ]
        },
        "xaxis30": {
         "anchor": "y30",
         "domain": [
          0.14693877551020407,
          0.26530612244897955
         ]
        },
        "xaxis31": {
         "anchor": "y31",
         "domain": [
          0.29387755102040813,
          0.4122448979591836
         ]
        },
        "xaxis32": {
         "anchor": "y32",
         "domain": [
          0.4408163265306122,
          0.5591836734693877
         ]
        },
        "xaxis33": {
         "anchor": "y33",
         "domain": [
          0.5877551020408163,
          0.7061224489795918
         ]
        },
        "xaxis34": {
         "anchor": "y34",
         "domain": [
          0.7346938775510204,
          0.8530612244897959
         ]
        },
        "xaxis35": {
         "anchor": "y35",
         "domain": [
          0.8816326530612244,
          0.9999999999999999
         ]
        },
        "xaxis4": {
         "anchor": "y4",
         "domain": [
          0.4408163265306122,
          0.5591836734693877
         ]
        },
        "xaxis5": {
         "anchor": "y5",
         "domain": [
          0.5877551020408163,
          0.7061224489795918
         ]
        },
        "xaxis6": {
         "anchor": "y6",
         "domain": [
          0.7346938775510204,
          0.8530612244897959
         ]
        },
        "xaxis7": {
         "anchor": "y7",
         "domain": [
          0.8816326530612244,
          0.9999999999999999
         ]
        },
        "xaxis8": {
         "anchor": "y8",
         "domain": [
          0,
          0.1183673469387755
         ]
        },
        "xaxis9": {
         "anchor": "y9",
         "domain": [
          0.14693877551020407,
          0.26530612244897955
         ]
        },
        "yaxis": {
         "anchor": "x",
         "domain": [
          0.848,
          1
         ]
        },
        "yaxis10": {
         "anchor": "x10",
         "domain": [
          0.6359999999999999,
          0.7879999999999999
         ]
        },
        "yaxis11": {
         "anchor": "x11",
         "domain": [
          0.6359999999999999,
          0.7879999999999999
         ]
        },
        "yaxis12": {
         "anchor": "x12",
         "domain": [
          0.6359999999999999,
          0.7879999999999999
         ]
        },
        "yaxis13": {
         "anchor": "x13",
         "domain": [
          0.6359999999999999,
          0.7879999999999999
         ]
        },
        "yaxis14": {
         "anchor": "x14",
         "domain": [
          0.6359999999999999,
          0.7879999999999999
         ]
        },
        "yaxis15": {
         "anchor": "x15",
         "domain": [
          0.424,
          0.576
         ]
        },
        "yaxis16": {
         "anchor": "x16",
         "domain": [
          0.424,
          0.576
         ]
        },
        "yaxis17": {
         "anchor": "x17",
         "domain": [
          0.424,
          0.576
         ]
        },
        "yaxis18": {
         "anchor": "x18",
         "domain": [
          0.424,
          0.576
         ]
        },
        "yaxis19": {
         "anchor": "x19",
         "domain": [
          0.424,
          0.576
         ]
        },
        "yaxis2": {
         "anchor": "x2",
         "domain": [
          0.848,
          1
         ]
        },
        "yaxis20": {
         "anchor": "x20",
         "domain": [
          0.424,
          0.576
         ]
        },
        "yaxis21": {
         "anchor": "x21",
         "domain": [
          0.424,
          0.576
         ]
        },
        "yaxis22": {
         "anchor": "x22",
         "domain": [
          0.212,
          0.364
         ]
        },
        "yaxis23": {
         "anchor": "x23",
         "domain": [
          0.212,
          0.364
         ]
        },
        "yaxis24": {
         "anchor": "x24",
         "domain": [
          0.212,
          0.364
         ]
        },
        "yaxis25": {
         "anchor": "x25",
         "domain": [
          0.212,
          0.364
         ]
        },
        "yaxis26": {
         "anchor": "x26",
         "domain": [
          0.212,
          0.364
         ]
        },
        "yaxis27": {
         "anchor": "x27",
         "domain": [
          0.212,
          0.364
         ]
        },
        "yaxis28": {
         "anchor": "x28",
         "domain": [
          0.212,
          0.364
         ]
        },
        "yaxis29": {
         "anchor": "x29",
         "domain": [
          0,
          0.152
         ]
        },
        "yaxis3": {
         "anchor": "x3",
         "domain": [
          0.848,
          1
         ]
        },
        "yaxis30": {
         "anchor": "x30",
         "domain": [
          0,
          0.152
         ]
        },
        "yaxis31": {
         "anchor": "x31",
         "domain": [
          0,
          0.152
         ]
        },
        "yaxis32": {
         "anchor": "x32",
         "domain": [
          0,
          0.152
         ]
        },
        "yaxis33": {
         "anchor": "x33",
         "domain": [
          0,
          0.152
         ]
        },
        "yaxis34": {
         "anchor": "x34",
         "domain": [
          0,
          0.152
         ]
        },
        "yaxis35": {
         "anchor": "x35",
         "domain": [
          0,
          0.152
         ]
        },
        "yaxis4": {
         "anchor": "x4",
         "domain": [
          0.848,
          1
         ]
        },
        "yaxis5": {
         "anchor": "x5",
         "domain": [
          0.848,
          1
         ]
        },
        "yaxis6": {
         "anchor": "x6",
         "domain": [
          0.848,
          1
         ]
        },
        "yaxis7": {
         "anchor": "x7",
         "domain": [
          0.848,
          1
         ]
        },
        "yaxis8": {
         "anchor": "x8",
         "domain": [
          0.6359999999999999,
          0.7879999999999999
         ]
        },
        "yaxis9": {
         "anchor": "x9",
         "domain": [
          0.6359999999999999,
          0.7879999999999999
         ]
        }
       }
      },
      "text/html": [
       "<div>                            <div id=\"adfce265-59bb-4bf1-8766-264ff1037570\" class=\"plotly-graph-div\" style=\"height:525px; width:100%;\"></div>            <script type=\"text/javascript\">                require([\"plotly\"], function(Plotly) {                    window.PLOTLYENV=window.PLOTLYENV || {};                                    if (document.getElementById(\"adfce265-59bb-4bf1-8766-264ff1037570\")) {                    Plotly.newPlot(                        \"adfce265-59bb-4bf1-8766-264ff1037570\",                        [{\"coloraxis\":\"coloraxis\",\"hovertemplate\":\"x: %{x}\\u003cbr\\u003ey: %{y}\\u003cbr\\u003ecolor: %{z}\\u003cextra\\u003e\\u003c\\u002fextra\\u003e\",\"name\":\"0\",\"xaxis\":\"x\",\"yaxis\":\"y\",\"z\":[[152,150,145,151,150,152,150,149,153,163,148,159],[147,144,143,154,147,145,156,138,150,162,152,151],[146,139,140,141,151,138,149,158,155,152,155,145],[149,137,138,139,144,145,160,162,152,147,157,164],[158,146,148,148,152,159,157,154,160,150,149,154],[139,142,141,147,145,165,156,175,152,156,155,143],[155,151,158,145,157,165,170,159,155,149,136,152],[164,148,160,151,168,151,147,159,168,170,151,161],[168,158,157,155,174,162,147,156,160,152,157,165],[149,146,156,162,151,158,153,149,150,166,151,154],[150,148,143,145,154,149,152,160,174,158,152,152],[150,159,155,157,154,155,143,143,149,153,154,152]],\"type\":\"heatmap\"},{\"coloraxis\":\"coloraxis\",\"hovertemplate\":\"x: %{x}\\u003cbr\\u003ey: %{y}\\u003cbr\\u003ecolor: %{z}\\u003cextra\\u003e\\u003c\\u002fextra\\u003e\",\"name\":\"0\",\"xaxis\":\"x2\",\"yaxis\":\"y2\",\"z\":[[140,141,134,138,137,145,137,146,162,148,151,152],[146,151,163,147,134,129,142,147,149,140,142,147],[143,143,139,138,143,148,144,143,141,146,143,141],[139,137,134,146,146,142,142,152,151,138,145,148],[145,147,145,145,142,141,144,147,149,161,142,144],[143,142,154,149,152,137,145,162,159,143,145,153],[151,148,147,146,156,157,153,150,150,143,152,145],[141,140,140,141,158,161,166,152,158,144,142,154],[142,152,143,145,151,157,153,146,151,141,152,150],[154,148,148,148,155,157,154,150,150,170,139,141],[153,148,167,153,151,139,141,143,147,145,148,156],[157,152,153,148,144,149,149,148,137,147,158,150]],\"type\":\"heatmap\"},{\"coloraxis\":\"coloraxis\",\"hovertemplate\":\"x: %{x}\\u003cbr\\u003ey: %{y}\\u003cbr\\u003ecolor: %{z}\\u003cextra\\u003e\\u003c\\u002fextra\\u003e\",\"name\":\"0\",\"xaxis\":\"x3\",\"yaxis\":\"y3\",\"z\":[[155,147,147,156,152,145,151,150,147,145,154,148],[150,144,148,148,137,134,139,137,142,141,144,156],[145,155,147,159,150,146,139,146,147,144,143,163],[138,147,157,144,149,148,147,148,151,149,160,186],[145,150,154,167,151,151,148,142,143,150,148,153],[174,159,155,151,170,147,141,142,146,143,152,147],[149,154,151,142,158,152,146,160,161,137,143,147],[139,143,148,148,147,144,152,149,146,150,147,148],[144,160,151,147,142,154,161,153,146,144,153,146],[152,162,170,150,153,143,149,147,148,150,148,160],[145,150,135,145,144,154,151,149,141,144,145,146],[154,147,148,154,145,135,138,143,138,139,148,149]],\"type\":\"heatmap\"},{\"coloraxis\":\"coloraxis\",\"hovertemplate\":\"x: %{x}\\u003cbr\\u003ey: %{y}\\u003cbr\\u003ecolor: %{z}\\u003cextra\\u003e\\u003c\\u002fextra\\u003e\",\"name\":\"0\",\"xaxis\":\"x4\",\"yaxis\":\"y4\",\"z\":[[141,137,145,135,140,160,146,136,148,151,156,153],[132,137,140,140,138,139,154,147,140,135,145,150],[137,133,134,164,149,150,138,135,132,143,148,165],[139,142,146,135,139,150,132,132,136,147,162,160],[144,139,141,139,144,148,158,159,153,144,183,169],[148,149,147,145,145,143,155,153,160,144,149,166],[153,149,144,158,157,157,147,132,133,152,143,158],[146,141,142,156,159,172,159,160,141,145,155,160],[150,146,144,143,156,168,162,156,145,160,148,143],[145,154,142,147,154,163,148,168,164,161,157,146],[155,142,140,152,143,148,147,148,144,150,148,161],[161,148,141,148,167,143,152,141,159,156,153,155]],\"type\":\"heatmap\"},{\"coloraxis\":\"coloraxis\",\"hovertemplate\":\"x: %{x}\\u003cbr\\u003ey: %{y}\\u003cbr\\u003ecolor: %{z}\\u003cextra\\u003e\\u003c\\u002fextra\\u003e\",\"name\":\"0\",\"xaxis\":\"x5\",\"yaxis\":\"y5\",\"z\":[[139,148,148,147,143,160,144,141,140,134,133,139],[142,158,158,141,141,147,156,146,141,161,147,152],[138,150,146,142,133,140,132,143,144,144,140,147],[139,143,144,148,144,149,145,146,154,156,157,158],[155,149,155,146,144,143,136,143,144,143,139,133],[160,154,161,166,155,149,143,149,145,153,156,150],[153,165,152,150,144,151,143,146,145,146,147,134],[153,153,158,170,153,150,148,152,148,140,154,143],[148,153,145,157,139,143,148,147,163,147,140,139],[143,144,143,139,149,156,152,147,157,148,150,142],[165,156,142,139,145,152,146,143,147,173,144,139],[174,157,155,143,150,148,147,145,143,149,140,142]],\"type\":\"heatmap\"},{\"coloraxis\":\"coloraxis\",\"hovertemplate\":\"x: %{x}\\u003cbr\\u003ey: %{y}\\u003cbr\\u003ecolor: %{z}\\u003cextra\\u003e\\u003c\\u002fextra\\u003e\",\"name\":\"0\",\"xaxis\":\"x6\",\"yaxis\":\"y6\",\"z\":[[146,142,148,144,140,149,142,151,141,151,141,155],[134,143,152,153,152,144,153,156,150,142,143,148],[146,144,144,138,139,141,146,141,138,144,143,148],[141,147,145,140,142,143,146,151,155,157,148,146],[156,150,158,139,144,152,141,146,145,154,155,168],[151,142,152,151,143,149,152,152,146,153,145,142],[151,149,172,161,160,176,147,146,145,143,147,152],[147,157,153,159,156,158,170,157,146,144,146,149],[158,154,164,152,158,165,162,157,151,153,154,145],[140,139,146,155,151,153,149,151,144,149,149,141],[152,156,156,153,154,161,154,160,165,146,141,142],[155,144,154,156,136,145,154,143,134,146,143,147]],\"type\":\"heatmap\"},{\"coloraxis\":\"coloraxis\",\"hovertemplate\":\"x: %{x}\\u003cbr\\u003ey: %{y}\\u003cbr\\u003ecolor: %{z}\\u003cextra\\u003e\\u003c\\u002fextra\\u003e\",\"name\":\"0\",\"xaxis\":\"x7\",\"yaxis\":\"y7\",\"z\":[[134,144,147,135,148,134,135,134,166,151,138,138],[148,146,148,146,132,138,149,137,144,151,149,145],[142,132,145,140,137,132,136,142,140,151,153,148],[138,134,134,146,146,142,133,136,156,137,140,161],[141,142,148,143,146,151,142,137,136,136,151,146],[146,136,146,160,143,138,139,142,150,147,144,149],[140,134,177,153,142,145,144,144,140,138,142,135],[143,143,141,154,165,178,164,167,160,149,148,149],[147,153,156,144,155,162,160,158,153,152,155,133],[147,144,144,150,159,157,153,146,165,152,149,143],[151,154,146,151,149,147,151,160,166,166,156,148],[148,150,150,164,163,151,156,162,157,144,153,151]],\"type\":\"heatmap\"},{\"coloraxis\":\"coloraxis\",\"hovertemplate\":\"x: %{x}\\u003cbr\\u003ey: %{y}\\u003cbr\\u003ecolor: %{z}\\u003cextra\\u003e\\u003c\\u002fextra\\u003e\",\"name\":\"0\",\"xaxis\":\"x8\",\"yaxis\":\"y8\",\"z\":[[151,152,149,143,133,147,148,153,147,144,144,140],[144,142,149,141,140,138,139,154,150,142,149,147],[152,141,136,138,140,152,146,141,143,149,147,146],[148,142,143,138,155,168,157,142,157,172,147,142],[142,141,150,147,147,166,152,151,149,157,143,149],[145,148,162,148,149,156,155,160,154,152,146,143],[155,162,150,148,146,164,155,140,151,147,149,148],[144,148,146,151,161,163,164,149,147,144,144,152],[145,151,164,151,153,150,147,149,158,146,143,152],[157,151,160,162,147,146,148,149,150,160,151,145],[162,163,176,169,163,156,151,143,146,148,157,146],[163,155,146,153,154,163,146,146,144,145,150,145]],\"type\":\"heatmap\"},{\"coloraxis\":\"coloraxis\",\"hovertemplate\":\"x: %{x}\\u003cbr\\u003ey: %{y}\\u003cbr\\u003ecolor: %{z}\\u003cextra\\u003e\\u003c\\u002fextra\\u003e\",\"name\":\"0\",\"xaxis\":\"x9\",\"yaxis\":\"y9\",\"z\":[[161,149,134,143,134,146,147,144,138,142,142,141],[144,143,135,135,134,162,147,155,147,140,136,140],[145,152,139,144,134,136,138,137,142,147,151,138],[135,129,142,137,153,137,134,142,131,142,149,143],[139,144,142,145,147,153,153,159,144,136,151,156],[146,140,138,144,137,142,136,137,143,151,143,150],[136,143,137,147,164,155,149,149,140,145,149,145],[139,144,147,144,153,166,159,163,154,148,149,143],[146,150,144,145,145,152,149,154,204,160,150,146],[144,151,144,152,162,165,165,167,168,167,160,152],[155,152,157,172,194,203,183,160,153,163,155,147],[143,150,155,166,166,161,158,152,155,143,150,150]],\"type\":\"heatmap\"},{\"coloraxis\":\"coloraxis\",\"hovertemplate\":\"x: %{x}\\u003cbr\\u003ey: %{y}\\u003cbr\\u003ecolor: %{z}\\u003cextra\\u003e\\u003c\\u002fextra\\u003e\",\"name\":\"0\",\"xaxis\":\"x10\",\"yaxis\":\"y10\",\"z\":[[143,139,137,140,142,132,138,148,145,146,141,139],[136,138,134,135,143,141,145,146,135,136,140,142],[151,138,143,142,154,145,147,159,149,157,147,154],[146,141,150,148,141,153,160,152,145,142,144,149],[146,145,149,156,153,143,144,137,140,137,138,140],[158,159,159,174,162,147,154,146,147,142,143,133],[162,181,164,155,152,139,154,151,143,149,144,144],[156,163,154,165,165,150,148,144,155,147,141,141],[178,172,158,162,160,173,150,145,147,142,142,145],[162,164,150,146,149,153,146,146,138,144,137,143],[144,153,154,138,142,141,151,148,137,148,148,150],[148,150,152,141,139,142,145,154,145,152,148,157]],\"type\":\"heatmap\"},{\"coloraxis\":\"coloraxis\",\"hovertemplate\":\"x: %{x}\\u003cbr\\u003ey: %{y}\\u003cbr\\u003ecolor: %{z}\\u003cextra\\u003e\\u003c\\u002fextra\\u003e\",\"name\":\"0\",\"xaxis\":\"x11\",\"yaxis\":\"y11\",\"z\":[[144,140,143,139,133,153,146,143,137,144,169,142],[137,135,136,132,142,142,139,139,127,132,147,137],[131,136,140,153,144,143,153,133,149,148,140,148],[138,141,134,149,137,138,140,150,158,150,149,143],[155,162,138,146,133,140,146,135,148,171,156,137],[141,143,142,147,151,165,160,148,143,149,143,136],[148,155,148,158,192,168,147,156,158,149,143,149],[149,173,181,161,172,168,156,145,148,141,147,147],[155,149,156,155,162,182,163,150,139,144,151,151],[162,173,156,179,159,175,156,152,140,141,138,142],[167,185,164,161,148,151,150,146,143,143,140,144],[174,170,164,156,145,156,146,142,146,139,143,143]],\"type\":\"heatmap\"},{\"coloraxis\":\"coloraxis\",\"hovertemplate\":\"x: %{x}\\u003cbr\\u003ey: %{y}\\u003cbr\\u003ecolor: %{z}\\u003cextra\\u003e\\u003c\\u002fextra\\u003e\",\"name\":\"0\",\"xaxis\":\"x12\",\"yaxis\":\"y12\",\"z\":[[136,128,139,130,141,151,144,139,136,133,151,155],[134,137,147,139,149,141,132,139,136,150,145,140],[131,132,134,139,140,157,144,150,147,135,132,149],[138,142,135,133,141,140,142,142,142,136,138,146],[149,145,144,142,137,148,140,158,131,133,151,141],[142,151,150,149,156,140,149,147,153,142,133,144],[141,150,158,163,171,160,146,142,144,146,143,150],[146,148,157,174,160,161,155,152,158,147,136,146],[154,159,158,160,161,159,163,158,149,148,152,146],[171,161,164,160,159,188,151,147,153,147,144,145],[165,172,171,165,165,159,155,153,148,155,156,170],[187,162,156,147,149,152,163,152,149,152,143,142]],\"type\":\"heatmap\"},{\"coloraxis\":\"coloraxis\",\"hovertemplate\":\"x: %{x}\\u003cbr\\u003ey: %{y}\\u003cbr\\u003ecolor: %{z}\\u003cextra\\u003e\\u003c\\u002fextra\\u003e\",\"name\":\"0\",\"xaxis\":\"x13\",\"yaxis\":\"y13\",\"z\":[[145,139,135,138,149,143,143,140,150,140,136,131],[136,138,137,141,135,148,135,132,144,134,151,147],[143,142,150,145,133,133,136,146,149,151,140,140],[140,145,138,137,139,132,139,154,137,146,146,145],[147,151,160,147,147,142,139,134,138,139,143,137],[161,168,176,176,159,145,152,154,151,132,130,139],[154,165,191,187,160,144,154,154,142,133,144,143],[156,154,156,149,147,161,157,154,156,146,141,150],[186,172,172,150,159,153,147,142,156,134,151,155],[161,171,169,156,149,138,145,148,145,139,141,154],[154,142,141,140,155,147,171,140,138,153,138,145],[150,144,146,142,147,141,138,155,134,133,141,147]],\"type\":\"heatmap\"},{\"coloraxis\":\"coloraxis\",\"hovertemplate\":\"x: %{x}\\u003cbr\\u003ey: %{y}\\u003cbr\\u003ecolor: %{z}\\u003cextra\\u003e\\u003c\\u002fextra\\u003e\",\"name\":\"0\",\"xaxis\":\"x14\",\"yaxis\":\"y14\",\"z\":[[131,131,131,139,147,148,138,130,142,140,146,154],[140,138,138,140,133,144,142,137,137,146,137,143],[141,133,145,143,138,135,141,141,142,137,132,130],[145,143,135,145,137,132,145,139,145,144,141,137],[133,136,137,145,147,140,139,143,150,137,137,142],[146,149,143,151,162,153,153,154,147,143,140,141],[163,168,158,159,165,155,151,150,136,150,134,135],[145,146,171,200,171,171,156,143,153,148,139,143],[155,169,200,161,163,164,153,145,144,144,149,143],[168,185,205,197,167,158,164,138,141,146,150,147],[172,179,177,165,154,150,152,140,157,161,142,150],[166,169,155,155,150,152,154,162,147,148,151,151]],\"type\":\"heatmap\"},{\"coloraxis\":\"coloraxis\",\"hovertemplate\":\"x: %{x}\\u003cbr\\u003ey: %{y}\\u003cbr\\u003ecolor: %{z}\\u003cextra\\u003e\\u003c\\u002fextra\\u003e\",\"name\":\"0\",\"xaxis\":\"x15\",\"yaxis\":\"y15\",\"z\":[[140,139,138,135,151,136,138,141,147,132,140,148],[143,139,148,150,137,134,139,136,140,135,146,141],[135,139,136,149,135,151,141,139,153,141,136,136],[140,141,144,149,146,146,151,142,155,150,151,135],[152,150,151,159,147,148,147,141,147,151,150,161],[138,153,153,159,160,147,140,139,152,151,142,137],[170,157,159,167,187,173,152,144,147,141,137,142],[160,202,193,192,174,158,147,142,146,154,152,157],[177,177,177,170,162,157,153,155,156,153,148,149],[214,199,195,177,156,173,157,149,148,153,140,138],[205,191,166,162,157,146,145,153,144,140,144,144],[166,154,159,153,142,142,154,151,143,148,141,148]],\"type\":\"heatmap\"},{\"coloraxis\":\"coloraxis\",\"hovertemplate\":\"x: %{x}\\u003cbr\\u003ey: %{y}\\u003cbr\\u003ecolor: %{z}\\u003cextra\\u003e\\u003c\\u002fextra\\u003e\",\"name\":\"0\",\"xaxis\":\"x16\",\"yaxis\":\"y16\",\"z\":[[148,144,140,146,179,149,140,147,147,137,137,138],[136,137,141,142,135,144,140,145,136,137,163,146],[144,140,135,130,151,146,153,137,158,164,141,133],[152,133,127,136,135,154,147,139,139,151,168,152],[153,156,146,137,146,162,159,147,145,149,152,149],[152,142,158,155,148,169,148,147,155,155,146,131],[154,159,169,171,174,169,161,162,142,138,140,145],[175,179,166,184,179,160,151,154,141,147,144,145],[165,207,182,170,160,151,155,141,147,148,149,163],[215,240,208,193,182,168,148,146,143,139,136,139],[201,202,183,173,177,147,153,142,136,141,141,140],[171,146,155,151,137,148,161,146,149,132,135,139]],\"type\":\"heatmap\"},{\"coloraxis\":\"coloraxis\",\"hovertemplate\":\"x: %{x}\\u003cbr\\u003ey: %{y}\\u003cbr\\u003ecolor: %{z}\\u003cextra\\u003e\\u003c\\u002fextra\\u003e\",\"name\":\"0\",\"xaxis\":\"x17\",\"yaxis\":\"y17\",\"z\":[[139,137,129,144,143,139,144,150,140,137,137,135],[150,147,145,138,136,138,146,140,141,140,142,138],[137,161,148,134,143,140,140,143,133,145,136,142],[150,147,143,164,151,151,141,143,138,149,152,134],[144,143,145,147,138,140,149,155,159,139,132,144],[163,161,163,181,177,141,147,151,158,145,149,144],[166,162,163,175,164,167,147,146,145,140,142,141],[165,172,177,170,160,146,154,136,144,150,153,137],[192,192,182,203,179,149,146,139,148,143,148,153],[219,179,164,148,148,142,149,150,152,137,144,157],[155,163,149,146,137,137,140,139,140,159,147,149],[138,139,144,140,156,141,136,138,148,147,152,148]],\"type\":\"heatmap\"},{\"coloraxis\":\"coloraxis\",\"hovertemplate\":\"x: %{x}\\u003cbr\\u003ey: %{y}\\u003cbr\\u003ecolor: %{z}\\u003cextra\\u003e\\u003c\\u002fextra\\u003e\",\"name\":\"0\",\"xaxis\":\"x18\",\"yaxis\":\"y18\",\"z\":[[134,137,135,130,136,138,136,133,136,149,144,143],[142,162,138,135,141,138,136,137,145,141,148,135],[140,148,142,146,142,140,135,145,138,139,141,146],[137,147,139,138,139,142,145,141,138,144,137,150],[135,131,143,141,142,144,148,150,149,147,143,141],[145,145,160,142,145,140,150,157,151,154,137,143],[153,140,145,148,143,168,184,183,146,153,144,136],[146,144,144,156,160,169,176,202,168,171,161,150],[151,149,164,174,173,191,164,175,171,165,165,141],[150,163,171,189,185,183,180,164,168,148,140,146],[147,169,172,174,179,173,208,162,162,144,143,137],[143,154,143,160,148,148,149,145,154,156,149,151]],\"type\":\"heatmap\"},{\"coloraxis\":\"coloraxis\",\"hovertemplate\":\"x: %{x}\\u003cbr\\u003ey: %{y}\\u003cbr\\u003ecolor: %{z}\\u003cextra\\u003e\\u003c\\u002fextra\\u003e\",\"name\":\"0\",\"xaxis\":\"x19\",\"yaxis\":\"y19\",\"z\":[[135,137,132,144,142,157,147,136,137,138,139,138],[141,137,139,141,148,146,139,140,143,140,147,143],[145,141,144,148,150,148,145,144,143,142,143,141],[146,141,139,138,141,153,152,147,141,147,144,151],[150,152,142,147,159,163,160,153,146,159,147,159],[152,149,144,167,141,150,164,157,173,161,160,154],[138,134,144,146,147,146,152,147,163,171,168,147],[146,148,155,149,153,153,159,160,166,150,145,156],[147,141,157,159,153,151,161,159,149,156,153,146],[142,159,152,151,149,148,143,150,173,160,158,145],[146,150,148,142,140,155,149,138,146,147,141,142],[144,141,147,142,142,146,149,157,156,140,151,143]],\"type\":\"heatmap\"},{\"coloraxis\":\"coloraxis\",\"hovertemplate\":\"x: %{x}\\u003cbr\\u003ey: %{y}\\u003cbr\\u003ecolor: %{z}\\u003cextra\\u003e\\u003c\\u002fextra\\u003e\",\"name\":\"0\",\"xaxis\":\"x20\",\"yaxis\":\"y20\",\"z\":[[141,138,136,165,140,139,141,152,138,137,133,143],[136,137,139,140,145,134,128,138,139,141,135,136],[155,146,137,137,140,140,138,130,133,136,133,132],[137,138,137,138,141,148,155,154,144,144,136,145],[142,141,137,144,143,143,139,146,155,137,142,158],[143,142,143,134,133,135,143,143,140,138,137,155],[156,140,149,141,138,149,157,163,151,162,141,139],[138,148,150,139,148,152,160,144,154,158,144,139],[141,140,148,142,150,158,159,152,149,140,148,155],[151,144,137,130,150,140,153,144,149,151,148,153],[138,146,150,149,141,142,138,137,145,160,148,162],[135,150,158,150,135,140,146,141,141,145,146,157]],\"type\":\"heatmap\"},{\"coloraxis\":\"coloraxis\",\"hovertemplate\":\"x: %{x}\\u003cbr\\u003ey: %{y}\\u003cbr\\u003ecolor: %{z}\\u003cextra\\u003e\\u003c\\u002fextra\\u003e\",\"name\":\"0\",\"xaxis\":\"x21\",\"yaxis\":\"y21\",\"z\":[[144,139,144,136,142,142,134,152,141,143,134,138],[135,150,141,141,139,128,136,136,146,144,138,136],[136,129,139,143,136,135,140,148,140,138,128,139],[132,134,146,139,133,142,141,147,136,136,133,134],[138,138,132,148,135,152,150,145,138,133,133,153],[139,145,164,151,150,160,146,139,133,137,141,145],[149,161,154,145,145,159,149,141,143,138,142,150],[139,139,150,151,159,163,151,150,150,153,150,139],[147,148,152,161,164,170,158,155,157,149,148,160],[153,143,147,145,150,159,162,153,146,148,141,145],[149,150,167,162,149,145,146,146,147,142,134,149],[143,146,142,147,130,141,146,143,137,146,144,145]],\"type\":\"heatmap\"},{\"coloraxis\":\"coloraxis\",\"hovertemplate\":\"x: %{x}\\u003cbr\\u003ey: %{y}\\u003cbr\\u003ecolor: %{z}\\u003cextra\\u003e\\u003c\\u002fextra\\u003e\",\"name\":\"0\",\"xaxis\":\"x22\",\"yaxis\":\"y22\",\"z\":[[139,140,143,136,142,136,143,136,139,145,148,145],[151,140,159,136,134,141,149,141,149,143,151,138],[146,144,139,140,134,142,142,131,140,141,143,141],[138,137,136,142,142,138,142,150,150,153,146,144],[141,145,141,138,143,144,140,134,146,149,141,146],[136,139,142,150,141,141,142,138,138,140,149,139],[153,156,157,157,156,146,162,153,139,141,147,147],[135,150,152,159,161,159,153,144,145,148,149,139],[149,152,146,139,145,145,170,158,166,151,151,141],[150,152,161,165,150,140,164,151,152,164,155,146],[149,151,151,140,140,142,146,152,144,151,138,140],[159,146,150,147,142,149,143,143,146,145,155,156]],\"type\":\"heatmap\"},{\"coloraxis\":\"coloraxis\",\"hovertemplate\":\"x: %{x}\\u003cbr\\u003ey: %{y}\\u003cbr\\u003ecolor: %{z}\\u003cextra\\u003e\\u003c\\u002fextra\\u003e\",\"name\":\"0\",\"xaxis\":\"x23\",\"yaxis\":\"y23\",\"z\":[[133,133,129,138,134,141,141,135,137,147,157,163],[137,148,139,142,154,137,139,139,144,145,139,142],[147,131,136,138,141,135,135,147,154,144,137,136],[132,132,146,144,152,157,136,147,148,135,144,147],[133,142,145,137,142,131,131,141,137,139,140,133],[141,146,139,142,143,143,151,143,142,140,144,139],[143,141,145,145,143,151,144,145,144,142,145,151],[146,146,153,153,154,161,150,143,133,137,137,142],[137,149,145,148,148,142,144,147,144,138,141,149],[153,146,161,150,166,158,142,145,150,147,144,142],[149,156,151,141,145,146,152,146,142,138,144,146],[143,154,166,149,140,146,149,145,145,160,155,147]],\"type\":\"heatmap\"},{\"coloraxis\":\"coloraxis\",\"hovertemplate\":\"x: %{x}\\u003cbr\\u003ey: %{y}\\u003cbr\\u003ecolor: %{z}\\u003cextra\\u003e\\u003c\\u002fextra\\u003e\",\"name\":\"0\",\"xaxis\":\"x24\",\"yaxis\":\"y24\",\"z\":[[153,144,136,146,145,139,142,136,139,141,138,135],[139,144,139,140,132,147,150,160,145,130,138,148],[142,150,153,143,136,139,148,140,141,160,153,133],[154,144,144,138,146,138,139,142,148,141,146,150],[136,137,130,138,132,140,147,146,135,140,141,144],[137,138,147,144,137,135,160,165,141,135,165,149],[146,143,146,140,134,140,152,142,146,135,136,138],[138,138,140,144,140,149,153,146,153,150,148,164],[133,142,147,147,150,147,157,139,144,147,141,147],[140,136,139,138,133,150,149,142,153,148,145,157],[141,143,143,146,148,136,141,143,142,158,176,148],[144,140,135,144,140,139,152,155,157,145,140,141]],\"type\":\"heatmap\"},{\"coloraxis\":\"coloraxis\",\"hovertemplate\":\"x: %{x}\\u003cbr\\u003ey: %{y}\\u003cbr\\u003ecolor: %{z}\\u003cextra\\u003e\\u003c\\u002fextra\\u003e\",\"name\":\"0\",\"xaxis\":\"x25\",\"yaxis\":\"y25\",\"z\":[[160,135,132,146,142,160,139,136,138,136,132,135],[142,133,129,133,142,145,153,147,150,135,139,156],[140,136,137,143,157,149,146,150,150,142,138,138],[146,137,127,134,145,146,146,132,135,136,135,147],[132,131,126,139,145,141,141,139,139,135,132,134],[143,134,142,140,136,142,142,140,140,136,142,152],[137,137,143,146,149,148,146,143,142,147,146,144],[130,132,143,146,157,147,144,140,142,143,150,148],[135,148,148,148,144,145,149,151,146,140,140,140],[141,144,148,144,140,154,149,149,153,157,149,156],[148,140,141,138,145,153,140,156,146,135,140,145],[139,136,142,139,142,134,138,140,134,152,136,139]],\"type\":\"heatmap\"},{\"coloraxis\":\"coloraxis\",\"hovertemplate\":\"x: %{x}\\u003cbr\\u003ey: %{y}\\u003cbr\\u003ecolor: %{z}\\u003cextra\\u003e\\u003c\\u002fextra\\u003e\",\"name\":\"0\",\"xaxis\":\"x26\",\"yaxis\":\"y26\",\"z\":[[144,162,140,138,141,149,139,140,137,135,147,158],[132,130,151,154,139,132,137,135,138,139,139,133],[141,133,136,139,137,138,135,137,149,143,141,135],[147,139,160,136,138,138,132,131,147,136,150,160],[134,132,135,130,137,137,141,141,130,140,141,138],[130,137,148,139,145,139,138,167,145,137,143,137],[152,150,144,152,147,146,150,144,159,137,149,138],[145,138,145,143,142,156,155,146,141,149,150,139],[134,144,142,139,142,149,152,157,151,145,140,152],[134,141,128,129,133,147,142,155,155,142,146,148],[143,150,143,143,146,152,150,137,138,145,140,150],[141,140,138,133,141,145,156,149,137,148,159,157]],\"type\":\"heatmap\"},{\"coloraxis\":\"coloraxis\",\"hovertemplate\":\"x: %{x}\\u003cbr\\u003ey: %{y}\\u003cbr\\u003ecolor: %{z}\\u003cextra\\u003e\\u003c\\u002fextra\\u003e\",\"name\":\"0\",\"xaxis\":\"x27\",\"yaxis\":\"y27\",\"z\":[[138,132,136,151,138,134,128,134,139,133,130,133],[147,143,151,153,140,144,135,140,138,147,139,136],[143,148,141,143,142,132,141,137,141,150,147,134],[140,148,145,145,138,136,137,137,133,138,145,142],[145,145,140,134,141,141,140,139,142,157,152,129],[136,132,131,142,136,142,143,142,148,147,136,130],[135,137,142,161,158,142,162,140,143,139,148,136],[145,140,138,147,146,144,151,149,134,136,133,141],[160,143,138,140,141,142,138,146,151,141,140,141],[163,147,140,149,145,147,153,143,146,143,147,155],[158,156,140,141,147,147,148,139,132,140,139,144],[153,152,145,145,155,140,140,136,138,138,146,149]],\"type\":\"heatmap\"},{\"coloraxis\":\"coloraxis\",\"hovertemplate\":\"x: %{x}\\u003cbr\\u003ey: %{y}\\u003cbr\\u003ecolor: %{z}\\u003cextra\\u003e\\u003c\\u002fextra\\u003e\",\"name\":\"0\",\"xaxis\":\"x28\",\"yaxis\":\"y28\",\"z\":[[145,136,141,139,154,133,141,136,145,136,130,130],[136,133,138,144,139,143,145,138,141,148,138,133],[139,143,142,147,143,148,151,169,149,142,140,149],[141,146,144,147,144,134,138,135,141,135,142,137],[138,151,141,151,157,145,144,140,152,140,140,141],[138,155,150,141,165,160,150,155,148,133,134,154],[139,140,130,148,161,153,150,145,152,155,145,158],[159,164,147,138,144,148,146,139,143,147,150,141],[139,140,143,139,137,138,162,167,166,150,148,133],[156,155,146,155,151,167,153,152,152,161,146,140],[141,146,142,134,151,146,143,138,152,145,139,149],[137,142,135,144,150,157,143,143,142,144,152,148]],\"type\":\"heatmap\"},{\"coloraxis\":\"coloraxis\",\"hovertemplate\":\"x: %{x}\\u003cbr\\u003ey: %{y}\\u003cbr\\u003ecolor: %{z}\\u003cextra\\u003e\\u003c\\u002fextra\\u003e\",\"name\":\"0\",\"xaxis\":\"x29\",\"yaxis\":\"y29\",\"z\":[[134,143,161,150,150,138,158,150,137,136,139,138],[147,142,139,146,135,139,133,131,135,141,136,136],[144,141,152,142,147,143,135,146,138,143,141,140],[139,145,137,146,142,149,138,135,136,140,152,149],[139,152,137,141,143,132,132,143,135,136,140,133],[148,137,167,136,137,141,143,144,141,138,142,153],[131,148,155,147,145,135,141,138,133,142,127,137],[137,136,142,151,153,138,146,144,147,143,150,150],[131,145,144,139,145,149,155,161,146,143,137,146],[140,134,141,137,141,144,137,140,139,147,149,150],[140,136,144,145,136,145,151,147,138,148,151,144],[148,140,146,160,150,161,139,148,164,148,143,142]],\"type\":\"heatmap\"},{\"coloraxis\":\"coloraxis\",\"hovertemplate\":\"x: %{x}\\u003cbr\\u003ey: %{y}\\u003cbr\\u003ecolor: %{z}\\u003cextra\\u003e\\u003c\\u002fextra\\u003e\",\"name\":\"0\",\"xaxis\":\"x30\",\"yaxis\":\"y30\",\"z\":[[137,141,142,145,140,140,152,143,137,135,140,144],[144,140,147,144,150,140,144,141,151,135,134,144],[143,151,159,149,133,133,144,145,141,143,149,152],[140,139,140,150,138,133,143,146,167,138,139,135],[140,140,139,136,141,135,138,144,143,151,150,150],[149,145,147,145,139,139,146,145,139,154,152,164],[141,146,149,154,146,151,141,143,152,143,149,151],[139,145,148,161,141,143,141,144,144,143,148,154],[141,150,150,140,143,145,146,141,149,149,142,143],[143,150,156,145,141,144,140,143,144,136,138,152],[142,145,140,135,140,138,143,137,130,136,147,151],[141,142,140,142,143,135,133,145,165,141,141,140]],\"type\":\"heatmap\"},{\"coloraxis\":\"coloraxis\",\"hovertemplate\":\"x: %{x}\\u003cbr\\u003ey: %{y}\\u003cbr\\u003ecolor: %{z}\\u003cextra\\u003e\\u003c\\u002fextra\\u003e\",\"name\":\"0\",\"xaxis\":\"x31\",\"yaxis\":\"y31\",\"z\":[[137,138,137,161,156,140,134,137,148,149,139,137],[139,133,135,137,135,133,141,159,130,131,138,138],[137,134,137,154,142,141,158,154,141,137,133,132],[135,143,151,148,140,139,136,143,137,137,134,137],[141,135,132,137,134,134,135,136,140,134,164,169],[147,146,150,145,144,145,147,146,157,151,161,149],[142,159,142,149,159,138,136,138,140,138,153,153],[142,151,144,146,152,159,141,138,155,142,147,147],[138,145,148,147,150,151,163,148,144,139,138,144],[130,138,141,147,145,142,143,141,140,145,136,127],[148,153,155,154,160,140,146,138,145,139,144,140],[137,141,138,146,157,141,139,133,140,140,138,144]],\"type\":\"heatmap\"},{\"coloraxis\":\"coloraxis\",\"hovertemplate\":\"x: %{x}\\u003cbr\\u003ey: %{y}\\u003cbr\\u003ecolor: %{z}\\u003cextra\\u003e\\u003c\\u002fextra\\u003e\",\"name\":\"0\",\"xaxis\":\"x32\",\"yaxis\":\"y32\",\"z\":[[135,136,131,137,133,131,130,135,143,140,141,136],[147,140,133,134,134,139,135,135,134,137,135,134],[142,141,133,137,145,136,143,140,145,137,132,150],[142,130,142,134,134,137,139,133,143,137,138,140],[137,139,141,134,137,132,131,131,144,138,133,138],[134,141,145,139,133,143,143,139,136,151,144,145],[135,142,134,131,138,137,137,143,139,139,140,141],[144,140,144,158,138,134,141,142,138,136,138,141],[137,134,135,133,141,136,142,141,135,137,134,134],[153,139,141,147,141,146,153,152,147,150,143,146],[145,137,137,138,135,136,136,139,134,141,148,151],[145,141,144,135,137,135,135,146,145,140,144,150]],\"type\":\"heatmap\"},{\"coloraxis\":\"coloraxis\",\"hovertemplate\":\"x: %{x}\\u003cbr\\u003ey: %{y}\\u003cbr\\u003ecolor: %{z}\\u003cextra\\u003e\\u003c\\u002fextra\\u003e\",\"name\":\"0\",\"xaxis\":\"x33\",\"yaxis\":\"y33\",\"z\":[[134,141,137,131,129,132,135,142,153,134,135,139],[142,133,145,131,131,134,140,135,144,136,135,138],[134,139,132,136,133,141,146,145,151,134,130,131],[135,141,134,144,134,133,133,133,142,137,139,141],[131,149,141,130,135,154,143,138,136,146,143,138],[135,136,138,133,146,145,143,133,143,156,165,134],[136,139,139,140,143,148,145,140,143,145,149,160],[147,147,156,143,144,141,140,143,135,153,146,141],[138,138,137,136,142,151,148,155,150,153,151,158],[136,146,146,136,138,141,148,153,144,137,145,142],[145,148,153,139,142,141,154,152,142,141,139,143],[151,138,141,138,133,143,158,148,141,146,147,135]],\"type\":\"heatmap\"},{\"coloraxis\":\"coloraxis\",\"hovertemplate\":\"x: %{x}\\u003cbr\\u003ey: %{y}\\u003cbr\\u003ecolor: %{z}\\u003cextra\\u003e\\u003c\\u002fextra\\u003e\",\"name\":\"0\",\"xaxis\":\"x34\",\"yaxis\":\"y34\",\"z\":[[138,139,139,133,141,134,136,140,140,143,135,137],[135,140,137,138,148,153,158,143,141,143,145,134],[144,136,136,137,136,130,143,142,139,138,135,138],[148,140,139,129,131,131,139,131,131,134,133,142],[144,130,133,131,136,143,144,134,144,138,137,134],[141,143,143,129,152,148,150,143,136,138,133,133],[145,149,150,142,135,139,145,142,139,143,155,141],[147,142,162,149,154,150,144,141,138,145,148,138],[150,154,144,142,148,150,149,158,147,148,151,144],[138,141,138,142,158,157,154,144,151,162,146,138],[148,137,141,137,149,154,147,140,139,163,147,139],[146,149,151,152,177,148,149,174,144,136,139,143]],\"type\":\"heatmap\"}],                        {\"template\":{\"data\":{\"histogram2dcontour\":[{\"type\":\"histogram2dcontour\",\"colorbar\":{\"outlinewidth\":0,\"ticks\":\"\"},\"colorscale\":[[0.0,\"#0d0887\"],[0.1111111111111111,\"#46039f\"],[0.2222222222222222,\"#7201a8\"],[0.3333333333333333,\"#9c179e\"],[0.4444444444444444,\"#bd3786\"],[0.5555555555555556,\"#d8576b\"],[0.6666666666666666,\"#ed7953\"],[0.7777777777777778,\"#fb9f3a\"],[0.8888888888888888,\"#fdca26\"],[1.0,\"#f0f921\"]]}],\"choropleth\":[{\"type\":\"choropleth\",\"colorbar\":{\"outlinewidth\":0,\"ticks\":\"\"}}],\"histogram2d\":[{\"type\":\"histogram2d\",\"colorbar\":{\"outlinewidth\":0,\"ticks\":\"\"},\"colorscale\":[[0.0,\"#0d0887\"],[0.1111111111111111,\"#46039f\"],[0.2222222222222222,\"#7201a8\"],[0.3333333333333333,\"#9c179e\"],[0.4444444444444444,\"#bd3786\"],[0.5555555555555556,\"#d8576b\"],[0.6666666666666666,\"#ed7953\"],[0.7777777777777778,\"#fb9f3a\"],[0.8888888888888888,\"#fdca26\"],[1.0,\"#f0f921\"]]}],\"heatmap\":[{\"type\":\"heatmap\",\"colorbar\":{\"outlinewidth\":0,\"ticks\":\"\"},\"colorscale\":[[0.0,\"#0d0887\"],[0.1111111111111111,\"#46039f\"],[0.2222222222222222,\"#7201a8\"],[0.3333333333333333,\"#9c179e\"],[0.4444444444444444,\"#bd3786\"],[0.5555555555555556,\"#d8576b\"],[0.6666666666666666,\"#ed7953\"],[0.7777777777777778,\"#fb9f3a\"],[0.8888888888888888,\"#fdca26\"],[1.0,\"#f0f921\"]]}],\"heatmapgl\":[{\"type\":\"heatmapgl\",\"colorbar\":{\"outlinewidth\":0,\"ticks\":\"\"},\"colorscale\":[[0.0,\"#0d0887\"],[0.1111111111111111,\"#46039f\"],[0.2222222222222222,\"#7201a8\"],[0.3333333333333333,\"#9c179e\"],[0.4444444444444444,\"#bd3786\"],[0.5555555555555556,\"#d8576b\"],[0.6666666666666666,\"#ed7953\"],[0.7777777777777778,\"#fb9f3a\"],[0.8888888888888888,\"#fdca26\"],[1.0,\"#f0f921\"]]}],\"contourcarpet\":[{\"type\":\"contourcarpet\",\"colorbar\":{\"outlinewidth\":0,\"ticks\":\"\"}}],\"contour\":[{\"type\":\"contour\",\"colorbar\":{\"outlinewidth\":0,\"ticks\":\"\"},\"colorscale\":[[0.0,\"#0d0887\"],[0.1111111111111111,\"#46039f\"],[0.2222222222222222,\"#7201a8\"],[0.3333333333333333,\"#9c179e\"],[0.4444444444444444,\"#bd3786\"],[0.5555555555555556,\"#d8576b\"],[0.6666666666666666,\"#ed7953\"],[0.7777777777777778,\"#fb9f3a\"],[0.8888888888888888,\"#fdca26\"],[1.0,\"#f0f921\"]]}],\"surface\":[{\"type\":\"surface\",\"colorbar\":{\"outlinewidth\":0,\"ticks\":\"\"},\"colorscale\":[[0.0,\"#0d0887\"],[0.1111111111111111,\"#46039f\"],[0.2222222222222222,\"#7201a8\"],[0.3333333333333333,\"#9c179e\"],[0.4444444444444444,\"#bd3786\"],[0.5555555555555556,\"#d8576b\"],[0.6666666666666666,\"#ed7953\"],[0.7777777777777778,\"#fb9f3a\"],[0.8888888888888888,\"#fdca26\"],[1.0,\"#f0f921\"]]}],\"mesh3d\":[{\"type\":\"mesh3d\",\"colorbar\":{\"outlinewidth\":0,\"ticks\":\"\"}}],\"scatter\":[{\"fillpattern\":{\"fillmode\":\"overlay\",\"size\":10,\"solidity\":0.2},\"type\":\"scatter\"}],\"parcoords\":[{\"type\":\"parcoords\",\"line\":{\"colorbar\":{\"outlinewidth\":0,\"ticks\":\"\"}}}],\"scatterpolargl\":[{\"type\":\"scatterpolargl\",\"marker\":{\"colorbar\":{\"outlinewidth\":0,\"ticks\":\"\"}}}],\"bar\":[{\"error_x\":{\"color\":\"#2a3f5f\"},\"error_y\":{\"color\":\"#2a3f5f\"},\"marker\":{\"line\":{\"color\":\"#E5ECF6\",\"width\":0.5},\"pattern\":{\"fillmode\":\"overlay\",\"size\":10,\"solidity\":0.2}},\"type\":\"bar\"}],\"scattergeo\":[{\"type\":\"scattergeo\",\"marker\":{\"colorbar\":{\"outlinewidth\":0,\"ticks\":\"\"}}}],\"scatterpolar\":[{\"type\":\"scatterpolar\",\"marker\":{\"colorbar\":{\"outlinewidth\":0,\"ticks\":\"\"}}}],\"histogram\":[{\"marker\":{\"pattern\":{\"fillmode\":\"overlay\",\"size\":10,\"solidity\":0.2}},\"type\":\"histogram\"}],\"scattergl\":[{\"type\":\"scattergl\",\"marker\":{\"colorbar\":{\"outlinewidth\":0,\"ticks\":\"\"}}}],\"scatter3d\":[{\"type\":\"scatter3d\",\"line\":{\"colorbar\":{\"outlinewidth\":0,\"ticks\":\"\"}},\"marker\":{\"colorbar\":{\"outlinewidth\":0,\"ticks\":\"\"}}}],\"scattermapbox\":[{\"type\":\"scattermapbox\",\"marker\":{\"colorbar\":{\"outlinewidth\":0,\"ticks\":\"\"}}}],\"scatterternary\":[{\"type\":\"scatterternary\",\"marker\":{\"colorbar\":{\"outlinewidth\":0,\"ticks\":\"\"}}}],\"scattercarpet\":[{\"type\":\"scattercarpet\",\"marker\":{\"colorbar\":{\"outlinewidth\":0,\"ticks\":\"\"}}}],\"carpet\":[{\"aaxis\":{\"endlinecolor\":\"#2a3f5f\",\"gridcolor\":\"white\",\"linecolor\":\"white\",\"minorgridcolor\":\"white\",\"startlinecolor\":\"#2a3f5f\"},\"baxis\":{\"endlinecolor\":\"#2a3f5f\",\"gridcolor\":\"white\",\"linecolor\":\"white\",\"minorgridcolor\":\"white\",\"startlinecolor\":\"#2a3f5f\"},\"type\":\"carpet\"}],\"table\":[{\"cells\":{\"fill\":{\"color\":\"#EBF0F8\"},\"line\":{\"color\":\"white\"}},\"header\":{\"fill\":{\"color\":\"#C8D4E3\"},\"line\":{\"color\":\"white\"}},\"type\":\"table\"}],\"barpolar\":[{\"marker\":{\"line\":{\"color\":\"#E5ECF6\",\"width\":0.5},\"pattern\":{\"fillmode\":\"overlay\",\"size\":10,\"solidity\":0.2}},\"type\":\"barpolar\"}],\"pie\":[{\"automargin\":true,\"type\":\"pie\"}]},\"layout\":{\"autotypenumbers\":\"strict\",\"colorway\":[\"#636efa\",\"#EF553B\",\"#00cc96\",\"#ab63fa\",\"#FFA15A\",\"#19d3f3\",\"#FF6692\",\"#B6E880\",\"#FF97FF\",\"#FECB52\"],\"font\":{\"color\":\"#2a3f5f\"},\"hovermode\":\"closest\",\"hoverlabel\":{\"align\":\"left\"},\"paper_bgcolor\":\"white\",\"plot_bgcolor\":\"#E5ECF6\",\"polar\":{\"bgcolor\":\"#E5ECF6\",\"angularaxis\":{\"gridcolor\":\"white\",\"linecolor\":\"white\",\"ticks\":\"\"},\"radialaxis\":{\"gridcolor\":\"white\",\"linecolor\":\"white\",\"ticks\":\"\"}},\"ternary\":{\"bgcolor\":\"#E5ECF6\",\"aaxis\":{\"gridcolor\":\"white\",\"linecolor\":\"white\",\"ticks\":\"\"},\"baxis\":{\"gridcolor\":\"white\",\"linecolor\":\"white\",\"ticks\":\"\"},\"caxis\":{\"gridcolor\":\"white\",\"linecolor\":\"white\",\"ticks\":\"\"}},\"coloraxis\":{\"colorbar\":{\"outlinewidth\":0,\"ticks\":\"\"}},\"colorscale\":{\"sequential\":[[0.0,\"#0d0887\"],[0.1111111111111111,\"#46039f\"],[0.2222222222222222,\"#7201a8\"],[0.3333333333333333,\"#9c179e\"],[0.4444444444444444,\"#bd3786\"],[0.5555555555555556,\"#d8576b\"],[0.6666666666666666,\"#ed7953\"],[0.7777777777777778,\"#fb9f3a\"],[0.8888888888888888,\"#fdca26\"],[1.0,\"#f0f921\"]],\"sequentialminus\":[[0.0,\"#0d0887\"],[0.1111111111111111,\"#46039f\"],[0.2222222222222222,\"#7201a8\"],[0.3333333333333333,\"#9c179e\"],[0.4444444444444444,\"#bd3786\"],[0.5555555555555556,\"#d8576b\"],[0.6666666666666666,\"#ed7953\"],[0.7777777777777778,\"#fb9f3a\"],[0.8888888888888888,\"#fdca26\"],[1.0,\"#f0f921\"]],\"diverging\":[[0,\"#8e0152\"],[0.1,\"#c51b7d\"],[0.2,\"#de77ae\"],[0.3,\"#f1b6da\"],[0.4,\"#fde0ef\"],[0.5,\"#f7f7f7\"],[0.6,\"#e6f5d0\"],[0.7,\"#b8e186\"],[0.8,\"#7fbc41\"],[0.9,\"#4d9221\"],[1,\"#276419\"]]},\"xaxis\":{\"gridcolor\":\"white\",\"linecolor\":\"white\",\"ticks\":\"\",\"title\":{\"standoff\":15},\"zerolinecolor\":\"white\",\"automargin\":true,\"zerolinewidth\":2},\"yaxis\":{\"gridcolor\":\"white\",\"linecolor\":\"white\",\"ticks\":\"\",\"title\":{\"standoff\":15},\"zerolinecolor\":\"white\",\"automargin\":true,\"zerolinewidth\":2},\"scene\":{\"xaxis\":{\"backgroundcolor\":\"#E5ECF6\",\"gridcolor\":\"white\",\"linecolor\":\"white\",\"showbackground\":true,\"ticks\":\"\",\"zerolinecolor\":\"white\",\"gridwidth\":2},\"yaxis\":{\"backgroundcolor\":\"#E5ECF6\",\"gridcolor\":\"white\",\"linecolor\":\"white\",\"showbackground\":true,\"ticks\":\"\",\"zerolinecolor\":\"white\",\"gridwidth\":2},\"zaxis\":{\"backgroundcolor\":\"#E5ECF6\",\"gridcolor\":\"white\",\"linecolor\":\"white\",\"showbackground\":true,\"ticks\":\"\",\"zerolinecolor\":\"white\",\"gridwidth\":2}},\"shapedefaults\":{\"line\":{\"color\":\"#2a3f5f\"}},\"annotationdefaults\":{\"arrowcolor\":\"#2a3f5f\",\"arrowhead\":0,\"arrowwidth\":1},\"geo\":{\"bgcolor\":\"white\",\"landcolor\":\"#E5ECF6\",\"subunitcolor\":\"white\",\"showland\":true,\"showlakes\":true,\"lakecolor\":\"white\"},\"title\":{\"x\":0.05},\"mapbox\":{\"style\":\"light\"}}},\"xaxis\":{\"anchor\":\"y\",\"domain\":[0.0,0.1183673469387755]},\"yaxis\":{\"anchor\":\"x\",\"domain\":[0.848,1.0]},\"xaxis2\":{\"anchor\":\"y2\",\"domain\":[0.14693877551020407,0.26530612244897955]},\"yaxis2\":{\"anchor\":\"x2\",\"domain\":[0.848,1.0]},\"xaxis3\":{\"anchor\":\"y3\",\"domain\":[0.29387755102040813,0.4122448979591836]},\"yaxis3\":{\"anchor\":\"x3\",\"domain\":[0.848,1.0]},\"xaxis4\":{\"anchor\":\"y4\",\"domain\":[0.4408163265306122,0.5591836734693877]},\"yaxis4\":{\"anchor\":\"x4\",\"domain\":[0.848,1.0]},\"xaxis5\":{\"anchor\":\"y5\",\"domain\":[0.5877551020408163,0.7061224489795918]},\"yaxis5\":{\"anchor\":\"x5\",\"domain\":[0.848,1.0]},\"xaxis6\":{\"anchor\":\"y6\",\"domain\":[0.7346938775510204,0.8530612244897959]},\"yaxis6\":{\"anchor\":\"x6\",\"domain\":[0.848,1.0]},\"xaxis7\":{\"anchor\":\"y7\",\"domain\":[0.8816326530612244,0.9999999999999999]},\"yaxis7\":{\"anchor\":\"x7\",\"domain\":[0.848,1.0]},\"xaxis8\":{\"anchor\":\"y8\",\"domain\":[0.0,0.1183673469387755]},\"yaxis8\":{\"anchor\":\"x8\",\"domain\":[0.6359999999999999,0.7879999999999999]},\"xaxis9\":{\"anchor\":\"y9\",\"domain\":[0.14693877551020407,0.26530612244897955]},\"yaxis9\":{\"anchor\":\"x9\",\"domain\":[0.6359999999999999,0.7879999999999999]},\"xaxis10\":{\"anchor\":\"y10\",\"domain\":[0.29387755102040813,0.4122448979591836]},\"yaxis10\":{\"anchor\":\"x10\",\"domain\":[0.6359999999999999,0.7879999999999999]},\"xaxis11\":{\"anchor\":\"y11\",\"domain\":[0.4408163265306122,0.5591836734693877]},\"yaxis11\":{\"anchor\":\"x11\",\"domain\":[0.6359999999999999,0.7879999999999999]},\"xaxis12\":{\"anchor\":\"y12\",\"domain\":[0.5877551020408163,0.7061224489795918]},\"yaxis12\":{\"anchor\":\"x12\",\"domain\":[0.6359999999999999,0.7879999999999999]},\"xaxis13\":{\"anchor\":\"y13\",\"domain\":[0.7346938775510204,0.8530612244897959]},\"yaxis13\":{\"anchor\":\"x13\",\"domain\":[0.6359999999999999,0.7879999999999999]},\"xaxis14\":{\"anchor\":\"y14\",\"domain\":[0.8816326530612244,0.9999999999999999]},\"yaxis14\":{\"anchor\":\"x14\",\"domain\":[0.6359999999999999,0.7879999999999999]},\"xaxis15\":{\"anchor\":\"y15\",\"domain\":[0.0,0.1183673469387755]},\"yaxis15\":{\"anchor\":\"x15\",\"domain\":[0.424,0.576]},\"xaxis16\":{\"anchor\":\"y16\",\"domain\":[0.14693877551020407,0.26530612244897955]},\"yaxis16\":{\"anchor\":\"x16\",\"domain\":[0.424,0.576]},\"xaxis17\":{\"anchor\":\"y17\",\"domain\":[0.29387755102040813,0.4122448979591836]},\"yaxis17\":{\"anchor\":\"x17\",\"domain\":[0.424,0.576]},\"xaxis18\":{\"anchor\":\"y18\",\"domain\":[0.4408163265306122,0.5591836734693877]},\"yaxis18\":{\"anchor\":\"x18\",\"domain\":[0.424,0.576]},\"xaxis19\":{\"anchor\":\"y19\",\"domain\":[0.5877551020408163,0.7061224489795918]},\"yaxis19\":{\"anchor\":\"x19\",\"domain\":[0.424,0.576]},\"xaxis20\":{\"anchor\":\"y20\",\"domain\":[0.7346938775510204,0.8530612244897959]},\"yaxis20\":{\"anchor\":\"x20\",\"domain\":[0.424,0.576]},\"xaxis21\":{\"anchor\":\"y21\",\"domain\":[0.8816326530612244,0.9999999999999999]},\"yaxis21\":{\"anchor\":\"x21\",\"domain\":[0.424,0.576]},\"xaxis22\":{\"anchor\":\"y22\",\"domain\":[0.0,0.1183673469387755]},\"yaxis22\":{\"anchor\":\"x22\",\"domain\":[0.212,0.364]},\"xaxis23\":{\"anchor\":\"y23\",\"domain\":[0.14693877551020407,0.26530612244897955]},\"yaxis23\":{\"anchor\":\"x23\",\"domain\":[0.212,0.364]},\"xaxis24\":{\"anchor\":\"y24\",\"domain\":[0.29387755102040813,0.4122448979591836]},\"yaxis24\":{\"anchor\":\"x24\",\"domain\":[0.212,0.364]},\"xaxis25\":{\"anchor\":\"y25\",\"domain\":[0.4408163265306122,0.5591836734693877]},\"yaxis25\":{\"anchor\":\"x25\",\"domain\":[0.212,0.364]},\"xaxis26\":{\"anchor\":\"y26\",\"domain\":[0.5877551020408163,0.7061224489795918]},\"yaxis26\":{\"anchor\":\"x26\",\"domain\":[0.212,0.364]},\"xaxis27\":{\"anchor\":\"y27\",\"domain\":[0.7346938775510204,0.8530612244897959]},\"yaxis27\":{\"anchor\":\"x27\",\"domain\":[0.212,0.364]},\"xaxis28\":{\"anchor\":\"y28\",\"domain\":[0.8816326530612244,0.9999999999999999]},\"yaxis28\":{\"anchor\":\"x28\",\"domain\":[0.212,0.364]},\"xaxis29\":{\"anchor\":\"y29\",\"domain\":[0.0,0.1183673469387755]},\"yaxis29\":{\"anchor\":\"x29\",\"domain\":[0.0,0.152]},\"xaxis30\":{\"anchor\":\"y30\",\"domain\":[0.14693877551020407,0.26530612244897955]},\"yaxis30\":{\"anchor\":\"x30\",\"domain\":[0.0,0.152]},\"xaxis31\":{\"anchor\":\"y31\",\"domain\":[0.29387755102040813,0.4122448979591836]},\"yaxis31\":{\"anchor\":\"x31\",\"domain\":[0.0,0.152]},\"xaxis32\":{\"anchor\":\"y32\",\"domain\":[0.4408163265306122,0.5591836734693877]},\"yaxis32\":{\"anchor\":\"x32\",\"domain\":[0.0,0.152]},\"xaxis33\":{\"anchor\":\"y33\",\"domain\":[0.5877551020408163,0.7061224489795918]},\"yaxis33\":{\"anchor\":\"x33\",\"domain\":[0.0,0.152]},\"xaxis34\":{\"anchor\":\"y34\",\"domain\":[0.7346938775510204,0.8530612244897959]},\"yaxis34\":{\"anchor\":\"x34\",\"domain\":[0.0,0.152]},\"xaxis35\":{\"anchor\":\"y35\",\"domain\":[0.8816326530612244,0.9999999999999999]},\"yaxis35\":{\"anchor\":\"x35\",\"domain\":[0.0,0.152]}},                        {\"responsive\": true}                    ).then(function(){\n",
       "                            \n",
       "var gd = document.getElementById('adfce265-59bb-4bf1-8766-264ff1037570');\n",
       "var x = new MutationObserver(function (mutations, observer) {{\n",
       "        var display = window.getComputedStyle(gd).display;\n",
       "        if (!display || display === 'none') {{\n",
       "            console.log([gd, 'removed!']);\n",
       "            Plotly.purge(gd);\n",
       "            observer.disconnect();\n",
       "        }}\n",
       "}});\n",
       "\n",
       "// Listen for the removal of the full notebook cells\n",
       "var notebookContainer = gd.closest('#notebook-container');\n",
       "if (notebookContainer) {{\n",
       "    x.observe(notebookContainer, {childList: true});\n",
       "}}\n",
       "\n",
       "// Listen for the clearing of the current output cell\n",
       "var outputEl = gd.closest('.output');\n",
       "if (outputEl) {{\n",
       "    x.observe(outputEl, {childList: true});\n",
       "}}\n",
       "\n",
       "                        })                };                });            </script>        </div>"
      ]
     },
     "metadata": {},
     "output_type": "display_data"
    }
   ],
   "source": [
    "plot_raw_movie(plot_type = 'max_intensity_projection', raw_image = raw_image_2,track_number = 36)"
   ]
  },
  {
   "cell_type": "code",
   "execution_count": 92,
   "id": "4ac2c849",
   "metadata": {},
   "outputs": [
    {
     "data": {
      "application/vnd.plotly.v1+json": {
       "config": {
        "plotlyServerURL": "https://plot.ly"
       },
       "data": [
        {
         "line": {
          "color": "red",
          "width": 4
         },
         "name": "Channel 3",
         "type": "scatter",
         "x": [
          1,
          2,
          3,
          4,
          5,
          6,
          7,
          8,
          9,
          10,
          11,
          12,
          13,
          14,
          15,
          16,
          17,
          18,
          19,
          20,
          21
         ],
         "y": [
          247.6217502128279,
          272.00000000000006,
          276.33333333333326,
          245.00000000000003,
          235.64966805104243,
          246.00000000000003,
          212.66666666666276,
          216.1445761627482,
          230.00000000000003,
          248.8643508393661,
          241.26665607504628,
          240.449915037594,
          238.33333333333334,
          231.00000000000003,
          227.35695684395603,
          225.8174907827365,
          219.2046710272848,
          224.00000000000003,
          286.00000000000006,
          252.97199888493273,
          226.94618594943563
         ]
        },
        {
         "line": {
          "color": "green",
          "width": 4
         },
         "name": "Channel 2",
         "type": "scatter",
         "x": [
          1,
          2,
          3,
          4,
          5,
          6,
          7,
          8,
          9,
          10,
          11,
          12,
          13,
          14,
          15,
          16,
          17,
          18,
          19,
          20,
          21
         ],
         "y": [
          133.6074074074074,
          139.42857142857142,
          135.5936507936508,
          130.69142857142856,
          135.93333333333334,
          135.0095238095238,
          131.64727272727274,
          136.0155844155844,
          138.85925925925926,
          133.0857142857143,
          139.7047619047619,
          137.5142857142857,
          132.8,
          134.93142857142857,
          138.31428571428572,
          130.92888888888888,
          133.5822222222222,
          129.7037037037037,
          133.82222222222222,
          131.14603174603175,
          129.34666666666666
         ]
        }
       ],
       "layout": {
        "autosize": true,
        "template": {
         "data": {
          "bar": [
           {
            "error_x": {
             "color": "#2a3f5f"
            },
            "error_y": {
             "color": "#2a3f5f"
            },
            "marker": {
             "line": {
              "color": "#E5ECF6",
              "width": 0.5
             },
             "pattern": {
              "fillmode": "overlay",
              "size": 10,
              "solidity": 0.2
             }
            },
            "type": "bar"
           }
          ],
          "barpolar": [
           {
            "marker": {
             "line": {
              "color": "#E5ECF6",
              "width": 0.5
             },
             "pattern": {
              "fillmode": "overlay",
              "size": 10,
              "solidity": 0.2
             }
            },
            "type": "barpolar"
           }
          ],
          "carpet": [
           {
            "aaxis": {
             "endlinecolor": "#2a3f5f",
             "gridcolor": "white",
             "linecolor": "white",
             "minorgridcolor": "white",
             "startlinecolor": "#2a3f5f"
            },
            "baxis": {
             "endlinecolor": "#2a3f5f",
             "gridcolor": "white",
             "linecolor": "white",
             "minorgridcolor": "white",
             "startlinecolor": "#2a3f5f"
            },
            "type": "carpet"
           }
          ],
          "choropleth": [
           {
            "colorbar": {
             "outlinewidth": 0,
             "ticks": ""
            },
            "type": "choropleth"
           }
          ],
          "contour": [
           {
            "colorbar": {
             "outlinewidth": 0,
             "ticks": ""
            },
            "colorscale": [
             [
              0,
              "#0d0887"
             ],
             [
              0.1111111111111111,
              "#46039f"
             ],
             [
              0.2222222222222222,
              "#7201a8"
             ],
             [
              0.3333333333333333,
              "#9c179e"
             ],
             [
              0.4444444444444444,
              "#bd3786"
             ],
             [
              0.5555555555555556,
              "#d8576b"
             ],
             [
              0.6666666666666666,
              "#ed7953"
             ],
             [
              0.7777777777777778,
              "#fb9f3a"
             ],
             [
              0.8888888888888888,
              "#fdca26"
             ],
             [
              1,
              "#f0f921"
             ]
            ],
            "type": "contour"
           }
          ],
          "contourcarpet": [
           {
            "colorbar": {
             "outlinewidth": 0,
             "ticks": ""
            },
            "type": "contourcarpet"
           }
          ],
          "heatmap": [
           {
            "colorbar": {
             "outlinewidth": 0,
             "ticks": ""
            },
            "colorscale": [
             [
              0,
              "#0d0887"
             ],
             [
              0.1111111111111111,
              "#46039f"
             ],
             [
              0.2222222222222222,
              "#7201a8"
             ],
             [
              0.3333333333333333,
              "#9c179e"
             ],
             [
              0.4444444444444444,
              "#bd3786"
             ],
             [
              0.5555555555555556,
              "#d8576b"
             ],
             [
              0.6666666666666666,
              "#ed7953"
             ],
             [
              0.7777777777777778,
              "#fb9f3a"
             ],
             [
              0.8888888888888888,
              "#fdca26"
             ],
             [
              1,
              "#f0f921"
             ]
            ],
            "type": "heatmap"
           }
          ],
          "heatmapgl": [
           {
            "colorbar": {
             "outlinewidth": 0,
             "ticks": ""
            },
            "colorscale": [
             [
              0,
              "#0d0887"
             ],
             [
              0.1111111111111111,
              "#46039f"
             ],
             [
              0.2222222222222222,
              "#7201a8"
             ],
             [
              0.3333333333333333,
              "#9c179e"
             ],
             [
              0.4444444444444444,
              "#bd3786"
             ],
             [
              0.5555555555555556,
              "#d8576b"
             ],
             [
              0.6666666666666666,
              "#ed7953"
             ],
             [
              0.7777777777777778,
              "#fb9f3a"
             ],
             [
              0.8888888888888888,
              "#fdca26"
             ],
             [
              1,
              "#f0f921"
             ]
            ],
            "type": "heatmapgl"
           }
          ],
          "histogram": [
           {
            "marker": {
             "pattern": {
              "fillmode": "overlay",
              "size": 10,
              "solidity": 0.2
             }
            },
            "type": "histogram"
           }
          ],
          "histogram2d": [
           {
            "colorbar": {
             "outlinewidth": 0,
             "ticks": ""
            },
            "colorscale": [
             [
              0,
              "#0d0887"
             ],
             [
              0.1111111111111111,
              "#46039f"
             ],
             [
              0.2222222222222222,
              "#7201a8"
             ],
             [
              0.3333333333333333,
              "#9c179e"
             ],
             [
              0.4444444444444444,
              "#bd3786"
             ],
             [
              0.5555555555555556,
              "#d8576b"
             ],
             [
              0.6666666666666666,
              "#ed7953"
             ],
             [
              0.7777777777777778,
              "#fb9f3a"
             ],
             [
              0.8888888888888888,
              "#fdca26"
             ],
             [
              1,
              "#f0f921"
             ]
            ],
            "type": "histogram2d"
           }
          ],
          "histogram2dcontour": [
           {
            "colorbar": {
             "outlinewidth": 0,
             "ticks": ""
            },
            "colorscale": [
             [
              0,
              "#0d0887"
             ],
             [
              0.1111111111111111,
              "#46039f"
             ],
             [
              0.2222222222222222,
              "#7201a8"
             ],
             [
              0.3333333333333333,
              "#9c179e"
             ],
             [
              0.4444444444444444,
              "#bd3786"
             ],
             [
              0.5555555555555556,
              "#d8576b"
             ],
             [
              0.6666666666666666,
              "#ed7953"
             ],
             [
              0.7777777777777778,
              "#fb9f3a"
             ],
             [
              0.8888888888888888,
              "#fdca26"
             ],
             [
              1,
              "#f0f921"
             ]
            ],
            "type": "histogram2dcontour"
           }
          ],
          "mesh3d": [
           {
            "colorbar": {
             "outlinewidth": 0,
             "ticks": ""
            },
            "type": "mesh3d"
           }
          ],
          "parcoords": [
           {
            "line": {
             "colorbar": {
              "outlinewidth": 0,
              "ticks": ""
             }
            },
            "type": "parcoords"
           }
          ],
          "pie": [
           {
            "automargin": true,
            "type": "pie"
           }
          ],
          "scatter": [
           {
            "fillpattern": {
             "fillmode": "overlay",
             "size": 10,
             "solidity": 0.2
            },
            "type": "scatter"
           }
          ],
          "scatter3d": [
           {
            "line": {
             "colorbar": {
              "outlinewidth": 0,
              "ticks": ""
             }
            },
            "marker": {
             "colorbar": {
              "outlinewidth": 0,
              "ticks": ""
             }
            },
            "type": "scatter3d"
           }
          ],
          "scattercarpet": [
           {
            "marker": {
             "colorbar": {
              "outlinewidth": 0,
              "ticks": ""
             }
            },
            "type": "scattercarpet"
           }
          ],
          "scattergeo": [
           {
            "marker": {
             "colorbar": {
              "outlinewidth": 0,
              "ticks": ""
             }
            },
            "type": "scattergeo"
           }
          ],
          "scattergl": [
           {
            "marker": {
             "colorbar": {
              "outlinewidth": 0,
              "ticks": ""
             }
            },
            "type": "scattergl"
           }
          ],
          "scattermapbox": [
           {
            "marker": {
             "colorbar": {
              "outlinewidth": 0,
              "ticks": ""
             }
            },
            "type": "scattermapbox"
           }
          ],
          "scatterpolar": [
           {
            "marker": {
             "colorbar": {
              "outlinewidth": 0,
              "ticks": ""
             }
            },
            "type": "scatterpolar"
           }
          ],
          "scatterpolargl": [
           {
            "marker": {
             "colorbar": {
              "outlinewidth": 0,
              "ticks": ""
             }
            },
            "type": "scatterpolargl"
           }
          ],
          "scatterternary": [
           {
            "marker": {
             "colorbar": {
              "outlinewidth": 0,
              "ticks": ""
             }
            },
            "type": "scatterternary"
           }
          ],
          "surface": [
           {
            "colorbar": {
             "outlinewidth": 0,
             "ticks": ""
            },
            "colorscale": [
             [
              0,
              "#0d0887"
             ],
             [
              0.1111111111111111,
              "#46039f"
             ],
             [
              0.2222222222222222,
              "#7201a8"
             ],
             [
              0.3333333333333333,
              "#9c179e"
             ],
             [
              0.4444444444444444,
              "#bd3786"
             ],
             [
              0.5555555555555556,
              "#d8576b"
             ],
             [
              0.6666666666666666,
              "#ed7953"
             ],
             [
              0.7777777777777778,
              "#fb9f3a"
             ],
             [
              0.8888888888888888,
              "#fdca26"
             ],
             [
              1,
              "#f0f921"
             ]
            ],
            "type": "surface"
           }
          ],
          "table": [
           {
            "cells": {
             "fill": {
              "color": "#EBF0F8"
             },
             "line": {
              "color": "white"
             }
            },
            "header": {
             "fill": {
              "color": "#C8D4E3"
             },
             "line": {
              "color": "white"
             }
            },
            "type": "table"
           }
          ]
         },
         "layout": {
          "annotationdefaults": {
           "arrowcolor": "#2a3f5f",
           "arrowhead": 0,
           "arrowwidth": 1
          },
          "autotypenumbers": "strict",
          "coloraxis": {
           "colorbar": {
            "outlinewidth": 0,
            "ticks": ""
           }
          },
          "colorscale": {
           "diverging": [
            [
             0,
             "#8e0152"
            ],
            [
             0.1,
             "#c51b7d"
            ],
            [
             0.2,
             "#de77ae"
            ],
            [
             0.3,
             "#f1b6da"
            ],
            [
             0.4,
             "#fde0ef"
            ],
            [
             0.5,
             "#f7f7f7"
            ],
            [
             0.6,
             "#e6f5d0"
            ],
            [
             0.7,
             "#b8e186"
            ],
            [
             0.8,
             "#7fbc41"
            ],
            [
             0.9,
             "#4d9221"
            ],
            [
             1,
             "#276419"
            ]
           ],
           "sequential": [
            [
             0,
             "#0d0887"
            ],
            [
             0.1111111111111111,
             "#46039f"
            ],
            [
             0.2222222222222222,
             "#7201a8"
            ],
            [
             0.3333333333333333,
             "#9c179e"
            ],
            [
             0.4444444444444444,
             "#bd3786"
            ],
            [
             0.5555555555555556,
             "#d8576b"
            ],
            [
             0.6666666666666666,
             "#ed7953"
            ],
            [
             0.7777777777777778,
             "#fb9f3a"
            ],
            [
             0.8888888888888888,
             "#fdca26"
            ],
            [
             1,
             "#f0f921"
            ]
           ],
           "sequentialminus": [
            [
             0,
             "#0d0887"
            ],
            [
             0.1111111111111111,
             "#46039f"
            ],
            [
             0.2222222222222222,
             "#7201a8"
            ],
            [
             0.3333333333333333,
             "#9c179e"
            ],
            [
             0.4444444444444444,
             "#bd3786"
            ],
            [
             0.5555555555555556,
             "#d8576b"
            ],
            [
             0.6666666666666666,
             "#ed7953"
            ],
            [
             0.7777777777777778,
             "#fb9f3a"
            ],
            [
             0.8888888888888888,
             "#fdca26"
            ],
            [
             1,
             "#f0f921"
            ]
           ]
          },
          "colorway": [
           "#636efa",
           "#EF553B",
           "#00cc96",
           "#ab63fa",
           "#FFA15A",
           "#19d3f3",
           "#FF6692",
           "#B6E880",
           "#FF97FF",
           "#FECB52"
          ],
          "font": {
           "color": "#2a3f5f"
          },
          "geo": {
           "bgcolor": "white",
           "lakecolor": "white",
           "landcolor": "#E5ECF6",
           "showlakes": true,
           "showland": true,
           "subunitcolor": "white"
          },
          "hoverlabel": {
           "align": "left"
          },
          "hovermode": "closest",
          "mapbox": {
           "style": "light"
          },
          "paper_bgcolor": "white",
          "plot_bgcolor": "#E5ECF6",
          "polar": {
           "angularaxis": {
            "gridcolor": "white",
            "linecolor": "white",
            "ticks": ""
           },
           "bgcolor": "#E5ECF6",
           "radialaxis": {
            "gridcolor": "white",
            "linecolor": "white",
            "ticks": ""
           }
          },
          "scene": {
           "xaxis": {
            "backgroundcolor": "#E5ECF6",
            "gridcolor": "white",
            "gridwidth": 2,
            "linecolor": "white",
            "showbackground": true,
            "ticks": "",
            "zerolinecolor": "white"
           },
           "yaxis": {
            "backgroundcolor": "#E5ECF6",
            "gridcolor": "white",
            "gridwidth": 2,
            "linecolor": "white",
            "showbackground": true,
            "ticks": "",
            "zerolinecolor": "white"
           },
           "zaxis": {
            "backgroundcolor": "#E5ECF6",
            "gridcolor": "white",
            "gridwidth": 2,
            "linecolor": "white",
            "showbackground": true,
            "ticks": "",
            "zerolinecolor": "white"
           }
          },
          "shapedefaults": {
           "line": {
            "color": "#2a3f5f"
           }
          },
          "ternary": {
           "aaxis": {
            "gridcolor": "white",
            "linecolor": "white",
            "ticks": ""
           },
           "baxis": {
            "gridcolor": "white",
            "linecolor": "white",
            "ticks": ""
           },
           "bgcolor": "#E5ECF6",
           "caxis": {
            "gridcolor": "white",
            "linecolor": "white",
            "ticks": ""
           }
          },
          "title": {
           "x": 0.05
          },
          "xaxis": {
           "automargin": true,
           "gridcolor": "white",
           "linecolor": "white",
           "ticks": "",
           "title": {
            "standoff": 15
           },
           "zerolinecolor": "white",
           "zerolinewidth": 2
          },
          "yaxis": {
           "automargin": true,
           "gridcolor": "white",
           "linecolor": "white",
           "ticks": "",
           "title": {
            "standoff": 15
           },
           "zerolinecolor": "white",
           "zerolinewidth": 2
          }
         }
        },
        "title": {
         "font": {
          "color": "black",
          "size": 30
         },
         "text": "Intensity Over Time",
         "x": 0.5
        },
        "xaxis": {
         "color": "black",
         "title": {
          "text": "Frames"
         }
        },
        "yaxis": {
         "color": "black",
         "title": {
          "text": "Amplitude"
         }
        }
       }
      },
      "text/html": [
       "<div>                            <div id=\"53c1063a-b1b1-4aeb-bca7-b645bb4a3f61\" class=\"plotly-graph-div\" style=\"height:525px; width:100%;\"></div>            <script type=\"text/javascript\">                require([\"plotly\"], function(Plotly) {                    window.PLOTLYENV=window.PLOTLYENV || {};                                    if (document.getElementById(\"53c1063a-b1b1-4aeb-bca7-b645bb4a3f61\")) {                    Plotly.newPlot(                        \"53c1063a-b1b1-4aeb-bca7-b645bb4a3f61\",                        [{\"line\":{\"color\":\"red\",\"width\":4},\"name\":\"Channel 3\",\"x\":[1,2,3,4,5,6,7,8,9,10,11,12,13,14,15,16,17,18,19,20,21],\"y\":[247.6217502128279,272.00000000000006,276.33333333333326,245.00000000000003,235.64966805104243,246.00000000000003,212.66666666666276,216.1445761627482,230.00000000000003,248.8643508393661,241.26665607504628,240.449915037594,238.33333333333334,231.00000000000003,227.35695684395603,225.8174907827365,219.2046710272848,224.00000000000003,286.00000000000006,252.97199888493273,226.94618594943563],\"type\":\"scatter\"},{\"line\":{\"color\":\"green\",\"width\":4},\"name\":\"Channel 2\",\"x\":[1,2,3,4,5,6,7,8,9,10,11,12,13,14,15,16,17,18,19,20,21],\"y\":[133.6074074074074,139.42857142857142,135.5936507936508,130.69142857142856,135.93333333333334,135.0095238095238,131.64727272727274,136.0155844155844,138.85925925925926,133.0857142857143,139.7047619047619,137.5142857142857,132.8,134.93142857142857,138.31428571428572,130.92888888888888,133.5822222222222,129.7037037037037,133.82222222222222,131.14603174603175,129.34666666666666],\"type\":\"scatter\"}],                        {\"template\":{\"data\":{\"histogram2dcontour\":[{\"type\":\"histogram2dcontour\",\"colorbar\":{\"outlinewidth\":0,\"ticks\":\"\"},\"colorscale\":[[0.0,\"#0d0887\"],[0.1111111111111111,\"#46039f\"],[0.2222222222222222,\"#7201a8\"],[0.3333333333333333,\"#9c179e\"],[0.4444444444444444,\"#bd3786\"],[0.5555555555555556,\"#d8576b\"],[0.6666666666666666,\"#ed7953\"],[0.7777777777777778,\"#fb9f3a\"],[0.8888888888888888,\"#fdca26\"],[1.0,\"#f0f921\"]]}],\"choropleth\":[{\"type\":\"choropleth\",\"colorbar\":{\"outlinewidth\":0,\"ticks\":\"\"}}],\"histogram2d\":[{\"type\":\"histogram2d\",\"colorbar\":{\"outlinewidth\":0,\"ticks\":\"\"},\"colorscale\":[[0.0,\"#0d0887\"],[0.1111111111111111,\"#46039f\"],[0.2222222222222222,\"#7201a8\"],[0.3333333333333333,\"#9c179e\"],[0.4444444444444444,\"#bd3786\"],[0.5555555555555556,\"#d8576b\"],[0.6666666666666666,\"#ed7953\"],[0.7777777777777778,\"#fb9f3a\"],[0.8888888888888888,\"#fdca26\"],[1.0,\"#f0f921\"]]}],\"heatmap\":[{\"type\":\"heatmap\",\"colorbar\":{\"outlinewidth\":0,\"ticks\":\"\"},\"colorscale\":[[0.0,\"#0d0887\"],[0.1111111111111111,\"#46039f\"],[0.2222222222222222,\"#7201a8\"],[0.3333333333333333,\"#9c179e\"],[0.4444444444444444,\"#bd3786\"],[0.5555555555555556,\"#d8576b\"],[0.6666666666666666,\"#ed7953\"],[0.7777777777777778,\"#fb9f3a\"],[0.8888888888888888,\"#fdca26\"],[1.0,\"#f0f921\"]]}],\"heatmapgl\":[{\"type\":\"heatmapgl\",\"colorbar\":{\"outlinewidth\":0,\"ticks\":\"\"},\"colorscale\":[[0.0,\"#0d0887\"],[0.1111111111111111,\"#46039f\"],[0.2222222222222222,\"#7201a8\"],[0.3333333333333333,\"#9c179e\"],[0.4444444444444444,\"#bd3786\"],[0.5555555555555556,\"#d8576b\"],[0.6666666666666666,\"#ed7953\"],[0.7777777777777778,\"#fb9f3a\"],[0.8888888888888888,\"#fdca26\"],[1.0,\"#f0f921\"]]}],\"contourcarpet\":[{\"type\":\"contourcarpet\",\"colorbar\":{\"outlinewidth\":0,\"ticks\":\"\"}}],\"contour\":[{\"type\":\"contour\",\"colorbar\":{\"outlinewidth\":0,\"ticks\":\"\"},\"colorscale\":[[0.0,\"#0d0887\"],[0.1111111111111111,\"#46039f\"],[0.2222222222222222,\"#7201a8\"],[0.3333333333333333,\"#9c179e\"],[0.4444444444444444,\"#bd3786\"],[0.5555555555555556,\"#d8576b\"],[0.6666666666666666,\"#ed7953\"],[0.7777777777777778,\"#fb9f3a\"],[0.8888888888888888,\"#fdca26\"],[1.0,\"#f0f921\"]]}],\"surface\":[{\"type\":\"surface\",\"colorbar\":{\"outlinewidth\":0,\"ticks\":\"\"},\"colorscale\":[[0.0,\"#0d0887\"],[0.1111111111111111,\"#46039f\"],[0.2222222222222222,\"#7201a8\"],[0.3333333333333333,\"#9c179e\"],[0.4444444444444444,\"#bd3786\"],[0.5555555555555556,\"#d8576b\"],[0.6666666666666666,\"#ed7953\"],[0.7777777777777778,\"#fb9f3a\"],[0.8888888888888888,\"#fdca26\"],[1.0,\"#f0f921\"]]}],\"mesh3d\":[{\"type\":\"mesh3d\",\"colorbar\":{\"outlinewidth\":0,\"ticks\":\"\"}}],\"scatter\":[{\"fillpattern\":{\"fillmode\":\"overlay\",\"size\":10,\"solidity\":0.2},\"type\":\"scatter\"}],\"parcoords\":[{\"type\":\"parcoords\",\"line\":{\"colorbar\":{\"outlinewidth\":0,\"ticks\":\"\"}}}],\"scatterpolargl\":[{\"type\":\"scatterpolargl\",\"marker\":{\"colorbar\":{\"outlinewidth\":0,\"ticks\":\"\"}}}],\"bar\":[{\"error_x\":{\"color\":\"#2a3f5f\"},\"error_y\":{\"color\":\"#2a3f5f\"},\"marker\":{\"line\":{\"color\":\"#E5ECF6\",\"width\":0.5},\"pattern\":{\"fillmode\":\"overlay\",\"size\":10,\"solidity\":0.2}},\"type\":\"bar\"}],\"scattergeo\":[{\"type\":\"scattergeo\",\"marker\":{\"colorbar\":{\"outlinewidth\":0,\"ticks\":\"\"}}}],\"scatterpolar\":[{\"type\":\"scatterpolar\",\"marker\":{\"colorbar\":{\"outlinewidth\":0,\"ticks\":\"\"}}}],\"histogram\":[{\"marker\":{\"pattern\":{\"fillmode\":\"overlay\",\"size\":10,\"solidity\":0.2}},\"type\":\"histogram\"}],\"scattergl\":[{\"type\":\"scattergl\",\"marker\":{\"colorbar\":{\"outlinewidth\":0,\"ticks\":\"\"}}}],\"scatter3d\":[{\"type\":\"scatter3d\",\"line\":{\"colorbar\":{\"outlinewidth\":0,\"ticks\":\"\"}},\"marker\":{\"colorbar\":{\"outlinewidth\":0,\"ticks\":\"\"}}}],\"scattermapbox\":[{\"type\":\"scattermapbox\",\"marker\":{\"colorbar\":{\"outlinewidth\":0,\"ticks\":\"\"}}}],\"scatterternary\":[{\"type\":\"scatterternary\",\"marker\":{\"colorbar\":{\"outlinewidth\":0,\"ticks\":\"\"}}}],\"scattercarpet\":[{\"type\":\"scattercarpet\",\"marker\":{\"colorbar\":{\"outlinewidth\":0,\"ticks\":\"\"}}}],\"carpet\":[{\"aaxis\":{\"endlinecolor\":\"#2a3f5f\",\"gridcolor\":\"white\",\"linecolor\":\"white\",\"minorgridcolor\":\"white\",\"startlinecolor\":\"#2a3f5f\"},\"baxis\":{\"endlinecolor\":\"#2a3f5f\",\"gridcolor\":\"white\",\"linecolor\":\"white\",\"minorgridcolor\":\"white\",\"startlinecolor\":\"#2a3f5f\"},\"type\":\"carpet\"}],\"table\":[{\"cells\":{\"fill\":{\"color\":\"#EBF0F8\"},\"line\":{\"color\":\"white\"}},\"header\":{\"fill\":{\"color\":\"#C8D4E3\"},\"line\":{\"color\":\"white\"}},\"type\":\"table\"}],\"barpolar\":[{\"marker\":{\"line\":{\"color\":\"#E5ECF6\",\"width\":0.5},\"pattern\":{\"fillmode\":\"overlay\",\"size\":10,\"solidity\":0.2}},\"type\":\"barpolar\"}],\"pie\":[{\"automargin\":true,\"type\":\"pie\"}]},\"layout\":{\"autotypenumbers\":\"strict\",\"colorway\":[\"#636efa\",\"#EF553B\",\"#00cc96\",\"#ab63fa\",\"#FFA15A\",\"#19d3f3\",\"#FF6692\",\"#B6E880\",\"#FF97FF\",\"#FECB52\"],\"font\":{\"color\":\"#2a3f5f\"},\"hovermode\":\"closest\",\"hoverlabel\":{\"align\":\"left\"},\"paper_bgcolor\":\"white\",\"plot_bgcolor\":\"#E5ECF6\",\"polar\":{\"bgcolor\":\"#E5ECF6\",\"angularaxis\":{\"gridcolor\":\"white\",\"linecolor\":\"white\",\"ticks\":\"\"},\"radialaxis\":{\"gridcolor\":\"white\",\"linecolor\":\"white\",\"ticks\":\"\"}},\"ternary\":{\"bgcolor\":\"#E5ECF6\",\"aaxis\":{\"gridcolor\":\"white\",\"linecolor\":\"white\",\"ticks\":\"\"},\"baxis\":{\"gridcolor\":\"white\",\"linecolor\":\"white\",\"ticks\":\"\"},\"caxis\":{\"gridcolor\":\"white\",\"linecolor\":\"white\",\"ticks\":\"\"}},\"coloraxis\":{\"colorbar\":{\"outlinewidth\":0,\"ticks\":\"\"}},\"colorscale\":{\"sequential\":[[0.0,\"#0d0887\"],[0.1111111111111111,\"#46039f\"],[0.2222222222222222,\"#7201a8\"],[0.3333333333333333,\"#9c179e\"],[0.4444444444444444,\"#bd3786\"],[0.5555555555555556,\"#d8576b\"],[0.6666666666666666,\"#ed7953\"],[0.7777777777777778,\"#fb9f3a\"],[0.8888888888888888,\"#fdca26\"],[1.0,\"#f0f921\"]],\"sequentialminus\":[[0.0,\"#0d0887\"],[0.1111111111111111,\"#46039f\"],[0.2222222222222222,\"#7201a8\"],[0.3333333333333333,\"#9c179e\"],[0.4444444444444444,\"#bd3786\"],[0.5555555555555556,\"#d8576b\"],[0.6666666666666666,\"#ed7953\"],[0.7777777777777778,\"#fb9f3a\"],[0.8888888888888888,\"#fdca26\"],[1.0,\"#f0f921\"]],\"diverging\":[[0,\"#8e0152\"],[0.1,\"#c51b7d\"],[0.2,\"#de77ae\"],[0.3,\"#f1b6da\"],[0.4,\"#fde0ef\"],[0.5,\"#f7f7f7\"],[0.6,\"#e6f5d0\"],[0.7,\"#b8e186\"],[0.8,\"#7fbc41\"],[0.9,\"#4d9221\"],[1,\"#276419\"]]},\"xaxis\":{\"gridcolor\":\"white\",\"linecolor\":\"white\",\"ticks\":\"\",\"title\":{\"standoff\":15},\"zerolinecolor\":\"white\",\"automargin\":true,\"zerolinewidth\":2},\"yaxis\":{\"gridcolor\":\"white\",\"linecolor\":\"white\",\"ticks\":\"\",\"title\":{\"standoff\":15},\"zerolinecolor\":\"white\",\"automargin\":true,\"zerolinewidth\":2},\"scene\":{\"xaxis\":{\"backgroundcolor\":\"#E5ECF6\",\"gridcolor\":\"white\",\"linecolor\":\"white\",\"showbackground\":true,\"ticks\":\"\",\"zerolinecolor\":\"white\",\"gridwidth\":2},\"yaxis\":{\"backgroundcolor\":\"#E5ECF6\",\"gridcolor\":\"white\",\"linecolor\":\"white\",\"showbackground\":true,\"ticks\":\"\",\"zerolinecolor\":\"white\",\"gridwidth\":2},\"zaxis\":{\"backgroundcolor\":\"#E5ECF6\",\"gridcolor\":\"white\",\"linecolor\":\"white\",\"showbackground\":true,\"ticks\":\"\",\"zerolinecolor\":\"white\",\"gridwidth\":2}},\"shapedefaults\":{\"line\":{\"color\":\"#2a3f5f\"}},\"annotationdefaults\":{\"arrowcolor\":\"#2a3f5f\",\"arrowhead\":0,\"arrowwidth\":1},\"geo\":{\"bgcolor\":\"white\",\"landcolor\":\"#E5ECF6\",\"subunitcolor\":\"white\",\"showland\":true,\"showlakes\":true,\"lakecolor\":\"white\"},\"title\":{\"x\":0.05},\"mapbox\":{\"style\":\"light\"}}},\"title\":{\"text\":\"Intensity Over Time\",\"x\":0.5,\"font\":{\"color\":\"black\",\"size\":30}},\"xaxis\":{\"title\":{\"text\":\"Frames\"},\"color\":\"black\"},\"yaxis\":{\"title\":{\"text\":\"Amplitude\"},\"color\":\"black\"},\"autosize\":true},                        {\"responsive\": true}                    ).then(function(){\n",
       "                            \n",
       "var gd = document.getElementById('53c1063a-b1b1-4aeb-bca7-b645bb4a3f61');\n",
       "var x = new MutationObserver(function (mutations, observer) {{\n",
       "        var display = window.getComputedStyle(gd).display;\n",
       "        if (!display || display === 'none') {{\n",
       "            console.log([gd, 'removed!']);\n",
       "            Plotly.purge(gd);\n",
       "            observer.disconnect();\n",
       "        }}\n",
       "}});\n",
       "\n",
       "// Listen for the removal of the full notebook cells\n",
       "var notebookContainer = gd.closest('#notebook-container');\n",
       "if (notebookContainer) {{\n",
       "    x.observe(notebookContainer, {childList: true});\n",
       "}}\n",
       "\n",
       "// Listen for the clearing of the current output cell\n",
       "var outputEl = gd.closest('.output');\n",
       "if (outputEl) {{\n",
       "    x.observe(outputEl, {childList: true});\n",
       "}}\n",
       "\n",
       "                        })                };                });            </script>        </div>"
      ]
     },
     "metadata": {},
     "output_type": "display_data"
    }
   ],
   "source": [
    "import plotly.graph_objects as go\n",
    "current_track = track_df[track_df['track_id'] == 516]\n",
    "# Create Line plot\n",
    "fig = go.Figure()\n",
    "\n",
    "fig.add_trace(go.Scatter(x=current_track['frame'], y=current_track['amplitude'], name = 'Channel 3',\n",
    "             line = dict(color = 'red', width = 4)))\n",
    "fig.add_trace(go.Scatter(x=current_track['frame'], y=current_track['c2_amp'],name = 'Channel 2', \n",
    "                        line=dict(color='green', width = 4)))\n",
    "\n",
    "# Edit the layout\n",
    "fig.update_layout(title='Intensity Over Time', title_x = 0.5,\n",
    "                   xaxis_title='Frames',  xaxis_color = 'black', title_font = dict(color = 'black', size = 30),\n",
    "                   yaxis_title='Amplitude', yaxis_color = 'black', legend=dict(bgcolor=None),autosize = True, plot_bgcolor = None,\n",
    "                 paper_bgcolor = None)\n",
    "\n",
    "\n",
    "fig.show()"
   ]
  },
  {
   "cell_type": "code",
   "execution_count": 93,
   "id": "01dc8938",
   "metadata": {},
   "outputs": [],
   "source": [
    "def plot_intensity_over_time(track_of_interest, main_tracking_df):\n",
    "    current_track_df = main_tracking_df[main_tracking_df['track_id'] == track_of_interest]\n",
    "    # Create Line plot\n",
    "    fig = go.Figure()\n",
    "\n",
    "    fig.add_trace(go.Scatter(x=current_track_df['frame'], y=current_track_df['amplitude'], name = 'Channel 3',\n",
    "                 line = dict(color = 'red', width = 4)))\n",
    "    fig.add_trace(go.Scatter(x=current_track_df['frame'], y=current_track_df['c2_amp'],name = 'Channel 2', \n",
    "                            line=dict(color='green', width = 4)))\n",
    "\n",
    "    # Edit the layout\n",
    "    fig.update_layout(title='Intensity Over Time', title_x = 0.5,\n",
    "                       xaxis_title='Frames',  xaxis_color = 'black', title_font = dict(color = 'black', size = 30),\n",
    "                       yaxis_title='Amplitude', yaxis_color = 'black', legend=dict(bgcolor=None),autosize = True, plot_bgcolor = None,\n",
    "                     paper_bgcolor = None)\n",
    "\n",
    "\n",
    "    return fig "
   ]
  },
  {
   "cell_type": "code",
   "execution_count": 94,
   "id": "92a7251f",
   "metadata": {},
   "outputs": [
    {
     "data": {
      "application/vnd.plotly.v1+json": {
       "config": {
        "plotlyServerURL": "https://plot.ly"
       },
       "data": [
        {
         "line": {
          "color": "red",
          "width": 4
         },
         "name": "Channel 3",
         "type": "scatter",
         "x": [
          0,
          1,
          2,
          3,
          4,
          5,
          6,
          7,
          8,
          9,
          10,
          11,
          12,
          13,
          14,
          15,
          16,
          17,
          18,
          19,
          20
         ],
         "y": [
          220.45125560756438,
          236.66666666666666,
          222.31894270159594,
          220.15173304867002,
          248.5038892458057,
          238.33333333333334,
          217.86462370157656,
          215.80183900258328,
          223.91055958944287,
          260.0911621132771,
          280.3333333333333,
          244.33333333333368,
          275.3333333333333,
          269.36777964823915,
          260.3333333333333,
          277.53015857372554,
          272.3333333333333,
          300.33333333333377,
          271.3333333333333,
          272.3333333333246,
          233.89457672921642
         ]
        },
        {
         "line": {
          "color": "green",
          "width": 4
         },
         "name": "Channel 2",
         "type": "scatter",
         "x": [
          0,
          1,
          2,
          3,
          4,
          5,
          6,
          7,
          8,
          9,
          10,
          11,
          12,
          13,
          14,
          15,
          16,
          17,
          18,
          19,
          20
         ],
         "y": [
          141.66666666666666,
          131.76666666666668,
          124.82857142857142,
          134.28571428571428,
          121.8,
          120.48,
          120.94444444444444,
          127.37142857142857,
          127.05714285714286,
          124.33333333333333,
          129.73333333333332,
          135.45714285714286,
          124.85714285714286,
          141.38888888888889,
          148.56,
          196.1904761904762,
          175.9047619047619,
          159.13333333333333,
          156.26666666666668,
          177.33333333333334,
          183.16666666666666
         ]
        }
       ],
       "layout": {
        "autosize": true,
        "template": {
         "data": {
          "bar": [
           {
            "error_x": {
             "color": "#2a3f5f"
            },
            "error_y": {
             "color": "#2a3f5f"
            },
            "marker": {
             "line": {
              "color": "#E5ECF6",
              "width": 0.5
             },
             "pattern": {
              "fillmode": "overlay",
              "size": 10,
              "solidity": 0.2
             }
            },
            "type": "bar"
           }
          ],
          "barpolar": [
           {
            "marker": {
             "line": {
              "color": "#E5ECF6",
              "width": 0.5
             },
             "pattern": {
              "fillmode": "overlay",
              "size": 10,
              "solidity": 0.2
             }
            },
            "type": "barpolar"
           }
          ],
          "carpet": [
           {
            "aaxis": {
             "endlinecolor": "#2a3f5f",
             "gridcolor": "white",
             "linecolor": "white",
             "minorgridcolor": "white",
             "startlinecolor": "#2a3f5f"
            },
            "baxis": {
             "endlinecolor": "#2a3f5f",
             "gridcolor": "white",
             "linecolor": "white",
             "minorgridcolor": "white",
             "startlinecolor": "#2a3f5f"
            },
            "type": "carpet"
           }
          ],
          "choropleth": [
           {
            "colorbar": {
             "outlinewidth": 0,
             "ticks": ""
            },
            "type": "choropleth"
           }
          ],
          "contour": [
           {
            "colorbar": {
             "outlinewidth": 0,
             "ticks": ""
            },
            "colorscale": [
             [
              0,
              "#0d0887"
             ],
             [
              0.1111111111111111,
              "#46039f"
             ],
             [
              0.2222222222222222,
              "#7201a8"
             ],
             [
              0.3333333333333333,
              "#9c179e"
             ],
             [
              0.4444444444444444,
              "#bd3786"
             ],
             [
              0.5555555555555556,
              "#d8576b"
             ],
             [
              0.6666666666666666,
              "#ed7953"
             ],
             [
              0.7777777777777778,
              "#fb9f3a"
             ],
             [
              0.8888888888888888,
              "#fdca26"
             ],
             [
              1,
              "#f0f921"
             ]
            ],
            "type": "contour"
           }
          ],
          "contourcarpet": [
           {
            "colorbar": {
             "outlinewidth": 0,
             "ticks": ""
            },
            "type": "contourcarpet"
           }
          ],
          "heatmap": [
           {
            "colorbar": {
             "outlinewidth": 0,
             "ticks": ""
            },
            "colorscale": [
             [
              0,
              "#0d0887"
             ],
             [
              0.1111111111111111,
              "#46039f"
             ],
             [
              0.2222222222222222,
              "#7201a8"
             ],
             [
              0.3333333333333333,
              "#9c179e"
             ],
             [
              0.4444444444444444,
              "#bd3786"
             ],
             [
              0.5555555555555556,
              "#d8576b"
             ],
             [
              0.6666666666666666,
              "#ed7953"
             ],
             [
              0.7777777777777778,
              "#fb9f3a"
             ],
             [
              0.8888888888888888,
              "#fdca26"
             ],
             [
              1,
              "#f0f921"
             ]
            ],
            "type": "heatmap"
           }
          ],
          "heatmapgl": [
           {
            "colorbar": {
             "outlinewidth": 0,
             "ticks": ""
            },
            "colorscale": [
             [
              0,
              "#0d0887"
             ],
             [
              0.1111111111111111,
              "#46039f"
             ],
             [
              0.2222222222222222,
              "#7201a8"
             ],
             [
              0.3333333333333333,
              "#9c179e"
             ],
             [
              0.4444444444444444,
              "#bd3786"
             ],
             [
              0.5555555555555556,
              "#d8576b"
             ],
             [
              0.6666666666666666,
              "#ed7953"
             ],
             [
              0.7777777777777778,
              "#fb9f3a"
             ],
             [
              0.8888888888888888,
              "#fdca26"
             ],
             [
              1,
              "#f0f921"
             ]
            ],
            "type": "heatmapgl"
           }
          ],
          "histogram": [
           {
            "marker": {
             "pattern": {
              "fillmode": "overlay",
              "size": 10,
              "solidity": 0.2
             }
            },
            "type": "histogram"
           }
          ],
          "histogram2d": [
           {
            "colorbar": {
             "outlinewidth": 0,
             "ticks": ""
            },
            "colorscale": [
             [
              0,
              "#0d0887"
             ],
             [
              0.1111111111111111,
              "#46039f"
             ],
             [
              0.2222222222222222,
              "#7201a8"
             ],
             [
              0.3333333333333333,
              "#9c179e"
             ],
             [
              0.4444444444444444,
              "#bd3786"
             ],
             [
              0.5555555555555556,
              "#d8576b"
             ],
             [
              0.6666666666666666,
              "#ed7953"
             ],
             [
              0.7777777777777778,
              "#fb9f3a"
             ],
             [
              0.8888888888888888,
              "#fdca26"
             ],
             [
              1,
              "#f0f921"
             ]
            ],
            "type": "histogram2d"
           }
          ],
          "histogram2dcontour": [
           {
            "colorbar": {
             "outlinewidth": 0,
             "ticks": ""
            },
            "colorscale": [
             [
              0,
              "#0d0887"
             ],
             [
              0.1111111111111111,
              "#46039f"
             ],
             [
              0.2222222222222222,
              "#7201a8"
             ],
             [
              0.3333333333333333,
              "#9c179e"
             ],
             [
              0.4444444444444444,
              "#bd3786"
             ],
             [
              0.5555555555555556,
              "#d8576b"
             ],
             [
              0.6666666666666666,
              "#ed7953"
             ],
             [
              0.7777777777777778,
              "#fb9f3a"
             ],
             [
              0.8888888888888888,
              "#fdca26"
             ],
             [
              1,
              "#f0f921"
             ]
            ],
            "type": "histogram2dcontour"
           }
          ],
          "mesh3d": [
           {
            "colorbar": {
             "outlinewidth": 0,
             "ticks": ""
            },
            "type": "mesh3d"
           }
          ],
          "parcoords": [
           {
            "line": {
             "colorbar": {
              "outlinewidth": 0,
              "ticks": ""
             }
            },
            "type": "parcoords"
           }
          ],
          "pie": [
           {
            "automargin": true,
            "type": "pie"
           }
          ],
          "scatter": [
           {
            "fillpattern": {
             "fillmode": "overlay",
             "size": 10,
             "solidity": 0.2
            },
            "type": "scatter"
           }
          ],
          "scatter3d": [
           {
            "line": {
             "colorbar": {
              "outlinewidth": 0,
              "ticks": ""
             }
            },
            "marker": {
             "colorbar": {
              "outlinewidth": 0,
              "ticks": ""
             }
            },
            "type": "scatter3d"
           }
          ],
          "scattercarpet": [
           {
            "marker": {
             "colorbar": {
              "outlinewidth": 0,
              "ticks": ""
             }
            },
            "type": "scattercarpet"
           }
          ],
          "scattergeo": [
           {
            "marker": {
             "colorbar": {
              "outlinewidth": 0,
              "ticks": ""
             }
            },
            "type": "scattergeo"
           }
          ],
          "scattergl": [
           {
            "marker": {
             "colorbar": {
              "outlinewidth": 0,
              "ticks": ""
             }
            },
            "type": "scattergl"
           }
          ],
          "scattermapbox": [
           {
            "marker": {
             "colorbar": {
              "outlinewidth": 0,
              "ticks": ""
             }
            },
            "type": "scattermapbox"
           }
          ],
          "scatterpolar": [
           {
            "marker": {
             "colorbar": {
              "outlinewidth": 0,
              "ticks": ""
             }
            },
            "type": "scatterpolar"
           }
          ],
          "scatterpolargl": [
           {
            "marker": {
             "colorbar": {
              "outlinewidth": 0,
              "ticks": ""
             }
            },
            "type": "scatterpolargl"
           }
          ],
          "scatterternary": [
           {
            "marker": {
             "colorbar": {
              "outlinewidth": 0,
              "ticks": ""
             }
            },
            "type": "scatterternary"
           }
          ],
          "surface": [
           {
            "colorbar": {
             "outlinewidth": 0,
             "ticks": ""
            },
            "colorscale": [
             [
              0,
              "#0d0887"
             ],
             [
              0.1111111111111111,
              "#46039f"
             ],
             [
              0.2222222222222222,
              "#7201a8"
             ],
             [
              0.3333333333333333,
              "#9c179e"
             ],
             [
              0.4444444444444444,
              "#bd3786"
             ],
             [
              0.5555555555555556,
              "#d8576b"
             ],
             [
              0.6666666666666666,
              "#ed7953"
             ],
             [
              0.7777777777777778,
              "#fb9f3a"
             ],
             [
              0.8888888888888888,
              "#fdca26"
             ],
             [
              1,
              "#f0f921"
             ]
            ],
            "type": "surface"
           }
          ],
          "table": [
           {
            "cells": {
             "fill": {
              "color": "#EBF0F8"
             },
             "line": {
              "color": "white"
             }
            },
            "header": {
             "fill": {
              "color": "#C8D4E3"
             },
             "line": {
              "color": "white"
             }
            },
            "type": "table"
           }
          ]
         },
         "layout": {
          "annotationdefaults": {
           "arrowcolor": "#2a3f5f",
           "arrowhead": 0,
           "arrowwidth": 1
          },
          "autotypenumbers": "strict",
          "coloraxis": {
           "colorbar": {
            "outlinewidth": 0,
            "ticks": ""
           }
          },
          "colorscale": {
           "diverging": [
            [
             0,
             "#8e0152"
            ],
            [
             0.1,
             "#c51b7d"
            ],
            [
             0.2,
             "#de77ae"
            ],
            [
             0.3,
             "#f1b6da"
            ],
            [
             0.4,
             "#fde0ef"
            ],
            [
             0.5,
             "#f7f7f7"
            ],
            [
             0.6,
             "#e6f5d0"
            ],
            [
             0.7,
             "#b8e186"
            ],
            [
             0.8,
             "#7fbc41"
            ],
            [
             0.9,
             "#4d9221"
            ],
            [
             1,
             "#276419"
            ]
           ],
           "sequential": [
            [
             0,
             "#0d0887"
            ],
            [
             0.1111111111111111,
             "#46039f"
            ],
            [
             0.2222222222222222,
             "#7201a8"
            ],
            [
             0.3333333333333333,
             "#9c179e"
            ],
            [
             0.4444444444444444,
             "#bd3786"
            ],
            [
             0.5555555555555556,
             "#d8576b"
            ],
            [
             0.6666666666666666,
             "#ed7953"
            ],
            [
             0.7777777777777778,
             "#fb9f3a"
            ],
            [
             0.8888888888888888,
             "#fdca26"
            ],
            [
             1,
             "#f0f921"
            ]
           ],
           "sequentialminus": [
            [
             0,
             "#0d0887"
            ],
            [
             0.1111111111111111,
             "#46039f"
            ],
            [
             0.2222222222222222,
             "#7201a8"
            ],
            [
             0.3333333333333333,
             "#9c179e"
            ],
            [
             0.4444444444444444,
             "#bd3786"
            ],
            [
             0.5555555555555556,
             "#d8576b"
            ],
            [
             0.6666666666666666,
             "#ed7953"
            ],
            [
             0.7777777777777778,
             "#fb9f3a"
            ],
            [
             0.8888888888888888,
             "#fdca26"
            ],
            [
             1,
             "#f0f921"
            ]
           ]
          },
          "colorway": [
           "#636efa",
           "#EF553B",
           "#00cc96",
           "#ab63fa",
           "#FFA15A",
           "#19d3f3",
           "#FF6692",
           "#B6E880",
           "#FF97FF",
           "#FECB52"
          ],
          "font": {
           "color": "#2a3f5f"
          },
          "geo": {
           "bgcolor": "white",
           "lakecolor": "white",
           "landcolor": "#E5ECF6",
           "showlakes": true,
           "showland": true,
           "subunitcolor": "white"
          },
          "hoverlabel": {
           "align": "left"
          },
          "hovermode": "closest",
          "mapbox": {
           "style": "light"
          },
          "paper_bgcolor": "white",
          "plot_bgcolor": "#E5ECF6",
          "polar": {
           "angularaxis": {
            "gridcolor": "white",
            "linecolor": "white",
            "ticks": ""
           },
           "bgcolor": "#E5ECF6",
           "radialaxis": {
            "gridcolor": "white",
            "linecolor": "white",
            "ticks": ""
           }
          },
          "scene": {
           "xaxis": {
            "backgroundcolor": "#E5ECF6",
            "gridcolor": "white",
            "gridwidth": 2,
            "linecolor": "white",
            "showbackground": true,
            "ticks": "",
            "zerolinecolor": "white"
           },
           "yaxis": {
            "backgroundcolor": "#E5ECF6",
            "gridcolor": "white",
            "gridwidth": 2,
            "linecolor": "white",
            "showbackground": true,
            "ticks": "",
            "zerolinecolor": "white"
           },
           "zaxis": {
            "backgroundcolor": "#E5ECF6",
            "gridcolor": "white",
            "gridwidth": 2,
            "linecolor": "white",
            "showbackground": true,
            "ticks": "",
            "zerolinecolor": "white"
           }
          },
          "shapedefaults": {
           "line": {
            "color": "#2a3f5f"
           }
          },
          "ternary": {
           "aaxis": {
            "gridcolor": "white",
            "linecolor": "white",
            "ticks": ""
           },
           "baxis": {
            "gridcolor": "white",
            "linecolor": "white",
            "ticks": ""
           },
           "bgcolor": "#E5ECF6",
           "caxis": {
            "gridcolor": "white",
            "linecolor": "white",
            "ticks": ""
           }
          },
          "title": {
           "x": 0.05
          },
          "xaxis": {
           "automargin": true,
           "gridcolor": "white",
           "linecolor": "white",
           "ticks": "",
           "title": {
            "standoff": 15
           },
           "zerolinecolor": "white",
           "zerolinewidth": 2
          },
          "yaxis": {
           "automargin": true,
           "gridcolor": "white",
           "linecolor": "white",
           "ticks": "",
           "title": {
            "standoff": 15
           },
           "zerolinecolor": "white",
           "zerolinewidth": 2
          }
         }
        },
        "title": {
         "font": {
          "color": "black",
          "size": 30
         },
         "text": "Intensity Over Time",
         "x": 0.5
        },
        "xaxis": {
         "color": "black",
         "title": {
          "text": "Frames"
         }
        },
        "yaxis": {
         "color": "black",
         "title": {
          "text": "Amplitude"
         }
        }
       }
      },
      "text/html": [
       "<div>                            <div id=\"05d4bbbf-add2-454b-aa73-95527e8e0bb1\" class=\"plotly-graph-div\" style=\"height:525px; width:100%;\"></div>            <script type=\"text/javascript\">                require([\"plotly\"], function(Plotly) {                    window.PLOTLYENV=window.PLOTLYENV || {};                                    if (document.getElementById(\"05d4bbbf-add2-454b-aa73-95527e8e0bb1\")) {                    Plotly.newPlot(                        \"05d4bbbf-add2-454b-aa73-95527e8e0bb1\",                        [{\"line\":{\"color\":\"red\",\"width\":4},\"name\":\"Channel 3\",\"x\":[0,1,2,3,4,5,6,7,8,9,10,11,12,13,14,15,16,17,18,19,20],\"y\":[220.45125560756438,236.66666666666666,222.31894270159594,220.15173304867002,248.5038892458057,238.33333333333334,217.86462370157656,215.80183900258328,223.91055958944287,260.0911621132771,280.3333333333333,244.33333333333368,275.3333333333333,269.36777964823915,260.3333333333333,277.53015857372554,272.3333333333333,300.33333333333377,271.3333333333333,272.3333333333246,233.89457672921642],\"type\":\"scatter\"},{\"line\":{\"color\":\"green\",\"width\":4},\"name\":\"Channel 2\",\"x\":[0,1,2,3,4,5,6,7,8,9,10,11,12,13,14,15,16,17,18,19,20],\"y\":[141.66666666666666,131.76666666666668,124.82857142857142,134.28571428571428,121.8,120.48,120.94444444444444,127.37142857142857,127.05714285714286,124.33333333333333,129.73333333333332,135.45714285714286,124.85714285714286,141.38888888888889,148.56,196.1904761904762,175.9047619047619,159.13333333333333,156.26666666666668,177.33333333333334,183.16666666666666],\"type\":\"scatter\"}],                        {\"template\":{\"data\":{\"histogram2dcontour\":[{\"type\":\"histogram2dcontour\",\"colorbar\":{\"outlinewidth\":0,\"ticks\":\"\"},\"colorscale\":[[0.0,\"#0d0887\"],[0.1111111111111111,\"#46039f\"],[0.2222222222222222,\"#7201a8\"],[0.3333333333333333,\"#9c179e\"],[0.4444444444444444,\"#bd3786\"],[0.5555555555555556,\"#d8576b\"],[0.6666666666666666,\"#ed7953\"],[0.7777777777777778,\"#fb9f3a\"],[0.8888888888888888,\"#fdca26\"],[1.0,\"#f0f921\"]]}],\"choropleth\":[{\"type\":\"choropleth\",\"colorbar\":{\"outlinewidth\":0,\"ticks\":\"\"}}],\"histogram2d\":[{\"type\":\"histogram2d\",\"colorbar\":{\"outlinewidth\":0,\"ticks\":\"\"},\"colorscale\":[[0.0,\"#0d0887\"],[0.1111111111111111,\"#46039f\"],[0.2222222222222222,\"#7201a8\"],[0.3333333333333333,\"#9c179e\"],[0.4444444444444444,\"#bd3786\"],[0.5555555555555556,\"#d8576b\"],[0.6666666666666666,\"#ed7953\"],[0.7777777777777778,\"#fb9f3a\"],[0.8888888888888888,\"#fdca26\"],[1.0,\"#f0f921\"]]}],\"heatmap\":[{\"type\":\"heatmap\",\"colorbar\":{\"outlinewidth\":0,\"ticks\":\"\"},\"colorscale\":[[0.0,\"#0d0887\"],[0.1111111111111111,\"#46039f\"],[0.2222222222222222,\"#7201a8\"],[0.3333333333333333,\"#9c179e\"],[0.4444444444444444,\"#bd3786\"],[0.5555555555555556,\"#d8576b\"],[0.6666666666666666,\"#ed7953\"],[0.7777777777777778,\"#fb9f3a\"],[0.8888888888888888,\"#fdca26\"],[1.0,\"#f0f921\"]]}],\"heatmapgl\":[{\"type\":\"heatmapgl\",\"colorbar\":{\"outlinewidth\":0,\"ticks\":\"\"},\"colorscale\":[[0.0,\"#0d0887\"],[0.1111111111111111,\"#46039f\"],[0.2222222222222222,\"#7201a8\"],[0.3333333333333333,\"#9c179e\"],[0.4444444444444444,\"#bd3786\"],[0.5555555555555556,\"#d8576b\"],[0.6666666666666666,\"#ed7953\"],[0.7777777777777778,\"#fb9f3a\"],[0.8888888888888888,\"#fdca26\"],[1.0,\"#f0f921\"]]}],\"contourcarpet\":[{\"type\":\"contourcarpet\",\"colorbar\":{\"outlinewidth\":0,\"ticks\":\"\"}}],\"contour\":[{\"type\":\"contour\",\"colorbar\":{\"outlinewidth\":0,\"ticks\":\"\"},\"colorscale\":[[0.0,\"#0d0887\"],[0.1111111111111111,\"#46039f\"],[0.2222222222222222,\"#7201a8\"],[0.3333333333333333,\"#9c179e\"],[0.4444444444444444,\"#bd3786\"],[0.5555555555555556,\"#d8576b\"],[0.6666666666666666,\"#ed7953\"],[0.7777777777777778,\"#fb9f3a\"],[0.8888888888888888,\"#fdca26\"],[1.0,\"#f0f921\"]]}],\"surface\":[{\"type\":\"surface\",\"colorbar\":{\"outlinewidth\":0,\"ticks\":\"\"},\"colorscale\":[[0.0,\"#0d0887\"],[0.1111111111111111,\"#46039f\"],[0.2222222222222222,\"#7201a8\"],[0.3333333333333333,\"#9c179e\"],[0.4444444444444444,\"#bd3786\"],[0.5555555555555556,\"#d8576b\"],[0.6666666666666666,\"#ed7953\"],[0.7777777777777778,\"#fb9f3a\"],[0.8888888888888888,\"#fdca26\"],[1.0,\"#f0f921\"]]}],\"mesh3d\":[{\"type\":\"mesh3d\",\"colorbar\":{\"outlinewidth\":0,\"ticks\":\"\"}}],\"scatter\":[{\"fillpattern\":{\"fillmode\":\"overlay\",\"size\":10,\"solidity\":0.2},\"type\":\"scatter\"}],\"parcoords\":[{\"type\":\"parcoords\",\"line\":{\"colorbar\":{\"outlinewidth\":0,\"ticks\":\"\"}}}],\"scatterpolargl\":[{\"type\":\"scatterpolargl\",\"marker\":{\"colorbar\":{\"outlinewidth\":0,\"ticks\":\"\"}}}],\"bar\":[{\"error_x\":{\"color\":\"#2a3f5f\"},\"error_y\":{\"color\":\"#2a3f5f\"},\"marker\":{\"line\":{\"color\":\"#E5ECF6\",\"width\":0.5},\"pattern\":{\"fillmode\":\"overlay\",\"size\":10,\"solidity\":0.2}},\"type\":\"bar\"}],\"scattergeo\":[{\"type\":\"scattergeo\",\"marker\":{\"colorbar\":{\"outlinewidth\":0,\"ticks\":\"\"}}}],\"scatterpolar\":[{\"type\":\"scatterpolar\",\"marker\":{\"colorbar\":{\"outlinewidth\":0,\"ticks\":\"\"}}}],\"histogram\":[{\"marker\":{\"pattern\":{\"fillmode\":\"overlay\",\"size\":10,\"solidity\":0.2}},\"type\":\"histogram\"}],\"scattergl\":[{\"type\":\"scattergl\",\"marker\":{\"colorbar\":{\"outlinewidth\":0,\"ticks\":\"\"}}}],\"scatter3d\":[{\"type\":\"scatter3d\",\"line\":{\"colorbar\":{\"outlinewidth\":0,\"ticks\":\"\"}},\"marker\":{\"colorbar\":{\"outlinewidth\":0,\"ticks\":\"\"}}}],\"scattermapbox\":[{\"type\":\"scattermapbox\",\"marker\":{\"colorbar\":{\"outlinewidth\":0,\"ticks\":\"\"}}}],\"scatterternary\":[{\"type\":\"scatterternary\",\"marker\":{\"colorbar\":{\"outlinewidth\":0,\"ticks\":\"\"}}}],\"scattercarpet\":[{\"type\":\"scattercarpet\",\"marker\":{\"colorbar\":{\"outlinewidth\":0,\"ticks\":\"\"}}}],\"carpet\":[{\"aaxis\":{\"endlinecolor\":\"#2a3f5f\",\"gridcolor\":\"white\",\"linecolor\":\"white\",\"minorgridcolor\":\"white\",\"startlinecolor\":\"#2a3f5f\"},\"baxis\":{\"endlinecolor\":\"#2a3f5f\",\"gridcolor\":\"white\",\"linecolor\":\"white\",\"minorgridcolor\":\"white\",\"startlinecolor\":\"#2a3f5f\"},\"type\":\"carpet\"}],\"table\":[{\"cells\":{\"fill\":{\"color\":\"#EBF0F8\"},\"line\":{\"color\":\"white\"}},\"header\":{\"fill\":{\"color\":\"#C8D4E3\"},\"line\":{\"color\":\"white\"}},\"type\":\"table\"}],\"barpolar\":[{\"marker\":{\"line\":{\"color\":\"#E5ECF6\",\"width\":0.5},\"pattern\":{\"fillmode\":\"overlay\",\"size\":10,\"solidity\":0.2}},\"type\":\"barpolar\"}],\"pie\":[{\"automargin\":true,\"type\":\"pie\"}]},\"layout\":{\"autotypenumbers\":\"strict\",\"colorway\":[\"#636efa\",\"#EF553B\",\"#00cc96\",\"#ab63fa\",\"#FFA15A\",\"#19d3f3\",\"#FF6692\",\"#B6E880\",\"#FF97FF\",\"#FECB52\"],\"font\":{\"color\":\"#2a3f5f\"},\"hovermode\":\"closest\",\"hoverlabel\":{\"align\":\"left\"},\"paper_bgcolor\":\"white\",\"plot_bgcolor\":\"#E5ECF6\",\"polar\":{\"bgcolor\":\"#E5ECF6\",\"angularaxis\":{\"gridcolor\":\"white\",\"linecolor\":\"white\",\"ticks\":\"\"},\"radialaxis\":{\"gridcolor\":\"white\",\"linecolor\":\"white\",\"ticks\":\"\"}},\"ternary\":{\"bgcolor\":\"#E5ECF6\",\"aaxis\":{\"gridcolor\":\"white\",\"linecolor\":\"white\",\"ticks\":\"\"},\"baxis\":{\"gridcolor\":\"white\",\"linecolor\":\"white\",\"ticks\":\"\"},\"caxis\":{\"gridcolor\":\"white\",\"linecolor\":\"white\",\"ticks\":\"\"}},\"coloraxis\":{\"colorbar\":{\"outlinewidth\":0,\"ticks\":\"\"}},\"colorscale\":{\"sequential\":[[0.0,\"#0d0887\"],[0.1111111111111111,\"#46039f\"],[0.2222222222222222,\"#7201a8\"],[0.3333333333333333,\"#9c179e\"],[0.4444444444444444,\"#bd3786\"],[0.5555555555555556,\"#d8576b\"],[0.6666666666666666,\"#ed7953\"],[0.7777777777777778,\"#fb9f3a\"],[0.8888888888888888,\"#fdca26\"],[1.0,\"#f0f921\"]],\"sequentialminus\":[[0.0,\"#0d0887\"],[0.1111111111111111,\"#46039f\"],[0.2222222222222222,\"#7201a8\"],[0.3333333333333333,\"#9c179e\"],[0.4444444444444444,\"#bd3786\"],[0.5555555555555556,\"#d8576b\"],[0.6666666666666666,\"#ed7953\"],[0.7777777777777778,\"#fb9f3a\"],[0.8888888888888888,\"#fdca26\"],[1.0,\"#f0f921\"]],\"diverging\":[[0,\"#8e0152\"],[0.1,\"#c51b7d\"],[0.2,\"#de77ae\"],[0.3,\"#f1b6da\"],[0.4,\"#fde0ef\"],[0.5,\"#f7f7f7\"],[0.6,\"#e6f5d0\"],[0.7,\"#b8e186\"],[0.8,\"#7fbc41\"],[0.9,\"#4d9221\"],[1,\"#276419\"]]},\"xaxis\":{\"gridcolor\":\"white\",\"linecolor\":\"white\",\"ticks\":\"\",\"title\":{\"standoff\":15},\"zerolinecolor\":\"white\",\"automargin\":true,\"zerolinewidth\":2},\"yaxis\":{\"gridcolor\":\"white\",\"linecolor\":\"white\",\"ticks\":\"\",\"title\":{\"standoff\":15},\"zerolinecolor\":\"white\",\"automargin\":true,\"zerolinewidth\":2},\"scene\":{\"xaxis\":{\"backgroundcolor\":\"#E5ECF6\",\"gridcolor\":\"white\",\"linecolor\":\"white\",\"showbackground\":true,\"ticks\":\"\",\"zerolinecolor\":\"white\",\"gridwidth\":2},\"yaxis\":{\"backgroundcolor\":\"#E5ECF6\",\"gridcolor\":\"white\",\"linecolor\":\"white\",\"showbackground\":true,\"ticks\":\"\",\"zerolinecolor\":\"white\",\"gridwidth\":2},\"zaxis\":{\"backgroundcolor\":\"#E5ECF6\",\"gridcolor\":\"white\",\"linecolor\":\"white\",\"showbackground\":true,\"ticks\":\"\",\"zerolinecolor\":\"white\",\"gridwidth\":2}},\"shapedefaults\":{\"line\":{\"color\":\"#2a3f5f\"}},\"annotationdefaults\":{\"arrowcolor\":\"#2a3f5f\",\"arrowhead\":0,\"arrowwidth\":1},\"geo\":{\"bgcolor\":\"white\",\"landcolor\":\"#E5ECF6\",\"subunitcolor\":\"white\",\"showland\":true,\"showlakes\":true,\"lakecolor\":\"white\"},\"title\":{\"x\":0.05},\"mapbox\":{\"style\":\"light\"}}},\"title\":{\"text\":\"Intensity Over Time\",\"x\":0.5,\"font\":{\"color\":\"black\",\"size\":30}},\"xaxis\":{\"title\":{\"text\":\"Frames\"},\"color\":\"black\"},\"yaxis\":{\"title\":{\"text\":\"Amplitude\"},\"color\":\"black\"},\"autosize\":true},                        {\"responsive\": true}                    ).then(function(){\n",
       "                            \n",
       "var gd = document.getElementById('05d4bbbf-add2-454b-aa73-95527e8e0bb1');\n",
       "var x = new MutationObserver(function (mutations, observer) {{\n",
       "        var display = window.getComputedStyle(gd).display;\n",
       "        if (!display || display === 'none') {{\n",
       "            console.log([gd, 'removed!']);\n",
       "            Plotly.purge(gd);\n",
       "            observer.disconnect();\n",
       "        }}\n",
       "}});\n",
       "\n",
       "// Listen for the removal of the full notebook cells\n",
       "var notebookContainer = gd.closest('#notebook-container');\n",
       "if (notebookContainer) {{\n",
       "    x.observe(notebookContainer, {childList: true});\n",
       "}}\n",
       "\n",
       "// Listen for the clearing of the current output cell\n",
       "var outputEl = gd.closest('.output');\n",
       "if (outputEl) {{\n",
       "    x.observe(outputEl, {childList: true});\n",
       "}}\n",
       "\n",
       "                        })                };                });            </script>        </div>"
      ]
     },
     "metadata": {},
     "output_type": "display_data"
    }
   ],
   "source": [
    "plot_intensity_over_time(91,track_df)"
   ]
  },
  {
   "cell_type": "code",
   "execution_count": 96,
   "id": "672a632a",
   "metadata": {},
   "outputs": [
    {
     "ename": "NameError",
     "evalue": "name 'dash' is not defined",
     "output_type": "error",
     "traceback": [
      "\u001b[0;31m---------------------------------------------------------------------------\u001b[0m",
      "\u001b[0;31mNameError\u001b[0m                                 Traceback (most recent call last)",
      "Cell \u001b[0;32mIn[96], line 2\u001b[0m\n\u001b[1;32m      1\u001b[0m \u001b[38;5;28;01mfrom\u001b[39;00m \u001b[38;5;21;01mdash\u001b[39;00m \u001b[38;5;28;01mimport\u001b[39;00m Dash, html, dcc, callback \n\u001b[0;32m----> 2\u001b[0m help(\u001b[43mdash\u001b[49m\u001b[38;5;241m.\u001b[39mhtml\u001b[38;5;241m.\u001b[39mLabel)\n",
      "\u001b[0;31mNameError\u001b[0m: name 'dash' is not defined"
     ]
    }
   ],
   "source": [
    "from dash import Dash, html, dcc, callback \n",
    ">>> help(dash.html.Label)"
   ]
  },
  {
   "cell_type": "code",
   "execution_count": null,
   "id": "c067bd11",
   "metadata": {},
   "outputs": [],
   "source": []
  }
 ],
 "metadata": {
  "kernelspec": {
   "display_name": "Python 3 (ipykernel)",
   "language": "python",
   "name": "python3"
  },
  "language_info": {
   "codemirror_mode": {
    "name": "ipython",
    "version": 3
   },
   "file_extension": ".py",
   "mimetype": "text/x-python",
   "name": "python",
   "nbconvert_exporter": "python",
   "pygments_lexer": "ipython3",
   "version": "3.10.13"
  }
 },
 "nbformat": 4,
 "nbformat_minor": 5
}
