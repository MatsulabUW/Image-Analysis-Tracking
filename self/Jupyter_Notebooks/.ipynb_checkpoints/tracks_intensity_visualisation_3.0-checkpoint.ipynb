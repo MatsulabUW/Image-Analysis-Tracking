{
 "cells": [
  {
   "cell_type": "code",
   "execution_count": 1,
   "id": "46d9a76f",
   "metadata": {},
   "outputs": [],
   "source": [
    "from os import path\n",
    "import pandas as pd\n",
    "from IPython.display import display\n",
    "from matplotlib import pyplot as plt\n",
    "import napari\n",
    "from skimage import io\n",
    "import matplotlib.pyplot as plt\n",
    "import seaborn as sns\n",
    "import numpy as np\n",
    "import plotly.graph_objects as go\n",
    "from plotly.subplots import make_subplots\n",
    "import plotly.express as px\n",
    "\n",
    "\n",
    "plt.rcParams[\"font.family\"] = \"\""
   ]
  },
  {
   "cell_type": "code",
   "execution_count": 2,
   "id": "4f12778e",
   "metadata": {},
   "outputs": [],
   "source": [
    "def max_z_track_visualisation(track_of_interest,raw_image,main_tracking_df):\n",
    "    \n",
    "    \n",
    "    current_track = main_tracking_df[main_tracking_df['track_id'] == track_of_interest]\n",
    "    #A black image with all pixels set to zero\n",
    "    empty_layer = np.zeros_like(raw_image_3)\n",
    "\n",
    "    # Loop through tracks and set values in the volume\n",
    "    for index, track in current_track.iterrows():\n",
    "        frame, mu_z, mu_y, mu_x = int(track['frame']), track['mu_z'], track['mu_y'], track['mu_x']\n",
    "        #sigma_z, sigma_y, sigma_x = track['sigma_z'], track['sigma_y'], track['sigma_x']\n",
    "        sigma_z = 4\n",
    "        sigma_y = 2\n",
    "        sigma_x = 2\n",
    "\n",
    "        # Define the bounding box based on center and sigma\n",
    "        z_start, z_end = int(mu_z - 3 * sigma_z), int(mu_z + 3 * sigma_z)\n",
    "        y_start, y_end = int(mu_y - 3 * sigma_y), int(mu_y + 3 * sigma_y)\n",
    "        x_start, x_end = int(mu_x - 3 * sigma_x), int(mu_x + 3 * sigma_x)\n",
    "\n",
    "        # Clip the coordinates to be within the image bounds\n",
    "        z_start = max(0, z_start)\n",
    "        y_start = max(0, y_start)\n",
    "        x_start = max(0, x_start)\n",
    "        z_end = min(raw_image.shape[1], z_end)\n",
    "        y_end = min(raw_image.shape[2], y_end)\n",
    "        x_end = min(raw_image.shape[3], x_end)\n",
    "\n",
    "        # Extract the region from the raw image data\n",
    "        #print(frame,z_start,z_end, y_start,y_end, x_start,x_end)\n",
    "        #region_data = raw_image_3[frame, z_start:z_end, y_start:y_end, x_start:x_end]\n",
    "\n",
    "        # Set everything outside the region to zero\n",
    "        # Set the region inside the bounding box to the corresponding values in raw_image_data\n",
    "        empty_layer[frame, z_start:z_end, y_start:y_end, x_start:x_end] = raw_image[frame, z_start:z_end, y_start:y_end, x_start:x_end]\n",
    "        \n",
    "\n",
    "    # Assuming 'your_4d_array' is the numpy array with dimensions (Time, z, y, x)\n",
    "\n",
    "    # Get the shape of the array\n",
    "    time_points, z_values, y_values, x_values = empty_layer.shape\n",
    "\n",
    "    # Create an empty 3D array to store the result\n",
    "    result_array = np.zeros((time_points, y_values, x_values))\n",
    "\n",
    "    # Loop through each time point\n",
    "    for t in range(time_points):\n",
    "        # Calculate the sum along the z-axis\n",
    "        z_sum = np.sum(empty_layer[t, :, :, :], axis=(1, 2))\n",
    "\n",
    "        # Find the index of the maximum sum\n",
    "        max_sum_index = np.argmax(z_sum)\n",
    "\n",
    "        # Select the slice with the maximum sum\n",
    "        result_array[t, :, :] = empty_layer[t, max_sum_index, :, :]\n",
    "        \n",
    "    \n",
    "    return result_array\n",
    "\n",
    "    # Now, 'result_array' contains the 3D array with the maximum sum along the z-axis for each time point\n"
   ]
  },
  {
   "cell_type": "code",
   "execution_count": 3,
   "id": "dc79deb2",
   "metadata": {},
   "outputs": [],
   "source": [
    "def max_intensity_projection_track_visualisation(track_of_interest,raw_image,main_tracking_df):\n",
    "    \n",
    "    \n",
    "    current_track = main_tracking_df[main_tracking_df['track_id'] == track_of_interest]\n",
    "    #A black image with all pixels set to zero\n",
    "    empty_layer = np.zeros_like(raw_image)\n",
    "\n",
    "    # Loop through tracks and set values in the volume\n",
    "    for index, track in current_track.iterrows():\n",
    "        frame, mu_z, mu_y, mu_x = int(track['frame']), track['mu_z'], track['mu_y'], track['mu_x']\n",
    "        #sigma_z, sigma_y, sigma_x = track['sigma_z'], track['sigma_y'], track['sigma_x']\n",
    "        sigma_z = 4\n",
    "        sigma_y = 2\n",
    "        sigma_x = 2\n",
    "\n",
    "        # Define the bounding box based on center and sigma\n",
    "        z_start, z_end = int(mu_z - 3 * sigma_z), int(mu_z + 3 * sigma_z)\n",
    "        y_start, y_end = int(mu_y - 3 * sigma_y), int(mu_y + 3 * sigma_y)\n",
    "        x_start, x_end = int(mu_x - 3 * sigma_x), int(mu_x + 3 * sigma_x)\n",
    "\n",
    "        # Clip the coordinates to be within the image bounds\n",
    "        z_start = max(0, z_start)\n",
    "        y_start = max(0, y_start)\n",
    "        x_start = max(0, x_start)\n",
    "        z_end = min(raw_image.shape[1], z_end)\n",
    "        y_end = min(raw_image.shape[2], y_end)\n",
    "        x_end = min(raw_image.shape[3], x_end)\n",
    "\n",
    "        # Extract the region from the raw image data\n",
    "        #print(frame,z_start,z_end, y_start,y_end, x_start,x_end)\n",
    "        #region_data = raw_image_3[frame, z_start:z_end, y_start:y_end, x_start:x_end]\n",
    "\n",
    "        # Set everything outside the region to zero\n",
    "        # Set the region inside the bounding box to the corresponding values in raw_image_data\n",
    "        empty_layer[frame, z_start:z_end, y_start:y_end, x_start:x_end] = raw_image[frame, z_start:z_end, y_start:y_end, x_start:x_end]\n",
    "        \n",
    "\n",
    "    # Assuming 'your_4d_array' is the numpy array with dimensions (Time, z, y, x)\n",
    "\n",
    "    # Get the shape of the array\n",
    "    time_points, z_values, y_values, x_values = empty_layer.shape\n",
    "    \n",
    "    # Create an empty array to store the maximum intensity projections in each time \n",
    "    \n",
    "    mip_movie = []\n",
    "    # Loop through each time point\n",
    "    for t in range(time_points):\n",
    "        max_slice = np.max(empty_layer[t],axis=0)\n",
    "        mip_movie.append(max_slice)\n",
    "    \n",
    "    mip_movie = np.array(mip_movie)\n",
    "    return mip_movie\n"
   ]
  },
  {
   "cell_type": "code",
   "execution_count": 4,
   "id": "f6bb2e64",
   "metadata": {},
   "outputs": [],
   "source": [
    "def total_sum_track_visualisation(track_of_interest,raw_image,main_tracking_df):\n",
    "    \n",
    "    \n",
    "    current_track = main_tracking_df[main_tracking_df['track_id'] == track_of_interest]\n",
    "    #A black image with all pixels set to zero\n",
    "    empty_layer = np.zeros_like(raw_image_3)\n",
    "\n",
    "    # Loop through tracks and set values in the volume\n",
    "    for index, track in current_track.iterrows():\n",
    "        frame, mu_z, mu_y, mu_x = int(track['frame']), track['mu_z'], track['mu_y'], track['mu_x']\n",
    "        #sigma_z, sigma_y, sigma_x = track['sigma_z'], track['sigma_y'], track['sigma_x']\n",
    "        sigma_z = 4\n",
    "        sigma_y = 2\n",
    "        sigma_x = 2\n",
    "\n",
    "        # Define the bounding box based on center and sigma\n",
    "        z_start, z_end = int(mu_z - 3 * sigma_z), int(mu_z + 3 * sigma_z)\n",
    "        y_start, y_end = int(mu_y - 3 * sigma_y), int(mu_y + 3 * sigma_y)\n",
    "        x_start, x_end = int(mu_x - 3 * sigma_x), int(mu_x + 3 * sigma_x)\n",
    "\n",
    "        # Clip the coordinates to be within the image bounds\n",
    "        z_start = max(0, z_start)\n",
    "        y_start = max(0, y_start)\n",
    "        x_start = max(0, x_start)\n",
    "        z_end = min(raw_image.shape[1], z_end)\n",
    "        y_end = min(raw_image.shape[2], y_end)\n",
    "        x_end = min(raw_image.shape[3], x_end)\n",
    "\n",
    "        # Extract the region from the raw image data\n",
    "        #print(frame,z_start,z_end, y_start,y_end, x_start,x_end)\n",
    "        #region_data = raw_image_3[frame, z_start:z_end, y_start:y_end, x_start:x_end]\n",
    "\n",
    "        # Set everything outside the region to zero\n",
    "        # Set the region inside the bounding box to the corresponding values in raw_image_data\n",
    "        empty_layer[frame, z_start:z_end, y_start:y_end, x_start:x_end] = raw_image[frame, z_start:z_end, y_start:y_end, x_start:x_end]\n",
    "        \n",
    "\n",
    "    # Assuming 'your_4d_array' is the numpy array with dimensions (Time, z, y, x)\n",
    "\n",
    "    # Get the shape of the array\n",
    "    time_points, z_values, y_values, x_values = empty_layer.shape\n",
    "    \n",
    "    # Create an empty array to store the maximum intensity projections in each time \n",
    "    \n",
    "    total_sum_movie = []\n",
    "    # Loop through each time point\n",
    "    for t in range(time_points):\n",
    "        z_sum = np.sum(empty_layer[t],axis=0)\n",
    "        total_sum_movie.append(z_sum)\n",
    "    \n",
    "    total_sum_movie = np.array(total_sum_movie)\n",
    "    return total_sum_movie\n"
   ]
  },
  {
   "cell_type": "code",
   "execution_count": 5,
   "id": "9f2f02c4",
   "metadata": {},
   "outputs": [],
   "source": [
    "def crop_movie(image):\n",
    "    image_array = []\n",
    "    # Iterate through each frame in the time series\n",
    "    for i in range(image.shape[0]):\n",
    "        # Get non-zero indices in the current frame\n",
    "        non_zero_indices = np.nonzero(image[i, :, :])\n",
    "        if len(non_zero_indices[1]) > 0:\n",
    "            image_array.append(image[i,min(non_zero_indices[0]):max(non_zero_indices[0])+1,\n",
    "                                             min(non_zero_indices[1]):max(non_zero_indices[1])+1])\n",
    "    return image_array"
   ]
  },
  {
   "cell_type": "code",
   "execution_count": 6,
   "id": "5701e627",
   "metadata": {},
   "outputs": [],
   "source": [
    "def plot_raw_movie_v1(track_array):\n",
    "    # Assuming 'images_list' is a list containing NumPy arrays representing images\n",
    "    # Each NumPy array is assumed to be a 2D array (e.g., 30x30)\n",
    "\n",
    "    # Set the number of rows and columns for subplots\n",
    "    num_rows = 5\n",
    "    num_cols = 7\n",
    "\n",
    "    # Create subplots\n",
    "    fig, axes = plt.subplots(num_rows, num_cols, figsize=(12, 8))\n",
    "\n",
    "    # Flatten the axes array for easier indexing\n",
    "    axes = axes.flatten()\n",
    "\n",
    "    # Loop through the images and display them in subplots\n",
    "    for i in range(min(len(ans), num_rows * num_cols)):\n",
    "        axes[i].imshow(ans[i])  # Adjust cmap if needed\n",
    "        axes[i].axis('off')  # Turn off axis labels\n",
    "\n",
    "    # Adjust layout to prevent overlap of subplots\n",
    "    plt.tight_layout()\n",
    "\n",
    "    # Show the plot\n",
    "    plt.show()\n"
   ]
  },
  {
   "cell_type": "code",
   "execution_count": 8,
   "id": "01dc8938",
   "metadata": {},
   "outputs": [],
   "source": [
    "def plot_intensity_over_time(track_of_interest, main_tracking_df):\n",
    "    current_track_df = main_tracking_df[main_tracking_df['track_id'] == track_of_interest]\n",
    "    # Create Line plot\n",
    "    fig = go.Figure()\n",
    "\n",
    "    fig.add_trace(go.Scatter(x=current_track_df['frame'], y=current_track_df['amplitude'], name = 'Channel 3',\n",
    "                 line = dict(color = 'red', width = 4)))\n",
    "    fig.add_trace(go.Scatter(x=current_track_df['frame'], y=current_track_df['c2_amp'],name = 'Channel 2', \n",
    "                            line=dict(color='green', width = 4)))\n",
    "\n",
    "    # Edit the layout\n",
    "    fig.update_layout(title='Intensity Over Time', title_x = 0.5,\n",
    "                       xaxis_title='Frames',  xaxis_color = 'black', title_font = dict(color = 'black', size = 30),\n",
    "                       yaxis_title='Amplitude', yaxis_color = 'black', legend=dict(bgcolor=None),autosize = True, plot_bgcolor = None,\n",
    "                     paper_bgcolor = None)\n",
    "\n",
    "\n",
    "    return fig "
   ]
  },
  {
   "cell_type": "code",
   "execution_count": 9,
   "id": "d7dda823",
   "metadata": {},
   "outputs": [],
   "source": [
    "track_df = pd.read_pickle('/Users/apple/Desktop/Akamatsu_Lab/Lap_track/self/files/track_df_updated.pkl')\n",
    "filtered_tracks = pd.read_pickle('/Users/apple/Desktop/Akamatsu_Lab/Lap_track/self/files/filtered_tracks.pkl')\n",
    "# Replace 'your_file.tif' with the path to your 4D TIFF file\n",
    "file_path_3 = '/Users/apple/Desktop/Akamatsu_Lab/Lap_track/self/files/Channel3_complete.tif'\n",
    "# Load the TIFF file using skimage\n",
    "raw_image_3 = io.imread(file_path_3)\n",
    "# Replace 'your_file.tif' with the path to your 4D TIFF file\n",
    "file_path_2 = '/Users/apple/Desktop/Akamatsu_Lab/Lap_track/self/files/Channel2_complete.tif'\n",
    "# Load the TIFF file using skimage\n",
    "raw_image_2 = io.imread(file_path_2)"
   ]
  },
  {
   "cell_type": "code",
   "execution_count": 10,
   "id": "192e66f6",
   "metadata": {},
   "outputs": [
    {
     "data": {
      "text/html": [
       "<div>\n",
       "<style scoped>\n",
       "    .dataframe tbody tr th:only-of-type {\n",
       "        vertical-align: middle;\n",
       "    }\n",
       "\n",
       "    .dataframe tbody tr th {\n",
       "        vertical-align: top;\n",
       "    }\n",
       "\n",
       "    .dataframe thead th {\n",
       "        text-align: right;\n",
       "    }\n",
       "</style>\n",
       "<table border=\"1\" class=\"dataframe\">\n",
       "  <thead>\n",
       "    <tr style=\"text-align: right;\">\n",
       "      <th></th>\n",
       "      <th>track_id</th>\n",
       "      <th>c2_peak</th>\n",
       "      <th>c3_peak</th>\n",
       "      <th>track_length</th>\n",
       "      <th>start_frame</th>\n",
       "      <th>end_frame</th>\n",
       "      <th>peak_frame_c2</th>\n",
       "      <th>peak_start_c2</th>\n",
       "      <th>peak_frame_c3</th>\n",
       "      <th>peak_start_c3</th>\n",
       "    </tr>\n",
       "  </thead>\n",
       "  <tbody>\n",
       "    <tr>\n",
       "      <th>185</th>\n",
       "      <td>364</td>\n",
       "      <td>227.0</td>\n",
       "      <td>325.145821</td>\n",
       "      <td>25</td>\n",
       "      <td>0</td>\n",
       "      <td>24</td>\n",
       "      <td>22</td>\n",
       "      <td>22</td>\n",
       "      <td>7</td>\n",
       "      <td>7</td>\n",
       "    </tr>\n",
       "    <tr>\n",
       "      <th>216</th>\n",
       "      <td>415</td>\n",
       "      <td>195.0</td>\n",
       "      <td>289.600996</td>\n",
       "      <td>27</td>\n",
       "      <td>0</td>\n",
       "      <td>26</td>\n",
       "      <td>23</td>\n",
       "      <td>23</td>\n",
       "      <td>20</td>\n",
       "      <td>20</td>\n",
       "    </tr>\n",
       "    <tr>\n",
       "      <th>254</th>\n",
       "      <td>516</td>\n",
       "      <td>189.0</td>\n",
       "      <td>286.000000</td>\n",
       "      <td>21</td>\n",
       "      <td>1</td>\n",
       "      <td>21</td>\n",
       "      <td>6</td>\n",
       "      <td>5</td>\n",
       "      <td>19</td>\n",
       "      <td>18</td>\n",
       "    </tr>\n",
       "    <tr>\n",
       "      <th>255</th>\n",
       "      <td>519</td>\n",
       "      <td>195.0</td>\n",
       "      <td>340.213324</td>\n",
       "      <td>37</td>\n",
       "      <td>1</td>\n",
       "      <td>37</td>\n",
       "      <td>7</td>\n",
       "      <td>6</td>\n",
       "      <td>5</td>\n",
       "      <td>4</td>\n",
       "    </tr>\n",
       "    <tr>\n",
       "      <th>266</th>\n",
       "      <td>541</td>\n",
       "      <td>211.0</td>\n",
       "      <td>321.000000</td>\n",
       "      <td>22</td>\n",
       "      <td>1</td>\n",
       "      <td>22</td>\n",
       "      <td>9</td>\n",
       "      <td>8</td>\n",
       "      <td>9</td>\n",
       "      <td>8</td>\n",
       "    </tr>\n",
       "  </tbody>\n",
       "</table>\n",
       "</div>"
      ],
      "text/plain": [
       "     track_id  c2_peak     c3_peak  track_length  start_frame  end_frame  \\\n",
       "185       364    227.0  325.145821            25            0         24   \n",
       "216       415    195.0  289.600996            27            0         26   \n",
       "254       516    189.0  286.000000            21            1         21   \n",
       "255       519    195.0  340.213324            37            1         37   \n",
       "266       541    211.0  321.000000            22            1         22   \n",
       "\n",
       "     peak_frame_c2  peak_start_c2  peak_frame_c3  peak_start_c3  \n",
       "185             22             22              7              7  \n",
       "216             23             23             20             20  \n",
       "254              6              5             19             18  \n",
       "255              7              6              5              4  \n",
       "266              9              8              9              8  "
      ]
     },
     "execution_count": 10,
     "metadata": {},
     "output_type": "execute_result"
    }
   ],
   "source": [
    "filtered_tracks[15:20]"
   ]
  },
  {
   "cell_type": "code",
   "execution_count": 11,
   "id": "17467e89",
   "metadata": {},
   "outputs": [
    {
     "data": {
      "text/plain": [
       "<matplotlib.legend.Legend at 0x7feef69d3040>"
      ]
     },
     "execution_count": 11,
     "metadata": {},
     "output_type": "execute_result"
    },
    {
     "data": {
      "image/png": "[encoded data removed]",
      "text/plain": [
       "<Figure size 640x480 with 1 Axes>"
      ]
     },
     "metadata": {},
     "output_type": "display_data"
    }
   ],
   "source": [
    "current_track = track_df[track_df['track_id'] == 91]\n",
    "plt.title(f'Track 91, length {len(current_track)}')\n",
    "plt.plot(current_track['frame'],current_track['amplitude'], color ='red', label = 'Channel 3')\n",
    "plt.plot(current_track['frame'], current_track['c2_amp'], color = 'green', label = 'Channel 2')\n",
    "plt.xlabel('frame')\n",
    "plt.ylabel('intensity')\n",
    "plt.legend()"
   ]
  },
  {
   "cell_type": "code",
   "execution_count": 12,
   "id": "7c7a9ea6",
   "metadata": {},
   "outputs": [
    {
     "data": {
      "text/html": [
       "<div>\n",
       "<style scoped>\n",
       "    .dataframe tbody tr th:only-of-type {\n",
       "        vertical-align: middle;\n",
       "    }\n",
       "\n",
       "    .dataframe tbody tr th {\n",
       "        vertical-align: top;\n",
       "    }\n",
       "\n",
       "    .dataframe thead th {\n",
       "        text-align: right;\n",
       "    }\n",
       "</style>\n",
       "<table border=\"1\" class=\"dataframe\">\n",
       "  <thead>\n",
       "    <tr style=\"text-align: right;\">\n",
       "      <th></th>\n",
       "      <th>frame</th>\n",
       "      <th>index</th>\n",
       "      <th>amplitude</th>\n",
       "      <th>mu_x</th>\n",
       "      <th>mu_y</th>\n",
       "      <th>mu_z</th>\n",
       "      <th>sigma_x</th>\n",
       "      <th>sigma_y</th>\n",
       "      <th>sigma_z</th>\n",
       "      <th>frame_y</th>\n",
       "      <th>...</th>\n",
       "      <th>track_id</th>\n",
       "      <th>c2_amp</th>\n",
       "      <th>c2_peak</th>\n",
       "      <th>c2_peak_x</th>\n",
       "      <th>c2_peak_y</th>\n",
       "      <th>c2_peak_z</th>\n",
       "      <th>c3_mean_amp</th>\n",
       "      <th>c2_peak_mean</th>\n",
       "      <th>c2_voxel_sum</th>\n",
       "      <th>c3_voxel_sum</th>\n",
       "    </tr>\n",
       "  </thead>\n",
       "  <tbody>\n",
       "    <tr>\n",
       "      <th>0</th>\n",
       "      <td>0</td>\n",
       "      <td>0</td>\n",
       "      <td>206.593249</td>\n",
       "      <td>11.0</td>\n",
       "      <td>12.0</td>\n",
       "      <td>0.0</td>\n",
       "      <td>2.0</td>\n",
       "      <td>2.0</td>\n",
       "      <td>4.0</td>\n",
       "      <td>0</td>\n",
       "      <td>...</td>\n",
       "      <td>0</td>\n",
       "      <td>122.947826</td>\n",
       "      <td>152.0</td>\n",
       "      <td>9.0</td>\n",
       "      <td>14.0</td>\n",
       "      <td>2.0</td>\n",
       "      <td>163.682353</td>\n",
       "      <td>125.500000</td>\n",
       "      <td>11295</td>\n",
       "      <td>13913</td>\n",
       "    </tr>\n",
       "    <tr>\n",
       "      <th>1</th>\n",
       "      <td>0</td>\n",
       "      <td>1</td>\n",
       "      <td>191.000000</td>\n",
       "      <td>36.0</td>\n",
       "      <td>88.0</td>\n",
       "      <td>1.0</td>\n",
       "      <td>2.0</td>\n",
       "      <td>1.0</td>\n",
       "      <td>2.0</td>\n",
       "      <td>0</td>\n",
       "      <td>...</td>\n",
       "      <td>1</td>\n",
       "      <td>116.233333</td>\n",
       "      <td>143.0</td>\n",
       "      <td>34.0</td>\n",
       "      <td>87.0</td>\n",
       "      <td>2.0</td>\n",
       "      <td>138.233333</td>\n",
       "      <td>114.826667</td>\n",
       "      <td>20068</td>\n",
       "      <td>19928</td>\n",
       "    </tr>\n",
       "    <tr>\n",
       "      <th>2</th>\n",
       "      <td>0</td>\n",
       "      <td>2</td>\n",
       "      <td>231.007679</td>\n",
       "      <td>40.0</td>\n",
       "      <td>141.0</td>\n",
       "      <td>1.0</td>\n",
       "      <td>2.0</td>\n",
       "      <td>2.0</td>\n",
       "      <td>2.0</td>\n",
       "      <td>0</td>\n",
       "      <td>...</td>\n",
       "      <td>2</td>\n",
       "      <td>122.330000</td>\n",
       "      <td>142.0</td>\n",
       "      <td>41.0</td>\n",
       "      <td>142.0</td>\n",
       "      <td>0.0</td>\n",
       "      <td>153.940000</td>\n",
       "      <td>122.853333</td>\n",
       "      <td>15316</td>\n",
       "      <td>22805</td>\n",
       "    </tr>\n",
       "    <tr>\n",
       "      <th>3</th>\n",
       "      <td>0</td>\n",
       "      <td>3</td>\n",
       "      <td>185.152538</td>\n",
       "      <td>40.0</td>\n",
       "      <td>58.0</td>\n",
       "      <td>1.0</td>\n",
       "      <td>2.0</td>\n",
       "      <td>1.0</td>\n",
       "      <td>3.0</td>\n",
       "      <td>0</td>\n",
       "      <td>...</td>\n",
       "      <td>3</td>\n",
       "      <td>117.626667</td>\n",
       "      <td>142.0</td>\n",
       "      <td>42.0</td>\n",
       "      <td>59.0</td>\n",
       "      <td>0.0</td>\n",
       "      <td>141.280000</td>\n",
       "      <td>118.016667</td>\n",
       "      <td>14557</td>\n",
       "      <td>20358</td>\n",
       "    </tr>\n",
       "    <tr>\n",
       "      <th>4</th>\n",
       "      <td>0</td>\n",
       "      <td>4</td>\n",
       "      <td>202.000000</td>\n",
       "      <td>46.0</td>\n",
       "      <td>73.0</td>\n",
       "      <td>1.0</td>\n",
       "      <td>2.0</td>\n",
       "      <td>2.0</td>\n",
       "      <td>3.0</td>\n",
       "      <td>0</td>\n",
       "      <td>...</td>\n",
       "      <td>4</td>\n",
       "      <td>115.112000</td>\n",
       "      <td>141.0</td>\n",
       "      <td>45.0</td>\n",
       "      <td>74.0</td>\n",
       "      <td>3.0</td>\n",
       "      <td>147.768000</td>\n",
       "      <td>115.502857</td>\n",
       "      <td>23194</td>\n",
       "      <td>21963</td>\n",
       "    </tr>\n",
       "  </tbody>\n",
       "</table>\n",
       "<p>5 rows × 21 columns</p>\n",
       "</div>"
      ],
      "text/plain": [
       "   frame  index   amplitude  mu_x   mu_y  mu_z  sigma_x  sigma_y  sigma_z  \\\n",
       "0      0      0  206.593249  11.0   12.0   0.0      2.0      2.0      4.0   \n",
       "1      0      1  191.000000  36.0   88.0   1.0      2.0      1.0      2.0   \n",
       "2      0      2  231.007679  40.0  141.0   1.0      2.0      2.0      2.0   \n",
       "3      0      3  185.152538  40.0   58.0   1.0      2.0      1.0      3.0   \n",
       "4      0      4  202.000000  46.0   73.0   1.0      2.0      2.0      3.0   \n",
       "\n",
       "   frame_y  ...  track_id      c2_amp  c2_peak  c2_peak_x  c2_peak_y  \\\n",
       "0        0  ...         0  122.947826    152.0        9.0       14.0   \n",
       "1        0  ...         1  116.233333    143.0       34.0       87.0   \n",
       "2        0  ...         2  122.330000    142.0       41.0      142.0   \n",
       "3        0  ...         3  117.626667    142.0       42.0       59.0   \n",
       "4        0  ...         4  115.112000    141.0       45.0       74.0   \n",
       "\n",
       "   c2_peak_z  c3_mean_amp  c2_peak_mean  c2_voxel_sum  c3_voxel_sum  \n",
       "0        2.0   163.682353    125.500000         11295         13913  \n",
       "1        2.0   138.233333    114.826667         20068         19928  \n",
       "2        0.0   153.940000    122.853333         15316         22805  \n",
       "3        0.0   141.280000    118.016667         14557         20358  \n",
       "4        3.0   147.768000    115.502857         23194         21963  \n",
       "\n",
       "[5 rows x 21 columns]"
      ]
     },
     "execution_count": 12,
     "metadata": {},
     "output_type": "execute_result"
    }
   ],
   "source": [
    "track_df.head()"
   ]
  },
  {
   "cell_type": "code",
   "execution_count": 263,
   "id": "d91b5049",
   "metadata": {},
   "outputs": [],
   "source": [
    "def plot_raw_movie(plot_type, track_number, raw_image, main_tracking_df):\n",
    "    \n",
    "    \n",
    "    if plot_type == 'max_intensity_projection':      \n",
    "        result_array = max_intensity_projection_track_visualisation(track_number,raw_image,main_tracking_df)\n",
    "        track_array = crop_movie(result_array)\n",
    "    elif plot_type == 'max_z_slice':      \n",
    "        result_array = max_z_track_visualisation(track_number,raw_image,main_tracking_df)\n",
    "        track_array = crop_movie(result_array)\n",
    "    elif plot_type == 'total_z_sum':      \n",
    "        result_array = total_sum_track_visualisation(track_number,raw_image,main_tracking_df)\n",
    "        track_array = crop_movie(result_array)\n",
    "    \n",
    "    \n",
    "    length_of_track = len(track_array)\n",
    "    # Set the number of rows and columns for subplots\n",
    "    num_cols = 7\n",
    "    num_rows = length_of_track // num_cols + 1\n",
    "    \n",
    "    unique_tracks = main_tracking_df[main_tracking_df['track_id'] == track_number]['frame'].unique()\n",
    "    subplot_titles_tuple = tuple(f'frame_{i}' for i in unique_tracks)\n",
    "\n",
    "    fig = make_subplots(rows=num_rows, cols=7, subplot_titles = subplot_titles_tuple, x_title = 'Frame', \n",
    "                        y_title = 'Intensity', row_titles = None, column_titles = None)\n",
    "    \n",
    "    fig.layout.annotations[length_of_track][\"font\"] = {'size': 40, 'color':'black'}\n",
    "    fig.layout.annotations[length_of_track+1][\"font\"] = {'size': 40, 'color':'black'}\n",
    "\n",
    "    r = 1\n",
    "    c = 1\n",
    "    for i in range(len(track_array)):\n",
    "        image = px.imshow(track_array[i],color_continuous_scale = 'blues')\n",
    "        fig.add_trace(image.data[0], row = r, col = c)\n",
    "        fig.update_xaxes(showticklabels=False, row=r, col=c)\n",
    "        fig.update_yaxes(showticklabels=False, row=r, col=c)\n",
    "        if i != 0 and (i+1) % (num_cols) == 0: \n",
    "            r = r + 1\n",
    "            c = 1\n",
    "        else: \n",
    "            c = c + 1\n",
    "    r = 1 \n",
    "    c = 1\n",
    "    \n",
    "    #fig.update_layout(title = 'Raw Image 3', title_x = 0.5, title_font=dict(size=30, color = 'black'))\n",
    "    \n",
    "    return fig\n",
    "\n",
    "#colorscales 'greens' for channel 2 dynamin\n",
    "#colorscales ''"
   ]
  },
  {
   "cell_type": "code",
   "execution_count": 264,
   "id": "a8123244",
   "metadata": {},
   "outputs": [
    {
     "data": {
      "application/vnd.plotly.v1+json": {
       "config": {
        "plotlyServerURL": "https://plot.ly"
       },
       "data": [
        {
         "coloraxis": "coloraxis",
         "hovertemplate": "x: %{x}<br>y: %{y}<br>color: %{z}<extra></extra>",
         "name": "0",
         "type": "heatmap",
         "xaxis": "x",
         "yaxis": "y",
         "z": [
          [
           144,
           144,
           138,
           144,
           147,
           159,
           156,
           167,
           169,
           158,
           168,
           188
          ],
          [
           151,
           143,
           162,
           153,
           165,
           180,
           221,
           224,
           204,
           168,
           174,
           172
          ],
          [
           144,
           147,
           149,
           172,
           180,
           213,
           229,
           225,
           202,
           188,
           167,
           176
          ],
          [
           153,
           167,
           158,
           168,
           181,
           197,
           193,
           182,
           171,
           169,
           176,
           166
          ],
          [
           154,
           162,
           159,
           148,
           160,
           173,
           182,
           165,
           160,
           158,
           158,
           176
          ],
          [
           146,
           155,
           162,
           156,
           177,
           191,
           188,
           188,
           176,
           202,
           183,
           172
          ],
          [
           147,
           144,
           151,
           159,
           163,
           199,
           217,
           207,
           196,
           175,
           215,
           209
          ],
          [
           149,
           161,
           152,
           169,
           192,
           245,
           245,
           250,
           225,
           204,
           195,
           203
          ],
          [
           153,
           148,
           158,
           168,
           179,
           197,
           210,
           204,
           191,
           196,
           206,
           177
          ],
          [
           150,
           145,
           143,
           163,
           174,
           167,
           163,
           175,
           177,
           167,
           167,
           176
          ],
          [
           146,
           156,
           159,
           147,
           146,
           162,
           161,
           157,
           153,
           156,
           172,
           171
          ],
          [
           153,
           188,
           195,
           170,
           169,
           175,
           157,
           161,
           160,
           170,
           168,
           166
          ]
         ]
        },
        {
         "coloraxis": "coloraxis",
         "hovertemplate": "x: %{x}<br>y: %{y}<br>color: %{z}<extra></extra>",
         "name": "0",
         "type": "heatmap",
         "xaxis": "x2",
         "yaxis": "y2",
         "z": [
          [
           160,
           148,
           155,
           136,
           155,
           167,
           160,
           164,
           190,
           187,
           163,
           174
          ],
          [
           168,
           161,
           145,
           153,
           151,
           164,
           175,
           193,
           214,
           212,
           191,
           182
          ],
          [
           153,
           157,
           158,
           165,
           169,
           197,
           204,
           232,
           235,
           212,
           178,
           179
          ],
          [
           144,
           149,
           158,
           161,
           168,
           177,
           208,
           198,
           180,
           165,
           176,
           183
          ],
          [
           157,
           140,
           167,
           161,
           151,
           162,
           186,
           204,
           205,
           178,
           169,
           184
          ],
          [
           145,
           169,
           173,
           183,
           156,
           172,
           179,
           183,
           205,
           211,
           173,
           185
          ],
          [
           140,
           153,
           149,
           171,
           185,
           191,
           205,
           236,
           245,
           213,
           202,
           191
          ],
          [
           155,
           157,
           156,
           158,
           168,
           201,
           227,
           277,
           231,
           232,
           211,
           181
          ],
          [
           154,
           147,
           146,
           150,
           162,
           180,
           189,
           189,
           190,
           182,
           187,
           181
          ],
          [
           148,
           146,
           154,
           177,
           184,
           172,
           153,
           182,
           176,
           183,
           173,
           173
          ],
          [
           142,
           146,
           170,
           185,
           168,
           173,
           171,
           174,
           156,
           165,
           165,
           175
          ],
          [
           153,
           164,
           183,
           200,
           188,
           164,
           152,
           161,
           175,
           184,
           191,
           207
          ]
         ]
        },
        {
         "coloraxis": "coloraxis",
         "hovertemplate": "x: %{x}<br>y: %{y}<br>color: %{z}<extra></extra>",
         "name": "0",
         "type": "heatmap",
         "xaxis": "x3",
         "yaxis": "y3",
         "z": [
          [
           144,
           142,
           140,
           151,
           150,
           145,
           170,
           180,
           182,
           183,
           173,
           172
          ],
          [
           152,
           145,
           145,
           150,
           148,
           155,
           166,
           177,
           219,
           211,
           183,
           180
          ],
          [
           159,
           157,
           143,
           148,
           164,
           162,
           163,
           169,
           184,
           201,
           188,
           181
          ],
          [
           144,
           148,
           153,
           157,
           157,
           169,
           165,
           200,
           180,
           184,
           186,
           211
          ],
          [
           144,
           147,
           147,
           150,
           151,
           169,
           189,
           204,
           206,
           200,
           171,
           171
          ],
          [
           143,
           152,
           153,
           148,
           182,
           211,
           242,
           278,
           260,
           229,
           224,
           197
          ],
          [
           149,
           149,
           151,
           155,
           163,
           182,
           215,
           274,
           273,
           229,
           197,
           199
          ],
          [
           150,
           147,
           156,
           157,
           166,
           166,
           186,
           204,
           198,
           193,
           200,
           187
          ],
          [
           144,
           156,
           161,
           158,
           180,
           177,
           160,
           149,
           168,
           163,
           198,
           171
          ],
          [
           148,
           156,
           163,
           161,
           198,
           171,
           158,
           167,
           164,
           167,
           194,
           165
          ],
          [
           150,
           154,
           157,
           167,
           159,
           158,
           162,
           190,
           166,
           180,
           196,
           212
          ],
          [
           144,
           146,
           151,
           153,
           144,
           145,
           156,
           155,
           172,
           171,
           175,
           176
          ]
         ]
        },
        {
         "coloraxis": "coloraxis",
         "hovertemplate": "x: %{x}<br>y: %{y}<br>color: %{z}<extra></extra>",
         "name": "0",
         "type": "heatmap",
         "xaxis": "x4",
         "yaxis": "y4",
         "z": [
          [
           146,
           139,
           135,
           137,
           136,
           139,
           147,
           160,
           145,
           160,
           153,
           158
          ],
          [
           139,
           139,
           137,
           144,
           147,
           149,
           152,
           184,
           153,
           176,
           160,
           168
          ],
          [
           139,
           145,
           147,
           144,
           154,
           154,
           160,
           160,
           177,
           187,
           175,
           182
          ],
          [
           141,
           141,
           150,
           152,
           168,
           178,
           183,
           200,
           201,
           193,
           178,
           181
          ],
          [
           167,
           150,
           148,
           152,
           165,
           182,
           202,
           211,
           237,
           215,
           163,
           172
          ],
          [
           148,
           148,
           154,
           153,
           166,
           182,
           210,
           179,
           194,
           181,
           181,
           180
          ],
          [
           150,
           151,
           147,
           160,
           180,
           208,
           231,
           250,
           205,
           183,
           176,
           180
          ],
          [
           158,
           162,
           166,
           173,
           168,
           188,
           194,
           215,
           210,
           186,
           180,
           184
          ],
          [
           155,
           155,
           163,
           171,
           160,
           167,
           172,
           174,
           180,
           162,
           186,
           198
          ],
          [
           158,
           157,
           189,
           179,
           183,
           170,
           180,
           172,
           160,
           159,
           176,
           189
          ],
          [
           155,
           153,
           169,
           183,
           181,
           166,
           164,
           160,
           166,
           164,
           184,
           194
          ],
          [
           153,
           169,
           183,
           208,
           179,
           195,
           175,
           180,
           197,
           217,
           187,
           191
          ]
         ]
        },
        {
         "coloraxis": "coloraxis",
         "hovertemplate": "x: %{x}<br>y: %{y}<br>color: %{z}<extra></extra>",
         "name": "0",
         "type": "heatmap",
         "xaxis": "x5",
         "yaxis": "y5",
         "z": [
          [
           133,
           137,
           138,
           138,
           140,
           146,
           148,
           142,
           152,
           172,
           178,
           164
          ],
          [
           135,
           142,
           139,
           149,
           139,
           135,
           149,
           152,
           154,
           157,
           150,
           162
          ],
          [
           141,
           144,
           147,
           136,
           160,
           150,
           150,
           162,
           207,
           178,
           160,
           160
          ],
          [
           150,
           152,
           145,
           144,
           159,
           177,
           212,
           220,
           223,
           204,
           176,
           177
          ],
          [
           150,
           143,
           140,
           147,
           158,
           165,
           181,
           191,
           189,
           173,
           182,
           184
          ],
          [
           139,
           144,
           158,
           181,
           169,
           174,
           175,
           186,
           178,
           190,
           178,
           190
          ],
          [
           153,
           150,
           148,
           159,
           165,
           198,
           201,
           205,
           185,
           178,
           193,
           207
          ],
          [
           163,
           159,
           156,
           177,
           197,
           210,
           235,
           238,
           208,
           184,
           185,
           200
          ],
          [
           154,
           151,
           160,
           179,
           174,
           181,
           190,
           198,
           187,
           185,
           155,
           172
          ],
          [
           150,
           147,
           165,
           151,
           151,
           155,
           157,
           162,
           179,
           165,
           179,
           189
          ],
          [
           140,
           154,
           162,
           170,
           176,
           179,
           167,
           174,
           161,
           165,
           176,
           174
          ],
          [
           148,
           145,
           170,
           176,
           205,
           203,
           161,
           163,
           176,
           177,
           169,
           162
          ]
         ]
        },
        {
         "coloraxis": "coloraxis",
         "hovertemplate": "x: %{x}<br>y: %{y}<br>color: %{z}<extra></extra>",
         "name": "0",
         "type": "heatmap",
         "xaxis": "x6",
         "yaxis": "y6",
         "z": [
          [
           145,
           144,
           135,
           144,
           141,
           145,
           159,
           152,
           148,
           157,
           156,
           148
          ],
          [
           136,
           140,
           143,
           138,
           144,
           151,
           164,
           166,
           182,
           174,
           166,
           161
          ],
          [
           136,
           143,
           141,
           154,
           158,
           165,
           172,
           202,
           222,
           215,
           199,
           169
          ],
          [
           139,
           159,
           149,
           152,
           162,
           164,
           169,
           193,
           207,
           203,
           170,
           164
          ],
          [
           138,
           148,
           152,
           152,
           152,
           154,
           155,
           163,
           172,
           170,
           164,
           189
          ],
          [
           145,
           148,
           155,
           144,
           145,
           157,
           166,
           172,
           200,
           190,
           172,
           168
          ],
          [
           150,
           154,
           165,
           163,
           161,
           172,
           198,
           251,
           236,
           192,
           192,
           176
          ],
          [
           151,
           147,
           149,
           157,
           172,
           175,
           205,
           216,
           220,
           229,
           201,
           187
          ],
          [
           160,
           146,
           153,
           167,
           156,
           156,
           169,
           169,
           177,
           178,
           181,
           188
          ],
          [
           156,
           162,
           157,
           172,
           185,
           175,
           157,
           157,
           166,
           154,
           185,
           167
          ],
          [
           137,
           143,
           163,
           185,
           171,
           169,
           158,
           156,
           156,
           158,
           172,
           163
          ],
          [
           158,
           174,
           173,
           167,
           165,
           162,
           168,
           154,
           162,
           169,
           168,
           170
          ]
         ]
        },
        {
         "coloraxis": "coloraxis",
         "hovertemplate": "x: %{x}<br>y: %{y}<br>color: %{z}<extra></extra>",
         "name": "0",
         "type": "heatmap",
         "xaxis": "x7",
         "yaxis": "y7",
         "z": [
          [
           146,
           135,
           149,
           138,
           140,
           138,
           135,
           141,
           161,
           155,
           150,
           141
          ],
          [
           140,
           146,
           149,
           153,
           144,
           142,
           163,
           158,
           187,
           180,
           171,
           163
          ],
          [
           140,
           138,
           137,
           147,
           154,
           148,
           155,
           159,
           167,
           196,
           177,
           159
          ],
          [
           133,
           153,
           153,
           148,
           170,
           153,
           159,
           155,
           180,
           173,
           155,
           154
          ],
          [
           147,
           154,
           144,
           151,
           146,
           150,
           153,
           159,
           160,
           159,
           151,
           159
          ],
          [
           145,
           156,
           147,
           144,
           157,
           169,
           174,
           178,
           183,
           190,
           184,
           175
          ],
          [
           133,
           135,
           156,
           151,
           154,
           169,
           197,
           222,
           231,
           225,
           192,
           165
          ],
          [
           150,
           149,
           163,
           158,
           170,
           177,
           209,
           211,
           228,
           211,
           177,
           183
          ],
          [
           152,
           151,
           147,
           144,
           152,
           168,
           181,
           201,
           197,
           186,
           166,
           173
          ],
          [
           145,
           151,
           165,
           171,
           182,
           188,
           153,
           174,
           163,
           172,
           168,
           184
          ],
          [
           146,
           145,
           153,
           171,
           183,
           168,
           158,
           162,
           158,
           157,
           173,
           173
          ],
          [
           165,
           155,
           154,
           175,
           161,
           162,
           153,
           169,
           166,
           178,
           179,
           188
          ]
         ]
        },
        {
         "coloraxis": "coloraxis",
         "hovertemplate": "x: %{x}<br>y: %{y}<br>color: %{z}<extra></extra>",
         "name": "0",
         "type": "heatmap",
         "xaxis": "x8",
         "yaxis": "y8",
         "z": [
          [
           135,
           144,
           152,
           138,
           140,
           145,
           166,
           166,
           167,
           167,
           163,
           157
          ],
          [
           143,
           141,
           163,
           148,
           155,
           174,
           177,
           190,
           190,
           175,
           154,
           155
          ],
          [
           149,
           167,
           152,
           155,
           161,
           164,
           179,
           179,
           170,
           167,
           156,
           159
          ],
          [
           151,
           154,
           144,
           150,
           152,
           161,
           161,
           170,
           166,
           184,
           169,
           165
          ],
          [
           154,
           143,
           152,
           147,
           148,
           168,
           178,
           177,
           173,
           163,
           172,
           159
          ],
          [
           144,
           140,
           157,
           168,
           185,
           206,
           220,
           206,
           204,
           167,
           170,
           173
          ],
          [
           150,
           151,
           163,
           164,
           177,
           195,
           217,
           201,
           185,
           176,
           170,
           167
          ],
          [
           154,
           176,
           155,
           164,
           178,
           181,
           183,
           206,
           181,
           169,
           172,
           191
          ],
          [
           155,
           170,
           178,
           206,
           191,
           154,
           157,
           164,
           175,
           173,
           176,
           183
          ],
          [
           168,
           165,
           185,
           195,
           191,
           158,
           160,
           158,
           164,
           168,
           160,
           174
          ],
          [
           162,
           156,
           151,
           166,
           182,
           156,
           172,
           167,
           165,
           192,
           201,
           167
          ],
          [
           155,
           157,
           163,
           150,
           152,
           151,
           169,
           184,
           193,
           193,
           177,
           175
          ]
         ]
        },
        {
         "coloraxis": "coloraxis",
         "hovertemplate": "x: %{x}<br>y: %{y}<br>color: %{z}<extra></extra>",
         "name": "0",
         "type": "heatmap",
         "xaxis": "x9",
         "yaxis": "y9",
         "z": [
          [
           126,
           139,
           144,
           150,
           144,
           145,
           150,
           146,
           146,
           171,
           163,
           169
          ],
          [
           152,
           141,
           139,
           138,
           144,
           155,
           157,
           171,
           174,
           154,
           157,
           164
          ],
          [
           144,
           156,
           155,
           147,
           155,
           146,
           186,
           202,
           182,
           164,
           148,
           165
          ],
          [
           145,
           147,
           149,
           148,
           150,
           160,
           165,
           169,
           184,
           161,
           170,
           167
          ],
          [
           146,
           149,
           158,
           158,
           153,
           158,
           167,
           164,
           173,
           185,
           179,
           164
          ],
          [
           153,
           163,
           152,
           158,
           166,
           164,
           181,
           190,
           182,
           169,
           171,
           162
          ],
          [
           148,
           150,
           153,
           149,
           175,
           194,
           211,
           210,
           211,
           179,
           177,
           166
          ],
          [
           143,
           154,
           165,
           160,
           170,
           189,
           235,
           216,
           177,
           175,
           181,
           165
          ],
          [
           147,
           148,
           164,
           160,
           153,
           175,
           177,
           167,
           169,
           161,
           155,
           172
          ],
          [
           166,
           173,
           170,
           166,
           162,
           155,
           168,
           175,
           174,
           163,
           173,
           195
          ],
          [
           159,
           173,
           175,
           163,
           155,
           157,
           174,
           157,
           172,
           157,
           166,
           187
          ],
          [
           163,
           146,
           166,
           162,
           148,
           155,
           165,
           165,
           170,
           178,
           176,
           186
          ]
         ]
        },
        {
         "coloraxis": "coloraxis",
         "hovertemplate": "x: %{x}<br>y: %{y}<br>color: %{z}<extra></extra>",
         "name": "0",
         "type": "heatmap",
         "xaxis": "x10",
         "yaxis": "y10",
         "z": [
          [
           134,
           136,
           126,
           125,
           128,
           128,
           139,
           140,
           143,
           143,
           145,
           141
          ],
          [
           136,
           132,
           139,
           130,
           131,
           134,
           138,
           136,
           151,
           149,
           137,
           139
          ],
          [
           132,
           131,
           134,
           139,
           149,
           146,
           142,
           147,
           144,
           162,
           151,
           151
          ],
          [
           134,
           136,
           136,
           143,
           145,
           142,
           155,
           157,
           158,
           168,
           161,
           148
          ],
          [
           143,
           140,
           145,
           149,
           158,
           167,
           169,
           198,
           192,
           182,
           184,
           175
          ],
          [
           146,
           148,
           153,
           172,
           152,
           160,
           168,
           197,
           188,
           175,
           169,
           161
          ],
          [
           147,
           144,
           147,
           150,
           156,
           168,
           179,
           209,
           203,
           186,
           179,
           188
          ],
          [
           143,
           149,
           159,
           164,
           184,
           183,
           226,
           253,
           225,
           202,
           193,
           185
          ],
          [
           144,
           154,
           151,
           156,
           174,
           184,
           193,
           210,
           225,
           201,
           182,
           198
          ],
          [
           143,
           157,
           153,
           165,
           154,
           172,
           171,
           174,
           165,
           168,
           167,
           171
          ],
          [
           144,
           145,
           154,
           150,
           156,
           151,
           153,
           165,
           173,
           164,
           161,
           157
          ],
          [
           147,
           170,
           179,
           166,
           140,
           151,
           145,
           146,
           154,
           152,
           169,
           175
          ]
         ]
        },
        {
         "coloraxis": "coloraxis",
         "hovertemplate": "x: %{x}<br>y: %{y}<br>color: %{z}<extra></extra>",
         "name": "0",
         "type": "heatmap",
         "xaxis": "x11",
         "yaxis": "y11",
         "z": [
          [
           140,
           149,
           139,
           137,
           145,
           148,
           143,
           141,
           143,
           139,
           144,
           160
          ],
          [
           144,
           149,
           140,
           149,
           147,
           151,
           155,
           177,
           169,
           147,
           158,
           154
          ],
          [
           138,
           143,
           142,
           141,
           146,
           160,
           172,
           166,
           171,
           167,
           178,
           154
          ],
          [
           145,
           157,
           160,
           149,
           162,
           161,
           170,
           165,
           166,
           177,
           153,
           162
          ],
          [
           142,
           146,
           148,
           146,
           150,
           156,
           150,
           172,
           169,
           171,
           181,
           184
          ],
          [
           149,
           154,
           159,
           152,
           174,
           165,
           185,
           199,
           195,
           166,
           189,
           185
          ],
          [
           147,
           148,
           149,
           154,
           163,
           194,
           227,
           242,
           226,
           177,
           190,
           187
          ],
          [
           142,
           142,
           157,
           169,
           163,
           168,
           197,
           199,
           193,
           162,
           163,
           204
          ],
          [
           144,
           153,
           146,
           153,
           154,
           154,
           166,
           173,
           173,
           162,
           192,
           173
          ],
          [
           146,
           145,
           151,
           160,
           162,
           151,
           155,
           157,
           169,
           160,
           158,
           174
          ],
          [
           155,
           162,
           165,
           152,
           153,
           161,
           160,
           182,
           168,
           164,
           160,
           167
          ],
          [
           173,
           192,
           181,
           155,
           152,
           164,
           160,
           161,
           168,
           172,
           164,
           172
          ]
         ]
        },
        {
         "coloraxis": "coloraxis",
         "hovertemplate": "x: %{x}<br>y: %{y}<br>color: %{z}<extra></extra>",
         "name": "0",
         "type": "heatmap",
         "xaxis": "x12",
         "yaxis": "y12",
         "z": [
          [
           131,
           135,
           136,
           134,
           140,
           144,
           138,
           138,
           144,
           148,
           149,
           140
          ],
          [
           135,
           134,
           139,
           145,
           137,
           142,
           146,
           156,
           151,
           159,
           145,
           150
          ],
          [
           142,
           142,
           134,
           132,
           142,
           140,
           150,
           163,
           156,
           148,
           148,
           144
          ],
          [
           159,
           138,
           142,
           142,
           154,
           172,
           170,
           170,
           180,
           158,
           157,
           152
          ],
          [
           147,
           150,
           150,
           150,
           152,
           169,
           182,
           177,
           169,
           177,
           163,
           153
          ],
          [
           140,
           146,
           150,
           151,
           166,
           182,
           181,
           169,
           174,
           162,
           162,
           153
          ],
          [
           151,
           153,
           160,
           166,
           174,
           190,
           242,
           225,
           210,
           209,
           167,
           169
          ],
          [
           141,
           146,
           160,
           174,
           175,
           216,
           217,
           233,
           242,
           203,
           186,
           177
          ],
          [
           143,
           143,
           158,
           156,
           164,
           176,
           245,
           229,
           212,
           193,
           172,
           186
          ],
          [
           160,
           151,
           157,
           154,
           160,
           153,
           164,
           183,
           182,
           174,
           165,
           179
          ],
          [
           147,
           149,
           139,
           156,
           176,
           153,
           166,
           167,
           156,
           154,
           164,
           169
          ],
          [
           146,
           141,
           139,
           139,
           146,
           173,
           158,
           163,
           159,
           171,
           169,
           173
          ]
         ]
        },
        {
         "coloraxis": "coloraxis",
         "hovertemplate": "x: %{x}<br>y: %{y}<br>color: %{z}<extra></extra>",
         "name": "0",
         "type": "heatmap",
         "xaxis": "x13",
         "yaxis": "y13",
         "z": [
          [
           135,
           127,
           133,
           136,
           134,
           140,
           149,
           148,
           145,
           154,
           153,
           139
          ],
          [
           131,
           136,
           135,
           135,
           136,
           152,
           145,
           150,
           155,
           153,
           146,
           144
          ],
          [
           143,
           160,
           157,
           141,
           144,
           149,
           156,
           152,
           157,
           175,
           160,
           155
          ],
          [
           133,
           142,
           144,
           146,
           151,
           159,
           170,
           176,
           169,
           159,
           155,
           155
          ],
          [
           148,
           142,
           146,
           151,
           176,
           168,
           168,
           170,
           187,
           173,
           161,
           161
          ],
          [
           142,
           141,
           148,
           151,
           156,
           164,
           172,
           177,
           173,
           167,
           159,
           159
          ],
          [
           152,
           154,
           172,
           162,
           178,
           190,
           236,
           180,
           163,
           157,
           165,
           163
          ],
          [
           150,
           152,
           161,
           173,
           235,
           222,
           240,
           215,
           179,
           160,
           173,
           175
          ],
          [
           156,
           162,
           158,
           168,
           205,
           217,
           213,
           222,
           193,
           171,
           178,
           196
          ],
          [
           146,
           146,
           160,
           190,
           167,
           183,
           190,
           170,
           171,
           174,
           173,
           176
          ],
          [
           143,
           140,
           163,
           158,
           150,
           172,
           165,
           159,
           159,
           162,
           161,
           165
          ],
          [
           147,
           142,
           155,
           160,
           158,
           162,
           167,
           166,
           173,
           166,
           170,
           192
          ]
         ]
        },
        {
         "coloraxis": "coloraxis",
         "hovertemplate": "x: %{x}<br>y: %{y}<br>color: %{z}<extra></extra>",
         "name": "0",
         "type": "heatmap",
         "xaxis": "x14",
         "yaxis": "y14",
         "z": [
          [
           135,
           140,
           135,
           137,
           144,
           143,
           152,
           180,
           171,
           156,
           161,
           150
          ],
          [
           134,
           139,
           139,
           140,
           156,
           158,
           169,
           168,
           171,
           162,
           160,
           158
          ],
          [
           142,
           170,
           155,
           146,
           156,
           183,
           193,
           186,
           184,
           165,
           164,
           152
          ],
          [
           145,
           144,
           147,
           143,
           153,
           156,
           174,
           169,
           173,
           177,
           163,
           163
          ],
          [
           152,
           147,
           158,
           168,
           155,
           169,
           166,
           174,
           161,
           184,
           181,
           224
          ],
          [
           157,
           159,
           146,
           151,
           169,
           186,
           195,
           204,
           190,
           179,
           166,
           185
          ],
          [
           147,
           156,
           159,
           175,
           196,
           212,
           213,
           236,
           187,
           175,
           176,
           182
          ],
          [
           149,
           171,
           157,
           170,
           157,
           173,
           226,
           220,
           186,
           175,
           176,
           200
          ],
          [
           159,
           156,
           158,
           158,
           168,
           167,
           166,
           172,
           193,
           170,
           171,
           179
          ],
          [
           161,
           157,
           151,
           145,
           175,
           169,
           155,
           154,
           190,
           198,
           194,
           197
          ],
          [
           197,
           194,
           171,
           153,
           149,
           145,
           152,
           170,
           170,
           171,
           164,
           169
          ],
          [
           193,
           163,
           152,
           158,
           149,
           161,
           168,
           176,
           179,
           179,
           176,
           171
          ]
         ]
        },
        {
         "coloraxis": "coloraxis",
         "hovertemplate": "x: %{x}<br>y: %{y}<br>color: %{z}<extra></extra>",
         "name": "0",
         "type": "heatmap",
         "xaxis": "x15",
         "yaxis": "y15",
         "z": [
          [
           138,
           140,
           132,
           131,
           130,
           131,
           139,
           140,
           144,
           142,
           160,
           166
          ],
          [
           146,
           141,
           133,
           141,
           142,
           140,
           144,
           154,
           155,
           170,
           152,
           169
          ],
          [
           135,
           148,
           146,
           142,
           160,
           160,
           152,
           152,
           162,
           159,
           170,
           156
          ],
          [
           150,
           139,
           154,
           147,
           158,
           159,
           176,
           207,
           180,
           167,
           163,
           153
          ],
          [
           137,
           140,
           149,
           151,
           156,
           180,
           185,
           181,
           189,
           169,
           170,
           164
          ],
          [
           162,
           162,
           158,
           163,
           168,
           168,
           189,
           188,
           191,
           184,
           169,
           181
          ],
          [
           143,
           148,
           159,
           157,
           188,
           173,
           208,
           232,
           205,
           216,
           181,
           169
          ],
          [
           154,
           156,
           157,
           161,
           166,
           186,
           211,
           214,
           196,
           208,
           182,
           176
          ],
          [
           149,
           141,
           151,
           160,
           166,
           178,
           171,
           165,
           164,
           171,
           171,
           188
          ],
          [
           149,
           151,
           158,
           158,
           156,
           149,
           149,
           147,
           160,
           161,
           169,
           170
          ],
          [
           216,
           211,
           175,
           151,
           142,
           146,
           157,
           167,
           159,
           177,
           181,
           174
          ],
          [
           226,
           219,
           207,
           171,
           154,
           159,
           156,
           158,
           155,
           174,
           187,
           171
          ]
         ]
        },
        {
         "coloraxis": "coloraxis",
         "hovertemplate": "x: %{x}<br>y: %{y}<br>color: %{z}<extra></extra>",
         "name": "0",
         "type": "heatmap",
         "xaxis": "x16",
         "yaxis": "y16",
         "z": [
          [
           141,
           135,
           137,
           148,
           150,
           139,
           143,
           149,
           160,
           152,
           150,
           152
          ],
          [
           139,
           140,
           146,
           144,
           158,
           172,
           156,
           154,
           151,
           148,
           152,
           149
          ],
          [
           148,
           145,
           153,
           153,
           161,
           152,
           157,
           161,
           157,
           154,
           155,
           158
          ],
          [
           147,
           146,
           148,
           155,
           164,
           164,
           168,
           168,
           162,
           154,
           169,
           155
          ],
          [
           150,
           151,
           149,
           176,
           167,
           181,
           178,
           182,
           160,
           177,
           153,
           159
          ],
          [
           155,
           167,
           173,
           158,
           196,
           189,
           212,
           191,
           178,
           176,
           176,
           173
          ],
          [
           148,
           158,
           157,
           163,
           195,
           222,
           215,
           217,
           205,
           180,
           175,
           181
          ],
          [
           148,
           155,
           153,
           172,
           216,
           208,
           230,
           209,
           200,
           177,
           191,
           186
          ],
          [
           161,
           161,
           165,
           154,
           165,
           181,
           182,
           193,
           197,
           186,
           175,
           166
          ],
          [
           147,
           152,
           159,
           147,
           166,
           159,
           162,
           167,
           201,
           167,
           179,
           176
          ],
          [
           201,
           177,
           153,
           143,
           159,
           150,
           168,
           188,
           219,
           189,
           175,
           182
          ],
          [
           205,
           172,
           157,
           157,
           163,
           147,
           155,
           163,
           175,
           173,
           166,
           153
          ]
         ]
        },
        {
         "coloraxis": "coloraxis",
         "hovertemplate": "x: %{x}<br>y: %{y}<br>color: %{z}<extra></extra>",
         "name": "0",
         "type": "heatmap",
         "xaxis": "x17",
         "yaxis": "y17",
         "z": [
          [
           141,
           142,
           136,
           151,
           161,
           143,
           142,
           136,
           146,
           151,
           150,
           149
          ],
          [
           145,
           133,
           133,
           137,
           155,
           155,
           153,
           143,
           142,
           150,
           153,
           147
          ],
          [
           141,
           147,
           156,
           144,
           144,
           142,
           161,
           170,
           154,
           164,
           160,
           151
          ],
          [
           144,
           147,
           141,
           143,
           149,
           149,
           166,
           169,
           166,
           177,
           153,
           155
          ],
          [
           154,
           145,
           155,
           161,
           158,
           173,
           170,
           192,
           197,
           189,
           171,
           170
          ],
          [
           142,
           157,
           154,
           156,
           161,
           169,
           207,
           209,
           207,
           202,
           175,
           173
          ],
          [
           131,
           144,
           151,
           158,
           164,
           174,
           198,
           215,
           220,
           184,
           171,
           166
          ],
          [
           140,
           138,
           150,
           153,
           176,
           183,
           207,
           224,
           203,
           193,
           188,
           180
          ],
          [
           151,
           144,
           147,
           158,
           151,
           161,
           157,
           189,
           168,
           168,
           165,
           163
          ],
          [
           161,
           158,
           156,
           153,
           153,
           142,
           149,
           166,
           167,
           165,
           185,
           207
          ],
          [
           189,
           180,
           156,
           152,
           151,
           149,
           152,
           169,
           175,
           188,
           180,
           191
          ],
          [
           159,
           182,
           160,
           156,
           153,
           152,
           145,
           152,
           146,
           154,
           164,
           169
          ]
         ]
        },
        {
         "coloraxis": "coloraxis",
         "hovertemplate": "x: %{x}<br>y: %{y}<br>color: %{z}<extra></extra>",
         "name": "0",
         "type": "heatmap",
         "xaxis": "x18",
         "yaxis": "y18",
         "z": [
          [
           138,
           140,
           147,
           140,
           144,
           152,
           155,
           150,
           148,
           154,
           150,
           151
          ],
          [
           131,
           141,
           148,
           151,
           158,
           156,
           153,
           142,
           173,
           157,
           159,
           177
          ],
          [
           151,
           137,
           135,
           142,
           145,
           163,
           162,
           168,
           168,
           170,
           163,
           163
          ],
          [
           144,
           142,
           153,
           161,
           178,
           193,
           212,
           205,
           187,
           180,
           170,
           157
          ],
          [
           144,
           149,
           155,
           167,
           186,
           201,
           224,
           236,
           204,
           171,
           161,
           156
          ],
          [
           152,
           157,
           168,
           160,
           167,
           171,
           216,
           223,
           207,
           189,
           178,
           172
          ],
          [
           161,
           155,
           159,
           163,
           194,
           187,
           190,
           229,
           198,
           179,
           181,
           165
          ],
          [
           159,
           147,
           152,
           168,
           195,
           219,
           202,
           220,
           194,
           186,
           174,
           169
          ],
          [
           156,
           156,
           179,
           168,
           170,
           210,
           192,
           191,
           190,
           174,
           180,
           179
          ],
          [
           222,
           183,
           184,
           164,
           180,
           172,
           188,
           184,
           184,
           184,
           199,
           179
          ],
          [
           177,
           190,
           167,
           169,
           185,
           169,
           200,
           191,
           199,
           211,
           223,
           195
          ],
          [
           158,
           157,
           152,
           154,
           214,
           173,
           180,
           166,
           183,
           193,
           177,
           188
          ]
         ]
        },
        {
         "coloraxis": "coloraxis",
         "hovertemplate": "x: %{x}<br>y: %{y}<br>color: %{z}<extra></extra>",
         "name": "0",
         "type": "heatmap",
         "xaxis": "x19",
         "yaxis": "y19",
         "z": [
          [
           161,
           150,
           151,
           152,
           140,
           142,
           138,
           143,
           146,
           146,
           153,
           147
          ],
          [
           160,
           148,
           151,
           142,
           147,
           144,
           157,
           153,
           151,
           156,
           160,
           155
          ],
          [
           141,
           146,
           148,
           146,
           149,
           165,
           158,
           145,
           150,
           152,
           176,
           168
          ],
          [
           153,
           138,
           147,
           153,
           146,
           179,
           159,
           181,
           174,
           155,
           144,
           150
          ],
          [
           147,
           147,
           142,
           153,
           160,
           169,
           192,
           197,
           196,
           177,
           184,
           172
          ],
          [
           149,
           156,
           151,
           158,
           194,
           204,
           214,
           222,
           219,
           197,
           175,
           171
          ],
          [
           155,
           163,
           163,
           170,
           204,
           254,
           246,
           237,
           221,
           185,
           169,
           170
          ],
          [
           144,
           149,
           159,
           168,
           185,
           215,
           252,
           291,
           221,
           197,
           183,
           175
          ],
          [
           156,
           152,
           162,
           161,
           163,
           177,
           183,
           201,
           222,
           190,
           166,
           167
          ],
          [
           146,
           153,
           146,
           146,
           158,
           166,
           167,
           166,
           176,
           177,
           177,
           168
          ],
          [
           157,
           168,
           195,
           172,
           154,
           150,
           156,
           159,
           166,
           190,
           187,
           199
          ],
          [
           163,
           180,
           191,
           184,
           163,
           152,
           152,
           156,
           167,
           175,
           186,
           192
          ]
         ]
        },
        {
         "coloraxis": "coloraxis",
         "hovertemplate": "x: %{x}<br>y: %{y}<br>color: %{z}<extra></extra>",
         "name": "0",
         "type": "heatmap",
         "xaxis": "x20",
         "yaxis": "y20",
         "z": [
          [
           144,
           140,
           145,
           140,
           135,
           143,
           140,
           148,
           143,
           143,
           144,
           140
          ],
          [
           135,
           138,
           141,
           135,
           138,
           147,
           151,
           155,
           161,
           150,
           143,
           147
          ],
          [
           144,
           137,
           144,
           142,
           144,
           144,
           160,
           160,
           167,
           151,
           152,
           149
          ],
          [
           143,
           143,
           142,
           144,
           158,
           151,
           167,
           202,
           187,
           159,
           152,
           151
          ],
          [
           145,
           144,
           151,
           152,
           163,
           176,
           204,
           200,
           196,
           179,
           169,
           162
          ],
          [
           154,
           144,
           168,
           168,
           168,
           183,
           206,
           226,
           206,
           202,
           192,
           182
          ],
          [
           152,
           151,
           165,
           169,
           177,
           210,
           235,
           256,
           225,
           202,
           184,
           166
          ],
          [
           159,
           173,
           158,
           174,
           177,
           206,
           235,
           255,
           216,
           195,
           183,
           183
          ],
          [
           164,
           154,
           154,
           160,
           176,
           196,
           202,
           198,
           193,
           182,
           175,
           180
          ],
          [
           154,
           187,
           164,
           169,
           174,
           165,
           173,
           171,
           178,
           182,
           198,
           190
          ],
          [
           164,
           227,
           222,
           199,
           166,
           153,
           160,
           172,
           167,
           193,
           198,
           193
          ],
          [
           152,
           166,
           179,
           158,
           148,
           164,
           153,
           159,
           163,
           164,
           191,
           185
          ]
         ]
        },
        {
         "coloraxis": "coloraxis",
         "hovertemplate": "x: %{x}<br>y: %{y}<br>color: %{z}<extra></extra>",
         "name": "0",
         "type": "heatmap",
         "xaxis": "x21",
         "yaxis": "y21",
         "z": [
          [
           143,
           144,
           144,
           133,
           135,
           134,
           130,
           137,
           150,
           147,
           157,
           147
          ],
          [
           149,
           140,
           146,
           146,
           141,
           134,
           146,
           142,
           150,
           147,
           150,
           151
          ],
          [
           133,
           139,
           136,
           134,
           140,
           143,
           144,
           141,
           160,
           154,
           158,
           155
          ],
          [
           141,
           135,
           148,
           161,
           148,
           144,
           167,
           156,
           159,
           161,
           162,
           171
          ],
          [
           137,
           139,
           162,
           153,
           153,
           181,
           167,
           176,
           169,
           157,
           147,
           157
          ],
          [
           143,
           149,
           158,
           172,
           168,
           189,
           214,
           212,
           180,
           184,
           166,
           154
          ],
          [
           148,
           160,
           187,
           162,
           193,
           200,
           231,
           216,
           234,
           212,
           184,
           159
          ],
          [
           153,
           162,
           169,
           185,
           178,
           218,
           227,
           224,
           207,
           194,
           179,
           171
          ],
          [
           173,
           184,
           186,
           185,
           193,
           201,
           207,
           212,
           220,
           187,
           174,
           183
          ],
          [
           184,
           189,
           195,
           160,
           165,
           156,
           177,
           175,
           166,
           167,
           164,
           177
          ],
          [
           172,
           176,
           151,
           153,
           155,
           159,
           159,
           170,
           184,
           189,
           195,
           182
          ],
          [
           136,
           151,
           169,
           153,
           155,
           155,
           151,
           161,
           179,
           192,
           217,
           263
          ]
         ]
        }
       ],
       "layout": {
        "annotations": [
         {
          "font": {
           "size": 16
          },
          "showarrow": false,
          "text": "frame_1",
          "x": 0.05918367346938775,
          "xanchor": "center",
          "xref": "paper",
          "y": 1,
          "yanchor": "bottom",
          "yref": "paper"
         },
         {
          "font": {
           "size": 16
          },
          "showarrow": false,
          "text": "frame_2",
          "x": 0.2061224489795918,
          "xanchor": "center",
          "xref": "paper",
          "y": 1,
          "yanchor": "bottom",
          "yref": "paper"
         },
         {
          "font": {
           "size": 16
          },
          "showarrow": false,
          "text": "frame_3",
          "x": 0.3530612244897959,
          "xanchor": "center",
          "xref": "paper",
          "y": 1,
          "yanchor": "bottom",
          "yref": "paper"
         },
         {
          "font": {
           "size": 16
          },
          "showarrow": false,
          "text": "frame_4",
          "x": 0.49999999999999994,
          "xanchor": "center",
          "xref": "paper",
          "y": 1,
          "yanchor": "bottom",
          "yref": "paper"
         },
         {
          "font": {
           "size": 16
          },
          "showarrow": false,
          "text": "frame_5",
          "x": 0.6469387755102041,
          "xanchor": "center",
          "xref": "paper",
          "y": 1,
          "yanchor": "bottom",
          "yref": "paper"
         },
         {
          "font": {
           "size": 16
          },
          "showarrow": false,
          "text": "frame_6",
          "x": 0.7938775510204081,
          "xanchor": "center",
          "xref": "paper",
          "y": 1,
          "yanchor": "bottom",
          "yref": "paper"
         },
         {
          "font": {
           "size": 16
          },
          "showarrow": false,
          "text": "frame_7",
          "x": 0.9408163265306122,
          "xanchor": "center",
          "xref": "paper",
          "y": 1,
          "yanchor": "bottom",
          "yref": "paper"
         },
         {
          "font": {
           "size": 16
          },
          "showarrow": false,
          "text": "frame_8",
          "x": 0.05918367346938775,
          "xanchor": "center",
          "xref": "paper",
          "y": 0.71875,
          "yanchor": "bottom",
          "yref": "paper"
         },
         {
          "font": {
           "size": 16
          },
          "showarrow": false,
          "text": "frame_9",
          "x": 0.2061224489795918,
          "xanchor": "center",
          "xref": "paper",
          "y": 0.71875,
          "yanchor": "bottom",
          "yref": "paper"
         },
         {
          "font": {
           "size": 16
          },
          "showarrow": false,
          "text": "frame_10",
          "x": 0.3530612244897959,
          "xanchor": "center",
          "xref": "paper",
          "y": 0.71875,
          "yanchor": "bottom",
          "yref": "paper"
         },
         {
          "font": {
           "size": 16
          },
          "showarrow": false,
          "text": "frame_11",
          "x": 0.49999999999999994,
          "xanchor": "center",
          "xref": "paper",
          "y": 0.71875,
          "yanchor": "bottom",
          "yref": "paper"
         },
         {
          "font": {
           "size": 16
          },
          "showarrow": false,
          "text": "frame_12",
          "x": 0.6469387755102041,
          "xanchor": "center",
          "xref": "paper",
          "y": 0.71875,
          "yanchor": "bottom",
          "yref": "paper"
         },
         {
          "font": {
           "size": 16
          },
          "showarrow": false,
          "text": "frame_13",
          "x": 0.7938775510204081,
          "xanchor": "center",
          "xref": "paper",
          "y": 0.71875,
          "yanchor": "bottom",
          "yref": "paper"
         },
         {
          "font": {
           "size": 16
          },
          "showarrow": false,
          "text": "frame_14",
          "x": 0.9408163265306122,
          "xanchor": "center",
          "xref": "paper",
          "y": 0.71875,
          "yanchor": "bottom",
          "yref": "paper"
         },
         {
          "font": {
           "size": 16
          },
          "showarrow": false,
          "text": "frame_15",
          "x": 0.05918367346938775,
          "xanchor": "center",
          "xref": "paper",
          "y": 0.4375,
          "yanchor": "bottom",
          "yref": "paper"
         },
         {
          "font": {
           "size": 16
          },
          "showarrow": false,
          "text": "frame_16",
          "x": 0.2061224489795918,
          "xanchor": "center",
          "xref": "paper",
          "y": 0.4375,
          "yanchor": "bottom",
          "yref": "paper"
         },
         {
          "font": {
           "size": 16
          },
          "showarrow": false,
          "text": "frame_17",
          "x": 0.3530612244897959,
          "xanchor": "center",
          "xref": "paper",
          "y": 0.4375,
          "yanchor": "bottom",
          "yref": "paper"
         },
         {
          "font": {
           "size": 16
          },
          "showarrow": false,
          "text": "frame_18",
          "x": 0.49999999999999994,
          "xanchor": "center",
          "xref": "paper",
          "y": 0.4375,
          "yanchor": "bottom",
          "yref": "paper"
         },
         {
          "font": {
           "size": 16
          },
          "showarrow": false,
          "text": "frame_19",
          "x": 0.6469387755102041,
          "xanchor": "center",
          "xref": "paper",
          "y": 0.4375,
          "yanchor": "bottom",
          "yref": "paper"
         },
         {
          "font": {
           "size": 16
          },
          "showarrow": false,
          "text": "frame_20",
          "x": 0.7938775510204081,
          "xanchor": "center",
          "xref": "paper",
          "y": 0.4375,
          "yanchor": "bottom",
          "yref": "paper"
         },
         {
          "font": {
           "size": 16
          },
          "showarrow": false,
          "text": "frame_21",
          "x": 0.9408163265306122,
          "xanchor": "center",
          "xref": "paper",
          "y": 0.4375,
          "yanchor": "bottom",
          "yref": "paper"
         },
         {
          "font": {
           "color": "black",
           "size": 40
          },
          "showarrow": false,
          "text": "Frame",
          "x": 0.5,
          "xanchor": "center",
          "xref": "paper",
          "y": 0,
          "yanchor": "top",
          "yref": "paper",
          "yshift": -30
         },
         {
          "font": {
           "color": "black",
           "size": 40
          },
          "showarrow": false,
          "text": "Intensity",
          "textangle": -90,
          "x": 0,
          "xanchor": "right",
          "xref": "paper",
          "xshift": -40,
          "y": 0.5,
          "yanchor": "middle",
          "yref": "paper"
         }
        ],
        "template": {
         "data": {
          "bar": [
           {
            "error_x": {
             "color": "#2a3f5f"
            },
            "error_y": {
             "color": "#2a3f5f"
            },
            "marker": {
             "line": {
              "color": "#E5ECF6",
              "width": 0.5
             },
             "pattern": {
              "fillmode": "overlay",
              "size": 10,
              "solidity": 0.2
             }
            },
            "type": "bar"
           }
          ],
          "barpolar": [
           {
            "marker": {
             "line": {
              "color": "#E5ECF6",
              "width": 0.5
             },
             "pattern": {
              "fillmode": "overlay",
              "size": 10,
              "solidity": 0.2
             }
            },
            "type": "barpolar"
           }
          ],
          "carpet": [
           {
            "aaxis": {
             "endlinecolor": "#2a3f5f",
             "gridcolor": "white",
             "linecolor": "white",
             "minorgridcolor": "white",
             "startlinecolor": "#2a3f5f"
            },
            "baxis": {
             "endlinecolor": "#2a3f5f",
             "gridcolor": "white",
             "linecolor": "white",
             "minorgridcolor": "white",
             "startlinecolor": "#2a3f5f"
            },
            "type": "carpet"
           }
          ],
          "choropleth": [
           {
            "colorbar": {
             "outlinewidth": 0,
             "ticks": ""
            },
            "type": "choropleth"
           }
          ],
          "contour": [
           {
            "colorbar": {
             "outlinewidth": 0,
             "ticks": ""
            },
            "colorscale": [
             [
              0,
              "#0d0887"
             ],
             [
              0.1111111111111111,
              "#46039f"
             ],
             [
              0.2222222222222222,
              "#7201a8"
             ],
             [
              0.3333333333333333,
              "#9c179e"
             ],
             [
              0.4444444444444444,
              "#bd3786"
             ],
             [
              0.5555555555555556,
              "#d8576b"
             ],
             [
              0.6666666666666666,
              "#ed7953"
             ],
             [
              0.7777777777777778,
              "#fb9f3a"
             ],
             [
              0.8888888888888888,
              "#fdca26"
             ],
             [
              1,
              "#f0f921"
             ]
            ],
            "type": "contour"
           }
          ],
          "contourcarpet": [
           {
            "colorbar": {
             "outlinewidth": 0,
             "ticks": ""
            },
            "type": "contourcarpet"
           }
          ],
          "heatmap": [
           {
            "colorbar": {
             "outlinewidth": 0,
             "ticks": ""
            },
            "colorscale": [
             [
              0,
              "#0d0887"
             ],
             [
              0.1111111111111111,
              "#46039f"
             ],
             [
              0.2222222222222222,
              "#7201a8"
             ],
             [
              0.3333333333333333,
              "#9c179e"
             ],
             [
              0.4444444444444444,
              "#bd3786"
             ],
             [
              0.5555555555555556,
              "#d8576b"
             ],
             [
              0.6666666666666666,
              "#ed7953"
             ],
             [
              0.7777777777777778,
              "#fb9f3a"
             ],
             [
              0.8888888888888888,
              "#fdca26"
             ],
             [
              1,
              "#f0f921"
             ]
            ],
            "type": "heatmap"
           }
          ],
          "heatmapgl": [
           {
            "colorbar": {
             "outlinewidth": 0,
             "ticks": ""
            },
            "colorscale": [
             [
              0,
              "#0d0887"
             ],
             [
              0.1111111111111111,
              "#46039f"
             ],
             [
              0.2222222222222222,
              "#7201a8"
             ],
             [
              0.3333333333333333,
              "#9c179e"
             ],
             [
              0.4444444444444444,
              "#bd3786"
             ],
             [
              0.5555555555555556,
              "#d8576b"
             ],
             [
              0.6666666666666666,
              "#ed7953"
             ],
             [
              0.7777777777777778,
              "#fb9f3a"
             ],
             [
              0.8888888888888888,
              "#fdca26"
             ],
             [
              1,
              "#f0f921"
             ]
            ],
            "type": "heatmapgl"
           }
          ],
          "histogram": [
           {
            "marker": {
             "pattern": {
              "fillmode": "overlay",
              "size": 10,
              "solidity": 0.2
             }
            },
            "type": "histogram"
           }
          ],
          "histogram2d": [
           {
            "colorbar": {
             "outlinewidth": 0,
             "ticks": ""
            },
            "colorscale": [
             [
              0,
              "#0d0887"
             ],
             [
              0.1111111111111111,
              "#46039f"
             ],
             [
              0.2222222222222222,
              "#7201a8"
             ],
             [
              0.3333333333333333,
              "#9c179e"
             ],
             [
              0.4444444444444444,
              "#bd3786"
             ],
             [
              0.5555555555555556,
              "#d8576b"
             ],
             [
              0.6666666666666666,
              "#ed7953"
             ],
             [
              0.7777777777777778,
              "#fb9f3a"
             ],
             [
              0.8888888888888888,
              "#fdca26"
             ],
             [
              1,
              "#f0f921"
             ]
            ],
            "type": "histogram2d"
           }
          ],
          "histogram2dcontour": [
           {
            "colorbar": {
             "outlinewidth": 0,
             "ticks": ""
            },
            "colorscale": [
             [
              0,
              "#0d0887"
             ],
             [
              0.1111111111111111,
              "#46039f"
             ],
             [
              0.2222222222222222,
              "#7201a8"
             ],
             [
              0.3333333333333333,
              "#9c179e"
             ],
             [
              0.4444444444444444,
              "#bd3786"
             ],
             [
              0.5555555555555556,
              "#d8576b"
             ],
             [
              0.6666666666666666,
              "#ed7953"
             ],
             [
              0.7777777777777778,
              "#fb9f3a"
             ],
             [
              0.8888888888888888,
              "#fdca26"
             ],
             [
              1,
              "#f0f921"
             ]
            ],
            "type": "histogram2dcontour"
           }
          ],
          "mesh3d": [
           {
            "colorbar": {
             "outlinewidth": 0,
             "ticks": ""
            },
            "type": "mesh3d"
           }
          ],
          "parcoords": [
           {
            "line": {
             "colorbar": {
              "outlinewidth": 0,
              "ticks": ""
             }
            },
            "type": "parcoords"
           }
          ],
          "pie": [
           {
            "automargin": true,
            "type": "pie"
           }
          ],
          "scatter": [
           {
            "fillpattern": {
             "fillmode": "overlay",
             "size": 10,
             "solidity": 0.2
            },
            "type": "scatter"
           }
          ],
          "scatter3d": [
           {
            "line": {
             "colorbar": {
              "outlinewidth": 0,
              "ticks": ""
             }
            },
            "marker": {
             "colorbar": {
              "outlinewidth": 0,
              "ticks": ""
             }
            },
            "type": "scatter3d"
           }
          ],
          "scattercarpet": [
           {
            "marker": {
             "colorbar": {
              "outlinewidth": 0,
              "ticks": ""
             }
            },
            "type": "scattercarpet"
           }
          ],
          "scattergeo": [
           {
            "marker": {
             "colorbar": {
              "outlinewidth": 0,
              "ticks": ""
             }
            },
            "type": "scattergeo"
           }
          ],
          "scattergl": [
           {
            "marker": {
             "colorbar": {
              "outlinewidth": 0,
              "ticks": ""
             }
            },
            "type": "scattergl"
           }
          ],
          "scattermapbox": [
           {
            "marker": {
             "colorbar": {
              "outlinewidth": 0,
              "ticks": ""
             }
            },
            "type": "scattermapbox"
           }
          ],
          "scatterpolar": [
           {
            "marker": {
             "colorbar": {
              "outlinewidth": 0,
              "ticks": ""
             }
            },
            "type": "scatterpolar"
           }
          ],
          "scatterpolargl": [
           {
            "marker": {
             "colorbar": {
              "outlinewidth": 0,
              "ticks": ""
             }
            },
            "type": "scatterpolargl"
           }
          ],
          "scatterternary": [
           {
            "marker": {
             "colorbar": {
              "outlinewidth": 0,
              "ticks": ""
             }
            },
            "type": "scatterternary"
           }
          ],
          "surface": [
           {
            "colorbar": {
             "outlinewidth": 0,
             "ticks": ""
            },
            "colorscale": [
             [
              0,
              "#0d0887"
             ],
             [
              0.1111111111111111,
              "#46039f"
             ],
             [
              0.2222222222222222,
              "#7201a8"
             ],
             [
              0.3333333333333333,
              "#9c179e"
             ],
             [
              0.4444444444444444,
              "#bd3786"
             ],
             [
              0.5555555555555556,
              "#d8576b"
             ],
             [
              0.6666666666666666,
              "#ed7953"
             ],
             [
              0.7777777777777778,
              "#fb9f3a"
             ],
             [
              0.8888888888888888,
              "#fdca26"
             ],
             [
              1,
              "#f0f921"
             ]
            ],
            "type": "surface"
           }
          ],
          "table": [
           {
            "cells": {
             "fill": {
              "color": "#EBF0F8"
             },
             "line": {
              "color": "white"
             }
            },
            "header": {
             "fill": {
              "color": "#C8D4E3"
             },
             "line": {
              "color": "white"
             }
            },
            "type": "table"
           }
          ]
         },
         "layout": {
          "annotationdefaults": {
           "arrowcolor": "#2a3f5f",
           "arrowhead": 0,
           "arrowwidth": 1
          },
          "autotypenumbers": "strict",
          "coloraxis": {
           "colorbar": {
            "outlinewidth": 0,
            "ticks": ""
           }
          },
          "colorscale": {
           "diverging": [
            [
             0,
             "#8e0152"
            ],
            [
             0.1,
             "#c51b7d"
            ],
            [
             0.2,
             "#de77ae"
            ],
            [
             0.3,
             "#f1b6da"
            ],
            [
             0.4,
             "#fde0ef"
            ],
            [
             0.5,
             "#f7f7f7"
            ],
            [
             0.6,
             "#e6f5d0"
            ],
            [
             0.7,
             "#b8e186"
            ],
            [
             0.8,
             "#7fbc41"
            ],
            [
             0.9,
             "#4d9221"
            ],
            [
             1,
             "#276419"
            ]
           ],
           "sequential": [
            [
             0,
             "#0d0887"
            ],
            [
             0.1111111111111111,
             "#46039f"
            ],
            [
             0.2222222222222222,
             "#7201a8"
            ],
            [
             0.3333333333333333,
             "#9c179e"
            ],
            [
             0.4444444444444444,
             "#bd3786"
            ],
            [
             0.5555555555555556,
             "#d8576b"
            ],
            [
             0.6666666666666666,
             "#ed7953"
            ],
            [
             0.7777777777777778,
             "#fb9f3a"
            ],
            [
             0.8888888888888888,
             "#fdca26"
            ],
            [
             1,
             "#f0f921"
            ]
           ],
           "sequentialminus": [
            [
             0,
             "#0d0887"
            ],
            [
             0.1111111111111111,
             "#46039f"
            ],
            [
             0.2222222222222222,
             "#7201a8"
            ],
            [
             0.3333333333333333,
             "#9c179e"
            ],
            [
             0.4444444444444444,
             "#bd3786"
            ],
            [
             0.5555555555555556,
             "#d8576b"
            ],
            [
             0.6666666666666666,
             "#ed7953"
            ],
            [
             0.7777777777777778,
             "#fb9f3a"
            ],
            [
             0.8888888888888888,
             "#fdca26"
            ],
            [
             1,
             "#f0f921"
            ]
           ]
          },
          "colorway": [
           "#636efa",
           "#EF553B",
           "#00cc96",
           "#ab63fa",
           "#FFA15A",
           "#19d3f3",
           "#FF6692",
           "#B6E880",
           "#FF97FF",
           "#FECB52"
          ],
          "font": {
           "color": "#2a3f5f"
          },
          "geo": {
           "bgcolor": "white",
           "lakecolor": "white",
           "landcolor": "#E5ECF6",
           "showlakes": true,
           "showland": true,
           "subunitcolor": "white"
          },
          "hoverlabel": {
           "align": "left"
          },
          "hovermode": "closest",
          "mapbox": {
           "style": "light"
          },
          "paper_bgcolor": "white",
          "plot_bgcolor": "#E5ECF6",
          "polar": {
           "angularaxis": {
            "gridcolor": "white",
            "linecolor": "white",
            "ticks": ""
           },
           "bgcolor": "#E5ECF6",
           "radialaxis": {
            "gridcolor": "white",
            "linecolor": "white",
            "ticks": ""
           }
          },
          "scene": {
           "xaxis": {
            "backgroundcolor": "#E5ECF6",
            "gridcolor": "white",
            "gridwidth": 2,
            "linecolor": "white",
            "showbackground": true,
            "ticks": "",
            "zerolinecolor": "white"
           },
           "yaxis": {
            "backgroundcolor": "#E5ECF6",
            "gridcolor": "white",
            "gridwidth": 2,
            "linecolor": "white",
            "showbackground": true,
            "ticks": "",
            "zerolinecolor": "white"
           },
           "zaxis": {
            "backgroundcolor": "#E5ECF6",
            "gridcolor": "white",
            "gridwidth": 2,
            "linecolor": "white",
            "showbackground": true,
            "ticks": "",
            "zerolinecolor": "white"
           }
          },
          "shapedefaults": {
           "line": {
            "color": "#2a3f5f"
           }
          },
          "ternary": {
           "aaxis": {
            "gridcolor": "white",
            "linecolor": "white",
            "ticks": ""
           },
           "baxis": {
            "gridcolor": "white",
            "linecolor": "white",
            "ticks": ""
           },
           "bgcolor": "#E5ECF6",
           "caxis": {
            "gridcolor": "white",
            "linecolor": "white",
            "ticks": ""
           }
          },
          "title": {
           "x": 0.05
          },
          "xaxis": {
           "automargin": true,
           "gridcolor": "white",
           "linecolor": "white",
           "ticks": "",
           "title": {
            "standoff": 15
           },
           "zerolinecolor": "white",
           "zerolinewidth": 2
          },
          "yaxis": {
           "automargin": true,
           "gridcolor": "white",
           "linecolor": "white",
           "ticks": "",
           "title": {
            "standoff": 15
           },
           "zerolinecolor": "white",
           "zerolinewidth": 2
          }
         }
        },
        "xaxis": {
         "anchor": "y",
         "domain": [
          0,
          0.1183673469387755
         ],
         "showticklabels": false
        },
        "xaxis10": {
         "anchor": "y10",
         "domain": [
          0.29387755102040813,
          0.4122448979591836
         ],
         "showticklabels": false
        },
        "xaxis11": {
         "anchor": "y11",
         "domain": [
          0.4408163265306122,
          0.5591836734693877
         ],
         "showticklabels": false
        },
        "xaxis12": {
         "anchor": "y12",
         "domain": [
          0.5877551020408163,
          0.7061224489795918
         ],
         "showticklabels": false
        },
        "xaxis13": {
         "anchor": "y13",
         "domain": [
          0.7346938775510204,
          0.8530612244897959
         ],
         "showticklabels": false
        },
        "xaxis14": {
         "anchor": "y14",
         "domain": [
          0.8816326530612244,
          0.9999999999999999
         ],
         "showticklabels": false
        },
        "xaxis15": {
         "anchor": "y15",
         "domain": [
          0,
          0.1183673469387755
         ],
         "showticklabels": false
        },
        "xaxis16": {
         "anchor": "y16",
         "domain": [
          0.14693877551020407,
          0.26530612244897955
         ],
         "showticklabels": false
        },
        "xaxis17": {
         "anchor": "y17",
         "domain": [
          0.29387755102040813,
          0.4122448979591836
         ],
         "showticklabels": false
        },
        "xaxis18": {
         "anchor": "y18",
         "domain": [
          0.4408163265306122,
          0.5591836734693877
         ],
         "showticklabels": false
        },
        "xaxis19": {
         "anchor": "y19",
         "domain": [
          0.5877551020408163,
          0.7061224489795918
         ],
         "showticklabels": false
        },
        "xaxis2": {
         "anchor": "y2",
         "domain": [
          0.14693877551020407,
          0.26530612244897955
         ],
         "showticklabels": false
        },
        "xaxis20": {
         "anchor": "y20",
         "domain": [
          0.7346938775510204,
          0.8530612244897959
         ],
         "showticklabels": false
        },
        "xaxis21": {
         "anchor": "y21",
         "domain": [
          0.8816326530612244,
          0.9999999999999999
         ],
         "showticklabels": false
        },
        "xaxis22": {
         "anchor": "y22",
         "domain": [
          0,
          0.1183673469387755
         ]
        },
        "xaxis23": {
         "anchor": "y23",
         "domain": [
          0.14693877551020407,
          0.26530612244897955
         ]
        },
        "xaxis24": {
         "anchor": "y24",
         "domain": [
          0.29387755102040813,
          0.4122448979591836
         ]
        },
        "xaxis25": {
         "anchor": "y25",
         "domain": [
          0.4408163265306122,
          0.5591836734693877
         ]
        },
        "xaxis26": {
         "anchor": "y26",
         "domain": [
          0.5877551020408163,
          0.7061224489795918
         ]
        },
        "xaxis27": {
         "anchor": "y27",
         "domain": [
          0.7346938775510204,
          0.8530612244897959
         ]
        },
        "xaxis28": {
         "anchor": "y28",
         "domain": [
          0.8816326530612244,
          0.9999999999999999
         ]
        },
        "xaxis3": {
         "anchor": "y3",
         "domain": [
          0.29387755102040813,
          0.4122448979591836
         ],
         "showticklabels": false
        },
        "xaxis4": {
         "anchor": "y4",
         "domain": [
          0.4408163265306122,
          0.5591836734693877
         ],
         "showticklabels": false
        },
        "xaxis5": {
         "anchor": "y5",
         "domain": [
          0.5877551020408163,
          0.7061224489795918
         ],
         "showticklabels": false
        },
        "xaxis6": {
         "anchor": "y6",
         "domain": [
          0.7346938775510204,
          0.8530612244897959
         ],
         "showticklabels": false
        },
        "xaxis7": {
         "anchor": "y7",
         "domain": [
          0.8816326530612244,
          0.9999999999999999
         ],
         "showticklabels": false
        },
        "xaxis8": {
         "anchor": "y8",
         "domain": [
          0,
          0.1183673469387755
         ],
         "showticklabels": false
        },
        "xaxis9": {
         "anchor": "y9",
         "domain": [
          0.14693877551020407,
          0.26530612244897955
         ],
         "showticklabels": false
        },
        "yaxis": {
         "anchor": "x",
         "domain": [
          0.84375,
          1
         ],
         "showticklabels": false
        },
        "yaxis10": {
         "anchor": "x10",
         "domain": [
          0.5625,
          0.71875
         ],
         "showticklabels": false
        },
        "yaxis11": {
         "anchor": "x11",
         "domain": [
          0.5625,
          0.71875
         ],
         "showticklabels": false
        },
        "yaxis12": {
         "anchor": "x12",
         "domain": [
          0.5625,
          0.71875
         ],
         "showticklabels": false
        },
        "yaxis13": {
         "anchor": "x13",
         "domain": [
          0.5625,
          0.71875
         ],
         "showticklabels": false
        },
        "yaxis14": {
         "anchor": "x14",
         "domain": [
          0.5625,
          0.71875
         ],
         "showticklabels": false
        },
        "yaxis15": {
         "anchor": "x15",
         "domain": [
          0.28125,
          0.4375
         ],
         "showticklabels": false
        },
        "yaxis16": {
         "anchor": "x16",
         "domain": [
          0.28125,
          0.4375
         ],
         "showticklabels": false
        },
        "yaxis17": {
         "anchor": "x17",
         "domain": [
          0.28125,
          0.4375
         ],
         "showticklabels": false
        },
        "yaxis18": {
         "anchor": "x18",
         "domain": [
          0.28125,
          0.4375
         ],
         "showticklabels": false
        },
        "yaxis19": {
         "anchor": "x19",
         "domain": [
          0.28125,
          0.4375
         ],
         "showticklabels": false
        },
        "yaxis2": {
         "anchor": "x2",
         "domain": [
          0.84375,
          1
         ],
         "showticklabels": false
        },
        "yaxis20": {
         "anchor": "x20",
         "domain": [
          0.28125,
          0.4375
         ],
         "showticklabels": false
        },
        "yaxis21": {
         "anchor": "x21",
         "domain": [
          0.28125,
          0.4375
         ],
         "showticklabels": false
        },
        "yaxis22": {
         "anchor": "x22",
         "domain": [
          0,
          0.15625
         ]
        },
        "yaxis23": {
         "anchor": "x23",
         "domain": [
          0,
          0.15625
         ]
        },
        "yaxis24": {
         "anchor": "x24",
         "domain": [
          0,
          0.15625
         ]
        },
        "yaxis25": {
         "anchor": "x25",
         "domain": [
          0,
          0.15625
         ]
        },
        "yaxis26": {
         "anchor": "x26",
         "domain": [
          0,
          0.15625
         ]
        },
        "yaxis27": {
         "anchor": "x27",
         "domain": [
          0,
          0.15625
         ]
        },
        "yaxis28": {
         "anchor": "x28",
         "domain": [
          0,
          0.15625
         ]
        },
        "yaxis3": {
         "anchor": "x3",
         "domain": [
          0.84375,
          1
         ],
         "showticklabels": false
        },
        "yaxis4": {
         "anchor": "x4",
         "domain": [
          0.84375,
          1
         ],
         "showticklabels": false
        },
        "yaxis5": {
         "anchor": "x5",
         "domain": [
          0.84375,
          1
         ],
         "showticklabels": false
        },
        "yaxis6": {
         "anchor": "x6",
         "domain": [
          0.84375,
          1
         ],
         "showticklabels": false
        },
        "yaxis7": {
         "anchor": "x7",
         "domain": [
          0.84375,
          1
         ],
         "showticklabels": false
        },
        "yaxis8": {
         "anchor": "x8",
         "domain": [
          0.5625,
          0.71875
         ],
         "showticklabels": false
        },
        "yaxis9": {
         "anchor": "x9",
         "domain": [
          0.5625,
          0.71875
         ],
         "showticklabels": false
        }
       }
      },
      "text/html": [
       "<div>                            <div id=\"f6c8a866-87a5-44ba-9d96-5ad1efb21574\" class=\"plotly-graph-div\" style=\"height:525px; width:100%;\"></div>            <script type=\"text/javascript\">                require([\"plotly\"], function(Plotly) {                    window.PLOTLYENV=window.PLOTLYENV || {};                                    if (document.getElementById(\"f6c8a866-87a5-44ba-9d96-5ad1efb21574\")) {                    Plotly.newPlot(                        \"f6c8a866-87a5-44ba-9d96-5ad1efb21574\",                        [{\"coloraxis\":\"coloraxis\",\"hovertemplate\":\"x: %{x}\\u003cbr\\u003ey: %{y}\\u003cbr\\u003ecolor: %{z}\\u003cextra\\u003e\\u003c\\u002fextra\\u003e\",\"name\":\"0\",\"xaxis\":\"x\",\"yaxis\":\"y\",\"z\":[[144,144,138,144,147,159,156,167,169,158,168,188],[151,143,162,153,165,180,221,224,204,168,174,172],[144,147,149,172,180,213,229,225,202,188,167,176],[153,167,158,168,181,197,193,182,171,169,176,166],[154,162,159,148,160,173,182,165,160,158,158,176],[146,155,162,156,177,191,188,188,176,202,183,172],[147,144,151,159,163,199,217,207,196,175,215,209],[149,161,152,169,192,245,245,250,225,204,195,203],[153,148,158,168,179,197,210,204,191,196,206,177],[150,145,143,163,174,167,163,175,177,167,167,176],[146,156,159,147,146,162,161,157,153,156,172,171],[153,188,195,170,169,175,157,161,160,170,168,166]],\"type\":\"heatmap\"},{\"coloraxis\":\"coloraxis\",\"hovertemplate\":\"x: %{x}\\u003cbr\\u003ey: %{y}\\u003cbr\\u003ecolor: %{z}\\u003cextra\\u003e\\u003c\\u002fextra\\u003e\",\"name\":\"0\",\"xaxis\":\"x2\",\"yaxis\":\"y2\",\"z\":[[160,148,155,136,155,167,160,164,190,187,163,174],[168,161,145,153,151,164,175,193,214,212,191,182],[153,157,158,165,169,197,204,232,235,212,178,179],[144,149,158,161,168,177,208,198,180,165,176,183],[157,140,167,161,151,162,186,204,205,178,169,184],[145,169,173,183,156,172,179,183,205,211,173,185],[140,153,149,171,185,191,205,236,245,213,202,191],[155,157,156,158,168,201,227,277,231,232,211,181],[154,147,146,150,162,180,189,189,190,182,187,181],[148,146,154,177,184,172,153,182,176,183,173,173],[142,146,170,185,168,173,171,174,156,165,165,175],[153,164,183,200,188,164,152,161,175,184,191,207]],\"type\":\"heatmap\"},{\"coloraxis\":\"coloraxis\",\"hovertemplate\":\"x: %{x}\\u003cbr\\u003ey: %{y}\\u003cbr\\u003ecolor: %{z}\\u003cextra\\u003e\\u003c\\u002fextra\\u003e\",\"name\":\"0\",\"xaxis\":\"x3\",\"yaxis\":\"y3\",\"z\":[[144,142,140,151,150,145,170,180,182,183,173,172],[152,145,145,150,148,155,166,177,219,211,183,180],[159,157,143,148,164,162,163,169,184,201,188,181],[144,148,153,157,157,169,165,200,180,184,186,211],[144,147,147,150,151,169,189,204,206,200,171,171],[143,152,153,148,182,211,242,278,260,229,224,197],[149,149,151,155,163,182,215,274,273,229,197,199],[150,147,156,157,166,166,186,204,198,193,200,187],[144,156,161,158,180,177,160,149,168,163,198,171],[148,156,163,161,198,171,158,167,164,167,194,165],[150,154,157,167,159,158,162,190,166,180,196,212],[144,146,151,153,144,145,156,155,172,171,175,176]],\"type\":\"heatmap\"},{\"coloraxis\":\"coloraxis\",\"hovertemplate\":\"x: %{x}\\u003cbr\\u003ey: %{y}\\u003cbr\\u003ecolor: %{z}\\u003cextra\\u003e\\u003c\\u002fextra\\u003e\",\"name\":\"0\",\"xaxis\":\"x4\",\"yaxis\":\"y4\",\"z\":[[146,139,135,137,136,139,147,160,145,160,153,158],[139,139,137,144,147,149,152,184,153,176,160,168],[139,145,147,144,154,154,160,160,177,187,175,182],[141,141,150,152,168,178,183,200,201,193,178,181],[167,150,148,152,165,182,202,211,237,215,163,172],[148,148,154,153,166,182,210,179,194,181,181,180],[150,151,147,160,180,208,231,250,205,183,176,180],[158,162,166,173,168,188,194,215,210,186,180,184],[155,155,163,171,160,167,172,174,180,162,186,198],[158,157,189,179,183,170,180,172,160,159,176,189],[155,153,169,183,181,166,164,160,166,164,184,194],[153,169,183,208,179,195,175,180,197,217,187,191]],\"type\":\"heatmap\"},{\"coloraxis\":\"coloraxis\",\"hovertemplate\":\"x: %{x}\\u003cbr\\u003ey: %{y}\\u003cbr\\u003ecolor: %{z}\\u003cextra\\u003e\\u003c\\u002fextra\\u003e\",\"name\":\"0\",\"xaxis\":\"x5\",\"yaxis\":\"y5\",\"z\":[[133,137,138,138,140,146,148,142,152,172,178,164],[135,142,139,149,139,135,149,152,154,157,150,162],[141,144,147,136,160,150,150,162,207,178,160,160],[150,152,145,144,159,177,212,220,223,204,176,177],[150,143,140,147,158,165,181,191,189,173,182,184],[139,144,158,181,169,174,175,186,178,190,178,190],[153,150,148,159,165,198,201,205,185,178,193,207],[163,159,156,177,197,210,235,238,208,184,185,200],[154,151,160,179,174,181,190,198,187,185,155,172],[150,147,165,151,151,155,157,162,179,165,179,189],[140,154,162,170,176,179,167,174,161,165,176,174],[148,145,170,176,205,203,161,163,176,177,169,162]],\"type\":\"heatmap\"},{\"coloraxis\":\"coloraxis\",\"hovertemplate\":\"x: %{x}\\u003cbr\\u003ey: %{y}\\u003cbr\\u003ecolor: %{z}\\u003cextra\\u003e\\u003c\\u002fextra\\u003e\",\"name\":\"0\",\"xaxis\":\"x6\",\"yaxis\":\"y6\",\"z\":[[145,144,135,144,141,145,159,152,148,157,156,148],[136,140,143,138,144,151,164,166,182,174,166,161],[136,143,141,154,158,165,172,202,222,215,199,169],[139,159,149,152,162,164,169,193,207,203,170,164],[138,148,152,152,152,154,155,163,172,170,164,189],[145,148,155,144,145,157,166,172,200,190,172,168],[150,154,165,163,161,172,198,251,236,192,192,176],[151,147,149,157,172,175,205,216,220,229,201,187],[160,146,153,167,156,156,169,169,177,178,181,188],[156,162,157,172,185,175,157,157,166,154,185,167],[137,143,163,185,171,169,158,156,156,158,172,163],[158,174,173,167,165,162,168,154,162,169,168,170]],\"type\":\"heatmap\"},{\"coloraxis\":\"coloraxis\",\"hovertemplate\":\"x: %{x}\\u003cbr\\u003ey: %{y}\\u003cbr\\u003ecolor: %{z}\\u003cextra\\u003e\\u003c\\u002fextra\\u003e\",\"name\":\"0\",\"xaxis\":\"x7\",\"yaxis\":\"y7\",\"z\":[[146,135,149,138,140,138,135,141,161,155,150,141],[140,146,149,153,144,142,163,158,187,180,171,163],[140,138,137,147,154,148,155,159,167,196,177,159],[133,153,153,148,170,153,159,155,180,173,155,154],[147,154,144,151,146,150,153,159,160,159,151,159],[145,156,147,144,157,169,174,178,183,190,184,175],[133,135,156,151,154,169,197,222,231,225,192,165],[150,149,163,158,170,177,209,211,228,211,177,183],[152,151,147,144,152,168,181,201,197,186,166,173],[145,151,165,171,182,188,153,174,163,172,168,184],[146,145,153,171,183,168,158,162,158,157,173,173],[165,155,154,175,161,162,153,169,166,178,179,188]],\"type\":\"heatmap\"},{\"coloraxis\":\"coloraxis\",\"hovertemplate\":\"x: %{x}\\u003cbr\\u003ey: %{y}\\u003cbr\\u003ecolor: %{z}\\u003cextra\\u003e\\u003c\\u002fextra\\u003e\",\"name\":\"0\",\"xaxis\":\"x8\",\"yaxis\":\"y8\",\"z\":[[135,144,152,138,140,145,166,166,167,167,163,157],[143,141,163,148,155,174,177,190,190,175,154,155],[149,167,152,155,161,164,179,179,170,167,156,159],[151,154,144,150,152,161,161,170,166,184,169,165],[154,143,152,147,148,168,178,177,173,163,172,159],[144,140,157,168,185,206,220,206,204,167,170,173],[150,151,163,164,177,195,217,201,185,176,170,167],[154,176,155,164,178,181,183,206,181,169,172,191],[155,170,178,206,191,154,157,164,175,173,176,183],[168,165,185,195,191,158,160,158,164,168,160,174],[162,156,151,166,182,156,172,167,165,192,201,167],[155,157,163,150,152,151,169,184,193,193,177,175]],\"type\":\"heatmap\"},{\"coloraxis\":\"coloraxis\",\"hovertemplate\":\"x: %{x}\\u003cbr\\u003ey: %{y}\\u003cbr\\u003ecolor: %{z}\\u003cextra\\u003e\\u003c\\u002fextra\\u003e\",\"name\":\"0\",\"xaxis\":\"x9\",\"yaxis\":\"y9\",\"z\":[[126,139,144,150,144,145,150,146,146,171,163,169],[152,141,139,138,144,155,157,171,174,154,157,164],[144,156,155,147,155,146,186,202,182,164,148,165],[145,147,149,148,150,160,165,169,184,161,170,167],[146,149,158,158,153,158,167,164,173,185,179,164],[153,163,152,158,166,164,181,190,182,169,171,162],[148,150,153,149,175,194,211,210,211,179,177,166],[143,154,165,160,170,189,235,216,177,175,181,165],[147,148,164,160,153,175,177,167,169,161,155,172],[166,173,170,166,162,155,168,175,174,163,173,195],[159,173,175,163,155,157,174,157,172,157,166,187],[163,146,166,162,148,155,165,165,170,178,176,186]],\"type\":\"heatmap\"},{\"coloraxis\":\"coloraxis\",\"hovertemplate\":\"x: %{x}\\u003cbr\\u003ey: %{y}\\u003cbr\\u003ecolor: %{z}\\u003cextra\\u003e\\u003c\\u002fextra\\u003e\",\"name\":\"0\",\"xaxis\":\"x10\",\"yaxis\":\"y10\",\"z\":[[134,136,126,125,128,128,139,140,143,143,145,141],[136,132,139,130,131,134,138,136,151,149,137,139],[132,131,134,139,149,146,142,147,144,162,151,151],[134,136,136,143,145,142,155,157,158,168,161,148],[143,140,145,149,158,167,169,198,192,182,184,175],[146,148,153,172,152,160,168,197,188,175,169,161],[147,144,147,150,156,168,179,209,203,186,179,188],[143,149,159,164,184,183,226,253,225,202,193,185],[144,154,151,156,174,184,193,210,225,201,182,198],[143,157,153,165,154,172,171,174,165,168,167,171],[144,145,154,150,156,151,153,165,173,164,161,157],[147,170,179,166,140,151,145,146,154,152,169,175]],\"type\":\"heatmap\"},{\"coloraxis\":\"coloraxis\",\"hovertemplate\":\"x: %{x}\\u003cbr\\u003ey: %{y}\\u003cbr\\u003ecolor: %{z}\\u003cextra\\u003e\\u003c\\u002fextra\\u003e\",\"name\":\"0\",\"xaxis\":\"x11\",\"yaxis\":\"y11\",\"z\":[[140,149,139,137,145,148,143,141,143,139,144,160],[144,149,140,149,147,151,155,177,169,147,158,154],[138,143,142,141,146,160,172,166,171,167,178,154],[145,157,160,149,162,161,170,165,166,177,153,162],[142,146,148,146,150,156,150,172,169,171,181,184],[149,154,159,152,174,165,185,199,195,166,189,185],[147,148,149,154,163,194,227,242,226,177,190,187],[142,142,157,169,163,168,197,199,193,162,163,204],[144,153,146,153,154,154,166,173,173,162,192,173],[146,145,151,160,162,151,155,157,169,160,158,174],[155,162,165,152,153,161,160,182,168,164,160,167],[173,192,181,155,152,164,160,161,168,172,164,172]],\"type\":\"heatmap\"},{\"coloraxis\":\"coloraxis\",\"hovertemplate\":\"x: %{x}\\u003cbr\\u003ey: %{y}\\u003cbr\\u003ecolor: %{z}\\u003cextra\\u003e\\u003c\\u002fextra\\u003e\",\"name\":\"0\",\"xaxis\":\"x12\",\"yaxis\":\"y12\",\"z\":[[131,135,136,134,140,144,138,138,144,148,149,140],[135,134,139,145,137,142,146,156,151,159,145,150],[142,142,134,132,142,140,150,163,156,148,148,144],[159,138,142,142,154,172,170,170,180,158,157,152],[147,150,150,150,152,169,182,177,169,177,163,153],[140,146,150,151,166,182,181,169,174,162,162,153],[151,153,160,166,174,190,242,225,210,209,167,169],[141,146,160,174,175,216,217,233,242,203,186,177],[143,143,158,156,164,176,245,229,212,193,172,186],[160,151,157,154,160,153,164,183,182,174,165,179],[147,149,139,156,176,153,166,167,156,154,164,169],[146,141,139,139,146,173,158,163,159,171,169,173]],\"type\":\"heatmap\"},{\"coloraxis\":\"coloraxis\",\"hovertemplate\":\"x: %{x}\\u003cbr\\u003ey: %{y}\\u003cbr\\u003ecolor: %{z}\\u003cextra\\u003e\\u003c\\u002fextra\\u003e\",\"name\":\"0\",\"xaxis\":\"x13\",\"yaxis\":\"y13\",\"z\":[[135,127,133,136,134,140,149,148,145,154,153,139],[131,136,135,135,136,152,145,150,155,153,146,144],[143,160,157,141,144,149,156,152,157,175,160,155],[133,142,144,146,151,159,170,176,169,159,155,155],[148,142,146,151,176,168,168,170,187,173,161,161],[142,141,148,151,156,164,172,177,173,167,159,159],[152,154,172,162,178,190,236,180,163,157,165,163],[150,152,161,173,235,222,240,215,179,160,173,175],[156,162,158,168,205,217,213,222,193,171,178,196],[146,146,160,190,167,183,190,170,171,174,173,176],[143,140,163,158,150,172,165,159,159,162,161,165],[147,142,155,160,158,162,167,166,173,166,170,192]],\"type\":\"heatmap\"},{\"coloraxis\":\"coloraxis\",\"hovertemplate\":\"x: %{x}\\u003cbr\\u003ey: %{y}\\u003cbr\\u003ecolor: %{z}\\u003cextra\\u003e\\u003c\\u002fextra\\u003e\",\"name\":\"0\",\"xaxis\":\"x14\",\"yaxis\":\"y14\",\"z\":[[135,140,135,137,144,143,152,180,171,156,161,150],[134,139,139,140,156,158,169,168,171,162,160,158],[142,170,155,146,156,183,193,186,184,165,164,152],[145,144,147,143,153,156,174,169,173,177,163,163],[152,147,158,168,155,169,166,174,161,184,181,224],[157,159,146,151,169,186,195,204,190,179,166,185],[147,156,159,175,196,212,213,236,187,175,176,182],[149,171,157,170,157,173,226,220,186,175,176,200],[159,156,158,158,168,167,166,172,193,170,171,179],[161,157,151,145,175,169,155,154,190,198,194,197],[197,194,171,153,149,145,152,170,170,171,164,169],[193,163,152,158,149,161,168,176,179,179,176,171]],\"type\":\"heatmap\"},{\"coloraxis\":\"coloraxis\",\"hovertemplate\":\"x: %{x}\\u003cbr\\u003ey: %{y}\\u003cbr\\u003ecolor: %{z}\\u003cextra\\u003e\\u003c\\u002fextra\\u003e\",\"name\":\"0\",\"xaxis\":\"x15\",\"yaxis\":\"y15\",\"z\":[[138,140,132,131,130,131,139,140,144,142,160,166],[146,141,133,141,142,140,144,154,155,170,152,169],[135,148,146,142,160,160,152,152,162,159,170,156],[150,139,154,147,158,159,176,207,180,167,163,153],[137,140,149,151,156,180,185,181,189,169,170,164],[162,162,158,163,168,168,189,188,191,184,169,181],[143,148,159,157,188,173,208,232,205,216,181,169],[154,156,157,161,166,186,211,214,196,208,182,176],[149,141,151,160,166,178,171,165,164,171,171,188],[149,151,158,158,156,149,149,147,160,161,169,170],[216,211,175,151,142,146,157,167,159,177,181,174],[226,219,207,171,154,159,156,158,155,174,187,171]],\"type\":\"heatmap\"},{\"coloraxis\":\"coloraxis\",\"hovertemplate\":\"x: %{x}\\u003cbr\\u003ey: %{y}\\u003cbr\\u003ecolor: %{z}\\u003cextra\\u003e\\u003c\\u002fextra\\u003e\",\"name\":\"0\",\"xaxis\":\"x16\",\"yaxis\":\"y16\",\"z\":[[141,135,137,148,150,139,143,149,160,152,150,152],[139,140,146,144,158,172,156,154,151,148,152,149],[148,145,153,153,161,152,157,161,157,154,155,158],[147,146,148,155,164,164,168,168,162,154,169,155],[150,151,149,176,167,181,178,182,160,177,153,159],[155,167,173,158,196,189,212,191,178,176,176,173],[148,158,157,163,195,222,215,217,205,180,175,181],[148,155,153,172,216,208,230,209,200,177,191,186],[161,161,165,154,165,181,182,193,197,186,175,166],[147,152,159,147,166,159,162,167,201,167,179,176],[201,177,153,143,159,150,168,188,219,189,175,182],[205,172,157,157,163,147,155,163,175,173,166,153]],\"type\":\"heatmap\"},{\"coloraxis\":\"coloraxis\",\"hovertemplate\":\"x: %{x}\\u003cbr\\u003ey: %{y}\\u003cbr\\u003ecolor: %{z}\\u003cextra\\u003e\\u003c\\u002fextra\\u003e\",\"name\":\"0\",\"xaxis\":\"x17\",\"yaxis\":\"y17\",\"z\":[[141,142,136,151,161,143,142,136,146,151,150,149],[145,133,133,137,155,155,153,143,142,150,153,147],[141,147,156,144,144,142,161,170,154,164,160,151],[144,147,141,143,149,149,166,169,166,177,153,155],[154,145,155,161,158,173,170,192,197,189,171,170],[142,157,154,156,161,169,207,209,207,202,175,173],[131,144,151,158,164,174,198,215,220,184,171,166],[140,138,150,153,176,183,207,224,203,193,188,180],[151,144,147,158,151,161,157,189,168,168,165,163],[161,158,156,153,153,142,149,166,167,165,185,207],[189,180,156,152,151,149,152,169,175,188,180,191],[159,182,160,156,153,152,145,152,146,154,164,169]],\"type\":\"heatmap\"},{\"coloraxis\":\"coloraxis\",\"hovertemplate\":\"x: %{x}\\u003cbr\\u003ey: %{y}\\u003cbr\\u003ecolor: %{z}\\u003cextra\\u003e\\u003c\\u002fextra\\u003e\",\"name\":\"0\",\"xaxis\":\"x18\",\"yaxis\":\"y18\",\"z\":[[138,140,147,140,144,152,155,150,148,154,150,151],[131,141,148,151,158,156,153,142,173,157,159,177],[151,137,135,142,145,163,162,168,168,170,163,163],[144,142,153,161,178,193,212,205,187,180,170,157],[144,149,155,167,186,201,224,236,204,171,161,156],[152,157,168,160,167,171,216,223,207,189,178,172],[161,155,159,163,194,187,190,229,198,179,181,165],[159,147,152,168,195,219,202,220,194,186,174,169],[156,156,179,168,170,210,192,191,190,174,180,179],[222,183,184,164,180,172,188,184,184,184,199,179],[177,190,167,169,185,169,200,191,199,211,223,195],[158,157,152,154,214,173,180,166,183,193,177,188]],\"type\":\"heatmap\"},{\"coloraxis\":\"coloraxis\",\"hovertemplate\":\"x: %{x}\\u003cbr\\u003ey: %{y}\\u003cbr\\u003ecolor: %{z}\\u003cextra\\u003e\\u003c\\u002fextra\\u003e\",\"name\":\"0\",\"xaxis\":\"x19\",\"yaxis\":\"y19\",\"z\":[[161,150,151,152,140,142,138,143,146,146,153,147],[160,148,151,142,147,144,157,153,151,156,160,155],[141,146,148,146,149,165,158,145,150,152,176,168],[153,138,147,153,146,179,159,181,174,155,144,150],[147,147,142,153,160,169,192,197,196,177,184,172],[149,156,151,158,194,204,214,222,219,197,175,171],[155,163,163,170,204,254,246,237,221,185,169,170],[144,149,159,168,185,215,252,291,221,197,183,175],[156,152,162,161,163,177,183,201,222,190,166,167],[146,153,146,146,158,166,167,166,176,177,177,168],[157,168,195,172,154,150,156,159,166,190,187,199],[163,180,191,184,163,152,152,156,167,175,186,192]],\"type\":\"heatmap\"},{\"coloraxis\":\"coloraxis\",\"hovertemplate\":\"x: %{x}\\u003cbr\\u003ey: %{y}\\u003cbr\\u003ecolor: %{z}\\u003cextra\\u003e\\u003c\\u002fextra\\u003e\",\"name\":\"0\",\"xaxis\":\"x20\",\"yaxis\":\"y20\",\"z\":[[144,140,145,140,135,143,140,148,143,143,144,140],[135,138,141,135,138,147,151,155,161,150,143,147],[144,137,144,142,144,144,160,160,167,151,152,149],[143,143,142,144,158,151,167,202,187,159,152,151],[145,144,151,152,163,176,204,200,196,179,169,162],[154,144,168,168,168,183,206,226,206,202,192,182],[152,151,165,169,177,210,235,256,225,202,184,166],[159,173,158,174,177,206,235,255,216,195,183,183],[164,154,154,160,176,196,202,198,193,182,175,180],[154,187,164,169,174,165,173,171,178,182,198,190],[164,227,222,199,166,153,160,172,167,193,198,193],[152,166,179,158,148,164,153,159,163,164,191,185]],\"type\":\"heatmap\"},{\"coloraxis\":\"coloraxis\",\"hovertemplate\":\"x: %{x}\\u003cbr\\u003ey: %{y}\\u003cbr\\u003ecolor: %{z}\\u003cextra\\u003e\\u003c\\u002fextra\\u003e\",\"name\":\"0\",\"xaxis\":\"x21\",\"yaxis\":\"y21\",\"z\":[[143,144,144,133,135,134,130,137,150,147,157,147],[149,140,146,146,141,134,146,142,150,147,150,151],[133,139,136,134,140,143,144,141,160,154,158,155],[141,135,148,161,148,144,167,156,159,161,162,171],[137,139,162,153,153,181,167,176,169,157,147,157],[143,149,158,172,168,189,214,212,180,184,166,154],[148,160,187,162,193,200,231,216,234,212,184,159],[153,162,169,185,178,218,227,224,207,194,179,171],[173,184,186,185,193,201,207,212,220,187,174,183],[184,189,195,160,165,156,177,175,166,167,164,177],[172,176,151,153,155,159,159,170,184,189,195,182],[136,151,169,153,155,155,151,161,179,192,217,263]],\"type\":\"heatmap\"}],                        {\"template\":{\"data\":{\"histogram2dcontour\":[{\"type\":\"histogram2dcontour\",\"colorbar\":{\"outlinewidth\":0,\"ticks\":\"\"},\"colorscale\":[[0.0,\"#0d0887\"],[0.1111111111111111,\"#46039f\"],[0.2222222222222222,\"#7201a8\"],[0.3333333333333333,\"#9c179e\"],[0.4444444444444444,\"#bd3786\"],[0.5555555555555556,\"#d8576b\"],[0.6666666666666666,\"#ed7953\"],[0.7777777777777778,\"#fb9f3a\"],[0.8888888888888888,\"#fdca26\"],[1.0,\"#f0f921\"]]}],\"choropleth\":[{\"type\":\"choropleth\",\"colorbar\":{\"outlinewidth\":0,\"ticks\":\"\"}}],\"histogram2d\":[{\"type\":\"histogram2d\",\"colorbar\":{\"outlinewidth\":0,\"ticks\":\"\"},\"colorscale\":[[0.0,\"#0d0887\"],[0.1111111111111111,\"#46039f\"],[0.2222222222222222,\"#7201a8\"],[0.3333333333333333,\"#9c179e\"],[0.4444444444444444,\"#bd3786\"],[0.5555555555555556,\"#d8576b\"],[0.6666666666666666,\"#ed7953\"],[0.7777777777777778,\"#fb9f3a\"],[0.8888888888888888,\"#fdca26\"],[1.0,\"#f0f921\"]]}],\"heatmap\":[{\"type\":\"heatmap\",\"colorbar\":{\"outlinewidth\":0,\"ticks\":\"\"},\"colorscale\":[[0.0,\"#0d0887\"],[0.1111111111111111,\"#46039f\"],[0.2222222222222222,\"#7201a8\"],[0.3333333333333333,\"#9c179e\"],[0.4444444444444444,\"#bd3786\"],[0.5555555555555556,\"#d8576b\"],[0.6666666666666666,\"#ed7953\"],[0.7777777777777778,\"#fb9f3a\"],[0.8888888888888888,\"#fdca26\"],[1.0,\"#f0f921\"]]}],\"heatmapgl\":[{\"type\":\"heatmapgl\",\"colorbar\":{\"outlinewidth\":0,\"ticks\":\"\"},\"colorscale\":[[0.0,\"#0d0887\"],[0.1111111111111111,\"#46039f\"],[0.2222222222222222,\"#7201a8\"],[0.3333333333333333,\"#9c179e\"],[0.4444444444444444,\"#bd3786\"],[0.5555555555555556,\"#d8576b\"],[0.6666666666666666,\"#ed7953\"],[0.7777777777777778,\"#fb9f3a\"],[0.8888888888888888,\"#fdca26\"],[1.0,\"#f0f921\"]]}],\"contourcarpet\":[{\"type\":\"contourcarpet\",\"colorbar\":{\"outlinewidth\":0,\"ticks\":\"\"}}],\"contour\":[{\"type\":\"contour\",\"colorbar\":{\"outlinewidth\":0,\"ticks\":\"\"},\"colorscale\":[[0.0,\"#0d0887\"],[0.1111111111111111,\"#46039f\"],[0.2222222222222222,\"#7201a8\"],[0.3333333333333333,\"#9c179e\"],[0.4444444444444444,\"#bd3786\"],[0.5555555555555556,\"#d8576b\"],[0.6666666666666666,\"#ed7953\"],[0.7777777777777778,\"#fb9f3a\"],[0.8888888888888888,\"#fdca26\"],[1.0,\"#f0f921\"]]}],\"surface\":[{\"type\":\"surface\",\"colorbar\":{\"outlinewidth\":0,\"ticks\":\"\"},\"colorscale\":[[0.0,\"#0d0887\"],[0.1111111111111111,\"#46039f\"],[0.2222222222222222,\"#7201a8\"],[0.3333333333333333,\"#9c179e\"],[0.4444444444444444,\"#bd3786\"],[0.5555555555555556,\"#d8576b\"],[0.6666666666666666,\"#ed7953\"],[0.7777777777777778,\"#fb9f3a\"],[0.8888888888888888,\"#fdca26\"],[1.0,\"#f0f921\"]]}],\"mesh3d\":[{\"type\":\"mesh3d\",\"colorbar\":{\"outlinewidth\":0,\"ticks\":\"\"}}],\"scatter\":[{\"fillpattern\":{\"fillmode\":\"overlay\",\"size\":10,\"solidity\":0.2},\"type\":\"scatter\"}],\"parcoords\":[{\"type\":\"parcoords\",\"line\":{\"colorbar\":{\"outlinewidth\":0,\"ticks\":\"\"}}}],\"scatterpolargl\":[{\"type\":\"scatterpolargl\",\"marker\":{\"colorbar\":{\"outlinewidth\":0,\"ticks\":\"\"}}}],\"bar\":[{\"error_x\":{\"color\":\"#2a3f5f\"},\"error_y\":{\"color\":\"#2a3f5f\"},\"marker\":{\"line\":{\"color\":\"#E5ECF6\",\"width\":0.5},\"pattern\":{\"fillmode\":\"overlay\",\"size\":10,\"solidity\":0.2}},\"type\":\"bar\"}],\"scattergeo\":[{\"type\":\"scattergeo\",\"marker\":{\"colorbar\":{\"outlinewidth\":0,\"ticks\":\"\"}}}],\"scatterpolar\":[{\"type\":\"scatterpolar\",\"marker\":{\"colorbar\":{\"outlinewidth\":0,\"ticks\":\"\"}}}],\"histogram\":[{\"marker\":{\"pattern\":{\"fillmode\":\"overlay\",\"size\":10,\"solidity\":0.2}},\"type\":\"histogram\"}],\"scattergl\":[{\"type\":\"scattergl\",\"marker\":{\"colorbar\":{\"outlinewidth\":0,\"ticks\":\"\"}}}],\"scatter3d\":[{\"type\":\"scatter3d\",\"line\":{\"colorbar\":{\"outlinewidth\":0,\"ticks\":\"\"}},\"marker\":{\"colorbar\":{\"outlinewidth\":0,\"ticks\":\"\"}}}],\"scattermapbox\":[{\"type\":\"scattermapbox\",\"marker\":{\"colorbar\":{\"outlinewidth\":0,\"ticks\":\"\"}}}],\"scatterternary\":[{\"type\":\"scatterternary\",\"marker\":{\"colorbar\":{\"outlinewidth\":0,\"ticks\":\"\"}}}],\"scattercarpet\":[{\"type\":\"scattercarpet\",\"marker\":{\"colorbar\":{\"outlinewidth\":0,\"ticks\":\"\"}}}],\"carpet\":[{\"aaxis\":{\"endlinecolor\":\"#2a3f5f\",\"gridcolor\":\"white\",\"linecolor\":\"white\",\"minorgridcolor\":\"white\",\"startlinecolor\":\"#2a3f5f\"},\"baxis\":{\"endlinecolor\":\"#2a3f5f\",\"gridcolor\":\"white\",\"linecolor\":\"white\",\"minorgridcolor\":\"white\",\"startlinecolor\":\"#2a3f5f\"},\"type\":\"carpet\"}],\"table\":[{\"cells\":{\"fill\":{\"color\":\"#EBF0F8\"},\"line\":{\"color\":\"white\"}},\"header\":{\"fill\":{\"color\":\"#C8D4E3\"},\"line\":{\"color\":\"white\"}},\"type\":\"table\"}],\"barpolar\":[{\"marker\":{\"line\":{\"color\":\"#E5ECF6\",\"width\":0.5},\"pattern\":{\"fillmode\":\"overlay\",\"size\":10,\"solidity\":0.2}},\"type\":\"barpolar\"}],\"pie\":[{\"automargin\":true,\"type\":\"pie\"}]},\"layout\":{\"autotypenumbers\":\"strict\",\"colorway\":[\"#636efa\",\"#EF553B\",\"#00cc96\",\"#ab63fa\",\"#FFA15A\",\"#19d3f3\",\"#FF6692\",\"#B6E880\",\"#FF97FF\",\"#FECB52\"],\"font\":{\"color\":\"#2a3f5f\"},\"hovermode\":\"closest\",\"hoverlabel\":{\"align\":\"left\"},\"paper_bgcolor\":\"white\",\"plot_bgcolor\":\"#E5ECF6\",\"polar\":{\"bgcolor\":\"#E5ECF6\",\"angularaxis\":{\"gridcolor\":\"white\",\"linecolor\":\"white\",\"ticks\":\"\"},\"radialaxis\":{\"gridcolor\":\"white\",\"linecolor\":\"white\",\"ticks\":\"\"}},\"ternary\":{\"bgcolor\":\"#E5ECF6\",\"aaxis\":{\"gridcolor\":\"white\",\"linecolor\":\"white\",\"ticks\":\"\"},\"baxis\":{\"gridcolor\":\"white\",\"linecolor\":\"white\",\"ticks\":\"\"},\"caxis\":{\"gridcolor\":\"white\",\"linecolor\":\"white\",\"ticks\":\"\"}},\"coloraxis\":{\"colorbar\":{\"outlinewidth\":0,\"ticks\":\"\"}},\"colorscale\":{\"sequential\":[[0.0,\"#0d0887\"],[0.1111111111111111,\"#46039f\"],[0.2222222222222222,\"#7201a8\"],[0.3333333333333333,\"#9c179e\"],[0.4444444444444444,\"#bd3786\"],[0.5555555555555556,\"#d8576b\"],[0.6666666666666666,\"#ed7953\"],[0.7777777777777778,\"#fb9f3a\"],[0.8888888888888888,\"#fdca26\"],[1.0,\"#f0f921\"]],\"sequentialminus\":[[0.0,\"#0d0887\"],[0.1111111111111111,\"#46039f\"],[0.2222222222222222,\"#7201a8\"],[0.3333333333333333,\"#9c179e\"],[0.4444444444444444,\"#bd3786\"],[0.5555555555555556,\"#d8576b\"],[0.6666666666666666,\"#ed7953\"],[0.7777777777777778,\"#fb9f3a\"],[0.8888888888888888,\"#fdca26\"],[1.0,\"#f0f921\"]],\"diverging\":[[0,\"#8e0152\"],[0.1,\"#c51b7d\"],[0.2,\"#de77ae\"],[0.3,\"#f1b6da\"],[0.4,\"#fde0ef\"],[0.5,\"#f7f7f7\"],[0.6,\"#e6f5d0\"],[0.7,\"#b8e186\"],[0.8,\"#7fbc41\"],[0.9,\"#4d9221\"],[1,\"#276419\"]]},\"xaxis\":{\"gridcolor\":\"white\",\"linecolor\":\"white\",\"ticks\":\"\",\"title\":{\"standoff\":15},\"zerolinecolor\":\"white\",\"automargin\":true,\"zerolinewidth\":2},\"yaxis\":{\"gridcolor\":\"white\",\"linecolor\":\"white\",\"ticks\":\"\",\"title\":{\"standoff\":15},\"zerolinecolor\":\"white\",\"automargin\":true,\"zerolinewidth\":2},\"scene\":{\"xaxis\":{\"backgroundcolor\":\"#E5ECF6\",\"gridcolor\":\"white\",\"linecolor\":\"white\",\"showbackground\":true,\"ticks\":\"\",\"zerolinecolor\":\"white\",\"gridwidth\":2},\"yaxis\":{\"backgroundcolor\":\"#E5ECF6\",\"gridcolor\":\"white\",\"linecolor\":\"white\",\"showbackground\":true,\"ticks\":\"\",\"zerolinecolor\":\"white\",\"gridwidth\":2},\"zaxis\":{\"backgroundcolor\":\"#E5ECF6\",\"gridcolor\":\"white\",\"linecolor\":\"white\",\"showbackground\":true,\"ticks\":\"\",\"zerolinecolor\":\"white\",\"gridwidth\":2}},\"shapedefaults\":{\"line\":{\"color\":\"#2a3f5f\"}},\"annotationdefaults\":{\"arrowcolor\":\"#2a3f5f\",\"arrowhead\":0,\"arrowwidth\":1},\"geo\":{\"bgcolor\":\"white\",\"landcolor\":\"#E5ECF6\",\"subunitcolor\":\"white\",\"showland\":true,\"showlakes\":true,\"lakecolor\":\"white\"},\"title\":{\"x\":0.05},\"mapbox\":{\"style\":\"light\"}}},\"xaxis\":{\"anchor\":\"y\",\"domain\":[0.0,0.1183673469387755],\"showticklabels\":false},\"yaxis\":{\"anchor\":\"x\",\"domain\":[0.84375,1.0],\"showticklabels\":false},\"xaxis2\":{\"anchor\":\"y2\",\"domain\":[0.14693877551020407,0.26530612244897955],\"showticklabels\":false},\"yaxis2\":{\"anchor\":\"x2\",\"domain\":[0.84375,1.0],\"showticklabels\":false},\"xaxis3\":{\"anchor\":\"y3\",\"domain\":[0.29387755102040813,0.4122448979591836],\"showticklabels\":false},\"yaxis3\":{\"anchor\":\"x3\",\"domain\":[0.84375,1.0],\"showticklabels\":false},\"xaxis4\":{\"anchor\":\"y4\",\"domain\":[0.4408163265306122,0.5591836734693877],\"showticklabels\":false},\"yaxis4\":{\"anchor\":\"x4\",\"domain\":[0.84375,1.0],\"showticklabels\":false},\"xaxis5\":{\"anchor\":\"y5\",\"domain\":[0.5877551020408163,0.7061224489795918],\"showticklabels\":false},\"yaxis5\":{\"anchor\":\"x5\",\"domain\":[0.84375,1.0],\"showticklabels\":false},\"xaxis6\":{\"anchor\":\"y6\",\"domain\":[0.7346938775510204,0.8530612244897959],\"showticklabels\":false},\"yaxis6\":{\"anchor\":\"x6\",\"domain\":[0.84375,1.0],\"showticklabels\":false},\"xaxis7\":{\"anchor\":\"y7\",\"domain\":[0.8816326530612244,0.9999999999999999],\"showticklabels\":false},\"yaxis7\":{\"anchor\":\"x7\",\"domain\":[0.84375,1.0],\"showticklabels\":false},\"xaxis8\":{\"anchor\":\"y8\",\"domain\":[0.0,0.1183673469387755],\"showticklabels\":false},\"yaxis8\":{\"anchor\":\"x8\",\"domain\":[0.5625,0.71875],\"showticklabels\":false},\"xaxis9\":{\"anchor\":\"y9\",\"domain\":[0.14693877551020407,0.26530612244897955],\"showticklabels\":false},\"yaxis9\":{\"anchor\":\"x9\",\"domain\":[0.5625,0.71875],\"showticklabels\":false},\"xaxis10\":{\"anchor\":\"y10\",\"domain\":[0.29387755102040813,0.4122448979591836],\"showticklabels\":false},\"yaxis10\":{\"anchor\":\"x10\",\"domain\":[0.5625,0.71875],\"showticklabels\":false},\"xaxis11\":{\"anchor\":\"y11\",\"domain\":[0.4408163265306122,0.5591836734693877],\"showticklabels\":false},\"yaxis11\":{\"anchor\":\"x11\",\"domain\":[0.5625,0.71875],\"showticklabels\":false},\"xaxis12\":{\"anchor\":\"y12\",\"domain\":[0.5877551020408163,0.7061224489795918],\"showticklabels\":false},\"yaxis12\":{\"anchor\":\"x12\",\"domain\":[0.5625,0.71875],\"showticklabels\":false},\"xaxis13\":{\"anchor\":\"y13\",\"domain\":[0.7346938775510204,0.8530612244897959],\"showticklabels\":false},\"yaxis13\":{\"anchor\":\"x13\",\"domain\":[0.5625,0.71875],\"showticklabels\":false},\"xaxis14\":{\"anchor\":\"y14\",\"domain\":[0.8816326530612244,0.9999999999999999],\"showticklabels\":false},\"yaxis14\":{\"anchor\":\"x14\",\"domain\":[0.5625,0.71875],\"showticklabels\":false},\"xaxis15\":{\"anchor\":\"y15\",\"domain\":[0.0,0.1183673469387755],\"showticklabels\":false},\"yaxis15\":{\"anchor\":\"x15\",\"domain\":[0.28125,0.4375],\"showticklabels\":false},\"xaxis16\":{\"anchor\":\"y16\",\"domain\":[0.14693877551020407,0.26530612244897955],\"showticklabels\":false},\"yaxis16\":{\"anchor\":\"x16\",\"domain\":[0.28125,0.4375],\"showticklabels\":false},\"xaxis17\":{\"anchor\":\"y17\",\"domain\":[0.29387755102040813,0.4122448979591836],\"showticklabels\":false},\"yaxis17\":{\"anchor\":\"x17\",\"domain\":[0.28125,0.4375],\"showticklabels\":false},\"xaxis18\":{\"anchor\":\"y18\",\"domain\":[0.4408163265306122,0.5591836734693877],\"showticklabels\":false},\"yaxis18\":{\"anchor\":\"x18\",\"domain\":[0.28125,0.4375],\"showticklabels\":false},\"xaxis19\":{\"anchor\":\"y19\",\"domain\":[0.5877551020408163,0.7061224489795918],\"showticklabels\":false},\"yaxis19\":{\"anchor\":\"x19\",\"domain\":[0.28125,0.4375],\"showticklabels\":false},\"xaxis20\":{\"anchor\":\"y20\",\"domain\":[0.7346938775510204,0.8530612244897959],\"showticklabels\":false},\"yaxis20\":{\"anchor\":\"x20\",\"domain\":[0.28125,0.4375],\"showticklabels\":false},\"xaxis21\":{\"anchor\":\"y21\",\"domain\":[0.8816326530612244,0.9999999999999999],\"showticklabels\":false},\"yaxis21\":{\"anchor\":\"x21\",\"domain\":[0.28125,0.4375],\"showticklabels\":false},\"xaxis22\":{\"anchor\":\"y22\",\"domain\":[0.0,0.1183673469387755]},\"yaxis22\":{\"anchor\":\"x22\",\"domain\":[0.0,0.15625]},\"xaxis23\":{\"anchor\":\"y23\",\"domain\":[0.14693877551020407,0.26530612244897955]},\"yaxis23\":{\"anchor\":\"x23\",\"domain\":[0.0,0.15625]},\"xaxis24\":{\"anchor\":\"y24\",\"domain\":[0.29387755102040813,0.4122448979591836]},\"yaxis24\":{\"anchor\":\"x24\",\"domain\":[0.0,0.15625]},\"xaxis25\":{\"anchor\":\"y25\",\"domain\":[0.4408163265306122,0.5591836734693877]},\"yaxis25\":{\"anchor\":\"x25\",\"domain\":[0.0,0.15625]},\"xaxis26\":{\"anchor\":\"y26\",\"domain\":[0.5877551020408163,0.7061224489795918]},\"yaxis26\":{\"anchor\":\"x26\",\"domain\":[0.0,0.15625]},\"xaxis27\":{\"anchor\":\"y27\",\"domain\":[0.7346938775510204,0.8530612244897959]},\"yaxis27\":{\"anchor\":\"x27\",\"domain\":[0.0,0.15625]},\"xaxis28\":{\"anchor\":\"y28\",\"domain\":[0.8816326530612244,0.9999999999999999]},\"yaxis28\":{\"anchor\":\"x28\",\"domain\":[0.0,0.15625]},\"annotations\":[{\"font\":{\"size\":16},\"showarrow\":false,\"text\":\"frame_1\",\"x\":0.05918367346938775,\"xanchor\":\"center\",\"xref\":\"paper\",\"y\":1.0,\"yanchor\":\"bottom\",\"yref\":\"paper\"},{\"font\":{\"size\":16},\"showarrow\":false,\"text\":\"frame_2\",\"x\":0.2061224489795918,\"xanchor\":\"center\",\"xref\":\"paper\",\"y\":1.0,\"yanchor\":\"bottom\",\"yref\":\"paper\"},{\"font\":{\"size\":16},\"showarrow\":false,\"text\":\"frame_3\",\"x\":0.3530612244897959,\"xanchor\":\"center\",\"xref\":\"paper\",\"y\":1.0,\"yanchor\":\"bottom\",\"yref\":\"paper\"},{\"font\":{\"size\":16},\"showarrow\":false,\"text\":\"frame_4\",\"x\":0.49999999999999994,\"xanchor\":\"center\",\"xref\":\"paper\",\"y\":1.0,\"yanchor\":\"bottom\",\"yref\":\"paper\"},{\"font\":{\"size\":16},\"showarrow\":false,\"text\":\"frame_5\",\"x\":0.6469387755102041,\"xanchor\":\"center\",\"xref\":\"paper\",\"y\":1.0,\"yanchor\":\"bottom\",\"yref\":\"paper\"},{\"font\":{\"size\":16},\"showarrow\":false,\"text\":\"frame_6\",\"x\":0.7938775510204081,\"xanchor\":\"center\",\"xref\":\"paper\",\"y\":1.0,\"yanchor\":\"bottom\",\"yref\":\"paper\"},{\"font\":{\"size\":16},\"showarrow\":false,\"text\":\"frame_7\",\"x\":0.9408163265306122,\"xanchor\":\"center\",\"xref\":\"paper\",\"y\":1.0,\"yanchor\":\"bottom\",\"yref\":\"paper\"},{\"font\":{\"size\":16},\"showarrow\":false,\"text\":\"frame_8\",\"x\":0.05918367346938775,\"xanchor\":\"center\",\"xref\":\"paper\",\"y\":0.71875,\"yanchor\":\"bottom\",\"yref\":\"paper\"},{\"font\":{\"size\":16},\"showarrow\":false,\"text\":\"frame_9\",\"x\":0.2061224489795918,\"xanchor\":\"center\",\"xref\":\"paper\",\"y\":0.71875,\"yanchor\":\"bottom\",\"yref\":\"paper\"},{\"font\":{\"size\":16},\"showarrow\":false,\"text\":\"frame_10\",\"x\":0.3530612244897959,\"xanchor\":\"center\",\"xref\":\"paper\",\"y\":0.71875,\"yanchor\":\"bottom\",\"yref\":\"paper\"},{\"font\":{\"size\":16},\"showarrow\":false,\"text\":\"frame_11\",\"x\":0.49999999999999994,\"xanchor\":\"center\",\"xref\":\"paper\",\"y\":0.71875,\"yanchor\":\"bottom\",\"yref\":\"paper\"},{\"font\":{\"size\":16},\"showarrow\":false,\"text\":\"frame_12\",\"x\":0.6469387755102041,\"xanchor\":\"center\",\"xref\":\"paper\",\"y\":0.71875,\"yanchor\":\"bottom\",\"yref\":\"paper\"},{\"font\":{\"size\":16},\"showarrow\":false,\"text\":\"frame_13\",\"x\":0.7938775510204081,\"xanchor\":\"center\",\"xref\":\"paper\",\"y\":0.71875,\"yanchor\":\"bottom\",\"yref\":\"paper\"},{\"font\":{\"size\":16},\"showarrow\":false,\"text\":\"frame_14\",\"x\":0.9408163265306122,\"xanchor\":\"center\",\"xref\":\"paper\",\"y\":0.71875,\"yanchor\":\"bottom\",\"yref\":\"paper\"},{\"font\":{\"size\":16},\"showarrow\":false,\"text\":\"frame_15\",\"x\":0.05918367346938775,\"xanchor\":\"center\",\"xref\":\"paper\",\"y\":0.4375,\"yanchor\":\"bottom\",\"yref\":\"paper\"},{\"font\":{\"size\":16},\"showarrow\":false,\"text\":\"frame_16\",\"x\":0.2061224489795918,\"xanchor\":\"center\",\"xref\":\"paper\",\"y\":0.4375,\"yanchor\":\"bottom\",\"yref\":\"paper\"},{\"font\":{\"size\":16},\"showarrow\":false,\"text\":\"frame_17\",\"x\":0.3530612244897959,\"xanchor\":\"center\",\"xref\":\"paper\",\"y\":0.4375,\"yanchor\":\"bottom\",\"yref\":\"paper\"},{\"font\":{\"size\":16},\"showarrow\":false,\"text\":\"frame_18\",\"x\":0.49999999999999994,\"xanchor\":\"center\",\"xref\":\"paper\",\"y\":0.4375,\"yanchor\":\"bottom\",\"yref\":\"paper\"},{\"font\":{\"size\":16},\"showarrow\":false,\"text\":\"frame_19\",\"x\":0.6469387755102041,\"xanchor\":\"center\",\"xref\":\"paper\",\"y\":0.4375,\"yanchor\":\"bottom\",\"yref\":\"paper\"},{\"font\":{\"size\":16},\"showarrow\":false,\"text\":\"frame_20\",\"x\":0.7938775510204081,\"xanchor\":\"center\",\"xref\":\"paper\",\"y\":0.4375,\"yanchor\":\"bottom\",\"yref\":\"paper\"},{\"font\":{\"size\":16},\"showarrow\":false,\"text\":\"frame_21\",\"x\":0.9408163265306122,\"xanchor\":\"center\",\"xref\":\"paper\",\"y\":0.4375,\"yanchor\":\"bottom\",\"yref\":\"paper\"},{\"font\":{\"color\":\"black\",\"size\":40},\"showarrow\":false,\"text\":\"Frame\",\"x\":0.5,\"xanchor\":\"center\",\"xref\":\"paper\",\"y\":0,\"yanchor\":\"top\",\"yref\":\"paper\",\"yshift\":-30},{\"font\":{\"color\":\"black\",\"size\":40},\"showarrow\":false,\"text\":\"Intensity\",\"textangle\":-90,\"x\":0,\"xanchor\":\"right\",\"xref\":\"paper\",\"xshift\":-40,\"y\":0.5,\"yanchor\":\"middle\",\"yref\":\"paper\"}]},                        {\"responsive\": true}                    ).then(function(){\n",
       "                            \n",
       "var gd = document.getElementById('f6c8a866-87a5-44ba-9d96-5ad1efb21574');\n",
       "var x = new MutationObserver(function (mutations, observer) {{\n",
       "        var display = window.getComputedStyle(gd).display;\n",
       "        if (!display || display === 'none') {{\n",
       "            console.log([gd, 'removed!']);\n",
       "            Plotly.purge(gd);\n",
       "            observer.disconnect();\n",
       "        }}\n",
       "}});\n",
       "\n",
       "// Listen for the removal of the full notebook cells\n",
       "var notebookContainer = gd.closest('#notebook-container');\n",
       "if (notebookContainer) {{\n",
       "    x.observe(notebookContainer, {childList: true});\n",
       "}}\n",
       "\n",
       "// Listen for the clearing of the current output cell\n",
       "var outputEl = gd.closest('.output');\n",
       "if (outputEl) {{\n",
       "    x.observe(outputEl, {childList: true});\n",
       "}}\n",
       "\n",
       "                        })                };                });            </script>        </div>"
      ]
     },
     "metadata": {},
     "output_type": "display_data"
    }
   ],
   "source": [
    "plot_raw_movie(plot_type = 'max_intensity_projection', raw_image = raw_image_3,track_number = 516\n",
    "               ,main_tracking_df =track_df)"
   ]
  },
  {
   "cell_type": "code",
   "execution_count": 244,
   "id": "92a7251f",
   "metadata": {},
   "outputs": [
    {
     "data": {
      "application/vnd.plotly.v1+json": {
       "config": {
        "plotlyServerURL": "https://plot.ly"
       },
       "data": [
        {
         "line": {
          "color": "red",
          "width": 4
         },
         "name": "Channel 3",
         "type": "scatter",
         "x": [
          0,
          1,
          2,
          3,
          4,
          5,
          6,
          7,
          8,
          9,
          10,
          11,
          12,
          13,
          14,
          15,
          16,
          17,
          18,
          19,
          20
         ],
         "y": [
          220.45125560756438,
          236.66666666666666,
          222.31894270159594,
          220.15173304867002,
          248.5038892458057,
          238.33333333333334,
          217.86462370157656,
          215.80183900258328,
          223.91055958944287,
          260.0911621132771,
          280.3333333333333,
          244.33333333333368,
          275.3333333333333,
          269.36777964823915,
          260.3333333333333,
          277.53015857372554,
          272.3333333333333,
          300.33333333333377,
          271.3333333333333,
          272.3333333333246,
          233.89457672921642
         ]
        },
        {
         "line": {
          "color": "green",
          "width": 4
         },
         "name": "Channel 2",
         "type": "scatter",
         "x": [
          0,
          1,
          2,
          3,
          4,
          5,
          6,
          7,
          8,
          9,
          10,
          11,
          12,
          13,
          14,
          15,
          16,
          17,
          18,
          19,
          20
         ],
         "y": [
          141.66666666666666,
          131.76666666666668,
          124.82857142857142,
          134.28571428571428,
          121.8,
          120.48,
          120.94444444444444,
          127.37142857142857,
          127.05714285714286,
          124.33333333333333,
          129.73333333333332,
          135.45714285714286,
          124.85714285714286,
          141.38888888888889,
          148.56,
          196.1904761904762,
          175.9047619047619,
          159.13333333333333,
          156.26666666666668,
          177.33333333333334,
          183.16666666666666
         ]
        }
       ],
       "layout": {
        "autosize": true,
        "template": {
         "data": {
          "bar": [
           {
            "error_x": {
             "color": "#2a3f5f"
            },
            "error_y": {
             "color": "#2a3f5f"
            },
            "marker": {
             "line": {
              "color": "#E5ECF6",
              "width": 0.5
             },
             "pattern": {
              "fillmode": "overlay",
              "size": 10,
              "solidity": 0.2
             }
            },
            "type": "bar"
           }
          ],
          "barpolar": [
           {
            "marker": {
             "line": {
              "color": "#E5ECF6",
              "width": 0.5
             },
             "pattern": {
              "fillmode": "overlay",
              "size": 10,
              "solidity": 0.2
             }
            },
            "type": "barpolar"
           }
          ],
          "carpet": [
           {
            "aaxis": {
             "endlinecolor": "#2a3f5f",
             "gridcolor": "white",
             "linecolor": "white",
             "minorgridcolor": "white",
             "startlinecolor": "#2a3f5f"
            },
            "baxis": {
             "endlinecolor": "#2a3f5f",
             "gridcolor": "white",
             "linecolor": "white",
             "minorgridcolor": "white",
             "startlinecolor": "#2a3f5f"
            },
            "type": "carpet"
           }
          ],
          "choropleth": [
           {
            "colorbar": {
             "outlinewidth": 0,
             "ticks": ""
            },
            "type": "choropleth"
           }
          ],
          "contour": [
           {
            "colorbar": {
             "outlinewidth": 0,
             "ticks": ""
            },
            "colorscale": [
             [
              0,
              "#0d0887"
             ],
             [
              0.1111111111111111,
              "#46039f"
             ],
             [
              0.2222222222222222,
              "#7201a8"
             ],
             [
              0.3333333333333333,
              "#9c179e"
             ],
             [
              0.4444444444444444,
              "#bd3786"
             ],
             [
              0.5555555555555556,
              "#d8576b"
             ],
             [
              0.6666666666666666,
              "#ed7953"
             ],
             [
              0.7777777777777778,
              "#fb9f3a"
             ],
             [
              0.8888888888888888,
              "#fdca26"
             ],
             [
              1,
              "#f0f921"
             ]
            ],
            "type": "contour"
           }
          ],
          "contourcarpet": [
           {
            "colorbar": {
             "outlinewidth": 0,
             "ticks": ""
            },
            "type": "contourcarpet"
           }
          ],
          "heatmap": [
           {
            "colorbar": {
             "outlinewidth": 0,
             "ticks": ""
            },
            "colorscale": [
             [
              0,
              "#0d0887"
             ],
             [
              0.1111111111111111,
              "#46039f"
             ],
             [
              0.2222222222222222,
              "#7201a8"
             ],
             [
              0.3333333333333333,
              "#9c179e"
             ],
             [
              0.4444444444444444,
              "#bd3786"
             ],
             [
              0.5555555555555556,
              "#d8576b"
             ],
             [
              0.6666666666666666,
              "#ed7953"
             ],
             [
              0.7777777777777778,
              "#fb9f3a"
             ],
             [
              0.8888888888888888,
              "#fdca26"
             ],
             [
              1,
              "#f0f921"
             ]
            ],
            "type": "heatmap"
           }
          ],
          "heatmapgl": [
           {
            "colorbar": {
             "outlinewidth": 0,
             "ticks": ""
            },
            "colorscale": [
             [
              0,
              "#0d0887"
             ],
             [
              0.1111111111111111,
              "#46039f"
             ],
             [
              0.2222222222222222,
              "#7201a8"
             ],
             [
              0.3333333333333333,
              "#9c179e"
             ],
             [
              0.4444444444444444,
              "#bd3786"
             ],
             [
              0.5555555555555556,
              "#d8576b"
             ],
             [
              0.6666666666666666,
              "#ed7953"
             ],
             [
              0.7777777777777778,
              "#fb9f3a"
             ],
             [
              0.8888888888888888,
              "#fdca26"
             ],
             [
              1,
              "#f0f921"
             ]
            ],
            "type": "heatmapgl"
           }
          ],
          "histogram": [
           {
            "marker": {
             "pattern": {
              "fillmode": "overlay",
              "size": 10,
              "solidity": 0.2
             }
            },
            "type": "histogram"
           }
          ],
          "histogram2d": [
           {
            "colorbar": {
             "outlinewidth": 0,
             "ticks": ""
            },
            "colorscale": [
             [
              0,
              "#0d0887"
             ],
             [
              0.1111111111111111,
              "#46039f"
             ],
             [
              0.2222222222222222,
              "#7201a8"
             ],
             [
              0.3333333333333333,
              "#9c179e"
             ],
             [
              0.4444444444444444,
              "#bd3786"
             ],
             [
              0.5555555555555556,
              "#d8576b"
             ],
             [
              0.6666666666666666,
              "#ed7953"
             ],
             [
              0.7777777777777778,
              "#fb9f3a"
             ],
             [
              0.8888888888888888,
              "#fdca26"
             ],
             [
              1,
              "#f0f921"
             ]
            ],
            "type": "histogram2d"
           }
          ],
          "histogram2dcontour": [
           {
            "colorbar": {
             "outlinewidth": 0,
             "ticks": ""
            },
            "colorscale": [
             [
              0,
              "#0d0887"
             ],
             [
              0.1111111111111111,
              "#46039f"
             ],
             [
              0.2222222222222222,
              "#7201a8"
             ],
             [
              0.3333333333333333,
              "#9c179e"
             ],
             [
              0.4444444444444444,
              "#bd3786"
             ],
             [
              0.5555555555555556,
              "#d8576b"
             ],
             [
              0.6666666666666666,
              "#ed7953"
             ],
             [
              0.7777777777777778,
              "#fb9f3a"
             ],
             [
              0.8888888888888888,
              "#fdca26"
             ],
             [
              1,
              "#f0f921"
             ]
            ],
            "type": "histogram2dcontour"
           }
          ],
          "mesh3d": [
           {
            "colorbar": {
             "outlinewidth": 0,
             "ticks": ""
            },
            "type": "mesh3d"
           }
          ],
          "parcoords": [
           {
            "line": {
             "colorbar": {
              "outlinewidth": 0,
              "ticks": ""
             }
            },
            "type": "parcoords"
           }
          ],
          "pie": [
           {
            "automargin": true,
            "type": "pie"
           }
          ],
          "scatter": [
           {
            "fillpattern": {
             "fillmode": "overlay",
             "size": 10,
             "solidity": 0.2
            },
            "type": "scatter"
           }
          ],
          "scatter3d": [
           {
            "line": {
             "colorbar": {
              "outlinewidth": 0,
              "ticks": ""
             }
            },
            "marker": {
             "colorbar": {
              "outlinewidth": 0,
              "ticks": ""
             }
            },
            "type": "scatter3d"
           }
          ],
          "scattercarpet": [
           {
            "marker": {
             "colorbar": {
              "outlinewidth": 0,
              "ticks": ""
             }
            },
            "type": "scattercarpet"
           }
          ],
          "scattergeo": [
           {
            "marker": {
             "colorbar": {
              "outlinewidth": 0,
              "ticks": ""
             }
            },
            "type": "scattergeo"
           }
          ],
          "scattergl": [
           {
            "marker": {
             "colorbar": {
              "outlinewidth": 0,
              "ticks": ""
             }
            },
            "type": "scattergl"
           }
          ],
          "scattermapbox": [
           {
            "marker": {
             "colorbar": {
              "outlinewidth": 0,
              "ticks": ""
             }
            },
            "type": "scattermapbox"
           }
          ],
          "scatterpolar": [
           {
            "marker": {
             "colorbar": {
              "outlinewidth": 0,
              "ticks": ""
             }
            },
            "type": "scatterpolar"
           }
          ],
          "scatterpolargl": [
           {
            "marker": {
             "colorbar": {
              "outlinewidth": 0,
              "ticks": ""
             }
            },
            "type": "scatterpolargl"
           }
          ],
          "scatterternary": [
           {
            "marker": {
             "colorbar": {
              "outlinewidth": 0,
              "ticks": ""
             }
            },
            "type": "scatterternary"
           }
          ],
          "surface": [
           {
            "colorbar": {
             "outlinewidth": 0,
             "ticks": ""
            },
            "colorscale": [
             [
              0,
              "#0d0887"
             ],
             [
              0.1111111111111111,
              "#46039f"
             ],
             [
              0.2222222222222222,
              "#7201a8"
             ],
             [
              0.3333333333333333,
              "#9c179e"
             ],
             [
              0.4444444444444444,
              "#bd3786"
             ],
             [
              0.5555555555555556,
              "#d8576b"
             ],
             [
              0.6666666666666666,
              "#ed7953"
             ],
             [
              0.7777777777777778,
              "#fb9f3a"
             ],
             [
              0.8888888888888888,
              "#fdca26"
             ],
             [
              1,
              "#f0f921"
             ]
            ],
            "type": "surface"
           }
          ],
          "table": [
           {
            "cells": {
             "fill": {
              "color": "#EBF0F8"
             },
             "line": {
              "color": "white"
             }
            },
            "header": {
             "fill": {
              "color": "#C8D4E3"
             },
             "line": {
              "color": "white"
             }
            },
            "type": "table"
           }
          ]
         },
         "layout": {
          "annotationdefaults": {
           "arrowcolor": "#2a3f5f",
           "arrowhead": 0,
           "arrowwidth": 1
          },
          "autotypenumbers": "strict",
          "coloraxis": {
           "colorbar": {
            "outlinewidth": 0,
            "ticks": ""
           }
          },
          "colorscale": {
           "diverging": [
            [
             0,
             "#8e0152"
            ],
            [
             0.1,
             "#c51b7d"
            ],
            [
             0.2,
             "#de77ae"
            ],
            [
             0.3,
             "#f1b6da"
            ],
            [
             0.4,
             "#fde0ef"
            ],
            [
             0.5,
             "#f7f7f7"
            ],
            [
             0.6,
             "#e6f5d0"
            ],
            [
             0.7,
             "#b8e186"
            ],
            [
             0.8,
             "#7fbc41"
            ],
            [
             0.9,
             "#4d9221"
            ],
            [
             1,
             "#276419"
            ]
           ],
           "sequential": [
            [
             0,
             "#0d0887"
            ],
            [
             0.1111111111111111,
             "#46039f"
            ],
            [
             0.2222222222222222,
             "#7201a8"
            ],
            [
             0.3333333333333333,
             "#9c179e"
            ],
            [
             0.4444444444444444,
             "#bd3786"
            ],
            [
             0.5555555555555556,
             "#d8576b"
            ],
            [
             0.6666666666666666,
             "#ed7953"
            ],
            [
             0.7777777777777778,
             "#fb9f3a"
            ],
            [
             0.8888888888888888,
             "#fdca26"
            ],
            [
             1,
             "#f0f921"
            ]
           ],
           "sequentialminus": [
            [
             0,
             "#0d0887"
            ],
            [
             0.1111111111111111,
             "#46039f"
            ],
            [
             0.2222222222222222,
             "#7201a8"
            ],
            [
             0.3333333333333333,
             "#9c179e"
            ],
            [
             0.4444444444444444,
             "#bd3786"
            ],
            [
             0.5555555555555556,
             "#d8576b"
            ],
            [
             0.6666666666666666,
             "#ed7953"
            ],
            [
             0.7777777777777778,
             "#fb9f3a"
            ],
            [
             0.8888888888888888,
             "#fdca26"
            ],
            [
             1,
             "#f0f921"
            ]
           ]
          },
          "colorway": [
           "#636efa",
           "#EF553B",
           "#00cc96",
           "#ab63fa",
           "#FFA15A",
           "#19d3f3",
           "#FF6692",
           "#B6E880",
           "#FF97FF",
           "#FECB52"
          ],
          "font": {
           "color": "#2a3f5f"
          },
          "geo": {
           "bgcolor": "white",
           "lakecolor": "white",
           "landcolor": "#E5ECF6",
           "showlakes": true,
           "showland": true,
           "subunitcolor": "white"
          },
          "hoverlabel": {
           "align": "left"
          },
          "hovermode": "closest",
          "mapbox": {
           "style": "light"
          },
          "paper_bgcolor": "white",
          "plot_bgcolor": "#E5ECF6",
          "polar": {
           "angularaxis": {
            "gridcolor": "white",
            "linecolor": "white",
            "ticks": ""
           },
           "bgcolor": "#E5ECF6",
           "radialaxis": {
            "gridcolor": "white",
            "linecolor": "white",
            "ticks": ""
           }
          },
          "scene": {
           "xaxis": {
            "backgroundcolor": "#E5ECF6",
            "gridcolor": "white",
            "gridwidth": 2,
            "linecolor": "white",
            "showbackground": true,
            "ticks": "",
            "zerolinecolor": "white"
           },
           "yaxis": {
            "backgroundcolor": "#E5ECF6",
            "gridcolor": "white",
            "gridwidth": 2,
            "linecolor": "white",
            "showbackground": true,
            "ticks": "",
            "zerolinecolor": "white"
           },
           "zaxis": {
            "backgroundcolor": "#E5ECF6",
            "gridcolor": "white",
            "gridwidth": 2,
            "linecolor": "white",
            "showbackground": true,
            "ticks": "",
            "zerolinecolor": "white"
           }
          },
          "shapedefaults": {
           "line": {
            "color": "#2a3f5f"
           }
          },
          "ternary": {
           "aaxis": {
            "gridcolor": "white",
            "linecolor": "white",
            "ticks": ""
           },
           "baxis": {
            "gridcolor": "white",
            "linecolor": "white",
            "ticks": ""
           },
           "bgcolor": "#E5ECF6",
           "caxis": {
            "gridcolor": "white",
            "linecolor": "white",
            "ticks": ""
           }
          },
          "title": {
           "x": 0.05
          },
          "xaxis": {
           "automargin": true,
           "gridcolor": "white",
           "linecolor": "white",
           "ticks": "",
           "title": {
            "standoff": 15
           },
           "zerolinecolor": "white",
           "zerolinewidth": 2
          },
          "yaxis": {
           "automargin": true,
           "gridcolor": "white",
           "linecolor": "white",
           "ticks": "",
           "title": {
            "standoff": 15
           },
           "zerolinecolor": "white",
           "zerolinewidth": 2
          }
         }
        },
        "title": {
         "font": {
          "color": "black",
          "size": 30
         },
         "text": "Intensity Over Time",
         "x": 0.5
        },
        "xaxis": {
         "color": "black",
         "title": {
          "text": "Frames"
         }
        },
        "yaxis": {
         "color": "black",
         "title": {
          "text": "Amplitude"
         }
        }
       }
      },
      "text/html": [
       "<div>                            <div id=\"9871668c-24a4-4ad1-bf71-0c7b1b389bf7\" class=\"plotly-graph-div\" style=\"height:525px; width:100%;\"></div>            <script type=\"text/javascript\">                require([\"plotly\"], function(Plotly) {                    window.PLOTLYENV=window.PLOTLYENV || {};                                    if (document.getElementById(\"9871668c-24a4-4ad1-bf71-0c7b1b389bf7\")) {                    Plotly.newPlot(                        \"9871668c-24a4-4ad1-bf71-0c7b1b389bf7\",                        [{\"line\":{\"color\":\"red\",\"width\":4},\"name\":\"Channel 3\",\"x\":[0,1,2,3,4,5,6,7,8,9,10,11,12,13,14,15,16,17,18,19,20],\"y\":[220.45125560756438,236.66666666666666,222.31894270159594,220.15173304867002,248.5038892458057,238.33333333333334,217.86462370157656,215.80183900258328,223.91055958944287,260.0911621132771,280.3333333333333,244.33333333333368,275.3333333333333,269.36777964823915,260.3333333333333,277.53015857372554,272.3333333333333,300.33333333333377,271.3333333333333,272.3333333333246,233.89457672921642],\"type\":\"scatter\"},{\"line\":{\"color\":\"green\",\"width\":4},\"name\":\"Channel 2\",\"x\":[0,1,2,3,4,5,6,7,8,9,10,11,12,13,14,15,16,17,18,19,20],\"y\":[141.66666666666666,131.76666666666668,124.82857142857142,134.28571428571428,121.8,120.48,120.94444444444444,127.37142857142857,127.05714285714286,124.33333333333333,129.73333333333332,135.45714285714286,124.85714285714286,141.38888888888889,148.56,196.1904761904762,175.9047619047619,159.13333333333333,156.26666666666668,177.33333333333334,183.16666666666666],\"type\":\"scatter\"}],                        {\"template\":{\"data\":{\"histogram2dcontour\":[{\"type\":\"histogram2dcontour\",\"colorbar\":{\"outlinewidth\":0,\"ticks\":\"\"},\"colorscale\":[[0.0,\"#0d0887\"],[0.1111111111111111,\"#46039f\"],[0.2222222222222222,\"#7201a8\"],[0.3333333333333333,\"#9c179e\"],[0.4444444444444444,\"#bd3786\"],[0.5555555555555556,\"#d8576b\"],[0.6666666666666666,\"#ed7953\"],[0.7777777777777778,\"#fb9f3a\"],[0.8888888888888888,\"#fdca26\"],[1.0,\"#f0f921\"]]}],\"choropleth\":[{\"type\":\"choropleth\",\"colorbar\":{\"outlinewidth\":0,\"ticks\":\"\"}}],\"histogram2d\":[{\"type\":\"histogram2d\",\"colorbar\":{\"outlinewidth\":0,\"ticks\":\"\"},\"colorscale\":[[0.0,\"#0d0887\"],[0.1111111111111111,\"#46039f\"],[0.2222222222222222,\"#7201a8\"],[0.3333333333333333,\"#9c179e\"],[0.4444444444444444,\"#bd3786\"],[0.5555555555555556,\"#d8576b\"],[0.6666666666666666,\"#ed7953\"],[0.7777777777777778,\"#fb9f3a\"],[0.8888888888888888,\"#fdca26\"],[1.0,\"#f0f921\"]]}],\"heatmap\":[{\"type\":\"heatmap\",\"colorbar\":{\"outlinewidth\":0,\"ticks\":\"\"},\"colorscale\":[[0.0,\"#0d0887\"],[0.1111111111111111,\"#46039f\"],[0.2222222222222222,\"#7201a8\"],[0.3333333333333333,\"#9c179e\"],[0.4444444444444444,\"#bd3786\"],[0.5555555555555556,\"#d8576b\"],[0.6666666666666666,\"#ed7953\"],[0.7777777777777778,\"#fb9f3a\"],[0.8888888888888888,\"#fdca26\"],[1.0,\"#f0f921\"]]}],\"heatmapgl\":[{\"type\":\"heatmapgl\",\"colorbar\":{\"outlinewidth\":0,\"ticks\":\"\"},\"colorscale\":[[0.0,\"#0d0887\"],[0.1111111111111111,\"#46039f\"],[0.2222222222222222,\"#7201a8\"],[0.3333333333333333,\"#9c179e\"],[0.4444444444444444,\"#bd3786\"],[0.5555555555555556,\"#d8576b\"],[0.6666666666666666,\"#ed7953\"],[0.7777777777777778,\"#fb9f3a\"],[0.8888888888888888,\"#fdca26\"],[1.0,\"#f0f921\"]]}],\"contourcarpet\":[{\"type\":\"contourcarpet\",\"colorbar\":{\"outlinewidth\":0,\"ticks\":\"\"}}],\"contour\":[{\"type\":\"contour\",\"colorbar\":{\"outlinewidth\":0,\"ticks\":\"\"},\"colorscale\":[[0.0,\"#0d0887\"],[0.1111111111111111,\"#46039f\"],[0.2222222222222222,\"#7201a8\"],[0.3333333333333333,\"#9c179e\"],[0.4444444444444444,\"#bd3786\"],[0.5555555555555556,\"#d8576b\"],[0.6666666666666666,\"#ed7953\"],[0.7777777777777778,\"#fb9f3a\"],[0.8888888888888888,\"#fdca26\"],[1.0,\"#f0f921\"]]}],\"surface\":[{\"type\":\"surface\",\"colorbar\":{\"outlinewidth\":0,\"ticks\":\"\"},\"colorscale\":[[0.0,\"#0d0887\"],[0.1111111111111111,\"#46039f\"],[0.2222222222222222,\"#7201a8\"],[0.3333333333333333,\"#9c179e\"],[0.4444444444444444,\"#bd3786\"],[0.5555555555555556,\"#d8576b\"],[0.6666666666666666,\"#ed7953\"],[0.7777777777777778,\"#fb9f3a\"],[0.8888888888888888,\"#fdca26\"],[1.0,\"#f0f921\"]]}],\"mesh3d\":[{\"type\":\"mesh3d\",\"colorbar\":{\"outlinewidth\":0,\"ticks\":\"\"}}],\"scatter\":[{\"fillpattern\":{\"fillmode\":\"overlay\",\"size\":10,\"solidity\":0.2},\"type\":\"scatter\"}],\"parcoords\":[{\"type\":\"parcoords\",\"line\":{\"colorbar\":{\"outlinewidth\":0,\"ticks\":\"\"}}}],\"scatterpolargl\":[{\"type\":\"scatterpolargl\",\"marker\":{\"colorbar\":{\"outlinewidth\":0,\"ticks\":\"\"}}}],\"bar\":[{\"error_x\":{\"color\":\"#2a3f5f\"},\"error_y\":{\"color\":\"#2a3f5f\"},\"marker\":{\"line\":{\"color\":\"#E5ECF6\",\"width\":0.5},\"pattern\":{\"fillmode\":\"overlay\",\"size\":10,\"solidity\":0.2}},\"type\":\"bar\"}],\"scattergeo\":[{\"type\":\"scattergeo\",\"marker\":{\"colorbar\":{\"outlinewidth\":0,\"ticks\":\"\"}}}],\"scatterpolar\":[{\"type\":\"scatterpolar\",\"marker\":{\"colorbar\":{\"outlinewidth\":0,\"ticks\":\"\"}}}],\"histogram\":[{\"marker\":{\"pattern\":{\"fillmode\":\"overlay\",\"size\":10,\"solidity\":0.2}},\"type\":\"histogram\"}],\"scattergl\":[{\"type\":\"scattergl\",\"marker\":{\"colorbar\":{\"outlinewidth\":0,\"ticks\":\"\"}}}],\"scatter3d\":[{\"type\":\"scatter3d\",\"line\":{\"colorbar\":{\"outlinewidth\":0,\"ticks\":\"\"}},\"marker\":{\"colorbar\":{\"outlinewidth\":0,\"ticks\":\"\"}}}],\"scattermapbox\":[{\"type\":\"scattermapbox\",\"marker\":{\"colorbar\":{\"outlinewidth\":0,\"ticks\":\"\"}}}],\"scatterternary\":[{\"type\":\"scatterternary\",\"marker\":{\"colorbar\":{\"outlinewidth\":0,\"ticks\":\"\"}}}],\"scattercarpet\":[{\"type\":\"scattercarpet\",\"marker\":{\"colorbar\":{\"outlinewidth\":0,\"ticks\":\"\"}}}],\"carpet\":[{\"aaxis\":{\"endlinecolor\":\"#2a3f5f\",\"gridcolor\":\"white\",\"linecolor\":\"white\",\"minorgridcolor\":\"white\",\"startlinecolor\":\"#2a3f5f\"},\"baxis\":{\"endlinecolor\":\"#2a3f5f\",\"gridcolor\":\"white\",\"linecolor\":\"white\",\"minorgridcolor\":\"white\",\"startlinecolor\":\"#2a3f5f\"},\"type\":\"carpet\"}],\"table\":[{\"cells\":{\"fill\":{\"color\":\"#EBF0F8\"},\"line\":{\"color\":\"white\"}},\"header\":{\"fill\":{\"color\":\"#C8D4E3\"},\"line\":{\"color\":\"white\"}},\"type\":\"table\"}],\"barpolar\":[{\"marker\":{\"line\":{\"color\":\"#E5ECF6\",\"width\":0.5},\"pattern\":{\"fillmode\":\"overlay\",\"size\":10,\"solidity\":0.2}},\"type\":\"barpolar\"}],\"pie\":[{\"automargin\":true,\"type\":\"pie\"}]},\"layout\":{\"autotypenumbers\":\"strict\",\"colorway\":[\"#636efa\",\"#EF553B\",\"#00cc96\",\"#ab63fa\",\"#FFA15A\",\"#19d3f3\",\"#FF6692\",\"#B6E880\",\"#FF97FF\",\"#FECB52\"],\"font\":{\"color\":\"#2a3f5f\"},\"hovermode\":\"closest\",\"hoverlabel\":{\"align\":\"left\"},\"paper_bgcolor\":\"white\",\"plot_bgcolor\":\"#E5ECF6\",\"polar\":{\"bgcolor\":\"#E5ECF6\",\"angularaxis\":{\"gridcolor\":\"white\",\"linecolor\":\"white\",\"ticks\":\"\"},\"radialaxis\":{\"gridcolor\":\"white\",\"linecolor\":\"white\",\"ticks\":\"\"}},\"ternary\":{\"bgcolor\":\"#E5ECF6\",\"aaxis\":{\"gridcolor\":\"white\",\"linecolor\":\"white\",\"ticks\":\"\"},\"baxis\":{\"gridcolor\":\"white\",\"linecolor\":\"white\",\"ticks\":\"\"},\"caxis\":{\"gridcolor\":\"white\",\"linecolor\":\"white\",\"ticks\":\"\"}},\"coloraxis\":{\"colorbar\":{\"outlinewidth\":0,\"ticks\":\"\"}},\"colorscale\":{\"sequential\":[[0.0,\"#0d0887\"],[0.1111111111111111,\"#46039f\"],[0.2222222222222222,\"#7201a8\"],[0.3333333333333333,\"#9c179e\"],[0.4444444444444444,\"#bd3786\"],[0.5555555555555556,\"#d8576b\"],[0.6666666666666666,\"#ed7953\"],[0.7777777777777778,\"#fb9f3a\"],[0.8888888888888888,\"#fdca26\"],[1.0,\"#f0f921\"]],\"sequentialminus\":[[0.0,\"#0d0887\"],[0.1111111111111111,\"#46039f\"],[0.2222222222222222,\"#7201a8\"],[0.3333333333333333,\"#9c179e\"],[0.4444444444444444,\"#bd3786\"],[0.5555555555555556,\"#d8576b\"],[0.6666666666666666,\"#ed7953\"],[0.7777777777777778,\"#fb9f3a\"],[0.8888888888888888,\"#fdca26\"],[1.0,\"#f0f921\"]],\"diverging\":[[0,\"#8e0152\"],[0.1,\"#c51b7d\"],[0.2,\"#de77ae\"],[0.3,\"#f1b6da\"],[0.4,\"#fde0ef\"],[0.5,\"#f7f7f7\"],[0.6,\"#e6f5d0\"],[0.7,\"#b8e186\"],[0.8,\"#7fbc41\"],[0.9,\"#4d9221\"],[1,\"#276419\"]]},\"xaxis\":{\"gridcolor\":\"white\",\"linecolor\":\"white\",\"ticks\":\"\",\"title\":{\"standoff\":15},\"zerolinecolor\":\"white\",\"automargin\":true,\"zerolinewidth\":2},\"yaxis\":{\"gridcolor\":\"white\",\"linecolor\":\"white\",\"ticks\":\"\",\"title\":{\"standoff\":15},\"zerolinecolor\":\"white\",\"automargin\":true,\"zerolinewidth\":2},\"scene\":{\"xaxis\":{\"backgroundcolor\":\"#E5ECF6\",\"gridcolor\":\"white\",\"linecolor\":\"white\",\"showbackground\":true,\"ticks\":\"\",\"zerolinecolor\":\"white\",\"gridwidth\":2},\"yaxis\":{\"backgroundcolor\":\"#E5ECF6\",\"gridcolor\":\"white\",\"linecolor\":\"white\",\"showbackground\":true,\"ticks\":\"\",\"zerolinecolor\":\"white\",\"gridwidth\":2},\"zaxis\":{\"backgroundcolor\":\"#E5ECF6\",\"gridcolor\":\"white\",\"linecolor\":\"white\",\"showbackground\":true,\"ticks\":\"\",\"zerolinecolor\":\"white\",\"gridwidth\":2}},\"shapedefaults\":{\"line\":{\"color\":\"#2a3f5f\"}},\"annotationdefaults\":{\"arrowcolor\":\"#2a3f5f\",\"arrowhead\":0,\"arrowwidth\":1},\"geo\":{\"bgcolor\":\"white\",\"landcolor\":\"#E5ECF6\",\"subunitcolor\":\"white\",\"showland\":true,\"showlakes\":true,\"lakecolor\":\"white\"},\"title\":{\"x\":0.05},\"mapbox\":{\"style\":\"light\"}}},\"title\":{\"text\":\"Intensity Over Time\",\"x\":0.5,\"font\":{\"color\":\"black\",\"size\":30}},\"xaxis\":{\"title\":{\"text\":\"Frames\"},\"color\":\"black\"},\"yaxis\":{\"title\":{\"text\":\"Amplitude\"},\"color\":\"black\"},\"autosize\":true},                        {\"responsive\": true}                    ).then(function(){\n",
       "                            \n",
       "var gd = document.getElementById('9871668c-24a4-4ad1-bf71-0c7b1b389bf7');\n",
       "var x = new MutationObserver(function (mutations, observer) {{\n",
       "        var display = window.getComputedStyle(gd).display;\n",
       "        if (!display || display === 'none') {{\n",
       "            console.log([gd, 'removed!']);\n",
       "            Plotly.purge(gd);\n",
       "            observer.disconnect();\n",
       "        }}\n",
       "}});\n",
       "\n",
       "// Listen for the removal of the full notebook cells\n",
       "var notebookContainer = gd.closest('#notebook-container');\n",
       "if (notebookContainer) {{\n",
       "    x.observe(notebookContainer, {childList: true});\n",
       "}}\n",
       "\n",
       "// Listen for the clearing of the current output cell\n",
       "var outputEl = gd.closest('.output');\n",
       "if (outputEl) {{\n",
       "    x.observe(outputEl, {childList: true});\n",
       "}}\n",
       "\n",
       "                        })                };                });            </script>        </div>"
      ]
     },
     "metadata": {},
     "output_type": "display_data"
    }
   ],
   "source": [
    "plot_intensity_over_time(91,track_df)"
   ]
  },
  {
   "cell_type": "code",
   "execution_count": null,
   "id": "c067bd11",
   "metadata": {},
   "outputs": [],
   "source": []
  }
 ],
 "metadata": {
  "kernelspec": {
   "display_name": "Python 3 (ipykernel)",
   "language": "python",
   "name": "python3"
  },
  "language_info": {
   "codemirror_mode": {
    "name": "ipython",
    "version": 3
   },
   "file_extension": ".py",
   "mimetype": "text/x-python",
   "name": "python",
   "nbconvert_exporter": "python",
   "pygments_lexer": "ipython3",
   "version": "3.10.13"
  }
 },
 "nbformat": 4,
 "nbformat_minor": 5
}
