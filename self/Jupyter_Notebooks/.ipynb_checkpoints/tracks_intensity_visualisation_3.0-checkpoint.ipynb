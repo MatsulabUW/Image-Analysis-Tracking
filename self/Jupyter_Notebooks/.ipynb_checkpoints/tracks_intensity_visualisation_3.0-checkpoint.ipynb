{
 "cells": [
  {
   "cell_type": "code",
   "execution_count": 1,
   "id": "46d9a76f",
   "metadata": {},
   "outputs": [],
   "source": [
    "from os import path\n",
    "import pandas as pd\n",
    "from IPython.display import display\n",
    "from matplotlib import pyplot as plt\n",
    "import napari\n",
    "from skimage import io\n",
    "import matplotlib.pyplot as plt\n",
    "import seaborn as sns\n",
    "import numpy as np\n",
    "import plotly.graph_objects as go\n",
    "from plotly.subplots import make_subplots\n",
    "import plotly.express as px\n",
    "\n",
    "\n",
    "plt.rcParams[\"font.family\"] = \"\""
   ]
  },
  {
   "cell_type": "code",
   "execution_count": 2,
   "id": "4f12778e",
   "metadata": {},
   "outputs": [],
   "source": [
    "def max_z_track_visualisation(track_of_interest,raw_image,main_tracking_df):\n",
    "    \n",
    "    \n",
    "    current_track = main_tracking_df[main_tracking_df['track_id'] == track_of_interest]\n",
    "    #A black image with all pixels set to zero\n",
    "    empty_layer = np.zeros_like(raw_image_3)\n",
    "\n",
    "    # Loop through tracks and set values in the volume\n",
    "    for index, track in current_track.iterrows():\n",
    "        frame, mu_z, mu_y, mu_x = int(track['frame']), track['mu_z'], track['mu_y'], track['mu_x']\n",
    "        #sigma_z, sigma_y, sigma_x = track['sigma_z'], track['sigma_y'], track['sigma_x']\n",
    "        sigma_z = 4\n",
    "        sigma_y = 2\n",
    "        sigma_x = 2\n",
    "\n",
    "        # Define the bounding box based on center and sigma\n",
    "        z_start, z_end = int(mu_z - 3 * sigma_z), int(mu_z + 3 * sigma_z)\n",
    "        y_start, y_end = int(mu_y - 3 * sigma_y), int(mu_y + 3 * sigma_y)\n",
    "        x_start, x_end = int(mu_x - 3 * sigma_x), int(mu_x + 3 * sigma_x)\n",
    "\n",
    "        # Clip the coordinates to be within the image bounds\n",
    "        z_start = max(0, z_start)\n",
    "        y_start = max(0, y_start)\n",
    "        x_start = max(0, x_start)\n",
    "        z_end = min(raw_image.shape[1], z_end)\n",
    "        y_end = min(raw_image.shape[2], y_end)\n",
    "        x_end = min(raw_image.shape[3], x_end)\n",
    "\n",
    "        # Extract the region from the raw image data\n",
    "        #print(frame,z_start,z_end, y_start,y_end, x_start,x_end)\n",
    "        #region_data = raw_image_3[frame, z_start:z_end, y_start:y_end, x_start:x_end]\n",
    "\n",
    "        # Set everything outside the region to zero\n",
    "        # Set the region inside the bounding box to the corresponding values in raw_image_data\n",
    "        empty_layer[frame, z_start:z_end, y_start:y_end, x_start:x_end] = raw_image[frame, z_start:z_end, y_start:y_end, x_start:x_end]\n",
    "        \n",
    "\n",
    "    # Assuming 'your_4d_array' is the numpy array with dimensions (Time, z, y, x)\n",
    "\n",
    "    # Get the shape of the array\n",
    "    time_points, z_values, y_values, x_values = empty_layer.shape\n",
    "\n",
    "    # Create an empty 3D array to store the result\n",
    "    result_array = np.zeros((time_points, y_values, x_values))\n",
    "\n",
    "    # Loop through each time point\n",
    "    for t in range(time_points):\n",
    "        # Calculate the sum along the z-axis\n",
    "        z_sum = np.sum(empty_layer[t, :, :, :], axis=(1, 2))\n",
    "\n",
    "        # Find the index of the maximum sum\n",
    "        max_sum_index = np.argmax(z_sum)\n",
    "\n",
    "        # Select the slice with the maximum sum\n",
    "        result_array[t, :, :] = empty_layer[t, max_sum_index, :, :]\n",
    "        \n",
    "    \n",
    "    return result_array\n",
    "\n",
    "    # Now, 'result_array' contains the 3D array with the maximum sum along the z-axis for each time point\n"
   ]
  },
  {
   "cell_type": "code",
   "execution_count": 3,
   "id": "dc79deb2",
   "metadata": {},
   "outputs": [],
   "source": [
    "def max_intensity_projection_track_visualisation(track_of_interest,raw_image,main_tracking_df):\n",
    "    \n",
    "    \n",
    "    current_track = main_tracking_df[main_tracking_df['track_id'] == track_of_interest]\n",
    "    #A black image with all pixels set to zero\n",
    "    empty_layer = np.zeros_like(raw_image)\n",
    "\n",
    "    # Loop through tracks and set values in the volume\n",
    "    for index, track in current_track.iterrows():\n",
    "        frame, mu_z, mu_y, mu_x = int(track['frame']), track['mu_z'], track['mu_y'], track['mu_x']\n",
    "        #sigma_z, sigma_y, sigma_x = track['sigma_z'], track['sigma_y'], track['sigma_x']\n",
    "        sigma_z = 4\n",
    "        sigma_y = 2\n",
    "        sigma_x = 2\n",
    "\n",
    "        # Define the bounding box based on center and sigma\n",
    "        z_start, z_end = int(mu_z - 3 * sigma_z), int(mu_z + 3 * sigma_z)\n",
    "        y_start, y_end = int(mu_y - 3 * sigma_y), int(mu_y + 3 * sigma_y)\n",
    "        x_start, x_end = int(mu_x - 3 * sigma_x), int(mu_x + 3 * sigma_x)\n",
    "\n",
    "        # Clip the coordinates to be within the image bounds\n",
    "        z_start = max(0, z_start)\n",
    "        y_start = max(0, y_start)\n",
    "        x_start = max(0, x_start)\n",
    "        z_end = min(raw_image.shape[1], z_end)\n",
    "        y_end = min(raw_image.shape[2], y_end)\n",
    "        x_end = min(raw_image.shape[3], x_end)\n",
    "\n",
    "        # Extract the region from the raw image data\n",
    "        #print(frame,z_start,z_end, y_start,y_end, x_start,x_end)\n",
    "        #region_data = raw_image_3[frame, z_start:z_end, y_start:y_end, x_start:x_end]\n",
    "\n",
    "        # Set everything outside the region to zero\n",
    "        # Set the region inside the bounding box to the corresponding values in raw_image_data\n",
    "        empty_layer[frame, z_start:z_end, y_start:y_end, x_start:x_end] = raw_image[frame, z_start:z_end, y_start:y_end, x_start:x_end]\n",
    "        \n",
    "\n",
    "    # Assuming 'your_4d_array' is the numpy array with dimensions (Time, z, y, x)\n",
    "\n",
    "    # Get the shape of the array\n",
    "    time_points, z_values, y_values, x_values = empty_layer.shape\n",
    "    \n",
    "    # Create an empty array to store the maximum intensity projections in each time \n",
    "    \n",
    "    mip_movie = []\n",
    "    # Loop through each time point\n",
    "    for t in range(time_points):\n",
    "        max_slice = np.max(empty_layer[t],axis=0)\n",
    "        mip_movie.append(max_slice)\n",
    "    \n",
    "    mip_movie = np.array(mip_movie)\n",
    "    return mip_movie\n"
   ]
  },
  {
   "cell_type": "code",
   "execution_count": 4,
   "id": "f6bb2e64",
   "metadata": {},
   "outputs": [],
   "source": [
    "def total_sum_track_visualisation(track_of_interest,raw_image,main_tracking_df):\n",
    "    \n",
    "    \n",
    "    current_track = main_tracking_df[main_tracking_df['track_id'] == track_of_interest]\n",
    "    #A black image with all pixels set to zero\n",
    "    empty_layer = np.zeros_like(raw_image_3)\n",
    "\n",
    "    # Loop through tracks and set values in the volume\n",
    "    for index, track in current_track.iterrows():\n",
    "        frame, mu_z, mu_y, mu_x = int(track['frame']), track['mu_z'], track['mu_y'], track['mu_x']\n",
    "        #sigma_z, sigma_y, sigma_x = track['sigma_z'], track['sigma_y'], track['sigma_x']\n",
    "        sigma_z = 4\n",
    "        sigma_y = 2\n",
    "        sigma_x = 2\n",
    "\n",
    "        # Define the bounding box based on center and sigma\n",
    "        z_start, z_end = int(mu_z - 3 * sigma_z), int(mu_z + 3 * sigma_z)\n",
    "        y_start, y_end = int(mu_y - 3 * sigma_y), int(mu_y + 3 * sigma_y)\n",
    "        x_start, x_end = int(mu_x - 3 * sigma_x), int(mu_x + 3 * sigma_x)\n",
    "\n",
    "        # Clip the coordinates to be within the image bounds\n",
    "        z_start = max(0, z_start)\n",
    "        y_start = max(0, y_start)\n",
    "        x_start = max(0, x_start)\n",
    "        z_end = min(raw_image.shape[1], z_end)\n",
    "        y_end = min(raw_image.shape[2], y_end)\n",
    "        x_end = min(raw_image.shape[3], x_end)\n",
    "\n",
    "        # Extract the region from the raw image data\n",
    "        #print(frame,z_start,z_end, y_start,y_end, x_start,x_end)\n",
    "        #region_data = raw_image_3[frame, z_start:z_end, y_start:y_end, x_start:x_end]\n",
    "\n",
    "        # Set everything outside the region to zero\n",
    "        # Set the region inside the bounding box to the corresponding values in raw_image_data\n",
    "        empty_layer[frame, z_start:z_end, y_start:y_end, x_start:x_end] = raw_image[frame, z_start:z_end, y_start:y_end, x_start:x_end]\n",
    "        \n",
    "\n",
    "    # Assuming 'your_4d_array' is the numpy array with dimensions (Time, z, y, x)\n",
    "\n",
    "    # Get the shape of the array\n",
    "    time_points, z_values, y_values, x_values = empty_layer.shape\n",
    "    \n",
    "    # Create an empty array to store the maximum intensity projections in each time \n",
    "    \n",
    "    total_sum_movie = []\n",
    "    # Loop through each time point\n",
    "    for t in range(time_points):\n",
    "        z_sum = np.sum(empty_layer[t],axis=0)\n",
    "        total_sum_movie.append(z_sum)\n",
    "    \n",
    "    total_sum_movie = np.array(total_sum_movie)\n",
    "    return total_sum_movie\n"
   ]
  },
  {
   "cell_type": "code",
   "execution_count": 5,
   "id": "9f2f02c4",
   "metadata": {},
   "outputs": [],
   "source": [
    "def crop_movie(image):\n",
    "    image_array = []\n",
    "    # Iterate through each frame in the time series\n",
    "    for i in range(image.shape[0]):\n",
    "        # Get non-zero indices in the current frame\n",
    "        non_zero_indices = np.nonzero(image[i, :, :])\n",
    "        if len(non_zero_indices[1]) > 0:\n",
    "            image_array.append(image[i,min(non_zero_indices[0]):max(non_zero_indices[0])+1,\n",
    "                                             min(non_zero_indices[1]):max(non_zero_indices[1])+1])\n",
    "    return image_array"
   ]
  },
  {
   "cell_type": "code",
   "execution_count": 6,
   "id": "5701e627",
   "metadata": {},
   "outputs": [],
   "source": [
    "def plot_raw_movie_v1(track_array):\n",
    "    # Assuming 'images_list' is a list containing NumPy arrays representing images\n",
    "    # Each NumPy array is assumed to be a 2D array (e.g., 30x30)\n",
    "\n",
    "    # Set the number of rows and columns for subplots\n",
    "    num_rows = 5\n",
    "    num_cols = 7\n",
    "\n",
    "    # Create subplots\n",
    "    fig, axes = plt.subplots(num_rows, num_cols, figsize=(12, 8))\n",
    "\n",
    "    # Flatten the axes array for easier indexing\n",
    "    axes = axes.flatten()\n",
    "\n",
    "    # Loop through the images and display them in subplots\n",
    "    for i in range(min(len(ans), num_rows * num_cols)):\n",
    "        axes[i].imshow(ans[i])  # Adjust cmap if needed\n",
    "        axes[i].axis('off')  # Turn off axis labels\n",
    "\n",
    "    # Adjust layout to prevent overlap of subplots\n",
    "    plt.tight_layout()\n",
    "\n",
    "    # Show the plot\n",
    "    plt.show()\n"
   ]
  },
  {
   "cell_type": "code",
   "execution_count": 7,
   "id": "b88823d1",
   "metadata": {},
   "outputs": [],
   "source": [
    "def plot_raw_movie(track_array):\n",
    "    \n",
    "    length_of_track = len(track_array)\n",
    "    # Set the number of rows and columns for subplots\n",
    "    num_cols = 7\n",
    "    num_rows = length_of_track // num_cols + 1\n",
    "\n",
    "    fig = make_subplots(rows=num_rows, cols=7)\n",
    "\n",
    "    r = 1\n",
    "    c = 1\n",
    "    for i in range(len(track_array)):\n",
    "        image = px.imshow(track_array[i], range_color = [0,200])\n",
    "        fig.add_trace(image.data[0], row = r, col = c)\n",
    "        if i != 0 and (i+1) % (num_cols) == 0: \n",
    "            r = r + 1\n",
    "            c = 1\n",
    "        else: \n",
    "            c = c + 1\n",
    "\n",
    "    return fig"
   ]
  },
  {
   "cell_type": "code",
   "execution_count": 8,
   "id": "d7dda823",
   "metadata": {},
   "outputs": [],
   "source": [
    "track_df = pd.read_pickle('/Users/apple/Desktop/Akamatsu_Lab/Lap_track/self/files/track_df_updated.pkl')\n",
    "filtered_tracks = pd.read_pickle('/Users/apple/Desktop/Akamatsu_Lab/Lap_track/self/files/filtered_tracks.pkl')\n",
    "# Replace 'your_file.tif' with the path to your 4D TIFF file\n",
    "file_path_3 = '/Users/apple/Desktop/Akamatsu_Lab/Lap_track/self/files/Channel3_complete.tif'\n",
    "# Load the TIFF file using skimage\n",
    "raw_image_3 = io.imread(file_path_3)\n",
    "# Replace 'your_file.tif' with the path to your 4D TIFF file\n",
    "file_path_2 = '/Users/apple/Desktop/Akamatsu_Lab/Lap_track/self/files/Channel2_complete.tif'\n",
    "# Load the TIFF file using skimage\n",
    "raw_image_2 = io.imread(file_path_2)"
   ]
  },
  {
   "cell_type": "code",
   "execution_count": 9,
   "id": "192e66f6",
   "metadata": {},
   "outputs": [
    {
     "data": {
      "text/html": [
       "<div>\n",
       "<style scoped>\n",
       "    .dataframe tbody tr th:only-of-type {\n",
       "        vertical-align: middle;\n",
       "    }\n",
       "\n",
       "    .dataframe tbody tr th {\n",
       "        vertical-align: top;\n",
       "    }\n",
       "\n",
       "    .dataframe thead th {\n",
       "        text-align: right;\n",
       "    }\n",
       "</style>\n",
       "<table border=\"1\" class=\"dataframe\">\n",
       "  <thead>\n",
       "    <tr style=\"text-align: right;\">\n",
       "      <th></th>\n",
       "      <th>track_id</th>\n",
       "      <th>c2_peak</th>\n",
       "      <th>c3_peak</th>\n",
       "      <th>track_length</th>\n",
       "      <th>start_frame</th>\n",
       "      <th>end_frame</th>\n",
       "      <th>peak_frame_c2</th>\n",
       "      <th>peak_start_c2</th>\n",
       "      <th>peak_frame_c3</th>\n",
       "      <th>peak_start_c3</th>\n",
       "    </tr>\n",
       "  </thead>\n",
       "  <tbody>\n",
       "    <tr>\n",
       "      <th>185</th>\n",
       "      <td>364</td>\n",
       "      <td>227.0</td>\n",
       "      <td>325.145821</td>\n",
       "      <td>25</td>\n",
       "      <td>0</td>\n",
       "      <td>24</td>\n",
       "      <td>22</td>\n",
       "      <td>22</td>\n",
       "      <td>7</td>\n",
       "      <td>7</td>\n",
       "    </tr>\n",
       "    <tr>\n",
       "      <th>216</th>\n",
       "      <td>415</td>\n",
       "      <td>195.0</td>\n",
       "      <td>289.600996</td>\n",
       "      <td>27</td>\n",
       "      <td>0</td>\n",
       "      <td>26</td>\n",
       "      <td>23</td>\n",
       "      <td>23</td>\n",
       "      <td>20</td>\n",
       "      <td>20</td>\n",
       "    </tr>\n",
       "    <tr>\n",
       "      <th>254</th>\n",
       "      <td>516</td>\n",
       "      <td>189.0</td>\n",
       "      <td>286.000000</td>\n",
       "      <td>21</td>\n",
       "      <td>1</td>\n",
       "      <td>21</td>\n",
       "      <td>6</td>\n",
       "      <td>5</td>\n",
       "      <td>19</td>\n",
       "      <td>18</td>\n",
       "    </tr>\n",
       "    <tr>\n",
       "      <th>255</th>\n",
       "      <td>519</td>\n",
       "      <td>195.0</td>\n",
       "      <td>340.213324</td>\n",
       "      <td>37</td>\n",
       "      <td>1</td>\n",
       "      <td>37</td>\n",
       "      <td>7</td>\n",
       "      <td>6</td>\n",
       "      <td>5</td>\n",
       "      <td>4</td>\n",
       "    </tr>\n",
       "    <tr>\n",
       "      <th>266</th>\n",
       "      <td>541</td>\n",
       "      <td>211.0</td>\n",
       "      <td>321.000000</td>\n",
       "      <td>22</td>\n",
       "      <td>1</td>\n",
       "      <td>22</td>\n",
       "      <td>9</td>\n",
       "      <td>8</td>\n",
       "      <td>9</td>\n",
       "      <td>8</td>\n",
       "    </tr>\n",
       "  </tbody>\n",
       "</table>\n",
       "</div>"
      ],
      "text/plain": [
       "     track_id  c2_peak     c3_peak  track_length  start_frame  end_frame  \\\n",
       "185       364    227.0  325.145821            25            0         24   \n",
       "216       415    195.0  289.600996            27            0         26   \n",
       "254       516    189.0  286.000000            21            1         21   \n",
       "255       519    195.0  340.213324            37            1         37   \n",
       "266       541    211.0  321.000000            22            1         22   \n",
       "\n",
       "     peak_frame_c2  peak_start_c2  peak_frame_c3  peak_start_c3  \n",
       "185             22             22              7              7  \n",
       "216             23             23             20             20  \n",
       "254              6              5             19             18  \n",
       "255              7              6              5              4  \n",
       "266              9              8              9              8  "
      ]
     },
     "execution_count": 9,
     "metadata": {},
     "output_type": "execute_result"
    }
   ],
   "source": [
    "filtered_tracks[15:20]"
   ]
  },
  {
   "cell_type": "code",
   "execution_count": 10,
   "id": "17467e89",
   "metadata": {},
   "outputs": [
    {
     "data": {
      "text/plain": [
       "<matplotlib.legend.Legend at 0x7fd68beeabf0>"
      ]
     },
     "execution_count": 10,
     "metadata": {},
     "output_type": "execute_result"
    },
    {
     "data": {
      "image/png": "[encoded data removed]",
      "text/plain": [
       "<Figure size 640x480 with 1 Axes>"
      ]
     },
     "metadata": {},
     "output_type": "display_data"
    }
   ],
   "source": [
    "current_track = track_df[track_df['track_id'] == 91]\n",
    "plt.title(f'Track 91, length {len(current_track)}')\n",
    "plt.plot(current_track['frame'],current_track['amplitude'], color ='red', label = 'Channel 3')\n",
    "plt.plot(current_track['frame'], current_track['c2_amp'], color = 'green', label = 'Channel 2')\n",
    "plt.xlabel('frame')\n",
    "plt.ylabel('intensity')\n",
    "plt.legend()"
   ]
  },
  {
   "cell_type": "code",
   "execution_count": 11,
   "id": "7c7a9ea6",
   "metadata": {},
   "outputs": [
    {
     "data": {
      "text/html": [
       "<div>\n",
       "<style scoped>\n",
       "    .dataframe tbody tr th:only-of-type {\n",
       "        vertical-align: middle;\n",
       "    }\n",
       "\n",
       "    .dataframe tbody tr th {\n",
       "        vertical-align: top;\n",
       "    }\n",
       "\n",
       "    .dataframe thead th {\n",
       "        text-align: right;\n",
       "    }\n",
       "</style>\n",
       "<table border=\"1\" class=\"dataframe\">\n",
       "  <thead>\n",
       "    <tr style=\"text-align: right;\">\n",
       "      <th></th>\n",
       "      <th>frame</th>\n",
       "      <th>index</th>\n",
       "      <th>amplitude</th>\n",
       "      <th>mu_x</th>\n",
       "      <th>mu_y</th>\n",
       "      <th>mu_z</th>\n",
       "      <th>sigma_x</th>\n",
       "      <th>sigma_y</th>\n",
       "      <th>sigma_z</th>\n",
       "      <th>frame_y</th>\n",
       "      <th>...</th>\n",
       "      <th>track_id</th>\n",
       "      <th>c2_amp</th>\n",
       "      <th>c2_peak</th>\n",
       "      <th>c2_peak_x</th>\n",
       "      <th>c2_peak_y</th>\n",
       "      <th>c2_peak_z</th>\n",
       "      <th>c3_mean_amp</th>\n",
       "      <th>c2_peak_mean</th>\n",
       "      <th>c2_voxel_sum</th>\n",
       "      <th>c3_voxel_sum</th>\n",
       "    </tr>\n",
       "  </thead>\n",
       "  <tbody>\n",
       "    <tr>\n",
       "      <th>0</th>\n",
       "      <td>0</td>\n",
       "      <td>0</td>\n",
       "      <td>206.593249</td>\n",
       "      <td>11.0</td>\n",
       "      <td>12.0</td>\n",
       "      <td>0.0</td>\n",
       "      <td>2.0</td>\n",
       "      <td>2.0</td>\n",
       "      <td>4.0</td>\n",
       "      <td>0</td>\n",
       "      <td>...</td>\n",
       "      <td>0</td>\n",
       "      <td>122.947826</td>\n",
       "      <td>152.0</td>\n",
       "      <td>9.0</td>\n",
       "      <td>14.0</td>\n",
       "      <td>2.0</td>\n",
       "      <td>163.682353</td>\n",
       "      <td>125.500000</td>\n",
       "      <td>11295</td>\n",
       "      <td>13913</td>\n",
       "    </tr>\n",
       "    <tr>\n",
       "      <th>1</th>\n",
       "      <td>0</td>\n",
       "      <td>1</td>\n",
       "      <td>191.000000</td>\n",
       "      <td>36.0</td>\n",
       "      <td>88.0</td>\n",
       "      <td>1.0</td>\n",
       "      <td>2.0</td>\n",
       "      <td>1.0</td>\n",
       "      <td>2.0</td>\n",
       "      <td>0</td>\n",
       "      <td>...</td>\n",
       "      <td>1</td>\n",
       "      <td>116.233333</td>\n",
       "      <td>143.0</td>\n",
       "      <td>34.0</td>\n",
       "      <td>87.0</td>\n",
       "      <td>2.0</td>\n",
       "      <td>138.233333</td>\n",
       "      <td>114.826667</td>\n",
       "      <td>20068</td>\n",
       "      <td>19928</td>\n",
       "    </tr>\n",
       "    <tr>\n",
       "      <th>2</th>\n",
       "      <td>0</td>\n",
       "      <td>2</td>\n",
       "      <td>231.007679</td>\n",
       "      <td>40.0</td>\n",
       "      <td>141.0</td>\n",
       "      <td>1.0</td>\n",
       "      <td>2.0</td>\n",
       "      <td>2.0</td>\n",
       "      <td>2.0</td>\n",
       "      <td>0</td>\n",
       "      <td>...</td>\n",
       "      <td>2</td>\n",
       "      <td>122.330000</td>\n",
       "      <td>142.0</td>\n",
       "      <td>41.0</td>\n",
       "      <td>142.0</td>\n",
       "      <td>0.0</td>\n",
       "      <td>153.940000</td>\n",
       "      <td>122.853333</td>\n",
       "      <td>15316</td>\n",
       "      <td>22805</td>\n",
       "    </tr>\n",
       "    <tr>\n",
       "      <th>3</th>\n",
       "      <td>0</td>\n",
       "      <td>3</td>\n",
       "      <td>185.152538</td>\n",
       "      <td>40.0</td>\n",
       "      <td>58.0</td>\n",
       "      <td>1.0</td>\n",
       "      <td>2.0</td>\n",
       "      <td>1.0</td>\n",
       "      <td>3.0</td>\n",
       "      <td>0</td>\n",
       "      <td>...</td>\n",
       "      <td>3</td>\n",
       "      <td>117.626667</td>\n",
       "      <td>142.0</td>\n",
       "      <td>42.0</td>\n",
       "      <td>59.0</td>\n",
       "      <td>0.0</td>\n",
       "      <td>141.280000</td>\n",
       "      <td>118.016667</td>\n",
       "      <td>14557</td>\n",
       "      <td>20358</td>\n",
       "    </tr>\n",
       "    <tr>\n",
       "      <th>4</th>\n",
       "      <td>0</td>\n",
       "      <td>4</td>\n",
       "      <td>202.000000</td>\n",
       "      <td>46.0</td>\n",
       "      <td>73.0</td>\n",
       "      <td>1.0</td>\n",
       "      <td>2.0</td>\n",
       "      <td>2.0</td>\n",
       "      <td>3.0</td>\n",
       "      <td>0</td>\n",
       "      <td>...</td>\n",
       "      <td>4</td>\n",
       "      <td>115.112000</td>\n",
       "      <td>141.0</td>\n",
       "      <td>45.0</td>\n",
       "      <td>74.0</td>\n",
       "      <td>3.0</td>\n",
       "      <td>147.768000</td>\n",
       "      <td>115.502857</td>\n",
       "      <td>23194</td>\n",
       "      <td>21963</td>\n",
       "    </tr>\n",
       "  </tbody>\n",
       "</table>\n",
       "<p>5 rows × 21 columns</p>\n",
       "</div>"
      ],
      "text/plain": [
       "   frame  index   amplitude  mu_x   mu_y  mu_z  sigma_x  sigma_y  sigma_z  \\\n",
       "0      0      0  206.593249  11.0   12.0   0.0      2.0      2.0      4.0   \n",
       "1      0      1  191.000000  36.0   88.0   1.0      2.0      1.0      2.0   \n",
       "2      0      2  231.007679  40.0  141.0   1.0      2.0      2.0      2.0   \n",
       "3      0      3  185.152538  40.0   58.0   1.0      2.0      1.0      3.0   \n",
       "4      0      4  202.000000  46.0   73.0   1.0      2.0      2.0      3.0   \n",
       "\n",
       "   frame_y  ...  track_id      c2_amp  c2_peak  c2_peak_x  c2_peak_y  \\\n",
       "0        0  ...         0  122.947826    152.0        9.0       14.0   \n",
       "1        0  ...         1  116.233333    143.0       34.0       87.0   \n",
       "2        0  ...         2  122.330000    142.0       41.0      142.0   \n",
       "3        0  ...         3  117.626667    142.0       42.0       59.0   \n",
       "4        0  ...         4  115.112000    141.0       45.0       74.0   \n",
       "\n",
       "   c2_peak_z  c3_mean_amp  c2_peak_mean  c2_voxel_sum  c3_voxel_sum  \n",
       "0        2.0   163.682353    125.500000         11295         13913  \n",
       "1        2.0   138.233333    114.826667         20068         19928  \n",
       "2        0.0   153.940000    122.853333         15316         22805  \n",
       "3        0.0   141.280000    118.016667         14557         20358  \n",
       "4        3.0   147.768000    115.502857         23194         21963  \n",
       "\n",
       "[5 rows x 21 columns]"
      ]
     },
     "execution_count": 11,
     "metadata": {},
     "output_type": "execute_result"
    }
   ],
   "source": [
    "track_df.head()"
   ]
  },
  {
   "cell_type": "code",
   "execution_count": 17,
   "id": "d91b5049",
   "metadata": {},
   "outputs": [],
   "source": [
    "def plot_raw_movie(plot_type, track_number = 36, raw_image = raw_image_3, main_tracking_df = track_df):\n",
    "    \n",
    "    \n",
    "    if plot_type == 'max_intensity_projection':      \n",
    "        result_array = max_intensity_projection_track_visualisation(track_number,raw_image,main_tracking_df)\n",
    "        track_array = crop_movie(result_array)\n",
    "    elif plot_type == 'max_z_slice':      \n",
    "        result_array = max_z_track_visualisation(track_number,raw_image,main_tracking_df)\n",
    "        track_array = crop_movie(result_array)\n",
    "    elif plot_type == 'total_sum':      \n",
    "        result_array = total_sum_track_visualisation(track_number,raw_image,main_tracking_df)\n",
    "        track_array = crop_movie(result_array)\n",
    "    \n",
    "    length_of_track = len(track_array)\n",
    "    # Set the number of rows and columns for subplots\n",
    "    num_cols = 7\n",
    "    num_rows = length_of_track // num_cols + 1\n",
    "\n",
    "    fig = make_subplots(rows=num_rows, cols=7)\n",
    "\n",
    "    r = 1\n",
    "    c = 1\n",
    "    for i in range(len(track_array)):\n",
    "        image = px.imshow(track_array[i])\n",
    "        fig.add_trace(image.data[0], row = r, col = c)\n",
    "        if i != 0 and (i+1) % (num_cols) == 0: \n",
    "            r = r + 1\n",
    "            c = 1\n",
    "        else: \n",
    "            c = c + 1\n",
    "    r = 1 \n",
    "    c = 1\n",
    "\n",
    "    return fig"
   ]
  },
  {
   "cell_type": "code",
   "execution_count": 21,
   "id": "a8123244",
   "metadata": {},
   "outputs": [
    {
     "ename": "AttributeError",
     "evalue": "'tuple' object has no attribute 'shape'",
     "output_type": "error",
     "traceback": [
      "\u001b[0;31m---------------------------------------------------------------------------\u001b[0m",
      "\u001b[0;31mAttributeError\u001b[0m                            Traceback (most recent call last)",
      "Cell \u001b[0;32mIn[21], line 1\u001b[0m\n\u001b[0;32m----> 1\u001b[0m \u001b[43mplot_raw_movie\u001b[49m\u001b[43m(\u001b[49m\u001b[43mplot_type\u001b[49m\u001b[43m \u001b[49m\u001b[38;5;241;43m=\u001b[39;49m\u001b[43m \u001b[49m\u001b[38;5;124;43m'\u001b[39;49m\u001b[38;5;124;43mmax_z_slice\u001b[39;49m\u001b[38;5;124;43m'\u001b[39;49m\u001b[43m,\u001b[49m\u001b[43m \u001b[49m\u001b[43mraw_image\u001b[49m\u001b[43m \u001b[49m\u001b[38;5;241;43m=\u001b[39;49m\u001b[43m \u001b[49m\u001b[43mraw_image_3\u001b[49m\u001b[43m,\u001b[49m\u001b[43mtrack_number\u001b[49m\u001b[43m \u001b[49m\u001b[38;5;241;43m=\u001b[39;49m\u001b[43m \u001b[49m\u001b[38;5;241;43m91\u001b[39;49m\u001b[43m)\u001b[49m\n",
      "Cell \u001b[0;32mIn[17], line 9\u001b[0m, in \u001b[0;36mplot_raw_movie\u001b[0;34m(plot_type, track_number, raw_image, main_tracking_df)\u001b[0m\n\u001b[1;32m      7\u001b[0m \u001b[38;5;28;01melif\u001b[39;00m plot_type \u001b[38;5;241m==\u001b[39m \u001b[38;5;124m'\u001b[39m\u001b[38;5;124mmax_z_slice\u001b[39m\u001b[38;5;124m'\u001b[39m:      \n\u001b[1;32m      8\u001b[0m     result_array \u001b[38;5;241m=\u001b[39m max_z_track_visualisation(track_number,raw_image,main_tracking_df)\n\u001b[0;32m----> 9\u001b[0m     track_array \u001b[38;5;241m=\u001b[39m \u001b[43mcrop_movie\u001b[49m\u001b[43m(\u001b[49m\u001b[43mresult_array\u001b[49m\u001b[43m)\u001b[49m\n\u001b[1;32m     10\u001b[0m \u001b[38;5;28;01melif\u001b[39;00m plot_type \u001b[38;5;241m==\u001b[39m \u001b[38;5;124m'\u001b[39m\u001b[38;5;124mtotal_sum\u001b[39m\u001b[38;5;124m'\u001b[39m:      \n\u001b[1;32m     11\u001b[0m     result_array \u001b[38;5;241m=\u001b[39m total_sum_track_visualisation(track_number,raw_image,main_tracking_df)\n",
      "Cell \u001b[0;32mIn[5], line 4\u001b[0m, in \u001b[0;36mcrop_movie\u001b[0;34m(image)\u001b[0m\n\u001b[1;32m      2\u001b[0m image_array \u001b[38;5;241m=\u001b[39m []\n\u001b[1;32m      3\u001b[0m \u001b[38;5;66;03m# Iterate through each frame in the time series\u001b[39;00m\n\u001b[0;32m----> 4\u001b[0m \u001b[38;5;28;01mfor\u001b[39;00m i \u001b[38;5;129;01min\u001b[39;00m \u001b[38;5;28mrange\u001b[39m(\u001b[43mimage\u001b[49m\u001b[38;5;241;43m.\u001b[39;49m\u001b[43mshape\u001b[49m[\u001b[38;5;241m0\u001b[39m]):\n\u001b[1;32m      5\u001b[0m     \u001b[38;5;66;03m# Get non-zero indices in the current frame\u001b[39;00m\n\u001b[1;32m      6\u001b[0m     non_zero_indices \u001b[38;5;241m=\u001b[39m np\u001b[38;5;241m.\u001b[39mnonzero(image[i, :, :])\n\u001b[1;32m      7\u001b[0m     \u001b[38;5;28;01mif\u001b[39;00m \u001b[38;5;28mlen\u001b[39m(non_zero_indices[\u001b[38;5;241m1\u001b[39m]) \u001b[38;5;241m>\u001b[39m \u001b[38;5;241m0\u001b[39m:\n",
      "\u001b[0;31mAttributeError\u001b[0m: 'tuple' object has no attribute 'shape'"
     ]
    }
   ],
   "source": [
    "plot_raw_movie(plot_type = 'max_z_slice', raw_image = raw_image_3,track_number = 91)"
   ]
  },
  {
   "cell_type": "code",
   "execution_count": 20,
   "id": "139519b2",
   "metadata": {},
   "outputs": [
    {
     "data": {
      "application/vnd.plotly.v1+json": {
       "config": {
        "plotlyServerURL": "https://plot.ly"
       },
       "data": [
        {
         "coloraxis": "coloraxis",
         "hovertemplate": "x: %{x}<br>y: %{y}<br>color: %{z}<extra></extra>",
         "name": "0",
         "type": "heatmap",
         "xaxis": "x",
         "yaxis": "y",
         "z": [
          [
           149,
           133,
           124,
           122,
           128,
           133,
           132,
           132,
           131,
           129,
           125,
           136
          ],
          [
           138,
           133,
           137,
           133,
           128,
           134,
           138,
           139,
           125,
           125,
           122,
           130
          ],
          [
           134,
           147,
           136,
           137,
           152,
           136,
           138,
           139,
           119,
           127,
           128,
           124
          ],
          [
           139,
           138,
           136,
           144,
           150,
           135,
           134,
           144,
           136,
           131,
           140,
           118
          ],
          [
           145,
           145,
           147,
           142,
           151,
           139,
           132,
           144,
           149,
           144,
           142,
           126
          ],
          [
           157,
           160,
           176,
           145,
           141,
           148,
           153,
           143,
           140,
           145,
           144,
           139
          ],
          [
           145,
           147,
           155,
           151,
           152,
           168,
           140,
           147,
           130,
           144,
           146,
           133
          ],
          [
           150,
           161,
           173,
           161,
           178,
           205,
           160,
           144,
           141,
           145,
           137,
           132
          ],
          [
           144,
           137,
           150,
           164,
           165,
           149,
           142,
           133,
           141,
           147,
           142,
           139
          ],
          [
           142,
           158,
           167,
           167,
           178,
           146,
           143,
           148,
           134,
           140,
           139,
           140
          ],
          [
           159,
           148,
           153,
           148,
           146,
           146,
           150,
           158,
           144,
           154,
           148,
           133
          ],
          [
           152,
           152,
           139,
           141,
           141,
           143,
           141,
           159,
           147,
           143,
           148,
           145
          ]
         ]
        },
        {
         "coloraxis": "coloraxis",
         "hovertemplate": "x: %{x}<br>y: %{y}<br>color: %{z}<extra></extra>",
         "name": "0",
         "type": "heatmap",
         "xaxis": "x2",
         "yaxis": "y2",
         "z": [
          [
           130,
           134,
           128,
           121,
           120,
           119,
           126,
           120,
           130,
           129,
           126,
           121
          ],
          [
           131,
           143,
           131,
           131,
           132,
           125,
           122,
           122,
           125,
           122,
           127,
           123
          ],
          [
           128,
           139,
           135,
           125,
           127,
           118,
           125,
           128,
           149,
           127,
           128,
           128
          ],
          [
           137,
           145,
           130,
           133,
           122,
           125,
           124,
           128,
           144,
           126,
           125,
           124
          ],
          [
           136,
           145,
           141,
           133,
           130,
           134,
           124,
           130,
           122,
           117,
           118,
           131
          ],
          [
           139,
           138,
           130,
           123,
           132,
           137,
           119,
           123,
           130,
           135,
           136,
           122
          ],
          [
           131,
           141,
           137,
           134,
           137,
           142,
           144,
           134,
           130,
           135,
           128,
           128
          ],
          [
           137,
           136,
           125,
           142,
           142,
           137,
           136,
           142,
           154,
           134,
           128,
           131
          ],
          [
           153,
           153,
           144,
           157,
           152,
           145,
           151,
           143,
           136,
           142,
           145,
           128
          ],
          [
           143,
           151,
           148,
           158,
           159,
           153,
           162,
           162,
           153,
           127,
           126,
           125
          ],
          [
           135,
           135,
           140,
           141,
           135,
           137,
           143,
           138,
           135,
           136,
           131,
           129
          ],
          [
           134,
           137,
           135,
           138,
           136,
           132,
           132,
           132,
           135,
           131,
           135,
           135
          ]
         ]
        },
        {
         "coloraxis": "coloraxis",
         "hovertemplate": "x: %{x}<br>y: %{y}<br>color: %{z}<extra></extra>",
         "name": "0",
         "type": "heatmap",
         "xaxis": "x3",
         "yaxis": "y3",
         "z": [
          [
           133,
           129,
           138,
           126,
           131,
           121,
           124,
           124,
           127,
           127,
           132,
           124
          ],
          [
           131,
           126,
           133,
           119,
           121,
           123,
           122,
           123,
           123,
           119,
           120,
           130
          ],
          [
           138,
           135,
           131,
           129,
           130,
           126,
           123,
           134,
           125,
           127,
           121,
           122
          ],
          [
           127,
           132,
           129,
           121,
           122,
           128,
           128,
           124,
           125,
           120,
           123,
           123
          ],
          [
           132,
           132,
           133,
           132,
           126,
           134,
           134,
           126,
           129,
           126,
           123,
           121
          ],
          [
           131,
           124,
           124,
           133,
           130,
           131,
           123,
           121,
           130,
           125,
           125,
           119
          ],
          [
           137,
           134,
           131,
           123,
           127,
           131,
           131,
           126,
           129,
           123,
           119,
           136
          ],
          [
           137,
           126,
           131,
           144,
           154,
           133,
           130,
           139,
           131,
           134,
           128,
           130
          ],
          [
           142,
           133,
           142,
           139,
           136,
           182,
           144,
           136,
           129,
           126,
           121,
           129
          ],
          [
           136,
           132,
           138,
           142,
           140,
           132,
           131,
           133,
           139,
           139,
           130,
           134
          ],
          [
           142,
           142,
           153,
           138,
           135,
           141,
           129,
           129,
           132,
           140,
           128,
           132
          ],
          [
           128,
           133,
           140,
           149,
           140,
           133,
           130,
           127,
           137,
           125,
           121,
           125
          ]
         ]
        },
        {
         "coloraxis": "coloraxis",
         "hovertemplate": "x: %{x}<br>y: %{y}<br>color: %{z}<extra></extra>",
         "name": "0",
         "type": "heatmap",
         "xaxis": "x4",
         "yaxis": "y4",
         "z": [
          [
           131,
           130,
           136,
           129,
           127,
           131,
           132,
           135,
           123,
           126,
           116,
           120
          ],
          [
           125,
           130,
           130,
           125,
           128,
           122,
           121,
           134,
           123,
           125,
           125,
           122
          ],
          [
           124,
           129,
           136,
           147,
           134,
           136,
           135,
           140,
           124,
           131,
           126,
           123
          ],
          [
           133,
           141,
           141,
           146,
           143,
           132,
           141,
           140,
           130,
           127,
           122,
           135
          ],
          [
           140,
           142,
           149,
           135,
           137,
           139,
           139,
           148,
           140,
           127,
           122,
           135
          ],
          [
           129,
           137,
           146,
           136,
           134,
           142,
           132,
           124,
           128,
           139,
           129,
           124
          ],
          [
           138,
           141,
           143,
           142,
           149,
           154,
           154,
           142,
           134,
           139,
           133,
           130
          ],
          [
           159,
           151,
           140,
           135,
           134,
           143,
           150,
           151,
           140,
           131,
           136,
           132
          ],
          [
           146,
           150,
           136,
           138,
           140,
           149,
           149,
           146,
           136,
           131,
           122,
           125
          ],
          [
           146,
           149,
           144,
           132,
           132,
           138,
           140,
           153,
           139,
           128,
           131,
           127
          ],
          [
           132,
           137,
           143,
           156,
           151,
           131,
           135,
           134,
           135,
           131,
           125,
           132
          ],
          [
           149,
           141,
           131,
           137,
           140,
           133,
           137,
           136,
           137,
           150,
           141,
           140
          ]
         ]
        },
        {
         "coloraxis": "coloraxis",
         "hovertemplate": "x: %{x}<br>y: %{y}<br>color: %{z}<extra></extra>",
         "name": "0",
         "type": "heatmap",
         "xaxis": "x5",
         "yaxis": "y5",
         "z": [
          [
           130,
           124,
           125,
           121,
           123,
           118,
           118,
           118,
           127,
           131,
           127,
           123
          ],
          [
           143,
           131,
           152,
           126,
           122,
           123,
           127,
           120,
           121,
           122,
           123,
           137
          ],
          [
           128,
           136,
           123,
           124,
           126,
           126,
           127,
           125,
           138,
           129,
           127,
           130
          ],
          [
           122,
           127,
           144,
           150,
           139,
           122,
           123,
           129,
           133,
           135,
           132,
           138
          ],
          [
           133,
           131,
           131,
           136,
           131,
           125,
           133,
           134,
           135,
           125,
           134,
           124
          ],
          [
           142,
           143,
           138,
           130,
           131,
           122,
           120,
           122,
           128,
           123,
           124,
           128
          ],
          [
           147,
           151,
           136,
           150,
           135,
           126,
           131,
           126,
           122,
           125,
           126,
           135
          ],
          [
           141,
           143,
           140,
           142,
           151,
           147,
           131,
           131,
           123,
           125,
           124,
           125
          ],
          [
           133,
           144,
           140,
           138,
           139,
           139,
           137,
           135,
           134,
           126,
           126,
           142
          ],
          [
           133,
           135,
           136,
           140,
           142,
           139,
           151,
           141,
           136,
           126,
           121,
           129
          ],
          [
           129,
           156,
           137,
           131,
           142,
           128,
           123,
           122,
           134,
           139,
           129,
           129
          ],
          [
           126,
           138,
           138,
           137,
           138,
           135,
           151,
           132,
           139,
           126,
           138,
           139
          ]
         ]
        },
        {
         "coloraxis": "coloraxis",
         "hovertemplate": "x: %{x}<br>y: %{y}<br>color: %{z}<extra></extra>",
         "name": "0",
         "type": "heatmap",
         "xaxis": "x6",
         "yaxis": "y6",
         "z": [
          [
           125,
           129,
           124,
           120,
           124,
           128,
           131,
           118,
           132,
           134,
           124,
           126
          ],
          [
           128,
           121,
           129,
           124,
           125,
           120,
           125,
           130,
           126,
           125,
           135,
           137
          ],
          [
           135,
           145,
           122,
           127,
           135,
           138,
           123,
           123,
           120,
           127,
           137,
           131
          ],
          [
           134,
           129,
           130,
           126,
           121,
           125,
           130,
           129,
           124,
           119,
           122,
           122
          ],
          [
           131,
           123,
           125,
           130,
           133,
           124,
           136,
           129,
           127,
           132,
           133,
           140
          ],
          [
           131,
           127,
           132,
           137,
           126,
           121,
           139,
           122,
           127,
           124,
           136,
           130
          ],
          [
           137,
           138,
           133,
           131,
           125,
           128,
           132,
           130,
           128,
           129,
           134,
           139
          ],
          [
           126,
           134,
           128,
           139,
           144,
           134,
           133,
           130,
           131,
           121,
           124,
           136
          ],
          [
           135,
           137,
           135,
           136,
           152,
           141,
           132,
           121,
           128,
           129,
           125,
           121
          ],
          [
           133,
           131,
           134,
           148,
           140,
           140,
           131,
           123,
           123,
           125,
           122,
           135
          ],
          [
           143,
           144,
           131,
           139,
           131,
           136,
           133,
           126,
           135,
           125,
           123,
           129
          ],
          [
           133,
           144,
           133,
           137,
           134,
           131,
           131,
           134,
           142,
           130,
           127,
           136
          ]
         ]
        },
        {
         "coloraxis": "coloraxis",
         "hovertemplate": "x: %{x}<br>y: %{y}<br>color: %{z}<extra></extra>",
         "name": "0",
         "type": "heatmap",
         "xaxis": "x7",
         "yaxis": "y7",
         "z": [
          [
           119,
           121,
           121,
           121,
           126,
           130,
           129,
           135,
           140,
           135,
           151,
           117
          ],
          [
           126,
           131,
           124,
           124,
           128,
           132,
           136,
           124,
           140,
           131,
           129,
           126
          ],
          [
           127,
           132,
           128,
           130,
           130,
           125,
           122,
           125,
           123,
           124,
           128,
           131
          ],
          [
           121,
           142,
           142,
           128,
           130,
           132,
           126,
           129,
           124,
           121,
           130,
           127
          ],
          [
           131,
           139,
           132,
           136,
           123,
           123,
           123,
           140,
           133,
           128,
           129,
           123
          ],
          [
           128,
           139,
           144,
           136,
           133,
           129,
           130,
           126,
           123,
           134,
           127,
           124
          ],
          [
           128,
           128,
           133,
           136,
           127,
           131,
           126,
           128,
           120,
           126,
           130,
           122
          ],
          [
           135,
           125,
           129,
           127,
           144,
           152,
           139,
           123,
           125,
           126,
           126,
           137
          ],
          [
           134,
           134,
           133,
           132,
           135,
           140,
           136,
           156,
           142,
           126,
           122,
           128
          ],
          [
           126,
           128,
           129,
           138,
           131,
           131,
           140,
           134,
           149,
           121,
           127,
           123
          ],
          [
           140,
           145,
           132,
           134,
           136,
           127,
           126,
           130,
           140,
           129,
           125,
           122
          ],
          [
           135,
           133,
           123,
           127,
           135,
           124,
           128,
           139,
           135,
           141,
           145,
           121
          ]
         ]
        },
        {
         "coloraxis": "coloraxis",
         "hovertemplate": "x: %{x}<br>y: %{y}<br>color: %{z}<extra></extra>",
         "name": "0",
         "type": "heatmap",
         "xaxis": "x8",
         "yaxis": "y8",
         "z": [
          [
           127,
           129,
           135,
           133,
           133,
           133,
           128,
           136,
           125,
           139,
           130,
           126
          ],
          [
           127,
           136,
           128,
           125,
           124,
           126,
           135,
           125,
           123,
           123,
           122,
           124
          ],
          [
           144,
           129,
           137,
           124,
           124,
           125,
           131,
           156,
           127,
           134,
           127,
           136
          ],
          [
           125,
           123,
           126,
           127,
           128,
           129,
           117,
           130,
           136,
           138,
           134,
           124
          ],
          [
           137,
           132,
           134,
           123,
           129,
           149,
           127,
           134,
           132,
           125,
           124,
           130
          ],
          [
           123,
           123,
           136,
           131,
           131,
           133,
           125,
           128,
           122,
           124,
           130,
           135
          ],
          [
           139,
           132,
           134,
           141,
           138,
           139,
           128,
           130,
           134,
           140,
           130,
           131
          ],
          [
           131,
           134,
           145,
           156,
           133,
           148,
           145,
           141,
           127,
           126,
           131,
           129
          ],
          [
           128,
           136,
           132,
           137,
           141,
           147,
           135,
           133,
           122,
           131,
           131,
           129
          ],
          [
           143,
           144,
           135,
           129,
           135,
           146,
           153,
           149,
           128,
           146,
           131,
           131
          ],
          [
           130,
           138,
           138,
           134,
           139,
           145,
           136,
           150,
           129,
           124,
           132,
           128
          ],
          [
           143,
           143,
           126,
           132,
           135,
           128,
           121,
           129,
           131,
           137,
           125,
           120
          ]
         ]
        },
        {
         "coloraxis": "coloraxis",
         "hovertemplate": "x: %{x}<br>y: %{y}<br>color: %{z}<extra></extra>",
         "name": "0",
         "type": "heatmap",
         "xaxis": "x9",
         "yaxis": "y9",
         "z": [
          [
           136,
           125,
           123,
           126,
           127,
           127,
           132,
           129,
           124,
           125,
           120,
           128
          ],
          [
           125,
           128,
           133,
           122,
           127,
           122,
           126,
           128,
           124,
           123,
           125,
           126
          ],
          [
           143,
           135,
           124,
           129,
           122,
           117,
           123,
           127,
           133,
           129,
           127,
           138
          ],
          [
           129,
           127,
           127,
           126,
           137,
           125,
           125,
           124,
           119,
           119,
           125,
           123
          ],
          [
           143,
           141,
           137,
           144,
           124,
           124,
           125,
           132,
           128,
           129,
           128,
           134
          ],
          [
           151,
           127,
           148,
           131,
           130,
           126,
           125,
           123,
           129,
           123,
           128,
           132
          ],
          [
           142,
           137,
           137,
           134,
           133,
           130,
           129,
           134,
           124,
           126,
           124,
           138
          ],
          [
           129,
           133,
           137,
           149,
           138,
           137,
           147,
           135,
           134,
           121,
           124,
           130
          ],
          [
           135,
           137,
           130,
           134,
           150,
           162,
           159,
           148,
           136,
           130,
           125,
           128
          ],
          [
           142,
           132,
           132,
           129,
           143,
           154,
           138,
           129,
           127,
           134,
           129,
           129
          ],
          [
           129,
           131,
           123,
           134,
           138,
           147,
           144,
           130,
           135,
           130,
           139,
           129
          ],
          [
           129,
           128,
           137,
           142,
           149,
           147,
           133,
           141,
           142,
           128,
           134,
           136
          ]
         ]
        },
        {
         "coloraxis": "coloraxis",
         "hovertemplate": "x: %{x}<br>y: %{y}<br>color: %{z}<extra></extra>",
         "name": "0",
         "type": "heatmap",
         "xaxis": "x10",
         "yaxis": "y10",
         "z": [
          [
           127,
           127,
           135,
           122,
           128,
           122,
           121,
           117,
           127,
           132,
           121,
           130
          ],
          [
           128,
           125,
           125,
           122,
           130,
           134,
           125,
           128,
           119,
           128,
           131,
           124
          ],
          [
           130,
           129,
           122,
           126,
           131,
           129,
           123,
           134,
           120,
           122,
           130,
           123
          ],
          [
           134,
           135,
           133,
           134,
           136,
           136,
           126,
           130,
           129,
           125,
           115,
           115
          ],
          [
           142,
           133,
           128,
           132,
           139,
           134,
           149,
           130,
           130,
           128,
           129,
           120
          ],
          [
           145,
           136,
           126,
           135,
           136,
           129,
           129,
           127,
           126,
           123,
           128,
           132
          ],
          [
           148,
           143,
           147,
           148,
           153,
           130,
           124,
           125,
           131,
           120,
           127,
           133
          ],
          [
           150,
           146,
           146,
           140,
           140,
           162,
           142,
           139,
           136,
           137,
           130,
           126
          ],
          [
           135,
           135,
           148,
           160,
           182,
           169,
           154,
           143,
           134,
           131,
           122,
           129
          ],
          [
           140,
           142,
           142,
           127,
           139,
           144,
           133,
           139,
           128,
           123,
           123,
           124
          ],
          [
           138,
           140,
           127,
           129,
           155,
           144,
           142,
           149,
           124,
           122,
           119,
           135
          ],
          [
           128,
           137,
           134,
           133,
           133,
           129,
           128,
           129,
           127,
           129,
           134,
           132
          ]
         ]
        },
        {
         "coloraxis": "coloraxis",
         "hovertemplate": "x: %{x}<br>y: %{y}<br>color: %{z}<extra></extra>",
         "name": "0",
         "type": "heatmap",
         "xaxis": "x11",
         "yaxis": "y11",
         "z": [
          [
           135,
           138,
           126,
           122,
           118,
           121,
           125,
           119,
           121,
           123,
           121,
           125
          ],
          [
           127,
           129,
           130,
           126,
           117,
           113,
           119,
           122,
           122,
           125,
           123,
           119
          ],
          [
           138,
           134,
           123,
           125,
           123,
           127,
           123,
           125,
           123,
           125,
           126,
           118
          ],
          [
           146,
           130,
           126,
           125,
           126,
           123,
           121,
           124,
           119,
           118,
           116,
           130
          ],
          [
           128,
           132,
           143,
           148,
           133,
           133,
           120,
           127,
           123,
           119,
           120,
           129
          ],
          [
           132,
           141,
           152,
           141,
           135,
           132,
           120,
           121,
           126,
           130,
           128,
           122
          ],
          [
           131,
           136,
           133,
           139,
           134,
           133,
           127,
           126,
           124,
           124,
           122,
           121
          ],
          [
           137,
           146,
           142,
           134,
           146,
           142,
           175,
           137,
           144,
           127,
           127,
           127
          ],
          [
           162,
           142,
           144,
           151,
           140,
           157,
           172,
           151,
           136,
           139,
           127,
           140
          ],
          [
           138,
           137,
           136,
           139,
           152,
           154,
           163,
           154,
           142,
           125,
           132,
           134
          ],
          [
           144,
           136,
           140,
           152,
           150,
           144,
           132,
           130,
           140,
           148,
           128,
           129
          ],
          [
           167,
           133,
           134,
           135,
           149,
           138,
           135,
           137,
           137,
           129,
           130,
           130
          ]
         ]
        },
        {
         "coloraxis": "coloraxis",
         "hovertemplate": "x: %{x}<br>y: %{y}<br>color: %{z}<extra></extra>",
         "name": "0",
         "type": "heatmap",
         "xaxis": "x12",
         "yaxis": "y12",
         "z": [
          [
           133,
           139,
           130,
           129,
           128,
           127,
           124,
           132,
           130,
           127,
           124,
           122
          ],
          [
           128,
           124,
           130,
           125,
           127,
           122,
           120,
           128,
           132,
           128,
           122,
           131
          ],
          [
           129,
           132,
           132,
           131,
           137,
           127,
           130,
           119,
           135,
           132,
           126,
           135
          ],
          [
           137,
           143,
           134,
           135,
           125,
           123,
           119,
           121,
           124,
           121,
           121,
           125
          ],
          [
           134,
           127,
           134,
           138,
           130,
           128,
           127,
           128,
           121,
           126,
           123,
           121
          ],
          [
           171,
           148,
           134,
           139,
           129,
           128,
           129,
           134,
           133,
           125,
           125,
           127
          ],
          [
           138,
           125,
           133,
           146,
           148,
           142,
           137,
           130,
           124,
           128,
           132,
           121
          ],
          [
           139,
           137,
           132,
           141,
           140,
           144,
           148,
           143,
           136,
           129,
           130,
           139
          ],
          [
           139,
           138,
           145,
           138,
           146,
           177,
           170,
           171,
           136,
           136,
           128,
           129
          ],
          [
           142,
           138,
           130,
           131,
           141,
           190,
           170,
           157,
           133,
           139,
           129,
           131
          ],
          [
           131,
           133,
           146,
           150,
           151,
           163,
           163,
           153,
           131,
           131,
           125,
           142
          ],
          [
           134,
           144,
           149,
           138,
           142,
           132,
           133,
           140,
           137,
           135,
           132,
           127
          ]
         ]
        },
        {
         "coloraxis": "coloraxis",
         "hovertemplate": "x: %{x}<br>y: %{y}<br>color: %{z}<extra></extra>",
         "name": "0",
         "type": "heatmap",
         "xaxis": "x13",
         "yaxis": "y13",
         "z": [
          [
           124,
           127,
           123,
           119,
           124,
           123,
           121,
           119,
           126,
           129,
           122,
           124
          ],
          [
           130,
           130,
           117,
           132,
           142,
           132,
           124,
           121,
           119,
           121,
           122,
           120
          ],
          [
           137,
           121,
           123,
           122,
           117,
           126,
           122,
           121,
           119,
           120,
           131,
           122
          ],
          [
           134,
           132,
           133,
           132,
           130,
           131,
           138,
           126,
           128,
           117,
           119,
           131
          ],
          [
           129,
           124,
           129,
           127,
           125,
           135,
           131,
           127,
           129,
           126,
           127,
           124
          ],
          [
           129,
           134,
           144,
           148,
           126,
           120,
           121,
           141,
           122,
           134,
           120,
           123
          ],
          [
           143,
           129,
           146,
           137,
           134,
           134,
           129,
           124,
           124,
           133,
           131,
           125
          ],
          [
           149,
           151,
           168,
           143,
           156,
           155,
           150,
           136,
           128,
           126,
           121,
           129
          ],
          [
           158,
           152,
           143,
           156,
           163,
           170,
           157,
           167,
           145,
           134,
           131,
           127
          ],
          [
           138,
           139,
           141,
           151,
           162,
           186,
           209,
           222,
           149,
           130,
           127,
           122
          ],
          [
           150,
           154,
           149,
           149,
           178,
           202,
           175,
           159,
           137,
           136,
           135,
           133
          ],
          [
           140,
           152,
           150,
           142,
           144,
           170,
           166,
           137,
           137,
           136,
           136,
           129
          ]
         ]
        },
        {
         "coloraxis": "coloraxis",
         "hovertemplate": "x: %{x}<br>y: %{y}<br>color: %{z}<extra></extra>",
         "name": "0",
         "type": "heatmap",
         "xaxis": "x14",
         "yaxis": "y14",
         "z": [
          [
           128,
           124,
           127,
           119,
           129,
           120,
           120,
           122,
           125,
           119,
           123,
           127
          ],
          [
           130,
           122,
           121,
           122,
           123,
           125,
           119,
           122,
           121,
           130,
           122,
           125
          ],
          [
           138,
           134,
           122,
           124,
           117,
           119,
           117,
           129,
           121,
           127,
           135,
           128
          ],
          [
           135,
           134,
           130,
           124,
           123,
           124,
           131,
           134,
           124,
           116,
           118,
           121
          ],
          [
           136,
           127,
           126,
           128,
           123,
           129,
           117,
           127,
           124,
           123,
           125,
           120
          ],
          [
           131,
           139,
           136,
           138,
           123,
           123,
           126,
           122,
           120,
           129,
           144,
           122
          ],
          [
           143,
           142,
           147,
           141,
           158,
           175,
           153,
           138,
           131,
           120,
           125,
           130
          ],
          [
           136,
           147,
           146,
           149,
           171,
           185,
           158,
           153,
           152,
           126,
           128,
           125
          ],
          [
           151,
           148,
           157,
           180,
           163,
           189,
           194,
           188,
           179,
           137,
           143,
           138
          ],
          [
           157,
           170,
           151,
           157,
           182,
           242,
           275,
           236,
           229,
           156,
           133,
           131
          ],
          [
           154,
           156,
           152,
           156,
           183,
           198,
           238,
           216,
           254,
           149,
           135,
           136
          ],
          [
           159,
           155,
           158,
           155,
           163,
           183,
           203,
           170,
           143,
           145,
           135,
           131
          ]
         ]
        },
        {
         "coloraxis": "coloraxis",
         "hovertemplate": "x: %{x}<br>y: %{y}<br>color: %{z}<extra></extra>",
         "name": "0",
         "type": "heatmap",
         "xaxis": "x15",
         "yaxis": "y15",
         "z": [
          [
           134,
           126,
           132,
           139,
           122,
           121,
           127,
           119,
           126,
           117,
           121,
           124
          ],
          [
           133,
           126,
           125,
           134,
           127,
           117,
           116,
           121,
           130,
           133,
           122,
           124
          ],
          [
           136,
           132,
           126,
           128,
           121,
           117,
           127,
           123,
           125,
           118,
           129,
           118
          ],
          [
           137,
           130,
           133,
           136,
           127,
           121,
           123,
           126,
           130,
           128,
           126,
           131
          ],
          [
           139,
           132,
           136,
           140,
           133,
           131,
           142,
           122,
           122,
           121,
           122,
           125
          ],
          [
           140,
           142,
           136,
           144,
           172,
           137,
           130,
           126,
           131,
           116,
           128,
           132
          ],
          [
           153,
           168,
           170,
           168,
           194,
           171,
           141,
           137,
           134,
           124,
           124,
           129
          ],
          [
           154,
           174,
           178,
           204,
           246,
           192,
           197,
           134,
           136,
           128,
           127,
           128
          ],
          [
           157,
           166,
           185,
           254,
           328,
           247,
           199,
           138,
           131,
           123,
           115,
           122
          ],
          [
           146,
           153,
           195,
           229,
           245,
           238,
           190,
           135,
           126,
           121,
           132,
           124
          ],
          [
           173,
           164,
           171,
           182,
           193,
           155,
           152,
           133,
           128,
           127,
           122,
           141
          ],
          [
           160,
           169,
           163,
           165,
           141,
           138,
           130,
           126,
           125,
           123,
           127,
           129
          ]
         ]
        },
        {
         "coloraxis": "coloraxis",
         "hovertemplate": "x: %{x}<br>y: %{y}<br>color: %{z}<extra></extra>",
         "name": "0",
         "type": "heatmap",
         "xaxis": "x16",
         "yaxis": "y16",
         "z": [
          [
           129,
           122,
           126,
           126,
           128,
           125,
           123,
           122,
           126,
           124,
           122,
           115
          ],
          [
           155,
           137,
           126,
           124,
           118,
           120,
           123,
           127,
           128,
           129,
           123,
           125
          ],
          [
           165,
           138,
           134,
           139,
           152,
           127,
           126,
           123,
           124,
           137,
           133,
           123
          ],
          [
           146,
           149,
           137,
           130,
           143,
           125,
           118,
           137,
           118,
           120,
           124,
           126
          ],
          [
           143,
           147,
           144,
           143,
           145,
           140,
           127,
           124,
           120,
           123,
           123,
           122
          ],
          [
           152,
           171,
           176,
           153,
           167,
           171,
           148,
           140,
           122,
           128,
           118,
           122
          ],
          [
           162,
           161,
           165,
           206,
           221,
           249,
           177,
           132,
           125,
           127,
           120,
           134
          ],
          [
           196,
           180,
           162,
           220,
           264,
           296,
           246,
           178,
           128,
           130,
           131,
           131
          ],
          [
           155,
           171,
           177,
           228,
           292,
           327,
           226,
           175,
           140,
           138,
           120,
           124
          ],
          [
           164,
           169,
           192,
           214,
           280,
           304,
           173,
           152,
           126,
           132,
           123,
           127
          ],
          [
           166,
           167,
           169,
           174,
           182,
           193,
           148,
           138,
           131,
           121,
           125,
           127
          ],
          [
           153,
           162,
           192,
           163,
           168,
           139,
           126,
           128,
           121,
           129,
           121,
           118
          ]
         ]
        },
        {
         "coloraxis": "coloraxis",
         "hovertemplate": "x: %{x}<br>y: %{y}<br>color: %{z}<extra></extra>",
         "name": "0",
         "type": "heatmap",
         "xaxis": "x17",
         "yaxis": "y17",
         "z": [
          [
           140,
           140,
           135,
           116,
           126,
           119,
           126,
           132,
           133,
           128,
           123,
           123
          ],
          [
           134,
           129,
           131,
           129,
           127,
           125,
           124,
           121,
           119,
           121,
           125,
           132
          ],
          [
           141,
           147,
           147,
           124,
           124,
           131,
           126,
           122,
           117,
           127,
           122,
           118
          ],
          [
           157,
           144,
           143,
           132,
           142,
           134,
           122,
           129,
           127,
           128,
           116,
           130
          ],
          [
           139,
           164,
           166,
           152,
           134,
           124,
           122,
           135,
           126,
           120,
           122,
           116
          ],
          [
           159,
           154,
           173,
           190,
           200,
           195,
           150,
           121,
           134,
           147,
           135,
           127
          ],
          [
           155,
           170,
           190,
           227,
           246,
           239,
           171,
           144,
           135,
           128,
           130,
           131
          ],
          [
           184,
           163,
           197,
           261,
           304,
           299,
           235,
           160,
           143,
           134,
           123,
           134
          ],
          [
           164,
           171,
           198,
           194,
           233,
           232,
           205,
           165,
           126,
           141,
           150,
           136
          ],
          [
           162,
           176,
           180,
           185,
           179,
           200,
           198,
           161,
           136,
           138,
           119,
           127
          ],
          [
           167,
           146,
           171,
           152,
           160,
           146,
           129,
           135,
           135,
           134,
           143,
           124
          ],
          [
           145,
           144,
           152,
           142,
           140,
           141,
           129,
           134,
           130,
           143,
           123,
           142
          ]
         ]
        },
        {
         "coloraxis": "coloraxis",
         "hovertemplate": "x: %{x}<br>y: %{y}<br>color: %{z}<extra></extra>",
         "name": "0",
         "type": "heatmap",
         "xaxis": "x18",
         "yaxis": "y18",
         "z": [
          [
           132,
           129,
           134,
           130,
           115,
           117,
           132,
           130,
           141,
           121,
           118,
           125
          ],
          [
           130,
           124,
           128,
           130,
           126,
           120,
           118,
           119,
           121,
           129,
           128,
           128
          ],
          [
           141,
           148,
           130,
           125,
           125,
           123,
           124,
           122,
           144,
           125,
           128,
           129
          ],
          [
           127,
           142,
           135,
           133,
           126,
           134,
           132,
           125,
           122,
           128,
           125,
           117
          ],
          [
           146,
           145,
           145,
           140,
           129,
           125,
           125,
           123,
           128,
           137,
           132,
           116
          ],
          [
           164,
           174,
           176,
           190,
           151,
           147,
           130,
           126,
           126,
           140,
           124,
           132
          ],
          [
           152,
           175,
           188,
           217,
           231,
           179,
           155,
           136,
           130,
           134,
           135,
           127
          ],
          [
           168,
           176,
           254,
           284,
           312,
           275,
           230,
           135,
           131,
           130,
           124,
           126
          ],
          [
           177,
           195,
           203,
           271,
           349,
           231,
           168,
           137,
           130,
           132,
           123,
           123
          ],
          [
           170,
           192,
           181,
           186,
           211,
           202,
           168,
           136,
           138,
           145,
           140,
           134
          ],
          [
           158,
           159,
           162,
           154,
           140,
           139,
           134,
           135,
           141,
           135,
           129,
           132
          ],
          [
           147,
           158,
           150,
           145,
           140,
           129,
           133,
           144,
           135,
           133,
           135,
           132
          ]
         ]
        },
        {
         "coloraxis": "coloraxis",
         "hovertemplate": "x: %{x}<br>y: %{y}<br>color: %{z}<extra></extra>",
         "name": "0",
         "type": "heatmap",
         "xaxis": "x19",
         "yaxis": "y19",
         "z": [
          [
           127,
           130,
           125,
           139,
           127,
           120,
           129,
           123,
           124,
           127,
           124,
           128
          ],
          [
           125,
           133,
           136,
           131,
           130,
           130,
           135,
           131,
           128,
           122,
           122,
           119
          ],
          [
           143,
           137,
           129,
           127,
           130,
           130,
           128,
           124,
           134,
           130,
           142,
           131
          ],
          [
           146,
           141,
           132,
           129,
           121,
           128,
           150,
           130,
           130,
           124,
           123,
           123
          ],
          [
           151,
           159,
           165,
           149,
           152,
           138,
           138,
           126,
           129,
           121,
           125,
           124
          ],
          [
           167,
           193,
           185,
           182,
           159,
           142,
           145,
           136,
           139,
           119,
           129,
           125
          ],
          [
           176,
           198,
           249,
           279,
           239,
           164,
           150,
           144,
           139,
           126,
           125,
           130
          ],
          [
           182,
           200,
           279,
           309,
           326,
           226,
           216,
           128,
           131,
           126,
           122,
           120
          ],
          [
           199,
           227,
           237,
           281,
           301,
           226,
           178,
           141,
           129,
           124,
           132,
           124
          ],
          [
           177,
           168,
           182,
           182,
           181,
           166,
           150,
           143,
           138,
           120,
           120,
           119
          ],
          [
           158,
           176,
           177,
           169,
           146,
           138,
           140,
           133,
           127,
           122,
           123,
           130
          ],
          [
           148,
           153,
           148,
           144,
           136,
           140,
           134,
           134,
           142,
           128,
           131,
           130
          ]
         ]
        },
        {
         "coloraxis": "coloraxis",
         "hovertemplate": "x: %{x}<br>y: %{y}<br>color: %{z}<extra></extra>",
         "name": "0",
         "type": "heatmap",
         "xaxis": "x20",
         "yaxis": "y20",
         "z": [
          [
           132,
           135,
           132,
           127,
           125,
           129,
           118,
           120,
           122,
           127,
           142,
           130
          ],
          [
           141,
           144,
           126,
           123,
           128,
           133,
           128,
           128,
           127,
           129,
           131,
           143
          ],
          [
           132,
           134,
           135,
           133,
           129,
           129,
           130,
           129,
           130,
           131,
           131,
           128
          ],
          [
           137,
           144,
           133,
           137,
           148,
           150,
           137,
           124,
           140,
           133,
           126,
           127
          ],
          [
           135,
           142,
           152,
           157,
           142,
           149,
           129,
           128,
           127,
           126,
           131,
           128
          ],
          [
           161,
           146,
           135,
           167,
           165,
           178,
           146,
           131,
           128,
           122,
           135,
           121
          ],
          [
           160,
           172,
           174,
           181,
           181,
           196,
           154,
           146,
           130,
           128,
           127,
           130
          ],
          [
           152,
           163,
           172,
           185,
           257,
           284,
           326,
           195,
           143,
           126,
           124,
           122
          ],
          [
           158,
           192,
           208,
           211,
           279,
           309,
           332,
           253,
           169,
           125,
           127,
           126
          ],
          [
           151,
           167,
           185,
           198,
           217,
           236,
           266,
           245,
           175,
           126,
           130,
           125
          ],
          [
           164,
           156,
           173,
           204,
           175,
           200,
           208,
           152,
           127,
           136,
           131,
           123
          ],
          [
           145,
           148,
           152,
           165,
           178,
           178,
           151,
           128,
           126,
           126,
           146,
           131
          ]
         ]
        },
        {
         "coloraxis": "coloraxis",
         "hovertemplate": "x: %{x}<br>y: %{y}<br>color: %{z}<extra></extra>",
         "name": "0",
         "type": "heatmap",
         "xaxis": "x21",
         "yaxis": "y21",
         "z": [
          [
           133,
           126,
           128,
           120,
           122,
           127,
           127,
           119,
           120,
           125,
           127,
           124
          ],
          [
           144,
           142,
           123,
           130,
           126,
           125,
           122,
           120,
           127,
           129,
           126,
           129
          ],
          [
           129,
           128,
           128,
           121,
           128,
           132,
           124,
           124,
           125,
           128,
           138,
           127
          ],
          [
           144,
           130,
           146,
           136,
           128,
           130,
           132,
           118,
           121,
           124,
           136,
           118
          ],
          [
           149,
           154,
           161,
           159,
           150,
           146,
           131,
           126,
           132,
           125,
           130,
           126
          ],
          [
           148,
           165,
           169,
           157,
           166,
           170,
           140,
           129,
           128,
           141,
           130,
           125
          ],
          [
           161,
           175,
           164,
           179,
           200,
           217,
           195,
           144,
           125,
           140,
           153,
           132
          ],
          [
           162,
           186,
           182,
           192,
           257,
           286,
           237,
           195,
           139,
           128,
           136,
           125
          ],
          [
           166,
           187,
           193,
           196,
           270,
           336,
           356,
           225,
           157,
           139,
           145,
           126
          ],
          [
           149,
           178,
           189,
           233,
           245,
           255,
           271,
           190,
           151,
           139,
           141,
           136
          ],
          [
           159,
           169,
           176,
           205,
           172,
           207,
           208,
           174,
           135,
           129,
           129,
           131
          ],
          [
           159,
           144,
           153,
           173,
           155,
           163,
           151,
           135,
           132,
           137,
           141,
           134
          ]
         ]
        }
       ],
       "layout": {
        "template": {
         "data": {
          "bar": [
           {
            "error_x": {
             "color": "#2a3f5f"
            },
            "error_y": {
             "color": "#2a3f5f"
            },
            "marker": {
             "line": {
              "color": "#E5ECF6",
              "width": 0.5
             },
             "pattern": {
              "fillmode": "overlay",
              "size": 10,
              "solidity": 0.2
             }
            },
            "type": "bar"
           }
          ],
          "barpolar": [
           {
            "marker": {
             "line": {
              "color": "#E5ECF6",
              "width": 0.5
             },
             "pattern": {
              "fillmode": "overlay",
              "size": 10,
              "solidity": 0.2
             }
            },
            "type": "barpolar"
           }
          ],
          "carpet": [
           {
            "aaxis": {
             "endlinecolor": "#2a3f5f",
             "gridcolor": "white",
             "linecolor": "white",
             "minorgridcolor": "white",
             "startlinecolor": "#2a3f5f"
            },
            "baxis": {
             "endlinecolor": "#2a3f5f",
             "gridcolor": "white",
             "linecolor": "white",
             "minorgridcolor": "white",
             "startlinecolor": "#2a3f5f"
            },
            "type": "carpet"
           }
          ],
          "choropleth": [
           {
            "colorbar": {
             "outlinewidth": 0,
             "ticks": ""
            },
            "type": "choropleth"
           }
          ],
          "contour": [
           {
            "colorbar": {
             "outlinewidth": 0,
             "ticks": ""
            },
            "colorscale": [
             [
              0,
              "#0d0887"
             ],
             [
              0.1111111111111111,
              "#46039f"
             ],
             [
              0.2222222222222222,
              "#7201a8"
             ],
             [
              0.3333333333333333,
              "#9c179e"
             ],
             [
              0.4444444444444444,
              "#bd3786"
             ],
             [
              0.5555555555555556,
              "#d8576b"
             ],
             [
              0.6666666666666666,
              "#ed7953"
             ],
             [
              0.7777777777777778,
              "#fb9f3a"
             ],
             [
              0.8888888888888888,
              "#fdca26"
             ],
             [
              1,
              "#f0f921"
             ]
            ],
            "type": "contour"
           }
          ],
          "contourcarpet": [
           {
            "colorbar": {
             "outlinewidth": 0,
             "ticks": ""
            },
            "type": "contourcarpet"
           }
          ],
          "heatmap": [
           {
            "colorbar": {
             "outlinewidth": 0,
             "ticks": ""
            },
            "colorscale": [
             [
              0,
              "#0d0887"
             ],
             [
              0.1111111111111111,
              "#46039f"
             ],
             [
              0.2222222222222222,
              "#7201a8"
             ],
             [
              0.3333333333333333,
              "#9c179e"
             ],
             [
              0.4444444444444444,
              "#bd3786"
             ],
             [
              0.5555555555555556,
              "#d8576b"
             ],
             [
              0.6666666666666666,
              "#ed7953"
             ],
             [
              0.7777777777777778,
              "#fb9f3a"
             ],
             [
              0.8888888888888888,
              "#fdca26"
             ],
             [
              1,
              "#f0f921"
             ]
            ],
            "type": "heatmap"
           }
          ],
          "heatmapgl": [
           {
            "colorbar": {
             "outlinewidth": 0,
             "ticks": ""
            },
            "colorscale": [
             [
              0,
              "#0d0887"
             ],
             [
              0.1111111111111111,
              "#46039f"
             ],
             [
              0.2222222222222222,
              "#7201a8"
             ],
             [
              0.3333333333333333,
              "#9c179e"
             ],
             [
              0.4444444444444444,
              "#bd3786"
             ],
             [
              0.5555555555555556,
              "#d8576b"
             ],
             [
              0.6666666666666666,
              "#ed7953"
             ],
             [
              0.7777777777777778,
              "#fb9f3a"
             ],
             [
              0.8888888888888888,
              "#fdca26"
             ],
             [
              1,
              "#f0f921"
             ]
            ],
            "type": "heatmapgl"
           }
          ],
          "histogram": [
           {
            "marker": {
             "pattern": {
              "fillmode": "overlay",
              "size": 10,
              "solidity": 0.2
             }
            },
            "type": "histogram"
           }
          ],
          "histogram2d": [
           {
            "colorbar": {
             "outlinewidth": 0,
             "ticks": ""
            },
            "colorscale": [
             [
              0,
              "#0d0887"
             ],
             [
              0.1111111111111111,
              "#46039f"
             ],
             [
              0.2222222222222222,
              "#7201a8"
             ],
             [
              0.3333333333333333,
              "#9c179e"
             ],
             [
              0.4444444444444444,
              "#bd3786"
             ],
             [
              0.5555555555555556,
              "#d8576b"
             ],
             [
              0.6666666666666666,
              "#ed7953"
             ],
             [
              0.7777777777777778,
              "#fb9f3a"
             ],
             [
              0.8888888888888888,
              "#fdca26"
             ],
             [
              1,
              "#f0f921"
             ]
            ],
            "type": "histogram2d"
           }
          ],
          "histogram2dcontour": [
           {
            "colorbar": {
             "outlinewidth": 0,
             "ticks": ""
            },
            "colorscale": [
             [
              0,
              "#0d0887"
             ],
             [
              0.1111111111111111,
              "#46039f"
             ],
             [
              0.2222222222222222,
              "#7201a8"
             ],
             [
              0.3333333333333333,
              "#9c179e"
             ],
             [
              0.4444444444444444,
              "#bd3786"
             ],
             [
              0.5555555555555556,
              "#d8576b"
             ],
             [
              0.6666666666666666,
              "#ed7953"
             ],
             [
              0.7777777777777778,
              "#fb9f3a"
             ],
             [
              0.8888888888888888,
              "#fdca26"
             ],
             [
              1,
              "#f0f921"
             ]
            ],
            "type": "histogram2dcontour"
           }
          ],
          "mesh3d": [
           {
            "colorbar": {
             "outlinewidth": 0,
             "ticks": ""
            },
            "type": "mesh3d"
           }
          ],
          "parcoords": [
           {
            "line": {
             "colorbar": {
              "outlinewidth": 0,
              "ticks": ""
             }
            },
            "type": "parcoords"
           }
          ],
          "pie": [
           {
            "automargin": true,
            "type": "pie"
           }
          ],
          "scatter": [
           {
            "fillpattern": {
             "fillmode": "overlay",
             "size": 10,
             "solidity": 0.2
            },
            "type": "scatter"
           }
          ],
          "scatter3d": [
           {
            "line": {
             "colorbar": {
              "outlinewidth": 0,
              "ticks": ""
             }
            },
            "marker": {
             "colorbar": {
              "outlinewidth": 0,
              "ticks": ""
             }
            },
            "type": "scatter3d"
           }
          ],
          "scattercarpet": [
           {
            "marker": {
             "colorbar": {
              "outlinewidth": 0,
              "ticks": ""
             }
            },
            "type": "scattercarpet"
           }
          ],
          "scattergeo": [
           {
            "marker": {
             "colorbar": {
              "outlinewidth": 0,
              "ticks": ""
             }
            },
            "type": "scattergeo"
           }
          ],
          "scattergl": [
           {
            "marker": {
             "colorbar": {
              "outlinewidth": 0,
              "ticks": ""
             }
            },
            "type": "scattergl"
           }
          ],
          "scattermapbox": [
           {
            "marker": {
             "colorbar": {
              "outlinewidth": 0,
              "ticks": ""
             }
            },
            "type": "scattermapbox"
           }
          ],
          "scatterpolar": [
           {
            "marker": {
             "colorbar": {
              "outlinewidth": 0,
              "ticks": ""
             }
            },
            "type": "scatterpolar"
           }
          ],
          "scatterpolargl": [
           {
            "marker": {
             "colorbar": {
              "outlinewidth": 0,
              "ticks": ""
             }
            },
            "type": "scatterpolargl"
           }
          ],
          "scatterternary": [
           {
            "marker": {
             "colorbar": {
              "outlinewidth": 0,
              "ticks": ""
             }
            },
            "type": "scatterternary"
           }
          ],
          "surface": [
           {
            "colorbar": {
             "outlinewidth": 0,
             "ticks": ""
            },
            "colorscale": [
             [
              0,
              "#0d0887"
             ],
             [
              0.1111111111111111,
              "#46039f"
             ],
             [
              0.2222222222222222,
              "#7201a8"
             ],
             [
              0.3333333333333333,
              "#9c179e"
             ],
             [
              0.4444444444444444,
              "#bd3786"
             ],
             [
              0.5555555555555556,
              "#d8576b"
             ],
             [
              0.6666666666666666,
              "#ed7953"
             ],
             [
              0.7777777777777778,
              "#fb9f3a"
             ],
             [
              0.8888888888888888,
              "#fdca26"
             ],
             [
              1,
              "#f0f921"
             ]
            ],
            "type": "surface"
           }
          ],
          "table": [
           {
            "cells": {
             "fill": {
              "color": "#EBF0F8"
             },
             "line": {
              "color": "white"
             }
            },
            "header": {
             "fill": {
              "color": "#C8D4E3"
             },
             "line": {
              "color": "white"
             }
            },
            "type": "table"
           }
          ]
         },
         "layout": {
          "annotationdefaults": {
           "arrowcolor": "#2a3f5f",
           "arrowhead": 0,
           "arrowwidth": 1
          },
          "autotypenumbers": "strict",
          "coloraxis": {
           "colorbar": {
            "outlinewidth": 0,
            "ticks": ""
           }
          },
          "colorscale": {
           "diverging": [
            [
             0,
             "#8e0152"
            ],
            [
             0.1,
             "#c51b7d"
            ],
            [
             0.2,
             "#de77ae"
            ],
            [
             0.3,
             "#f1b6da"
            ],
            [
             0.4,
             "#fde0ef"
            ],
            [
             0.5,
             "#f7f7f7"
            ],
            [
             0.6,
             "#e6f5d0"
            ],
            [
             0.7,
             "#b8e186"
            ],
            [
             0.8,
             "#7fbc41"
            ],
            [
             0.9,
             "#4d9221"
            ],
            [
             1,
             "#276419"
            ]
           ],
           "sequential": [
            [
             0,
             "#0d0887"
            ],
            [
             0.1111111111111111,
             "#46039f"
            ],
            [
             0.2222222222222222,
             "#7201a8"
            ],
            [
             0.3333333333333333,
             "#9c179e"
            ],
            [
             0.4444444444444444,
             "#bd3786"
            ],
            [
             0.5555555555555556,
             "#d8576b"
            ],
            [
             0.6666666666666666,
             "#ed7953"
            ],
            [
             0.7777777777777778,
             "#fb9f3a"
            ],
            [
             0.8888888888888888,
             "#fdca26"
            ],
            [
             1,
             "#f0f921"
            ]
           ],
           "sequentialminus": [
            [
             0,
             "#0d0887"
            ],
            [
             0.1111111111111111,
             "#46039f"
            ],
            [
             0.2222222222222222,
             "#7201a8"
            ],
            [
             0.3333333333333333,
             "#9c179e"
            ],
            [
             0.4444444444444444,
             "#bd3786"
            ],
            [
             0.5555555555555556,
             "#d8576b"
            ],
            [
             0.6666666666666666,
             "#ed7953"
            ],
            [
             0.7777777777777778,
             "#fb9f3a"
            ],
            [
             0.8888888888888888,
             "#fdca26"
            ],
            [
             1,
             "#f0f921"
            ]
           ]
          },
          "colorway": [
           "#636efa",
           "#EF553B",
           "#00cc96",
           "#ab63fa",
           "#FFA15A",
           "#19d3f3",
           "#FF6692",
           "#B6E880",
           "#FF97FF",
           "#FECB52"
          ],
          "font": {
           "color": "#2a3f5f"
          },
          "geo": {
           "bgcolor": "white",
           "lakecolor": "white",
           "landcolor": "#E5ECF6",
           "showlakes": true,
           "showland": true,
           "subunitcolor": "white"
          },
          "hoverlabel": {
           "align": "left"
          },
          "hovermode": "closest",
          "mapbox": {
           "style": "light"
          },
          "paper_bgcolor": "white",
          "plot_bgcolor": "#E5ECF6",
          "polar": {
           "angularaxis": {
            "gridcolor": "white",
            "linecolor": "white",
            "ticks": ""
           },
           "bgcolor": "#E5ECF6",
           "radialaxis": {
            "gridcolor": "white",
            "linecolor": "white",
            "ticks": ""
           }
          },
          "scene": {
           "xaxis": {
            "backgroundcolor": "#E5ECF6",
            "gridcolor": "white",
            "gridwidth": 2,
            "linecolor": "white",
            "showbackground": true,
            "ticks": "",
            "zerolinecolor": "white"
           },
           "yaxis": {
            "backgroundcolor": "#E5ECF6",
            "gridcolor": "white",
            "gridwidth": 2,
            "linecolor": "white",
            "showbackground": true,
            "ticks": "",
            "zerolinecolor": "white"
           },
           "zaxis": {
            "backgroundcolor": "#E5ECF6",
            "gridcolor": "white",
            "gridwidth": 2,
            "linecolor": "white",
            "showbackground": true,
            "ticks": "",
            "zerolinecolor": "white"
           }
          },
          "shapedefaults": {
           "line": {
            "color": "#2a3f5f"
           }
          },
          "ternary": {
           "aaxis": {
            "gridcolor": "white",
            "linecolor": "white",
            "ticks": ""
           },
           "baxis": {
            "gridcolor": "white",
            "linecolor": "white",
            "ticks": ""
           },
           "bgcolor": "#E5ECF6",
           "caxis": {
            "gridcolor": "white",
            "linecolor": "white",
            "ticks": ""
           }
          },
          "title": {
           "x": 0.05
          },
          "xaxis": {
           "automargin": true,
           "gridcolor": "white",
           "linecolor": "white",
           "ticks": "",
           "title": {
            "standoff": 15
           },
           "zerolinecolor": "white",
           "zerolinewidth": 2
          },
          "yaxis": {
           "automargin": true,
           "gridcolor": "white",
           "linecolor": "white",
           "ticks": "",
           "title": {
            "standoff": 15
           },
           "zerolinecolor": "white",
           "zerolinewidth": 2
          }
         }
        },
        "xaxis": {
         "anchor": "y",
         "domain": [
          0,
          0.1183673469387755
         ]
        },
        "xaxis10": {
         "anchor": "y10",
         "domain": [
          0.29387755102040813,
          0.4122448979591836
         ]
        },
        "xaxis11": {
         "anchor": "y11",
         "domain": [
          0.4408163265306122,
          0.5591836734693877
         ]
        },
        "xaxis12": {
         "anchor": "y12",
         "domain": [
          0.5877551020408163,
          0.7061224489795918
         ]
        },
        "xaxis13": {
         "anchor": "y13",
         "domain": [
          0.7346938775510204,
          0.8530612244897959
         ]
        },
        "xaxis14": {
         "anchor": "y14",
         "domain": [
          0.8816326530612244,
          0.9999999999999999
         ]
        },
        "xaxis15": {
         "anchor": "y15",
         "domain": [
          0,
          0.1183673469387755
         ]
        },
        "xaxis16": {
         "anchor": "y16",
         "domain": [
          0.14693877551020407,
          0.26530612244897955
         ]
        },
        "xaxis17": {
         "anchor": "y17",
         "domain": [
          0.29387755102040813,
          0.4122448979591836
         ]
        },
        "xaxis18": {
         "anchor": "y18",
         "domain": [
          0.4408163265306122,
          0.5591836734693877
         ]
        },
        "xaxis19": {
         "anchor": "y19",
         "domain": [
          0.5877551020408163,
          0.7061224489795918
         ]
        },
        "xaxis2": {
         "anchor": "y2",
         "domain": [
          0.14693877551020407,
          0.26530612244897955
         ]
        },
        "xaxis20": {
         "anchor": "y20",
         "domain": [
          0.7346938775510204,
          0.8530612244897959
         ]
        },
        "xaxis21": {
         "anchor": "y21",
         "domain": [
          0.8816326530612244,
          0.9999999999999999
         ]
        },
        "xaxis22": {
         "anchor": "y22",
         "domain": [
          0,
          0.1183673469387755
         ]
        },
        "xaxis23": {
         "anchor": "y23",
         "domain": [
          0.14693877551020407,
          0.26530612244897955
         ]
        },
        "xaxis24": {
         "anchor": "y24",
         "domain": [
          0.29387755102040813,
          0.4122448979591836
         ]
        },
        "xaxis25": {
         "anchor": "y25",
         "domain": [
          0.4408163265306122,
          0.5591836734693877
         ]
        },
        "xaxis26": {
         "anchor": "y26",
         "domain": [
          0.5877551020408163,
          0.7061224489795918
         ]
        },
        "xaxis27": {
         "anchor": "y27",
         "domain": [
          0.7346938775510204,
          0.8530612244897959
         ]
        },
        "xaxis28": {
         "anchor": "y28",
         "domain": [
          0.8816326530612244,
          0.9999999999999999
         ]
        },
        "xaxis3": {
         "anchor": "y3",
         "domain": [
          0.29387755102040813,
          0.4122448979591836
         ]
        },
        "xaxis4": {
         "anchor": "y4",
         "domain": [
          0.4408163265306122,
          0.5591836734693877
         ]
        },
        "xaxis5": {
         "anchor": "y5",
         "domain": [
          0.5877551020408163,
          0.7061224489795918
         ]
        },
        "xaxis6": {
         "anchor": "y6",
         "domain": [
          0.7346938775510204,
          0.8530612244897959
         ]
        },
        "xaxis7": {
         "anchor": "y7",
         "domain": [
          0.8816326530612244,
          0.9999999999999999
         ]
        },
        "xaxis8": {
         "anchor": "y8",
         "domain": [
          0,
          0.1183673469387755
         ]
        },
        "xaxis9": {
         "anchor": "y9",
         "domain": [
          0.14693877551020407,
          0.26530612244897955
         ]
        },
        "yaxis": {
         "anchor": "x",
         "domain": [
          0.80625,
          1
         ]
        },
        "yaxis10": {
         "anchor": "x10",
         "domain": [
          0.5375,
          0.73125
         ]
        },
        "yaxis11": {
         "anchor": "x11",
         "domain": [
          0.5375,
          0.73125
         ]
        },
        "yaxis12": {
         "anchor": "x12",
         "domain": [
          0.5375,
          0.73125
         ]
        },
        "yaxis13": {
         "anchor": "x13",
         "domain": [
          0.5375,
          0.73125
         ]
        },
        "yaxis14": {
         "anchor": "x14",
         "domain": [
          0.5375,
          0.73125
         ]
        },
        "yaxis15": {
         "anchor": "x15",
         "domain": [
          0.26875,
          0.4625
         ]
        },
        "yaxis16": {
         "anchor": "x16",
         "domain": [
          0.26875,
          0.4625
         ]
        },
        "yaxis17": {
         "anchor": "x17",
         "domain": [
          0.26875,
          0.4625
         ]
        },
        "yaxis18": {
         "anchor": "x18",
         "domain": [
          0.26875,
          0.4625
         ]
        },
        "yaxis19": {
         "anchor": "x19",
         "domain": [
          0.26875,
          0.4625
         ]
        },
        "yaxis2": {
         "anchor": "x2",
         "domain": [
          0.80625,
          1
         ]
        },
        "yaxis20": {
         "anchor": "x20",
         "domain": [
          0.26875,
          0.4625
         ]
        },
        "yaxis21": {
         "anchor": "x21",
         "domain": [
          0.26875,
          0.4625
         ]
        },
        "yaxis22": {
         "anchor": "x22",
         "domain": [
          0,
          0.19375
         ]
        },
        "yaxis23": {
         "anchor": "x23",
         "domain": [
          0,
          0.19375
         ]
        },
        "yaxis24": {
         "anchor": "x24",
         "domain": [
          0,
          0.19375
         ]
        },
        "yaxis25": {
         "anchor": "x25",
         "domain": [
          0,
          0.19375
         ]
        },
        "yaxis26": {
         "anchor": "x26",
         "domain": [
          0,
          0.19375
         ]
        },
        "yaxis27": {
         "anchor": "x27",
         "domain": [
          0,
          0.19375
         ]
        },
        "yaxis28": {
         "anchor": "x28",
         "domain": [
          0,
          0.19375
         ]
        },
        "yaxis3": {
         "anchor": "x3",
         "domain": [
          0.80625,
          1
         ]
        },
        "yaxis4": {
         "anchor": "x4",
         "domain": [
          0.80625,
          1
         ]
        },
        "yaxis5": {
         "anchor": "x5",
         "domain": [
          0.80625,
          1
         ]
        },
        "yaxis6": {
         "anchor": "x6",
         "domain": [
          0.80625,
          1
         ]
        },
        "yaxis7": {
         "anchor": "x7",
         "domain": [
          0.80625,
          1
         ]
        },
        "yaxis8": {
         "anchor": "x8",
         "domain": [
          0.5375,
          0.73125
         ]
        },
        "yaxis9": {
         "anchor": "x9",
         "domain": [
          0.5375,
          0.73125
         ]
        }
       }
      },
      "text/html": [
       "<div>                            <div id=\"7ff293e5-b141-4174-bd5c-0fe93bd9c558\" class=\"plotly-graph-div\" style=\"height:525px; width:100%;\"></div>            <script type=\"text/javascript\">                require([\"plotly\"], function(Plotly) {                    window.PLOTLYENV=window.PLOTLYENV || {};                                    if (document.getElementById(\"7ff293e5-b141-4174-bd5c-0fe93bd9c558\")) {                    Plotly.newPlot(                        \"7ff293e5-b141-4174-bd5c-0fe93bd9c558\",                        [{\"coloraxis\":\"coloraxis\",\"hovertemplate\":\"x: %{x}\\u003cbr\\u003ey: %{y}\\u003cbr\\u003ecolor: %{z}\\u003cextra\\u003e\\u003c\\u002fextra\\u003e\",\"name\":\"0\",\"xaxis\":\"x\",\"yaxis\":\"y\",\"z\":[[149,133,124,122,128,133,132,132,131,129,125,136],[138,133,137,133,128,134,138,139,125,125,122,130],[134,147,136,137,152,136,138,139,119,127,128,124],[139,138,136,144,150,135,134,144,136,131,140,118],[145,145,147,142,151,139,132,144,149,144,142,126],[157,160,176,145,141,148,153,143,140,145,144,139],[145,147,155,151,152,168,140,147,130,144,146,133],[150,161,173,161,178,205,160,144,141,145,137,132],[144,137,150,164,165,149,142,133,141,147,142,139],[142,158,167,167,178,146,143,148,134,140,139,140],[159,148,153,148,146,146,150,158,144,154,148,133],[152,152,139,141,141,143,141,159,147,143,148,145]],\"type\":\"heatmap\"},{\"coloraxis\":\"coloraxis\",\"hovertemplate\":\"x: %{x}\\u003cbr\\u003ey: %{y}\\u003cbr\\u003ecolor: %{z}\\u003cextra\\u003e\\u003c\\u002fextra\\u003e\",\"name\":\"0\",\"xaxis\":\"x2\",\"yaxis\":\"y2\",\"z\":[[130,134,128,121,120,119,126,120,130,129,126,121],[131,143,131,131,132,125,122,122,125,122,127,123],[128,139,135,125,127,118,125,128,149,127,128,128],[137,145,130,133,122,125,124,128,144,126,125,124],[136,145,141,133,130,134,124,130,122,117,118,131],[139,138,130,123,132,137,119,123,130,135,136,122],[131,141,137,134,137,142,144,134,130,135,128,128],[137,136,125,142,142,137,136,142,154,134,128,131],[153,153,144,157,152,145,151,143,136,142,145,128],[143,151,148,158,159,153,162,162,153,127,126,125],[135,135,140,141,135,137,143,138,135,136,131,129],[134,137,135,138,136,132,132,132,135,131,135,135]],\"type\":\"heatmap\"},{\"coloraxis\":\"coloraxis\",\"hovertemplate\":\"x: %{x}\\u003cbr\\u003ey: %{y}\\u003cbr\\u003ecolor: %{z}\\u003cextra\\u003e\\u003c\\u002fextra\\u003e\",\"name\":\"0\",\"xaxis\":\"x3\",\"yaxis\":\"y3\",\"z\":[[133,129,138,126,131,121,124,124,127,127,132,124],[131,126,133,119,121,123,122,123,123,119,120,130],[138,135,131,129,130,126,123,134,125,127,121,122],[127,132,129,121,122,128,128,124,125,120,123,123],[132,132,133,132,126,134,134,126,129,126,123,121],[131,124,124,133,130,131,123,121,130,125,125,119],[137,134,131,123,127,131,131,126,129,123,119,136],[137,126,131,144,154,133,130,139,131,134,128,130],[142,133,142,139,136,182,144,136,129,126,121,129],[136,132,138,142,140,132,131,133,139,139,130,134],[142,142,153,138,135,141,129,129,132,140,128,132],[128,133,140,149,140,133,130,127,137,125,121,125]],\"type\":\"heatmap\"},{\"coloraxis\":\"coloraxis\",\"hovertemplate\":\"x: %{x}\\u003cbr\\u003ey: %{y}\\u003cbr\\u003ecolor: %{z}\\u003cextra\\u003e\\u003c\\u002fextra\\u003e\",\"name\":\"0\",\"xaxis\":\"x4\",\"yaxis\":\"y4\",\"z\":[[131,130,136,129,127,131,132,135,123,126,116,120],[125,130,130,125,128,122,121,134,123,125,125,122],[124,129,136,147,134,136,135,140,124,131,126,123],[133,141,141,146,143,132,141,140,130,127,122,135],[140,142,149,135,137,139,139,148,140,127,122,135],[129,137,146,136,134,142,132,124,128,139,129,124],[138,141,143,142,149,154,154,142,134,139,133,130],[159,151,140,135,134,143,150,151,140,131,136,132],[146,150,136,138,140,149,149,146,136,131,122,125],[146,149,144,132,132,138,140,153,139,128,131,127],[132,137,143,156,151,131,135,134,135,131,125,132],[149,141,131,137,140,133,137,136,137,150,141,140]],\"type\":\"heatmap\"},{\"coloraxis\":\"coloraxis\",\"hovertemplate\":\"x: %{x}\\u003cbr\\u003ey: %{y}\\u003cbr\\u003ecolor: %{z}\\u003cextra\\u003e\\u003c\\u002fextra\\u003e\",\"name\":\"0\",\"xaxis\":\"x5\",\"yaxis\":\"y5\",\"z\":[[130,124,125,121,123,118,118,118,127,131,127,123],[143,131,152,126,122,123,127,120,121,122,123,137],[128,136,123,124,126,126,127,125,138,129,127,130],[122,127,144,150,139,122,123,129,133,135,132,138],[133,131,131,136,131,125,133,134,135,125,134,124],[142,143,138,130,131,122,120,122,128,123,124,128],[147,151,136,150,135,126,131,126,122,125,126,135],[141,143,140,142,151,147,131,131,123,125,124,125],[133,144,140,138,139,139,137,135,134,126,126,142],[133,135,136,140,142,139,151,141,136,126,121,129],[129,156,137,131,142,128,123,122,134,139,129,129],[126,138,138,137,138,135,151,132,139,126,138,139]],\"type\":\"heatmap\"},{\"coloraxis\":\"coloraxis\",\"hovertemplate\":\"x: %{x}\\u003cbr\\u003ey: %{y}\\u003cbr\\u003ecolor: %{z}\\u003cextra\\u003e\\u003c\\u002fextra\\u003e\",\"name\":\"0\",\"xaxis\":\"x6\",\"yaxis\":\"y6\",\"z\":[[125,129,124,120,124,128,131,118,132,134,124,126],[128,121,129,124,125,120,125,130,126,125,135,137],[135,145,122,127,135,138,123,123,120,127,137,131],[134,129,130,126,121,125,130,129,124,119,122,122],[131,123,125,130,133,124,136,129,127,132,133,140],[131,127,132,137,126,121,139,122,127,124,136,130],[137,138,133,131,125,128,132,130,128,129,134,139],[126,134,128,139,144,134,133,130,131,121,124,136],[135,137,135,136,152,141,132,121,128,129,125,121],[133,131,134,148,140,140,131,123,123,125,122,135],[143,144,131,139,131,136,133,126,135,125,123,129],[133,144,133,137,134,131,131,134,142,130,127,136]],\"type\":\"heatmap\"},{\"coloraxis\":\"coloraxis\",\"hovertemplate\":\"x: %{x}\\u003cbr\\u003ey: %{y}\\u003cbr\\u003ecolor: %{z}\\u003cextra\\u003e\\u003c\\u002fextra\\u003e\",\"name\":\"0\",\"xaxis\":\"x7\",\"yaxis\":\"y7\",\"z\":[[119,121,121,121,126,130,129,135,140,135,151,117],[126,131,124,124,128,132,136,124,140,131,129,126],[127,132,128,130,130,125,122,125,123,124,128,131],[121,142,142,128,130,132,126,129,124,121,130,127],[131,139,132,136,123,123,123,140,133,128,129,123],[128,139,144,136,133,129,130,126,123,134,127,124],[128,128,133,136,127,131,126,128,120,126,130,122],[135,125,129,127,144,152,139,123,125,126,126,137],[134,134,133,132,135,140,136,156,142,126,122,128],[126,128,129,138,131,131,140,134,149,121,127,123],[140,145,132,134,136,127,126,130,140,129,125,122],[135,133,123,127,135,124,128,139,135,141,145,121]],\"type\":\"heatmap\"},{\"coloraxis\":\"coloraxis\",\"hovertemplate\":\"x: %{x}\\u003cbr\\u003ey: %{y}\\u003cbr\\u003ecolor: %{z}\\u003cextra\\u003e\\u003c\\u002fextra\\u003e\",\"name\":\"0\",\"xaxis\":\"x8\",\"yaxis\":\"y8\",\"z\":[[127,129,135,133,133,133,128,136,125,139,130,126],[127,136,128,125,124,126,135,125,123,123,122,124],[144,129,137,124,124,125,131,156,127,134,127,136],[125,123,126,127,128,129,117,130,136,138,134,124],[137,132,134,123,129,149,127,134,132,125,124,130],[123,123,136,131,131,133,125,128,122,124,130,135],[139,132,134,141,138,139,128,130,134,140,130,131],[131,134,145,156,133,148,145,141,127,126,131,129],[128,136,132,137,141,147,135,133,122,131,131,129],[143,144,135,129,135,146,153,149,128,146,131,131],[130,138,138,134,139,145,136,150,129,124,132,128],[143,143,126,132,135,128,121,129,131,137,125,120]],\"type\":\"heatmap\"},{\"coloraxis\":\"coloraxis\",\"hovertemplate\":\"x: %{x}\\u003cbr\\u003ey: %{y}\\u003cbr\\u003ecolor: %{z}\\u003cextra\\u003e\\u003c\\u002fextra\\u003e\",\"name\":\"0\",\"xaxis\":\"x9\",\"yaxis\":\"y9\",\"z\":[[136,125,123,126,127,127,132,129,124,125,120,128],[125,128,133,122,127,122,126,128,124,123,125,126],[143,135,124,129,122,117,123,127,133,129,127,138],[129,127,127,126,137,125,125,124,119,119,125,123],[143,141,137,144,124,124,125,132,128,129,128,134],[151,127,148,131,130,126,125,123,129,123,128,132],[142,137,137,134,133,130,129,134,124,126,124,138],[129,133,137,149,138,137,147,135,134,121,124,130],[135,137,130,134,150,162,159,148,136,130,125,128],[142,132,132,129,143,154,138,129,127,134,129,129],[129,131,123,134,138,147,144,130,135,130,139,129],[129,128,137,142,149,147,133,141,142,128,134,136]],\"type\":\"heatmap\"},{\"coloraxis\":\"coloraxis\",\"hovertemplate\":\"x: %{x}\\u003cbr\\u003ey: %{y}\\u003cbr\\u003ecolor: %{z}\\u003cextra\\u003e\\u003c\\u002fextra\\u003e\",\"name\":\"0\",\"xaxis\":\"x10\",\"yaxis\":\"y10\",\"z\":[[127,127,135,122,128,122,121,117,127,132,121,130],[128,125,125,122,130,134,125,128,119,128,131,124],[130,129,122,126,131,129,123,134,120,122,130,123],[134,135,133,134,136,136,126,130,129,125,115,115],[142,133,128,132,139,134,149,130,130,128,129,120],[145,136,126,135,136,129,129,127,126,123,128,132],[148,143,147,148,153,130,124,125,131,120,127,133],[150,146,146,140,140,162,142,139,136,137,130,126],[135,135,148,160,182,169,154,143,134,131,122,129],[140,142,142,127,139,144,133,139,128,123,123,124],[138,140,127,129,155,144,142,149,124,122,119,135],[128,137,134,133,133,129,128,129,127,129,134,132]],\"type\":\"heatmap\"},{\"coloraxis\":\"coloraxis\",\"hovertemplate\":\"x: %{x}\\u003cbr\\u003ey: %{y}\\u003cbr\\u003ecolor: %{z}\\u003cextra\\u003e\\u003c\\u002fextra\\u003e\",\"name\":\"0\",\"xaxis\":\"x11\",\"yaxis\":\"y11\",\"z\":[[135,138,126,122,118,121,125,119,121,123,121,125],[127,129,130,126,117,113,119,122,122,125,123,119],[138,134,123,125,123,127,123,125,123,125,126,118],[146,130,126,125,126,123,121,124,119,118,116,130],[128,132,143,148,133,133,120,127,123,119,120,129],[132,141,152,141,135,132,120,121,126,130,128,122],[131,136,133,139,134,133,127,126,124,124,122,121],[137,146,142,134,146,142,175,137,144,127,127,127],[162,142,144,151,140,157,172,151,136,139,127,140],[138,137,136,139,152,154,163,154,142,125,132,134],[144,136,140,152,150,144,132,130,140,148,128,129],[167,133,134,135,149,138,135,137,137,129,130,130]],\"type\":\"heatmap\"},{\"coloraxis\":\"coloraxis\",\"hovertemplate\":\"x: %{x}\\u003cbr\\u003ey: %{y}\\u003cbr\\u003ecolor: %{z}\\u003cextra\\u003e\\u003c\\u002fextra\\u003e\",\"name\":\"0\",\"xaxis\":\"x12\",\"yaxis\":\"y12\",\"z\":[[133,139,130,129,128,127,124,132,130,127,124,122],[128,124,130,125,127,122,120,128,132,128,122,131],[129,132,132,131,137,127,130,119,135,132,126,135],[137,143,134,135,125,123,119,121,124,121,121,125],[134,127,134,138,130,128,127,128,121,126,123,121],[171,148,134,139,129,128,129,134,133,125,125,127],[138,125,133,146,148,142,137,130,124,128,132,121],[139,137,132,141,140,144,148,143,136,129,130,139],[139,138,145,138,146,177,170,171,136,136,128,129],[142,138,130,131,141,190,170,157,133,139,129,131],[131,133,146,150,151,163,163,153,131,131,125,142],[134,144,149,138,142,132,133,140,137,135,132,127]],\"type\":\"heatmap\"},{\"coloraxis\":\"coloraxis\",\"hovertemplate\":\"x: %{x}\\u003cbr\\u003ey: %{y}\\u003cbr\\u003ecolor: %{z}\\u003cextra\\u003e\\u003c\\u002fextra\\u003e\",\"name\":\"0\",\"xaxis\":\"x13\",\"yaxis\":\"y13\",\"z\":[[124,127,123,119,124,123,121,119,126,129,122,124],[130,130,117,132,142,132,124,121,119,121,122,120],[137,121,123,122,117,126,122,121,119,120,131,122],[134,132,133,132,130,131,138,126,128,117,119,131],[129,124,129,127,125,135,131,127,129,126,127,124],[129,134,144,148,126,120,121,141,122,134,120,123],[143,129,146,137,134,134,129,124,124,133,131,125],[149,151,168,143,156,155,150,136,128,126,121,129],[158,152,143,156,163,170,157,167,145,134,131,127],[138,139,141,151,162,186,209,222,149,130,127,122],[150,154,149,149,178,202,175,159,137,136,135,133],[140,152,150,142,144,170,166,137,137,136,136,129]],\"type\":\"heatmap\"},{\"coloraxis\":\"coloraxis\",\"hovertemplate\":\"x: %{x}\\u003cbr\\u003ey: %{y}\\u003cbr\\u003ecolor: %{z}\\u003cextra\\u003e\\u003c\\u002fextra\\u003e\",\"name\":\"0\",\"xaxis\":\"x14\",\"yaxis\":\"y14\",\"z\":[[128,124,127,119,129,120,120,122,125,119,123,127],[130,122,121,122,123,125,119,122,121,130,122,125],[138,134,122,124,117,119,117,129,121,127,135,128],[135,134,130,124,123,124,131,134,124,116,118,121],[136,127,126,128,123,129,117,127,124,123,125,120],[131,139,136,138,123,123,126,122,120,129,144,122],[143,142,147,141,158,175,153,138,131,120,125,130],[136,147,146,149,171,185,158,153,152,126,128,125],[151,148,157,180,163,189,194,188,179,137,143,138],[157,170,151,157,182,242,275,236,229,156,133,131],[154,156,152,156,183,198,238,216,254,149,135,136],[159,155,158,155,163,183,203,170,143,145,135,131]],\"type\":\"heatmap\"},{\"coloraxis\":\"coloraxis\",\"hovertemplate\":\"x: %{x}\\u003cbr\\u003ey: %{y}\\u003cbr\\u003ecolor: %{z}\\u003cextra\\u003e\\u003c\\u002fextra\\u003e\",\"name\":\"0\",\"xaxis\":\"x15\",\"yaxis\":\"y15\",\"z\":[[134,126,132,139,122,121,127,119,126,117,121,124],[133,126,125,134,127,117,116,121,130,133,122,124],[136,132,126,128,121,117,127,123,125,118,129,118],[137,130,133,136,127,121,123,126,130,128,126,131],[139,132,136,140,133,131,142,122,122,121,122,125],[140,142,136,144,172,137,130,126,131,116,128,132],[153,168,170,168,194,171,141,137,134,124,124,129],[154,174,178,204,246,192,197,134,136,128,127,128],[157,166,185,254,328,247,199,138,131,123,115,122],[146,153,195,229,245,238,190,135,126,121,132,124],[173,164,171,182,193,155,152,133,128,127,122,141],[160,169,163,165,141,138,130,126,125,123,127,129]],\"type\":\"heatmap\"},{\"coloraxis\":\"coloraxis\",\"hovertemplate\":\"x: %{x}\\u003cbr\\u003ey: %{y}\\u003cbr\\u003ecolor: %{z}\\u003cextra\\u003e\\u003c\\u002fextra\\u003e\",\"name\":\"0\",\"xaxis\":\"x16\",\"yaxis\":\"y16\",\"z\":[[129,122,126,126,128,125,123,122,126,124,122,115],[155,137,126,124,118,120,123,127,128,129,123,125],[165,138,134,139,152,127,126,123,124,137,133,123],[146,149,137,130,143,125,118,137,118,120,124,126],[143,147,144,143,145,140,127,124,120,123,123,122],[152,171,176,153,167,171,148,140,122,128,118,122],[162,161,165,206,221,249,177,132,125,127,120,134],[196,180,162,220,264,296,246,178,128,130,131,131],[155,171,177,228,292,327,226,175,140,138,120,124],[164,169,192,214,280,304,173,152,126,132,123,127],[166,167,169,174,182,193,148,138,131,121,125,127],[153,162,192,163,168,139,126,128,121,129,121,118]],\"type\":\"heatmap\"},{\"coloraxis\":\"coloraxis\",\"hovertemplate\":\"x: %{x}\\u003cbr\\u003ey: %{y}\\u003cbr\\u003ecolor: %{z}\\u003cextra\\u003e\\u003c\\u002fextra\\u003e\",\"name\":\"0\",\"xaxis\":\"x17\",\"yaxis\":\"y17\",\"z\":[[140,140,135,116,126,119,126,132,133,128,123,123],[134,129,131,129,127,125,124,121,119,121,125,132],[141,147,147,124,124,131,126,122,117,127,122,118],[157,144,143,132,142,134,122,129,127,128,116,130],[139,164,166,152,134,124,122,135,126,120,122,116],[159,154,173,190,200,195,150,121,134,147,135,127],[155,170,190,227,246,239,171,144,135,128,130,131],[184,163,197,261,304,299,235,160,143,134,123,134],[164,171,198,194,233,232,205,165,126,141,150,136],[162,176,180,185,179,200,198,161,136,138,119,127],[167,146,171,152,160,146,129,135,135,134,143,124],[145,144,152,142,140,141,129,134,130,143,123,142]],\"type\":\"heatmap\"},{\"coloraxis\":\"coloraxis\",\"hovertemplate\":\"x: %{x}\\u003cbr\\u003ey: %{y}\\u003cbr\\u003ecolor: %{z}\\u003cextra\\u003e\\u003c\\u002fextra\\u003e\",\"name\":\"0\",\"xaxis\":\"x18\",\"yaxis\":\"y18\",\"z\":[[132,129,134,130,115,117,132,130,141,121,118,125],[130,124,128,130,126,120,118,119,121,129,128,128],[141,148,130,125,125,123,124,122,144,125,128,129],[127,142,135,133,126,134,132,125,122,128,125,117],[146,145,145,140,129,125,125,123,128,137,132,116],[164,174,176,190,151,147,130,126,126,140,124,132],[152,175,188,217,231,179,155,136,130,134,135,127],[168,176,254,284,312,275,230,135,131,130,124,126],[177,195,203,271,349,231,168,137,130,132,123,123],[170,192,181,186,211,202,168,136,138,145,140,134],[158,159,162,154,140,139,134,135,141,135,129,132],[147,158,150,145,140,129,133,144,135,133,135,132]],\"type\":\"heatmap\"},{\"coloraxis\":\"coloraxis\",\"hovertemplate\":\"x: %{x}\\u003cbr\\u003ey: %{y}\\u003cbr\\u003ecolor: %{z}\\u003cextra\\u003e\\u003c\\u002fextra\\u003e\",\"name\":\"0\",\"xaxis\":\"x19\",\"yaxis\":\"y19\",\"z\":[[127,130,125,139,127,120,129,123,124,127,124,128],[125,133,136,131,130,130,135,131,128,122,122,119],[143,137,129,127,130,130,128,124,134,130,142,131],[146,141,132,129,121,128,150,130,130,124,123,123],[151,159,165,149,152,138,138,126,129,121,125,124],[167,193,185,182,159,142,145,136,139,119,129,125],[176,198,249,279,239,164,150,144,139,126,125,130],[182,200,279,309,326,226,216,128,131,126,122,120],[199,227,237,281,301,226,178,141,129,124,132,124],[177,168,182,182,181,166,150,143,138,120,120,119],[158,176,177,169,146,138,140,133,127,122,123,130],[148,153,148,144,136,140,134,134,142,128,131,130]],\"type\":\"heatmap\"},{\"coloraxis\":\"coloraxis\",\"hovertemplate\":\"x: %{x}\\u003cbr\\u003ey: %{y}\\u003cbr\\u003ecolor: %{z}\\u003cextra\\u003e\\u003c\\u002fextra\\u003e\",\"name\":\"0\",\"xaxis\":\"x20\",\"yaxis\":\"y20\",\"z\":[[132,135,132,127,125,129,118,120,122,127,142,130],[141,144,126,123,128,133,128,128,127,129,131,143],[132,134,135,133,129,129,130,129,130,131,131,128],[137,144,133,137,148,150,137,124,140,133,126,127],[135,142,152,157,142,149,129,128,127,126,131,128],[161,146,135,167,165,178,146,131,128,122,135,121],[160,172,174,181,181,196,154,146,130,128,127,130],[152,163,172,185,257,284,326,195,143,126,124,122],[158,192,208,211,279,309,332,253,169,125,127,126],[151,167,185,198,217,236,266,245,175,126,130,125],[164,156,173,204,175,200,208,152,127,136,131,123],[145,148,152,165,178,178,151,128,126,126,146,131]],\"type\":\"heatmap\"},{\"coloraxis\":\"coloraxis\",\"hovertemplate\":\"x: %{x}\\u003cbr\\u003ey: %{y}\\u003cbr\\u003ecolor: %{z}\\u003cextra\\u003e\\u003c\\u002fextra\\u003e\",\"name\":\"0\",\"xaxis\":\"x21\",\"yaxis\":\"y21\",\"z\":[[133,126,128,120,122,127,127,119,120,125,127,124],[144,142,123,130,126,125,122,120,127,129,126,129],[129,128,128,121,128,132,124,124,125,128,138,127],[144,130,146,136,128,130,132,118,121,124,136,118],[149,154,161,159,150,146,131,126,132,125,130,126],[148,165,169,157,166,170,140,129,128,141,130,125],[161,175,164,179,200,217,195,144,125,140,153,132],[162,186,182,192,257,286,237,195,139,128,136,125],[166,187,193,196,270,336,356,225,157,139,145,126],[149,178,189,233,245,255,271,190,151,139,141,136],[159,169,176,205,172,207,208,174,135,129,129,131],[159,144,153,173,155,163,151,135,132,137,141,134]],\"type\":\"heatmap\"}],                        {\"template\":{\"data\":{\"histogram2dcontour\":[{\"type\":\"histogram2dcontour\",\"colorbar\":{\"outlinewidth\":0,\"ticks\":\"\"},\"colorscale\":[[0.0,\"#0d0887\"],[0.1111111111111111,\"#46039f\"],[0.2222222222222222,\"#7201a8\"],[0.3333333333333333,\"#9c179e\"],[0.4444444444444444,\"#bd3786\"],[0.5555555555555556,\"#d8576b\"],[0.6666666666666666,\"#ed7953\"],[0.7777777777777778,\"#fb9f3a\"],[0.8888888888888888,\"#fdca26\"],[1.0,\"#f0f921\"]]}],\"choropleth\":[{\"type\":\"choropleth\",\"colorbar\":{\"outlinewidth\":0,\"ticks\":\"\"}}],\"histogram2d\":[{\"type\":\"histogram2d\",\"colorbar\":{\"outlinewidth\":0,\"ticks\":\"\"},\"colorscale\":[[0.0,\"#0d0887\"],[0.1111111111111111,\"#46039f\"],[0.2222222222222222,\"#7201a8\"],[0.3333333333333333,\"#9c179e\"],[0.4444444444444444,\"#bd3786\"],[0.5555555555555556,\"#d8576b\"],[0.6666666666666666,\"#ed7953\"],[0.7777777777777778,\"#fb9f3a\"],[0.8888888888888888,\"#fdca26\"],[1.0,\"#f0f921\"]]}],\"heatmap\":[{\"type\":\"heatmap\",\"colorbar\":{\"outlinewidth\":0,\"ticks\":\"\"},\"colorscale\":[[0.0,\"#0d0887\"],[0.1111111111111111,\"#46039f\"],[0.2222222222222222,\"#7201a8\"],[0.3333333333333333,\"#9c179e\"],[0.4444444444444444,\"#bd3786\"],[0.5555555555555556,\"#d8576b\"],[0.6666666666666666,\"#ed7953\"],[0.7777777777777778,\"#fb9f3a\"],[0.8888888888888888,\"#fdca26\"],[1.0,\"#f0f921\"]]}],\"heatmapgl\":[{\"type\":\"heatmapgl\",\"colorbar\":{\"outlinewidth\":0,\"ticks\":\"\"},\"colorscale\":[[0.0,\"#0d0887\"],[0.1111111111111111,\"#46039f\"],[0.2222222222222222,\"#7201a8\"],[0.3333333333333333,\"#9c179e\"],[0.4444444444444444,\"#bd3786\"],[0.5555555555555556,\"#d8576b\"],[0.6666666666666666,\"#ed7953\"],[0.7777777777777778,\"#fb9f3a\"],[0.8888888888888888,\"#fdca26\"],[1.0,\"#f0f921\"]]}],\"contourcarpet\":[{\"type\":\"contourcarpet\",\"colorbar\":{\"outlinewidth\":0,\"ticks\":\"\"}}],\"contour\":[{\"type\":\"contour\",\"colorbar\":{\"outlinewidth\":0,\"ticks\":\"\"},\"colorscale\":[[0.0,\"#0d0887\"],[0.1111111111111111,\"#46039f\"],[0.2222222222222222,\"#7201a8\"],[0.3333333333333333,\"#9c179e\"],[0.4444444444444444,\"#bd3786\"],[0.5555555555555556,\"#d8576b\"],[0.6666666666666666,\"#ed7953\"],[0.7777777777777778,\"#fb9f3a\"],[0.8888888888888888,\"#fdca26\"],[1.0,\"#f0f921\"]]}],\"surface\":[{\"type\":\"surface\",\"colorbar\":{\"outlinewidth\":0,\"ticks\":\"\"},\"colorscale\":[[0.0,\"#0d0887\"],[0.1111111111111111,\"#46039f\"],[0.2222222222222222,\"#7201a8\"],[0.3333333333333333,\"#9c179e\"],[0.4444444444444444,\"#bd3786\"],[0.5555555555555556,\"#d8576b\"],[0.6666666666666666,\"#ed7953\"],[0.7777777777777778,\"#fb9f3a\"],[0.8888888888888888,\"#fdca26\"],[1.0,\"#f0f921\"]]}],\"mesh3d\":[{\"type\":\"mesh3d\",\"colorbar\":{\"outlinewidth\":0,\"ticks\":\"\"}}],\"scatter\":[{\"fillpattern\":{\"fillmode\":\"overlay\",\"size\":10,\"solidity\":0.2},\"type\":\"scatter\"}],\"parcoords\":[{\"type\":\"parcoords\",\"line\":{\"colorbar\":{\"outlinewidth\":0,\"ticks\":\"\"}}}],\"scatterpolargl\":[{\"type\":\"scatterpolargl\",\"marker\":{\"colorbar\":{\"outlinewidth\":0,\"ticks\":\"\"}}}],\"bar\":[{\"error_x\":{\"color\":\"#2a3f5f\"},\"error_y\":{\"color\":\"#2a3f5f\"},\"marker\":{\"line\":{\"color\":\"#E5ECF6\",\"width\":0.5},\"pattern\":{\"fillmode\":\"overlay\",\"size\":10,\"solidity\":0.2}},\"type\":\"bar\"}],\"scattergeo\":[{\"type\":\"scattergeo\",\"marker\":{\"colorbar\":{\"outlinewidth\":0,\"ticks\":\"\"}}}],\"scatterpolar\":[{\"type\":\"scatterpolar\",\"marker\":{\"colorbar\":{\"outlinewidth\":0,\"ticks\":\"\"}}}],\"histogram\":[{\"marker\":{\"pattern\":{\"fillmode\":\"overlay\",\"size\":10,\"solidity\":0.2}},\"type\":\"histogram\"}],\"scattergl\":[{\"type\":\"scattergl\",\"marker\":{\"colorbar\":{\"outlinewidth\":0,\"ticks\":\"\"}}}],\"scatter3d\":[{\"type\":\"scatter3d\",\"line\":{\"colorbar\":{\"outlinewidth\":0,\"ticks\":\"\"}},\"marker\":{\"colorbar\":{\"outlinewidth\":0,\"ticks\":\"\"}}}],\"scattermapbox\":[{\"type\":\"scattermapbox\",\"marker\":{\"colorbar\":{\"outlinewidth\":0,\"ticks\":\"\"}}}],\"scatterternary\":[{\"type\":\"scatterternary\",\"marker\":{\"colorbar\":{\"outlinewidth\":0,\"ticks\":\"\"}}}],\"scattercarpet\":[{\"type\":\"scattercarpet\",\"marker\":{\"colorbar\":{\"outlinewidth\":0,\"ticks\":\"\"}}}],\"carpet\":[{\"aaxis\":{\"endlinecolor\":\"#2a3f5f\",\"gridcolor\":\"white\",\"linecolor\":\"white\",\"minorgridcolor\":\"white\",\"startlinecolor\":\"#2a3f5f\"},\"baxis\":{\"endlinecolor\":\"#2a3f5f\",\"gridcolor\":\"white\",\"linecolor\":\"white\",\"minorgridcolor\":\"white\",\"startlinecolor\":\"#2a3f5f\"},\"type\":\"carpet\"}],\"table\":[{\"cells\":{\"fill\":{\"color\":\"#EBF0F8\"},\"line\":{\"color\":\"white\"}},\"header\":{\"fill\":{\"color\":\"#C8D4E3\"},\"line\":{\"color\":\"white\"}},\"type\":\"table\"}],\"barpolar\":[{\"marker\":{\"line\":{\"color\":\"#E5ECF6\",\"width\":0.5},\"pattern\":{\"fillmode\":\"overlay\",\"size\":10,\"solidity\":0.2}},\"type\":\"barpolar\"}],\"pie\":[{\"automargin\":true,\"type\":\"pie\"}]},\"layout\":{\"autotypenumbers\":\"strict\",\"colorway\":[\"#636efa\",\"#EF553B\",\"#00cc96\",\"#ab63fa\",\"#FFA15A\",\"#19d3f3\",\"#FF6692\",\"#B6E880\",\"#FF97FF\",\"#FECB52\"],\"font\":{\"color\":\"#2a3f5f\"},\"hovermode\":\"closest\",\"hoverlabel\":{\"align\":\"left\"},\"paper_bgcolor\":\"white\",\"plot_bgcolor\":\"#E5ECF6\",\"polar\":{\"bgcolor\":\"#E5ECF6\",\"angularaxis\":{\"gridcolor\":\"white\",\"linecolor\":\"white\",\"ticks\":\"\"},\"radialaxis\":{\"gridcolor\":\"white\",\"linecolor\":\"white\",\"ticks\":\"\"}},\"ternary\":{\"bgcolor\":\"#E5ECF6\",\"aaxis\":{\"gridcolor\":\"white\",\"linecolor\":\"white\",\"ticks\":\"\"},\"baxis\":{\"gridcolor\":\"white\",\"linecolor\":\"white\",\"ticks\":\"\"},\"caxis\":{\"gridcolor\":\"white\",\"linecolor\":\"white\",\"ticks\":\"\"}},\"coloraxis\":{\"colorbar\":{\"outlinewidth\":0,\"ticks\":\"\"}},\"colorscale\":{\"sequential\":[[0.0,\"#0d0887\"],[0.1111111111111111,\"#46039f\"],[0.2222222222222222,\"#7201a8\"],[0.3333333333333333,\"#9c179e\"],[0.4444444444444444,\"#bd3786\"],[0.5555555555555556,\"#d8576b\"],[0.6666666666666666,\"#ed7953\"],[0.7777777777777778,\"#fb9f3a\"],[0.8888888888888888,\"#fdca26\"],[1.0,\"#f0f921\"]],\"sequentialminus\":[[0.0,\"#0d0887\"],[0.1111111111111111,\"#46039f\"],[0.2222222222222222,\"#7201a8\"],[0.3333333333333333,\"#9c179e\"],[0.4444444444444444,\"#bd3786\"],[0.5555555555555556,\"#d8576b\"],[0.6666666666666666,\"#ed7953\"],[0.7777777777777778,\"#fb9f3a\"],[0.8888888888888888,\"#fdca26\"],[1.0,\"#f0f921\"]],\"diverging\":[[0,\"#8e0152\"],[0.1,\"#c51b7d\"],[0.2,\"#de77ae\"],[0.3,\"#f1b6da\"],[0.4,\"#fde0ef\"],[0.5,\"#f7f7f7\"],[0.6,\"#e6f5d0\"],[0.7,\"#b8e186\"],[0.8,\"#7fbc41\"],[0.9,\"#4d9221\"],[1,\"#276419\"]]},\"xaxis\":{\"gridcolor\":\"white\",\"linecolor\":\"white\",\"ticks\":\"\",\"title\":{\"standoff\":15},\"zerolinecolor\":\"white\",\"automargin\":true,\"zerolinewidth\":2},\"yaxis\":{\"gridcolor\":\"white\",\"linecolor\":\"white\",\"ticks\":\"\",\"title\":{\"standoff\":15},\"zerolinecolor\":\"white\",\"automargin\":true,\"zerolinewidth\":2},\"scene\":{\"xaxis\":{\"backgroundcolor\":\"#E5ECF6\",\"gridcolor\":\"white\",\"linecolor\":\"white\",\"showbackground\":true,\"ticks\":\"\",\"zerolinecolor\":\"white\",\"gridwidth\":2},\"yaxis\":{\"backgroundcolor\":\"#E5ECF6\",\"gridcolor\":\"white\",\"linecolor\":\"white\",\"showbackground\":true,\"ticks\":\"\",\"zerolinecolor\":\"white\",\"gridwidth\":2},\"zaxis\":{\"backgroundcolor\":\"#E5ECF6\",\"gridcolor\":\"white\",\"linecolor\":\"white\",\"showbackground\":true,\"ticks\":\"\",\"zerolinecolor\":\"white\",\"gridwidth\":2}},\"shapedefaults\":{\"line\":{\"color\":\"#2a3f5f\"}},\"annotationdefaults\":{\"arrowcolor\":\"#2a3f5f\",\"arrowhead\":0,\"arrowwidth\":1},\"geo\":{\"bgcolor\":\"white\",\"landcolor\":\"#E5ECF6\",\"subunitcolor\":\"white\",\"showland\":true,\"showlakes\":true,\"lakecolor\":\"white\"},\"title\":{\"x\":0.05},\"mapbox\":{\"style\":\"light\"}}},\"xaxis\":{\"anchor\":\"y\",\"domain\":[0.0,0.1183673469387755]},\"yaxis\":{\"anchor\":\"x\",\"domain\":[0.80625,1.0]},\"xaxis2\":{\"anchor\":\"y2\",\"domain\":[0.14693877551020407,0.26530612244897955]},\"yaxis2\":{\"anchor\":\"x2\",\"domain\":[0.80625,1.0]},\"xaxis3\":{\"anchor\":\"y3\",\"domain\":[0.29387755102040813,0.4122448979591836]},\"yaxis3\":{\"anchor\":\"x3\",\"domain\":[0.80625,1.0]},\"xaxis4\":{\"anchor\":\"y4\",\"domain\":[0.4408163265306122,0.5591836734693877]},\"yaxis4\":{\"anchor\":\"x4\",\"domain\":[0.80625,1.0]},\"xaxis5\":{\"anchor\":\"y5\",\"domain\":[0.5877551020408163,0.7061224489795918]},\"yaxis5\":{\"anchor\":\"x5\",\"domain\":[0.80625,1.0]},\"xaxis6\":{\"anchor\":\"y6\",\"domain\":[0.7346938775510204,0.8530612244897959]},\"yaxis6\":{\"anchor\":\"x6\",\"domain\":[0.80625,1.0]},\"xaxis7\":{\"anchor\":\"y7\",\"domain\":[0.8816326530612244,0.9999999999999999]},\"yaxis7\":{\"anchor\":\"x7\",\"domain\":[0.80625,1.0]},\"xaxis8\":{\"anchor\":\"y8\",\"domain\":[0.0,0.1183673469387755]},\"yaxis8\":{\"anchor\":\"x8\",\"domain\":[0.5375,0.73125]},\"xaxis9\":{\"anchor\":\"y9\",\"domain\":[0.14693877551020407,0.26530612244897955]},\"yaxis9\":{\"anchor\":\"x9\",\"domain\":[0.5375,0.73125]},\"xaxis10\":{\"anchor\":\"y10\",\"domain\":[0.29387755102040813,0.4122448979591836]},\"yaxis10\":{\"anchor\":\"x10\",\"domain\":[0.5375,0.73125]},\"xaxis11\":{\"anchor\":\"y11\",\"domain\":[0.4408163265306122,0.5591836734693877]},\"yaxis11\":{\"anchor\":\"x11\",\"domain\":[0.5375,0.73125]},\"xaxis12\":{\"anchor\":\"y12\",\"domain\":[0.5877551020408163,0.7061224489795918]},\"yaxis12\":{\"anchor\":\"x12\",\"domain\":[0.5375,0.73125]},\"xaxis13\":{\"anchor\":\"y13\",\"domain\":[0.7346938775510204,0.8530612244897959]},\"yaxis13\":{\"anchor\":\"x13\",\"domain\":[0.5375,0.73125]},\"xaxis14\":{\"anchor\":\"y14\",\"domain\":[0.8816326530612244,0.9999999999999999]},\"yaxis14\":{\"anchor\":\"x14\",\"domain\":[0.5375,0.73125]},\"xaxis15\":{\"anchor\":\"y15\",\"domain\":[0.0,0.1183673469387755]},\"yaxis15\":{\"anchor\":\"x15\",\"domain\":[0.26875,0.4625]},\"xaxis16\":{\"anchor\":\"y16\",\"domain\":[0.14693877551020407,0.26530612244897955]},\"yaxis16\":{\"anchor\":\"x16\",\"domain\":[0.26875,0.4625]},\"xaxis17\":{\"anchor\":\"y17\",\"domain\":[0.29387755102040813,0.4122448979591836]},\"yaxis17\":{\"anchor\":\"x17\",\"domain\":[0.26875,0.4625]},\"xaxis18\":{\"anchor\":\"y18\",\"domain\":[0.4408163265306122,0.5591836734693877]},\"yaxis18\":{\"anchor\":\"x18\",\"domain\":[0.26875,0.4625]},\"xaxis19\":{\"anchor\":\"y19\",\"domain\":[0.5877551020408163,0.7061224489795918]},\"yaxis19\":{\"anchor\":\"x19\",\"domain\":[0.26875,0.4625]},\"xaxis20\":{\"anchor\":\"y20\",\"domain\":[0.7346938775510204,0.8530612244897959]},\"yaxis20\":{\"anchor\":\"x20\",\"domain\":[0.26875,0.4625]},\"xaxis21\":{\"anchor\":\"y21\",\"domain\":[0.8816326530612244,0.9999999999999999]},\"yaxis21\":{\"anchor\":\"x21\",\"domain\":[0.26875,0.4625]},\"xaxis22\":{\"anchor\":\"y22\",\"domain\":[0.0,0.1183673469387755]},\"yaxis22\":{\"anchor\":\"x22\",\"domain\":[0.0,0.19375]},\"xaxis23\":{\"anchor\":\"y23\",\"domain\":[0.14693877551020407,0.26530612244897955]},\"yaxis23\":{\"anchor\":\"x23\",\"domain\":[0.0,0.19375]},\"xaxis24\":{\"anchor\":\"y24\",\"domain\":[0.29387755102040813,0.4122448979591836]},\"yaxis24\":{\"anchor\":\"x24\",\"domain\":[0.0,0.19375]},\"xaxis25\":{\"anchor\":\"y25\",\"domain\":[0.4408163265306122,0.5591836734693877]},\"yaxis25\":{\"anchor\":\"x25\",\"domain\":[0.0,0.19375]},\"xaxis26\":{\"anchor\":\"y26\",\"domain\":[0.5877551020408163,0.7061224489795918]},\"yaxis26\":{\"anchor\":\"x26\",\"domain\":[0.0,0.19375]},\"xaxis27\":{\"anchor\":\"y27\",\"domain\":[0.7346938775510204,0.8530612244897959]},\"yaxis27\":{\"anchor\":\"x27\",\"domain\":[0.0,0.19375]},\"xaxis28\":{\"anchor\":\"y28\",\"domain\":[0.8816326530612244,0.9999999999999999]},\"yaxis28\":{\"anchor\":\"x28\",\"domain\":[0.0,0.19375]}},                        {\"responsive\": true}                    ).then(function(){\n",
       "                            \n",
       "var gd = document.getElementById('7ff293e5-b141-4174-bd5c-0fe93bd9c558');\n",
       "var x = new MutationObserver(function (mutations, observer) {{\n",
       "        var display = window.getComputedStyle(gd).display;\n",
       "        if (!display || display === 'none') {{\n",
       "            console.log([gd, 'removed!']);\n",
       "            Plotly.purge(gd);\n",
       "            observer.disconnect();\n",
       "        }}\n",
       "}});\n",
       "\n",
       "// Listen for the removal of the full notebook cells\n",
       "var notebookContainer = gd.closest('#notebook-container');\n",
       "if (notebookContainer) {{\n",
       "    x.observe(notebookContainer, {childList: true});\n",
       "}}\n",
       "\n",
       "// Listen for the clearing of the current output cell\n",
       "var outputEl = gd.closest('.output');\n",
       "if (outputEl) {{\n",
       "    x.observe(outputEl, {childList: true});\n",
       "}}\n",
       "\n",
       "                        })                };                });            </script>        </div>"
      ]
     },
     "metadata": {},
     "output_type": "display_data"
    }
   ],
   "source": [
    "plot_raw_movie(plot_type = 'max_intensity_projection', raw_image = raw_image_2,track_number = 91)"
   ]
  },
  {
   "cell_type": "code",
   "execution_count": null,
   "id": "2ac482cc",
   "metadata": {},
   "outputs": [],
   "source": []
  }
 ],
 "metadata": {
  "kernelspec": {
   "display_name": "Python 3 (ipykernel)",
   "language": "python",
   "name": "python3"
  },
  "language_info": {
   "codemirror_mode": {
    "name": "ipython",
    "version": 3
   },
   "file_extension": ".py",
   "mimetype": "text/x-python",
   "name": "python",
   "nbconvert_exporter": "python",
   "pygments_lexer": "ipython3",
   "version": "3.10.13"
  }
 },
 "nbformat": 4,
 "nbformat_minor": 5
}
