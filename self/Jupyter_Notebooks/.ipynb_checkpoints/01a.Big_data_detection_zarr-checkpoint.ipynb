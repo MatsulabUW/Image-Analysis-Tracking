{
 "cells": [
  {
   "cell_type": "code",
   "execution_count": 3,
   "id": "62a4feae-de71-474c-a3b1-9d442d2a2fe6",
   "metadata": {},
   "outputs": [
    {
     "ename": "ModuleNotFoundError",
     "evalue": "No module named 'peak_local_max_3d'",
     "output_type": "error",
     "traceback": [
      "\u001b[0;31m---------------------------------------------------------------------------\u001b[0m",
      "\u001b[0;31mModuleNotFoundError\u001b[0m                       Traceback (most recent call last)",
      "Cell \u001b[0;32mIn[3], line 18\u001b[0m\n\u001b[1;32m     16\u001b[0m pythonPackagePath \u001b[38;5;241m=\u001b[39m os\u001b[38;5;241m.\u001b[39mpath\u001b[38;5;241m.\u001b[39mabspath(\u001b[38;5;124m'\u001b[39m\u001b[38;5;124m../src/\u001b[39m\u001b[38;5;124m'\u001b[39m)\n\u001b[1;32m     17\u001b[0m sys\u001b[38;5;241m.\u001b[39mpath\u001b[38;5;241m.\u001b[39mappend(pythonPackagePath)\n\u001b[0;32m---> 18\u001b[0m \u001b[38;5;28;01mfrom\u001b[39;00m \u001b[38;5;21;01mpeak_local_max_3d\u001b[39;00m \u001b[38;5;28;01mimport\u001b[39;00m peak_local_max_3d \n\u001b[1;32m     19\u001b[0m \u001b[38;5;28;01mfrom\u001b[39;00m \u001b[38;5;21;01mgaussian_fitting\u001b[39;00m \u001b[38;5;28;01mimport\u001b[39;00m fit_multiple_gaussians\n\u001b[1;32m     20\u001b[0m \u001b[38;5;28;01mfrom\u001b[39;00m \u001b[38;5;21;01mextract_data\u001b[39;00m \u001b[38;5;28;01mimport\u001b[39;00m extract_data_from_filename\n",
      "\u001b[0;31mModuleNotFoundError\u001b[0m: No module named 'peak_local_max_3d'"
     ]
    }
   ],
   "source": [
    "%matplotlib inline\n",
    "import matplotlib.pyplot as plt\n",
    "import numpy as np\n",
    "import pandas as pd\n",
    "from aicsimageio import AICSImage\n",
    "import time\n",
    "\n",
    "### package for 3d visualization\n",
    "#from itkwidgets import view                              \n",
    "#from aicssegmentation.core.visual import seg_fluo_side_by_side,  single_fluorescent_view, segmentation_quick_view\n",
    "#import skimage\n",
    "\n",
    "### local new python segmentation functions\n",
    "import os\n",
    "import sys\n",
    "pythonPackagePath = os.path.abspath('../src/')\n",
    "sys.path.append(pythonPackagePath)\n",
    "from peak_local_max_3d import peak_local_max_3d \n",
    "from gaussian_fitting import fit_multiple_gaussians\n",
    "from extract_data import extract_data_from_filename\n",
    "from gaussian_visualization import visualize_3D_gaussians\n",
    "from gaussian_fitting import check_fitting_error\n",
    "import matplotlib.pyplot as plt\n",
    "from skimage import io\n",
    "import tifffile\n",
    "import zarr\n",
    "import time"
   ]
  },
  {
   "cell_type": "code",
   "execution_count": null,
   "id": "2f8dc259-df31-401a-abd5-20a1e9c4e9a2",
   "metadata": {},
   "outputs": [],
   "source": [
    "z2 = zarr.open('/Users/apple/Desktop/Akamatsu_Lab/Data/zarr_data/Channel_3/transpose-148f28e615c88260294c4c8208b84ca3', mode='r')\n",
    "\n",
    "save_dir = '/Users/apple/Desktop/Akamatsu_Lab/Data/Channel_3_pkl_zarr_test'"
   ]
  },
  {
   "cell_type": "code",
   "execution_count": null,
   "id": "69dbbf55-cf28-420a-866c-8168ac253834",
   "metadata": {},
   "outputs": [],
   "source": [
    "z2.info"
   ]
  },
  {
   "cell_type": "code",
   "execution_count": 4,
   "id": "48a04399-bc76-4895-bdc8-ade573cbfb25",
   "metadata": {},
   "outputs": [
    {
     "data": {
      "text/plain": [
       "(130, 1, 116, 2052, 340)"
      ]
     },
     "execution_count": 4,
     "metadata": {},
     "output_type": "execute_result"
    }
   ],
   "source": [
    "z2.shape"
   ]
  },
  {
   "cell_type": "code",
   "execution_count": 5,
   "id": "74b82bf1-0470-4214-802c-e77fa4ab330a",
   "metadata": {},
   "outputs": [
    {
     "name": "stdout",
     "output_type": "stream",
     "text": [
      "the number of frames are 130\n"
     ]
    }
   ],
   "source": [
    "frames = z2.shape[0]\n",
    "print(f'the number of frames are {frames}')"
   ]
  },
  {
   "cell_type": "code",
   "execution_count": 1,
   "id": "f3894c7e-cc49-48f3-9c70-e807c19bf1de",
   "metadata": {},
   "outputs": [],
   "source": [
    "def single_frame_segmentation(frame, save_directory,zarr_file):\n",
    "    \n",
    "    \n",
    "    #get the number of frames for our original data for automated analysis for all frames \n",
    "    print('frame number is', frame)\n",
    "    \n",
    "    single_frame_input = zarr_file[frame]\n",
    "    single_frame_input = single_frame_input[0,:,:,:]\n",
    "    print(single_frame_input.shape)\n",
    "    single_frame_input = np.transpose(single_frame_input,axes =(0,2,1))\n",
    "    print(single_frame_input.shape)\n",
    "\n",
    "    #define threshold: a value(intensity) for the pixel below which all values would be considered noise and dropped \n",
    "    #define min_distance: min_distance/2 is the radius within which we will keep the peak with max value/intensity or \n",
    "    #if two peaks have the same value they will be kept \n",
    "    \n",
    "    maximas = peak_local_max_3d(single_frame_input,min_distance=10,threshold=180)\n",
    "    print('local_maximas detected are', maximas.shape[0])\n",
    "\n",
    "\n",
    "    #give the expected std dev/radius of our particles for x,y,z \n",
    "    sigmaExpected_x__pixels = 2\n",
    "    sigmaExpected_y__pixels = 2\n",
    "    sigmaExpected_z__pixels = 4\n",
    "\n",
    "    sigmas_guesses = []\n",
    "    for i in range(len(maximas)):\n",
    "        sigmas_guesses.append([sigmaExpected_z__pixels,sigmaExpected_x__pixels,sigmaExpected_y__pixels])\n",
    "        \n",
    "    #last parameter in the fit_multiple_gaussians is similar to min_distance above, we should give half of the \n",
    "    #value here of min_distance   \n",
    "    gaussians, gaussians_popt = fit_multiple_gaussians(single_frame_input,maximas,sigmas_guesses,5)\n",
    "        \n",
    "    accumulator = []\n",
    "    for gaussian in gaussians:\n",
    "\n",
    "        if(gaussian!=-1):\n",
    "            amplitude = gaussian[0]\n",
    "\n",
    "            #print(gaussian)\n",
    "            mu_x     = int(gaussian[1][1]) ##this is going to be mu_z, previous code [1][0]\n",
    "            mu_y     = int(gaussian[1][2]) ##need to finalise what this is (x or y) [1][1]\n",
    "            mu_z     = int(gaussian[1][0]) ##need to finalise what this is (x or y) [1][2]\n",
    "            ##sigmas will also change due to the above \n",
    "            sigma_x  = int(gaussian[2][1]) \n",
    "            sigma_y  = int(gaussian[2][2])\n",
    "            sigma_z  = int(gaussian[2][0])\n",
    "            accumulator.append(np.array([amplitude,mu_x,mu_y,mu_z,sigma_x,sigma_y,sigma_z]))\n",
    "            \n",
    "    accumulator = np.array(accumulator)\n",
    "    print(accumulator.shape)\n",
    "    df = pd.DataFrame()\n",
    "    df['amplitude'] = accumulator[:,0]\n",
    "    df['mu_x'] = accumulator[:,1]\n",
    "    df['mu_y'] = accumulator[:,2]\n",
    "    df['mu_z'] = accumulator[:,3]\n",
    "    df['sigma_x'] = accumulator[:,4]\n",
    "    df['sigma_y'] = accumulator[:,5]\n",
    "    df['sigma_z'] = accumulator[:,6]\n",
    "    df.head()\n",
    "    \n",
    "    error_list, index_list = check_fitting_error(single_frame_input,maximas,gaussians,sigmas_guesses)\n",
    "    \n",
    "    # Construct the filename\n",
    "    '''\n",
    "    filename_csv = f'df_c2_t{frame}.csv'\n",
    "    file_path_csv = os.path.join(csv_save_dir, filename_csv)\n",
    "    df.to_csv(file_path_csv)\n",
    "    '''\n",
    "\n",
    "    # Construct the filename based on the loop index (time_frame)\n",
    "    filename_pkl = f'df_c3_t{frame}.pkl'\n",
    "\n",
    "    # Construct the full file path by joining the directory and filename\n",
    "    file_path = os.path.join(save_dir, filename_pkl)\n",
    "\n",
    "    # Save the DataFrame to a pickle file with the specified path\n",
    "    df.to_pickle(file_path)"
   ]
  },
  {
   "cell_type": "code",
   "execution_count": 2,
   "id": "b9186136-a21d-4e55-9ffb-2dc2943781a6",
   "metadata": {},
   "outputs": [
    {
     "ename": "NameError",
     "evalue": "name 'z2' is not defined",
     "output_type": "error",
     "traceback": [
      "\u001b[0;31m---------------------------------------------------------------------------\u001b[0m",
      "\u001b[0;31mNameError\u001b[0m                                 Traceback (most recent call last)",
      "Cell \u001b[0;32mIn[2], line 2\u001b[0m\n\u001b[1;32m      1\u001b[0m single_frame_segmentation(frame\u001b[38;5;241m=\u001b[39m\u001b[38;5;241m0\u001b[39m, save_directory \u001b[38;5;241m=\u001b[39m \u001b[38;5;124m'\u001b[39m\u001b[38;5;124m/Users/apple/Desktop/Akamatsu_Lab/Data/Channel_3_pkl_zarr_test\u001b[39m\u001b[38;5;124m'\u001b[39m , \n\u001b[0;32m----> 2\u001b[0m                           zarr_file \u001b[38;5;241m=\u001b[39m \u001b[43mz2\u001b[49m)\n",
      "\u001b[0;31mNameError\u001b[0m: name 'z2' is not defined"
     ]
    }
   ],
   "source": [
    "single_frame_segmentation(frame=0, save_directory = '/Users/apple/Desktop/Akamatsu_Lab/Data/Channel_3_pkl_zarr_test' , \n",
    "                          zarr_file = z2)"
   ]
  },
  {
   "cell_type": "code",
   "execution_count": null,
   "id": "e7e66311-6fb1-41da-a62f-2b13db91118b",
   "metadata": {},
   "outputs": [],
   "source": []
  }
 ],
 "metadata": {
  "kernelspec": {
   "display_name": "Python 3 (ipykernel)",
   "language": "python",
   "name": "python3"
  },
  "language_info": {
   "codemirror_mode": {
    "name": "ipython",
    "version": 3
   },
   "file_extension": ".py",
   "mimetype": "text/x-python",
   "name": "python",
   "nbconvert_exporter": "python",
   "pygments_lexer": "ipython3",
   "version": "3.10.13"
  }
 },
 "nbformat": 4,
 "nbformat_minor": 5
}
