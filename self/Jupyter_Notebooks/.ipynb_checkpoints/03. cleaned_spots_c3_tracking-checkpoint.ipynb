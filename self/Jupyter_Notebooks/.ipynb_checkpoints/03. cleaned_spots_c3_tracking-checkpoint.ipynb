{
 "cells": [
  {
   "cell_type": "markdown",
   "id": "c5c7afc9",
   "metadata": {},
   "source": [
    "# Main Focus of the Notebook: Running Laptrack on detections\n",
    "\n",
    "### This notebook takes as input the dataframe which contains filtered detected spots and runs laptrack module on it. \n",
    "### A new dataframe containing tree id and track id is returned. For us main variable for tracks is track id. "
   ]
  },
  {
   "cell_type": "code",
   "execution_count": 1,
   "id": "6a96b688",
   "metadata": {},
   "outputs": [],
   "source": [
    "from os import path\n",
    "import pandas as pd\n",
    "from IPython.display import display\n",
    "from matplotlib import pyplot as plt\n",
    "from laptrack import LapTrack\n",
    "import napari\n",
    "from skimage import io\n",
    "import time "
   ]
  },
  {
   "cell_type": "markdown",
   "id": "f97d2870",
   "metadata": {},
   "source": [
    "Import the dataframe of filtered spots "
   ]
  },
  {
   "cell_type": "code",
   "execution_count": 2,
   "id": "8a796435",
   "metadata": {},
   "outputs": [],
   "source": [
    "path = '/Users/apple/Desktop/Akamatsu_Lab/Lap_track/self/files/cleaned_spots_intensities_c3_all.pkl'\n",
    "cleaned_spots_df = pd.read_pickle(path)"
   ]
  },
  {
   "cell_type": "code",
   "execution_count": 3,
   "id": "1a146a6e",
   "metadata": {},
   "outputs": [],
   "source": [
    "max_distance = 3\n",
    "lt = LapTrack(\n",
    "    track_dist_metric=\"sqeuclidean\",  # The similarity metric for particles. See `scipy.spatial.distance.cdist` for allowed values.\n",
    "    splitting_dist_metric=\"sqeuclidean\",\n",
    "    merging_dist_metric=\"sqeuclidean\",\n",
    "    # the square of the cutoff distance for the \"sqeuclidean\" metric\n",
    "    track_cost_cutoff=max_distance**2,\n",
    "    gap_closing_cost_cutoff = (2*max_distance)**2,\n",
    "    gap_closing_max_frame_count = 1,\n",
    "    splitting_cost_cutoff=False,  # or False for non-splitting case\n",
    "    merging_cost_cutoff=False,  # or False for non-merging case\n",
    ")"
   ]
  },
  {
   "cell_type": "code",
   "execution_count": 5,
   "id": "d8cce581",
   "metadata": {},
   "outputs": [
    {
     "name": "stdout",
     "output_type": "stream",
     "text": [
      "Total execution time: 103.00411200523376 seconds\n"
     ]
    }
   ],
   "source": [
    "\n",
    "start_time = time.time()\n",
    "\n",
    "track_df, split_df, merge_df = lt.predict_dataframe(\n",
    "    cleaned_spots_df,\n",
    "    coordinate_cols=[\n",
    "        \"mu_x\",\n",
    "        \"mu_y\",\n",
    "        \"mu_z\"\n",
    "    ],  # the column names for the coordinates\n",
    "    frame_col=\"frame\",  # the column name for the frame (default \"frame\")\n",
    "    only_coordinate_cols=False,  # if False, returned track_df includes columns not in coordinate_cols.\n",
    "    # False will be the default in the major release.\n",
    ")\n",
    "\n",
    "end_time = time.time()\n",
    "\n",
    "execution_time = end_time - start_time\n",
    "print(f\"Total execution time: {execution_time} seconds\")\n",
    "track_df = track_df.reset_index()"
   ]
  },
  {
   "cell_type": "code",
   "execution_count": 6,
   "id": "dca1a89d",
   "metadata": {},
   "outputs": [],
   "source": [
    "c3_tracking_pickle_file = \"/Users/apple/Desktop/Akamatsu_Lab/Lap_track/self/files/track_df_c3_cleaned.pkl\"\n",
    "\n",
    "# Save the DataFrame to a pickle file\n",
    "track_df.to_pickle(c3_tracking_pickle_file)"
   ]
  },
  {
   "cell_type": "code",
   "execution_count": 8,
   "id": "f0618bc1",
   "metadata": {},
   "outputs": [
    {
     "data": {
      "text/plain": [
       "18923"
      ]
     },
     "execution_count": 8,
     "metadata": {},
     "output_type": "execute_result"
    }
   ],
   "source": [
    "track_df['track_id'].nunique()"
   ]
  },
  {
   "cell_type": "code",
   "execution_count": 22,
   "id": "a826c143",
   "metadata": {},
   "outputs": [
    {
     "data": {
      "text/html": [
       "<div>\n",
       "<style scoped>\n",
       "    .dataframe tbody tr th:only-of-type {\n",
       "        vertical-align: middle;\n",
       "    }\n",
       "\n",
       "    .dataframe tbody tr th {\n",
       "        vertical-align: top;\n",
       "    }\n",
       "\n",
       "    .dataframe thead th {\n",
       "        text-align: right;\n",
       "    }\n",
       "</style>\n",
       "<table border=\"1\" class=\"dataframe\">\n",
       "  <thead>\n",
       "    <tr style=\"text-align: right;\">\n",
       "      <th></th>\n",
       "      <th>track_id</th>\n",
       "      <th>length</th>\n",
       "    </tr>\n",
       "  </thead>\n",
       "  <tbody>\n",
       "    <tr>\n",
       "      <th>0</th>\n",
       "      <td>3344</td>\n",
       "      <td>63</td>\n",
       "    </tr>\n",
       "    <tr>\n",
       "      <th>1</th>\n",
       "      <td>212</td>\n",
       "      <td>60</td>\n",
       "    </tr>\n",
       "    <tr>\n",
       "      <th>2</th>\n",
       "      <td>286</td>\n",
       "      <td>51</td>\n",
       "    </tr>\n",
       "    <tr>\n",
       "      <th>3</th>\n",
       "      <td>7239</td>\n",
       "      <td>51</td>\n",
       "    </tr>\n",
       "    <tr>\n",
       "      <th>4</th>\n",
       "      <td>12615</td>\n",
       "      <td>49</td>\n",
       "    </tr>\n",
       "  </tbody>\n",
       "</table>\n",
       "</div>"
      ],
      "text/plain": [
       "   track_id  length\n",
       "0      3344      63\n",
       "1       212      60\n",
       "2       286      51\n",
       "3      7239      51\n",
       "4     12615      49"
      ]
     },
     "execution_count": 22,
     "metadata": {},
     "output_type": "execute_result"
    }
   ],
   "source": [
    "track_appearances = track_df['track_id'].value_counts().reset_index()\n",
    "track_appearances.columns = ['track_id', 'length']\n",
    "track_appearances.head()"
   ]
  },
  {
   "cell_type": "code",
   "execution_count": 24,
   "id": "56d6c7f9",
   "metadata": {},
   "outputs": [
    {
     "data": {
      "text/plain": [
       "count    18923.000000\n",
       "mean         2.635259\n",
       "std          3.648437\n",
       "min          1.000000\n",
       "25%          1.000000\n",
       "50%          1.000000\n",
       "75%          3.000000\n",
       "max         63.000000\n",
       "Name: length, dtype: float64"
      ]
     },
     "execution_count": 24,
     "metadata": {},
     "output_type": "execute_result"
    }
   ],
   "source": [
    "track_appearances['length'].describe()"
   ]
  },
  {
   "cell_type": "code",
   "execution_count": 29,
   "id": "64c59817",
   "metadata": {},
   "outputs": [
    {
     "data": {
      "image/png": "[encoded data removed]",
      "text/plain": [
       "<Figure size 1000x600 with 1 Axes>"
      ]
     },
     "metadata": {},
     "output_type": "display_data"
    }
   ],
   "source": [
    "# Plotting the histogram\n",
    "plt.figure(figsize=(10, 6))\n",
    "plt.hist(track_appearances['length'], bins=50, edgecolor='black')\n",
    "plt.xlabel('Appearance Count')\n",
    "plt.ylabel('Frequency')\n",
    "plt.title('Track Appearances Histogram')\n",
    "plt.show()"
   ]
  },
  {
   "cell_type": "code",
   "execution_count": 35,
   "id": "159d4ee0",
   "metadata": {},
   "outputs": [
    {
     "name": "stdout",
     "output_type": "stream",
     "text": [
      "305\n"
     ]
    }
   ],
   "source": [
    "print(len(track_appearances[track_appearances['length'] > 15]))"
   ]
  },
  {
   "cell_type": "markdown",
   "id": "fc965cfa",
   "metadata": {},
   "source": [
    "Make categories\n",
    "1. Selected Under 10 \n",
    "2. Selected Under 20 \n",
    "3. Selected Under 30 \n",
    "4. Selected Under 40 \n",
    "5. Selected Under 50 \n",
    "6. Selected Under 60 \n",
    "7. Selected Under 65"
   ]
  },
  {
   "cell_type": "code",
   "execution_count": 45,
   "id": "4f404734",
   "metadata": {},
   "outputs": [
    {
     "data": {
      "text/plain": [
       "'\\nfor i, selected_df in enumerate(selected_dfs):\\n    print(f\"Selected DataFrame for Range {ranges[i]}:\")\\n    print(selected_df.head())\\n    print()\\n'"
      ]
     },
     "execution_count": 45,
     "metadata": {},
     "output_type": "execute_result"
    }
   ],
   "source": [
    "import numpy as np \n",
    "# Define the ranges\n",
    "ranges = [(0, 10), (10, 20), (20, 30), (30, 40), (40, 50), (50, 60), (60, 65)]\n",
    "\n",
    "# Create DataFrames for each range\n",
    "selected_dfs = []\n",
    "for start, end in ranges:\n",
    "    selected_tracks = track_appearances[(track_appearances['length'] >= start) & (track_appearances['length'] < end)]['track_id']\n",
    "    \n",
    "    # Randomly select 20 tracks (or fewer if there are less than 20 tracks)\n",
    "    selected_tracks = np.random.choice(selected_tracks, min(20, len(selected_tracks)), replace=False)\n",
    "    \n",
    "    # Extract relevant data from the original DataFrame based on the selected track IDs\n",
    "    selected_data = track_df[track_df['track_id'].isin(selected_tracks)]\n",
    "    \n",
    "    # Append the selected DataFrame to the list\n",
    "    selected_dfs.append(selected_data)\n",
    "\n",
    "# Access the DataFrames for each range (e.g., selected_dfs[0] for the first range)\n",
    "# You can also assign them to variables if needed, like selected_df_1, selected_df_2, etc.\n",
    "# Print or use these DataFrames as needed\n",
    "'''\n",
    "for i, selected_df in enumerate(selected_dfs):\n",
    "    print(f\"Selected DataFrame for Range {ranges[i]}:\")\n",
    "    print(selected_df.head())\n",
    "    print()\n",
    "'''"
   ]
  },
  {
   "cell_type": "markdown",
   "id": "047f02d1",
   "metadata": {},
   "source": [
    "Viewing spots over raw image in napari "
   ]
  },
  {
   "cell_type": "code",
   "execution_count": 47,
   "id": "984fb16b",
   "metadata": {},
   "outputs": [
    {
     "name": "stderr",
     "output_type": "stream",
     "text": [
      "1   HIToolbox                           0x00007ff820a90726 _ZN15MenuBarInstance22EnsureAutoShowObserverEv + 102\n",
      "2   HIToolbox                           0x00007ff820a902b8 _ZN15MenuBarInstance14EnableAutoShowEv + 52\n",
      "3   HIToolbox                           0x00007ff8209ffcd7 _ZN15MenuBarInstance21UpdateAggregateUIModeE21MenuBarAnimationStylehhh + 1113\n",
      "4   HIToolbox                           0x00007ff820a90173 _ZN15MenuBarInstance19SetFullScreenUIModeEjj + 175\n",
      "5   AppKit                              0x00007ff81a5614b7 -[NSApplication _setPresentationOptions:instance:flags:] + 1145\n",
      "6   AppKit                              0x00007ff81a3b6165 -[NSApplication _updateFullScreenPresentationOptionsForInstance:] + 582\n",
      "7   AppKit                              0x00007ff81ae04a40 -[_NSFullScreenSpace(PresentationInstance) activateFullScreenPresentationOptions] + 207\n",
      "8   AppKit                              0x00007ff81ac57848 -[_NSEnterFullScreenTransitionController _doSucceededToEnterFullScreen] + 721\n",
      "9   AppKit                              0x00007ff81ac58357 __65-[_NSEnterFullScreenTransitionController _performEnterFullScreen]_block_invoke + 451\n",
      "10  AppKit                              0x00007ff81a60485e __NSFullScreenDockConnectionSendEnterForSpace_block_invoke + 135\n",
      "11  libxpc.dylib                        0x00007ff816d6cfb3 _xpc_connection_reply_callout + 36\n",
      "12  libxpc.dylib                        0x00007ff816d6cf3b _xpc_connection_call_reply_async + 69\n",
      "13  libdispatch.dylib                   0x00007ff816e7faaa _dispatch_client_callout3 + 8\n",
      "14  libdispatch.dylib                   0x00007ff816e9ac6f _dispatch_mach_msg_async_reply_invoke + 387\n",
      "15  libdispatch.dylib                   0x00007ff816e8c6ee _dispatch_main_queue_drain + 749\n",
      "16  libdispatch.dylib                   0x00007ff816e8c3f3 _dispatch_main_queue_callback_4CF + 31\n",
      "17  CoreFoundation                      0x00007ff817119610 __CFRUNLOOP_IS_SERVICING_THE_MAIN_DISPATCH_QUEUE__ + 9\n",
      "18  CoreFoundation                      0x00007ff8170d9b90 __CFRunLoopRun + 2454\n",
      "19  CoreFoundation                      0x00007ff8170d8b80 CFRunLoopRunSpecific + 560\n",
      "20  HIToolbox                           0x00007ff820a1d766 RunCurrentEventLoopInMode + 292\n",
      "21  HIToolbox                           0x00007ff820a1d576 ReceiveNextEventCommon + 679\n",
      "22  HIToolbox                           0x00007ff820a1d2b3 _BlockUntilNextEventMatchingListInModeWithFilter + 70\n",
      "23  AppKit                              0x00007ff81a224f33 _DPSNextEvent + 909\n",
      "24  AppKit                              0x00007ff81a223db4 -[NSApplication(NSEvent) _nextEventMatchingEventMask:untilDate:inMode:dequeue:] + 1219\n",
      "25  AppKit                              0x00007ff81a2163f7 -[NSApplication run] + 586\n",
      "26  libqcocoa.dylib                     0x0000000113aa150a qt_plugin_instance + 148153\n",
      "1   HIToolbox                           0x00007ff820a1d0c2 _ZN15MenuBarInstance22RemoveAutoShowObserverEv + 30\n",
      "2   HIToolbox                           0x00007ff820a59638 _ZL17BroadcastInternaljPvh + 167\n",
      "3   SkyLight                            0x00007ff81bcff74d _ZN12_GLOBAL__N_123notify_datagram_handlerEj15CGSDatagramTypePvmS1_ + 1030\n",
      "4   SkyLight                            0x00007ff81c01204a _ZN21CGSDatagramReadStream26dispatchMainQueueDatagramsEv + 202\n",
      "5   SkyLight                            0x00007ff81c011f71 ___ZN21CGSDatagramReadStream15mainQueueWakeupEv_block_invoke + 18\n",
      "6   libdispatch.dylib                   0x00007ff816e7e7fb _dispatch_call_block_and_release + 12\n",
      "7   libdispatch.dylib                   0x00007ff816e7fa44 _dispatch_client_callout + 8\n",
      "8   libdispatch.dylib                   0x00007ff816e8c7b9 _dispatch_main_queue_drain + 952\n",
      "9   libdispatch.dylib                   0x00007ff816e8c3f3 _dispatch_main_queue_callback_4CF + 31\n",
      "10  CoreFoundation                      0x00007ff817119610 __CFRUNLOOP_IS_SERVICING_THE_MAIN_DISPATCH_QUEUE__ + 9\n",
      "11  CoreFoundation                      0x00007ff8170d9b90 __CFRunLoopRun + 2454\n",
      "12  CoreFoundation                      0x00007ff8170d8b80 CFRunLoopRunSpecific + 560\n",
      "13  HIToolbox                           0x00007ff820a1d766 RunCurrentEventLoopInMode + 292\n",
      "14  HIToolbox                           0x00007ff820a1d576 ReceiveNextEventCommon + 679\n",
      "15  HIToolbox                           0x00007ff820a1d2b3 _BlockUntilNextEventMatchingListInModeWithFilter + 70\n",
      "16  AppKit                              0x00007ff81a224f33 _DPSNextEvent + 909\n",
      "17  AppKit                              0x00007ff81a223db4 -[NSApplication(NSEvent) _nextEventMatchingEventMask:untilDate:inMode:dequeue:] + 1219\n",
      "18  AppKit                              0x00007ff81a2163f7 -[NSApplication run] + 586\n",
      "19  libqcocoa.dylib                     0x0000000113aa150a qt_plugin_instance + 148153\n"
     ]
    }
   ],
   "source": [
    "# Create a napari viewer\n",
    "viewer = napari.Viewer()\n",
    "\n",
    "# Replace 'your_file.tif' with the path to your 4D TIFF file\n",
    "file_path = '/Users/apple/Desktop/Akamatsu_Lab/Lap_track/self/files/Channel3_complete.tif'\n",
    "\n",
    "# Load the TIFF file using skimage\n",
    "raw_image_3 = io.imread(file_path)\n",
    "\n",
    "# Add the 4D stack to the viewer\n",
    "layer_raw_3 = viewer.add_image(raw_image_3)\n",
    "\n",
    "# Add Bounding Box\n",
    "layer_raw_3.bounding_box.visible = True"
   ]
  },
  {
   "cell_type": "code",
   "execution_count": 49,
   "id": "c47485b8",
   "metadata": {},
   "outputs": [
    {
     "name": "stderr",
     "output_type": "stream",
     "text": [
      "1   HIToolbox                           0x00007ff820a90726 _ZN15MenuBarInstance22EnsureAutoShowObserverEv + 102\n",
      "2   HIToolbox                           0x00007ff820a34852 SetMenuBarObscured + 226\n",
      "3   HIToolbox                           0x00007ff820a344ca _ZN13HIApplication15HandleActivatedEP14OpaqueEventRefhP15OpaqueWindowPtrh + 164\n",
      "4   HIToolbox                           0x00007ff820a2e996 _ZN13HIApplication13EventObserverEjP14OpaqueEventRefPv + 252\n",
      "5   HIToolbox                           0x00007ff8209f6bd2 _NotifyEventLoopObservers + 153\n",
      "6   HIToolbox                           0x00007ff820a2e3e6 AcquireEventFromQueue + 494\n",
      "7   HIToolbox                           0x00007ff820a1d3ec ReceiveNextEventCommon + 285\n",
      "8   HIToolbox                           0x00007ff820a1d2b3 _BlockUntilNextEventMatchingListInModeWithFilter + 70\n",
      "9   AppKit                              0x00007ff81a224f33 _DPSNextEvent + 909\n",
      "10  AppKit                              0x00007ff81a223db4 -[NSApplication(NSEvent) _nextEventMatchingEventMask:untilDate:inMode:dequeue:] + 1219\n",
      "11  AppKit                              0x00007ff81a2163f7 -[NSApplication run] + 586\n",
      "12  libqcocoa.dylib                     0x0000000113aa150a qt_plugin_instance + 148153\n",
      "1   HIToolbox                           0x00007ff820a1d0c2 _ZN15MenuBarInstance22RemoveAutoShowObserverEv + 30\n",
      "2   HIToolbox                           0x00007ff8209ffce3 _ZN15MenuBarInstance21UpdateAggregateUIModeE21MenuBarAnimationStylehhh + 1125\n",
      "3   HIToolbox                           0x00007ff8209ff7a4 _ZN15MenuBarInstance16ForEachMenuBarDoEU13block_pointerFvPS_E + 46\n",
      "4   HIToolbox                           0x00007ff8209ff762 SetSystemUIMode + 209\n",
      "5   AppKit                              0x00007ff81a5614c3 -[NSApplication _setPresentationOptions:instance:flags:] + 1157\n",
      "6   AppKit                              0x00007ff81a3b6185 -[NSApplication _updateFullScreenPresentationOptionsForInstance:] + 614\n",
      "7   CoreFoundation                      0x00007ff8170d03f4 __CFNOTIFICATIONCENTER_IS_CALLING_OUT_TO_AN_OBSERVER__ + 137\n",
      "8   CoreFoundation                      0x00007ff81716a43a ___CFXRegistrationPost_block_invoke + 88\n",
      "9   CoreFoundation                      0x00007ff81716a389 _CFXRegistrationPost + 536\n",
      "10  CoreFoundation                      0x00007ff8170a3919 _CFXNotificationPost + 735\n",
      "11  Foundation                          0x00007ff817eddf2c -[NSNotificationCenter postNotificationName:object:userInfo:] + 82\n",
      "12  AppKit                              0x00007ff81a561b28 spacesNotificationHandler + 119\n",
      "13  SkyLight                            0x00007ff81bcff74d _ZN12_GLOBAL__N_123notify_datagram_handlerEj15CGSDatagramTypePvmS1_ + 1030\n",
      "14  SkyLight                            0x00007ff81c01204a _ZN21CGSDatagramReadStream26dispatchMainQueueDatagramsEv + 202\n",
      "15  SkyLight                            0x00007ff81c011f71 ___ZN21CGSDatagramReadStream15mainQueueWakeupEv_block_invoke + 18\n",
      "16  libdispatch.dylib                   0x00007ff816e7e7fb _dispatch_call_block_and_release + 12\n",
      "17  libdispatch.dylib                   0x00007ff816e7fa44 _dispatch_client_callout + 8\n",
      "18  libdispatch.dylib                   0x00007ff816e8c7b9 _dispatch_main_queue_drain + 952\n",
      "19  libdispatch.dylib                   0x00007ff816e8c3f3 _dispatch_main_queue_callback_4CF + 31\n",
      "20  CoreFoundation                      0x00007ff817119610 __CFRUNLOOP_IS_SERVICING_THE_MAIN_DISPATCH_QUEUE__ + 9\n",
      "21  CoreFoundation                      0x00007ff8170d9b90 __CFRunLoopRun + 2454\n",
      "22  CoreFoundation                      0x00007ff8170d8b80 CFRunLoopRunSpecific + 560\n",
      "23  HIToolbox                           0x00007ff820a1d766 RunCurrentEventLoopInMode + 292\n",
      "24  HIToolbox                           0x00007ff820a1d576 ReceiveNextEventCommon + 679\n",
      "25  HIToolbox                           0x00007ff820a1d2b3 _BlockUntilNextEventMatchingListInModeWithFilter + 70\n",
      "26  AppKit                              0x00007ff81a224f33 _DPSNextEvent + 909\n",
      "27  AppKit                              0x00007ff81a223db4 -[NSApplication(NSEvent) _nextEventMatchingEventMask:untilDate:inMode:dequeue:] + 1219\n",
      "28  AppKit                              0x00007ff81a2163f7 -[NSApplication run] + 586\n",
      "29  libqcocoa.dylib                     0x0000000113aa150a qt_plugin_instance + 148153\n",
      "1   HIToolbox                           0x00007ff820a90726 _ZN15MenuBarInstance22EnsureAutoShowObserverEv + 102\n",
      "2   HIToolbox                           0x00007ff820a59638 _ZL17BroadcastInternaljPvh + 167\n",
      "3   SkyLight                            0x00007ff81bcff74d _ZN12_GLOBAL__N_123notify_datagram_handlerEj15CGSDatagramTypePvmS1_ + 1030\n",
      "4   SkyLight                            0x00007ff81c01204a _ZN21CGSDatagramReadStream26dispatchMainQueueDatagramsEv + 202\n",
      "5   SkyLight                            0x00007ff81c011f71 ___ZN21CGSDatagramReadStream15mainQueueWakeupEv_block_invoke + 18\n",
      "6   libdispatch.dylib                   0x00007ff816e7e7fb _dispatch_call_block_and_release + 12\n",
      "7   libdispatch.dylib                   0x00007ff816e7fa44 _dispatch_client_callout + 8\n",
      "8   libdispatch.dylib                   0x00007ff816e8c7b9 _dispatch_main_queue_drain + 952\n",
      "9   libdispatch.dylib                   0x00007ff816e8c3f3 _dispatch_main_queue_callback_4CF + 31\n",
      "10  CoreFoundation                      0x00007ff817119610 __CFRUNLOOP_IS_SERVICING_THE_MAIN_DISPATCH_QUEUE__ + 9\n",
      "11  CoreFoundation                      0x00007ff8170d9b90 __CFRunLoopRun + 2454\n",
      "12  CoreFoundation                      0x00007ff8170d8b80 CFRunLoopRunSpecific + 560\n",
      "13  HIToolbox                           0x00007ff820a1d766 RunCurrentEventLoopInMode + 292\n",
      "14  HIToolbox                           0x00007ff820a1d576 ReceiveNextEventCommon + 679\n",
      "15  HIToolbox                           0x00007ff820a1d2b3 _BlockUntilNextEventMatchingListInModeWithFilter + 70\n",
      "16  AppKit                              0x00007ff81a224f33 _DPSNextEvent + 909\n",
      "17  AppKit                              0x00007ff81a223db4 -[NSApplication(NSEvent) _nextEventMatchingEventMask:untilDate:inMode:dequeue:] + 1219\n",
      "18  AppKit                              0x00007ff81a2163f7 -[NSApplication run] + 586\n",
      "19  libqcocoa.dylib                     0x0000000113aa150a qt_plugin_instance + 148153\n",
      "1   HIToolbox                           0x00007ff820a1d0c2 _ZN15MenuBarInstance22RemoveAutoShowObserverEv + 30\n",
      "2   HIToolbox                           0x00007ff8209ffce3 _ZN15MenuBarInstance21UpdateAggregateUIModeE21MenuBarAnimationStylehhh + 1125\n",
      "3   HIToolbox                           0x00007ff8209ff7a4 _ZN15MenuBarInstance16ForEachMenuBarDoEU13block_pointerFvPS_E + 46\n",
      "4   HIToolbox                           0x00007ff8209ff762 SetSystemUIMode + 209\n",
      "5   AppKit                              0x00007ff81a5614c3 -[NSApplication _setPresentationOptions:instance:flags:] + 1157\n",
      "6   AppKit                              0x00007ff81a3b6185 -[NSApplication _updateFullScreenPresentationOptionsForInstance:] + 614\n",
      "7   CoreFoundation                      0x00007ff8170d03f4 __CFNOTIFICATIONCENTER_IS_CALLING_OUT_TO_AN_OBSERVER__ + 137\n",
      "8   CoreFoundation                      0x00007ff81716a43a ___CFXRegistrationPost_block_invoke + 88\n",
      "9   CoreFoundation                      0x00007ff81716a389 _CFXRegistrationPost + 536\n",
      "10  CoreFoundation                      0x00007ff8170a3919 _CFXNotificationPost + 735\n",
      "11  Foundation                          0x00007ff817eddf2c -[NSNotificationCenter postNotificationName:object:userInfo:] + 82\n",
      "12  AppKit                              0x00007ff81a561b28 spacesNotificationHandler + 119\n",
      "13  SkyLight                            0x00007ff81bcff74d _ZN12_GLOBAL__N_123notify_datagram_handlerEj15CGSDatagramTypePvmS1_ + 1030\n",
      "14  SkyLight                            0x00007ff81c01204a _ZN21CGSDatagramReadStream26dispatchMainQueueDatagramsEv + 202\n",
      "15  SkyLight                            0x00007ff81c011f71 ___ZN21CGSDatagramReadStream15mainQueueWakeupEv_block_invoke + 18\n",
      "16  libdispatch.dylib                   0x00007ff816e7e7fb _dispatch_call_block_and_release + 12\n",
      "17  libdispatch.dylib                   0x00007ff816e7fa44 _dispatch_client_callout + 8\n",
      "18  libdispatch.dylib                   0x00007ff816e8c7b9 _dispatch_main_queue_drain + 952\n",
      "19  libdispatch.dylib                   0x00007ff816e8c3f3 _dispatch_main_queue_callback_4CF + 31\n",
      "20  CoreFoundation                      0x00007ff817119610 __CFRUNLOOP_IS_SERVICING_THE_MAIN_DISPATCH_QUEUE__ + 9\n",
      "21  CoreFoundation                      0x00007ff8170d9b90 __CFRunLoopRun + 2454\n",
      "22  CoreFoundation                      0x00007ff8170d8b80 CFRunLoopRunSpecific + 560\n",
      "23  HIToolbox                           0x00007ff820a1d766 RunCurrentEventLoopInMode + 292\n",
      "24  HIToolbox                           0x00007ff820a1d576 ReceiveNextEventCommon + 679\n",
      "25  HIToolbox                           0x00007ff820a1d2b3 _BlockUntilNextEventMatchingListInModeWithFilter + 70\n",
      "26  AppKit                              0x00007ff81a224f33 _DPSNextEvent + 909\n",
      "27  AppKit                              0x00007ff81a223db4 -[NSApplication(NSEvent) _nextEventMatchingEventMask:untilDate:inMode:dequeue:] + 1219\n",
      "28  AppKit                              0x00007ff81a2163f7 -[NSApplication run] + 586\n",
      "29  libqcocoa.dylib                     0x0000000113aa150a qt_plugin_instance + 148153\n"
     ]
    }
   ],
   "source": [
    "for i in range(len(selected_dfs)):\n",
    "    filtered_df = selected_dfs[i]\n",
    "    points_layer = viewer.add_points(filtered_df[[\"frame\", \"mu_z\", \"mu_y\", \"mu_x\"]], size=3, \n",
    "                                    name = f'points_range_{i}', face_color = 'yellow', symbol = 'ring')\n",
    "    viewer.add_tracks(filtered_df[[\"track_id\", \"frame\", \"mu_z\", \"mu_y\", \"mu_x\"]], name = f'track_range_{i}')"
   ]
  },
  {
   "cell_type": "markdown",
   "id": "f7d5aa81",
   "metadata": {},
   "source": [
    "Plotting amplitude over time for a specific track"
   ]
  },
  {
   "cell_type": "code",
   "execution_count": 77,
   "id": "f642f3b6",
   "metadata": {},
   "outputs": [
    {
     "data": {
      "image/png": "[encoded data removed]",
      "text/plain": [
       "<Figure size 640x480 with 1 Axes>"
      ]
     },
     "metadata": {},
     "output_type": "display_data"
    },
    {
     "name": "stderr",
     "output_type": "stream",
     "text": [
      "1   HIToolbox                           0x00007ff820a90726 _ZN15MenuBarInstance22EnsureAutoShowObserverEv + 102\n",
      "2   HIToolbox                           0x00007ff820a59638 _ZL17BroadcastInternaljPvh + 167\n",
      "3   SkyLight                            0x00007ff81bcff74d _ZN12_GLOBAL__N_123notify_datagram_handlerEj15CGSDatagramTypePvmS1_ + 1030\n",
      "4   SkyLight                            0x00007ff81c01204a _ZN21CGSDatagramReadStream26dispatchMainQueueDatagramsEv + 202\n",
      "5   SkyLight                            0x00007ff81c011f71 ___ZN21CGSDatagramReadStream15mainQueueWakeupEv_block_invoke + 18\n",
      "6   libdispatch.dylib                   0x00007ff816e7e7fb _dispatch_call_block_and_release + 12\n",
      "7   libdispatch.dylib                   0x00007ff816e7fa44 _dispatch_client_callout + 8\n",
      "8   libdispatch.dylib                   0x00007ff816e8c7b9 _dispatch_main_queue_drain + 952\n",
      "9   libdispatch.dylib                   0x00007ff816e8c3f3 _dispatch_main_queue_callback_4CF + 31\n",
      "10  CoreFoundation                      0x00007ff817119610 __CFRUNLOOP_IS_SERVICING_THE_MAIN_DISPATCH_QUEUE__ + 9\n",
      "11  CoreFoundation                      0x00007ff8170d9b90 __CFRunLoopRun + 2454\n",
      "12  CoreFoundation                      0x00007ff8170d8b80 CFRunLoopRunSpecific + 560\n",
      "13  HIToolbox                           0x00007ff820a1d766 RunCurrentEventLoopInMode + 292\n",
      "14  HIToolbox                           0x00007ff820a1d576 ReceiveNextEventCommon + 679\n",
      "15  HIToolbox                           0x00007ff820a1d2b3 _BlockUntilNextEventMatchingListInModeWithFilter + 70\n",
      "16  AppKit                              0x00007ff81a224f33 _DPSNextEvent + 909\n",
      "17  AppKit                              0x00007ff81a223db4 -[NSApplication(NSEvent) _nextEventMatchingEventMask:untilDate:inMode:dequeue:] + 1219\n",
      "18  AppKit                              0x00007ff81a2163f7 -[NSApplication run] + 586\n",
      "19  libqcocoa.dylib                     0x0000000113aa150a qt_plugin_instance + 148153\n",
      "1   HIToolbox                           0x00007ff820a1d0c2 _ZN15MenuBarInstance22RemoveAutoShowObserverEv + 30\n",
      "2   HIToolbox                           0x00007ff8209ffce3 _ZN15MenuBarInstance21UpdateAggregateUIModeE21MenuBarAnimationStylehhh + 1125\n",
      "3   HIToolbox                           0x00007ff8209ff7a4 _ZN15MenuBarInstance16ForEachMenuBarDoEU13block_pointerFvPS_E + 46\n",
      "4   HIToolbox                           0x00007ff8209ff762 SetSystemUIMode + 209\n",
      "5   AppKit                              0x00007ff81a5614c3 -[NSApplication _setPresentationOptions:instance:flags:] + 1157\n",
      "6   AppKit                              0x00007ff81a3b6185 -[NSApplication _updateFullScreenPresentationOptionsForInstance:] + 614\n",
      "7   CoreFoundation                      0x00007ff8170d03f4 __CFNOTIFICATIONCENTER_IS_CALLING_OUT_TO_AN_OBSERVER__ + 137\n",
      "8   CoreFoundation                      0x00007ff81716a43a ___CFXRegistrationPost_block_invoke + 88\n",
      "9   CoreFoundation                      0x00007ff81716a389 _CFXRegistrationPost + 536\n",
      "10  CoreFoundation                      0x00007ff8170a3919 _CFXNotificationPost + 735\n",
      "11  Foundation                          0x00007ff817eddf2c -[NSNotificationCenter postNotificationName:object:userInfo:] + 82\n",
      "12  AppKit                              0x00007ff81a561b28 spacesNotificationHandler + 119\n",
      "13  SkyLight                            0x00007ff81bcff74d _ZN12_GLOBAL__N_123notify_datagram_handlerEj15CGSDatagramTypePvmS1_ + 1030\n",
      "14  SkyLight                            0x00007ff81c01204a _ZN21CGSDatagramReadStream26dispatchMainQueueDatagramsEv + 202\n",
      "15  SkyLight                            0x00007ff81c011f71 ___ZN21CGSDatagramReadStream15mainQueueWakeupEv_block_invoke + 18\n",
      "16  libdispatch.dylib                   0x00007ff816e7e7fb _dispatch_call_block_and_release + 12\n",
      "17  libdispatch.dylib                   0x00007ff816e7fa44 _dispatch_client_callout + 8\n",
      "18  libdispatch.dylib                   0x00007ff816e8c7b9 _dispatch_main_queue_drain + 952\n",
      "19  libdispatch.dylib                   0x00007ff816e8c3f3 _dispatch_main_queue_callback_4CF + 31\n",
      "20  CoreFoundation                      0x00007ff817119610 __CFRUNLOOP_IS_SERVICING_THE_MAIN_DISPATCH_QUEUE__ + 9\n",
      "21  CoreFoundation                      0x00007ff8170d9b90 __CFRunLoopRun + 2454\n",
      "22  CoreFoundation                      0x00007ff8170d8b80 CFRunLoopRunSpecific + 560\n",
      "23  HIToolbox                           0x00007ff820a1d766 RunCurrentEventLoopInMode + 292\n",
      "24  HIToolbox                           0x00007ff820a1d576 ReceiveNextEventCommon + 679\n",
      "25  HIToolbox                           0x00007ff820a1d2b3 _BlockUntilNextEventMatchingListInModeWithFilter + 70\n",
      "26  AppKit                              0x00007ff81a224f33 _DPSNextEvent + 909\n",
      "27  AppKit                              0x00007ff81a223db4 -[NSApplication(NSEvent) _nextEventMatchingEventMask:untilDate:inMode:dequeue:] + 1219\n",
      "28  AppKit                              0x00007ff81a2163f7 -[NSApplication run] + 586\n",
      "29  libqcocoa.dylib                     0x0000000113aa150a qt_plugin_instance + 148153\n"
     ]
    }
   ],
   "source": [
    "sample_df = track_df[track_df['track_id'] == 14968]\n",
    "plt.plot(sample_df['frame'], sample_df['amplitude'], label=14968)\n",
    "\n",
    "plt.xlabel('Frame')\n",
    "plt.ylabel('Amplitude')\n",
    "plt.title('Amplitude for Selected Track IDs')\n",
    "plt.legend()\n",
    "plt.show()"
   ]
  }
 ],
 "metadata": {
  "kernelspec": {
   "display_name": "Python 3 (ipykernel)",
   "language": "python",
   "name": "python3"
  },
  "language_info": {
   "codemirror_mode": {
    "name": "ipython",
    "version": 3
   },
   "file_extension": ".py",
   "mimetype": "text/x-python",
   "name": "python",
   "nbconvert_exporter": "python",
   "pygments_lexer": "ipython3",
   "version": "3.10.13"
  }
 },
 "nbformat": 4,
 "nbformat_minor": 5
}
