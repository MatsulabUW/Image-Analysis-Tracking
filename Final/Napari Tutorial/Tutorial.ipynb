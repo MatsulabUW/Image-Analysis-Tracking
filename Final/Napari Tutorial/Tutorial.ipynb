{
 "cells": [
  {
   "cell_type": "markdown",
   "id": "1a828870-457d-4c16-b1bc-b3b8a0ab72b7",
   "metadata": {},
   "source": [
    "# NAPARI TUTORIAL \n",
    "The purpose of this notebook is to provide a brief overview of the relevant syntax for using napari in the context of this project. Methods mentioned are as follows: \n",
    "1. Adding an image layer\n",
    "2. Adding a points layer\n",
    "3. Adding a tracks layer\n",
    "4. Taking screenshots of a Napari\n",
    "\n",
    "Moreover, a few additional parameters for each layer have been discussed and a link to finding more details of the parameter has been mentioned. "
   ]
  },
  {
   "cell_type": "code",
   "execution_count": 1,
   "id": "fe6c6960-49ca-4bc9-89f7-5bf81a6d0a9a",
   "metadata": {},
   "outputs": [],
   "source": [
    "from IPython.display import display\n",
    "import napari \n",
    "from skimage import io\n",
    "import pandas as pd \n",
    "import numpy as np \n",
    "import matplotlib.pyplot as plt\n",
    "from dask_image.imread import imread"
   ]
  },
  {
   "cell_type": "code",
   "execution_count": null,
   "id": "377da908-aaa6-4915-acb8-64ae9d2251c6",
   "metadata": {},
   "outputs": [],
   "source": [
    "path = '/Users/apple/Desktop/Akamatsu_Lab/Lap_track/Final/data/spots_c3_all.pkl'\n",
    "spots_df = pd.read_pickle(path)"
   ]
  },
  {
   "cell_type": "markdown",
   "id": "9b94cf32-1cad-461a-8ca4-ceff63874b78",
   "metadata": {},
   "source": [
    "### Tutorial Dataset "
   ]
  },
  {
   "cell_type": "code",
   "execution_count": null,
   "id": "e5aefb8d-22b4-433e-8a14-cb2a2f9845a1",
   "metadata": {},
   "outputs": [],
   "source": [
    "high_amplitude_df = spots_df[spots_df['amplitude'] > 350]\n",
    "high_amplitude_df.head()"
   ]
  },
  {
   "cell_type": "code",
   "execution_count": null,
   "id": "832a18e7-5c33-4633-9e96-79443dc9d382",
   "metadata": {},
   "outputs": [],
   "source": [
    "path = '/Users/apple/Desktop/Akamatsu_Lab/Lap_track/Final/data/track_df_updated.pkl'\n",
    "track_df = pd.read_pickle(path)"
   ]
  },
  {
   "cell_type": "markdown",
   "id": "229e69b2-c460-4b57-8d80-4859cecad8e2",
   "metadata": {},
   "source": [
    "## Opening a Napari Viewer and adding an image layer to it\n",
    "For more details: https://napari.org/stable/tutorials/fundamentals/getting_started.html"
   ]
  },
  {
   "cell_type": "code",
   "execution_count": null,
   "id": "31bef131-2681-4504-8db2-114237f39fd2",
   "metadata": {},
   "outputs": [],
   "source": [
    "# Create a napari viewer\n",
    "viewer = napari.Viewer()\n",
    "\n",
    "# Replace 'your_file.tif' with the path to your 4D TIFF file\n",
    "file_path = '/Users/apple/Desktop/Akamatsu_Lab/Lap_track/self/files/Channel3_complete.tif'\n",
    "\n",
    "# Load the TIFF file using skimage\n",
    "raw_image_3 = io.imread(file_path)\n",
    "\n",
    "# Add the 4D stack to the viewer\n",
    "layer_raw = viewer.add_image(raw_image_3)\n",
    "\n",
    "# Add Bounding Box\n",
    "layer_raw.bounding_box.visible = True"
   ]
  },
  {
   "cell_type": "markdown",
   "id": "eef85dee-ebe8-4072-adde-ed29cce1813e",
   "metadata": {},
   "source": [
    "## Adding Points \n",
    "For more details: https://napari.org/stable/howtos/layers/points.html"
   ]
  },
  {
   "cell_type": "code",
   "execution_count": null,
   "id": "cbd03dd0-4295-4a20-b227-4d563986d905",
   "metadata": {},
   "outputs": [],
   "source": [
    "points_layer = viewer.add_points(high_amplitude_df[[\"frame\", \"mu_z\", \"mu_y\", \"mu_x\"]], size=3, \n",
    "                                name = 'High Amplitude Points', face_color = 'red', symbol = 'ring')"
   ]
  },
  {
   "cell_type": "markdown",
   "id": "31dbba78-b8d6-4430-b32e-196c8f495a99",
   "metadata": {},
   "source": [
    "### Accessing Points details from Napari"
   ]
  },
  {
   "cell_type": "markdown",
   "id": "dc65a1c5-254e-4f2a-8957-e6649aa89bdf",
   "metadata": {},
   "source": [
    "One way of accessing points data from napari is finding the point on napari and then accessing its coords by \n",
    "getting that specific row from numpy array, for example to access point 1014 do the following. \n",
    "coords = points_layer.data\n",
    "coords[1014]"
   ]
  },
  {
   "cell_type": "code",
   "execution_count": null,
   "id": "a6ff95e6-ea6f-4c5e-86d7-26faca20c4e5",
   "metadata": {},
   "outputs": [],
   "source": [
    "coords = points_layer.data\n",
    "print(coords[1014])"
   ]
  },
  {
   "cell_type": "markdown",
   "id": "3556c54a-9146-4d3a-8a24-ed8bda5a249b",
   "metadata": {},
   "source": [
    "## Adding Tracks \n",
    "For more details: https://napari.org/stable/howtos/layers/tracks.html"
   ]
  },
  {
   "cell_type": "code",
   "execution_count": null,
   "id": "b8992a50-9c91-40a3-ae8c-96fb7d3375e2",
   "metadata": {},
   "outputs": [],
   "source": [
    "tracks_layer = viewer.add_tracks(track_df[[\"track_id\", \"frame\", \"mu_z\", \"mu_y\", \"mu_x\"]], name = 'all_tracks')"
   ]
  },
  {
   "cell_type": "markdown",
   "id": "0a5e6fef-7758-4256-9e6e-86591eb7528b",
   "metadata": {},
   "source": [
    "## Taking a screenshot in napari \n",
    "For more details: https://napari.org/stable/gallery/to_screenshot.html"
   ]
  },
  {
   "cell_type": "code",
   "execution_count": null,
   "id": "5328fd3a-79ff-405a-917f-558372dccc2d",
   "metadata": {},
   "outputs": [],
   "source": [
    "viewer.dims.current_step = (0., 21., 144., 113.)\n",
    "plt.imshow(viewer.screenshot())\n",
    "plt.xticks([])\n",
    "plt.yticks([])"
   ]
  },
  {
   "cell_type": "markdown",
   "id": "bd22004c-09ad-47ef-a0c6-2d8095a65954",
   "metadata": {},
   "source": [
    "# FULL MOVIE VISUALISATION"
   ]
  },
  {
   "cell_type": "code",
   "execution_count": 2,
   "id": "62acf788-43c7-4177-889c-0fcb4b26e35c",
   "metadata": {},
   "outputs": [
    {
     "data": {
      "text/plain": [
       "Viewer(camera=Camera(center=(0.0, 1025.5, 169.5), zoom=0.24382716049382716, angles=(0.0, 0.0, 90.0), perspective=0.0, mouse_pan=True, mouse_zoom=True), cursor=Cursor(position=(7539.0, 1.0, 0.0), scaled=True, size=1, style=<CursorStyle.STANDARD: 'standard'>), dims=Dims(ndim=3, ndisplay=2, last_used=0, range=((0.0, 15080.0, 1.0), (0.0, 2052.0, 1.0), (0.0, 340.0, 1.0)), current_step=(7539, 1025, 169), order=(0, 1, 2), axis_labels=('0', '1', '2')), grid=GridCanvas(stride=1, shape=(-1, -1), enabled=False), layers=[<Image layer 'stack' at 0x7fb1b85f3fa0>], help='use <2> for transform', status='Ready', tooltip=Tooltip(visible=False, text=''), theme='dark', title='napari', mouse_over_canvas=False, mouse_move_callbacks=[], mouse_drag_callbacks=[], mouse_double_click_callbacks=[], mouse_wheel_callbacks=[<function dims_scroll at 0x7fb259482710>], _persisted_mouse_event={}, _mouse_drag_gen={}, _mouse_wheel_gen={}, keymap={})"
      ]
     },
     "execution_count": 2,
     "metadata": {},
     "output_type": "execute_result"
    }
   ],
   "source": [
    "# Create a napari viewer\n",
    "viewer = napari.Viewer()\n",
    "\n",
    "# Replace 'your_file.tif' with the path to your 4D TIFF file\n",
    "file_path = '/Users/apple/Desktop/Akamatsu_Lab/Data/Channel3_full.ome.tiff'\n",
    "stack = imread(file_path)\n",
    "\n",
    "napari.view_image(stack, contrast_limits=[0,2000], multiscale=False)\n",
    "\n",
    "# Add the 4D stack to the viewer\n",
    "#layer_raw = viewer.add_image(raw_image_3)\n",
    "\n",
    "# Add Bounding Box\n",
    "#layer_raw.bounding_box.visible = True"
   ]
  },
  {
   "cell_type": "code",
   "execution_count": null,
   "id": "5e2e1d21-fd5d-4174-82bc-dfa460a521eb",
   "metadata": {},
   "outputs": [],
   "source": []
  }
 ],
 "metadata": {
  "kernelspec": {
   "display_name": "Python 3 (ipykernel)",
   "language": "python",
   "name": "python3"
  },
  "language_info": {
   "codemirror_mode": {
    "name": "ipython",
    "version": 3
   },
   "file_extension": ".py",
   "mimetype": "text/x-python",
   "name": "python",
   "nbconvert_exporter": "python",
   "pygments_lexer": "ipython3",
   "version": "3.10.13"
  }
 },
 "nbformat": 4,
 "nbformat_minor": 5
}
