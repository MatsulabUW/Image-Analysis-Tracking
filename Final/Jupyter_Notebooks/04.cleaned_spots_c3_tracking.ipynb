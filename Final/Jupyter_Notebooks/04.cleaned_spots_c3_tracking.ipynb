{
 "cells": [
  {
   "cell_type": "markdown",
   "id": "c5c7afc9",
   "metadata": {},
   "source": [
    "# Main Focus of the Notebook: Running Laptrack on detections\n",
    "\n",
    "### This notebook takes as input the dataframe which contains filtered detected spots and runs laptrack module on it. \n",
    "### A new dataframe containing tree id and track id is returned. For us main variable for tracks is track id. "
   ]
  },
  {
   "cell_type": "code",
   "execution_count": 1,
   "id": "6a96b688",
   "metadata": {},
   "outputs": [],
   "source": [
    "from os import path\n",
    "import pandas as pd\n",
    "from IPython.display import display\n",
    "from matplotlib import pyplot as plt\n",
    "from laptrack import LapTrack, ParallelBackend\n",
    "import napari\n",
    "from skimage import io\n",
    "import time \n"
   ]
  },
  {
   "cell_type": "markdown",
   "id": "f97d2870",
   "metadata": {},
   "source": [
    "Import the dataframe of filtered spots "
   ]
  },
  {
   "cell_type": "code",
   "execution_count": 2,
   "id": "8a796435",
   "metadata": {},
   "outputs": [],
   "source": [
    "path = '/Users/apple/Desktop/Akamatsu_Lab/Data/full_movie_output/cleaned_spots_intensities_c3_all.pkl'\n",
    "cleaned_spots_df = pd.read_pickle(path)"
   ]
  },
  {
   "cell_type": "code",
   "execution_count": 3,
   "id": "1a146a6e",
   "metadata": {},
   "outputs": [],
   "source": [
    "max_distance = 3\n",
    "lt = LapTrack(\n",
    "    track_dist_metric=\"sqeuclidean\",  # The similarity metric for particles. See `scipy.spatial.distance.cdist` for allowed values.\n",
    "    splitting_dist_metric=\"sqeuclidean\",\n",
    "    merging_dist_metric=\"sqeuclidean\",\n",
    "    # the square of the cutoff distance for the \"sqeuclidean\" metric\n",
    "    track_cost_cutoff=max_distance**2,\n",
    "    gap_closing_cost_cutoff = (2*max_distance)**2,\n",
    "    gap_closing_max_frame_count = 1,\n",
    "    splitting_cost_cutoff=False,  # or False for non-splitting case\n",
    "    merging_cost_cutoff=False,  # or False for non-merging case\n",
    ")"
   ]
  },
  {
   "cell_type": "code",
   "execution_count": 4,
   "id": "d8cce581",
   "metadata": {},
   "outputs": [
    {
     "name": "stdout",
     "output_type": "stream",
     "text": [
      "Total execution time: 5888.8570721149445 seconds\n"
     ]
    }
   ],
   "source": [
    "\n",
    "start_time = time.time()\n",
    "\n",
    "track_df, split_df, merge_df = lt.predict_dataframe(\n",
    "    cleaned_spots_df,\n",
    "    coordinate_cols=[\n",
    "        \"mu_x\",\n",
    "        \"mu_y\",\n",
    "        \"mu_z\"\n",
    "    ],  # the column names for the coordinates\n",
    "    frame_col=\"frame\",  # the column name for the frame (default \"frame\")\n",
    "    only_coordinate_cols=False,  # if False, returned track_df includes columns not in coordinate_cols.\n",
    "    # False will be the default in the major release.\n",
    ")\n",
    "\n",
    "end_time = time.time()\n",
    "\n",
    "execution_time = end_time - start_time\n",
    "print(f\"Total execution time: {execution_time} seconds\")\n",
    "track_df = track_df.reset_index()"
   ]
  },
  {
   "cell_type": "code",
   "execution_count": 5,
   "id": "dca1a89d",
   "metadata": {},
   "outputs": [],
   "source": [
    "c3_tracking_pickle_file = \"/Users/apple/Desktop/Akamatsu_Lab/Data/full_movie_output/track_df_c3_cleaned.pkl\"\n",
    "\n",
    "# Save the DataFrame to a pickle file\n",
    "track_df.to_pickle(c3_tracking_pickle_file)"
   ]
  },
  {
   "cell_type": "code",
   "execution_count": 6,
   "id": "f0618bc1",
   "metadata": {},
   "outputs": [
    {
     "data": {
      "text/plain": [
       "198329"
      ]
     },
     "execution_count": 6,
     "metadata": {},
     "output_type": "execute_result"
    }
   ],
   "source": [
    "track_df['track_id'].nunique()"
   ]
  },
  {
   "cell_type": "code",
   "execution_count": 7,
   "id": "a826c143",
   "metadata": {},
   "outputs": [
    {
     "data": {
      "text/html": [
       "<div>\n",
       "<style scoped>\n",
       "    .dataframe tbody tr th:only-of-type {\n",
       "        vertical-align: middle;\n",
       "    }\n",
       "\n",
       "    .dataframe tbody tr th {\n",
       "        vertical-align: top;\n",
       "    }\n",
       "\n",
       "    .dataframe thead th {\n",
       "        text-align: right;\n",
       "    }\n",
       "</style>\n",
       "<table border=\"1\" class=\"dataframe\">\n",
       "  <thead>\n",
       "    <tr style=\"text-align: right;\">\n",
       "      <th></th>\n",
       "      <th>track_id</th>\n",
       "      <th>length</th>\n",
       "    </tr>\n",
       "  </thead>\n",
       "  <tbody>\n",
       "    <tr>\n",
       "      <th>0</th>\n",
       "      <td>52852</td>\n",
       "      <td>89</td>\n",
       "    </tr>\n",
       "    <tr>\n",
       "      <th>1</th>\n",
       "      <td>89838</td>\n",
       "      <td>78</td>\n",
       "    </tr>\n",
       "    <tr>\n",
       "      <th>2</th>\n",
       "      <td>33167</td>\n",
       "      <td>78</td>\n",
       "    </tr>\n",
       "    <tr>\n",
       "      <th>3</th>\n",
       "      <td>81356</td>\n",
       "      <td>74</td>\n",
       "    </tr>\n",
       "    <tr>\n",
       "      <th>4</th>\n",
       "      <td>74069</td>\n",
       "      <td>66</td>\n",
       "    </tr>\n",
       "  </tbody>\n",
       "</table>\n",
       "</div>"
      ],
      "text/plain": [
       "   track_id  length\n",
       "0     52852      89\n",
       "1     89838      78\n",
       "2     33167      78\n",
       "3     81356      74\n",
       "4     74069      66"
      ]
     },
     "execution_count": 7,
     "metadata": {},
     "output_type": "execute_result"
    }
   ],
   "source": [
    "track_appearances = track_df['track_id'].value_counts().reset_index()\n",
    "track_appearances.columns = ['track_id', 'length']\n",
    "track_appearances.head()"
   ]
  },
  {
   "cell_type": "code",
   "execution_count": 8,
   "id": "56d6c7f9",
   "metadata": {},
   "outputs": [
    {
     "data": {
      "text/plain": [
       "count    198329.000000\n",
       "mean          2.601410\n",
       "std           3.541177\n",
       "min           1.000000\n",
       "25%           1.000000\n",
       "50%           1.000000\n",
       "75%           3.000000\n",
       "max          89.000000\n",
       "Name: length, dtype: float64"
      ]
     },
     "execution_count": 8,
     "metadata": {},
     "output_type": "execute_result"
    }
   ],
   "source": [
    "track_appearances['length'].describe()"
   ]
  },
  {
   "cell_type": "code",
   "execution_count": 9,
   "id": "0458fa6b-4531-486b-bfa8-54645de8eda7",
   "metadata": {},
   "outputs": [
    {
     "data": {
      "text/plain": [
       "length\n",
       "1     113217\n",
       "2      32736\n",
       "3      16072\n",
       "4       9497\n",
       "5       6319\n",
       "       ...  \n",
       "63         1\n",
       "64         1\n",
       "66         1\n",
       "74         1\n",
       "89         1\n",
       "Name: count, Length: 64, dtype: int64"
      ]
     },
     "execution_count": 9,
     "metadata": {},
     "output_type": "execute_result"
    }
   ],
   "source": [
    "track_appearances['length'].value_counts()"
   ]
  },
  {
   "cell_type": "code",
   "execution_count": 12,
   "id": "940cdc9d-1a60-45a2-adeb-573952d774c7",
   "metadata": {},
   "outputs": [
    {
     "data": {
      "text/plain": [
       "array([[<Axes: title={'center': 'length'}>]], dtype=object)"
      ]
     },
     "execution_count": 12,
     "metadata": {},
     "output_type": "execute_result"
    },
    {
     "data": {
      "image/png": "[encoded data removed]",
      "text/plain": [
       "<Figure size 640x480 with 1 Axes>"
      ]
     },
     "metadata": {},
     "output_type": "display_data"
    }
   ],
   "source": [
    "track_appearances.hist(column='length', bins = 80)"
   ]
  },
  {
   "cell_type": "code",
   "execution_count": 17,
   "id": "a5f9963d-54e8-4968-9984-b52fb202e571",
   "metadata": {},
   "outputs": [],
   "source": [
    "filtered_tracks = track_appearances[(track_appearances['length'] >= 4) & (track_appearances['length'] <= 10)]"
   ]
  },
  {
   "cell_type": "code",
   "execution_count": 18,
   "id": "efa9d244-0582-4340-a328-ccc654d6400a",
   "metadata": {},
   "outputs": [
    {
     "data": {
      "text/html": [
       "<div>\n",
       "<style scoped>\n",
       "    .dataframe tbody tr th:only-of-type {\n",
       "        vertical-align: middle;\n",
       "    }\n",
       "\n",
       "    .dataframe tbody tr th {\n",
       "        vertical-align: top;\n",
       "    }\n",
       "\n",
       "    .dataframe thead th {\n",
       "        text-align: right;\n",
       "    }\n",
       "</style>\n",
       "<table border=\"1\" class=\"dataframe\">\n",
       "  <thead>\n",
       "    <tr style=\"text-align: right;\">\n",
       "      <th></th>\n",
       "      <th>track_id</th>\n",
       "      <th>length</th>\n",
       "    </tr>\n",
       "  </thead>\n",
       "  <tbody>\n",
       "    <tr>\n",
       "      <th>7169</th>\n",
       "      <td>49651</td>\n",
       "      <td>10</td>\n",
       "    </tr>\n",
       "    <tr>\n",
       "      <th>7170</th>\n",
       "      <td>104399</td>\n",
       "      <td>10</td>\n",
       "    </tr>\n",
       "    <tr>\n",
       "      <th>7171</th>\n",
       "      <td>92624</td>\n",
       "      <td>10</td>\n",
       "    </tr>\n",
       "    <tr>\n",
       "      <th>7172</th>\n",
       "      <td>31963</td>\n",
       "      <td>10</td>\n",
       "    </tr>\n",
       "    <tr>\n",
       "      <th>7173</th>\n",
       "      <td>170488</td>\n",
       "      <td>10</td>\n",
       "    </tr>\n",
       "    <tr>\n",
       "      <th>...</th>\n",
       "      <td>...</td>\n",
       "      <td>...</td>\n",
       "    </tr>\n",
       "    <tr>\n",
       "      <th>36299</th>\n",
       "      <td>3168</td>\n",
       "      <td>4</td>\n",
       "    </tr>\n",
       "    <tr>\n",
       "      <th>36300</th>\n",
       "      <td>70146</td>\n",
       "      <td>4</td>\n",
       "    </tr>\n",
       "    <tr>\n",
       "      <th>36301</th>\n",
       "      <td>22697</td>\n",
       "      <td>4</td>\n",
       "    </tr>\n",
       "    <tr>\n",
       "      <th>36302</th>\n",
       "      <td>3284</td>\n",
       "      <td>4</td>\n",
       "    </tr>\n",
       "    <tr>\n",
       "      <th>36303</th>\n",
       "      <td>193054</td>\n",
       "      <td>4</td>\n",
       "    </tr>\n",
       "  </tbody>\n",
       "</table>\n",
       "<p>29135 rows × 2 columns</p>\n",
       "</div>"
      ],
      "text/plain": [
       "       track_id  length\n",
       "7169      49651      10\n",
       "7170     104399      10\n",
       "7171      92624      10\n",
       "7172      31963      10\n",
       "7173     170488      10\n",
       "...         ...     ...\n",
       "36299      3168       4\n",
       "36300     70146       4\n",
       "36301     22697       4\n",
       "36302      3284       4\n",
       "36303    193054       4\n",
       "\n",
       "[29135 rows x 2 columns]"
      ]
     },
     "execution_count": 18,
     "metadata": {},
     "output_type": "execute_result"
    }
   ],
   "source": [
    "filtered_tracks"
   ]
  },
  {
   "cell_type": "code",
   "execution_count": 21,
   "id": "ad7520f3-5007-4a2f-8d6a-62cc17eb2a47",
   "metadata": {},
   "outputs": [
    {
     "data": {
      "text/html": [
       "<div>\n",
       "<style scoped>\n",
       "    .dataframe tbody tr th:only-of-type {\n",
       "        vertical-align: middle;\n",
       "    }\n",
       "\n",
       "    .dataframe tbody tr th {\n",
       "        vertical-align: top;\n",
       "    }\n",
       "\n",
       "    .dataframe thead th {\n",
       "        text-align: right;\n",
       "    }\n",
       "</style>\n",
       "<table border=\"1\" class=\"dataframe\">\n",
       "  <thead>\n",
       "    <tr style=\"text-align: right;\">\n",
       "      <th></th>\n",
       "      <th>frame</th>\n",
       "      <th>index</th>\n",
       "      <th>amplitude</th>\n",
       "      <th>mu_x</th>\n",
       "      <th>mu_y</th>\n",
       "      <th>mu_z</th>\n",
       "      <th>sigma_x</th>\n",
       "      <th>sigma_y</th>\n",
       "      <th>sigma_z</th>\n",
       "      <th>frame_y</th>\n",
       "      <th>tree_id</th>\n",
       "      <th>track_id</th>\n",
       "    </tr>\n",
       "  </thead>\n",
       "  <tbody>\n",
       "    <tr>\n",
       "      <th>446674</th>\n",
       "      <td>108</td>\n",
       "      <td>2390</td>\n",
       "      <td>205.000000</td>\n",
       "      <td>242.0</td>\n",
       "      <td>1497.0</td>\n",
       "      <td>74.0</td>\n",
       "      <td>1.0</td>\n",
       "      <td>2.0</td>\n",
       "      <td>3.0</td>\n",
       "      <td>108</td>\n",
       "      <td>170488</td>\n",
       "      <td>170488</td>\n",
       "    </tr>\n",
       "    <tr>\n",
       "      <th>450263</th>\n",
       "      <td>109</td>\n",
       "      <td>2454</td>\n",
       "      <td>196.090798</td>\n",
       "      <td>240.0</td>\n",
       "      <td>1497.0</td>\n",
       "      <td>77.0</td>\n",
       "      <td>2.0</td>\n",
       "      <td>1.0</td>\n",
       "      <td>3.0</td>\n",
       "      <td>109</td>\n",
       "      <td>170488</td>\n",
       "      <td>170488</td>\n",
       "    </tr>\n",
       "    <tr>\n",
       "      <th>453658</th>\n",
       "      <td>110</td>\n",
       "      <td>2368</td>\n",
       "      <td>190.734454</td>\n",
       "      <td>242.0</td>\n",
       "      <td>1498.0</td>\n",
       "      <td>77.0</td>\n",
       "      <td>3.0</td>\n",
       "      <td>2.0</td>\n",
       "      <td>4.0</td>\n",
       "      <td>110</td>\n",
       "      <td>170488</td>\n",
       "      <td>170488</td>\n",
       "    </tr>\n",
       "    <tr>\n",
       "      <th>457036</th>\n",
       "      <td>111</td>\n",
       "      <td>2380</td>\n",
       "      <td>213.512655</td>\n",
       "      <td>241.0</td>\n",
       "      <td>1497.0</td>\n",
       "      <td>77.0</td>\n",
       "      <td>2.0</td>\n",
       "      <td>1.0</td>\n",
       "      <td>4.0</td>\n",
       "      <td>111</td>\n",
       "      <td>170488</td>\n",
       "      <td>170488</td>\n",
       "    </tr>\n",
       "    <tr>\n",
       "      <th>460500</th>\n",
       "      <td>112</td>\n",
       "      <td>2390</td>\n",
       "      <td>195.000000</td>\n",
       "      <td>241.0</td>\n",
       "      <td>1497.0</td>\n",
       "      <td>78.0</td>\n",
       "      <td>2.0</td>\n",
       "      <td>2.0</td>\n",
       "      <td>4.0</td>\n",
       "      <td>112</td>\n",
       "      <td>170488</td>\n",
       "      <td>170488</td>\n",
       "    </tr>\n",
       "    <tr>\n",
       "      <th>463947</th>\n",
       "      <td>113</td>\n",
       "      <td>2434</td>\n",
       "      <td>195.000000</td>\n",
       "      <td>242.0</td>\n",
       "      <td>1499.0</td>\n",
       "      <td>77.0</td>\n",
       "      <td>2.0</td>\n",
       "      <td>4.0</td>\n",
       "      <td>4.0</td>\n",
       "      <td>113</td>\n",
       "      <td>170488</td>\n",
       "      <td>170488</td>\n",
       "    </tr>\n",
       "    <tr>\n",
       "      <th>467273</th>\n",
       "      <td>114</td>\n",
       "      <td>2357</td>\n",
       "      <td>233.791037</td>\n",
       "      <td>241.0</td>\n",
       "      <td>1496.0</td>\n",
       "      <td>76.0</td>\n",
       "      <td>2.0</td>\n",
       "      <td>1.0</td>\n",
       "      <td>3.0</td>\n",
       "      <td>114</td>\n",
       "      <td>170488</td>\n",
       "      <td>170488</td>\n",
       "    </tr>\n",
       "    <tr>\n",
       "      <th>470647</th>\n",
       "      <td>115</td>\n",
       "      <td>2332</td>\n",
       "      <td>191.018030</td>\n",
       "      <td>242.0</td>\n",
       "      <td>1497.0</td>\n",
       "      <td>77.0</td>\n",
       "      <td>2.0</td>\n",
       "      <td>2.0</td>\n",
       "      <td>4.0</td>\n",
       "      <td>115</td>\n",
       "      <td>170488</td>\n",
       "      <td>170488</td>\n",
       "    </tr>\n",
       "    <tr>\n",
       "      <th>473857</th>\n",
       "      <td>116</td>\n",
       "      <td>2221</td>\n",
       "      <td>212.740048</td>\n",
       "      <td>243.0</td>\n",
       "      <td>1496.0</td>\n",
       "      <td>74.0</td>\n",
       "      <td>2.0</td>\n",
       "      <td>1.0</td>\n",
       "      <td>3.0</td>\n",
       "      <td>116</td>\n",
       "      <td>170488</td>\n",
       "      <td>170488</td>\n",
       "    </tr>\n",
       "    <tr>\n",
       "      <th>477186</th>\n",
       "      <td>117</td>\n",
       "      <td>2237</td>\n",
       "      <td>216.543955</td>\n",
       "      <td>243.0</td>\n",
       "      <td>1495.0</td>\n",
       "      <td>76.0</td>\n",
       "      <td>2.0</td>\n",
       "      <td>1.0</td>\n",
       "      <td>4.0</td>\n",
       "      <td>117</td>\n",
       "      <td>170488</td>\n",
       "      <td>170488</td>\n",
       "    </tr>\n",
       "  </tbody>\n",
       "</table>\n",
       "</div>"
      ],
      "text/plain": [
       "        frame  index   amplitude   mu_x    mu_y  mu_z  sigma_x  sigma_y  \\\n",
       "446674    108   2390  205.000000  242.0  1497.0  74.0      1.0      2.0   \n",
       "450263    109   2454  196.090798  240.0  1497.0  77.0      2.0      1.0   \n",
       "453658    110   2368  190.734454  242.0  1498.0  77.0      3.0      2.0   \n",
       "457036    111   2380  213.512655  241.0  1497.0  77.0      2.0      1.0   \n",
       "460500    112   2390  195.000000  241.0  1497.0  78.0      2.0      2.0   \n",
       "463947    113   2434  195.000000  242.0  1499.0  77.0      2.0      4.0   \n",
       "467273    114   2357  233.791037  241.0  1496.0  76.0      2.0      1.0   \n",
       "470647    115   2332  191.018030  242.0  1497.0  77.0      2.0      2.0   \n",
       "473857    116   2221  212.740048  243.0  1496.0  74.0      2.0      1.0   \n",
       "477186    117   2237  216.543955  243.0  1495.0  76.0      2.0      1.0   \n",
       "\n",
       "        sigma_z  frame_y  tree_id  track_id  \n",
       "446674      3.0      108   170488    170488  \n",
       "450263      3.0      109   170488    170488  \n",
       "453658      4.0      110   170488    170488  \n",
       "457036      4.0      111   170488    170488  \n",
       "460500      4.0      112   170488    170488  \n",
       "463947      4.0      113   170488    170488  \n",
       "467273      3.0      114   170488    170488  \n",
       "470647      4.0      115   170488    170488  \n",
       "473857      3.0      116   170488    170488  \n",
       "477186      4.0      117   170488    170488  "
      ]
     },
     "execution_count": 21,
     "metadata": {},
     "output_type": "execute_result"
    }
   ],
   "source": [
    "track_df[track_df['track_id'] == 170488]"
   ]
  }
 ],
 "metadata": {
  "kernelspec": {
   "display_name": "Python 3 (ipykernel)",
   "language": "python",
   "name": "python3"
  },
  "language_info": {
   "codemirror_mode": {
    "name": "ipython",
    "version": 3
   },
   "file_extension": ".py",
   "mimetype": "text/x-python",
   "name": "python",
   "nbconvert_exporter": "python",
   "pygments_lexer": "ipython3",
   "version": "3.10.13"
  }
 },
 "nbformat": 4,
 "nbformat_minor": 5
}
