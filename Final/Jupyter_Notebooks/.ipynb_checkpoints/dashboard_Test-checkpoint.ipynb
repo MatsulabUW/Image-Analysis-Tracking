{
 "cells": [
  {
   "cell_type": "code",
   "execution_count": 1,
   "id": "6d26db84-b3f3-446b-bbf5-17b209210da7",
   "metadata": {},
   "outputs": [],
   "source": [
    "import pandas as pd\n",
    "import numpy as np \n",
    "import plotly.express as px\n",
    "import plotly.graph_objects as go\n",
    "from plotly.subplots import make_subplots\n",
    "from dash import Dash, html, dcc, callback \n",
    "from dash.dependencies import Input, Output \n",
    "from skimage import io\n",
    "import zarr "
   ]
  },
  {
   "cell_type": "code",
   "execution_count": 5,
   "id": "6853a131-cafc-4c76-9295-bb4c121c5c62",
   "metadata": {},
   "outputs": [],
   "source": [
    "##Importing the data\n",
    "\n",
    "track_df = pd.read_pickle('/Users/apple/Desktop/Akamatsu_Lab/Lap_track/Final/test_data/datasets/track_df_cleaned_final_full.pkl')\n",
    "filtered_tracks = pd.read_pickle('/Users/apple/Desktop/Akamatsu_Lab/Lap_track/Final/test_data/datasets/filtered_tracks_final.pkl')\n",
    "\n",
    "zarr_arr = zarr.open(store = '/Users/apple/Desktop/Akamatsu_Lab/Lap_track/Final/test_data/zarr_file/all_channels_data', mode = 'r')\n",
    "\n",
    "##Generate the unique number of tracks \n",
    "\n",
    "unique_tracks = filtered_tracks['track_id'].unique()"
   ]
  },
  {
   "cell_type": "code",
   "execution_count": 49,
   "id": "f5015486-a72f-4484-a103-161d88069186",
   "metadata": {},
   "outputs": [
    {
     "data": {
      "text/plain": [
       "(130, 3, 75, 258, 275)"
      ]
     },
     "execution_count": 49,
     "metadata": {},
     "output_type": "execute_result"
    }
   ],
   "source": [
    "zarr_arr.shape"
   ]
  },
  {
   "cell_type": "code",
   "execution_count": 131,
   "id": "a48b9fe5-395c-402b-874c-07c9ebe121ec",
   "metadata": {},
   "outputs": [
    {
     "data": {
      "text/html": [
       "<div>\n",
       "<style scoped>\n",
       "    .dataframe tbody tr th:only-of-type {\n",
       "        vertical-align: middle;\n",
       "    }\n",
       "\n",
       "    .dataframe tbody tr th {\n",
       "        vertical-align: top;\n",
       "    }\n",
       "\n",
       "    .dataframe thead th {\n",
       "        text-align: right;\n",
       "    }\n",
       "</style>\n",
       "<table border=\"1\" class=\"dataframe\">\n",
       "  <thead>\n",
       "    <tr style=\"text-align: right;\">\n",
       "      <th></th>\n",
       "      <th>track_id</th>\n",
       "      <th>track_length</th>\n",
       "      <th>track_start</th>\n",
       "      <th>track_end</th>\n",
       "      <th>c3_peak</th>\n",
       "      <th>c2_peak</th>\n",
       "      <th>c1_peak</th>\n",
       "      <th>c3_peak_frame</th>\n",
       "      <th>c2_peak_frame</th>\n",
       "      <th>c1_peak_frame</th>\n",
       "      <th>mean_displacement</th>\n",
       "      <th>mean_z</th>\n",
       "      <th>mean_z_displacement</th>\n",
       "      <th>dnm2_positive</th>\n",
       "      <th>actin_positive</th>\n",
       "      <th>membrane_region</th>\n",
       "    </tr>\n",
       "  </thead>\n",
       "  <tbody>\n",
       "    <tr>\n",
       "      <th>22</th>\n",
       "      <td>22</td>\n",
       "      <td>8</td>\n",
       "      <td>0</td>\n",
       "      <td>7</td>\n",
       "      <td>268.426824</td>\n",
       "      <td>168.0</td>\n",
       "      <td>238.0</td>\n",
       "      <td>4</td>\n",
       "      <td>7</td>\n",
       "      <td>6</td>\n",
       "      <td>1.080068</td>\n",
       "      <td>1.625000</td>\n",
       "      <td>0.428571</td>\n",
       "      <td>False</td>\n",
       "      <td>False</td>\n",
       "      <td>Basal</td>\n",
       "    </tr>\n",
       "    <tr>\n",
       "      <th>65</th>\n",
       "      <td>65</td>\n",
       "      <td>8</td>\n",
       "      <td>0</td>\n",
       "      <td>7</td>\n",
       "      <td>345.835302</td>\n",
       "      <td>224.0</td>\n",
       "      <td>420.0</td>\n",
       "      <td>6</td>\n",
       "      <td>6</td>\n",
       "      <td>6</td>\n",
       "      <td>2.043674</td>\n",
       "      <td>6.625000</td>\n",
       "      <td>1.571429</td>\n",
       "      <td>True</td>\n",
       "      <td>True</td>\n",
       "      <td>Basal</td>\n",
       "    </tr>\n",
       "    <tr>\n",
       "      <th>93</th>\n",
       "      <td>93</td>\n",
       "      <td>8</td>\n",
       "      <td>0</td>\n",
       "      <td>7</td>\n",
       "      <td>308.000000</td>\n",
       "      <td>169.0</td>\n",
       "      <td>230.0</td>\n",
       "      <td>6</td>\n",
       "      <td>3</td>\n",
       "      <td>5</td>\n",
       "      <td>1.222925</td>\n",
       "      <td>11.500000</td>\n",
       "      <td>0.857143</td>\n",
       "      <td>False</td>\n",
       "      <td>False</td>\n",
       "      <td>Lateral</td>\n",
       "    </tr>\n",
       "    <tr>\n",
       "      <th>95</th>\n",
       "      <td>95</td>\n",
       "      <td>8</td>\n",
       "      <td>0</td>\n",
       "      <td>7</td>\n",
       "      <td>332.333333</td>\n",
       "      <td>201.0</td>\n",
       "      <td>251.0</td>\n",
       "      <td>6</td>\n",
       "      <td>7</td>\n",
       "      <td>7</td>\n",
       "      <td>3.090703</td>\n",
       "      <td>13.000000</td>\n",
       "      <td>1.714286</td>\n",
       "      <td>False</td>\n",
       "      <td>False</td>\n",
       "      <td>Lateral</td>\n",
       "    </tr>\n",
       "    <tr>\n",
       "      <th>100</th>\n",
       "      <td>100</td>\n",
       "      <td>22</td>\n",
       "      <td>0</td>\n",
       "      <td>21</td>\n",
       "      <td>257.000000</td>\n",
       "      <td>188.0</td>\n",
       "      <td>513.0</td>\n",
       "      <td>13</td>\n",
       "      <td>21</td>\n",
       "      <td>13</td>\n",
       "      <td>2.233344</td>\n",
       "      <td>12.090909</td>\n",
       "      <td>0.904762</td>\n",
       "      <td>False</td>\n",
       "      <td>True</td>\n",
       "      <td>Lateral</td>\n",
       "    </tr>\n",
       "  </tbody>\n",
       "</table>\n",
       "</div>"
      ],
      "text/plain": [
       "     track_id  track_length  track_start  track_end     c3_peak  c2_peak  \\\n",
       "22         22             8            0          7  268.426824    168.0   \n",
       "65         65             8            0          7  345.835302    224.0   \n",
       "93         93             8            0          7  308.000000    169.0   \n",
       "95         95             8            0          7  332.333333    201.0   \n",
       "100       100            22            0         21  257.000000    188.0   \n",
       "\n",
       "     c1_peak  c3_peak_frame  c2_peak_frame  c1_peak_frame  mean_displacement  \\\n",
       "22     238.0              4              7              6           1.080068   \n",
       "65     420.0              6              6              6           2.043674   \n",
       "93     230.0              6              3              5           1.222925   \n",
       "95     251.0              6              7              7           3.090703   \n",
       "100    513.0             13             21             13           2.233344   \n",
       "\n",
       "        mean_z  mean_z_displacement  dnm2_positive  actin_positive  \\\n",
       "22    1.625000             0.428571          False           False   \n",
       "65    6.625000             1.571429           True            True   \n",
       "93   11.500000             0.857143          False           False   \n",
       "95   13.000000             1.714286          False           False   \n",
       "100  12.090909             0.904762          False            True   \n",
       "\n",
       "    membrane_region  \n",
       "22            Basal  \n",
       "65            Basal  \n",
       "93          Lateral  \n",
       "95          Lateral  \n",
       "100         Lateral  "
      ]
     },
     "execution_count": 131,
     "metadata": {},
     "output_type": "execute_result"
    }
   ],
   "source": [
    "filtered_tracks.head()"
   ]
  },
  {
   "cell_type": "code",
   "execution_count": 67,
   "id": "b6ae53e4-5c79-443c-9b23-3591407793cf",
   "metadata": {},
   "outputs": [
    {
     "data": {
      "text/plain": [
       "track_id\n",
       "184      60\n",
       "6625     51\n",
       "10071    46\n",
       "11925    46\n",
       "1218     45\n",
       "         ..\n",
       "7500      1\n",
       "7502      1\n",
       "7504      1\n",
       "7505      1\n",
       "17514     1\n",
       "Name: count, Length: 17515, dtype: int64"
      ]
     },
     "execution_count": 67,
     "metadata": {},
     "output_type": "execute_result"
    }
   ],
   "source": [
    "track_df['track_id'].value_counts()"
   ]
  },
  {
   "cell_type": "code",
   "execution_count": 48,
   "id": "19b4f1c0-de98-444d-997d-d95dc554580a",
   "metadata": {},
   "outputs": [
    {
     "data": {
      "text/html": [
       "<div>\n",
       "<style scoped>\n",
       "    .dataframe tbody tr th:only-of-type {\n",
       "        vertical-align: middle;\n",
       "    }\n",
       "\n",
       "    .dataframe tbody tr th {\n",
       "        vertical-align: top;\n",
       "    }\n",
       "\n",
       "    .dataframe thead th {\n",
       "        text-align: right;\n",
       "    }\n",
       "</style>\n",
       "<table border=\"1\" class=\"dataframe\">\n",
       "  <thead>\n",
       "    <tr style=\"text-align: right;\">\n",
       "      <th></th>\n",
       "      <th>frame</th>\n",
       "      <th>index</th>\n",
       "      <th>amplitude</th>\n",
       "      <th>mu_x</th>\n",
       "      <th>mu_y</th>\n",
       "      <th>mu_z</th>\n",
       "      <th>sigma_x</th>\n",
       "      <th>sigma_y</th>\n",
       "      <th>sigma_z</th>\n",
       "      <th>frame_y</th>\n",
       "      <th>...</th>\n",
       "      <th>c1_peak_z</th>\n",
       "      <th>c1_voxel_sum</th>\n",
       "      <th>c1_voxel_sum_adjusted</th>\n",
       "      <th>c1_gaussian_amp</th>\n",
       "      <th>c1_mu_x</th>\n",
       "      <th>c1_mu_y</th>\n",
       "      <th>c1_mu_z</th>\n",
       "      <th>c1_sigma_x</th>\n",
       "      <th>c1_sigma_y</th>\n",
       "      <th>c1_sigma_z</th>\n",
       "    </tr>\n",
       "  </thead>\n",
       "  <tbody>\n",
       "    <tr>\n",
       "      <th>22</th>\n",
       "      <td>0</td>\n",
       "      <td>22</td>\n",
       "      <td>219.333333</td>\n",
       "      <td>120.0</td>\n",
       "      <td>238.0</td>\n",
       "      <td>2.0</td>\n",
       "      <td>2.0</td>\n",
       "      <td>1.0</td>\n",
       "      <td>3.0</td>\n",
       "      <td>0</td>\n",
       "      <td>...</td>\n",
       "      <td>3</td>\n",
       "      <td>14170</td>\n",
       "      <td>168.769231</td>\n",
       "      <td>182.000000</td>\n",
       "      <td>121.0</td>\n",
       "      <td>238.0</td>\n",
       "      <td>3.0</td>\n",
       "      <td>2.0</td>\n",
       "      <td>3.0</td>\n",
       "      <td>4.0</td>\n",
       "    </tr>\n",
       "    <tr>\n",
       "      <th>401</th>\n",
       "      <td>1</td>\n",
       "      <td>21</td>\n",
       "      <td>228.000000</td>\n",
       "      <td>121.0</td>\n",
       "      <td>239.0</td>\n",
       "      <td>1.0</td>\n",
       "      <td>1.0</td>\n",
       "      <td>1.0</td>\n",
       "      <td>2.0</td>\n",
       "      <td>1</td>\n",
       "      <td>...</td>\n",
       "      <td>2</td>\n",
       "      <td>12946</td>\n",
       "      <td>1057.764706</td>\n",
       "      <td>195.982977</td>\n",
       "      <td>119.0</td>\n",
       "      <td>239.0</td>\n",
       "      <td>2.0</td>\n",
       "      <td>3.0</td>\n",
       "      <td>2.0</td>\n",
       "      <td>5.0</td>\n",
       "    </tr>\n",
       "    <tr>\n",
       "      <th>747</th>\n",
       "      <td>2</td>\n",
       "      <td>6</td>\n",
       "      <td>234.459138</td>\n",
       "      <td>122.0</td>\n",
       "      <td>239.0</td>\n",
       "      <td>1.0</td>\n",
       "      <td>3.0</td>\n",
       "      <td>1.0</td>\n",
       "      <td>3.0</td>\n",
       "      <td>2</td>\n",
       "      <td>...</td>\n",
       "      <td>1</td>\n",
       "      <td>12675</td>\n",
       "      <td>837.352941</td>\n",
       "      <td>197.000000</td>\n",
       "      <td>119.0</td>\n",
       "      <td>239.0</td>\n",
       "      <td>1.0</td>\n",
       "      <td>2.0</td>\n",
       "      <td>2.0</td>\n",
       "      <td>3.0</td>\n",
       "    </tr>\n",
       "    <tr>\n",
       "      <th>1153</th>\n",
       "      <td>3</td>\n",
       "      <td>15</td>\n",
       "      <td>230.038940</td>\n",
       "      <td>121.0</td>\n",
       "      <td>239.0</td>\n",
       "      <td>2.0</td>\n",
       "      <td>2.0</td>\n",
       "      <td>1.0</td>\n",
       "      <td>3.0</td>\n",
       "      <td>3</td>\n",
       "      <td>...</td>\n",
       "      <td>2</td>\n",
       "      <td>15518</td>\n",
       "      <td>864.461538</td>\n",
       "      <td>201.333333</td>\n",
       "      <td>123.0</td>\n",
       "      <td>239.0</td>\n",
       "      <td>1.0</td>\n",
       "      <td>9.0</td>\n",
       "      <td>2.0</td>\n",
       "      <td>5.0</td>\n",
       "    </tr>\n",
       "    <tr>\n",
       "      <th>1542</th>\n",
       "      <td>4</td>\n",
       "      <td>38</td>\n",
       "      <td>268.426824</td>\n",
       "      <td>120.0</td>\n",
       "      <td>239.0</td>\n",
       "      <td>2.0</td>\n",
       "      <td>2.0</td>\n",
       "      <td>1.0</td>\n",
       "      <td>2.0</td>\n",
       "      <td>4</td>\n",
       "      <td>...</td>\n",
       "      <td>4</td>\n",
       "      <td>15594</td>\n",
       "      <td>819.846154</td>\n",
       "      <td>207.000000</td>\n",
       "      <td>120.0</td>\n",
       "      <td>239.0</td>\n",
       "      <td>0.0</td>\n",
       "      <td>2.0</td>\n",
       "      <td>1.0</td>\n",
       "      <td>9.0</td>\n",
       "    </tr>\n",
       "    <tr>\n",
       "      <th>1893</th>\n",
       "      <td>5</td>\n",
       "      <td>3</td>\n",
       "      <td>244.000000</td>\n",
       "      <td>120.0</td>\n",
       "      <td>239.0</td>\n",
       "      <td>2.0</td>\n",
       "      <td>2.0</td>\n",
       "      <td>1.0</td>\n",
       "      <td>2.0</td>\n",
       "      <td>5</td>\n",
       "      <td>...</td>\n",
       "      <td>0</td>\n",
       "      <td>16091</td>\n",
       "      <td>1206.692308</td>\n",
       "      <td>209.699721</td>\n",
       "      <td>120.0</td>\n",
       "      <td>238.0</td>\n",
       "      <td>-4.0</td>\n",
       "      <td>2.0</td>\n",
       "      <td>2.0</td>\n",
       "      <td>14.0</td>\n",
       "    </tr>\n",
       "    <tr>\n",
       "      <th>2296</th>\n",
       "      <td>6</td>\n",
       "      <td>15</td>\n",
       "      <td>237.000000</td>\n",
       "      <td>119.0</td>\n",
       "      <td>239.0</td>\n",
       "      <td>2.0</td>\n",
       "      <td>2.0</td>\n",
       "      <td>1.0</td>\n",
       "      <td>2.0</td>\n",
       "      <td>6</td>\n",
       "      <td>...</td>\n",
       "      <td>2</td>\n",
       "      <td>16341</td>\n",
       "      <td>1241.923077</td>\n",
       "      <td>233.000000</td>\n",
       "      <td>118.0</td>\n",
       "      <td>239.0</td>\n",
       "      <td>2.0</td>\n",
       "      <td>2.0</td>\n",
       "      <td>1.0</td>\n",
       "      <td>3.0</td>\n",
       "    </tr>\n",
       "    <tr>\n",
       "      <th>2670</th>\n",
       "      <td>7</td>\n",
       "      <td>8</td>\n",
       "      <td>250.282125</td>\n",
       "      <td>120.0</td>\n",
       "      <td>239.0</td>\n",
       "      <td>1.0</td>\n",
       "      <td>2.0</td>\n",
       "      <td>1.0</td>\n",
       "      <td>3.0</td>\n",
       "      <td>7</td>\n",
       "      <td>...</td>\n",
       "      <td>1</td>\n",
       "      <td>14517</td>\n",
       "      <td>1487.000000</td>\n",
       "      <td>230.692396</td>\n",
       "      <td>122.0</td>\n",
       "      <td>238.0</td>\n",
       "      <td>1.0</td>\n",
       "      <td>6.0</td>\n",
       "      <td>1.0</td>\n",
       "      <td>3.0</td>\n",
       "    </tr>\n",
       "  </tbody>\n",
       "</table>\n",
       "<p>8 rows × 48 columns</p>\n",
       "</div>"
      ],
      "text/plain": [
       "      frame  index   amplitude   mu_x   mu_y  mu_z  sigma_x  sigma_y  sigma_z  \\\n",
       "22        0     22  219.333333  120.0  238.0   2.0      2.0      1.0      3.0   \n",
       "401       1     21  228.000000  121.0  239.0   1.0      1.0      1.0      2.0   \n",
       "747       2      6  234.459138  122.0  239.0   1.0      3.0      1.0      3.0   \n",
       "1153      3     15  230.038940  121.0  239.0   2.0      2.0      1.0      3.0   \n",
       "1542      4     38  268.426824  120.0  239.0   2.0      2.0      1.0      2.0   \n",
       "1893      5      3  244.000000  120.0  239.0   2.0      2.0      1.0      2.0   \n",
       "2296      6     15  237.000000  119.0  239.0   2.0      2.0      1.0      2.0   \n",
       "2670      7      8  250.282125  120.0  239.0   1.0      2.0      1.0      3.0   \n",
       "\n",
       "      frame_y  ...  c1_peak_z  c1_voxel_sum  c1_voxel_sum_adjusted  \\\n",
       "22          0  ...          3         14170             168.769231   \n",
       "401         1  ...          2         12946            1057.764706   \n",
       "747         2  ...          1         12675             837.352941   \n",
       "1153        3  ...          2         15518             864.461538   \n",
       "1542        4  ...          4         15594             819.846154   \n",
       "1893        5  ...          0         16091            1206.692308   \n",
       "2296        6  ...          2         16341            1241.923077   \n",
       "2670        7  ...          1         14517            1487.000000   \n",
       "\n",
       "      c1_gaussian_amp  c1_mu_x  c1_mu_y  c1_mu_z  c1_sigma_x  c1_sigma_y  \\\n",
       "22         182.000000    121.0    238.0      3.0         2.0         3.0   \n",
       "401        195.982977    119.0    239.0      2.0         3.0         2.0   \n",
       "747        197.000000    119.0    239.0      1.0         2.0         2.0   \n",
       "1153       201.333333    123.0    239.0      1.0         9.0         2.0   \n",
       "1542       207.000000    120.0    239.0      0.0         2.0         1.0   \n",
       "1893       209.699721    120.0    238.0     -4.0         2.0         2.0   \n",
       "2296       233.000000    118.0    239.0      2.0         2.0         1.0   \n",
       "2670       230.692396    122.0    238.0      1.0         6.0         1.0   \n",
       "\n",
       "      c1_sigma_z  \n",
       "22           4.0  \n",
       "401          5.0  \n",
       "747          3.0  \n",
       "1153         5.0  \n",
       "1542         9.0  \n",
       "1893        14.0  \n",
       "2296         3.0  \n",
       "2670         3.0  \n",
       "\n",
       "[8 rows x 48 columns]"
      ]
     },
     "execution_count": 48,
     "metadata": {},
     "output_type": "execute_result"
    }
   ],
   "source": [
    "track_df[track_df['track_id'] == 22]"
   ]
  },
  {
   "cell_type": "code",
   "execution_count": 138,
   "id": "aaecb7b8-af78-464d-bc56-24fd53be4920",
   "metadata": {},
   "outputs": [],
   "source": [
    "def select_type_of_tracks(dataframe, only_dynamin_tracks = False, only_actin_tracks = False, all_positive_tracks = True, both_tracks_positive = False): \n",
    "        if only_dynamin_tracks == True: \n",
    "            relevant_tracks = dataframe[(dataframe['dnm2_positive'] == True) & (dataframe['actin_positive'] == False)]['track_id'].values\n",
    "        elif only_actin_tracks == True: \n",
    "            relevant_tracks = dataframe[(dataframe['dnm2_positive'] == False) & (dataframe['actin_positive'] == True)]['track_id'].values\n",
    "        elif all_positive_tracks == True: \n",
    "            relevant_tracks = dataframe[(dataframe['dnm2_positive'] == True) | (dataframe['actin_positive'] == True)]['track_id'].values\n",
    "        elif both_tracks_positive == True: \n",
    "            relevant_tracks = dataframe[(dataframe['dnm2_positive'] == True) & (dataframe['actin_positive'] == True)]['track_id'].values\n",
    "\n",
    "        return relevant_tracks"
   ]
  },
  {
   "cell_type": "code",
   "execution_count": 145,
   "id": "942d91cc-ab78-4f97-a4cc-854d202de37e",
   "metadata": {},
   "outputs": [],
   "source": [
    "def select_tracks_region_wise(dataframe, tracks, only_basal, only_apical, only_lateral, all):\n",
    "    updated_tracks_df = dataframe[dataframe['track_id'].isin(tracks)]\n",
    "    if only_basal == True:\n",
    "        updated_tracks = updated_tracks_df[updated_tracks_df['membrane_region'] == 'Basal']['track_id'].values\n",
    "    elif only_apical == True: \n",
    "        updated_tracks = updated_tracks_df[updated_tracks_df['membrane_region'] == 'Apical']['track_id'].values\n",
    "    elif only_lateral == True: \n",
    "        updated_tracks = updated_tracks_df[updated_tracks_df['membrane_region'] == 'Lateral']['track_id'].values\n",
    "    elif all == True: \n",
    "        return updated_tracks_df['track_id'].values \n",
    "    \n",
    "    return updated_tracks"
   ]
  },
  {
   "cell_type": "code",
   "execution_count": 141,
   "id": "5a4bb4e6-2f57-49c9-8948-c99691868477",
   "metadata": {},
   "outputs": [],
   "source": [
    "relevant_tracks = select_type_of_tracks(dataframe = filtered_tracks, dynamin_positive = True, actin_positive = True)"
   ]
  },
  {
   "cell_type": "code",
   "execution_count": 146,
   "id": "da5c90bb-6223-4c33-a595-96214f1f08d6",
   "metadata": {},
   "outputs": [],
   "source": [
    "updated_tracks = select_tracks_region_wise(dataframe = filtered_tracks, \n",
    "                                           tracks = relevant_tracks, \n",
    "                                           only_basal = True, only_apical = False, only_lateral = False, all = False)"
   ]
  },
  {
   "cell_type": "code",
   "execution_count": 147,
   "id": "b0aa84aa-4eaf-457b-b81d-4c9f53116a21",
   "metadata": {},
   "outputs": [
    {
     "data": {
      "text/plain": [
       "array([   65,  2173,  3633,  3930,  3944,  4063,  4322,  6284,  6411,\n",
       "        6426,  9027,  9550, 10232, 12255, 13764, 14765, 16110, 16453,\n",
       "       16646])"
      ]
     },
     "execution_count": 147,
     "metadata": {},
     "output_type": "execute_result"
    }
   ],
   "source": [
    "updated_tracks"
   ]
  },
  {
   "cell_type": "code",
   "execution_count": 127,
   "id": "fb9bec29-aa6d-455e-b460-454c6c09e569",
   "metadata": {},
   "outputs": [],
   "source": [
    "def max_z_track_visualisation(track_of_interest,zarr_array,main_tracking_df, channel):\n",
    "    \n",
    "\n",
    "    current_track = main_tracking_df[main_tracking_df['track_id'] == track_of_interest]\n",
    "    current_track_spots_data = [] \n",
    "\n",
    "    # list to store max z slice of a spot in each frame of the track\n",
    "    max_z_slice_cropped_images = []\n",
    "    \n",
    "    # Loop through tracks and set values in the volume\n",
    "    for index, track in current_track.iterrows():\n",
    "        frame, mu_z, mu_y, mu_x = int(track['frame']), track['mu_z'], track['mu_y'], track['mu_x']\n",
    "        sigma_z = 4\n",
    "        sigma_y = 2\n",
    "        sigma_x = 2\n",
    "\n",
    "        # Define the bounding box based on center and sigma\n",
    "        z_start, z_end = int(mu_z - 3 * sigma_z), int(mu_z + 3 * sigma_z)\n",
    "        y_start, y_end = int(mu_y - 3 * sigma_y), int(mu_y + 3 * sigma_y)\n",
    "        x_start, x_end = int(mu_x - 3 * sigma_x), int(mu_x + 3 * sigma_x)\n",
    "\n",
    "        # Clip the coordinates to be within the image bounds\n",
    "        z_start = max(0, z_start)\n",
    "        y_start = max(0, y_start)\n",
    "        x_start = max(0, x_start)\n",
    "        z_end = min(zarr_array.shape[2], z_end)\n",
    "        y_end = min(zarr_array.shape[3], y_end)\n",
    "        x_end = min(zarr_array.shape[4], x_end)\n",
    "\n",
    "        current_3d_spot = zarr_array[frame, channel, z_start:z_end, y_start:y_end, x_start:x_end]\n",
    "        # calculate the z_sum for each z slice of the current spot \n",
    "        z_sum = np.sum(current_3d_spot, axis=(1, 2))\n",
    "        # Find the index of the maximum sum\n",
    "        max_sum_index = np.argmax(z_sum)\n",
    "        # Select the slice with the maximum sum\n",
    "        max_z_slice_cropped_images.append(current_3d_spot[max_sum_index,:,:])\n",
    "        \n",
    "    \n",
    "    return max_z_slice_cropped_images"
   ]
  },
  {
   "cell_type": "code",
   "execution_count": 123,
   "id": "40815395-994d-4581-944c-128706f7f9de",
   "metadata": {},
   "outputs": [],
   "source": [
    "def total_sum_track_visualisation(track_of_interest,zarr_array,main_tracking_df,channel):\n",
    "    \n",
    "    \n",
    "    current_track = main_tracking_df[main_tracking_df['track_id'] == track_of_interest]\n",
    "    \n",
    "    # list to store sum of each z slice\n",
    "    z_slice_sum_cropped_images = []\n",
    "\n",
    "    # Loop through tracks and set values in the volume\n",
    "    for index, track in current_track.iterrows():\n",
    "        frame, mu_z, mu_y, mu_x = int(track['frame']), track['mu_z'], track['mu_y'], track['mu_x']\n",
    "        #sigma_z, sigma_y, sigma_x = track['sigma_z'], track['sigma_y'], track['sigma_x']\n",
    "        sigma_z = 4\n",
    "        sigma_y = 2\n",
    "        sigma_x = 2\n",
    "\n",
    "        # Define the bounding box based on center and sigma\n",
    "        z_start, z_end = int(mu_z - 3 * sigma_z), int(mu_z + 3 * sigma_z)\n",
    "        y_start, y_end = int(mu_y - 3 * sigma_y), int(mu_y + 3 * sigma_y)\n",
    "        x_start, x_end = int(mu_x - 3 * sigma_x), int(mu_x + 3 * sigma_x)\n",
    "\n",
    "        # Clip the coordinates to be within the image bounds\n",
    "        z_start = max(0, z_start)\n",
    "        y_start = max(0, y_start)\n",
    "        x_start = max(0, x_start)\n",
    "        z_end = min(zarr_array.shape[2], z_end)\n",
    "        y_end = min(zarr_array.shape[3], y_end)\n",
    "        x_end = min(zarr_array.shape[4], x_end)\n",
    "\n",
    "\n",
    "        current_3d_spot = zarr_array[frame, channel, z_start:z_end, y_start:y_end, x_start:x_end]\n",
    "        z_sum = np.sum(current_3d_spot,axis=0)\n",
    "        z_slice_sum_cropped_images.append(z_sum)\n",
    "        \n",
    "    return z_slice_sum_cropped_images\n"
   ]
  },
  {
   "cell_type": "code",
   "execution_count": 110,
   "id": "60561a7a-7a25-4c75-83d3-a734b2299148",
   "metadata": {},
   "outputs": [],
   "source": [
    "def max_intensity_projection_track_visualisation(track_of_interest,zarr_array,main_tracking_df,channel):\n",
    "    \n",
    "    \n",
    "    current_track = main_tracking_df[main_tracking_df['track_id'] == track_of_interest]\n",
    "\n",
    "    mip_movie = []\n",
    "\n",
    "    # Loop through tracks and set values in the volume\n",
    "    for index, track in current_track.iterrows():\n",
    "        frame, mu_z, mu_y, mu_x = int(track['frame']), track['mu_z'], track['mu_y'], track['mu_x']\n",
    "        #sigma_z, sigma_y, sigma_x = track['sigma_z'], track['sigma_y'], track['sigma_x']\n",
    "        sigma_z = 4\n",
    "        sigma_y = 2\n",
    "        sigma_x = 2\n",
    "\n",
    "        # Define the bounding box based on center and sigma\n",
    "        z_start, z_end = int(mu_z - 3 * sigma_z), int(mu_z + 3 * sigma_z)\n",
    "        y_start, y_end = int(mu_y - 3 * sigma_y), int(mu_y + 3 * sigma_y)\n",
    "        x_start, x_end = int(mu_x - 3 * sigma_x), int(mu_x + 3 * sigma_x)\n",
    "\n",
    "        # Clip the coordinates to be within the image bounds\n",
    "        z_start = max(0, z_start)\n",
    "        y_start = max(0, y_start)\n",
    "        x_start = max(0, x_start)\n",
    "        z_end = min(zarr_array.shape[2], z_end)\n",
    "        y_end = min(zarr_array.shape[3], y_end)\n",
    "        x_end = min(zarr_array.shape[4], x_end)\n",
    "\n",
    "\n",
    "\n",
    "        current_3d_spot = zarr_array[frame, channel, z_start:z_end, y_start:y_end, x_start:x_end]\n",
    "        mip_projection = np.max(current_3d_spot,axis=0)\n",
    "        mip_movie.append(mip_projection)\n",
    "    \n",
    "    return mip_movie\n"
   ]
  },
  {
   "cell_type": "code",
   "execution_count": 106,
   "id": "80691b67-9ed8-4ac4-877c-72cb18046ea5",
   "metadata": {},
   "outputs": [],
   "source": [
    "def plot_raw_movie(plot_type = 'max_intensity_projection', track_number = 22, raw_image = zarr_arr, main_tracking_df = track_df, channel = 2):\n",
    "    \n",
    "    if plot_type == 'max_intensity_projection':      \n",
    "        result_array = max_intensity_projection_track_visualisation(track_number,raw_image,main_tracking_df,channel)\n",
    "    if plot_type == 'max_z_slice':      \n",
    "        result_array = max_z_track_visualisation(track_number,raw_image,main_tracking_df, channel)\n",
    "    elif plot_type == 'total_z_sum':      \n",
    "        result_array = total_sum_track_visualisation(track_number,raw_image,main_tracking_df, channel)\n",
    "    \n",
    "    \n",
    "    length_of_track = len(result_array)\n",
    "    # Set the number of rows and columns for subplots\n",
    "    num_cols = 7\n",
    "    num_rows = length_of_track // num_cols + 1\n",
    "    \n",
    "    unique_tracks = main_tracking_df[main_tracking_df['track_id'] == track_number]['frame'].unique()\n",
    "    subplot_titles_tuple = tuple(f'frame_{i}' for i in unique_tracks)\n",
    "\n",
    "    fig = make_subplots(rows=num_rows, cols=7, subplot_titles = subplot_titles_tuple, x_title = 'Frames', \n",
    "                        y_title = 'Intensity', row_titles = None, column_titles = None)\n",
    "    \n",
    "    \n",
    "    for i in range(length_of_track):\n",
    "        fig.layout.annotations[i][\"font\"] = {'size': 10, 'color':'black'}\n",
    "\n",
    "    fig.layout.annotations[length_of_track][\"font\"] = {'size': 15, 'color':'black'}\n",
    "    fig.layout.annotations[length_of_track+1][\"font\"] = {'size': 15, 'color':'black'}\n",
    "\n",
    "    r = 1\n",
    "    c = 1\n",
    "    for i in range(len(result_array)):\n",
    "        image = px.imshow(result_array[i],color_continuous_scale = 'blues')\n",
    "        fig.add_trace(image.data[0], row = r, col = c)\n",
    "        fig.update_xaxes(showticklabels=False, row=r, col=c)\n",
    "        fig.update_yaxes(showticklabels=False, row=r, col=c)\n",
    "        if i != 0 and (i+1) % (num_cols) == 0: \n",
    "            r = r + 1\n",
    "            c = 1\n",
    "        else: \n",
    "            c = c + 1\n",
    "    r = 1 \n",
    "    c = 1\n",
    "        \n",
    "    return fig"
   ]
  },
  {
   "cell_type": "code",
   "execution_count": 80,
   "id": "93dc555f-2b11-47eb-a4c4-df283b718465",
   "metadata": {},
   "outputs": [],
   "source": [
    "ans = max_z_track_visualisation(track_of_interest = 22,zarr_array = zarr_arr ,main_tracking_df = track_df, \n",
    "                          channel = 2)"
   ]
  },
  {
   "cell_type": "code",
   "execution_count": 130,
   "id": "7780a752-9b15-4ed2-8ff4-28d6f9af8763",
   "metadata": {},
   "outputs": [
    {
     "data": {
      "application/vnd.plotly.v1+json": {
       "config": {
        "plotlyServerURL": "https://plot.ly"
       },
       "data": [
        {
         "coloraxis": "coloraxis",
         "hovertemplate": "x: %{x}<br>y: %{y}<br>color: %{z}<extra></extra>",
         "name": "0",
         "type": "heatmap",
         "xaxis": "x",
         "yaxis": "y",
         "z": [
          [
           129,
           129,
           124,
           118,
           112,
           107,
           101,
           103,
           112,
           126,
           120,
           113
          ],
          [
           122,
           125,
           116,
           115,
           116,
           118,
           108,
           103,
           102,
           108,
           108,
           108
          ],
          [
           101,
           108,
           110,
           111,
           113,
           119,
           123,
           113,
           105,
           122,
           116,
           117
          ],
          [
           105,
           108,
           119,
           112,
           110,
           126,
           113,
           106,
           105,
           112,
           123,
           121
          ],
          [
           128,
           126,
           124,
           127,
           127,
           123,
           144,
           141,
           126,
           120,
           126,
           121
          ],
          [
           116,
           123,
           121,
           124,
           126,
           125,
           143,
           134,
           118,
           125,
           127,
           120
          ],
          [
           126,
           132,
           127,
           145,
           158,
           154,
           151,
           145,
           140,
           140,
           136,
           122
          ],
          [
           124,
           130,
           121,
           147,
           163,
           153,
           216,
           221,
           196,
           179,
           144,
           129
          ],
          [
           125,
           135,
           137,
           140,
           146,
           155,
           156,
           159,
           158,
           148,
           148,
           141
          ],
          [
           132,
           152,
           147,
           133,
           129,
           145,
           146,
           141,
           136,
           136,
           132,
           125
          ],
          [
           125,
           139,
           134,
           128,
           124,
           123,
           134,
           144,
           145,
           117,
           118,
           115
          ],
          [
           124,
           135,
           140,
           139,
           139,
           141,
           145,
           142,
           138,
           145,
           126,
           116
          ]
         ]
        },
        {
         "coloraxis": "coloraxis",
         "hovertemplate": "x: %{x}<br>y: %{y}<br>color: %{z}<extra></extra>",
         "name": "0",
         "type": "heatmap",
         "xaxis": "x2",
         "yaxis": "y2",
         "z": [
          [
           124,
           114,
           114,
           120,
           129,
           108,
           108,
           118,
           122,
           130,
           127,
           115
          ],
          [
           115,
           109,
           110,
           113,
           116,
           116,
           117,
           119,
           122,
           121,
           116,
           109
          ],
          [
           115,
           119,
           119,
           119,
           118,
           119,
           125,
           131,
           130,
           117,
           113,
           118
          ],
          [
           116,
           124,
           115,
           113,
           129,
           119,
           123,
           130,
           122,
           126,
           121,
           108
          ],
          [
           117,
           118,
           123,
           127,
           126,
           134,
           140,
           138,
           117,
           116,
           122,
           131
          ],
          [
           125,
           112,
           122,
           143,
           170,
           163,
           177,
           187,
           152,
           128,
           119,
           121
          ],
          [
           136,
           144,
           143,
           151,
           178,
           206,
           212,
           196,
           151,
           136,
           122,
           109
          ],
          [
           142,
           136,
           140,
           146,
           152,
           163,
           205,
           233,
           167,
           140,
           124,
           113
          ],
          [
           128,
           129,
           139,
           148,
           151,
           145,
           150,
           154,
           136,
           130,
           125,
           119
          ],
          [
           156,
           143,
           124,
           111,
           110,
           121,
           126,
           129,
           135,
           126,
           124,
           128
          ],
          [
           130,
           146,
           126,
           114,
           128,
           146,
           156,
           160,
           163,
           144,
           126,
           114
          ],
          [
           123,
           125,
           132,
           139,
           142,
           163,
           172,
           164,
           129,
           124,
           120,
           113
          ]
         ]
        },
        {
         "coloraxis": "coloraxis",
         "hovertemplate": "x: %{x}<br>y: %{y}<br>color: %{z}<extra></extra>",
         "name": "0",
         "type": "heatmap",
         "xaxis": "x3",
         "yaxis": "y3",
         "z": [
          [
           108,
           116,
           124,
           125,
           118,
           116,
           115,
           103,
           105,
           114,
           128,
           129
          ],
          [
           123,
           118,
           113,
           112,
           111,
           108,
           107,
           117,
           114,
           112,
           115,
           127
          ],
          [
           118,
           120,
           123,
           124,
           127,
           121,
           110,
           102,
           109,
           110,
           105,
           119
          ],
          [
           124,
           119,
           118,
           130,
           119,
           114,
           115,
           120,
           115,
           114,
           119,
           127
          ],
          [
           129,
           132,
           134,
           132,
           128,
           139,
           148,
           126,
           119,
           120,
           124,
           114
          ],
          [
           129,
           141,
           152,
           147,
           160,
           166,
           163,
           145,
           121,
           112,
           121,
           129
          ],
          [
           118,
           129,
           136,
           132,
           186,
           219,
           227,
           206,
           156,
           122,
           110,
           118
          ],
          [
           142,
           152,
           166,
           182,
           184,
           202,
           208,
           152,
           132,
           121,
           117,
           115
          ],
          [
           158,
           159,
           150,
           138,
           144,
           150,
           156,
           158,
           133,
           118,
           117,
           118
          ],
          [
           130,
           135,
           139,
           130,
           143,
           141,
           133,
           136,
           120,
           107,
           101,
           115
          ],
          [
           137,
           141,
           143,
           148,
           169,
           166,
           154,
           150,
           136,
           117,
           98,
           110
          ],
          [
           120,
           127,
           132,
           133,
           150,
           151,
           147,
           157,
           139,
           117,
           99,
           110
          ]
         ]
        },
        {
         "coloraxis": "coloraxis",
         "hovertemplate": "x: %{x}<br>y: %{y}<br>color: %{z}<extra></extra>",
         "name": "0",
         "type": "heatmap",
         "xaxis": "x4",
         "yaxis": "y4",
         "z": [
          [
           122,
           118,
           120,
           128,
           117,
           115,
           116,
           116,
           117,
           115,
           111,
           109
          ],
          [
           101,
           112,
           121,
           119,
           120,
           114,
           110,
           120,
           120,
           114,
           109,
           125
          ],
          [
           123,
           124,
           127,
           128,
           133,
           119,
           107,
           124,
           121,
           120,
           121,
           119
          ],
          [
           131,
           120,
           121,
           146,
           157,
           143,
           123,
           119,
           112,
           115,
           124,
           118
          ],
          [
           112,
           119,
           121,
           112,
           117,
           121,
           125,
           129,
           124,
           117,
           110,
           112
          ],
          [
           138,
           143,
           144,
           145,
           134,
           146,
           157,
           139,
           132,
           126,
           118,
           108
          ],
          [
           131,
           131,
           137,
           147,
           182,
           211,
           223,
           202,
           173,
           142,
           115,
           120
          ],
          [
           131,
           135,
           146,
           169,
           222,
           231,
           216,
           196,
           170,
           135,
           100,
           105
          ],
          [
           138,
           141,
           144,
           152,
           157,
           168,
           172,
           147,
           144,
           131,
           112,
           110
          ],
          [
           138,
           145,
           141,
           123,
           137,
           148,
           148,
           127,
           117,
           114,
           114,
           105
          ],
          [
           137,
           137,
           136,
           135,
           161,
           163,
           150,
           129,
           132,
           123,
           105,
           114
          ],
          [
           122,
           121,
           125,
           140,
           145,
           159,
           169,
           158,
           143,
           135,
           131,
           112
          ]
         ]
        },
        {
         "coloraxis": "coloraxis",
         "hovertemplate": "x: %{x}<br>y: %{y}<br>color: %{z}<extra></extra>",
         "name": "0",
         "type": "heatmap",
         "xaxis": "x5",
         "yaxis": "y5",
         "z": [
          [
           130,
           138,
           135,
           129,
           123,
           118,
           114,
           117,
           120,
           110,
           116,
           120
          ],
          [
           123,
           113,
           123,
           123,
           122,
           123,
           112,
           104,
           101,
           109,
           120,
           122
          ],
          [
           124,
           123,
           116,
           120,
           126,
           131,
           141,
           125,
           105,
           117,
           115,
           118
          ],
          [
           133,
           129,
           129,
           132,
           129,
           113,
           134,
           130,
           120,
           132,
           137,
           132
          ],
          [
           131,
           122,
           121,
           122,
           127,
           139,
           138,
           134,
           130,
           134,
           117,
           114
          ],
          [
           130,
           137,
           109,
           125,
           145,
           153,
           163,
           152,
           132,
           127,
           136,
           124
          ],
          [
           124,
           146,
           160,
           153,
           154,
           175,
           192,
           209,
           211,
           167,
           138,
           120
          ],
          [
           142,
           161,
           154,
           153,
           166,
           198,
           208,
           207,
           193,
           160,
           145,
           129
          ],
          [
           141,
           138,
           141,
           148,
           161,
           183,
           204,
           187,
           155,
           138,
           122,
           117
          ],
          [
           125,
           127,
           141,
           147,
           150,
           151,
           151,
           153,
           151,
           130,
           111,
           108
          ],
          [
           127,
           122,
           119,
           138,
           151,
           145,
           152,
           150,
           142,
           129,
           128,
           128
          ],
          [
           117,
           123,
           123,
           131,
           147,
           169,
           168,
           155,
           140,
           141,
           136,
           129
          ]
         ]
        },
        {
         "coloraxis": "coloraxis",
         "hovertemplate": "x: %{x}<br>y: %{y}<br>color: %{z}<extra></extra>",
         "name": "0",
         "type": "heatmap",
         "xaxis": "x6",
         "yaxis": "y6",
         "z": [
          [
           125,
           125,
           119,
           119,
           112,
           108,
           113,
           113,
           107,
           104,
           127,
           125
          ],
          [
           129,
           128,
           136,
           126,
           134,
           135,
           113,
           106,
           116,
           130,
           120,
           115
          ],
          [
           130,
           122,
           109,
           127,
           131,
           126,
           111,
           114,
           115,
           117,
           126,
           125
          ],
          [
           118,
           124,
           126,
           133,
           127,
           126,
           139,
           128,
           116,
           108,
           119,
           116
          ],
          [
           131,
           119,
           109,
           127,
           134,
           134,
           126,
           122,
           117,
           113,
           122,
           118
          ],
          [
           137,
           136,
           133,
           137,
           141,
           149,
           161,
           168,
           156,
           134,
           122,
           118
          ],
          [
           126,
           133,
           144,
           154,
           160,
           168,
           185,
           222,
           207,
           165,
           142,
           134
          ],
          [
           122,
           127,
           141,
           148,
           161,
           191,
           249,
           232,
           189,
           143,
           137,
           129
          ],
          [
           130,
           139,
           150,
           160,
           161,
           161,
           167,
           181,
           175,
           153,
           116,
           112
          ],
          [
           141,
           132,
           116,
           143,
           145,
           134,
           115,
           119,
           124,
           127,
           115,
           117
          ],
          [
           121,
           121,
           128,
           124,
           144,
           159,
           151,
           161,
           152,
           133,
           121,
           117
          ],
          [
           125,
           125,
           125,
           145,
           156,
           163,
           168,
           164,
           153,
           138,
           128,
           123
          ]
         ]
        },
        {
         "coloraxis": "coloraxis",
         "hovertemplate": "x: %{x}<br>y: %{y}<br>color: %{z}<extra></extra>",
         "name": "0",
         "type": "heatmap",
         "xaxis": "x7",
         "yaxis": "y7",
         "z": [
          [
           127,
           112,
           107,
           115,
           113,
           105,
           104,
           119,
           112,
           117,
           124,
           116
          ],
          [
           119,
           114,
           115,
           119,
           120,
           116,
           110,
           104,
           110,
           105,
           101,
           121
          ],
          [
           126,
           118,
           110,
           103,
           112,
           122,
           128,
           126,
           108,
           106,
           115,
           121
          ],
          [
           114,
           116,
           117,
           118,
           129,
           133,
           131,
           125,
           121,
           117,
           112,
           108
          ],
          [
           126,
           126,
           128,
           132,
           130,
           140,
           135,
           98,
           115,
           118,
           115,
           118
          ],
          [
           119,
           127,
           133,
           136,
           155,
           137,
           123,
           138,
           155,
           148,
           127,
           112
          ],
          [
           125,
           122,
           126,
           135,
           143,
           163,
           186,
           205,
           198,
           171,
           139,
           135
          ],
          [
           98,
           120,
           129,
           128,
           178,
           204,
           217,
           222,
           208,
           184,
           154,
           122
          ],
          [
           125,
           142,
           148,
           141,
           149,
           144,
           141,
           149,
           145,
           138,
           133,
           139
          ],
          [
           117,
           118,
           132,
           154,
           144,
           140,
           138,
           136,
           135,
           126,
           115,
           117
          ],
          [
           143,
           126,
           124,
           137,
           127,
           141,
           156,
           157,
           143,
           127,
           113,
           106
          ],
          [
           111,
           123,
           128,
           127,
           128,
           134,
           151,
           184,
           201,
           170,
           125,
           131
          ]
         ]
        },
        {
         "coloraxis": "coloraxis",
         "hovertemplate": "x: %{x}<br>y: %{y}<br>color: %{z}<extra></extra>",
         "name": "0",
         "type": "heatmap",
         "xaxis": "x8",
         "yaxis": "y8",
         "z": [
          [
           135,
           139,
           142,
           136,
           130,
           125,
           114,
           113,
           114,
           102,
           119,
           124
          ],
          [
           124,
           130,
           121,
           118,
           123,
           136,
           128,
           117,
           108,
           106,
           115,
           116
          ],
          [
           120,
           123,
           118,
           122,
           124,
           119,
           125,
           120,
           112,
           114,
           114,
           112
          ],
          [
           115,
           111,
           113,
           118,
           124,
           130,
           126,
           123,
           120,
           111,
           113,
           123
          ],
          [
           122,
           112,
           115,
           125,
           137,
           146,
           145,
           139,
           133,
           131,
           112,
           112
          ],
          [
           115,
           122,
           120,
           141,
           151,
           132,
           149,
           149,
           141,
           132,
           125,
           116
          ],
          [
           135,
           127,
           143,
           146,
           161,
           197,
           213,
           190,
           153,
           140,
           130,
           125
          ],
          [
           130,
           143,
           146,
           156,
           177,
           211,
           241,
           227,
           185,
           139,
           127,
           123
          ],
          [
           127,
           130,
           142,
           155,
           168,
           181,
           177,
           161,
           142,
           133,
           123,
           121
          ],
          [
           127,
           122,
           134,
           139,
           146,
           159,
           169,
           153,
           133,
           138,
           126,
           117
          ],
          [
           123,
           131,
           119,
           137,
           162,
           180,
           149,
           134,
           133,
           146,
           123,
           110
          ],
          [
           131,
           137,
           128,
           139,
           150,
           152,
           159,
           133,
           106,
           126,
           125,
           117
          ]
         ]
        }
       ],
       "layout": {
        "annotations": [
         {
          "font": {
           "color": "black",
           "size": 10
          },
          "showarrow": false,
          "text": "frame_0",
          "x": 0.05918367346938775,
          "xanchor": "center",
          "xref": "paper",
          "y": 1,
          "yanchor": "bottom",
          "yref": "paper"
         },
         {
          "font": {
           "color": "black",
           "size": 10
          },
          "showarrow": false,
          "text": "frame_1",
          "x": 0.2061224489795918,
          "xanchor": "center",
          "xref": "paper",
          "y": 1,
          "yanchor": "bottom",
          "yref": "paper"
         },
         {
          "font": {
           "color": "black",
           "size": 10
          },
          "showarrow": false,
          "text": "frame_2",
          "x": 0.3530612244897959,
          "xanchor": "center",
          "xref": "paper",
          "y": 1,
          "yanchor": "bottom",
          "yref": "paper"
         },
         {
          "font": {
           "color": "black",
           "size": 10
          },
          "showarrow": false,
          "text": "frame_3",
          "x": 0.49999999999999994,
          "xanchor": "center",
          "xref": "paper",
          "y": 1,
          "yanchor": "bottom",
          "yref": "paper"
         },
         {
          "font": {
           "color": "black",
           "size": 10
          },
          "showarrow": false,
          "text": "frame_4",
          "x": 0.6469387755102041,
          "xanchor": "center",
          "xref": "paper",
          "y": 1,
          "yanchor": "bottom",
          "yref": "paper"
         },
         {
          "font": {
           "color": "black",
           "size": 10
          },
          "showarrow": false,
          "text": "frame_5",
          "x": 0.7938775510204081,
          "xanchor": "center",
          "xref": "paper",
          "y": 1,
          "yanchor": "bottom",
          "yref": "paper"
         },
         {
          "font": {
           "color": "black",
           "size": 10
          },
          "showarrow": false,
          "text": "frame_6",
          "x": 0.9408163265306122,
          "xanchor": "center",
          "xref": "paper",
          "y": 1,
          "yanchor": "bottom",
          "yref": "paper"
         },
         {
          "font": {
           "color": "black",
           "size": 10
          },
          "showarrow": false,
          "text": "frame_7",
          "x": 0.05918367346938775,
          "xanchor": "center",
          "xref": "paper",
          "y": 0.375,
          "yanchor": "bottom",
          "yref": "paper"
         },
         {
          "font": {
           "color": "black",
           "size": 15
          },
          "showarrow": false,
          "text": "Frames",
          "x": 0.5,
          "xanchor": "center",
          "xref": "paper",
          "y": 0,
          "yanchor": "top",
          "yref": "paper",
          "yshift": -30
         },
         {
          "font": {
           "color": "black",
           "size": 15
          },
          "showarrow": false,
          "text": "Intensity",
          "textangle": -90,
          "x": 0,
          "xanchor": "right",
          "xref": "paper",
          "xshift": -40,
          "y": 0.5,
          "yanchor": "middle",
          "yref": "paper"
         }
        ],
        "autosize": true,
        "template": {
         "data": {
          "bar": [
           {
            "error_x": {
             "color": "#2a3f5f"
            },
            "error_y": {
             "color": "#2a3f5f"
            },
            "marker": {
             "line": {
              "color": "#E5ECF6",
              "width": 0.5
             },
             "pattern": {
              "fillmode": "overlay",
              "size": 10,
              "solidity": 0.2
             }
            },
            "type": "bar"
           }
          ],
          "barpolar": [
           {
            "marker": {
             "line": {
              "color": "#E5ECF6",
              "width": 0.5
             },
             "pattern": {
              "fillmode": "overlay",
              "size": 10,
              "solidity": 0.2
             }
            },
            "type": "barpolar"
           }
          ],
          "carpet": [
           {
            "aaxis": {
             "endlinecolor": "#2a3f5f",
             "gridcolor": "white",
             "linecolor": "white",
             "minorgridcolor": "white",
             "startlinecolor": "#2a3f5f"
            },
            "baxis": {
             "endlinecolor": "#2a3f5f",
             "gridcolor": "white",
             "linecolor": "white",
             "minorgridcolor": "white",
             "startlinecolor": "#2a3f5f"
            },
            "type": "carpet"
           }
          ],
          "choropleth": [
           {
            "colorbar": {
             "outlinewidth": 0,
             "ticks": ""
            },
            "type": "choropleth"
           }
          ],
          "contour": [
           {
            "colorbar": {
             "outlinewidth": 0,
             "ticks": ""
            },
            "colorscale": [
             [
              0,
              "#0d0887"
             ],
             [
              0.1111111111111111,
              "#46039f"
             ],
             [
              0.2222222222222222,
              "#7201a8"
             ],
             [
              0.3333333333333333,
              "#9c179e"
             ],
             [
              0.4444444444444444,
              "#bd3786"
             ],
             [
              0.5555555555555556,
              "#d8576b"
             ],
             [
              0.6666666666666666,
              "#ed7953"
             ],
             [
              0.7777777777777778,
              "#fb9f3a"
             ],
             [
              0.8888888888888888,
              "#fdca26"
             ],
             [
              1,
              "#f0f921"
             ]
            ],
            "type": "contour"
           }
          ],
          "contourcarpet": [
           {
            "colorbar": {
             "outlinewidth": 0,
             "ticks": ""
            },
            "type": "contourcarpet"
           }
          ],
          "heatmap": [
           {
            "colorbar": {
             "outlinewidth": 0,
             "ticks": ""
            },
            "colorscale": [
             [
              0,
              "#0d0887"
             ],
             [
              0.1111111111111111,
              "#46039f"
             ],
             [
              0.2222222222222222,
              "#7201a8"
             ],
             [
              0.3333333333333333,
              "#9c179e"
             ],
             [
              0.4444444444444444,
              "#bd3786"
             ],
             [
              0.5555555555555556,
              "#d8576b"
             ],
             [
              0.6666666666666666,
              "#ed7953"
             ],
             [
              0.7777777777777778,
              "#fb9f3a"
             ],
             [
              0.8888888888888888,
              "#fdca26"
             ],
             [
              1,
              "#f0f921"
             ]
            ],
            "type": "heatmap"
           }
          ],
          "heatmapgl": [
           {
            "colorbar": {
             "outlinewidth": 0,
             "ticks": ""
            },
            "colorscale": [
             [
              0,
              "#0d0887"
             ],
             [
              0.1111111111111111,
              "#46039f"
             ],
             [
              0.2222222222222222,
              "#7201a8"
             ],
             [
              0.3333333333333333,
              "#9c179e"
             ],
             [
              0.4444444444444444,
              "#bd3786"
             ],
             [
              0.5555555555555556,
              "#d8576b"
             ],
             [
              0.6666666666666666,
              "#ed7953"
             ],
             [
              0.7777777777777778,
              "#fb9f3a"
             ],
             [
              0.8888888888888888,
              "#fdca26"
             ],
             [
              1,
              "#f0f921"
             ]
            ],
            "type": "heatmapgl"
           }
          ],
          "histogram": [
           {
            "marker": {
             "pattern": {
              "fillmode": "overlay",
              "size": 10,
              "solidity": 0.2
             }
            },
            "type": "histogram"
           }
          ],
          "histogram2d": [
           {
            "colorbar": {
             "outlinewidth": 0,
             "ticks": ""
            },
            "colorscale": [
             [
              0,
              "#0d0887"
             ],
             [
              0.1111111111111111,
              "#46039f"
             ],
             [
              0.2222222222222222,
              "#7201a8"
             ],
             [
              0.3333333333333333,
              "#9c179e"
             ],
             [
              0.4444444444444444,
              "#bd3786"
             ],
             [
              0.5555555555555556,
              "#d8576b"
             ],
             [
              0.6666666666666666,
              "#ed7953"
             ],
             [
              0.7777777777777778,
              "#fb9f3a"
             ],
             [
              0.8888888888888888,
              "#fdca26"
             ],
             [
              1,
              "#f0f921"
             ]
            ],
            "type": "histogram2d"
           }
          ],
          "histogram2dcontour": [
           {
            "colorbar": {
             "outlinewidth": 0,
             "ticks": ""
            },
            "colorscale": [
             [
              0,
              "#0d0887"
             ],
             [
              0.1111111111111111,
              "#46039f"
             ],
             [
              0.2222222222222222,
              "#7201a8"
             ],
             [
              0.3333333333333333,
              "#9c179e"
             ],
             [
              0.4444444444444444,
              "#bd3786"
             ],
             [
              0.5555555555555556,
              "#d8576b"
             ],
             [
              0.6666666666666666,
              "#ed7953"
             ],
             [
              0.7777777777777778,
              "#fb9f3a"
             ],
             [
              0.8888888888888888,
              "#fdca26"
             ],
             [
              1,
              "#f0f921"
             ]
            ],
            "type": "histogram2dcontour"
           }
          ],
          "mesh3d": [
           {
            "colorbar": {
             "outlinewidth": 0,
             "ticks": ""
            },
            "type": "mesh3d"
           }
          ],
          "parcoords": [
           {
            "line": {
             "colorbar": {
              "outlinewidth": 0,
              "ticks": ""
             }
            },
            "type": "parcoords"
           }
          ],
          "pie": [
           {
            "automargin": true,
            "type": "pie"
           }
          ],
          "scatter": [
           {
            "fillpattern": {
             "fillmode": "overlay",
             "size": 10,
             "solidity": 0.2
            },
            "type": "scatter"
           }
          ],
          "scatter3d": [
           {
            "line": {
             "colorbar": {
              "outlinewidth": 0,
              "ticks": ""
             }
            },
            "marker": {
             "colorbar": {
              "outlinewidth": 0,
              "ticks": ""
             }
            },
            "type": "scatter3d"
           }
          ],
          "scattercarpet": [
           {
            "marker": {
             "colorbar": {
              "outlinewidth": 0,
              "ticks": ""
             }
            },
            "type": "scattercarpet"
           }
          ],
          "scattergeo": [
           {
            "marker": {
             "colorbar": {
              "outlinewidth": 0,
              "ticks": ""
             }
            },
            "type": "scattergeo"
           }
          ],
          "scattergl": [
           {
            "marker": {
             "colorbar": {
              "outlinewidth": 0,
              "ticks": ""
             }
            },
            "type": "scattergl"
           }
          ],
          "scattermapbox": [
           {
            "marker": {
             "colorbar": {
              "outlinewidth": 0,
              "ticks": ""
             }
            },
            "type": "scattermapbox"
           }
          ],
          "scatterpolar": [
           {
            "marker": {
             "colorbar": {
              "outlinewidth": 0,
              "ticks": ""
             }
            },
            "type": "scatterpolar"
           }
          ],
          "scatterpolargl": [
           {
            "marker": {
             "colorbar": {
              "outlinewidth": 0,
              "ticks": ""
             }
            },
            "type": "scatterpolargl"
           }
          ],
          "scatterternary": [
           {
            "marker": {
             "colorbar": {
              "outlinewidth": 0,
              "ticks": ""
             }
            },
            "type": "scatterternary"
           }
          ],
          "surface": [
           {
            "colorbar": {
             "outlinewidth": 0,
             "ticks": ""
            },
            "colorscale": [
             [
              0,
              "#0d0887"
             ],
             [
              0.1111111111111111,
              "#46039f"
             ],
             [
              0.2222222222222222,
              "#7201a8"
             ],
             [
              0.3333333333333333,
              "#9c179e"
             ],
             [
              0.4444444444444444,
              "#bd3786"
             ],
             [
              0.5555555555555556,
              "#d8576b"
             ],
             [
              0.6666666666666666,
              "#ed7953"
             ],
             [
              0.7777777777777778,
              "#fb9f3a"
             ],
             [
              0.8888888888888888,
              "#fdca26"
             ],
             [
              1,
              "#f0f921"
             ]
            ],
            "type": "surface"
           }
          ],
          "table": [
           {
            "cells": {
             "fill": {
              "color": "#EBF0F8"
             },
             "line": {
              "color": "white"
             }
            },
            "header": {
             "fill": {
              "color": "#C8D4E3"
             },
             "line": {
              "color": "white"
             }
            },
            "type": "table"
           }
          ]
         },
         "layout": {
          "annotationdefaults": {
           "arrowcolor": "#2a3f5f",
           "arrowhead": 0,
           "arrowwidth": 1
          },
          "autotypenumbers": "strict",
          "coloraxis": {
           "colorbar": {
            "outlinewidth": 0,
            "ticks": ""
           }
          },
          "colorscale": {
           "diverging": [
            [
             0,
             "#8e0152"
            ],
            [
             0.1,
             "#c51b7d"
            ],
            [
             0.2,
             "#de77ae"
            ],
            [
             0.3,
             "#f1b6da"
            ],
            [
             0.4,
             "#fde0ef"
            ],
            [
             0.5,
             "#f7f7f7"
            ],
            [
             0.6,
             "#e6f5d0"
            ],
            [
             0.7,
             "#b8e186"
            ],
            [
             0.8,
             "#7fbc41"
            ],
            [
             0.9,
             "#4d9221"
            ],
            [
             1,
             "#276419"
            ]
           ],
           "sequential": [
            [
             0,
             "#0d0887"
            ],
            [
             0.1111111111111111,
             "#46039f"
            ],
            [
             0.2222222222222222,
             "#7201a8"
            ],
            [
             0.3333333333333333,
             "#9c179e"
            ],
            [
             0.4444444444444444,
             "#bd3786"
            ],
            [
             0.5555555555555556,
             "#d8576b"
            ],
            [
             0.6666666666666666,
             "#ed7953"
            ],
            [
             0.7777777777777778,
             "#fb9f3a"
            ],
            [
             0.8888888888888888,
             "#fdca26"
            ],
            [
             1,
             "#f0f921"
            ]
           ],
           "sequentialminus": [
            [
             0,
             "#0d0887"
            ],
            [
             0.1111111111111111,
             "#46039f"
            ],
            [
             0.2222222222222222,
             "#7201a8"
            ],
            [
             0.3333333333333333,
             "#9c179e"
            ],
            [
             0.4444444444444444,
             "#bd3786"
            ],
            [
             0.5555555555555556,
             "#d8576b"
            ],
            [
             0.6666666666666666,
             "#ed7953"
            ],
            [
             0.7777777777777778,
             "#fb9f3a"
            ],
            [
             0.8888888888888888,
             "#fdca26"
            ],
            [
             1,
             "#f0f921"
            ]
           ]
          },
          "colorway": [
           "#636efa",
           "#EF553B",
           "#00cc96",
           "#ab63fa",
           "#FFA15A",
           "#19d3f3",
           "#FF6692",
           "#B6E880",
           "#FF97FF",
           "#FECB52"
          ],
          "font": {
           "color": "#2a3f5f"
          },
          "geo": {
           "bgcolor": "white",
           "lakecolor": "white",
           "landcolor": "#E5ECF6",
           "showlakes": true,
           "showland": true,
           "subunitcolor": "white"
          },
          "hoverlabel": {
           "align": "left"
          },
          "hovermode": "closest",
          "mapbox": {
           "style": "light"
          },
          "paper_bgcolor": "white",
          "plot_bgcolor": "#E5ECF6",
          "polar": {
           "angularaxis": {
            "gridcolor": "white",
            "linecolor": "white",
            "ticks": ""
           },
           "bgcolor": "#E5ECF6",
           "radialaxis": {
            "gridcolor": "white",
            "linecolor": "white",
            "ticks": ""
           }
          },
          "scene": {
           "xaxis": {
            "backgroundcolor": "#E5ECF6",
            "gridcolor": "white",
            "gridwidth": 2,
            "linecolor": "white",
            "showbackground": true,
            "ticks": "",
            "zerolinecolor": "white"
           },
           "yaxis": {
            "backgroundcolor": "#E5ECF6",
            "gridcolor": "white",
            "gridwidth": 2,
            "linecolor": "white",
            "showbackground": true,
            "ticks": "",
            "zerolinecolor": "white"
           },
           "zaxis": {
            "backgroundcolor": "#E5ECF6",
            "gridcolor": "white",
            "gridwidth": 2,
            "linecolor": "white",
            "showbackground": true,
            "ticks": "",
            "zerolinecolor": "white"
           }
          },
          "shapedefaults": {
           "line": {
            "color": "#2a3f5f"
           }
          },
          "ternary": {
           "aaxis": {
            "gridcolor": "white",
            "linecolor": "white",
            "ticks": ""
           },
           "baxis": {
            "gridcolor": "white",
            "linecolor": "white",
            "ticks": ""
           },
           "bgcolor": "#E5ECF6",
           "caxis": {
            "gridcolor": "white",
            "linecolor": "white",
            "ticks": ""
           }
          },
          "title": {
           "x": 0.05
          },
          "xaxis": {
           "automargin": true,
           "gridcolor": "white",
           "linecolor": "white",
           "ticks": "",
           "title": {
            "standoff": 15
           },
           "zerolinecolor": "white",
           "zerolinewidth": 2
          },
          "yaxis": {
           "automargin": true,
           "gridcolor": "white",
           "linecolor": "white",
           "ticks": "",
           "title": {
            "standoff": 15
           },
           "zerolinecolor": "white",
           "zerolinewidth": 2
          }
         }
        },
        "xaxis": {
         "anchor": "y",
         "autorange": true,
         "domain": [
          0,
          0.1183673469387755
         ],
         "range": [
          -0.5,
          11.5
         ],
         "showticklabels": false
        },
        "xaxis10": {
         "anchor": "y10",
         "domain": [
          0.29387755102040813,
          0.4122448979591836
         ]
        },
        "xaxis11": {
         "anchor": "y11",
         "domain": [
          0.4408163265306122,
          0.5591836734693877
         ]
        },
        "xaxis12": {
         "anchor": "y12",
         "domain": [
          0.5877551020408163,
          0.7061224489795918
         ]
        },
        "xaxis13": {
         "anchor": "y13",
         "domain": [
          0.7346938775510204,
          0.8530612244897959
         ]
        },
        "xaxis14": {
         "anchor": "y14",
         "domain": [
          0.8816326530612244,
          0.9999999999999999
         ]
        },
        "xaxis2": {
         "anchor": "y2",
         "autorange": true,
         "domain": [
          0.14693877551020407,
          0.26530612244897955
         ],
         "range": [
          -0.5,
          11.5
         ],
         "showticklabels": false
        },
        "xaxis3": {
         "anchor": "y3",
         "autorange": true,
         "domain": [
          0.29387755102040813,
          0.4122448979591836
         ],
         "range": [
          -0.5,
          11.5
         ],
         "showticklabels": false
        },
        "xaxis4": {
         "anchor": "y4",
         "autorange": true,
         "domain": [
          0.4408163265306122,
          0.5591836734693877
         ],
         "range": [
          -0.5,
          11.5
         ],
         "showticklabels": false
        },
        "xaxis5": {
         "anchor": "y5",
         "autorange": true,
         "domain": [
          0.5877551020408163,
          0.7061224489795918
         ],
         "range": [
          -0.5,
          11.5
         ],
         "showticklabels": false
        },
        "xaxis6": {
         "anchor": "y6",
         "autorange": true,
         "domain": [
          0.7346938775510204,
          0.8530612244897959
         ],
         "range": [
          -0.5,
          11.5
         ],
         "showticklabels": false
        },
        "xaxis7": {
         "anchor": "y7",
         "autorange": true,
         "domain": [
          0.8816326530612244,
          0.9999999999999999
         ],
         "range": [
          -0.5,
          11.5
         ],
         "showticklabels": false
        },
        "xaxis8": {
         "anchor": "y8",
         "autorange": true,
         "domain": [
          0,
          0.1183673469387755
         ],
         "range": [
          -0.5,
          11.5
         ],
         "showticklabels": false
        },
        "xaxis9": {
         "anchor": "y9",
         "domain": [
          0.14693877551020407,
          0.26530612244897955
         ]
        },
        "yaxis": {
         "anchor": "x",
         "autorange": true,
         "domain": [
          0.625,
          1
         ],
         "range": [
          -0.5,
          11.5
         ],
         "showticklabels": false
        },
        "yaxis10": {
         "anchor": "x10",
         "domain": [
          0,
          0.375
         ]
        },
        "yaxis11": {
         "anchor": "x11",
         "domain": [
          0,
          0.375
         ]
        },
        "yaxis12": {
         "anchor": "x12",
         "domain": [
          0,
          0.375
         ]
        },
        "yaxis13": {
         "anchor": "x13",
         "domain": [
          0,
          0.375
         ]
        },
        "yaxis14": {
         "anchor": "x14",
         "domain": [
          0,
          0.375
         ]
        },
        "yaxis2": {
         "anchor": "x2",
         "autorange": true,
         "domain": [
          0.625,
          1
         ],
         "range": [
          -0.5,
          11.5
         ],
         "showticklabels": false
        },
        "yaxis3": {
         "anchor": "x3",
         "autorange": true,
         "domain": [
          0.625,
          1
         ],
         "range": [
          -0.5,
          11.5
         ],
         "showticklabels": false
        },
        "yaxis4": {
         "anchor": "x4",
         "autorange": true,
         "domain": [
          0.625,
          1
         ],
         "range": [
          -0.5,
          11.5
         ],
         "showticklabels": false
        },
        "yaxis5": {
         "anchor": "x5",
         "autorange": true,
         "domain": [
          0.625,
          1
         ],
         "range": [
          -0.5,
          11.5
         ],
         "showticklabels": false
        },
        "yaxis6": {
         "anchor": "x6",
         "autorange": true,
         "domain": [
          0.625,
          1
         ],
         "range": [
          -0.5,
          11.5
         ],
         "showticklabels": false
        },
        "yaxis7": {
         "anchor": "x7",
         "autorange": true,
         "domain": [
          0.625,
          1
         ],
         "range": [
          -0.5,
          11.5
         ],
         "showticklabels": false
        },
        "yaxis8": {
         "anchor": "x8",
         "autorange": true,
         "domain": [
          0,
          0.375
         ],
         "range": [
          -0.5,
          11.5
         ],
         "showticklabels": false
        },
        "yaxis9": {
         "anchor": "x9",
         "domain": [
          0,
          0.375
         ]
        }
       }
      },
      "image/png": "[encoded data removed]",
      "text/html": [
       "<div>                            <div id=\"8e26316d-bb02-4787-9821-9082d26a39cc\" class=\"plotly-graph-div\" style=\"height:525px; width:100%;\"></div>            <script type=\"text/javascript\">                require([\"plotly\"], function(Plotly) {                    window.PLOTLYENV=window.PLOTLYENV || {};                                    if (document.getElementById(\"8e26316d-bb02-4787-9821-9082d26a39cc\")) {                    Plotly.newPlot(                        \"8e26316d-bb02-4787-9821-9082d26a39cc\",                        [{\"coloraxis\":\"coloraxis\",\"hovertemplate\":\"x: %{x}\\u003cbr\\u003ey: %{y}\\u003cbr\\u003ecolor: %{z}\\u003cextra\\u003e\\u003c\\u002fextra\\u003e\",\"name\":\"0\",\"xaxis\":\"x\",\"yaxis\":\"y\",\"z\":[[129,129,124,118,112,107,101,103,112,126,120,113],[122,125,116,115,116,118,108,103,102,108,108,108],[101,108,110,111,113,119,123,113,105,122,116,117],[105,108,119,112,110,126,113,106,105,112,123,121],[128,126,124,127,127,123,144,141,126,120,126,121],[116,123,121,124,126,125,143,134,118,125,127,120],[126,132,127,145,158,154,151,145,140,140,136,122],[124,130,121,147,163,153,216,221,196,179,144,129],[125,135,137,140,146,155,156,159,158,148,148,141],[132,152,147,133,129,145,146,141,136,136,132,125],[125,139,134,128,124,123,134,144,145,117,118,115],[124,135,140,139,139,141,145,142,138,145,126,116]],\"type\":\"heatmap\"},{\"coloraxis\":\"coloraxis\",\"hovertemplate\":\"x: %{x}\\u003cbr\\u003ey: %{y}\\u003cbr\\u003ecolor: %{z}\\u003cextra\\u003e\\u003c\\u002fextra\\u003e\",\"name\":\"0\",\"xaxis\":\"x2\",\"yaxis\":\"y2\",\"z\":[[124,114,114,120,129,108,108,118,122,130,127,115],[115,109,110,113,116,116,117,119,122,121,116,109],[115,119,119,119,118,119,125,131,130,117,113,118],[116,124,115,113,129,119,123,130,122,126,121,108],[117,118,123,127,126,134,140,138,117,116,122,131],[125,112,122,143,170,163,177,187,152,128,119,121],[136,144,143,151,178,206,212,196,151,136,122,109],[142,136,140,146,152,163,205,233,167,140,124,113],[128,129,139,148,151,145,150,154,136,130,125,119],[156,143,124,111,110,121,126,129,135,126,124,128],[130,146,126,114,128,146,156,160,163,144,126,114],[123,125,132,139,142,163,172,164,129,124,120,113]],\"type\":\"heatmap\"},{\"coloraxis\":\"coloraxis\",\"hovertemplate\":\"x: %{x}\\u003cbr\\u003ey: %{y}\\u003cbr\\u003ecolor: %{z}\\u003cextra\\u003e\\u003c\\u002fextra\\u003e\",\"name\":\"0\",\"xaxis\":\"x3\",\"yaxis\":\"y3\",\"z\":[[108,116,124,125,118,116,115,103,105,114,128,129],[123,118,113,112,111,108,107,117,114,112,115,127],[118,120,123,124,127,121,110,102,109,110,105,119],[124,119,118,130,119,114,115,120,115,114,119,127],[129,132,134,132,128,139,148,126,119,120,124,114],[129,141,152,147,160,166,163,145,121,112,121,129],[118,129,136,132,186,219,227,206,156,122,110,118],[142,152,166,182,184,202,208,152,132,121,117,115],[158,159,150,138,144,150,156,158,133,118,117,118],[130,135,139,130,143,141,133,136,120,107,101,115],[137,141,143,148,169,166,154,150,136,117,98,110],[120,127,132,133,150,151,147,157,139,117,99,110]],\"type\":\"heatmap\"},{\"coloraxis\":\"coloraxis\",\"hovertemplate\":\"x: %{x}\\u003cbr\\u003ey: %{y}\\u003cbr\\u003ecolor: %{z}\\u003cextra\\u003e\\u003c\\u002fextra\\u003e\",\"name\":\"0\",\"xaxis\":\"x4\",\"yaxis\":\"y4\",\"z\":[[122,118,120,128,117,115,116,116,117,115,111,109],[101,112,121,119,120,114,110,120,120,114,109,125],[123,124,127,128,133,119,107,124,121,120,121,119],[131,120,121,146,157,143,123,119,112,115,124,118],[112,119,121,112,117,121,125,129,124,117,110,112],[138,143,144,145,134,146,157,139,132,126,118,108],[131,131,137,147,182,211,223,202,173,142,115,120],[131,135,146,169,222,231,216,196,170,135,100,105],[138,141,144,152,157,168,172,147,144,131,112,110],[138,145,141,123,137,148,148,127,117,114,114,105],[137,137,136,135,161,163,150,129,132,123,105,114],[122,121,125,140,145,159,169,158,143,135,131,112]],\"type\":\"heatmap\"},{\"coloraxis\":\"coloraxis\",\"hovertemplate\":\"x: %{x}\\u003cbr\\u003ey: %{y}\\u003cbr\\u003ecolor: %{z}\\u003cextra\\u003e\\u003c\\u002fextra\\u003e\",\"name\":\"0\",\"xaxis\":\"x5\",\"yaxis\":\"y5\",\"z\":[[130,138,135,129,123,118,114,117,120,110,116,120],[123,113,123,123,122,123,112,104,101,109,120,122],[124,123,116,120,126,131,141,125,105,117,115,118],[133,129,129,132,129,113,134,130,120,132,137,132],[131,122,121,122,127,139,138,134,130,134,117,114],[130,137,109,125,145,153,163,152,132,127,136,124],[124,146,160,153,154,175,192,209,211,167,138,120],[142,161,154,153,166,198,208,207,193,160,145,129],[141,138,141,148,161,183,204,187,155,138,122,117],[125,127,141,147,150,151,151,153,151,130,111,108],[127,122,119,138,151,145,152,150,142,129,128,128],[117,123,123,131,147,169,168,155,140,141,136,129]],\"type\":\"heatmap\"},{\"coloraxis\":\"coloraxis\",\"hovertemplate\":\"x: %{x}\\u003cbr\\u003ey: %{y}\\u003cbr\\u003ecolor: %{z}\\u003cextra\\u003e\\u003c\\u002fextra\\u003e\",\"name\":\"0\",\"xaxis\":\"x6\",\"yaxis\":\"y6\",\"z\":[[125,125,119,119,112,108,113,113,107,104,127,125],[129,128,136,126,134,135,113,106,116,130,120,115],[130,122,109,127,131,126,111,114,115,117,126,125],[118,124,126,133,127,126,139,128,116,108,119,116],[131,119,109,127,134,134,126,122,117,113,122,118],[137,136,133,137,141,149,161,168,156,134,122,118],[126,133,144,154,160,168,185,222,207,165,142,134],[122,127,141,148,161,191,249,232,189,143,137,129],[130,139,150,160,161,161,167,181,175,153,116,112],[141,132,116,143,145,134,115,119,124,127,115,117],[121,121,128,124,144,159,151,161,152,133,121,117],[125,125,125,145,156,163,168,164,153,138,128,123]],\"type\":\"heatmap\"},{\"coloraxis\":\"coloraxis\",\"hovertemplate\":\"x: %{x}\\u003cbr\\u003ey: %{y}\\u003cbr\\u003ecolor: %{z}\\u003cextra\\u003e\\u003c\\u002fextra\\u003e\",\"name\":\"0\",\"xaxis\":\"x7\",\"yaxis\":\"y7\",\"z\":[[127,112,107,115,113,105,104,119,112,117,124,116],[119,114,115,119,120,116,110,104,110,105,101,121],[126,118,110,103,112,122,128,126,108,106,115,121],[114,116,117,118,129,133,131,125,121,117,112,108],[126,126,128,132,130,140,135,98,115,118,115,118],[119,127,133,136,155,137,123,138,155,148,127,112],[125,122,126,135,143,163,186,205,198,171,139,135],[98,120,129,128,178,204,217,222,208,184,154,122],[125,142,148,141,149,144,141,149,145,138,133,139],[117,118,132,154,144,140,138,136,135,126,115,117],[143,126,124,137,127,141,156,157,143,127,113,106],[111,123,128,127,128,134,151,184,201,170,125,131]],\"type\":\"heatmap\"},{\"coloraxis\":\"coloraxis\",\"hovertemplate\":\"x: %{x}\\u003cbr\\u003ey: %{y}\\u003cbr\\u003ecolor: %{z}\\u003cextra\\u003e\\u003c\\u002fextra\\u003e\",\"name\":\"0\",\"xaxis\":\"x8\",\"yaxis\":\"y8\",\"z\":[[135,139,142,136,130,125,114,113,114,102,119,124],[124,130,121,118,123,136,128,117,108,106,115,116],[120,123,118,122,124,119,125,120,112,114,114,112],[115,111,113,118,124,130,126,123,120,111,113,123],[122,112,115,125,137,146,145,139,133,131,112,112],[115,122,120,141,151,132,149,149,141,132,125,116],[135,127,143,146,161,197,213,190,153,140,130,125],[130,143,146,156,177,211,241,227,185,139,127,123],[127,130,142,155,168,181,177,161,142,133,123,121],[127,122,134,139,146,159,169,153,133,138,126,117],[123,131,119,137,162,180,149,134,133,146,123,110],[131,137,128,139,150,152,159,133,106,126,125,117]],\"type\":\"heatmap\"}],                        {\"template\":{\"data\":{\"histogram2dcontour\":[{\"type\":\"histogram2dcontour\",\"colorbar\":{\"outlinewidth\":0,\"ticks\":\"\"},\"colorscale\":[[0.0,\"#0d0887\"],[0.1111111111111111,\"#46039f\"],[0.2222222222222222,\"#7201a8\"],[0.3333333333333333,\"#9c179e\"],[0.4444444444444444,\"#bd3786\"],[0.5555555555555556,\"#d8576b\"],[0.6666666666666666,\"#ed7953\"],[0.7777777777777778,\"#fb9f3a\"],[0.8888888888888888,\"#fdca26\"],[1.0,\"#f0f921\"]]}],\"choropleth\":[{\"type\":\"choropleth\",\"colorbar\":{\"outlinewidth\":0,\"ticks\":\"\"}}],\"histogram2d\":[{\"type\":\"histogram2d\",\"colorbar\":{\"outlinewidth\":0,\"ticks\":\"\"},\"colorscale\":[[0.0,\"#0d0887\"],[0.1111111111111111,\"#46039f\"],[0.2222222222222222,\"#7201a8\"],[0.3333333333333333,\"#9c179e\"],[0.4444444444444444,\"#bd3786\"],[0.5555555555555556,\"#d8576b\"],[0.6666666666666666,\"#ed7953\"],[0.7777777777777778,\"#fb9f3a\"],[0.8888888888888888,\"#fdca26\"],[1.0,\"#f0f921\"]]}],\"heatmap\":[{\"type\":\"heatmap\",\"colorbar\":{\"outlinewidth\":0,\"ticks\":\"\"},\"colorscale\":[[0.0,\"#0d0887\"],[0.1111111111111111,\"#46039f\"],[0.2222222222222222,\"#7201a8\"],[0.3333333333333333,\"#9c179e\"],[0.4444444444444444,\"#bd3786\"],[0.5555555555555556,\"#d8576b\"],[0.6666666666666666,\"#ed7953\"],[0.7777777777777778,\"#fb9f3a\"],[0.8888888888888888,\"#fdca26\"],[1.0,\"#f0f921\"]]}],\"heatmapgl\":[{\"type\":\"heatmapgl\",\"colorbar\":{\"outlinewidth\":0,\"ticks\":\"\"},\"colorscale\":[[0.0,\"#0d0887\"],[0.1111111111111111,\"#46039f\"],[0.2222222222222222,\"#7201a8\"],[0.3333333333333333,\"#9c179e\"],[0.4444444444444444,\"#bd3786\"],[0.5555555555555556,\"#d8576b\"],[0.6666666666666666,\"#ed7953\"],[0.7777777777777778,\"#fb9f3a\"],[0.8888888888888888,\"#fdca26\"],[1.0,\"#f0f921\"]]}],\"contourcarpet\":[{\"type\":\"contourcarpet\",\"colorbar\":{\"outlinewidth\":0,\"ticks\":\"\"}}],\"contour\":[{\"type\":\"contour\",\"colorbar\":{\"outlinewidth\":0,\"ticks\":\"\"},\"colorscale\":[[0.0,\"#0d0887\"],[0.1111111111111111,\"#46039f\"],[0.2222222222222222,\"#7201a8\"],[0.3333333333333333,\"#9c179e\"],[0.4444444444444444,\"#bd3786\"],[0.5555555555555556,\"#d8576b\"],[0.6666666666666666,\"#ed7953\"],[0.7777777777777778,\"#fb9f3a\"],[0.8888888888888888,\"#fdca26\"],[1.0,\"#f0f921\"]]}],\"surface\":[{\"type\":\"surface\",\"colorbar\":{\"outlinewidth\":0,\"ticks\":\"\"},\"colorscale\":[[0.0,\"#0d0887\"],[0.1111111111111111,\"#46039f\"],[0.2222222222222222,\"#7201a8\"],[0.3333333333333333,\"#9c179e\"],[0.4444444444444444,\"#bd3786\"],[0.5555555555555556,\"#d8576b\"],[0.6666666666666666,\"#ed7953\"],[0.7777777777777778,\"#fb9f3a\"],[0.8888888888888888,\"#fdca26\"],[1.0,\"#f0f921\"]]}],\"mesh3d\":[{\"type\":\"mesh3d\",\"colorbar\":{\"outlinewidth\":0,\"ticks\":\"\"}}],\"scatter\":[{\"fillpattern\":{\"fillmode\":\"overlay\",\"size\":10,\"solidity\":0.2},\"type\":\"scatter\"}],\"parcoords\":[{\"type\":\"parcoords\",\"line\":{\"colorbar\":{\"outlinewidth\":0,\"ticks\":\"\"}}}],\"scatterpolargl\":[{\"type\":\"scatterpolargl\",\"marker\":{\"colorbar\":{\"outlinewidth\":0,\"ticks\":\"\"}}}],\"bar\":[{\"error_x\":{\"color\":\"#2a3f5f\"},\"error_y\":{\"color\":\"#2a3f5f\"},\"marker\":{\"line\":{\"color\":\"#E5ECF6\",\"width\":0.5},\"pattern\":{\"fillmode\":\"overlay\",\"size\":10,\"solidity\":0.2}},\"type\":\"bar\"}],\"scattergeo\":[{\"type\":\"scattergeo\",\"marker\":{\"colorbar\":{\"outlinewidth\":0,\"ticks\":\"\"}}}],\"scatterpolar\":[{\"type\":\"scatterpolar\",\"marker\":{\"colorbar\":{\"outlinewidth\":0,\"ticks\":\"\"}}}],\"histogram\":[{\"marker\":{\"pattern\":{\"fillmode\":\"overlay\",\"size\":10,\"solidity\":0.2}},\"type\":\"histogram\"}],\"scattergl\":[{\"type\":\"scattergl\",\"marker\":{\"colorbar\":{\"outlinewidth\":0,\"ticks\":\"\"}}}],\"scatter3d\":[{\"type\":\"scatter3d\",\"line\":{\"colorbar\":{\"outlinewidth\":0,\"ticks\":\"\"}},\"marker\":{\"colorbar\":{\"outlinewidth\":0,\"ticks\":\"\"}}}],\"scattermapbox\":[{\"type\":\"scattermapbox\",\"marker\":{\"colorbar\":{\"outlinewidth\":0,\"ticks\":\"\"}}}],\"scatterternary\":[{\"type\":\"scatterternary\",\"marker\":{\"colorbar\":{\"outlinewidth\":0,\"ticks\":\"\"}}}],\"scattercarpet\":[{\"type\":\"scattercarpet\",\"marker\":{\"colorbar\":{\"outlinewidth\":0,\"ticks\":\"\"}}}],\"carpet\":[{\"aaxis\":{\"endlinecolor\":\"#2a3f5f\",\"gridcolor\":\"white\",\"linecolor\":\"white\",\"minorgridcolor\":\"white\",\"startlinecolor\":\"#2a3f5f\"},\"baxis\":{\"endlinecolor\":\"#2a3f5f\",\"gridcolor\":\"white\",\"linecolor\":\"white\",\"minorgridcolor\":\"white\",\"startlinecolor\":\"#2a3f5f\"},\"type\":\"carpet\"}],\"table\":[{\"cells\":{\"fill\":{\"color\":\"#EBF0F8\"},\"line\":{\"color\":\"white\"}},\"header\":{\"fill\":{\"color\":\"#C8D4E3\"},\"line\":{\"color\":\"white\"}},\"type\":\"table\"}],\"barpolar\":[{\"marker\":{\"line\":{\"color\":\"#E5ECF6\",\"width\":0.5},\"pattern\":{\"fillmode\":\"overlay\",\"size\":10,\"solidity\":0.2}},\"type\":\"barpolar\"}],\"pie\":[{\"automargin\":true,\"type\":\"pie\"}]},\"layout\":{\"autotypenumbers\":\"strict\",\"colorway\":[\"#636efa\",\"#EF553B\",\"#00cc96\",\"#ab63fa\",\"#FFA15A\",\"#19d3f3\",\"#FF6692\",\"#B6E880\",\"#FF97FF\",\"#FECB52\"],\"font\":{\"color\":\"#2a3f5f\"},\"hovermode\":\"closest\",\"hoverlabel\":{\"align\":\"left\"},\"paper_bgcolor\":\"white\",\"plot_bgcolor\":\"#E5ECF6\",\"polar\":{\"bgcolor\":\"#E5ECF6\",\"angularaxis\":{\"gridcolor\":\"white\",\"linecolor\":\"white\",\"ticks\":\"\"},\"radialaxis\":{\"gridcolor\":\"white\",\"linecolor\":\"white\",\"ticks\":\"\"}},\"ternary\":{\"bgcolor\":\"#E5ECF6\",\"aaxis\":{\"gridcolor\":\"white\",\"linecolor\":\"white\",\"ticks\":\"\"},\"baxis\":{\"gridcolor\":\"white\",\"linecolor\":\"white\",\"ticks\":\"\"},\"caxis\":{\"gridcolor\":\"white\",\"linecolor\":\"white\",\"ticks\":\"\"}},\"coloraxis\":{\"colorbar\":{\"outlinewidth\":0,\"ticks\":\"\"}},\"colorscale\":{\"sequential\":[[0.0,\"#0d0887\"],[0.1111111111111111,\"#46039f\"],[0.2222222222222222,\"#7201a8\"],[0.3333333333333333,\"#9c179e\"],[0.4444444444444444,\"#bd3786\"],[0.5555555555555556,\"#d8576b\"],[0.6666666666666666,\"#ed7953\"],[0.7777777777777778,\"#fb9f3a\"],[0.8888888888888888,\"#fdca26\"],[1.0,\"#f0f921\"]],\"sequentialminus\":[[0.0,\"#0d0887\"],[0.1111111111111111,\"#46039f\"],[0.2222222222222222,\"#7201a8\"],[0.3333333333333333,\"#9c179e\"],[0.4444444444444444,\"#bd3786\"],[0.5555555555555556,\"#d8576b\"],[0.6666666666666666,\"#ed7953\"],[0.7777777777777778,\"#fb9f3a\"],[0.8888888888888888,\"#fdca26\"],[1.0,\"#f0f921\"]],\"diverging\":[[0,\"#8e0152\"],[0.1,\"#c51b7d\"],[0.2,\"#de77ae\"],[0.3,\"#f1b6da\"],[0.4,\"#fde0ef\"],[0.5,\"#f7f7f7\"],[0.6,\"#e6f5d0\"],[0.7,\"#b8e186\"],[0.8,\"#7fbc41\"],[0.9,\"#4d9221\"],[1,\"#276419\"]]},\"xaxis\":{\"gridcolor\":\"white\",\"linecolor\":\"white\",\"ticks\":\"\",\"title\":{\"standoff\":15},\"zerolinecolor\":\"white\",\"automargin\":true,\"zerolinewidth\":2},\"yaxis\":{\"gridcolor\":\"white\",\"linecolor\":\"white\",\"ticks\":\"\",\"title\":{\"standoff\":15},\"zerolinecolor\":\"white\",\"automargin\":true,\"zerolinewidth\":2},\"scene\":{\"xaxis\":{\"backgroundcolor\":\"#E5ECF6\",\"gridcolor\":\"white\",\"linecolor\":\"white\",\"showbackground\":true,\"ticks\":\"\",\"zerolinecolor\":\"white\",\"gridwidth\":2},\"yaxis\":{\"backgroundcolor\":\"#E5ECF6\",\"gridcolor\":\"white\",\"linecolor\":\"white\",\"showbackground\":true,\"ticks\":\"\",\"zerolinecolor\":\"white\",\"gridwidth\":2},\"zaxis\":{\"backgroundcolor\":\"#E5ECF6\",\"gridcolor\":\"white\",\"linecolor\":\"white\",\"showbackground\":true,\"ticks\":\"\",\"zerolinecolor\":\"white\",\"gridwidth\":2}},\"shapedefaults\":{\"line\":{\"color\":\"#2a3f5f\"}},\"annotationdefaults\":{\"arrowcolor\":\"#2a3f5f\",\"arrowhead\":0,\"arrowwidth\":1},\"geo\":{\"bgcolor\":\"white\",\"landcolor\":\"#E5ECF6\",\"subunitcolor\":\"white\",\"showland\":true,\"showlakes\":true,\"lakecolor\":\"white\"},\"title\":{\"x\":0.05},\"mapbox\":{\"style\":\"light\"}}},\"xaxis\":{\"anchor\":\"y\",\"domain\":[0.0,0.1183673469387755],\"showticklabels\":false},\"yaxis\":{\"anchor\":\"x\",\"domain\":[0.625,1.0],\"showticklabels\":false},\"xaxis2\":{\"anchor\":\"y2\",\"domain\":[0.14693877551020407,0.26530612244897955],\"showticklabels\":false},\"yaxis2\":{\"anchor\":\"x2\",\"domain\":[0.625,1.0],\"showticklabels\":false},\"xaxis3\":{\"anchor\":\"y3\",\"domain\":[0.29387755102040813,0.4122448979591836],\"showticklabels\":false},\"yaxis3\":{\"anchor\":\"x3\",\"domain\":[0.625,1.0],\"showticklabels\":false},\"xaxis4\":{\"anchor\":\"y4\",\"domain\":[0.4408163265306122,0.5591836734693877],\"showticklabels\":false},\"yaxis4\":{\"anchor\":\"x4\",\"domain\":[0.625,1.0],\"showticklabels\":false},\"xaxis5\":{\"anchor\":\"y5\",\"domain\":[0.5877551020408163,0.7061224489795918],\"showticklabels\":false},\"yaxis5\":{\"anchor\":\"x5\",\"domain\":[0.625,1.0],\"showticklabels\":false},\"xaxis6\":{\"anchor\":\"y6\",\"domain\":[0.7346938775510204,0.8530612244897959],\"showticklabels\":false},\"yaxis6\":{\"anchor\":\"x6\",\"domain\":[0.625,1.0],\"showticklabels\":false},\"xaxis7\":{\"anchor\":\"y7\",\"domain\":[0.8816326530612244,0.9999999999999999],\"showticklabels\":false},\"yaxis7\":{\"anchor\":\"x7\",\"domain\":[0.625,1.0],\"showticklabels\":false},\"xaxis8\":{\"anchor\":\"y8\",\"domain\":[0.0,0.1183673469387755],\"showticklabels\":false},\"yaxis8\":{\"anchor\":\"x8\",\"domain\":[0.0,0.375],\"showticklabels\":false},\"xaxis9\":{\"anchor\":\"y9\",\"domain\":[0.14693877551020407,0.26530612244897955]},\"yaxis9\":{\"anchor\":\"x9\",\"domain\":[0.0,0.375]},\"xaxis10\":{\"anchor\":\"y10\",\"domain\":[0.29387755102040813,0.4122448979591836]},\"yaxis10\":{\"anchor\":\"x10\",\"domain\":[0.0,0.375]},\"xaxis11\":{\"anchor\":\"y11\",\"domain\":[0.4408163265306122,0.5591836734693877]},\"yaxis11\":{\"anchor\":\"x11\",\"domain\":[0.0,0.375]},\"xaxis12\":{\"anchor\":\"y12\",\"domain\":[0.5877551020408163,0.7061224489795918]},\"yaxis12\":{\"anchor\":\"x12\",\"domain\":[0.0,0.375]},\"xaxis13\":{\"anchor\":\"y13\",\"domain\":[0.7346938775510204,0.8530612244897959]},\"yaxis13\":{\"anchor\":\"x13\",\"domain\":[0.0,0.375]},\"xaxis14\":{\"anchor\":\"y14\",\"domain\":[0.8816326530612244,0.9999999999999999]},\"yaxis14\":{\"anchor\":\"x14\",\"domain\":[0.0,0.375]},\"annotations\":[{\"font\":{\"color\":\"black\",\"size\":10},\"showarrow\":false,\"text\":\"frame_0\",\"x\":0.05918367346938775,\"xanchor\":\"center\",\"xref\":\"paper\",\"y\":1.0,\"yanchor\":\"bottom\",\"yref\":\"paper\"},{\"font\":{\"color\":\"black\",\"size\":10},\"showarrow\":false,\"text\":\"frame_1\",\"x\":0.2061224489795918,\"xanchor\":\"center\",\"xref\":\"paper\",\"y\":1.0,\"yanchor\":\"bottom\",\"yref\":\"paper\"},{\"font\":{\"color\":\"black\",\"size\":10},\"showarrow\":false,\"text\":\"frame_2\",\"x\":0.3530612244897959,\"xanchor\":\"center\",\"xref\":\"paper\",\"y\":1.0,\"yanchor\":\"bottom\",\"yref\":\"paper\"},{\"font\":{\"color\":\"black\",\"size\":10},\"showarrow\":false,\"text\":\"frame_3\",\"x\":0.49999999999999994,\"xanchor\":\"center\",\"xref\":\"paper\",\"y\":1.0,\"yanchor\":\"bottom\",\"yref\":\"paper\"},{\"font\":{\"color\":\"black\",\"size\":10},\"showarrow\":false,\"text\":\"frame_4\",\"x\":0.6469387755102041,\"xanchor\":\"center\",\"xref\":\"paper\",\"y\":1.0,\"yanchor\":\"bottom\",\"yref\":\"paper\"},{\"font\":{\"color\":\"black\",\"size\":10},\"showarrow\":false,\"text\":\"frame_5\",\"x\":0.7938775510204081,\"xanchor\":\"center\",\"xref\":\"paper\",\"y\":1.0,\"yanchor\":\"bottom\",\"yref\":\"paper\"},{\"font\":{\"color\":\"black\",\"size\":10},\"showarrow\":false,\"text\":\"frame_6\",\"x\":0.9408163265306122,\"xanchor\":\"center\",\"xref\":\"paper\",\"y\":1.0,\"yanchor\":\"bottom\",\"yref\":\"paper\"},{\"font\":{\"color\":\"black\",\"size\":10},\"showarrow\":false,\"text\":\"frame_7\",\"x\":0.05918367346938775,\"xanchor\":\"center\",\"xref\":\"paper\",\"y\":0.375,\"yanchor\":\"bottom\",\"yref\":\"paper\"},{\"font\":{\"color\":\"black\",\"size\":15},\"showarrow\":false,\"text\":\"Frames\",\"x\":0.5,\"xanchor\":\"center\",\"xref\":\"paper\",\"y\":0,\"yanchor\":\"top\",\"yref\":\"paper\",\"yshift\":-30},{\"font\":{\"color\":\"black\",\"size\":15},\"showarrow\":false,\"text\":\"Intensity\",\"textangle\":-90,\"x\":0,\"xanchor\":\"right\",\"xref\":\"paper\",\"xshift\":-40,\"y\":0.5,\"yanchor\":\"middle\",\"yref\":\"paper\"}]},                        {\"responsive\": true}                    ).then(function(){\n",
       "                            \n",
       "var gd = document.getElementById('8e26316d-bb02-4787-9821-9082d26a39cc');\n",
       "var x = new MutationObserver(function (mutations, observer) {{\n",
       "        var display = window.getComputedStyle(gd).display;\n",
       "        if (!display || display === 'none') {{\n",
       "            console.log([gd, 'removed!']);\n",
       "            Plotly.purge(gd);\n",
       "            observer.disconnect();\n",
       "        }}\n",
       "}});\n",
       "\n",
       "// Listen for the removal of the full notebook cells\n",
       "var notebookContainer = gd.closest('#notebook-container');\n",
       "if (notebookContainer) {{\n",
       "    x.observe(notebookContainer, {childList: true});\n",
       "}}\n",
       "\n",
       "// Listen for the clearing of the current output cell\n",
       "var outputEl = gd.closest('.output');\n",
       "if (outputEl) {{\n",
       "    x.observe(outputEl, {childList: true});\n",
       "}}\n",
       "\n",
       "                        })                };                });            </script>        </div>"
      ]
     },
     "metadata": {},
     "output_type": "display_data"
    }
   ],
   "source": [
    "plot_raw_movie(plot_type = 'max_z_slice', track_number = 22, raw_image = zarr_arr, main_tracking_df = track_df, channel = 2)"
   ]
  },
  {
   "cell_type": "code",
   "execution_count": 126,
   "id": "71f7dc21-6b0e-477c-942a-2e146c1dc0a0",
   "metadata": {},
   "outputs": [
    {
     "data": {
      "application/vnd.plotly.v1+json": {
       "config": {
        "plotlyServerURL": "https://plot.ly"
       },
       "data": [
        {
         "coloraxis": "coloraxis",
         "hovertemplate": "x: %{x}<br>y: %{y}<br>color: %{z}<extra></extra>",
         "name": "0",
         "type": "heatmap",
         "xaxis": "x",
         "yaxis": "y",
         "z": [
          [
           1591,
           1537,
           1533,
           1557,
           1529,
           1499,
           1488,
           1496,
           1524,
           1525,
           1490,
           1483
          ],
          [
           1649,
           1581,
           1517,
           1526,
           1535,
           1516,
           1493,
           1545,
           1520,
           1497,
           1500,
           1514
          ],
          [
           1610,
           1600,
           1581,
           1523,
           1529,
           1520,
           1504,
           1537,
           1535,
           1544,
           1500,
           1531
          ],
          [
           1594,
           1581,
           1545,
           1545,
           1576,
           1586,
           1546,
           1543,
           1517,
           1546,
           1593,
           1541
          ],
          [
           1607,
           1611,
           1620,
           1613,
           1602,
           1598,
           1635,
           1594,
           1562,
           1576,
           1559,
           1526
          ],
          [
           1560,
           1590,
           1644,
           1663,
           1655,
           1640,
           1662,
           1654,
           1585,
           1591,
           1616,
           1602
          ],
          [
           1645,
           1676,
           1671,
           1716,
           1709,
           1764,
           1846,
           1845,
           1830,
           1767,
           1655,
           1598
          ],
          [
           1668,
           1701,
           1684,
           1690,
           1807,
           1905,
           2089,
           2108,
           1984,
           1838,
           1670,
           1575
          ],
          [
           1637,
           1665,
           1715,
           1705,
           1723,
           1849,
           2012,
           2008,
           1914,
           1780,
           1686,
           1659
          ],
          [
           1693,
           1743,
           1735,
           1729,
           1721,
           1818,
           1843,
           1821,
           1827,
           1709,
           1611,
           1634
          ],
          [
           1696,
           1734,
           1719,
           1728,
           1775,
           1744,
           1690,
           1665,
           1721,
           1672,
           1624,
           1613
          ],
          [
           1651,
           1704,
           1723,
           1757,
           1753,
           1725,
           1833,
           1879,
           1793,
           1728,
           1664,
           1613
          ]
         ]
        },
        {
         "coloraxis": "coloraxis",
         "hovertemplate": "x: %{x}<br>y: %{y}<br>color: %{z}<extra></extra>",
         "name": "0",
         "type": "heatmap",
         "xaxis": "x2",
         "yaxis": "y2",
         "z": [
          [
           1455,
           1456,
           1452,
           1444,
           1476,
           1477,
           1478,
           1408,
           1375,
           1448,
           1462,
           1431
          ],
          [
           1492,
           1482,
           1433,
           1434,
           1434,
           1424,
           1442,
           1438,
           1426,
           1431,
           1421,
           1435
          ],
          [
           1455,
           1449,
           1454,
           1439,
           1425,
           1413,
           1477,
           1459,
           1442,
           1429,
           1420,
           1445
          ],
          [
           1492,
           1483,
           1469,
           1456,
           1504,
           1498,
           1459,
           1438,
           1441,
           1457,
           1440,
           1440
          ],
          [
           1473,
           1447,
           1492,
           1568,
           1557,
           1555,
           1587,
           1549,
           1504,
           1486,
           1447,
           1496
          ],
          [
           1599,
           1584,
           1561,
           1599,
           1714,
           1733,
           1855,
           1801,
           1670,
           1549,
           1472,
           1459
          ],
          [
           1563,
           1594,
           1596,
           1698,
           1863,
           2076,
           2094,
           2003,
           1809,
           1634,
           1569,
           1467
          ],
          [
           1554,
           1575,
           1656,
           1724,
           1841,
           1996,
           2044,
           1941,
           1723,
           1601,
           1545,
           1490
          ],
          [
           1634,
           1653,
           1651,
           1703,
           1700,
           1658,
           1686,
           1672,
           1578,
           1534,
           1517,
           1517
          ],
          [
           1646,
           1601,
           1596,
           1644,
           1616,
           1599,
           1626,
           1620,
           1585,
           1549,
           1532,
           1498
          ],
          [
           1585,
           1646,
           1644,
           1658,
           1729,
           1692,
           1765,
           1742,
           1656,
           1541,
           1501,
           1489
          ],
          [
           1624,
           1595,
           1623,
           1599,
           1637,
           1730,
           1780,
           1713,
           1603,
           1548,
           1505,
           1489
          ]
         ]
        },
        {
         "coloraxis": "coloraxis",
         "hovertemplate": "x: %{x}<br>y: %{y}<br>color: %{z}<extra></extra>",
         "name": "0",
         "type": "heatmap",
         "xaxis": "x3",
         "yaxis": "y3",
         "z": [
          [
           1437,
           1430,
           1403,
           1418,
           1437,
           1426,
           1411,
           1364,
           1386,
           1451,
           1453,
           1448
          ],
          [
           1518,
           1473,
           1446,
           1408,
           1389,
           1427,
           1444,
           1432,
           1439,
           1475,
           1479,
           1450
          ],
          [
           1460,
           1473,
           1461,
           1442,
           1459,
           1477,
           1482,
           1455,
           1444,
           1448,
           1459,
           1480
          ],
          [
           1493,
           1502,
           1532,
           1498,
           1459,
           1454,
           1434,
           1457,
           1466,
           1452,
           1462,
           1491
          ],
          [
           1521,
           1518,
           1543,
           1550,
           1520,
           1553,
           1580,
           1588,
           1551,
           1472,
           1521,
           1557
          ],
          [
           1607,
           1619,
           1631,
           1679,
           1737,
           1718,
           1685,
           1663,
           1600,
           1527,
           1463,
           1498
          ],
          [
           1566,
           1576,
           1675,
           1786,
           1949,
           2119,
           2077,
           1866,
           1640,
           1495,
           1453,
           1504
          ],
          [
           1641,
           1660,
           1755,
           1905,
           2027,
           2108,
           1970,
           1767,
           1621,
           1513,
           1520,
           1524
          ],
          [
           1676,
           1652,
           1690,
           1715,
           1728,
           1774,
           1769,
           1688,
           1615,
           1540,
           1533,
           1509
          ],
          [
           1637,
           1650,
           1674,
           1625,
           1645,
           1638,
           1599,
           1581,
           1521,
           1489,
           1490,
           1499
          ],
          [
           1578,
           1688,
           1717,
           1767,
           1772,
           1755,
           1728,
           1604,
           1562,
           1550,
           1544,
           1529
          ],
          [
           1592,
           1634,
           1727,
           1766,
           1822,
           1838,
           1741,
           1654,
           1520,
           1488,
           1497,
           1534
          ]
         ]
        },
        {
         "coloraxis": "coloraxis",
         "hovertemplate": "x: %{x}<br>y: %{y}<br>color: %{z}<extra></extra>",
         "name": "0",
         "type": "heatmap",
         "xaxis": "x4",
         "yaxis": "y4",
         "z": [
          [
           1600,
           1573,
           1539,
           1583,
           1592,
           1527,
           1567,
           1568,
           1517,
           1522,
           1559,
           1562
          ],
          [
           1589,
           1580,
           1586,
           1495,
           1478,
           1522,
           1568,
           1571,
           1554,
           1512,
           1516,
           1555
          ],
          [
           1622,
           1647,
           1616,
           1566,
           1573,
           1574,
           1522,
           1547,
           1576,
           1570,
           1585,
           1562
          ],
          [
           1605,
           1610,
           1631,
           1632,
           1616,
           1594,
           1571,
           1583,
           1559,
           1583,
           1598,
           1592
          ],
          [
           1621,
           1609,
           1606,
           1629,
           1650,
           1651,
           1654,
           1623,
           1595,
           1592,
           1589,
           1575
          ],
          [
           1668,
           1683,
           1723,
           1688,
           1685,
           1805,
           1877,
           1846,
           1753,
           1652,
           1616,
           1597
          ],
          [
           1705,
           1698,
           1690,
           1798,
           1938,
           2089,
           2208,
           2100,
           1949,
           1727,
           1635,
           1655
          ],
          [
           1689,
           1705,
           1709,
           1838,
           2026,
           2145,
           2151,
           2095,
           1915,
           1709,
           1623,
           1604
          ],
          [
           1709,
           1730,
           1801,
           1846,
           1879,
           1945,
           1913,
           1843,
           1772,
           1702,
           1618,
           1606
          ],
          [
           1730,
           1764,
           1767,
           1799,
           1780,
           1760,
           1818,
           1737,
           1669,
           1626,
           1656,
           1624
          ],
          [
           1726,
           1768,
           1789,
           1798,
           1833,
           1899,
           1845,
           1765,
           1718,
           1689,
           1665,
           1642
          ],
          [
           1733,
           1728,
           1729,
           1842,
           1864,
           1896,
           1876,
           1847,
           1740,
           1634,
           1609,
           1630
          ]
         ]
        },
        {
         "coloraxis": "coloraxis",
         "hovertemplate": "x: %{x}<br>y: %{y}<br>color: %{z}<extra></extra>",
         "name": "0",
         "type": "heatmap",
         "xaxis": "x5",
         "yaxis": "y5",
         "z": [
          [
           1625,
           1616,
           1568,
           1547,
           1614,
           1596,
           1548,
           1514,
           1515,
           1518,
           1517,
           1511
          ],
          [
           1558,
           1529,
           1577,
           1601,
           1583,
           1538,
           1537,
           1496,
           1472,
           1536,
           1547,
           1567
          ],
          [
           1624,
           1599,
           1552,
           1578,
           1580,
           1593,
           1590,
           1529,
           1505,
           1529,
           1542,
           1581
          ],
          [
           1597,
           1662,
           1648,
           1640,
           1650,
           1610,
           1597,
           1583,
           1582,
           1606,
           1605,
           1571
          ],
          [
           1670,
           1600,
           1604,
           1637,
           1659,
           1625,
           1618,
           1646,
           1621,
           1597,
           1565,
           1578
          ],
          [
           1632,
           1699,
           1705,
           1702,
           1761,
           1759,
           1833,
           1837,
           1764,
           1697,
           1622,
           1594
          ],
          [
           1661,
           1697,
           1771,
           1766,
           1820,
           2022,
           2146,
           2152,
           2111,
           1905,
           1719,
           1651
          ],
          [
           1745,
           1735,
           1758,
           1832,
           1913,
           2098,
           2212,
           2219,
           2100,
           1904,
           1721,
           1636
          ],
          [
           1732,
           1760,
           1754,
           1785,
           1872,
           1891,
           1977,
           1994,
           1868,
           1720,
           1640,
           1609
          ],
          [
           1750,
           1762,
           1787,
           1897,
           1869,
           1813,
           1806,
           1792,
           1750,
           1668,
           1642,
           1621
          ],
          [
           1685,
           1714,
           1779,
           1795,
           1815,
           1851,
           1873,
           1832,
           1727,
           1667,
           1638,
           1617
          ],
          [
           1737,
           1739,
           1787,
           1778,
           1846,
           1943,
           1932,
           1936,
           1795,
           1752,
           1708,
           1653
          ]
         ]
        },
        {
         "coloraxis": "coloraxis",
         "hovertemplate": "x: %{x}<br>y: %{y}<br>color: %{z}<extra></extra>",
         "name": "0",
         "type": "heatmap",
         "xaxis": "x6",
         "yaxis": "y6",
         "z": [
          [
           1598,
           1605,
           1591,
           1589,
           1550,
           1543,
           1543,
           1503,
           1526,
           1574,
           1566,
           1519
          ],
          [
           1589,
           1545,
           1582,
           1577,
           1581,
           1537,
           1492,
           1496,
           1521,
           1563,
           1551,
           1536
          ],
          [
           1613,
           1626,
           1589,
           1604,
           1607,
           1591,
           1559,
           1559,
           1578,
           1530,
           1538,
           1533
          ],
          [
           1614,
           1610,
           1629,
           1625,
           1583,
           1590,
           1602,
           1600,
           1583,
           1569,
           1579,
           1557
          ],
          [
           1628,
           1658,
           1603,
           1601,
           1617,
           1629,
           1596,
           1567,
           1605,
           1640,
           1599,
           1605
          ],
          [
           1653,
           1660,
           1676,
           1688,
           1741,
           1763,
           1793,
           1777,
           1739,
           1668,
           1604,
           1602
          ],
          [
           1669,
           1681,
           1762,
           1803,
           1848,
           1977,
           2099,
           2105,
           1954,
           1792,
           1708,
           1662
          ],
          [
           1740,
           1693,
           1731,
           1832,
           1964,
           2076,
           2235,
           2210,
           1991,
           1802,
           1723,
           1644
          ],
          [
           1668,
           1748,
           1808,
           1845,
           1854,
           1931,
           1998,
           1964,
           1876,
           1761,
           1647,
           1646
          ],
          [
           1732,
           1767,
           1796,
           1780,
           1797,
           1844,
           1814,
           1739,
           1676,
           1675,
           1614,
           1602
          ],
          [
           1711,
           1747,
           1747,
           1779,
           1846,
           1869,
           1811,
           1788,
           1744,
           1663,
           1617,
           1613
          ],
          [
           1692,
           1711,
           1744,
           1838,
           1887,
           1914,
           1945,
           1890,
           1847,
           1785,
           1707,
           1672
          ]
         ]
        },
        {
         "coloraxis": "coloraxis",
         "hovertemplate": "x: %{x}<br>y: %{y}<br>color: %{z}<extra></extra>",
         "name": "0",
         "type": "heatmap",
         "xaxis": "x7",
         "yaxis": "y7",
         "z": [
          [
           1593,
           1563,
           1541,
           1542,
           1536,
           1518,
           1521,
           1506,
           1492,
           1510,
           1514,
           1503
          ],
          [
           1637,
           1634,
           1616,
           1574,
           1537,
           1541,
           1527,
           1524,
           1503,
           1472,
           1476,
           1526
          ],
          [
           1646,
           1623,
           1579,
           1520,
           1514,
           1606,
           1568,
           1557,
           1536,
           1517,
           1516,
           1509
          ],
          [
           1622,
           1643,
           1575,
           1547,
           1573,
           1580,
           1592,
           1570,
           1553,
           1493,
           1514,
           1572
          ],
          [
           1618,
           1595,
           1624,
           1630,
           1630,
           1648,
           1639,
           1577,
           1600,
           1539,
           1538,
           1559
          ],
          [
           1628,
           1627,
           1661,
           1671,
           1706,
           1724,
           1684,
           1685,
           1719,
           1658,
           1604,
           1595
          ],
          [
           1679,
           1677,
           1673,
           1687,
           1757,
           1856,
           1956,
           2021,
           2026,
           1899,
           1710,
           1635
          ],
          [
           1676,
           1689,
           1716,
           1731,
           1864,
           1994,
           2175,
           2149,
           2087,
           1963,
           1780,
           1655
          ],
          [
           1661,
           1695,
           1743,
           1784,
           1797,
           1856,
           1936,
           1969,
           1902,
           1725,
           1661,
           1636
          ],
          [
           1685,
           1711,
           1729,
           1768,
           1770,
           1807,
           1830,
           1838,
           1812,
           1752,
           1650,
           1611
          ],
          [
           1734,
           1696,
           1740,
           1726,
           1794,
           1920,
           1929,
           1840,
           1727,
           1660,
           1629,
           1592
          ],
          [
           1744,
           1684,
           1715,
           1823,
           1856,
           1925,
           1935,
           1944,
           1877,
           1772,
           1662,
           1627
          ]
         ]
        },
        {
         "coloraxis": "coloraxis",
         "hovertemplate": "x: %{x}<br>y: %{y}<br>color: %{z}<extra></extra>",
         "name": "0",
         "type": "heatmap",
         "xaxis": "x8",
         "yaxis": "y8",
         "z": [
          [
           1584,
           1509,
           1470,
           1455,
           1427,
           1440,
           1418,
           1424,
           1460,
           1436,
           1444,
           1449
          ],
          [
           1476,
           1462,
           1494,
           1528,
           1510,
           1477,
           1451,
           1438,
           1403,
           1410,
           1440,
           1464
          ],
          [
           1568,
           1539,
           1511,
           1488,
           1531,
           1501,
           1451,
           1440,
           1399,
           1397,
           1451,
           1470
          ],
          [
           1546,
           1525,
           1543,
           1537,
           1513,
           1513,
           1498,
           1459,
           1489,
           1454,
           1443,
           1489
          ],
          [
           1518,
           1550,
           1548,
           1591,
           1550,
           1581,
           1541,
           1500,
           1493,
           1492,
           1485,
           1502
          ],
          [
           1523,
           1534,
           1582,
           1621,
           1635,
           1647,
           1657,
           1652,
           1633,
           1565,
           1504,
           1507
          ],
          [
           1625,
           1621,
           1592,
           1659,
           1776,
           1905,
           2003,
           1988,
           1803,
           1628,
           1570,
           1559
          ],
          [
           1620,
           1621,
           1637,
           1721,
           1858,
           2053,
           2146,
           2104,
           1942,
           1671,
           1571,
           1544
          ],
          [
           1624,
           1639,
           1712,
           1779,
           1815,
           1797,
           1826,
           1799,
           1702,
           1651,
           1597,
           1538
          ],
          [
           1612,
           1629,
           1630,
           1674,
           1738,
           1745,
           1739,
           1666,
           1629,
           1591,
           1527,
           1521
          ],
          [
           1623,
           1637,
           1680,
           1760,
           1830,
           1780,
           1728,
           1673,
           1608,
           1567,
           1531,
           1531
          ],
          [
           1645,
           1629,
           1663,
           1750,
           1830,
           1834,
           1762,
           1656,
           1563,
           1548,
           1537,
           1555
          ]
         ]
        }
       ],
       "layout": {
        "annotations": [
         {
          "font": {
           "color": "black",
           "size": 10
          },
          "showarrow": false,
          "text": "frame_0",
          "x": 0.05918367346938775,
          "xanchor": "center",
          "xref": "paper",
          "y": 1,
          "yanchor": "bottom",
          "yref": "paper"
         },
         {
          "font": {
           "color": "black",
           "size": 10
          },
          "showarrow": false,
          "text": "frame_1",
          "x": 0.2061224489795918,
          "xanchor": "center",
          "xref": "paper",
          "y": 1,
          "yanchor": "bottom",
          "yref": "paper"
         },
         {
          "font": {
           "color": "black",
           "size": 10
          },
          "showarrow": false,
          "text": "frame_2",
          "x": 0.3530612244897959,
          "xanchor": "center",
          "xref": "paper",
          "y": 1,
          "yanchor": "bottom",
          "yref": "paper"
         },
         {
          "font": {
           "color": "black",
           "size": 10
          },
          "showarrow": false,
          "text": "frame_3",
          "x": 0.49999999999999994,
          "xanchor": "center",
          "xref": "paper",
          "y": 1,
          "yanchor": "bottom",
          "yref": "paper"
         },
         {
          "font": {
           "color": "black",
           "size": 10
          },
          "showarrow": false,
          "text": "frame_4",
          "x": 0.6469387755102041,
          "xanchor": "center",
          "xref": "paper",
          "y": 1,
          "yanchor": "bottom",
          "yref": "paper"
         },
         {
          "font": {
           "color": "black",
           "size": 10
          },
          "showarrow": false,
          "text": "frame_5",
          "x": 0.7938775510204081,
          "xanchor": "center",
          "xref": "paper",
          "y": 1,
          "yanchor": "bottom",
          "yref": "paper"
         },
         {
          "font": {
           "color": "black",
           "size": 10
          },
          "showarrow": false,
          "text": "frame_6",
          "x": 0.9408163265306122,
          "xanchor": "center",
          "xref": "paper",
          "y": 1,
          "yanchor": "bottom",
          "yref": "paper"
         },
         {
          "font": {
           "color": "black",
           "size": 10
          },
          "showarrow": false,
          "text": "frame_7",
          "x": 0.05918367346938775,
          "xanchor": "center",
          "xref": "paper",
          "y": 0.375,
          "yanchor": "bottom",
          "yref": "paper"
         },
         {
          "font": {
           "color": "black",
           "size": 15
          },
          "showarrow": false,
          "text": "Frames",
          "x": 0.5,
          "xanchor": "center",
          "xref": "paper",
          "y": 0,
          "yanchor": "top",
          "yref": "paper",
          "yshift": -30
         },
         {
          "font": {
           "color": "black",
           "size": 15
          },
          "showarrow": false,
          "text": "Intensity",
          "textangle": -90,
          "x": 0,
          "xanchor": "right",
          "xref": "paper",
          "xshift": -40,
          "y": 0.5,
          "yanchor": "middle",
          "yref": "paper"
         }
        ],
        "autosize": true,
        "template": {
         "data": {
          "bar": [
           {
            "error_x": {
             "color": "#2a3f5f"
            },
            "error_y": {
             "color": "#2a3f5f"
            },
            "marker": {
             "line": {
              "color": "#E5ECF6",
              "width": 0.5
             },
             "pattern": {
              "fillmode": "overlay",
              "size": 10,
              "solidity": 0.2
             }
            },
            "type": "bar"
           }
          ],
          "barpolar": [
           {
            "marker": {
             "line": {
              "color": "#E5ECF6",
              "width": 0.5
             },
             "pattern": {
              "fillmode": "overlay",
              "size": 10,
              "solidity": 0.2
             }
            },
            "type": "barpolar"
           }
          ],
          "carpet": [
           {
            "aaxis": {
             "endlinecolor": "#2a3f5f",
             "gridcolor": "white",
             "linecolor": "white",
             "minorgridcolor": "white",
             "startlinecolor": "#2a3f5f"
            },
            "baxis": {
             "endlinecolor": "#2a3f5f",
             "gridcolor": "white",
             "linecolor": "white",
             "minorgridcolor": "white",
             "startlinecolor": "#2a3f5f"
            },
            "type": "carpet"
           }
          ],
          "choropleth": [
           {
            "colorbar": {
             "outlinewidth": 0,
             "ticks": ""
            },
            "type": "choropleth"
           }
          ],
          "contour": [
           {
            "colorbar": {
             "outlinewidth": 0,
             "ticks": ""
            },
            "colorscale": [
             [
              0,
              "#0d0887"
             ],
             [
              0.1111111111111111,
              "#46039f"
             ],
             [
              0.2222222222222222,
              "#7201a8"
             ],
             [
              0.3333333333333333,
              "#9c179e"
             ],
             [
              0.4444444444444444,
              "#bd3786"
             ],
             [
              0.5555555555555556,
              "#d8576b"
             ],
             [
              0.6666666666666666,
              "#ed7953"
             ],
             [
              0.7777777777777778,
              "#fb9f3a"
             ],
             [
              0.8888888888888888,
              "#fdca26"
             ],
             [
              1,
              "#f0f921"
             ]
            ],
            "type": "contour"
           }
          ],
          "contourcarpet": [
           {
            "colorbar": {
             "outlinewidth": 0,
             "ticks": ""
            },
            "type": "contourcarpet"
           }
          ],
          "heatmap": [
           {
            "colorbar": {
             "outlinewidth": 0,
             "ticks": ""
            },
            "colorscale": [
             [
              0,
              "#0d0887"
             ],
             [
              0.1111111111111111,
              "#46039f"
             ],
             [
              0.2222222222222222,
              "#7201a8"
             ],
             [
              0.3333333333333333,
              "#9c179e"
             ],
             [
              0.4444444444444444,
              "#bd3786"
             ],
             [
              0.5555555555555556,
              "#d8576b"
             ],
             [
              0.6666666666666666,
              "#ed7953"
             ],
             [
              0.7777777777777778,
              "#fb9f3a"
             ],
             [
              0.8888888888888888,
              "#fdca26"
             ],
             [
              1,
              "#f0f921"
             ]
            ],
            "type": "heatmap"
           }
          ],
          "heatmapgl": [
           {
            "colorbar": {
             "outlinewidth": 0,
             "ticks": ""
            },
            "colorscale": [
             [
              0,
              "#0d0887"
             ],
             [
              0.1111111111111111,
              "#46039f"
             ],
             [
              0.2222222222222222,
              "#7201a8"
             ],
             [
              0.3333333333333333,
              "#9c179e"
             ],
             [
              0.4444444444444444,
              "#bd3786"
             ],
             [
              0.5555555555555556,
              "#d8576b"
             ],
             [
              0.6666666666666666,
              "#ed7953"
             ],
             [
              0.7777777777777778,
              "#fb9f3a"
             ],
             [
              0.8888888888888888,
              "#fdca26"
             ],
             [
              1,
              "#f0f921"
             ]
            ],
            "type": "heatmapgl"
           }
          ],
          "histogram": [
           {
            "marker": {
             "pattern": {
              "fillmode": "overlay",
              "size": 10,
              "solidity": 0.2
             }
            },
            "type": "histogram"
           }
          ],
          "histogram2d": [
           {
            "colorbar": {
             "outlinewidth": 0,
             "ticks": ""
            },
            "colorscale": [
             [
              0,
              "#0d0887"
             ],
             [
              0.1111111111111111,
              "#46039f"
             ],
             [
              0.2222222222222222,
              "#7201a8"
             ],
             [
              0.3333333333333333,
              "#9c179e"
             ],
             [
              0.4444444444444444,
              "#bd3786"
             ],
             [
              0.5555555555555556,
              "#d8576b"
             ],
             [
              0.6666666666666666,
              "#ed7953"
             ],
             [
              0.7777777777777778,
              "#fb9f3a"
             ],
             [
              0.8888888888888888,
              "#fdca26"
             ],
             [
              1,
              "#f0f921"
             ]
            ],
            "type": "histogram2d"
           }
          ],
          "histogram2dcontour": [
           {
            "colorbar": {
             "outlinewidth": 0,
             "ticks": ""
            },
            "colorscale": [
             [
              0,
              "#0d0887"
             ],
             [
              0.1111111111111111,
              "#46039f"
             ],
             [
              0.2222222222222222,
              "#7201a8"
             ],
             [
              0.3333333333333333,
              "#9c179e"
             ],
             [
              0.4444444444444444,
              "#bd3786"
             ],
             [
              0.5555555555555556,
              "#d8576b"
             ],
             [
              0.6666666666666666,
              "#ed7953"
             ],
             [
              0.7777777777777778,
              "#fb9f3a"
             ],
             [
              0.8888888888888888,
              "#fdca26"
             ],
             [
              1,
              "#f0f921"
             ]
            ],
            "type": "histogram2dcontour"
           }
          ],
          "mesh3d": [
           {
            "colorbar": {
             "outlinewidth": 0,
             "ticks": ""
            },
            "type": "mesh3d"
           }
          ],
          "parcoords": [
           {
            "line": {
             "colorbar": {
              "outlinewidth": 0,
              "ticks": ""
             }
            },
            "type": "parcoords"
           }
          ],
          "pie": [
           {
            "automargin": true,
            "type": "pie"
           }
          ],
          "scatter": [
           {
            "fillpattern": {
             "fillmode": "overlay",
             "size": 10,
             "solidity": 0.2
            },
            "type": "scatter"
           }
          ],
          "scatter3d": [
           {
            "line": {
             "colorbar": {
              "outlinewidth": 0,
              "ticks": ""
             }
            },
            "marker": {
             "colorbar": {
              "outlinewidth": 0,
              "ticks": ""
             }
            },
            "type": "scatter3d"
           }
          ],
          "scattercarpet": [
           {
            "marker": {
             "colorbar": {
              "outlinewidth": 0,
              "ticks": ""
             }
            },
            "type": "scattercarpet"
           }
          ],
          "scattergeo": [
           {
            "marker": {
             "colorbar": {
              "outlinewidth": 0,
              "ticks": ""
             }
            },
            "type": "scattergeo"
           }
          ],
          "scattergl": [
           {
            "marker": {
             "colorbar": {
              "outlinewidth": 0,
              "ticks": ""
             }
            },
            "type": "scattergl"
           }
          ],
          "scattermapbox": [
           {
            "marker": {
             "colorbar": {
              "outlinewidth": 0,
              "ticks": ""
             }
            },
            "type": "scattermapbox"
           }
          ],
          "scatterpolar": [
           {
            "marker": {
             "colorbar": {
              "outlinewidth": 0,
              "ticks": ""
             }
            },
            "type": "scatterpolar"
           }
          ],
          "scatterpolargl": [
           {
            "marker": {
             "colorbar": {
              "outlinewidth": 0,
              "ticks": ""
             }
            },
            "type": "scatterpolargl"
           }
          ],
          "scatterternary": [
           {
            "marker": {
             "colorbar": {
              "outlinewidth": 0,
              "ticks": ""
             }
            },
            "type": "scatterternary"
           }
          ],
          "surface": [
           {
            "colorbar": {
             "outlinewidth": 0,
             "ticks": ""
            },
            "colorscale": [
             [
              0,
              "#0d0887"
             ],
             [
              0.1111111111111111,
              "#46039f"
             ],
             [
              0.2222222222222222,
              "#7201a8"
             ],
             [
              0.3333333333333333,
              "#9c179e"
             ],
             [
              0.4444444444444444,
              "#bd3786"
             ],
             [
              0.5555555555555556,
              "#d8576b"
             ],
             [
              0.6666666666666666,
              "#ed7953"
             ],
             [
              0.7777777777777778,
              "#fb9f3a"
             ],
             [
              0.8888888888888888,
              "#fdca26"
             ],
             [
              1,
              "#f0f921"
             ]
            ],
            "type": "surface"
           }
          ],
          "table": [
           {
            "cells": {
             "fill": {
              "color": "#EBF0F8"
             },
             "line": {
              "color": "white"
             }
            },
            "header": {
             "fill": {
              "color": "#C8D4E3"
             },
             "line": {
              "color": "white"
             }
            },
            "type": "table"
           }
          ]
         },
         "layout": {
          "annotationdefaults": {
           "arrowcolor": "#2a3f5f",
           "arrowhead": 0,
           "arrowwidth": 1
          },
          "autotypenumbers": "strict",
          "coloraxis": {
           "colorbar": {
            "outlinewidth": 0,
            "ticks": ""
           }
          },
          "colorscale": {
           "diverging": [
            [
             0,
             "#8e0152"
            ],
            [
             0.1,
             "#c51b7d"
            ],
            [
             0.2,
             "#de77ae"
            ],
            [
             0.3,
             "#f1b6da"
            ],
            [
             0.4,
             "#fde0ef"
            ],
            [
             0.5,
             "#f7f7f7"
            ],
            [
             0.6,
             "#e6f5d0"
            ],
            [
             0.7,
             "#b8e186"
            ],
            [
             0.8,
             "#7fbc41"
            ],
            [
             0.9,
             "#4d9221"
            ],
            [
             1,
             "#276419"
            ]
           ],
           "sequential": [
            [
             0,
             "#0d0887"
            ],
            [
             0.1111111111111111,
             "#46039f"
            ],
            [
             0.2222222222222222,
             "#7201a8"
            ],
            [
             0.3333333333333333,
             "#9c179e"
            ],
            [
             0.4444444444444444,
             "#bd3786"
            ],
            [
             0.5555555555555556,
             "#d8576b"
            ],
            [
             0.6666666666666666,
             "#ed7953"
            ],
            [
             0.7777777777777778,
             "#fb9f3a"
            ],
            [
             0.8888888888888888,
             "#fdca26"
            ],
            [
             1,
             "#f0f921"
            ]
           ],
           "sequentialminus": [
            [
             0,
             "#0d0887"
            ],
            [
             0.1111111111111111,
             "#46039f"
            ],
            [
             0.2222222222222222,
             "#7201a8"
            ],
            [
             0.3333333333333333,
             "#9c179e"
            ],
            [
             0.4444444444444444,
             "#bd3786"
            ],
            [
             0.5555555555555556,
             "#d8576b"
            ],
            [
             0.6666666666666666,
             "#ed7953"
            ],
            [
             0.7777777777777778,
             "#fb9f3a"
            ],
            [
             0.8888888888888888,
             "#fdca26"
            ],
            [
             1,
             "#f0f921"
            ]
           ]
          },
          "colorway": [
           "#636efa",
           "#EF553B",
           "#00cc96",
           "#ab63fa",
           "#FFA15A",
           "#19d3f3",
           "#FF6692",
           "#B6E880",
           "#FF97FF",
           "#FECB52"
          ],
          "font": {
           "color": "#2a3f5f"
          },
          "geo": {
           "bgcolor": "white",
           "lakecolor": "white",
           "landcolor": "#E5ECF6",
           "showlakes": true,
           "showland": true,
           "subunitcolor": "white"
          },
          "hoverlabel": {
           "align": "left"
          },
          "hovermode": "closest",
          "mapbox": {
           "style": "light"
          },
          "paper_bgcolor": "white",
          "plot_bgcolor": "#E5ECF6",
          "polar": {
           "angularaxis": {
            "gridcolor": "white",
            "linecolor": "white",
            "ticks": ""
           },
           "bgcolor": "#E5ECF6",
           "radialaxis": {
            "gridcolor": "white",
            "linecolor": "white",
            "ticks": ""
           }
          },
          "scene": {
           "xaxis": {
            "backgroundcolor": "#E5ECF6",
            "gridcolor": "white",
            "gridwidth": 2,
            "linecolor": "white",
            "showbackground": true,
            "ticks": "",
            "zerolinecolor": "white"
           },
           "yaxis": {
            "backgroundcolor": "#E5ECF6",
            "gridcolor": "white",
            "gridwidth": 2,
            "linecolor": "white",
            "showbackground": true,
            "ticks": "",
            "zerolinecolor": "white"
           },
           "zaxis": {
            "backgroundcolor": "#E5ECF6",
            "gridcolor": "white",
            "gridwidth": 2,
            "linecolor": "white",
            "showbackground": true,
            "ticks": "",
            "zerolinecolor": "white"
           }
          },
          "shapedefaults": {
           "line": {
            "color": "#2a3f5f"
           }
          },
          "ternary": {
           "aaxis": {
            "gridcolor": "white",
            "linecolor": "white",
            "ticks": ""
           },
           "baxis": {
            "gridcolor": "white",
            "linecolor": "white",
            "ticks": ""
           },
           "bgcolor": "#E5ECF6",
           "caxis": {
            "gridcolor": "white",
            "linecolor": "white",
            "ticks": ""
           }
          },
          "title": {
           "x": 0.05
          },
          "xaxis": {
           "automargin": true,
           "gridcolor": "white",
           "linecolor": "white",
           "ticks": "",
           "title": {
            "standoff": 15
           },
           "zerolinecolor": "white",
           "zerolinewidth": 2
          },
          "yaxis": {
           "automargin": true,
           "gridcolor": "white",
           "linecolor": "white",
           "ticks": "",
           "title": {
            "standoff": 15
           },
           "zerolinecolor": "white",
           "zerolinewidth": 2
          }
         }
        },
        "xaxis": {
         "anchor": "y",
         "autorange": true,
         "domain": [
          0,
          0.1183673469387755
         ],
         "range": [
          -0.5,
          11.5
         ],
         "showticklabels": false
        },
        "xaxis10": {
         "anchor": "y10",
         "domain": [
          0.29387755102040813,
          0.4122448979591836
         ]
        },
        "xaxis11": {
         "anchor": "y11",
         "domain": [
          0.4408163265306122,
          0.5591836734693877
         ]
        },
        "xaxis12": {
         "anchor": "y12",
         "domain": [
          0.5877551020408163,
          0.7061224489795918
         ]
        },
        "xaxis13": {
         "anchor": "y13",
         "domain": [
          0.7346938775510204,
          0.8530612244897959
         ]
        },
        "xaxis14": {
         "anchor": "y14",
         "domain": [
          0.8816326530612244,
          0.9999999999999999
         ]
        },
        "xaxis2": {
         "anchor": "y2",
         "autorange": true,
         "domain": [
          0.14693877551020407,
          0.26530612244897955
         ],
         "range": [
          -0.5,
          11.5
         ],
         "showticklabels": false
        },
        "xaxis3": {
         "anchor": "y3",
         "autorange": true,
         "domain": [
          0.29387755102040813,
          0.4122448979591836
         ],
         "range": [
          -0.5,
          11.5
         ],
         "showticklabels": false
        },
        "xaxis4": {
         "anchor": "y4",
         "autorange": true,
         "domain": [
          0.4408163265306122,
          0.5591836734693877
         ],
         "range": [
          -0.5,
          11.5
         ],
         "showticklabels": false
        },
        "xaxis5": {
         "anchor": "y5",
         "autorange": true,
         "domain": [
          0.5877551020408163,
          0.7061224489795918
         ],
         "range": [
          -0.5,
          11.5
         ],
         "showticklabels": false
        },
        "xaxis6": {
         "anchor": "y6",
         "autorange": true,
         "domain": [
          0.7346938775510204,
          0.8530612244897959
         ],
         "range": [
          -0.5,
          11.5
         ],
         "showticklabels": false
        },
        "xaxis7": {
         "anchor": "y7",
         "autorange": true,
         "domain": [
          0.8816326530612244,
          0.9999999999999999
         ],
         "range": [
          -0.5,
          11.5
         ],
         "showticklabels": false
        },
        "xaxis8": {
         "anchor": "y8",
         "autorange": true,
         "domain": [
          0,
          0.1183673469387755
         ],
         "range": [
          -0.5,
          11.5
         ],
         "showticklabels": false
        },
        "xaxis9": {
         "anchor": "y9",
         "domain": [
          0.14693877551020407,
          0.26530612244897955
         ]
        },
        "yaxis": {
         "anchor": "x",
         "autorange": true,
         "domain": [
          0.625,
          1
         ],
         "range": [
          -0.5,
          11.5
         ],
         "showticklabels": false
        },
        "yaxis10": {
         "anchor": "x10",
         "domain": [
          0,
          0.375
         ]
        },
        "yaxis11": {
         "anchor": "x11",
         "domain": [
          0,
          0.375
         ]
        },
        "yaxis12": {
         "anchor": "x12",
         "domain": [
          0,
          0.375
         ]
        },
        "yaxis13": {
         "anchor": "x13",
         "domain": [
          0,
          0.375
         ]
        },
        "yaxis14": {
         "anchor": "x14",
         "domain": [
          0,
          0.375
         ]
        },
        "yaxis2": {
         "anchor": "x2",
         "autorange": true,
         "domain": [
          0.625,
          1
         ],
         "range": [
          -0.5,
          11.5
         ],
         "showticklabels": false
        },
        "yaxis3": {
         "anchor": "x3",
         "autorange": true,
         "domain": [
          0.625,
          1
         ],
         "range": [
          -0.5,
          11.5
         ],
         "showticklabels": false
        },
        "yaxis4": {
         "anchor": "x4",
         "autorange": true,
         "domain": [
          0.625,
          1
         ],
         "range": [
          -0.5,
          11.5
         ],
         "showticklabels": false
        },
        "yaxis5": {
         "anchor": "x5",
         "autorange": true,
         "domain": [
          0.625,
          1
         ],
         "range": [
          -0.5,
          11.5
         ],
         "showticklabels": false
        },
        "yaxis6": {
         "anchor": "x6",
         "autorange": true,
         "domain": [
          0.625,
          1
         ],
         "range": [
          -0.5,
          11.5
         ],
         "showticklabels": false
        },
        "yaxis7": {
         "anchor": "x7",
         "autorange": true,
         "domain": [
          0.625,
          1
         ],
         "range": [
          -0.5,
          11.5
         ],
         "showticklabels": false
        },
        "yaxis8": {
         "anchor": "x8",
         "autorange": true,
         "domain": [
          0,
          0.375
         ],
         "range": [
          -0.5,
          11.5
         ],
         "showticklabels": false
        },
        "yaxis9": {
         "anchor": "x9",
         "domain": [
          0,
          0.375
         ]
        }
       }
      },
      "image/png": "[encoded data removed]",
      "text/html": [
       "<div>                            <div id=\"2c52aa54-53a8-420a-9854-b6e46d58b801\" class=\"plotly-graph-div\" style=\"height:525px; width:100%;\"></div>            <script type=\"text/javascript\">                require([\"plotly\"], function(Plotly) {                    window.PLOTLYENV=window.PLOTLYENV || {};                                    if (document.getElementById(\"2c52aa54-53a8-420a-9854-b6e46d58b801\")) {                    Plotly.newPlot(                        \"2c52aa54-53a8-420a-9854-b6e46d58b801\",                        [{\"coloraxis\":\"coloraxis\",\"hovertemplate\":\"x: %{x}\\u003cbr\\u003ey: %{y}\\u003cbr\\u003ecolor: %{z}\\u003cextra\\u003e\\u003c\\u002fextra\\u003e\",\"name\":\"0\",\"xaxis\":\"x\",\"yaxis\":\"y\",\"z\":[[1591,1537,1533,1557,1529,1499,1488,1496,1524,1525,1490,1483],[1649,1581,1517,1526,1535,1516,1493,1545,1520,1497,1500,1514],[1610,1600,1581,1523,1529,1520,1504,1537,1535,1544,1500,1531],[1594,1581,1545,1545,1576,1586,1546,1543,1517,1546,1593,1541],[1607,1611,1620,1613,1602,1598,1635,1594,1562,1576,1559,1526],[1560,1590,1644,1663,1655,1640,1662,1654,1585,1591,1616,1602],[1645,1676,1671,1716,1709,1764,1846,1845,1830,1767,1655,1598],[1668,1701,1684,1690,1807,1905,2089,2108,1984,1838,1670,1575],[1637,1665,1715,1705,1723,1849,2012,2008,1914,1780,1686,1659],[1693,1743,1735,1729,1721,1818,1843,1821,1827,1709,1611,1634],[1696,1734,1719,1728,1775,1744,1690,1665,1721,1672,1624,1613],[1651,1704,1723,1757,1753,1725,1833,1879,1793,1728,1664,1613]],\"type\":\"heatmap\"},{\"coloraxis\":\"coloraxis\",\"hovertemplate\":\"x: %{x}\\u003cbr\\u003ey: %{y}\\u003cbr\\u003ecolor: %{z}\\u003cextra\\u003e\\u003c\\u002fextra\\u003e\",\"name\":\"0\",\"xaxis\":\"x2\",\"yaxis\":\"y2\",\"z\":[[1455,1456,1452,1444,1476,1477,1478,1408,1375,1448,1462,1431],[1492,1482,1433,1434,1434,1424,1442,1438,1426,1431,1421,1435],[1455,1449,1454,1439,1425,1413,1477,1459,1442,1429,1420,1445],[1492,1483,1469,1456,1504,1498,1459,1438,1441,1457,1440,1440],[1473,1447,1492,1568,1557,1555,1587,1549,1504,1486,1447,1496],[1599,1584,1561,1599,1714,1733,1855,1801,1670,1549,1472,1459],[1563,1594,1596,1698,1863,2076,2094,2003,1809,1634,1569,1467],[1554,1575,1656,1724,1841,1996,2044,1941,1723,1601,1545,1490],[1634,1653,1651,1703,1700,1658,1686,1672,1578,1534,1517,1517],[1646,1601,1596,1644,1616,1599,1626,1620,1585,1549,1532,1498],[1585,1646,1644,1658,1729,1692,1765,1742,1656,1541,1501,1489],[1624,1595,1623,1599,1637,1730,1780,1713,1603,1548,1505,1489]],\"type\":\"heatmap\"},{\"coloraxis\":\"coloraxis\",\"hovertemplate\":\"x: %{x}\\u003cbr\\u003ey: %{y}\\u003cbr\\u003ecolor: %{z}\\u003cextra\\u003e\\u003c\\u002fextra\\u003e\",\"name\":\"0\",\"xaxis\":\"x3\",\"yaxis\":\"y3\",\"z\":[[1437,1430,1403,1418,1437,1426,1411,1364,1386,1451,1453,1448],[1518,1473,1446,1408,1389,1427,1444,1432,1439,1475,1479,1450],[1460,1473,1461,1442,1459,1477,1482,1455,1444,1448,1459,1480],[1493,1502,1532,1498,1459,1454,1434,1457,1466,1452,1462,1491],[1521,1518,1543,1550,1520,1553,1580,1588,1551,1472,1521,1557],[1607,1619,1631,1679,1737,1718,1685,1663,1600,1527,1463,1498],[1566,1576,1675,1786,1949,2119,2077,1866,1640,1495,1453,1504],[1641,1660,1755,1905,2027,2108,1970,1767,1621,1513,1520,1524],[1676,1652,1690,1715,1728,1774,1769,1688,1615,1540,1533,1509],[1637,1650,1674,1625,1645,1638,1599,1581,1521,1489,1490,1499],[1578,1688,1717,1767,1772,1755,1728,1604,1562,1550,1544,1529],[1592,1634,1727,1766,1822,1838,1741,1654,1520,1488,1497,1534]],\"type\":\"heatmap\"},{\"coloraxis\":\"coloraxis\",\"hovertemplate\":\"x: %{x}\\u003cbr\\u003ey: %{y}\\u003cbr\\u003ecolor: %{z}\\u003cextra\\u003e\\u003c\\u002fextra\\u003e\",\"name\":\"0\",\"xaxis\":\"x4\",\"yaxis\":\"y4\",\"z\":[[1600,1573,1539,1583,1592,1527,1567,1568,1517,1522,1559,1562],[1589,1580,1586,1495,1478,1522,1568,1571,1554,1512,1516,1555],[1622,1647,1616,1566,1573,1574,1522,1547,1576,1570,1585,1562],[1605,1610,1631,1632,1616,1594,1571,1583,1559,1583,1598,1592],[1621,1609,1606,1629,1650,1651,1654,1623,1595,1592,1589,1575],[1668,1683,1723,1688,1685,1805,1877,1846,1753,1652,1616,1597],[1705,1698,1690,1798,1938,2089,2208,2100,1949,1727,1635,1655],[1689,1705,1709,1838,2026,2145,2151,2095,1915,1709,1623,1604],[1709,1730,1801,1846,1879,1945,1913,1843,1772,1702,1618,1606],[1730,1764,1767,1799,1780,1760,1818,1737,1669,1626,1656,1624],[1726,1768,1789,1798,1833,1899,1845,1765,1718,1689,1665,1642],[1733,1728,1729,1842,1864,1896,1876,1847,1740,1634,1609,1630]],\"type\":\"heatmap\"},{\"coloraxis\":\"coloraxis\",\"hovertemplate\":\"x: %{x}\\u003cbr\\u003ey: %{y}\\u003cbr\\u003ecolor: %{z}\\u003cextra\\u003e\\u003c\\u002fextra\\u003e\",\"name\":\"0\",\"xaxis\":\"x5\",\"yaxis\":\"y5\",\"z\":[[1625,1616,1568,1547,1614,1596,1548,1514,1515,1518,1517,1511],[1558,1529,1577,1601,1583,1538,1537,1496,1472,1536,1547,1567],[1624,1599,1552,1578,1580,1593,1590,1529,1505,1529,1542,1581],[1597,1662,1648,1640,1650,1610,1597,1583,1582,1606,1605,1571],[1670,1600,1604,1637,1659,1625,1618,1646,1621,1597,1565,1578],[1632,1699,1705,1702,1761,1759,1833,1837,1764,1697,1622,1594],[1661,1697,1771,1766,1820,2022,2146,2152,2111,1905,1719,1651],[1745,1735,1758,1832,1913,2098,2212,2219,2100,1904,1721,1636],[1732,1760,1754,1785,1872,1891,1977,1994,1868,1720,1640,1609],[1750,1762,1787,1897,1869,1813,1806,1792,1750,1668,1642,1621],[1685,1714,1779,1795,1815,1851,1873,1832,1727,1667,1638,1617],[1737,1739,1787,1778,1846,1943,1932,1936,1795,1752,1708,1653]],\"type\":\"heatmap\"},{\"coloraxis\":\"coloraxis\",\"hovertemplate\":\"x: %{x}\\u003cbr\\u003ey: %{y}\\u003cbr\\u003ecolor: %{z}\\u003cextra\\u003e\\u003c\\u002fextra\\u003e\",\"name\":\"0\",\"xaxis\":\"x6\",\"yaxis\":\"y6\",\"z\":[[1598,1605,1591,1589,1550,1543,1543,1503,1526,1574,1566,1519],[1589,1545,1582,1577,1581,1537,1492,1496,1521,1563,1551,1536],[1613,1626,1589,1604,1607,1591,1559,1559,1578,1530,1538,1533],[1614,1610,1629,1625,1583,1590,1602,1600,1583,1569,1579,1557],[1628,1658,1603,1601,1617,1629,1596,1567,1605,1640,1599,1605],[1653,1660,1676,1688,1741,1763,1793,1777,1739,1668,1604,1602],[1669,1681,1762,1803,1848,1977,2099,2105,1954,1792,1708,1662],[1740,1693,1731,1832,1964,2076,2235,2210,1991,1802,1723,1644],[1668,1748,1808,1845,1854,1931,1998,1964,1876,1761,1647,1646],[1732,1767,1796,1780,1797,1844,1814,1739,1676,1675,1614,1602],[1711,1747,1747,1779,1846,1869,1811,1788,1744,1663,1617,1613],[1692,1711,1744,1838,1887,1914,1945,1890,1847,1785,1707,1672]],\"type\":\"heatmap\"},{\"coloraxis\":\"coloraxis\",\"hovertemplate\":\"x: %{x}\\u003cbr\\u003ey: %{y}\\u003cbr\\u003ecolor: %{z}\\u003cextra\\u003e\\u003c\\u002fextra\\u003e\",\"name\":\"0\",\"xaxis\":\"x7\",\"yaxis\":\"y7\",\"z\":[[1593,1563,1541,1542,1536,1518,1521,1506,1492,1510,1514,1503],[1637,1634,1616,1574,1537,1541,1527,1524,1503,1472,1476,1526],[1646,1623,1579,1520,1514,1606,1568,1557,1536,1517,1516,1509],[1622,1643,1575,1547,1573,1580,1592,1570,1553,1493,1514,1572],[1618,1595,1624,1630,1630,1648,1639,1577,1600,1539,1538,1559],[1628,1627,1661,1671,1706,1724,1684,1685,1719,1658,1604,1595],[1679,1677,1673,1687,1757,1856,1956,2021,2026,1899,1710,1635],[1676,1689,1716,1731,1864,1994,2175,2149,2087,1963,1780,1655],[1661,1695,1743,1784,1797,1856,1936,1969,1902,1725,1661,1636],[1685,1711,1729,1768,1770,1807,1830,1838,1812,1752,1650,1611],[1734,1696,1740,1726,1794,1920,1929,1840,1727,1660,1629,1592],[1744,1684,1715,1823,1856,1925,1935,1944,1877,1772,1662,1627]],\"type\":\"heatmap\"},{\"coloraxis\":\"coloraxis\",\"hovertemplate\":\"x: %{x}\\u003cbr\\u003ey: %{y}\\u003cbr\\u003ecolor: %{z}\\u003cextra\\u003e\\u003c\\u002fextra\\u003e\",\"name\":\"0\",\"xaxis\":\"x8\",\"yaxis\":\"y8\",\"z\":[[1584,1509,1470,1455,1427,1440,1418,1424,1460,1436,1444,1449],[1476,1462,1494,1528,1510,1477,1451,1438,1403,1410,1440,1464],[1568,1539,1511,1488,1531,1501,1451,1440,1399,1397,1451,1470],[1546,1525,1543,1537,1513,1513,1498,1459,1489,1454,1443,1489],[1518,1550,1548,1591,1550,1581,1541,1500,1493,1492,1485,1502],[1523,1534,1582,1621,1635,1647,1657,1652,1633,1565,1504,1507],[1625,1621,1592,1659,1776,1905,2003,1988,1803,1628,1570,1559],[1620,1621,1637,1721,1858,2053,2146,2104,1942,1671,1571,1544],[1624,1639,1712,1779,1815,1797,1826,1799,1702,1651,1597,1538],[1612,1629,1630,1674,1738,1745,1739,1666,1629,1591,1527,1521],[1623,1637,1680,1760,1830,1780,1728,1673,1608,1567,1531,1531],[1645,1629,1663,1750,1830,1834,1762,1656,1563,1548,1537,1555]],\"type\":\"heatmap\"}],                        {\"template\":{\"data\":{\"histogram2dcontour\":[{\"type\":\"histogram2dcontour\",\"colorbar\":{\"outlinewidth\":0,\"ticks\":\"\"},\"colorscale\":[[0.0,\"#0d0887\"],[0.1111111111111111,\"#46039f\"],[0.2222222222222222,\"#7201a8\"],[0.3333333333333333,\"#9c179e\"],[0.4444444444444444,\"#bd3786\"],[0.5555555555555556,\"#d8576b\"],[0.6666666666666666,\"#ed7953\"],[0.7777777777777778,\"#fb9f3a\"],[0.8888888888888888,\"#fdca26\"],[1.0,\"#f0f921\"]]}],\"choropleth\":[{\"type\":\"choropleth\",\"colorbar\":{\"outlinewidth\":0,\"ticks\":\"\"}}],\"histogram2d\":[{\"type\":\"histogram2d\",\"colorbar\":{\"outlinewidth\":0,\"ticks\":\"\"},\"colorscale\":[[0.0,\"#0d0887\"],[0.1111111111111111,\"#46039f\"],[0.2222222222222222,\"#7201a8\"],[0.3333333333333333,\"#9c179e\"],[0.4444444444444444,\"#bd3786\"],[0.5555555555555556,\"#d8576b\"],[0.6666666666666666,\"#ed7953\"],[0.7777777777777778,\"#fb9f3a\"],[0.8888888888888888,\"#fdca26\"],[1.0,\"#f0f921\"]]}],\"heatmap\":[{\"type\":\"heatmap\",\"colorbar\":{\"outlinewidth\":0,\"ticks\":\"\"},\"colorscale\":[[0.0,\"#0d0887\"],[0.1111111111111111,\"#46039f\"],[0.2222222222222222,\"#7201a8\"],[0.3333333333333333,\"#9c179e\"],[0.4444444444444444,\"#bd3786\"],[0.5555555555555556,\"#d8576b\"],[0.6666666666666666,\"#ed7953\"],[0.7777777777777778,\"#fb9f3a\"],[0.8888888888888888,\"#fdca26\"],[1.0,\"#f0f921\"]]}],\"heatmapgl\":[{\"type\":\"heatmapgl\",\"colorbar\":{\"outlinewidth\":0,\"ticks\":\"\"},\"colorscale\":[[0.0,\"#0d0887\"],[0.1111111111111111,\"#46039f\"],[0.2222222222222222,\"#7201a8\"],[0.3333333333333333,\"#9c179e\"],[0.4444444444444444,\"#bd3786\"],[0.5555555555555556,\"#d8576b\"],[0.6666666666666666,\"#ed7953\"],[0.7777777777777778,\"#fb9f3a\"],[0.8888888888888888,\"#fdca26\"],[1.0,\"#f0f921\"]]}],\"contourcarpet\":[{\"type\":\"contourcarpet\",\"colorbar\":{\"outlinewidth\":0,\"ticks\":\"\"}}],\"contour\":[{\"type\":\"contour\",\"colorbar\":{\"outlinewidth\":0,\"ticks\":\"\"},\"colorscale\":[[0.0,\"#0d0887\"],[0.1111111111111111,\"#46039f\"],[0.2222222222222222,\"#7201a8\"],[0.3333333333333333,\"#9c179e\"],[0.4444444444444444,\"#bd3786\"],[0.5555555555555556,\"#d8576b\"],[0.6666666666666666,\"#ed7953\"],[0.7777777777777778,\"#fb9f3a\"],[0.8888888888888888,\"#fdca26\"],[1.0,\"#f0f921\"]]}],\"surface\":[{\"type\":\"surface\",\"colorbar\":{\"outlinewidth\":0,\"ticks\":\"\"},\"colorscale\":[[0.0,\"#0d0887\"],[0.1111111111111111,\"#46039f\"],[0.2222222222222222,\"#7201a8\"],[0.3333333333333333,\"#9c179e\"],[0.4444444444444444,\"#bd3786\"],[0.5555555555555556,\"#d8576b\"],[0.6666666666666666,\"#ed7953\"],[0.7777777777777778,\"#fb9f3a\"],[0.8888888888888888,\"#fdca26\"],[1.0,\"#f0f921\"]]}],\"mesh3d\":[{\"type\":\"mesh3d\",\"colorbar\":{\"outlinewidth\":0,\"ticks\":\"\"}}],\"scatter\":[{\"fillpattern\":{\"fillmode\":\"overlay\",\"size\":10,\"solidity\":0.2},\"type\":\"scatter\"}],\"parcoords\":[{\"type\":\"parcoords\",\"line\":{\"colorbar\":{\"outlinewidth\":0,\"ticks\":\"\"}}}],\"scatterpolargl\":[{\"type\":\"scatterpolargl\",\"marker\":{\"colorbar\":{\"outlinewidth\":0,\"ticks\":\"\"}}}],\"bar\":[{\"error_x\":{\"color\":\"#2a3f5f\"},\"error_y\":{\"color\":\"#2a3f5f\"},\"marker\":{\"line\":{\"color\":\"#E5ECF6\",\"width\":0.5},\"pattern\":{\"fillmode\":\"overlay\",\"size\":10,\"solidity\":0.2}},\"type\":\"bar\"}],\"scattergeo\":[{\"type\":\"scattergeo\",\"marker\":{\"colorbar\":{\"outlinewidth\":0,\"ticks\":\"\"}}}],\"scatterpolar\":[{\"type\":\"scatterpolar\",\"marker\":{\"colorbar\":{\"outlinewidth\":0,\"ticks\":\"\"}}}],\"histogram\":[{\"marker\":{\"pattern\":{\"fillmode\":\"overlay\",\"size\":10,\"solidity\":0.2}},\"type\":\"histogram\"}],\"scattergl\":[{\"type\":\"scattergl\",\"marker\":{\"colorbar\":{\"outlinewidth\":0,\"ticks\":\"\"}}}],\"scatter3d\":[{\"type\":\"scatter3d\",\"line\":{\"colorbar\":{\"outlinewidth\":0,\"ticks\":\"\"}},\"marker\":{\"colorbar\":{\"outlinewidth\":0,\"ticks\":\"\"}}}],\"scattermapbox\":[{\"type\":\"scattermapbox\",\"marker\":{\"colorbar\":{\"outlinewidth\":0,\"ticks\":\"\"}}}],\"scatterternary\":[{\"type\":\"scatterternary\",\"marker\":{\"colorbar\":{\"outlinewidth\":0,\"ticks\":\"\"}}}],\"scattercarpet\":[{\"type\":\"scattercarpet\",\"marker\":{\"colorbar\":{\"outlinewidth\":0,\"ticks\":\"\"}}}],\"carpet\":[{\"aaxis\":{\"endlinecolor\":\"#2a3f5f\",\"gridcolor\":\"white\",\"linecolor\":\"white\",\"minorgridcolor\":\"white\",\"startlinecolor\":\"#2a3f5f\"},\"baxis\":{\"endlinecolor\":\"#2a3f5f\",\"gridcolor\":\"white\",\"linecolor\":\"white\",\"minorgridcolor\":\"white\",\"startlinecolor\":\"#2a3f5f\"},\"type\":\"carpet\"}],\"table\":[{\"cells\":{\"fill\":{\"color\":\"#EBF0F8\"},\"line\":{\"color\":\"white\"}},\"header\":{\"fill\":{\"color\":\"#C8D4E3\"},\"line\":{\"color\":\"white\"}},\"type\":\"table\"}],\"barpolar\":[{\"marker\":{\"line\":{\"color\":\"#E5ECF6\",\"width\":0.5},\"pattern\":{\"fillmode\":\"overlay\",\"size\":10,\"solidity\":0.2}},\"type\":\"barpolar\"}],\"pie\":[{\"automargin\":true,\"type\":\"pie\"}]},\"layout\":{\"autotypenumbers\":\"strict\",\"colorway\":[\"#636efa\",\"#EF553B\",\"#00cc96\",\"#ab63fa\",\"#FFA15A\",\"#19d3f3\",\"#FF6692\",\"#B6E880\",\"#FF97FF\",\"#FECB52\"],\"font\":{\"color\":\"#2a3f5f\"},\"hovermode\":\"closest\",\"hoverlabel\":{\"align\":\"left\"},\"paper_bgcolor\":\"white\",\"plot_bgcolor\":\"#E5ECF6\",\"polar\":{\"bgcolor\":\"#E5ECF6\",\"angularaxis\":{\"gridcolor\":\"white\",\"linecolor\":\"white\",\"ticks\":\"\"},\"radialaxis\":{\"gridcolor\":\"white\",\"linecolor\":\"white\",\"ticks\":\"\"}},\"ternary\":{\"bgcolor\":\"#E5ECF6\",\"aaxis\":{\"gridcolor\":\"white\",\"linecolor\":\"white\",\"ticks\":\"\"},\"baxis\":{\"gridcolor\":\"white\",\"linecolor\":\"white\",\"ticks\":\"\"},\"caxis\":{\"gridcolor\":\"white\",\"linecolor\":\"white\",\"ticks\":\"\"}},\"coloraxis\":{\"colorbar\":{\"outlinewidth\":0,\"ticks\":\"\"}},\"colorscale\":{\"sequential\":[[0.0,\"#0d0887\"],[0.1111111111111111,\"#46039f\"],[0.2222222222222222,\"#7201a8\"],[0.3333333333333333,\"#9c179e\"],[0.4444444444444444,\"#bd3786\"],[0.5555555555555556,\"#d8576b\"],[0.6666666666666666,\"#ed7953\"],[0.7777777777777778,\"#fb9f3a\"],[0.8888888888888888,\"#fdca26\"],[1.0,\"#f0f921\"]],\"sequentialminus\":[[0.0,\"#0d0887\"],[0.1111111111111111,\"#46039f\"],[0.2222222222222222,\"#7201a8\"],[0.3333333333333333,\"#9c179e\"],[0.4444444444444444,\"#bd3786\"],[0.5555555555555556,\"#d8576b\"],[0.6666666666666666,\"#ed7953\"],[0.7777777777777778,\"#fb9f3a\"],[0.8888888888888888,\"#fdca26\"],[1.0,\"#f0f921\"]],\"diverging\":[[0,\"#8e0152\"],[0.1,\"#c51b7d\"],[0.2,\"#de77ae\"],[0.3,\"#f1b6da\"],[0.4,\"#fde0ef\"],[0.5,\"#f7f7f7\"],[0.6,\"#e6f5d0\"],[0.7,\"#b8e186\"],[0.8,\"#7fbc41\"],[0.9,\"#4d9221\"],[1,\"#276419\"]]},\"xaxis\":{\"gridcolor\":\"white\",\"linecolor\":\"white\",\"ticks\":\"\",\"title\":{\"standoff\":15},\"zerolinecolor\":\"white\",\"automargin\":true,\"zerolinewidth\":2},\"yaxis\":{\"gridcolor\":\"white\",\"linecolor\":\"white\",\"ticks\":\"\",\"title\":{\"standoff\":15},\"zerolinecolor\":\"white\",\"automargin\":true,\"zerolinewidth\":2},\"scene\":{\"xaxis\":{\"backgroundcolor\":\"#E5ECF6\",\"gridcolor\":\"white\",\"linecolor\":\"white\",\"showbackground\":true,\"ticks\":\"\",\"zerolinecolor\":\"white\",\"gridwidth\":2},\"yaxis\":{\"backgroundcolor\":\"#E5ECF6\",\"gridcolor\":\"white\",\"linecolor\":\"white\",\"showbackground\":true,\"ticks\":\"\",\"zerolinecolor\":\"white\",\"gridwidth\":2},\"zaxis\":{\"backgroundcolor\":\"#E5ECF6\",\"gridcolor\":\"white\",\"linecolor\":\"white\",\"showbackground\":true,\"ticks\":\"\",\"zerolinecolor\":\"white\",\"gridwidth\":2}},\"shapedefaults\":{\"line\":{\"color\":\"#2a3f5f\"}},\"annotationdefaults\":{\"arrowcolor\":\"#2a3f5f\",\"arrowhead\":0,\"arrowwidth\":1},\"geo\":{\"bgcolor\":\"white\",\"landcolor\":\"#E5ECF6\",\"subunitcolor\":\"white\",\"showland\":true,\"showlakes\":true,\"lakecolor\":\"white\"},\"title\":{\"x\":0.05},\"mapbox\":{\"style\":\"light\"}}},\"xaxis\":{\"anchor\":\"y\",\"domain\":[0.0,0.1183673469387755],\"showticklabels\":false},\"yaxis\":{\"anchor\":\"x\",\"domain\":[0.625,1.0],\"showticklabels\":false},\"xaxis2\":{\"anchor\":\"y2\",\"domain\":[0.14693877551020407,0.26530612244897955],\"showticklabels\":false},\"yaxis2\":{\"anchor\":\"x2\",\"domain\":[0.625,1.0],\"showticklabels\":false},\"xaxis3\":{\"anchor\":\"y3\",\"domain\":[0.29387755102040813,0.4122448979591836],\"showticklabels\":false},\"yaxis3\":{\"anchor\":\"x3\",\"domain\":[0.625,1.0],\"showticklabels\":false},\"xaxis4\":{\"anchor\":\"y4\",\"domain\":[0.4408163265306122,0.5591836734693877],\"showticklabels\":false},\"yaxis4\":{\"anchor\":\"x4\",\"domain\":[0.625,1.0],\"showticklabels\":false},\"xaxis5\":{\"anchor\":\"y5\",\"domain\":[0.5877551020408163,0.7061224489795918],\"showticklabels\":false},\"yaxis5\":{\"anchor\":\"x5\",\"domain\":[0.625,1.0],\"showticklabels\":false},\"xaxis6\":{\"anchor\":\"y6\",\"domain\":[0.7346938775510204,0.8530612244897959],\"showticklabels\":false},\"yaxis6\":{\"anchor\":\"x6\",\"domain\":[0.625,1.0],\"showticklabels\":false},\"xaxis7\":{\"anchor\":\"y7\",\"domain\":[0.8816326530612244,0.9999999999999999],\"showticklabels\":false},\"yaxis7\":{\"anchor\":\"x7\",\"domain\":[0.625,1.0],\"showticklabels\":false},\"xaxis8\":{\"anchor\":\"y8\",\"domain\":[0.0,0.1183673469387755],\"showticklabels\":false},\"yaxis8\":{\"anchor\":\"x8\",\"domain\":[0.0,0.375],\"showticklabels\":false},\"xaxis9\":{\"anchor\":\"y9\",\"domain\":[0.14693877551020407,0.26530612244897955]},\"yaxis9\":{\"anchor\":\"x9\",\"domain\":[0.0,0.375]},\"xaxis10\":{\"anchor\":\"y10\",\"domain\":[0.29387755102040813,0.4122448979591836]},\"yaxis10\":{\"anchor\":\"x10\",\"domain\":[0.0,0.375]},\"xaxis11\":{\"anchor\":\"y11\",\"domain\":[0.4408163265306122,0.5591836734693877]},\"yaxis11\":{\"anchor\":\"x11\",\"domain\":[0.0,0.375]},\"xaxis12\":{\"anchor\":\"y12\",\"domain\":[0.5877551020408163,0.7061224489795918]},\"yaxis12\":{\"anchor\":\"x12\",\"domain\":[0.0,0.375]},\"xaxis13\":{\"anchor\":\"y13\",\"domain\":[0.7346938775510204,0.8530612244897959]},\"yaxis13\":{\"anchor\":\"x13\",\"domain\":[0.0,0.375]},\"xaxis14\":{\"anchor\":\"y14\",\"domain\":[0.8816326530612244,0.9999999999999999]},\"yaxis14\":{\"anchor\":\"x14\",\"domain\":[0.0,0.375]},\"annotations\":[{\"font\":{\"color\":\"black\",\"size\":10},\"showarrow\":false,\"text\":\"frame_0\",\"x\":0.05918367346938775,\"xanchor\":\"center\",\"xref\":\"paper\",\"y\":1.0,\"yanchor\":\"bottom\",\"yref\":\"paper\"},{\"font\":{\"color\":\"black\",\"size\":10},\"showarrow\":false,\"text\":\"frame_1\",\"x\":0.2061224489795918,\"xanchor\":\"center\",\"xref\":\"paper\",\"y\":1.0,\"yanchor\":\"bottom\",\"yref\":\"paper\"},{\"font\":{\"color\":\"black\",\"size\":10},\"showarrow\":false,\"text\":\"frame_2\",\"x\":0.3530612244897959,\"xanchor\":\"center\",\"xref\":\"paper\",\"y\":1.0,\"yanchor\":\"bottom\",\"yref\":\"paper\"},{\"font\":{\"color\":\"black\",\"size\":10},\"showarrow\":false,\"text\":\"frame_3\",\"x\":0.49999999999999994,\"xanchor\":\"center\",\"xref\":\"paper\",\"y\":1.0,\"yanchor\":\"bottom\",\"yref\":\"paper\"},{\"font\":{\"color\":\"black\",\"size\":10},\"showarrow\":false,\"text\":\"frame_4\",\"x\":0.6469387755102041,\"xanchor\":\"center\",\"xref\":\"paper\",\"y\":1.0,\"yanchor\":\"bottom\",\"yref\":\"paper\"},{\"font\":{\"color\":\"black\",\"size\":10},\"showarrow\":false,\"text\":\"frame_5\",\"x\":0.7938775510204081,\"xanchor\":\"center\",\"xref\":\"paper\",\"y\":1.0,\"yanchor\":\"bottom\",\"yref\":\"paper\"},{\"font\":{\"color\":\"black\",\"size\":10},\"showarrow\":false,\"text\":\"frame_6\",\"x\":0.9408163265306122,\"xanchor\":\"center\",\"xref\":\"paper\",\"y\":1.0,\"yanchor\":\"bottom\",\"yref\":\"paper\"},{\"font\":{\"color\":\"black\",\"size\":10},\"showarrow\":false,\"text\":\"frame_7\",\"x\":0.05918367346938775,\"xanchor\":\"center\",\"xref\":\"paper\",\"y\":0.375,\"yanchor\":\"bottom\",\"yref\":\"paper\"},{\"font\":{\"color\":\"black\",\"size\":15},\"showarrow\":false,\"text\":\"Frames\",\"x\":0.5,\"xanchor\":\"center\",\"xref\":\"paper\",\"y\":0,\"yanchor\":\"top\",\"yref\":\"paper\",\"yshift\":-30},{\"font\":{\"color\":\"black\",\"size\":15},\"showarrow\":false,\"text\":\"Intensity\",\"textangle\":-90,\"x\":0,\"xanchor\":\"right\",\"xref\":\"paper\",\"xshift\":-40,\"y\":0.5,\"yanchor\":\"middle\",\"yref\":\"paper\"}]},                        {\"responsive\": true}                    ).then(function(){\n",
       "                            \n",
       "var gd = document.getElementById('2c52aa54-53a8-420a-9854-b6e46d58b801');\n",
       "var x = new MutationObserver(function (mutations, observer) {{\n",
       "        var display = window.getComputedStyle(gd).display;\n",
       "        if (!display || display === 'none') {{\n",
       "            console.log([gd, 'removed!']);\n",
       "            Plotly.purge(gd);\n",
       "            observer.disconnect();\n",
       "        }}\n",
       "}});\n",
       "\n",
       "// Listen for the removal of the full notebook cells\n",
       "var notebookContainer = gd.closest('#notebook-container');\n",
       "if (notebookContainer) {{\n",
       "    x.observe(notebookContainer, {childList: true});\n",
       "}}\n",
       "\n",
       "// Listen for the clearing of the current output cell\n",
       "var outputEl = gd.closest('.output');\n",
       "if (outputEl) {{\n",
       "    x.observe(outputEl, {childList: true});\n",
       "}}\n",
       "\n",
       "                        })                };                });            </script>        </div>"
      ]
     },
     "metadata": {},
     "output_type": "display_data"
    }
   ],
   "source": [
    "plot_raw_movie(plot_type = 'total_z_sum', track_number = 22, raw_image = zarr_arr, main_tracking_df = track_df, channel = 2)"
   ]
  },
  {
   "cell_type": "code",
   "execution_count": 120,
   "id": "7a6541b4-b123-4d5b-9040-daf1513fb767",
   "metadata": {},
   "outputs": [
    {
     "data": {
      "application/vnd.plotly.v1+json": {
       "config": {
        "plotlyServerURL": "https://plot.ly"
       },
       "data": [
        {
         "coloraxis": "coloraxis",
         "hovertemplate": "x: %{x}<br>y: %{y}<br>color: %{z}<extra></extra>",
         "name": "0",
         "type": "heatmap",
         "xaxis": "x",
         "yaxis": "y",
         "z": [
          [
           129,
           129,
           127,
           128,
           119,
           120,
           120,
           118,
           124,
           126,
           120,
           116
          ],
          [
           140,
           125,
           116,
           115,
           123,
           119,
           116,
           127,
           128,
           124,
           120,
           117
          ],
          [
           128,
           130,
           133,
           123,
           126,
           122,
           123,
           130,
           127,
           122,
           116,
           117
          ],
          [
           131,
           125,
           124,
           132,
           136,
           132,
           125,
           130,
           123,
           123,
           132,
           122
          ],
          [
           128,
           130,
           133,
           130,
           127,
           133,
           144,
           141,
           128,
           128,
           134,
           136
          ],
          [
           130,
           133,
           139,
           145,
           133,
           135,
           150,
           146,
           137,
           134,
           142,
           130
          ],
          [
           128,
           132,
           144,
           149,
           158,
           154,
           155,
           165,
           171,
           157,
           136,
           136
          ],
          [
           137,
           140,
           145,
           147,
           163,
           176,
           216,
           221,
           206,
           182,
           144,
           129
          ],
          [
           133,
           135,
           155,
           141,
           146,
           166,
           201,
           179,
           197,
           185,
           148,
           141
          ],
          [
           133,
           154,
           147,
           135,
           135,
           149,
           168,
           161,
           153,
           142,
           135,
           127
          ],
          [
           135,
           140,
           135,
           135,
           150,
           152,
           134,
           144,
           145,
           133,
           142,
           133
          ],
          [
           143,
           140,
           140,
           140,
           164,
           148,
           165,
           172,
           155,
           150,
           148,
           133
          ]
         ]
        },
        {
         "coloraxis": "coloraxis",
         "hovertemplate": "x: %{x}<br>y: %{y}<br>color: %{z}<extra></extra>",
         "name": "0",
         "type": "heatmap",
         "xaxis": "x2",
         "yaxis": "y2",
         "z": [
          [
           124,
           125,
           126,
           120,
           129,
           126,
           127,
           123,
           122,
           130,
           127,
           123
          ],
          [
           132,
           131,
           122,
           122,
           124,
           124,
           124,
           121,
           122,
           130,
           120,
           124
          ],
          [
           135,
           133,
           132,
           129,
           120,
           125,
           125,
           131,
           130,
           122,
           122,
           127
          ],
          [
           133,
           128,
           129,
           126,
           132,
           141,
           127,
           130,
           122,
           126,
           129,
           127
          ],
          [
           125,
           128,
           134,
           135,
           132,
           140,
           149,
           138,
           135,
           130,
           127,
           137
          ],
          [
           136,
           143,
           148,
           143,
           170,
           173,
           195,
           192,
           178,
           150,
           132,
           125
          ],
          [
           137,
           144,
           143,
           157,
           178,
           207,
           218,
           220,
           217,
           182,
           150,
           130
          ],
          [
           142,
           146,
           150,
           179,
           183,
           207,
           222,
           233,
           175,
           155,
           141,
           140
          ],
          [
           137,
           148,
           148,
           159,
           157,
           146,
           150,
           154,
           148,
           143,
           125,
           126
          ],
          [
           156,
           150,
           148,
           141,
           135,
           148,
           155,
           148,
           144,
           142,
           132,
           128
          ],
          [
           146,
           152,
           150,
           147,
           163,
           161,
           172,
           181,
           163,
           144,
           128,
           130
          ],
          [
           163,
           144,
           150,
           139,
           144,
           164,
           172,
           164,
           147,
           132,
           129,
           128
          ]
         ]
        },
        {
         "coloraxis": "coloraxis",
         "hovertemplate": "x: %{x}<br>y: %{y}<br>color: %{z}<extra></extra>",
         "name": "0",
         "type": "heatmap",
         "xaxis": "x3",
         "yaxis": "y3",
         "z": [
          [
           130,
           123,
           124,
           125,
           123,
           121,
           116,
           113,
           115,
           127,
           128,
           129
          ],
          [
           132,
           123,
           122,
           120,
           118,
           125,
           125,
           122,
           132,
           130,
           129,
           133
          ],
          [
           125,
           123,
           123,
           124,
           127,
           125,
           136,
           135,
           127,
           121,
           124,
           133
          ],
          [
           124,
           128,
           132,
           130,
           125,
           130,
           123,
           125,
           127,
           125,
           120,
           133
          ],
          [
           130,
           132,
           134,
           140,
           137,
           142,
           148,
           142,
           159,
           121,
           131,
           148
          ],
          [
           136,
           145,
           156,
           152,
           160,
           166,
           175,
           162,
           146,
           131,
           127,
           129
          ],
          [
           141,
           139,
           163,
           169,
           195,
           219,
           227,
           206,
           156,
           127,
           125,
           127
          ],
          [
           155,
           156,
           166,
           189,
           196,
           237,
           225,
           184,
           151,
           144,
           135,
           137
          ],
          [
           158,
           159,
           150,
           154,
           153,
           160,
           176,
           169,
           157,
           132,
           132,
           127
          ],
          [
           142,
           142,
           143,
           139,
           143,
           144,
           141,
           144,
           141,
           131,
           138,
           133
          ],
          [
           137,
           158,
           165,
           161,
           169,
           166,
           155,
           151,
           141,
           153,
           136,
           130
          ],
          [
           132,
           139,
           147,
           168,
           184,
           190,
           167,
           157,
           146,
           134,
           126,
           129
          ]
         ]
        },
        {
         "coloraxis": "coloraxis",
         "hovertemplate": "x: %{x}<br>y: %{y}<br>color: %{z}<extra></extra>",
         "name": "0",
         "type": "heatmap",
         "xaxis": "x4",
         "yaxis": "y4",
         "z": [
          [
           129,
           130,
           123,
           130,
           137,
           124,
           130,
           123,
           117,
           122,
           126,
           123
          ],
          [
           134,
           127,
           122,
           119,
           120,
           117,
           128,
           129,
           128,
           120,
           124,
           126
          ],
          [
           138,
           137,
           142,
           131,
           133,
           130,
           122,
           124,
           125,
           130,
           127,
           123
          ],
          [
           132,
           130,
           132,
           146,
           157,
           143,
           126,
           129,
           143,
           141,
           133,
           137
          ],
          [
           138,
           124,
           127,
           141,
           146,
           136,
           143,
           143,
           131,
           124,
           137,
           134
          ],
          [
           138,
           147,
           144,
           145,
           155,
           168,
           161,
           169,
           163,
           144,
           127,
           127
          ],
          [
           141,
           141,
           137,
           147,
           182,
           211,
           230,
           213,
           200,
           153,
           153,
           134
          ],
          [
           137,
           146,
           149,
           169,
           222,
           231,
           219,
           231,
           185,
           159,
           145,
           126
          ],
          [
           138,
           141,
           149,
           155,
           161,
           171,
           172,
           162,
           160,
           142,
           128,
           129
          ],
          [
           140,
           145,
           151,
           149,
           154,
           148,
           149,
           144,
           141,
           131,
           139,
           132
          ],
          [
           138,
           137,
           140,
           143,
           161,
           179,
           165,
           144,
           140,
           132,
           135,
           140
          ],
          [
           137,
           144,
           145,
           147,
           148,
           159,
           169,
           161,
           154,
           135,
           131,
           125
          ]
         ]
        },
        {
         "coloraxis": "coloraxis",
         "hovertemplate": "x: %{x}<br>y: %{y}<br>color: %{z}<extra></extra>",
         "name": "0",
         "type": "heatmap",
         "xaxis": "x5",
         "yaxis": "y5",
         "z": [
          [
           137,
           138,
           135,
           129,
           129,
           129,
           126,
           117,
           120,
           118,
           125,
           120
          ],
          [
           123,
           117,
           123,
           124,
           122,
           123,
           120,
           123,
           120,
           119,
           124,
           128
          ],
          [
           135,
           126,
           124,
           127,
           134,
           131,
           141,
           125,
           116,
           123,
           129,
           134
          ],
          [
           133,
           130,
           129,
           138,
           135,
           128,
           134,
           130,
           137,
           132,
           137,
           132
          ],
          [
           139,
           128,
           131,
           139,
           133,
           139,
           138,
           137,
           130,
           134,
           123,
           130
          ],
          [
           130,
           143,
           138,
           138,
           151,
           158,
           182,
           187,
           158,
           162,
           153,
           132
          ],
          [
           139,
           146,
           164,
           173,
           162,
           195,
           228,
           237,
           213,
           180,
           150,
           135
          ],
          [
           142,
           161,
           159,
           172,
           173,
           198,
           245,
           273,
           244,
           173,
           145,
           129
          ],
          [
           141,
           151,
           146,
           148,
           164,
           183,
           204,
           187,
           162,
           151,
           134,
           130
          ],
          [
           147,
           136,
           143,
           159,
           153,
           151,
           153,
           158,
           151,
           153,
           148,
           135
          ],
          [
           134,
           137,
           149,
           146,
           153,
           172,
           162,
           161,
           148,
           139,
           134,
           128
          ],
          [
           142,
           138,
           152,
           161,
           153,
           180,
           193,
           179,
           161,
           147,
           142,
           134
          ]
         ]
        },
        {
         "coloraxis": "coloraxis",
         "hovertemplate": "x: %{x}<br>y: %{y}<br>color: %{z}<extra></extra>",
         "name": "0",
         "type": "heatmap",
         "xaxis": "x6",
         "yaxis": "y6",
         "z": [
          [
           141,
           139,
           133,
           126,
           120,
           124,
           128,
           124,
           116,
           136,
           138,
           125
          ],
          [
           131,
           128,
           136,
           126,
           134,
           135,
           115,
           113,
           116,
           130,
           128,
           123
          ],
          [
           131,
           127,
           129,
           127,
           131,
           126,
           132,
           134,
           127,
           119,
           126,
           125
          ],
          [
           126,
           130,
           136,
           137,
           127,
           136,
           139,
           131,
           132,
           122,
           128,
           124
          ],
          [
           131,
           131,
           125,
           138,
           151,
           148,
           129,
           127,
           135,
           138,
           123,
           130
          ],
          [
           137,
           144,
           141,
           144,
           155,
           153,
           161,
           168,
           156,
           136,
           131,
           131
          ],
          [
           136,
           135,
           144,
           161,
           162,
           191,
           229,
           222,
           207,
           165,
           142,
           134
          ],
          [
           161,
           151,
           145,
           175,
           189,
           207,
           249,
           232,
           203,
           177,
           150,
           133
          ],
          [
           140,
           144,
           150,
           160,
           170,
           178,
           181,
           181,
           175,
           155,
           131,
           133
          ],
          [
           146,
           146,
           150,
           143,
           155,
           156,
           163,
           149,
           151,
           147,
           133,
           122
          ],
          [
           134,
           149,
           150,
           142,
           160,
           169,
           173,
           161,
           152,
           133,
           129,
           125
          ],
          [
           138,
           140,
           145,
           149,
           156,
           167,
           168,
           164,
           155,
           152,
           137,
           134
          ]
         ]
        },
        {
         "coloraxis": "coloraxis",
         "hovertemplate": "x: %{x}<br>y: %{y}<br>color: %{z}<extra></extra>",
         "name": "0",
         "type": "heatmap",
         "xaxis": "x7",
         "yaxis": "y7",
         "z": [
          [
           127,
           134,
           128,
           124,
           120,
           119,
           134,
           124,
           117,
           123,
           124,
           116
          ],
          [
           136,
           145,
           124,
           127,
           121,
           123,
           123,
           125,
           123,
           114,
           115,
           121
          ],
          [
           131,
           135,
           132,
           119,
           120,
           131,
           128,
           126,
           126,
           127,
           130,
           124
          ],
          [
           130,
           148,
           128,
           119,
           129,
           133,
           131,
           131,
           133,
           131,
           121,
           128
          ],
          [
           132,
           126,
           133,
           137,
           130,
           140,
           135,
           135,
           137,
           120,
           133,
           132
          ],
          [
           126,
           127,
           136,
           136,
           155,
           138,
           143,
           143,
           174,
           148,
           129,
           148
          ],
          [
           137,
           132,
           129,
           135,
           158,
           166,
           186,
           205,
           204,
           176,
           145,
           135
          ],
          [
           145,
           141,
           137,
           153,
           178,
           204,
           242,
           222,
           225,
           211,
           180,
           143
          ],
          [
           132,
           142,
           148,
           151,
           155,
           163,
           184,
           181,
           197,
           161,
           136,
           139
          ],
          [
           134,
           137,
           145,
           154,
           151,
           148,
           146,
           154,
           163,
           150,
           137,
           125
          ],
          [
           143,
           143,
           153,
           144,
           152,
           167,
           194,
           178,
           143,
           140,
           131,
           120
          ],
          [
           144,
           128,
           135,
           151,
           158,
           173,
           184,
           184,
           201,
           170,
           146,
           131
          ]
         ]
        },
        {
         "coloraxis": "coloraxis",
         "hovertemplate": "x: %{x}<br>y: %{y}<br>color: %{z}<extra></extra>",
         "name": "0",
         "type": "heatmap",
         "xaxis": "x8",
         "yaxis": "y8",
         "z": [
          [
           142,
           139,
           142,
           136,
           130,
           125,
           119,
           125,
           121,
           120,
           122,
           124
          ],
          [
           124,
           130,
           131,
           131,
           130,
           136,
           128,
           123,
           121,
           126,
           128,
           132
          ],
          [
           145,
           144,
           131,
           130,
           131,
           128,
           125,
           123,
           116,
           117,
           131,
           139
          ],
          [
           134,
           129,
           130,
           132,
           136,
           130,
           134,
           125,
           127,
           125,
           123,
           124
          ],
          [
           129,
           145,
           139,
           150,
           141,
           146,
           145,
           139,
           133,
           143,
           142,
           151
          ],
          [
           133,
           127,
           146,
           147,
           151,
           148,
           152,
           169,
           169,
           152,
           133,
           131
          ],
          [
           155,
           158,
           143,
           157,
           161,
           197,
           219,
           198,
           184,
           168,
           152,
           139
          ],
          [
           144,
           158,
           161,
           159,
           179,
           211,
           241,
           255,
           212,
           165,
           135,
           142
          ],
          [
           149,
           147,
           154,
           168,
           169,
           181,
           179,
           176,
           157,
           156,
           150,
           136
          ],
          [
           148,
           158,
           153,
           157,
           162,
           159,
           169,
           153,
           145,
           139,
           130,
           131
          ],
          [
           138,
           147,
           157,
           159,
           169,
           180,
           163,
           161,
           140,
           146,
           131,
           134
          ],
          [
           138,
           140,
           146,
           146,
           165,
           176,
           164,
           171,
           141,
           140,
           136,
           133
          ]
         ]
        }
       ],
       "layout": {
        "annotations": [
         {
          "font": {
           "color": "black",
           "size": 10
          },
          "showarrow": false,
          "text": "frame_0",
          "x": 0.05918367346938775,
          "xanchor": "center",
          "xref": "paper",
          "y": 1,
          "yanchor": "bottom",
          "yref": "paper"
         },
         {
          "font": {
           "color": "black",
           "size": 10
          },
          "showarrow": false,
          "text": "frame_1",
          "x": 0.2061224489795918,
          "xanchor": "center",
          "xref": "paper",
          "y": 1,
          "yanchor": "bottom",
          "yref": "paper"
         },
         {
          "font": {
           "color": "black",
           "size": 10
          },
          "showarrow": false,
          "text": "frame_2",
          "x": 0.3530612244897959,
          "xanchor": "center",
          "xref": "paper",
          "y": 1,
          "yanchor": "bottom",
          "yref": "paper"
         },
         {
          "font": {
           "color": "black",
           "size": 10
          },
          "showarrow": false,
          "text": "frame_3",
          "x": 0.49999999999999994,
          "xanchor": "center",
          "xref": "paper",
          "y": 1,
          "yanchor": "bottom",
          "yref": "paper"
         },
         {
          "font": {
           "color": "black",
           "size": 10
          },
          "showarrow": false,
          "text": "frame_4",
          "x": 0.6469387755102041,
          "xanchor": "center",
          "xref": "paper",
          "y": 1,
          "yanchor": "bottom",
          "yref": "paper"
         },
         {
          "font": {
           "color": "black",
           "size": 10
          },
          "showarrow": false,
          "text": "frame_5",
          "x": 0.7938775510204081,
          "xanchor": "center",
          "xref": "paper",
          "y": 1,
          "yanchor": "bottom",
          "yref": "paper"
         },
         {
          "font": {
           "color": "black",
           "size": 10
          },
          "showarrow": false,
          "text": "frame_6",
          "x": 0.9408163265306122,
          "xanchor": "center",
          "xref": "paper",
          "y": 1,
          "yanchor": "bottom",
          "yref": "paper"
         },
         {
          "font": {
           "color": "black",
           "size": 10
          },
          "showarrow": false,
          "text": "frame_7",
          "x": 0.05918367346938775,
          "xanchor": "center",
          "xref": "paper",
          "y": 0.375,
          "yanchor": "bottom",
          "yref": "paper"
         },
         {
          "font": {
           "color": "black",
           "size": 15
          },
          "showarrow": false,
          "text": "Frames",
          "x": 0.5,
          "xanchor": "center",
          "xref": "paper",
          "y": 0,
          "yanchor": "top",
          "yref": "paper",
          "yshift": -30
         },
         {
          "font": {
           "color": "black",
           "size": 15
          },
          "showarrow": false,
          "text": "Intensity",
          "textangle": -90,
          "x": 0,
          "xanchor": "right",
          "xref": "paper",
          "xshift": -40,
          "y": 0.5,
          "yanchor": "middle",
          "yref": "paper"
         }
        ],
        "autosize": true,
        "template": {
         "data": {
          "bar": [
           {
            "error_x": {
             "color": "#2a3f5f"
            },
            "error_y": {
             "color": "#2a3f5f"
            },
            "marker": {
             "line": {
              "color": "#E5ECF6",
              "width": 0.5
             },
             "pattern": {
              "fillmode": "overlay",
              "size": 10,
              "solidity": 0.2
             }
            },
            "type": "bar"
           }
          ],
          "barpolar": [
           {
            "marker": {
             "line": {
              "color": "#E5ECF6",
              "width": 0.5
             },
             "pattern": {
              "fillmode": "overlay",
              "size": 10,
              "solidity": 0.2
             }
            },
            "type": "barpolar"
           }
          ],
          "carpet": [
           {
            "aaxis": {
             "endlinecolor": "#2a3f5f",
             "gridcolor": "white",
             "linecolor": "white",
             "minorgridcolor": "white",
             "startlinecolor": "#2a3f5f"
            },
            "baxis": {
             "endlinecolor": "#2a3f5f",
             "gridcolor": "white",
             "linecolor": "white",
             "minorgridcolor": "white",
             "startlinecolor": "#2a3f5f"
            },
            "type": "carpet"
           }
          ],
          "choropleth": [
           {
            "colorbar": {
             "outlinewidth": 0,
             "ticks": ""
            },
            "type": "choropleth"
           }
          ],
          "contour": [
           {
            "colorbar": {
             "outlinewidth": 0,
             "ticks": ""
            },
            "colorscale": [
             [
              0,
              "#0d0887"
             ],
             [
              0.1111111111111111,
              "#46039f"
             ],
             [
              0.2222222222222222,
              "#7201a8"
             ],
             [
              0.3333333333333333,
              "#9c179e"
             ],
             [
              0.4444444444444444,
              "#bd3786"
             ],
             [
              0.5555555555555556,
              "#d8576b"
             ],
             [
              0.6666666666666666,
              "#ed7953"
             ],
             [
              0.7777777777777778,
              "#fb9f3a"
             ],
             [
              0.8888888888888888,
              "#fdca26"
             ],
             [
              1,
              "#f0f921"
             ]
            ],
            "type": "contour"
           }
          ],
          "contourcarpet": [
           {
            "colorbar": {
             "outlinewidth": 0,
             "ticks": ""
            },
            "type": "contourcarpet"
           }
          ],
          "heatmap": [
           {
            "colorbar": {
             "outlinewidth": 0,
             "ticks": ""
            },
            "colorscale": [
             [
              0,
              "#0d0887"
             ],
             [
              0.1111111111111111,
              "#46039f"
             ],
             [
              0.2222222222222222,
              "#7201a8"
             ],
             [
              0.3333333333333333,
              "#9c179e"
             ],
             [
              0.4444444444444444,
              "#bd3786"
             ],
             [
              0.5555555555555556,
              "#d8576b"
             ],
             [
              0.6666666666666666,
              "#ed7953"
             ],
             [
              0.7777777777777778,
              "#fb9f3a"
             ],
             [
              0.8888888888888888,
              "#fdca26"
             ],
             [
              1,
              "#f0f921"
             ]
            ],
            "type": "heatmap"
           }
          ],
          "heatmapgl": [
           {
            "colorbar": {
             "outlinewidth": 0,
             "ticks": ""
            },
            "colorscale": [
             [
              0,
              "#0d0887"
             ],
             [
              0.1111111111111111,
              "#46039f"
             ],
             [
              0.2222222222222222,
              "#7201a8"
             ],
             [
              0.3333333333333333,
              "#9c179e"
             ],
             [
              0.4444444444444444,
              "#bd3786"
             ],
             [
              0.5555555555555556,
              "#d8576b"
             ],
             [
              0.6666666666666666,
              "#ed7953"
             ],
             [
              0.7777777777777778,
              "#fb9f3a"
             ],
             [
              0.8888888888888888,
              "#fdca26"
             ],
             [
              1,
              "#f0f921"
             ]
            ],
            "type": "heatmapgl"
           }
          ],
          "histogram": [
           {
            "marker": {
             "pattern": {
              "fillmode": "overlay",
              "size": 10,
              "solidity": 0.2
             }
            },
            "type": "histogram"
           }
          ],
          "histogram2d": [
           {
            "colorbar": {
             "outlinewidth": 0,
             "ticks": ""
            },
            "colorscale": [
             [
              0,
              "#0d0887"
             ],
             [
              0.1111111111111111,
              "#46039f"
             ],
             [
              0.2222222222222222,
              "#7201a8"
             ],
             [
              0.3333333333333333,
              "#9c179e"
             ],
             [
              0.4444444444444444,
              "#bd3786"
             ],
             [
              0.5555555555555556,
              "#d8576b"
             ],
             [
              0.6666666666666666,
              "#ed7953"
             ],
             [
              0.7777777777777778,
              "#fb9f3a"
             ],
             [
              0.8888888888888888,
              "#fdca26"
             ],
             [
              1,
              "#f0f921"
             ]
            ],
            "type": "histogram2d"
           }
          ],
          "histogram2dcontour": [
           {
            "colorbar": {
             "outlinewidth": 0,
             "ticks": ""
            },
            "colorscale": [
             [
              0,
              "#0d0887"
             ],
             [
              0.1111111111111111,
              "#46039f"
             ],
             [
              0.2222222222222222,
              "#7201a8"
             ],
             [
              0.3333333333333333,
              "#9c179e"
             ],
             [
              0.4444444444444444,
              "#bd3786"
             ],
             [
              0.5555555555555556,
              "#d8576b"
             ],
             [
              0.6666666666666666,
              "#ed7953"
             ],
             [
              0.7777777777777778,
              "#fb9f3a"
             ],
             [
              0.8888888888888888,
              "#fdca26"
             ],
             [
              1,
              "#f0f921"
             ]
            ],
            "type": "histogram2dcontour"
           }
          ],
          "mesh3d": [
           {
            "colorbar": {
             "outlinewidth": 0,
             "ticks": ""
            },
            "type": "mesh3d"
           }
          ],
          "parcoords": [
           {
            "line": {
             "colorbar": {
              "outlinewidth": 0,
              "ticks": ""
             }
            },
            "type": "parcoords"
           }
          ],
          "pie": [
           {
            "automargin": true,
            "type": "pie"
           }
          ],
          "scatter": [
           {
            "fillpattern": {
             "fillmode": "overlay",
             "size": 10,
             "solidity": 0.2
            },
            "type": "scatter"
           }
          ],
          "scatter3d": [
           {
            "line": {
             "colorbar": {
              "outlinewidth": 0,
              "ticks": ""
             }
            },
            "marker": {
             "colorbar": {
              "outlinewidth": 0,
              "ticks": ""
             }
            },
            "type": "scatter3d"
           }
          ],
          "scattercarpet": [
           {
            "marker": {
             "colorbar": {
              "outlinewidth": 0,
              "ticks": ""
             }
            },
            "type": "scattercarpet"
           }
          ],
          "scattergeo": [
           {
            "marker": {
             "colorbar": {
              "outlinewidth": 0,
              "ticks": ""
             }
            },
            "type": "scattergeo"
           }
          ],
          "scattergl": [
           {
            "marker": {
             "colorbar": {
              "outlinewidth": 0,
              "ticks": ""
             }
            },
            "type": "scattergl"
           }
          ],
          "scattermapbox": [
           {
            "marker": {
             "colorbar": {
              "outlinewidth": 0,
              "ticks": ""
             }
            },
            "type": "scattermapbox"
           }
          ],
          "scatterpolar": [
           {
            "marker": {
             "colorbar": {
              "outlinewidth": 0,
              "ticks": ""
             }
            },
            "type": "scatterpolar"
           }
          ],
          "scatterpolargl": [
           {
            "marker": {
             "colorbar": {
              "outlinewidth": 0,
              "ticks": ""
             }
            },
            "type": "scatterpolargl"
           }
          ],
          "scatterternary": [
           {
            "marker": {
             "colorbar": {
              "outlinewidth": 0,
              "ticks": ""
             }
            },
            "type": "scatterternary"
           }
          ],
          "surface": [
           {
            "colorbar": {
             "outlinewidth": 0,
             "ticks": ""
            },
            "colorscale": [
             [
              0,
              "#0d0887"
             ],
             [
              0.1111111111111111,
              "#46039f"
             ],
             [
              0.2222222222222222,
              "#7201a8"
             ],
             [
              0.3333333333333333,
              "#9c179e"
             ],
             [
              0.4444444444444444,
              "#bd3786"
             ],
             [
              0.5555555555555556,
              "#d8576b"
             ],
             [
              0.6666666666666666,
              "#ed7953"
             ],
             [
              0.7777777777777778,
              "#fb9f3a"
             ],
             [
              0.8888888888888888,
              "#fdca26"
             ],
             [
              1,
              "#f0f921"
             ]
            ],
            "type": "surface"
           }
          ],
          "table": [
           {
            "cells": {
             "fill": {
              "color": "#EBF0F8"
             },
             "line": {
              "color": "white"
             }
            },
            "header": {
             "fill": {
              "color": "#C8D4E3"
             },
             "line": {
              "color": "white"
             }
            },
            "type": "table"
           }
          ]
         },
         "layout": {
          "annotationdefaults": {
           "arrowcolor": "#2a3f5f",
           "arrowhead": 0,
           "arrowwidth": 1
          },
          "autotypenumbers": "strict",
          "coloraxis": {
           "colorbar": {
            "outlinewidth": 0,
            "ticks": ""
           }
          },
          "colorscale": {
           "diverging": [
            [
             0,
             "#8e0152"
            ],
            [
             0.1,
             "#c51b7d"
            ],
            [
             0.2,
             "#de77ae"
            ],
            [
             0.3,
             "#f1b6da"
            ],
            [
             0.4,
             "#fde0ef"
            ],
            [
             0.5,
             "#f7f7f7"
            ],
            [
             0.6,
             "#e6f5d0"
            ],
            [
             0.7,
             "#b8e186"
            ],
            [
             0.8,
             "#7fbc41"
            ],
            [
             0.9,
             "#4d9221"
            ],
            [
             1,
             "#276419"
            ]
           ],
           "sequential": [
            [
             0,
             "#0d0887"
            ],
            [
             0.1111111111111111,
             "#46039f"
            ],
            [
             0.2222222222222222,
             "#7201a8"
            ],
            [
             0.3333333333333333,
             "#9c179e"
            ],
            [
             0.4444444444444444,
             "#bd3786"
            ],
            [
             0.5555555555555556,
             "#d8576b"
            ],
            [
             0.6666666666666666,
             "#ed7953"
            ],
            [
             0.7777777777777778,
             "#fb9f3a"
            ],
            [
             0.8888888888888888,
             "#fdca26"
            ],
            [
             1,
             "#f0f921"
            ]
           ],
           "sequentialminus": [
            [
             0,
             "#0d0887"
            ],
            [
             0.1111111111111111,
             "#46039f"
            ],
            [
             0.2222222222222222,
             "#7201a8"
            ],
            [
             0.3333333333333333,
             "#9c179e"
            ],
            [
             0.4444444444444444,
             "#bd3786"
            ],
            [
             0.5555555555555556,
             "#d8576b"
            ],
            [
             0.6666666666666666,
             "#ed7953"
            ],
            [
             0.7777777777777778,
             "#fb9f3a"
            ],
            [
             0.8888888888888888,
             "#fdca26"
            ],
            [
             1,
             "#f0f921"
            ]
           ]
          },
          "colorway": [
           "#636efa",
           "#EF553B",
           "#00cc96",
           "#ab63fa",
           "#FFA15A",
           "#19d3f3",
           "#FF6692",
           "#B6E880",
           "#FF97FF",
           "#FECB52"
          ],
          "font": {
           "color": "#2a3f5f"
          },
          "geo": {
           "bgcolor": "white",
           "lakecolor": "white",
           "landcolor": "#E5ECF6",
           "showlakes": true,
           "showland": true,
           "subunitcolor": "white"
          },
          "hoverlabel": {
           "align": "left"
          },
          "hovermode": "closest",
          "mapbox": {
           "style": "light"
          },
          "paper_bgcolor": "white",
          "plot_bgcolor": "#E5ECF6",
          "polar": {
           "angularaxis": {
            "gridcolor": "white",
            "linecolor": "white",
            "ticks": ""
           },
           "bgcolor": "#E5ECF6",
           "radialaxis": {
            "gridcolor": "white",
            "linecolor": "white",
            "ticks": ""
           }
          },
          "scene": {
           "xaxis": {
            "backgroundcolor": "#E5ECF6",
            "gridcolor": "white",
            "gridwidth": 2,
            "linecolor": "white",
            "showbackground": true,
            "ticks": "",
            "zerolinecolor": "white"
           },
           "yaxis": {
            "backgroundcolor": "#E5ECF6",
            "gridcolor": "white",
            "gridwidth": 2,
            "linecolor": "white",
            "showbackground": true,
            "ticks": "",
            "zerolinecolor": "white"
           },
           "zaxis": {
            "backgroundcolor": "#E5ECF6",
            "gridcolor": "white",
            "gridwidth": 2,
            "linecolor": "white",
            "showbackground": true,
            "ticks": "",
            "zerolinecolor": "white"
           }
          },
          "shapedefaults": {
           "line": {
            "color": "#2a3f5f"
           }
          },
          "ternary": {
           "aaxis": {
            "gridcolor": "white",
            "linecolor": "white",
            "ticks": ""
           },
           "baxis": {
            "gridcolor": "white",
            "linecolor": "white",
            "ticks": ""
           },
           "bgcolor": "#E5ECF6",
           "caxis": {
            "gridcolor": "white",
            "linecolor": "white",
            "ticks": ""
           }
          },
          "title": {
           "x": 0.05
          },
          "xaxis": {
           "automargin": true,
           "gridcolor": "white",
           "linecolor": "white",
           "ticks": "",
           "title": {
            "standoff": 15
           },
           "zerolinecolor": "white",
           "zerolinewidth": 2
          },
          "yaxis": {
           "automargin": true,
           "gridcolor": "white",
           "linecolor": "white",
           "ticks": "",
           "title": {
            "standoff": 15
           },
           "zerolinecolor": "white",
           "zerolinewidth": 2
          }
         }
        },
        "xaxis": {
         "anchor": "y",
         "autorange": true,
         "domain": [
          0,
          0.1183673469387755
         ],
         "range": [
          -0.5,
          11.5
         ],
         "showticklabels": false
        },
        "xaxis10": {
         "anchor": "y10",
         "domain": [
          0.29387755102040813,
          0.4122448979591836
         ]
        },
        "xaxis11": {
         "anchor": "y11",
         "domain": [
          0.4408163265306122,
          0.5591836734693877
         ]
        },
        "xaxis12": {
         "anchor": "y12",
         "domain": [
          0.5877551020408163,
          0.7061224489795918
         ]
        },
        "xaxis13": {
         "anchor": "y13",
         "domain": [
          0.7346938775510204,
          0.8530612244897959
         ]
        },
        "xaxis14": {
         "anchor": "y14",
         "domain": [
          0.8816326530612244,
          0.9999999999999999
         ]
        },
        "xaxis2": {
         "anchor": "y2",
         "autorange": true,
         "domain": [
          0.14693877551020407,
          0.26530612244897955
         ],
         "range": [
          -0.5,
          11.5
         ],
         "showticklabels": false
        },
        "xaxis3": {
         "anchor": "y3",
         "autorange": true,
         "domain": [
          0.29387755102040813,
          0.4122448979591836
         ],
         "range": [
          -0.5,
          11.5
         ],
         "showticklabels": false
        },
        "xaxis4": {
         "anchor": "y4",
         "autorange": true,
         "domain": [
          0.4408163265306122,
          0.5591836734693877
         ],
         "range": [
          -0.5,
          11.5
         ],
         "showticklabels": false
        },
        "xaxis5": {
         "anchor": "y5",
         "autorange": true,
         "domain": [
          0.5877551020408163,
          0.7061224489795918
         ],
         "range": [
          -0.5,
          11.5
         ],
         "showticklabels": false
        },
        "xaxis6": {
         "anchor": "y6",
         "autorange": true,
         "domain": [
          0.7346938775510204,
          0.8530612244897959
         ],
         "range": [
          -0.5,
          11.5
         ],
         "showticklabels": false
        },
        "xaxis7": {
         "anchor": "y7",
         "autorange": true,
         "domain": [
          0.8816326530612244,
          0.9999999999999999
         ],
         "range": [
          -0.5,
          11.5
         ],
         "showticklabels": false
        },
        "xaxis8": {
         "anchor": "y8",
         "autorange": true,
         "domain": [
          0,
          0.1183673469387755
         ],
         "range": [
          -0.5,
          11.5
         ],
         "showticklabels": false
        },
        "xaxis9": {
         "anchor": "y9",
         "domain": [
          0.14693877551020407,
          0.26530612244897955
         ]
        },
        "yaxis": {
         "anchor": "x",
         "autorange": true,
         "domain": [
          0.625,
          1
         ],
         "range": [
          -0.5,
          11.5
         ],
         "showticklabels": false
        },
        "yaxis10": {
         "anchor": "x10",
         "domain": [
          0,
          0.375
         ]
        },
        "yaxis11": {
         "anchor": "x11",
         "domain": [
          0,
          0.375
         ]
        },
        "yaxis12": {
         "anchor": "x12",
         "domain": [
          0,
          0.375
         ]
        },
        "yaxis13": {
         "anchor": "x13",
         "domain": [
          0,
          0.375
         ]
        },
        "yaxis14": {
         "anchor": "x14",
         "domain": [
          0,
          0.375
         ]
        },
        "yaxis2": {
         "anchor": "x2",
         "autorange": true,
         "domain": [
          0.625,
          1
         ],
         "range": [
          -0.5,
          11.5
         ],
         "showticklabels": false
        },
        "yaxis3": {
         "anchor": "x3",
         "autorange": true,
         "domain": [
          0.625,
          1
         ],
         "range": [
          -0.5,
          11.5
         ],
         "showticklabels": false
        },
        "yaxis4": {
         "anchor": "x4",
         "autorange": true,
         "domain": [
          0.625,
          1
         ],
         "range": [
          -0.5,
          11.5
         ],
         "showticklabels": false
        },
        "yaxis5": {
         "anchor": "x5",
         "autorange": true,
         "domain": [
          0.625,
          1
         ],
         "range": [
          -0.5,
          11.5
         ],
         "showticklabels": false
        },
        "yaxis6": {
         "anchor": "x6",
         "autorange": true,
         "domain": [
          0.625,
          1
         ],
         "range": [
          -0.5,
          11.5
         ],
         "showticklabels": false
        },
        "yaxis7": {
         "anchor": "x7",
         "autorange": true,
         "domain": [
          0.625,
          1
         ],
         "range": [
          -0.5,
          11.5
         ],
         "showticklabels": false
        },
        "yaxis8": {
         "anchor": "x8",
         "autorange": true,
         "domain": [
          0,
          0.375
         ],
         "range": [
          -0.5,
          11.5
         ],
         "showticklabels": false
        },
        "yaxis9": {
         "anchor": "x9",
         "domain": [
          0,
          0.375
         ]
        }
       }
      },
      "image/png": "[encoded data removed]",
      "text/html": [
       "<div>                            <div id=\"c3ddd6c8-743e-4c0f-a919-241dfe6f8865\" class=\"plotly-graph-div\" style=\"height:525px; width:100%;\"></div>            <script type=\"text/javascript\">                require([\"plotly\"], function(Plotly) {                    window.PLOTLYENV=window.PLOTLYENV || {};                                    if (document.getElementById(\"c3ddd6c8-743e-4c0f-a919-241dfe6f8865\")) {                    Plotly.newPlot(                        \"c3ddd6c8-743e-4c0f-a919-241dfe6f8865\",                        [{\"coloraxis\":\"coloraxis\",\"hovertemplate\":\"x: %{x}\\u003cbr\\u003ey: %{y}\\u003cbr\\u003ecolor: %{z}\\u003cextra\\u003e\\u003c\\u002fextra\\u003e\",\"name\":\"0\",\"xaxis\":\"x\",\"yaxis\":\"y\",\"z\":[[129,129,127,128,119,120,120,118,124,126,120,116],[140,125,116,115,123,119,116,127,128,124,120,117],[128,130,133,123,126,122,123,130,127,122,116,117],[131,125,124,132,136,132,125,130,123,123,132,122],[128,130,133,130,127,133,144,141,128,128,134,136],[130,133,139,145,133,135,150,146,137,134,142,130],[128,132,144,149,158,154,155,165,171,157,136,136],[137,140,145,147,163,176,216,221,206,182,144,129],[133,135,155,141,146,166,201,179,197,185,148,141],[133,154,147,135,135,149,168,161,153,142,135,127],[135,140,135,135,150,152,134,144,145,133,142,133],[143,140,140,140,164,148,165,172,155,150,148,133]],\"type\":\"heatmap\"},{\"coloraxis\":\"coloraxis\",\"hovertemplate\":\"x: %{x}\\u003cbr\\u003ey: %{y}\\u003cbr\\u003ecolor: %{z}\\u003cextra\\u003e\\u003c\\u002fextra\\u003e\",\"name\":\"0\",\"xaxis\":\"x2\",\"yaxis\":\"y2\",\"z\":[[124,125,126,120,129,126,127,123,122,130,127,123],[132,131,122,122,124,124,124,121,122,130,120,124],[135,133,132,129,120,125,125,131,130,122,122,127],[133,128,129,126,132,141,127,130,122,126,129,127],[125,128,134,135,132,140,149,138,135,130,127,137],[136,143,148,143,170,173,195,192,178,150,132,125],[137,144,143,157,178,207,218,220,217,182,150,130],[142,146,150,179,183,207,222,233,175,155,141,140],[137,148,148,159,157,146,150,154,148,143,125,126],[156,150,148,141,135,148,155,148,144,142,132,128],[146,152,150,147,163,161,172,181,163,144,128,130],[163,144,150,139,144,164,172,164,147,132,129,128]],\"type\":\"heatmap\"},{\"coloraxis\":\"coloraxis\",\"hovertemplate\":\"x: %{x}\\u003cbr\\u003ey: %{y}\\u003cbr\\u003ecolor: %{z}\\u003cextra\\u003e\\u003c\\u002fextra\\u003e\",\"name\":\"0\",\"xaxis\":\"x3\",\"yaxis\":\"y3\",\"z\":[[130,123,124,125,123,121,116,113,115,127,128,129],[132,123,122,120,118,125,125,122,132,130,129,133],[125,123,123,124,127,125,136,135,127,121,124,133],[124,128,132,130,125,130,123,125,127,125,120,133],[130,132,134,140,137,142,148,142,159,121,131,148],[136,145,156,152,160,166,175,162,146,131,127,129],[141,139,163,169,195,219,227,206,156,127,125,127],[155,156,166,189,196,237,225,184,151,144,135,137],[158,159,150,154,153,160,176,169,157,132,132,127],[142,142,143,139,143,144,141,144,141,131,138,133],[137,158,165,161,169,166,155,151,141,153,136,130],[132,139,147,168,184,190,167,157,146,134,126,129]],\"type\":\"heatmap\"},{\"coloraxis\":\"coloraxis\",\"hovertemplate\":\"x: %{x}\\u003cbr\\u003ey: %{y}\\u003cbr\\u003ecolor: %{z}\\u003cextra\\u003e\\u003c\\u002fextra\\u003e\",\"name\":\"0\",\"xaxis\":\"x4\",\"yaxis\":\"y4\",\"z\":[[129,130,123,130,137,124,130,123,117,122,126,123],[134,127,122,119,120,117,128,129,128,120,124,126],[138,137,142,131,133,130,122,124,125,130,127,123],[132,130,132,146,157,143,126,129,143,141,133,137],[138,124,127,141,146,136,143,143,131,124,137,134],[138,147,144,145,155,168,161,169,163,144,127,127],[141,141,137,147,182,211,230,213,200,153,153,134],[137,146,149,169,222,231,219,231,185,159,145,126],[138,141,149,155,161,171,172,162,160,142,128,129],[140,145,151,149,154,148,149,144,141,131,139,132],[138,137,140,143,161,179,165,144,140,132,135,140],[137,144,145,147,148,159,169,161,154,135,131,125]],\"type\":\"heatmap\"},{\"coloraxis\":\"coloraxis\",\"hovertemplate\":\"x: %{x}\\u003cbr\\u003ey: %{y}\\u003cbr\\u003ecolor: %{z}\\u003cextra\\u003e\\u003c\\u002fextra\\u003e\",\"name\":\"0\",\"xaxis\":\"x5\",\"yaxis\":\"y5\",\"z\":[[137,138,135,129,129,129,126,117,120,118,125,120],[123,117,123,124,122,123,120,123,120,119,124,128],[135,126,124,127,134,131,141,125,116,123,129,134],[133,130,129,138,135,128,134,130,137,132,137,132],[139,128,131,139,133,139,138,137,130,134,123,130],[130,143,138,138,151,158,182,187,158,162,153,132],[139,146,164,173,162,195,228,237,213,180,150,135],[142,161,159,172,173,198,245,273,244,173,145,129],[141,151,146,148,164,183,204,187,162,151,134,130],[147,136,143,159,153,151,153,158,151,153,148,135],[134,137,149,146,153,172,162,161,148,139,134,128],[142,138,152,161,153,180,193,179,161,147,142,134]],\"type\":\"heatmap\"},{\"coloraxis\":\"coloraxis\",\"hovertemplate\":\"x: %{x}\\u003cbr\\u003ey: %{y}\\u003cbr\\u003ecolor: %{z}\\u003cextra\\u003e\\u003c\\u002fextra\\u003e\",\"name\":\"0\",\"xaxis\":\"x6\",\"yaxis\":\"y6\",\"z\":[[141,139,133,126,120,124,128,124,116,136,138,125],[131,128,136,126,134,135,115,113,116,130,128,123],[131,127,129,127,131,126,132,134,127,119,126,125],[126,130,136,137,127,136,139,131,132,122,128,124],[131,131,125,138,151,148,129,127,135,138,123,130],[137,144,141,144,155,153,161,168,156,136,131,131],[136,135,144,161,162,191,229,222,207,165,142,134],[161,151,145,175,189,207,249,232,203,177,150,133],[140,144,150,160,170,178,181,181,175,155,131,133],[146,146,150,143,155,156,163,149,151,147,133,122],[134,149,150,142,160,169,173,161,152,133,129,125],[138,140,145,149,156,167,168,164,155,152,137,134]],\"type\":\"heatmap\"},{\"coloraxis\":\"coloraxis\",\"hovertemplate\":\"x: %{x}\\u003cbr\\u003ey: %{y}\\u003cbr\\u003ecolor: %{z}\\u003cextra\\u003e\\u003c\\u002fextra\\u003e\",\"name\":\"0\",\"xaxis\":\"x7\",\"yaxis\":\"y7\",\"z\":[[127,134,128,124,120,119,134,124,117,123,124,116],[136,145,124,127,121,123,123,125,123,114,115,121],[131,135,132,119,120,131,128,126,126,127,130,124],[130,148,128,119,129,133,131,131,133,131,121,128],[132,126,133,137,130,140,135,135,137,120,133,132],[126,127,136,136,155,138,143,143,174,148,129,148],[137,132,129,135,158,166,186,205,204,176,145,135],[145,141,137,153,178,204,242,222,225,211,180,143],[132,142,148,151,155,163,184,181,197,161,136,139],[134,137,145,154,151,148,146,154,163,150,137,125],[143,143,153,144,152,167,194,178,143,140,131,120],[144,128,135,151,158,173,184,184,201,170,146,131]],\"type\":\"heatmap\"},{\"coloraxis\":\"coloraxis\",\"hovertemplate\":\"x: %{x}\\u003cbr\\u003ey: %{y}\\u003cbr\\u003ecolor: %{z}\\u003cextra\\u003e\\u003c\\u002fextra\\u003e\",\"name\":\"0\",\"xaxis\":\"x8\",\"yaxis\":\"y8\",\"z\":[[142,139,142,136,130,125,119,125,121,120,122,124],[124,130,131,131,130,136,128,123,121,126,128,132],[145,144,131,130,131,128,125,123,116,117,131,139],[134,129,130,132,136,130,134,125,127,125,123,124],[129,145,139,150,141,146,145,139,133,143,142,151],[133,127,146,147,151,148,152,169,169,152,133,131],[155,158,143,157,161,197,219,198,184,168,152,139],[144,158,161,159,179,211,241,255,212,165,135,142],[149,147,154,168,169,181,179,176,157,156,150,136],[148,158,153,157,162,159,169,153,145,139,130,131],[138,147,157,159,169,180,163,161,140,146,131,134],[138,140,146,146,165,176,164,171,141,140,136,133]],\"type\":\"heatmap\"}],                        {\"template\":{\"data\":{\"histogram2dcontour\":[{\"type\":\"histogram2dcontour\",\"colorbar\":{\"outlinewidth\":0,\"ticks\":\"\"},\"colorscale\":[[0.0,\"#0d0887\"],[0.1111111111111111,\"#46039f\"],[0.2222222222222222,\"#7201a8\"],[0.3333333333333333,\"#9c179e\"],[0.4444444444444444,\"#bd3786\"],[0.5555555555555556,\"#d8576b\"],[0.6666666666666666,\"#ed7953\"],[0.7777777777777778,\"#fb9f3a\"],[0.8888888888888888,\"#fdca26\"],[1.0,\"#f0f921\"]]}],\"choropleth\":[{\"type\":\"choropleth\",\"colorbar\":{\"outlinewidth\":0,\"ticks\":\"\"}}],\"histogram2d\":[{\"type\":\"histogram2d\",\"colorbar\":{\"outlinewidth\":0,\"ticks\":\"\"},\"colorscale\":[[0.0,\"#0d0887\"],[0.1111111111111111,\"#46039f\"],[0.2222222222222222,\"#7201a8\"],[0.3333333333333333,\"#9c179e\"],[0.4444444444444444,\"#bd3786\"],[0.5555555555555556,\"#d8576b\"],[0.6666666666666666,\"#ed7953\"],[0.7777777777777778,\"#fb9f3a\"],[0.8888888888888888,\"#fdca26\"],[1.0,\"#f0f921\"]]}],\"heatmap\":[{\"type\":\"heatmap\",\"colorbar\":{\"outlinewidth\":0,\"ticks\":\"\"},\"colorscale\":[[0.0,\"#0d0887\"],[0.1111111111111111,\"#46039f\"],[0.2222222222222222,\"#7201a8\"],[0.3333333333333333,\"#9c179e\"],[0.4444444444444444,\"#bd3786\"],[0.5555555555555556,\"#d8576b\"],[0.6666666666666666,\"#ed7953\"],[0.7777777777777778,\"#fb9f3a\"],[0.8888888888888888,\"#fdca26\"],[1.0,\"#f0f921\"]]}],\"heatmapgl\":[{\"type\":\"heatmapgl\",\"colorbar\":{\"outlinewidth\":0,\"ticks\":\"\"},\"colorscale\":[[0.0,\"#0d0887\"],[0.1111111111111111,\"#46039f\"],[0.2222222222222222,\"#7201a8\"],[0.3333333333333333,\"#9c179e\"],[0.4444444444444444,\"#bd3786\"],[0.5555555555555556,\"#d8576b\"],[0.6666666666666666,\"#ed7953\"],[0.7777777777777778,\"#fb9f3a\"],[0.8888888888888888,\"#fdca26\"],[1.0,\"#f0f921\"]]}],\"contourcarpet\":[{\"type\":\"contourcarpet\",\"colorbar\":{\"outlinewidth\":0,\"ticks\":\"\"}}],\"contour\":[{\"type\":\"contour\",\"colorbar\":{\"outlinewidth\":0,\"ticks\":\"\"},\"colorscale\":[[0.0,\"#0d0887\"],[0.1111111111111111,\"#46039f\"],[0.2222222222222222,\"#7201a8\"],[0.3333333333333333,\"#9c179e\"],[0.4444444444444444,\"#bd3786\"],[0.5555555555555556,\"#d8576b\"],[0.6666666666666666,\"#ed7953\"],[0.7777777777777778,\"#fb9f3a\"],[0.8888888888888888,\"#fdca26\"],[1.0,\"#f0f921\"]]}],\"surface\":[{\"type\":\"surface\",\"colorbar\":{\"outlinewidth\":0,\"ticks\":\"\"},\"colorscale\":[[0.0,\"#0d0887\"],[0.1111111111111111,\"#46039f\"],[0.2222222222222222,\"#7201a8\"],[0.3333333333333333,\"#9c179e\"],[0.4444444444444444,\"#bd3786\"],[0.5555555555555556,\"#d8576b\"],[0.6666666666666666,\"#ed7953\"],[0.7777777777777778,\"#fb9f3a\"],[0.8888888888888888,\"#fdca26\"],[1.0,\"#f0f921\"]]}],\"mesh3d\":[{\"type\":\"mesh3d\",\"colorbar\":{\"outlinewidth\":0,\"ticks\":\"\"}}],\"scatter\":[{\"fillpattern\":{\"fillmode\":\"overlay\",\"size\":10,\"solidity\":0.2},\"type\":\"scatter\"}],\"parcoords\":[{\"type\":\"parcoords\",\"line\":{\"colorbar\":{\"outlinewidth\":0,\"ticks\":\"\"}}}],\"scatterpolargl\":[{\"type\":\"scatterpolargl\",\"marker\":{\"colorbar\":{\"outlinewidth\":0,\"ticks\":\"\"}}}],\"bar\":[{\"error_x\":{\"color\":\"#2a3f5f\"},\"error_y\":{\"color\":\"#2a3f5f\"},\"marker\":{\"line\":{\"color\":\"#E5ECF6\",\"width\":0.5},\"pattern\":{\"fillmode\":\"overlay\",\"size\":10,\"solidity\":0.2}},\"type\":\"bar\"}],\"scattergeo\":[{\"type\":\"scattergeo\",\"marker\":{\"colorbar\":{\"outlinewidth\":0,\"ticks\":\"\"}}}],\"scatterpolar\":[{\"type\":\"scatterpolar\",\"marker\":{\"colorbar\":{\"outlinewidth\":0,\"ticks\":\"\"}}}],\"histogram\":[{\"marker\":{\"pattern\":{\"fillmode\":\"overlay\",\"size\":10,\"solidity\":0.2}},\"type\":\"histogram\"}],\"scattergl\":[{\"type\":\"scattergl\",\"marker\":{\"colorbar\":{\"outlinewidth\":0,\"ticks\":\"\"}}}],\"scatter3d\":[{\"type\":\"scatter3d\",\"line\":{\"colorbar\":{\"outlinewidth\":0,\"ticks\":\"\"}},\"marker\":{\"colorbar\":{\"outlinewidth\":0,\"ticks\":\"\"}}}],\"scattermapbox\":[{\"type\":\"scattermapbox\",\"marker\":{\"colorbar\":{\"outlinewidth\":0,\"ticks\":\"\"}}}],\"scatterternary\":[{\"type\":\"scatterternary\",\"marker\":{\"colorbar\":{\"outlinewidth\":0,\"ticks\":\"\"}}}],\"scattercarpet\":[{\"type\":\"scattercarpet\",\"marker\":{\"colorbar\":{\"outlinewidth\":0,\"ticks\":\"\"}}}],\"carpet\":[{\"aaxis\":{\"endlinecolor\":\"#2a3f5f\",\"gridcolor\":\"white\",\"linecolor\":\"white\",\"minorgridcolor\":\"white\",\"startlinecolor\":\"#2a3f5f\"},\"baxis\":{\"endlinecolor\":\"#2a3f5f\",\"gridcolor\":\"white\",\"linecolor\":\"white\",\"minorgridcolor\":\"white\",\"startlinecolor\":\"#2a3f5f\"},\"type\":\"carpet\"}],\"table\":[{\"cells\":{\"fill\":{\"color\":\"#EBF0F8\"},\"line\":{\"color\":\"white\"}},\"header\":{\"fill\":{\"color\":\"#C8D4E3\"},\"line\":{\"color\":\"white\"}},\"type\":\"table\"}],\"barpolar\":[{\"marker\":{\"line\":{\"color\":\"#E5ECF6\",\"width\":0.5},\"pattern\":{\"fillmode\":\"overlay\",\"size\":10,\"solidity\":0.2}},\"type\":\"barpolar\"}],\"pie\":[{\"automargin\":true,\"type\":\"pie\"}]},\"layout\":{\"autotypenumbers\":\"strict\",\"colorway\":[\"#636efa\",\"#EF553B\",\"#00cc96\",\"#ab63fa\",\"#FFA15A\",\"#19d3f3\",\"#FF6692\",\"#B6E880\",\"#FF97FF\",\"#FECB52\"],\"font\":{\"color\":\"#2a3f5f\"},\"hovermode\":\"closest\",\"hoverlabel\":{\"align\":\"left\"},\"paper_bgcolor\":\"white\",\"plot_bgcolor\":\"#E5ECF6\",\"polar\":{\"bgcolor\":\"#E5ECF6\",\"angularaxis\":{\"gridcolor\":\"white\",\"linecolor\":\"white\",\"ticks\":\"\"},\"radialaxis\":{\"gridcolor\":\"white\",\"linecolor\":\"white\",\"ticks\":\"\"}},\"ternary\":{\"bgcolor\":\"#E5ECF6\",\"aaxis\":{\"gridcolor\":\"white\",\"linecolor\":\"white\",\"ticks\":\"\"},\"baxis\":{\"gridcolor\":\"white\",\"linecolor\":\"white\",\"ticks\":\"\"},\"caxis\":{\"gridcolor\":\"white\",\"linecolor\":\"white\",\"ticks\":\"\"}},\"coloraxis\":{\"colorbar\":{\"outlinewidth\":0,\"ticks\":\"\"}},\"colorscale\":{\"sequential\":[[0.0,\"#0d0887\"],[0.1111111111111111,\"#46039f\"],[0.2222222222222222,\"#7201a8\"],[0.3333333333333333,\"#9c179e\"],[0.4444444444444444,\"#bd3786\"],[0.5555555555555556,\"#d8576b\"],[0.6666666666666666,\"#ed7953\"],[0.7777777777777778,\"#fb9f3a\"],[0.8888888888888888,\"#fdca26\"],[1.0,\"#f0f921\"]],\"sequentialminus\":[[0.0,\"#0d0887\"],[0.1111111111111111,\"#46039f\"],[0.2222222222222222,\"#7201a8\"],[0.3333333333333333,\"#9c179e\"],[0.4444444444444444,\"#bd3786\"],[0.5555555555555556,\"#d8576b\"],[0.6666666666666666,\"#ed7953\"],[0.7777777777777778,\"#fb9f3a\"],[0.8888888888888888,\"#fdca26\"],[1.0,\"#f0f921\"]],\"diverging\":[[0,\"#8e0152\"],[0.1,\"#c51b7d\"],[0.2,\"#de77ae\"],[0.3,\"#f1b6da\"],[0.4,\"#fde0ef\"],[0.5,\"#f7f7f7\"],[0.6,\"#e6f5d0\"],[0.7,\"#b8e186\"],[0.8,\"#7fbc41\"],[0.9,\"#4d9221\"],[1,\"#276419\"]]},\"xaxis\":{\"gridcolor\":\"white\",\"linecolor\":\"white\",\"ticks\":\"\",\"title\":{\"standoff\":15},\"zerolinecolor\":\"white\",\"automargin\":true,\"zerolinewidth\":2},\"yaxis\":{\"gridcolor\":\"white\",\"linecolor\":\"white\",\"ticks\":\"\",\"title\":{\"standoff\":15},\"zerolinecolor\":\"white\",\"automargin\":true,\"zerolinewidth\":2},\"scene\":{\"xaxis\":{\"backgroundcolor\":\"#E5ECF6\",\"gridcolor\":\"white\",\"linecolor\":\"white\",\"showbackground\":true,\"ticks\":\"\",\"zerolinecolor\":\"white\",\"gridwidth\":2},\"yaxis\":{\"backgroundcolor\":\"#E5ECF6\",\"gridcolor\":\"white\",\"linecolor\":\"white\",\"showbackground\":true,\"ticks\":\"\",\"zerolinecolor\":\"white\",\"gridwidth\":2},\"zaxis\":{\"backgroundcolor\":\"#E5ECF6\",\"gridcolor\":\"white\",\"linecolor\":\"white\",\"showbackground\":true,\"ticks\":\"\",\"zerolinecolor\":\"white\",\"gridwidth\":2}},\"shapedefaults\":{\"line\":{\"color\":\"#2a3f5f\"}},\"annotationdefaults\":{\"arrowcolor\":\"#2a3f5f\",\"arrowhead\":0,\"arrowwidth\":1},\"geo\":{\"bgcolor\":\"white\",\"landcolor\":\"#E5ECF6\",\"subunitcolor\":\"white\",\"showland\":true,\"showlakes\":true,\"lakecolor\":\"white\"},\"title\":{\"x\":0.05},\"mapbox\":{\"style\":\"light\"}}},\"xaxis\":{\"anchor\":\"y\",\"domain\":[0.0,0.1183673469387755],\"showticklabels\":false},\"yaxis\":{\"anchor\":\"x\",\"domain\":[0.625,1.0],\"showticklabels\":false},\"xaxis2\":{\"anchor\":\"y2\",\"domain\":[0.14693877551020407,0.26530612244897955],\"showticklabels\":false},\"yaxis2\":{\"anchor\":\"x2\",\"domain\":[0.625,1.0],\"showticklabels\":false},\"xaxis3\":{\"anchor\":\"y3\",\"domain\":[0.29387755102040813,0.4122448979591836],\"showticklabels\":false},\"yaxis3\":{\"anchor\":\"x3\",\"domain\":[0.625,1.0],\"showticklabels\":false},\"xaxis4\":{\"anchor\":\"y4\",\"domain\":[0.4408163265306122,0.5591836734693877],\"showticklabels\":false},\"yaxis4\":{\"anchor\":\"x4\",\"domain\":[0.625,1.0],\"showticklabels\":false},\"xaxis5\":{\"anchor\":\"y5\",\"domain\":[0.5877551020408163,0.7061224489795918],\"showticklabels\":false},\"yaxis5\":{\"anchor\":\"x5\",\"domain\":[0.625,1.0],\"showticklabels\":false},\"xaxis6\":{\"anchor\":\"y6\",\"domain\":[0.7346938775510204,0.8530612244897959],\"showticklabels\":false},\"yaxis6\":{\"anchor\":\"x6\",\"domain\":[0.625,1.0],\"showticklabels\":false},\"xaxis7\":{\"anchor\":\"y7\",\"domain\":[0.8816326530612244,0.9999999999999999],\"showticklabels\":false},\"yaxis7\":{\"anchor\":\"x7\",\"domain\":[0.625,1.0],\"showticklabels\":false},\"xaxis8\":{\"anchor\":\"y8\",\"domain\":[0.0,0.1183673469387755],\"showticklabels\":false},\"yaxis8\":{\"anchor\":\"x8\",\"domain\":[0.0,0.375],\"showticklabels\":false},\"xaxis9\":{\"anchor\":\"y9\",\"domain\":[0.14693877551020407,0.26530612244897955]},\"yaxis9\":{\"anchor\":\"x9\",\"domain\":[0.0,0.375]},\"xaxis10\":{\"anchor\":\"y10\",\"domain\":[0.29387755102040813,0.4122448979591836]},\"yaxis10\":{\"anchor\":\"x10\",\"domain\":[0.0,0.375]},\"xaxis11\":{\"anchor\":\"y11\",\"domain\":[0.4408163265306122,0.5591836734693877]},\"yaxis11\":{\"anchor\":\"x11\",\"domain\":[0.0,0.375]},\"xaxis12\":{\"anchor\":\"y12\",\"domain\":[0.5877551020408163,0.7061224489795918]},\"yaxis12\":{\"anchor\":\"x12\",\"domain\":[0.0,0.375]},\"xaxis13\":{\"anchor\":\"y13\",\"domain\":[0.7346938775510204,0.8530612244897959]},\"yaxis13\":{\"anchor\":\"x13\",\"domain\":[0.0,0.375]},\"xaxis14\":{\"anchor\":\"y14\",\"domain\":[0.8816326530612244,0.9999999999999999]},\"yaxis14\":{\"anchor\":\"x14\",\"domain\":[0.0,0.375]},\"annotations\":[{\"font\":{\"color\":\"black\",\"size\":10},\"showarrow\":false,\"text\":\"frame_0\",\"x\":0.05918367346938775,\"xanchor\":\"center\",\"xref\":\"paper\",\"y\":1.0,\"yanchor\":\"bottom\",\"yref\":\"paper\"},{\"font\":{\"color\":\"black\",\"size\":10},\"showarrow\":false,\"text\":\"frame_1\",\"x\":0.2061224489795918,\"xanchor\":\"center\",\"xref\":\"paper\",\"y\":1.0,\"yanchor\":\"bottom\",\"yref\":\"paper\"},{\"font\":{\"color\":\"black\",\"size\":10},\"showarrow\":false,\"text\":\"frame_2\",\"x\":0.3530612244897959,\"xanchor\":\"center\",\"xref\":\"paper\",\"y\":1.0,\"yanchor\":\"bottom\",\"yref\":\"paper\"},{\"font\":{\"color\":\"black\",\"size\":10},\"showarrow\":false,\"text\":\"frame_3\",\"x\":0.49999999999999994,\"xanchor\":\"center\",\"xref\":\"paper\",\"y\":1.0,\"yanchor\":\"bottom\",\"yref\":\"paper\"},{\"font\":{\"color\":\"black\",\"size\":10},\"showarrow\":false,\"text\":\"frame_4\",\"x\":0.6469387755102041,\"xanchor\":\"center\",\"xref\":\"paper\",\"y\":1.0,\"yanchor\":\"bottom\",\"yref\":\"paper\"},{\"font\":{\"color\":\"black\",\"size\":10},\"showarrow\":false,\"text\":\"frame_5\",\"x\":0.7938775510204081,\"xanchor\":\"center\",\"xref\":\"paper\",\"y\":1.0,\"yanchor\":\"bottom\",\"yref\":\"paper\"},{\"font\":{\"color\":\"black\",\"size\":10},\"showarrow\":false,\"text\":\"frame_6\",\"x\":0.9408163265306122,\"xanchor\":\"center\",\"xref\":\"paper\",\"y\":1.0,\"yanchor\":\"bottom\",\"yref\":\"paper\"},{\"font\":{\"color\":\"black\",\"size\":10},\"showarrow\":false,\"text\":\"frame_7\",\"x\":0.05918367346938775,\"xanchor\":\"center\",\"xref\":\"paper\",\"y\":0.375,\"yanchor\":\"bottom\",\"yref\":\"paper\"},{\"font\":{\"color\":\"black\",\"size\":15},\"showarrow\":false,\"text\":\"Frames\",\"x\":0.5,\"xanchor\":\"center\",\"xref\":\"paper\",\"y\":0,\"yanchor\":\"top\",\"yref\":\"paper\",\"yshift\":-30},{\"font\":{\"color\":\"black\",\"size\":15},\"showarrow\":false,\"text\":\"Intensity\",\"textangle\":-90,\"x\":0,\"xanchor\":\"right\",\"xref\":\"paper\",\"xshift\":-40,\"y\":0.5,\"yanchor\":\"middle\",\"yref\":\"paper\"}]},                        {\"responsive\": true}                    ).then(function(){\n",
       "                            \n",
       "var gd = document.getElementById('c3ddd6c8-743e-4c0f-a919-241dfe6f8865');\n",
       "var x = new MutationObserver(function (mutations, observer) {{\n",
       "        var display = window.getComputedStyle(gd).display;\n",
       "        if (!display || display === 'none') {{\n",
       "            console.log([gd, 'removed!']);\n",
       "            Plotly.purge(gd);\n",
       "            observer.disconnect();\n",
       "        }}\n",
       "}});\n",
       "\n",
       "// Listen for the removal of the full notebook cells\n",
       "var notebookContainer = gd.closest('#notebook-container');\n",
       "if (notebookContainer) {{\n",
       "    x.observe(notebookContainer, {childList: true});\n",
       "}}\n",
       "\n",
       "// Listen for the clearing of the current output cell\n",
       "var outputEl = gd.closest('.output');\n",
       "if (outputEl) {{\n",
       "    x.observe(outputEl, {childList: true});\n",
       "}}\n",
       "\n",
       "                        })                };                });            </script>        </div>"
      ]
     },
     "metadata": {},
     "output_type": "display_data"
    }
   ],
   "source": [
    "plot_raw_movie(plot_type = 'max_intensity_projection', track_number = 22, raw_image = zarr_arr, main_tracking_df = track_df, channel = 2)"
   ]
  },
  {
   "cell_type": "code",
   "execution_count": null,
   "id": "e72c8ff0-dc9e-4bb9-a45f-fb71fd2ce0d0",
   "metadata": {},
   "outputs": [],
   "source": []
  }
 ],
 "metadata": {
  "kernelspec": {
   "display_name": "Python 3 (ipykernel)",
   "language": "python",
   "name": "python3"
  },
  "language_info": {
   "codemirror_mode": {
    "name": "ipython",
    "version": 3
   },
   "file_extension": ".py",
   "mimetype": "text/x-python",
   "name": "python",
   "nbconvert_exporter": "python",
   "pygments_lexer": "ipython3",
   "version": "3.10.13"
  }
 },
 "nbformat": 4,
 "nbformat_minor": 5
}
