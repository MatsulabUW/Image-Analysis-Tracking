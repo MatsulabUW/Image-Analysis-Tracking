{
 "cells": [
  {
   "cell_type": "code",
   "execution_count": 1,
   "id": "62a4feae-de71-474c-a3b1-9d442d2a2fe6",
   "metadata": {},
   "outputs": [],
   "source": [
    "%matplotlib inline\n",
    "import matplotlib.pyplot as plt\n",
    "import numpy as np\n",
    "import pandas as pd\n",
    "from aicsimageio import AICSImage\n",
    "import time\n",
    "import os\n",
    "import sys\n",
    "pythonPackagePath = os.path.abspath('../src/')\n",
    "sys.path.append(pythonPackagePath)\n",
    "from parallel import Detector\n",
    "import matplotlib.pyplot as plt\n",
    "from skimage import io\n",
    "import zarr\n",
    "%load_ext memory_profiler"
   ]
  },
  {
   "cell_type": "code",
   "execution_count": 2,
   "id": "2f8dc259-df31-401a-abd5-20a1e9c4e9a2",
   "metadata": {},
   "outputs": [],
   "source": [
    "z2 = zarr.open('/Users/apple/Desktop/Akamatsu_Lab/Data/zarr_data/Channel_3/transpose-148f28e615c88260294c4c8208b84ca3', mode='r')\n",
    "\n",
    "save_dir = '/Users/apple/Desktop/Akamatsu_Lab/Data/Channel_3_pkl_zarr_test'"
   ]
  },
  {
   "cell_type": "code",
   "execution_count": 3,
   "id": "69dbbf55-cf28-420a-866c-8168ac253834",
   "metadata": {},
   "outputs": [
    {
     "data": {
      "text/html": [
       "<table class=\"zarr-info\"><tbody><tr><th style=\"text-align: left\">Type</th><td style=\"text-align: left\">zarr.core.Array</td></tr><tr><th style=\"text-align: left\">Data type</th><td style=\"text-align: left\">uint16</td></tr><tr><th style=\"text-align: left\">Shape</th><td style=\"text-align: left\">(130, 1, 116, 2052, 340)</td></tr><tr><th style=\"text-align: left\">Chunk shape</th><td style=\"text-align: left\">(1, 1, 116, 2052, 340)</td></tr><tr><th style=\"text-align: left\">Order</th><td style=\"text-align: left\">C</td></tr><tr><th style=\"text-align: left\">Read-only</th><td style=\"text-align: left\">True</td></tr><tr><th style=\"text-align: left\">Compressor</th><td style=\"text-align: left\">Blosc(cname='lz4', clevel=5, shuffle=SHUFFLE, blocksize=0)</td></tr><tr><th style=\"text-align: left\">Store type</th><td style=\"text-align: left\">zarr.storage.DirectoryStore</td></tr><tr><th style=\"text-align: left\">No. bytes</th><td style=\"text-align: left\">21042028800 (19.6G)</td></tr><tr><th style=\"text-align: left\">No. bytes stored</th><td style=\"text-align: left\">4452019926 (4.1G)</td></tr><tr><th style=\"text-align: left\">Storage ratio</th><td style=\"text-align: left\">4.7</td></tr><tr><th style=\"text-align: left\">Chunks initialized</th><td style=\"text-align: left\">130/130</td></tr></tbody></table>"
      ],
      "text/plain": [
       "Type               : zarr.core.Array\n",
       "Data type          : uint16\n",
       "Shape              : (130, 1, 116, 2052, 340)\n",
       "Chunk shape        : (1, 1, 116, 2052, 340)\n",
       "Order              : C\n",
       "Read-only          : True\n",
       "Compressor         : Blosc(cname='lz4', clevel=5, shuffle=SHUFFLE, blocksize=0)\n",
       "Store type         : zarr.storage.DirectoryStore\n",
       "No. bytes          : 21042028800 (19.6G)\n",
       "No. bytes stored   : 4452019926 (4.1G)\n",
       "Storage ratio      : 4.7\n",
       "Chunks initialized : 130/130"
      ]
     },
     "execution_count": 3,
     "metadata": {},
     "output_type": "execute_result"
    }
   ],
   "source": [
    "z2.info"
   ]
  },
  {
   "cell_type": "code",
   "execution_count": 4,
   "id": "7faf52ec-b6e7-4993-8297-15b3f856e00d",
   "metadata": {},
   "outputs": [
    {
     "data": {
      "text/plain": [
       "\u001b[0;31mInit signature:\u001b[0m\n",
       "\u001b[0mDetector\u001b[0m\u001b[0;34m(\u001b[0m\u001b[0;34m\u001b[0m\n",
       "\u001b[0;34m\u001b[0m    \u001b[0mzarr_obj\u001b[0m\u001b[0;34m:\u001b[0m \u001b[0;34m<\u001b[0m\u001b[0mfunction\u001b[0m \u001b[0marray\u001b[0m \u001b[0mat\u001b[0m \u001b[0;36m0x7fe296cd6200\u001b[0m\u001b[0;34m>\u001b[0m\u001b[0;34m,\u001b[0m\u001b[0;34m\u001b[0m\n",
       "\u001b[0;34m\u001b[0m    \u001b[0msave_directory\u001b[0m\u001b[0;34m:\u001b[0m \u001b[0mstr\u001b[0m\u001b[0;34m,\u001b[0m\u001b[0;34m\u001b[0m\n",
       "\u001b[0;34m\u001b[0m    \u001b[0mspot_intensity\u001b[0m\u001b[0;34m:\u001b[0m \u001b[0mfloat\u001b[0m\u001b[0;34m,\u001b[0m\u001b[0;34m\u001b[0m\n",
       "\u001b[0;34m\u001b[0m    \u001b[0mdist_between_spots\u001b[0m\u001b[0;34m:\u001b[0m \u001b[0mint\u001b[0m\u001b[0;34m,\u001b[0m\u001b[0;34m\u001b[0m\n",
       "\u001b[0;34m\u001b[0m    \u001b[0msigma_estimations\u001b[0m\u001b[0;34m:\u001b[0m \u001b[0mlist\u001b[0m\u001b[0;34m,\u001b[0m\u001b[0;34m\u001b[0m\n",
       "\u001b[0;34m\u001b[0m    \u001b[0mn_jobs\u001b[0m\u001b[0;34m:\u001b[0m \u001b[0mint\u001b[0m\u001b[0;34m,\u001b[0m\u001b[0;34m\u001b[0m\n",
       "\u001b[0;34m\u001b[0m\u001b[0;34m)\u001b[0m\u001b[0;34m\u001b[0m\u001b[0;34m\u001b[0m\u001b[0m\n",
       "\u001b[0;31mDocstring:\u001b[0m     \n",
       "A class designed to detect and analyze spots in image frames from a zarr file using parallel processing.\n",
       "\n",
       "Attributes:\n",
       "    zarr_obj (zarr.array): The zarr array object containing image data.\n",
       "    save_directory (str): Directory path where results are saved.\n",
       "    min_intensity (float): Minimum intensity threshold for spot detection.\n",
       "    dist_between_spots (int): Minimum distance between detected spots.\n",
       "    sigma_z (float): Estimated standard deviation of spots in the z dimension.\n",
       "    sigma_y (float): Estimated standard deviation of spots in the y dimension.\n",
       "    sigma_x (float): Estimated standard deviation of spots in the x dimension.\n",
       "    frames (int): Total number of frames in the zarr object.\n",
       "    channels (int): Number of channels in the image data.\n",
       "    z (int): Depth of the image data.\n",
       "    y (int): Height of the image data.\n",
       "    x (int): Width of the image data.\n",
       "    parallel_process (int): Number of parallel processes to use for processing.\n",
       "\n",
       "Methods:\n",
       "    single_frame_segmentation(frame):\n",
       "        Processes a single frame to detect and analyze spots.\n",
       "    \n",
       "    cores_to_use():\n",
       "        Determines the number of cores to use for parallel processing based on user input and system capabilities.\n",
       "    \n",
       "    run_parallel_frame_processing(max_frames=2):\n",
       "        Runs spot detection and analysis on multiple frames in parallel and returns the results in a combined DataFrame.\n",
       "\u001b[0;31mInit docstring:\u001b[0m\n",
       "Initializes the Detector with the specified parameters.\n",
       "\n",
       "Parameters:\n",
       "    zarr_obj (zarr.array): The zarr array object containing image data.\n",
       "    save_directory (str): Directory path where results are to be saved.\n",
       "    spot_intensity (float): Minimum intensity threshold for spot detection.\n",
       "    dist_between_spots (int): Minimum distance between detected spots.\n",
       "    sigma_estimations (list of float): List containing estimated standard deviations of spots in z, y, and x dimensions.\n",
       "    n_jobs (int): Number of parallel processes to use. If -1, uses all available cores minus one.\n",
       "\u001b[0;31mFile:\u001b[0m           ~/Desktop/Akamatsu_Lab/Lap_track/Final/src/parallel.py\n",
       "\u001b[0;31mType:\u001b[0m           type\n",
       "\u001b[0;31mSubclasses:\u001b[0m     "
      ]
     },
     "metadata": {},
     "output_type": "display_data"
    }
   ],
   "source": [
    "?Detector"
   ]
  },
  {
   "cell_type": "code",
   "execution_count": 5,
   "id": "74b82bf1-0470-4214-802c-e77fa4ab330a",
   "metadata": {},
   "outputs": [
    {
     "name": "stdout",
     "output_type": "stream",
     "text": [
      "the number of frames are 130\n"
     ]
    }
   ],
   "source": [
    "frames = z2.shape[0]\n",
    "print(f'the number of frames are {frames}')"
   ]
  },
  {
   "cell_type": "code",
   "execution_count": 6,
   "id": "f9a03bc8-4326-4fb0-87c0-d3af7eb67e2f",
   "metadata": {},
   "outputs": [],
   "source": [
    "detector = Detector(zarr_obj = z2, \n",
    "                    save_directory = save_dir, \n",
    "                    spot_intensity = 180, \n",
    "                    dist_between_spots = 10, \n",
    "                    sigma_estimations = [4,2,2], n_jobs = 2)"
   ]
  },
  {
   "cell_type": "code",
   "execution_count": 7,
   "id": "9763ea65-4a6c-4061-8e42-29e84012bfb7",
   "metadata": {},
   "outputs": [
    {
     "name": "stderr",
     "output_type": "stream",
     "text": [
      "Processing frames: 100%|██████████████████████████| 2/2 [01:43<00:00, 51.61s/it]"
     ]
    },
    {
     "name": "stdout",
     "output_type": "stream",
     "text": [
      "frame number is 1\n",
      "(116, 2052, 340)\n",
      "(116, 340, 2052)\n",
      "local_maximas detected are 6067\n",
      "10%(607 of 6067)\n",
      "20%(1214 of 6067)\n",
      "30%(1821 of 6067)\n",
      "40%(2427 of 6067)\n",
      "50%(3034 of 6067)\n",
      "60%(3641 of 6067)\n",
      "70%(4247 of 6067)\n",
      "80%(4854 of 6067)\n",
      "90%(5461 of 6067)\n",
      "100%(6067 of 6067)\n",
      "(6067, 7)\n",
      "the number of times the gaussian fitting worked was6067and the number of times the gaussian did not fit was 0\n",
      "frame number is 0\n",
      "(116, 2052, 340)\n",
      "(116, 340, 2052)\n",
      "local_maximas detected are 6200\n",
      "10%(620 of 6200)\n",
      "20%(1240 of 6200)\n",
      "30%(1860 of 6200)\n",
      "40%(2480 of 6200)\n",
      "50%(3100 of 6200)\n",
      "60%(3720 of 6200)\n",
      "70%(4340 of 6200)\n",
      "80%(4960 of 6200)\n",
      "90%(5580 of 6200)\n",
      "100%(6200 of 6200)\n",
      "(6200, 7)\n",
      "the number of times the gaussian fitting worked was6200and the number of times the gaussian did not fit was 0\n"
     ]
    },
    {
     "name": "stderr",
     "output_type": "stream",
     "text": [
      "\n"
     ]
    }
   ],
   "source": [
    "df = detector.run_parallel_frame_processing(max_frames = 2, all_frames = False)"
   ]
  },
  {
   "cell_type": "code",
   "execution_count": 8,
   "id": "61f0e51e-09da-42f0-be44-a37781927a9e",
   "metadata": {},
   "outputs": [
    {
     "data": {
      "text/html": [
       "<div>\n",
       "<style scoped>\n",
       "    .dataframe tbody tr th:only-of-type {\n",
       "        vertical-align: middle;\n",
       "    }\n",
       "\n",
       "    .dataframe tbody tr th {\n",
       "        vertical-align: top;\n",
       "    }\n",
       "\n",
       "    .dataframe thead th {\n",
       "        text-align: right;\n",
       "    }\n",
       "</style>\n",
       "<table border=\"1\" class=\"dataframe\">\n",
       "  <thead>\n",
       "    <tr style=\"text-align: right;\">\n",
       "      <th></th>\n",
       "      <th>amplitude</th>\n",
       "      <th>mu_x</th>\n",
       "      <th>mu_y</th>\n",
       "      <th>mu_z</th>\n",
       "      <th>sigma_x</th>\n",
       "      <th>sigma_y</th>\n",
       "      <th>sigma_z</th>\n",
       "      <th>frame</th>\n",
       "    </tr>\n",
       "  </thead>\n",
       "  <tbody>\n",
       "    <tr>\n",
       "      <th>12262</th>\n",
       "      <td>215.201453</td>\n",
       "      <td>265.0</td>\n",
       "      <td>1555.0</td>\n",
       "      <td>110.0</td>\n",
       "      <td>3.0</td>\n",
       "      <td>2.0</td>\n",
       "      <td>2.0</td>\n",
       "      <td>1</td>\n",
       "    </tr>\n",
       "    <tr>\n",
       "      <th>12263</th>\n",
       "      <td>205.566974</td>\n",
       "      <td>267.0</td>\n",
       "      <td>1332.0</td>\n",
       "      <td>110.0</td>\n",
       "      <td>3.0</td>\n",
       "      <td>2.0</td>\n",
       "      <td>2.0</td>\n",
       "      <td>1</td>\n",
       "    </tr>\n",
       "    <tr>\n",
       "      <th>12264</th>\n",
       "      <td>180.424868</td>\n",
       "      <td>279.0</td>\n",
       "      <td>1292.0</td>\n",
       "      <td>110.0</td>\n",
       "      <td>3.0</td>\n",
       "      <td>2.0</td>\n",
       "      <td>2.0</td>\n",
       "      <td>1</td>\n",
       "    </tr>\n",
       "    <tr>\n",
       "      <th>12265</th>\n",
       "      <td>177.000000</td>\n",
       "      <td>308.0</td>\n",
       "      <td>1330.0</td>\n",
       "      <td>111.0</td>\n",
       "      <td>2.0</td>\n",
       "      <td>2.0</td>\n",
       "      <td>1.0</td>\n",
       "      <td>1</td>\n",
       "    </tr>\n",
       "    <tr>\n",
       "      <th>12266</th>\n",
       "      <td>246.386378</td>\n",
       "      <td>326.0</td>\n",
       "      <td>1286.0</td>\n",
       "      <td>110.0</td>\n",
       "      <td>2.0</td>\n",
       "      <td>2.0</td>\n",
       "      <td>2.0</td>\n",
       "      <td>1</td>\n",
       "    </tr>\n",
       "  </tbody>\n",
       "</table>\n",
       "</div>"
      ],
      "text/plain": [
       "        amplitude   mu_x    mu_y   mu_z  sigma_x  sigma_y  sigma_z  frame\n",
       "12262  215.201453  265.0  1555.0  110.0      3.0      2.0      2.0      1\n",
       "12263  205.566974  267.0  1332.0  110.0      3.0      2.0      2.0      1\n",
       "12264  180.424868  279.0  1292.0  110.0      3.0      2.0      2.0      1\n",
       "12265  177.000000  308.0  1330.0  111.0      2.0      2.0      1.0      1\n",
       "12266  246.386378  326.0  1286.0  110.0      2.0      2.0      2.0      1"
      ]
     },
     "execution_count": 8,
     "metadata": {},
     "output_type": "execute_result"
    }
   ],
   "source": [
    "df.tail()"
   ]
  },
  {
   "cell_type": "code",
   "execution_count": 9,
   "id": "ccac6983-8037-4fe3-a3af-584e9122207c",
   "metadata": {},
   "outputs": [
    {
     "data": {
      "text/plain": [
       "frame\n",
       "0    6200\n",
       "1    6067\n",
       "Name: count, dtype: int64"
      ]
     },
     "execution_count": 9,
     "metadata": {},
     "output_type": "execute_result"
    }
   ],
   "source": [
    "df['frame'].value_counts()"
   ]
  },
  {
   "cell_type": "code",
   "execution_count": 10,
   "id": "e3cbf29f-4c55-4796-9860-609e72f995c5",
   "metadata": {},
   "outputs": [
    {
     "data": {
      "text/plain": [
       "(12267, 8)"
      ]
     },
     "execution_count": 10,
     "metadata": {},
     "output_type": "execute_result"
    }
   ],
   "source": [
    "df.shape"
   ]
  },
  {
   "cell_type": "code",
   "execution_count": null,
   "id": "dc74b07e-7923-4d7f-bf0c-d31cbfce7b16",
   "metadata": {},
   "outputs": [],
   "source": []
  }
 ],
 "metadata": {
  "kernelspec": {
   "display_name": "Python 3 (ipykernel)",
   "language": "python",
   "name": "python3"
  },
  "language_info": {
   "codemirror_mode": {
    "name": "ipython",
    "version": 3
   },
   "file_extension": ".py",
   "mimetype": "text/x-python",
   "name": "python",
   "nbconvert_exporter": "python",
   "pygments_lexer": "ipython3",
   "version": "3.10.13"
  }
 },
 "nbformat": 4,
 "nbformat_minor": 5
}
