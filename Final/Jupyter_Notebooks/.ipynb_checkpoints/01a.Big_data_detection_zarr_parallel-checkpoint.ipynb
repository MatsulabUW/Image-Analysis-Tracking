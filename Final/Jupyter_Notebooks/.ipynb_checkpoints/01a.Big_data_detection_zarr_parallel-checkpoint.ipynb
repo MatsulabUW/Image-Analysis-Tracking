{
 "cells": [
  {
   "cell_type": "code",
   "execution_count": 1,
   "id": "62a4feae-de71-474c-a3b1-9d442d2a2fe6",
   "metadata": {},
   "outputs": [],
   "source": [
    "import pandas as pd\n",
    "import time\n",
    "import os\n",
    "import sys\n",
    "import zarr\n",
    "%load_ext memory_profiler\n",
    "\n",
    "\n",
    "pythonPackagePath = os.path.abspath('../src/')\n",
    "sys.path.append(pythonPackagePath)\n",
    "from parallel import Detector"
   ]
  },
  {
   "cell_type": "code",
   "execution_count": 2,
   "id": "2f8dc259-df31-401a-abd5-20a1e9c4e9a2",
   "metadata": {},
   "outputs": [],
   "source": [
    "z2 = zarr.open('/Users/apple/Desktop/Akamatsu_Lab/Data/Zarr_file_new/all_channels_data', mode='r')\n",
    "\n",
    "save_dir = '/Users/apple/Desktop/Akamatsu_Lab/Data/full_movie_output_zarr'"
   ]
  },
  {
   "cell_type": "code",
   "execution_count": 3,
   "id": "69dbbf55-cf28-420a-866c-8168ac253834",
   "metadata": {},
   "outputs": [
    {
     "data": {
      "text/html": [
       "<table class=\"zarr-info\"><tbody><tr><th style=\"text-align: left\">Type</th><td style=\"text-align: left\">zarr.core.Array</td></tr><tr><th style=\"text-align: left\">Data type</th><td style=\"text-align: left\">uint16</td></tr><tr><th style=\"text-align: left\">Shape</th><td style=\"text-align: left\">(130, 3, 116, 2052, 340)</td></tr><tr><th style=\"text-align: left\">Chunk shape</th><td style=\"text-align: left\">(1, 1, 116, 2052, 340)</td></tr><tr><th style=\"text-align: left\">Order</th><td style=\"text-align: left\">C</td></tr><tr><th style=\"text-align: left\">Read-only</th><td style=\"text-align: left\">True</td></tr><tr><th style=\"text-align: left\">Compressor</th><td style=\"text-align: left\">Blosc(cname='lz4', clevel=5, shuffle=SHUFFLE, blocksize=0)</td></tr><tr><th style=\"text-align: left\">Store type</th><td style=\"text-align: left\">zarr.storage.DirectoryStore</td></tr><tr><th style=\"text-align: left\">No. bytes</th><td style=\"text-align: left\">63126086400 (58.8G)</td></tr><tr><th style=\"text-align: left\">No. bytes stored</th><td style=\"text-align: left\">13548767504 (12.6G)</td></tr><tr><th style=\"text-align: left\">Storage ratio</th><td style=\"text-align: left\">4.7</td></tr><tr><th style=\"text-align: left\">Chunks initialized</th><td style=\"text-align: left\">390/390</td></tr></tbody></table>"
      ],
      "text/plain": [
       "Type               : zarr.core.Array\n",
       "Data type          : uint16\n",
       "Shape              : (130, 3, 116, 2052, 340)\n",
       "Chunk shape        : (1, 1, 116, 2052, 340)\n",
       "Order              : C\n",
       "Read-only          : True\n",
       "Compressor         : Blosc(cname='lz4', clevel=5, shuffle=SHUFFLE, blocksize=0)\n",
       "Store type         : zarr.storage.DirectoryStore\n",
       "No. bytes          : 63126086400 (58.8G)\n",
       "No. bytes stored   : 13548767504 (12.6G)\n",
       "Storage ratio      : 4.7\n",
       "Chunks initialized : 390/390"
      ]
     },
     "execution_count": 3,
     "metadata": {},
     "output_type": "execute_result"
    }
   ],
   "source": [
    "z2.info"
   ]
  },
  {
   "cell_type": "code",
   "execution_count": 4,
   "id": "74b82bf1-0470-4214-802c-e77fa4ab330a",
   "metadata": {},
   "outputs": [
    {
     "name": "stdout",
     "output_type": "stream",
     "text": [
      "the number of frames are 130\n"
     ]
    }
   ],
   "source": [
    "frames = z2.shape[0]\n",
    "print(f'the number of frames are {frames}')"
   ]
  },
  {
   "cell_type": "code",
   "execution_count": 5,
   "id": "f9a03bc8-4326-4fb0-87c0-d3af7eb67e2f",
   "metadata": {},
   "outputs": [],
   "source": [
    "#channel_to_detect  (enter 1 for channel 1, 2 for channel 2 and so on)\n",
    "#save_dir is going to be the directory to save the parallel_frame_processing output\n",
    "detector = Detector(zarr_obj = z2, \n",
    "                    save_directory = save_dir, \n",
    "                    spot_intensity = 180, \n",
    "                    dist_between_spots = 10, \n",
    "                    sigma_estimations = [4,2,2], n_jobs = 2, channel_to_detect = 3)"
   ]
  },
  {
   "cell_type": "code",
   "execution_count": 6,
   "id": "9763ea65-4a6c-4061-8e42-29e84012bfb7",
   "metadata": {},
   "outputs": [
    {
     "name": "stderr",
     "output_type": "stream",
     "text": [
      "Processing frames: 100%|██████████████████████████| 2/2 [01:38<00:00, 49.43s/it]\n"
     ]
    },
    {
     "name": "stdout",
     "output_type": "stream",
     "text": [
      "frame number is 1\n",
      "(116, 2052, 340)\n",
      "(116, 340, 2052)\n",
      "local_maximas detected are 6067\n",
      "10%(607 of 6067)\n",
      "20%(1214 of 6067)\n",
      "30%(1821 of 6067)\n",
      "40%(2427 of 6067)\n",
      "50%(3034 of 6067)\n",
      "60%(3641 of 6067)\n",
      "70%(4247 of 6067)\n",
      "80%(4854 of 6067)\n",
      "90%(5461 of 6067)\n",
      "100%(6067 of 6067)\n",
      "(6067, 7)\n",
      "the number of times the gaussian fitting worked was6067and the number of times the gaussian did not fit was 0\n",
      "frame number is 0\n",
      "(116, 2052, 340)\n",
      "(116, 340, 2052)\n",
      "local_maximas detected are 6200\n",
      "10%(620 of 6200)\n",
      "20%(1240 of 6200)\n",
      "30%(1860 of 6200)\n",
      "40%(2480 of 6200)\n",
      "50%(3100 of 6200)\n",
      "60%(3720 of 6200)\n",
      "70%(4340 of 6200)\n",
      "80%(4960 of 6200)\n",
      "90%(5580 of 6200)\n",
      "100%(6200 of 6200)\n",
      "(6200, 7)\n",
      "the number of times the gaussian fitting worked was6200and the number of times the gaussian did not fit was 0\n"
     ]
    }
   ],
   "source": [
    "#the following function returns the dataframe and also saves it to the provided path in pkl format\n",
    "df = detector.run_parallel_frame_processing(max_frames = 2, all_frames = False)"
   ]
  },
  {
   "cell_type": "code",
   "execution_count": 7,
   "id": "e3cbf29f-4c55-4796-9860-609e72f995c5",
   "metadata": {},
   "outputs": [
    {
     "data": {
      "text/plain": [
       "(12267, 8)"
      ]
     },
     "execution_count": 7,
     "metadata": {},
     "output_type": "execute_result"
    }
   ],
   "source": [
    "df.shape"
   ]
  },
  {
   "cell_type": "code",
   "execution_count": 8,
   "id": "ccac6983-8037-4fe3-a3af-584e9122207c",
   "metadata": {},
   "outputs": [
    {
     "data": {
      "text/plain": [
       "frame\n",
       "0    6200\n",
       "1    6067\n",
       "Name: count, dtype: int64"
      ]
     },
     "execution_count": 8,
     "metadata": {},
     "output_type": "execute_result"
    }
   ],
   "source": [
    "df['frame'].value_counts()"
   ]
  },
  {
   "cell_type": "code",
   "execution_count": null,
   "id": "63b5ed59-0db5-416f-8775-3696069a0089",
   "metadata": {},
   "outputs": [],
   "source": []
  }
 ],
 "metadata": {
  "kernelspec": {
   "display_name": "Python 3 (ipykernel)",
   "language": "python",
   "name": "python3"
  },
  "language_info": {
   "codemirror_mode": {
    "name": "ipython",
    "version": 3
   },
   "file_extension": ".py",
   "mimetype": "text/x-python",
   "name": "python",
   "nbconvert_exporter": "python",
   "pygments_lexer": "ipython3",
   "version": "3.10.13"
  }
 },
 "nbformat": 4,
 "nbformat_minor": 5
}
