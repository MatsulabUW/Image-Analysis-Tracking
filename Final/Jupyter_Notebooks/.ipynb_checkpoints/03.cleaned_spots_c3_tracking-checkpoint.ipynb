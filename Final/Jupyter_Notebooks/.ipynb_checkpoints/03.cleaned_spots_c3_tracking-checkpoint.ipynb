{
 "cells": [
  {
   "cell_type": "markdown",
   "id": "c5c7afc9",
   "metadata": {},
   "source": [
    "# Main Focus of the Notebook: Running Laptrack on detections\n",
    "\n",
    "### This notebook takes as input the dataframe which contains filtered detected spots and runs laptrack module on it. \n",
    "### A new dataframe containing tree id and track id is returned. For us main variable for tracks is track id. "
   ]
  },
  {
   "cell_type": "code",
   "execution_count": 1,
   "id": "6a96b688",
   "metadata": {},
   "outputs": [],
   "source": [
    "from os import path\n",
    "import pandas as pd\n",
    "from IPython.display import display\n",
    "from matplotlib import pyplot as plt\n",
    "from laptrack import LapTrack, ParallelBackend\n",
    "import napari\n",
    "from skimage import io\n",
    "import time  "
   ]
  },
  {
   "cell_type": "markdown",
   "id": "f97d2870",
   "metadata": {},
   "source": [
    "Import the dataframe of filtered spots "
   ]
  },
  {
   "cell_type": "code",
   "execution_count": 2,
   "id": "8a796435",
   "metadata": {},
   "outputs": [],
   "source": [
    "path = '/Users/apple/Desktop/Akamatsu_Lab/Data/full_movie_output_zarr/cleaned_spots_intensities_c3_all.pkl'\n",
    "cleaned_spots_df = pd.read_pickle(path)"
   ]
  },
  {
   "cell_type": "code",
   "execution_count": 3,
   "id": "1a146a6e",
   "metadata": {},
   "outputs": [],
   "source": [
    "max_distance = 3\n",
    "lt = LapTrack(\n",
    "    track_dist_metric=\"sqeuclidean\",  # The similarity metric for particles. See `scipy.spatial.distance.cdist` for allowed values.\n",
    "    splitting_dist_metric=\"sqeuclidean\",\n",
    "    merging_dist_metric=\"sqeuclidean\",\n",
    "    # the square of the cutoff distance for the \"sqeuclidean\" metric\n",
    "    track_cost_cutoff=max_distance**2,\n",
    "    gap_closing_cost_cutoff = (2*max_distance)**2,\n",
    "    gap_closing_max_frame_count = 1,\n",
    "    splitting_cost_cutoff=False,  # or False for non-splitting case\n",
    "    merging_cost_cutoff=False,  # or False for non-merging case\n",
    ")"
   ]
  },
  {
   "cell_type": "code",
   "execution_count": 4,
   "id": "d8cce581",
   "metadata": {},
   "outputs": [
    {
     "name": "stdout",
     "output_type": "stream",
     "text": [
      "Total execution time: 48.020304918289185 seconds\n"
     ]
    }
   ],
   "source": [
    "\n",
    "start_time = time.time()\n",
    "\n",
    "track_df, split_df, merge_df = lt.predict_dataframe(\n",
    "    cleaned_spots_df,\n",
    "    coordinate_cols=[\n",
    "        \"mu_x\",\n",
    "        \"mu_y\",\n",
    "        \"mu_z\"\n",
    "    ],  # the column names for the coordinates\n",
    "    frame_col=\"frame\",  # the column name for the frame (default \"frame\")\n",
    "    only_coordinate_cols=False,  # if False, returned track_df includes columns not in coordinate_cols.\n",
    "    # False will be the default in the major release.\n",
    ")\n",
    "\n",
    "end_time = time.time()\n",
    "\n",
    "execution_time = end_time - start_time\n",
    "print(f\"Total execution time: {execution_time} seconds\")\n",
    "track_df = track_df.reset_index()"
   ]
  },
  {
   "cell_type": "code",
   "execution_count": 5,
   "id": "dca1a89d",
   "metadata": {},
   "outputs": [],
   "source": [
    "c3_tracking_pickle_file = \"/Users/apple/Desktop/Akamatsu_Lab/Data/full_movie_output_zarr/track_df_c3_cleaned.pkl\"\n",
    "\n",
    "# Save the DataFrame to a pickle file\n",
    "track_df.to_pickle(c3_tracking_pickle_file)"
   ]
  },
  {
   "cell_type": "code",
   "execution_count": 6,
   "id": "f0618bc1",
   "metadata": {},
   "outputs": [
    {
     "data": {
      "text/plain": [
       "4781"
      ]
     },
     "execution_count": 6,
     "metadata": {},
     "output_type": "execute_result"
    }
   ],
   "source": [
    "track_df['track_id'].nunique()"
   ]
  },
  {
   "cell_type": "code",
   "execution_count": 7,
   "id": "a826c143",
   "metadata": {},
   "outputs": [
    {
     "data": {
      "text/html": [
       "<div>\n",
       "<style scoped>\n",
       "    .dataframe tbody tr th:only-of-type {\n",
       "        vertical-align: middle;\n",
       "    }\n",
       "\n",
       "    .dataframe tbody tr th {\n",
       "        vertical-align: top;\n",
       "    }\n",
       "\n",
       "    .dataframe thead th {\n",
       "        text-align: right;\n",
       "    }\n",
       "</style>\n",
       "<table border=\"1\" class=\"dataframe\">\n",
       "  <thead>\n",
       "    <tr style=\"text-align: right;\">\n",
       "      <th></th>\n",
       "      <th>track_id</th>\n",
       "      <th>length</th>\n",
       "    </tr>\n",
       "  </thead>\n",
       "  <tbody>\n",
       "    <tr>\n",
       "      <th>0</th>\n",
       "      <td>0</td>\n",
       "      <td>2</td>\n",
       "    </tr>\n",
       "    <tr>\n",
       "      <th>1</th>\n",
       "      <td>1680</td>\n",
       "      <td>2</td>\n",
       "    </tr>\n",
       "    <tr>\n",
       "      <th>2</th>\n",
       "      <td>1675</td>\n",
       "      <td>2</td>\n",
       "    </tr>\n",
       "    <tr>\n",
       "      <th>3</th>\n",
       "      <td>1674</td>\n",
       "      <td>2</td>\n",
       "    </tr>\n",
       "    <tr>\n",
       "      <th>4</th>\n",
       "      <td>1673</td>\n",
       "      <td>2</td>\n",
       "    </tr>\n",
       "  </tbody>\n",
       "</table>\n",
       "</div>"
      ],
      "text/plain": [
       "   track_id  length\n",
       "0         0       2\n",
       "1      1680       2\n",
       "2      1675       2\n",
       "3      1674       2\n",
       "4      1673       2"
      ]
     },
     "execution_count": 7,
     "metadata": {},
     "output_type": "execute_result"
    }
   ],
   "source": [
    "track_appearances = track_df['track_id'].value_counts().reset_index()\n",
    "track_appearances.columns = ['track_id', 'length']\n",
    "track_appearances.head()"
   ]
  },
  {
   "cell_type": "code",
   "execution_count": 8,
   "id": "56d6c7f9",
   "metadata": {},
   "outputs": [
    {
     "data": {
      "text/plain": [
       "count    4781.000000\n",
       "mean        1.304330\n",
       "std         0.460171\n",
       "min         1.000000\n",
       "25%         1.000000\n",
       "50%         1.000000\n",
       "75%         2.000000\n",
       "max         2.000000\n",
       "Name: length, dtype: float64"
      ]
     },
     "execution_count": 8,
     "metadata": {},
     "output_type": "execute_result"
    }
   ],
   "source": [
    "track_appearances['length'].describe()"
   ]
  },
  {
   "cell_type": "code",
   "execution_count": 9,
   "id": "0458fa6b-4531-486b-bfa8-54645de8eda7",
   "metadata": {},
   "outputs": [
    {
     "data": {
      "text/plain": [
       "length\n",
       "1    3326\n",
       "2    1455\n",
       "Name: count, dtype: int64"
      ]
     },
     "execution_count": 9,
     "metadata": {},
     "output_type": "execute_result"
    }
   ],
   "source": [
    "track_appearances['length'].value_counts()"
   ]
  },
  {
   "cell_type": "code",
   "execution_count": 11,
   "id": "940cdc9d-1a60-45a2-adeb-573952d774c7",
   "metadata": {},
   "outputs": [
    {
     "data": {
      "text/plain": [
       "array([[<Axes: title={'center': 'length'}>]], dtype=object)"
      ]
     },
     "execution_count": 11,
     "metadata": {},
     "output_type": "execute_result"
    },
    {
     "data": {
      "image/png": "[encoded data removed]",
      "text/plain": [
       "<Figure size 640x480 with 1 Axes>"
      ]
     },
     "metadata": {},
     "output_type": "display_data"
    }
   ],
   "source": [
    "track_appearances.hist(column='length', bins = 2)"
   ]
  },
  {
   "cell_type": "code",
   "execution_count": null,
   "id": "e2133836-520a-4936-a6e8-8771018d09a9",
   "metadata": {},
   "outputs": [],
   "source": []
  }
 ],
 "metadata": {
  "kernelspec": {
   "display_name": "Python 3 (ipykernel)",
   "language": "python",
   "name": "python3"
  },
  "language_info": {
   "codemirror_mode": {
    "name": "ipython",
    "version": 3
   },
   "file_extension": ".py",
   "mimetype": "text/x-python",
   "name": "python",
   "nbconvert_exporter": "python",
   "pygments_lexer": "ipython3",
   "version": "3.10.13"
  }
 },
 "nbformat": 4,
 "nbformat_minor": 5
}
