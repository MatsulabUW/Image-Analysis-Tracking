{
 "cells": [
  {
   "cell_type": "code",
   "execution_count": 1,
   "id": "d9dcf790",
   "metadata": {},
   "outputs": [],
   "source": [
    "import sys \n",
    "#sys.path.append('/Users/apple/Desktop/Akamatsu_Lab/Lap_track/Final/src')\n",
    "sys.path.append('../src/')\n",
    "from detections_preprocessing import combine_dataframes"
   ]
  },
  {
   "cell_type": "code",
   "execution_count": 4,
   "id": "1194acf3",
   "metadata": {},
   "outputs": [],
   "source": [
    "path = '/Users/apple/Desktop/Akamatsu_Lab/pyLattice_tutorials/DataFrames/Channel_2_pkl/'\n",
    "temp = combine_dataframes(number_of_files = 130, channel = 2, directory_path = path )"
   ]
  },
  {
   "cell_type": "code",
   "execution_count": 5,
   "id": "31b114d7",
   "metadata": {},
   "outputs": [
    {
     "data": {
      "text/html": [
       "<div>\n",
       "<style scoped>\n",
       "    .dataframe tbody tr th:only-of-type {\n",
       "        vertical-align: middle;\n",
       "    }\n",
       "\n",
       "    .dataframe tbody tr th {\n",
       "        vertical-align: top;\n",
       "    }\n",
       "\n",
       "    .dataframe thead th {\n",
       "        text-align: right;\n",
       "    }\n",
       "</style>\n",
       "<table border=\"1\" class=\"dataframe\">\n",
       "  <thead>\n",
       "    <tr style=\"text-align: right;\">\n",
       "      <th></th>\n",
       "      <th>amplitude</th>\n",
       "      <th>mu_x</th>\n",
       "      <th>mu_y</th>\n",
       "      <th>mu_z</th>\n",
       "      <th>sigma_x</th>\n",
       "      <th>sigma_y</th>\n",
       "      <th>sigma_z</th>\n",
       "      <th>frame</th>\n",
       "    </tr>\n",
       "  </thead>\n",
       "  <tbody>\n",
       "    <tr>\n",
       "      <th>0</th>\n",
       "      <td>209.666667</td>\n",
       "      <td>138.0</td>\n",
       "      <td>239.0</td>\n",
       "      <td>-4.0</td>\n",
       "      <td>2.0</td>\n",
       "      <td>2.0</td>\n",
       "      <td>11.0</td>\n",
       "      <td>0</td>\n",
       "    </tr>\n",
       "    <tr>\n",
       "      <th>1</th>\n",
       "      <td>170.516848</td>\n",
       "      <td>67.0</td>\n",
       "      <td>199.0</td>\n",
       "      <td>1.0</td>\n",
       "      <td>2.0</td>\n",
       "      <td>2.0</td>\n",
       "      <td>3.0</td>\n",
       "      <td>0</td>\n",
       "    </tr>\n",
       "    <tr>\n",
       "      <th>2</th>\n",
       "      <td>194.000000</td>\n",
       "      <td>140.0</td>\n",
       "      <td>59.0</td>\n",
       "      <td>1.0</td>\n",
       "      <td>2.0</td>\n",
       "      <td>2.0</td>\n",
       "      <td>3.0</td>\n",
       "      <td>0</td>\n",
       "    </tr>\n",
       "    <tr>\n",
       "      <th>3</th>\n",
       "      <td>172.922264</td>\n",
       "      <td>143.0</td>\n",
       "      <td>127.0</td>\n",
       "      <td>2.0</td>\n",
       "      <td>2.0</td>\n",
       "      <td>2.0</td>\n",
       "      <td>1.0</td>\n",
       "      <td>0</td>\n",
       "    </tr>\n",
       "    <tr>\n",
       "      <th>4</th>\n",
       "      <td>170.000000</td>\n",
       "      <td>84.0</td>\n",
       "      <td>104.0</td>\n",
       "      <td>2.0</td>\n",
       "      <td>2.0</td>\n",
       "      <td>2.0</td>\n",
       "      <td>2.0</td>\n",
       "      <td>0</td>\n",
       "    </tr>\n",
       "  </tbody>\n",
       "</table>\n",
       "</div>"
      ],
      "text/plain": [
       "    amplitude   mu_x   mu_y  mu_z  sigma_x  sigma_y  sigma_z  frame\n",
       "0  209.666667  138.0  239.0  -4.0      2.0      2.0     11.0      0\n",
       "1  170.516848   67.0  199.0   1.0      2.0      2.0      3.0      0\n",
       "2  194.000000  140.0   59.0   1.0      2.0      2.0      3.0      0\n",
       "3  172.922264  143.0  127.0   2.0      2.0      2.0      1.0      0\n",
       "4  170.000000   84.0  104.0   2.0      2.0      2.0      2.0      0"
      ]
     },
     "execution_count": 5,
     "metadata": {},
     "output_type": "execute_result"
    }
   ],
   "source": [
    "temp.head()"
   ]
  },
  {
   "cell_type": "code",
   "execution_count": null,
   "id": "693baa0a",
   "metadata": {},
   "outputs": [],
   "source": []
  }
 ],
 "metadata": {
  "kernelspec": {
   "display_name": "Python 3 (ipykernel)",
   "language": "python",
   "name": "python3"
  },
  "language_info": {
   "codemirror_mode": {
    "name": "ipython",
    "version": 3
   },
   "file_extension": ".py",
   "mimetype": "text/x-python",
   "name": "python",
   "nbconvert_exporter": "python",
   "pygments_lexer": "ipython3",
   "version": "3.10.13"
  }
 },
 "nbformat": 4,
 "nbformat_minor": 5
}
