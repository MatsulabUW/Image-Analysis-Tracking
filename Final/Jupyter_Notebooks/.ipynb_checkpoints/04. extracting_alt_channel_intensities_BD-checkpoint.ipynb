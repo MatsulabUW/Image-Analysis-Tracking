{
 "cells": [
  {
   "cell_type": "markdown",
   "id": "12cbb82d-b87b-4ede-b907-7f7fcf325961",
   "metadata": {},
   "source": [
    "# The following notebook uses the dataframe on which tracking has been performed and uses the spots coordinates to extract activity from alternate channels. "
   ]
  },
  {
   "cell_type": "code",
   "execution_count": 1,
   "id": "dbb18d9b-2add-413d-be6f-101d3c673e9b",
   "metadata": {},
   "outputs": [],
   "source": [
    "from os import path\n",
    "import pandas as pd\n",
    "from IPython.display import display\n",
    "import numpy as np \n",
    "import sys \n",
    "import time \n",
    "import zarr\n",
    "import os\n",
    "\n",
    "sys.path.append('../src/')\n",
    "\n",
    "from extract_pixel_data import Extractor"
   ]
  },
  {
   "cell_type": "markdown",
   "id": "28fc106e-ee5e-4330-83e4-5c7483e714c4",
   "metadata": {},
   "source": [
    "### Do not change the code in the cell below"
   ]
  },
  {
   "cell_type": "code",
   "execution_count": 2,
   "id": "e3c5b01d-f937-4cef-b7fc-5f3d1014bf2b",
   "metadata": {},
   "outputs": [],
   "source": [
    "# This assumes that your notebook is inside 'Jupyter Notebooks', which is at the same level as 'test_data'\n",
    "base_dir = os.path.join(os.path.dirname(os.path.abspath(\"__file__\")), '..', 'test_data')\n",
    "\n",
    "zarr_directory = 'zarr_file/all_channels_data'\n",
    "zarr_full_path = os.path.join(base_dir, zarr_directory)\n",
    "\n",
    "input_directory = 'datasets'\n",
    "input_file_name = 'track_df_c3_cleaned.pkl'\n",
    "input_directory_full = os.path.join(base_dir,input_directory, input_file_name)\n",
    "\n",
    "output_directory = 'datasets'\n",
    "output_file_name = 'track_df_cleaned_final_full.pkl'\n",
    "output_directory_full = os.path.join(base_dir,output_directory, output_file_name)"
   ]
  },
  {
   "cell_type": "code",
   "execution_count": 3,
   "id": "ab514a50-a2ea-462b-bc94-cdaad738239c",
   "metadata": {},
   "outputs": [],
   "source": [
    "track_df = pd.read_pickle(input_directory_full)\n",
    "# read the zarr file which contains the data of all three channels \n",
    "z = zarr.open(zarr_full_path, mode='r')"
   ]
  },
  {
   "cell_type": "code",
   "execution_count": 4,
   "id": "3d8387da-51cd-4063-9e8c-03212161ac20",
   "metadata": {},
   "outputs": [
    {
     "data": {
      "text/html": [
       "<div>\n",
       "<style scoped>\n",
       "    .dataframe tbody tr th:only-of-type {\n",
       "        vertical-align: middle;\n",
       "    }\n",
       "\n",
       "    .dataframe tbody tr th {\n",
       "        vertical-align: top;\n",
       "    }\n",
       "\n",
       "    .dataframe thead th {\n",
       "        text-align: right;\n",
       "    }\n",
       "</style>\n",
       "<table border=\"1\" class=\"dataframe\">\n",
       "  <thead>\n",
       "    <tr style=\"text-align: right;\">\n",
       "      <th></th>\n",
       "      <th>frame</th>\n",
       "      <th>index</th>\n",
       "      <th>amplitude</th>\n",
       "      <th>mu_x</th>\n",
       "      <th>mu_y</th>\n",
       "      <th>mu_z</th>\n",
       "      <th>sigma_x</th>\n",
       "      <th>sigma_y</th>\n",
       "      <th>sigma_z</th>\n",
       "      <th>frame_y</th>\n",
       "      <th>tree_id</th>\n",
       "      <th>track_id</th>\n",
       "    </tr>\n",
       "  </thead>\n",
       "  <tbody>\n",
       "    <tr>\n",
       "      <th>0</th>\n",
       "      <td>0</td>\n",
       "      <td>0</td>\n",
       "      <td>206.593249</td>\n",
       "      <td>11.0</td>\n",
       "      <td>12.0</td>\n",
       "      <td>0.0</td>\n",
       "      <td>2.0</td>\n",
       "      <td>2.0</td>\n",
       "      <td>4.0</td>\n",
       "      <td>0</td>\n",
       "      <td>0</td>\n",
       "      <td>0</td>\n",
       "    </tr>\n",
       "    <tr>\n",
       "      <th>1</th>\n",
       "      <td>0</td>\n",
       "      <td>1</td>\n",
       "      <td>191.000000</td>\n",
       "      <td>36.0</td>\n",
       "      <td>88.0</td>\n",
       "      <td>1.0</td>\n",
       "      <td>2.0</td>\n",
       "      <td>1.0</td>\n",
       "      <td>2.0</td>\n",
       "      <td>0</td>\n",
       "      <td>1</td>\n",
       "      <td>1</td>\n",
       "    </tr>\n",
       "    <tr>\n",
       "      <th>2</th>\n",
       "      <td>0</td>\n",
       "      <td>2</td>\n",
       "      <td>231.007679</td>\n",
       "      <td>40.0</td>\n",
       "      <td>141.0</td>\n",
       "      <td>1.0</td>\n",
       "      <td>2.0</td>\n",
       "      <td>2.0</td>\n",
       "      <td>2.0</td>\n",
       "      <td>0</td>\n",
       "      <td>2</td>\n",
       "      <td>2</td>\n",
       "    </tr>\n",
       "    <tr>\n",
       "      <th>3</th>\n",
       "      <td>0</td>\n",
       "      <td>3</td>\n",
       "      <td>185.152538</td>\n",
       "      <td>40.0</td>\n",
       "      <td>58.0</td>\n",
       "      <td>1.0</td>\n",
       "      <td>2.0</td>\n",
       "      <td>1.0</td>\n",
       "      <td>3.0</td>\n",
       "      <td>0</td>\n",
       "      <td>3</td>\n",
       "      <td>3</td>\n",
       "    </tr>\n",
       "    <tr>\n",
       "      <th>4</th>\n",
       "      <td>0</td>\n",
       "      <td>4</td>\n",
       "      <td>202.000000</td>\n",
       "      <td>46.0</td>\n",
       "      <td>73.0</td>\n",
       "      <td>1.0</td>\n",
       "      <td>2.0</td>\n",
       "      <td>2.0</td>\n",
       "      <td>3.0</td>\n",
       "      <td>0</td>\n",
       "      <td>4</td>\n",
       "      <td>4</td>\n",
       "    </tr>\n",
       "    <tr>\n",
       "      <th>...</th>\n",
       "      <td>...</td>\n",
       "      <td>...</td>\n",
       "      <td>...</td>\n",
       "      <td>...</td>\n",
       "      <td>...</td>\n",
       "      <td>...</td>\n",
       "      <td>...</td>\n",
       "      <td>...</td>\n",
       "      <td>...</td>\n",
       "      <td>...</td>\n",
       "      <td>...</td>\n",
       "      <td>...</td>\n",
       "    </tr>\n",
       "    <tr>\n",
       "      <th>28371</th>\n",
       "      <td>129</td>\n",
       "      <td>163</td>\n",
       "      <td>213.439065</td>\n",
       "      <td>135.0</td>\n",
       "      <td>131.0</td>\n",
       "      <td>73.0</td>\n",
       "      <td>2.0</td>\n",
       "      <td>3.0</td>\n",
       "      <td>4.0</td>\n",
       "      <td>129</td>\n",
       "      <td>16373</td>\n",
       "      <td>16373</td>\n",
       "    </tr>\n",
       "    <tr>\n",
       "      <th>28372</th>\n",
       "      <td>129</td>\n",
       "      <td>164</td>\n",
       "      <td>200.000000</td>\n",
       "      <td>136.0</td>\n",
       "      <td>147.0</td>\n",
       "      <td>72.0</td>\n",
       "      <td>2.0</td>\n",
       "      <td>1.0</td>\n",
       "      <td>5.0</td>\n",
       "      <td>129</td>\n",
       "      <td>16374</td>\n",
       "      <td>16374</td>\n",
       "    </tr>\n",
       "    <tr>\n",
       "      <th>28373</th>\n",
       "      <td>129</td>\n",
       "      <td>165</td>\n",
       "      <td>177.830039</td>\n",
       "      <td>160.0</td>\n",
       "      <td>133.0</td>\n",
       "      <td>72.0</td>\n",
       "      <td>2.0</td>\n",
       "      <td>2.0</td>\n",
       "      <td>3.0</td>\n",
       "      <td>129</td>\n",
       "      <td>16375</td>\n",
       "      <td>16375</td>\n",
       "    </tr>\n",
       "    <tr>\n",
       "      <th>28374</th>\n",
       "      <td>129</td>\n",
       "      <td>166</td>\n",
       "      <td>179.000000</td>\n",
       "      <td>201.0</td>\n",
       "      <td>207.0</td>\n",
       "      <td>71.0</td>\n",
       "      <td>2.0</td>\n",
       "      <td>1.0</td>\n",
       "      <td>3.0</td>\n",
       "      <td>129</td>\n",
       "      <td>16376</td>\n",
       "      <td>16376</td>\n",
       "    </tr>\n",
       "    <tr>\n",
       "      <th>28375</th>\n",
       "      <td>129</td>\n",
       "      <td>167</td>\n",
       "      <td>274.813463</td>\n",
       "      <td>219.0</td>\n",
       "      <td>45.0</td>\n",
       "      <td>71.0</td>\n",
       "      <td>2.0</td>\n",
       "      <td>2.0</td>\n",
       "      <td>2.0</td>\n",
       "      <td>129</td>\n",
       "      <td>16377</td>\n",
       "      <td>16377</td>\n",
       "    </tr>\n",
       "  </tbody>\n",
       "</table>\n",
       "<p>28376 rows × 12 columns</p>\n",
       "</div>"
      ],
      "text/plain": [
       "       frame  index   amplitude   mu_x   mu_y  mu_z  sigma_x  sigma_y  \\\n",
       "0          0      0  206.593249   11.0   12.0   0.0      2.0      2.0   \n",
       "1          0      1  191.000000   36.0   88.0   1.0      2.0      1.0   \n",
       "2          0      2  231.007679   40.0  141.0   1.0      2.0      2.0   \n",
       "3          0      3  185.152538   40.0   58.0   1.0      2.0      1.0   \n",
       "4          0      4  202.000000   46.0   73.0   1.0      2.0      2.0   \n",
       "...      ...    ...         ...    ...    ...   ...      ...      ...   \n",
       "28371    129    163  213.439065  135.0  131.0  73.0      2.0      3.0   \n",
       "28372    129    164  200.000000  136.0  147.0  72.0      2.0      1.0   \n",
       "28373    129    165  177.830039  160.0  133.0  72.0      2.0      2.0   \n",
       "28374    129    166  179.000000  201.0  207.0  71.0      2.0      1.0   \n",
       "28375    129    167  274.813463  219.0   45.0  71.0      2.0      2.0   \n",
       "\n",
       "       sigma_z  frame_y  tree_id  track_id  \n",
       "0          4.0        0        0         0  \n",
       "1          2.0        0        1         1  \n",
       "2          2.0        0        2         2  \n",
       "3          3.0        0        3         3  \n",
       "4          3.0        0        4         4  \n",
       "...        ...      ...      ...       ...  \n",
       "28371      4.0      129    16373     16373  \n",
       "28372      5.0      129    16374     16374  \n",
       "28373      3.0      129    16375     16375  \n",
       "28374      3.0      129    16376     16376  \n",
       "28375      2.0      129    16377     16377  \n",
       "\n",
       "[28376 rows x 12 columns]"
      ]
     },
     "execution_count": 4,
     "metadata": {},
     "output_type": "execute_result"
    }
   ],
   "source": [
    "track_df"
   ]
  },
  {
   "cell_type": "code",
   "execution_count": 5,
   "id": "40a3a25b",
   "metadata": {},
   "outputs": [
    {
     "data": {
      "text/html": [
       "<table class=\"zarr-info\"><tbody><tr><th style=\"text-align: left\">Type</th><td style=\"text-align: left\">zarr.core.Array</td></tr><tr><th style=\"text-align: left\">Data type</th><td style=\"text-align: left\">uint16</td></tr><tr><th style=\"text-align: left\">Shape</th><td style=\"text-align: left\">(130, 3, 75, 258, 275)</td></tr><tr><th style=\"text-align: left\">Chunk shape</th><td style=\"text-align: left\">(1, 1, 75, 258, 275)</td></tr><tr><th style=\"text-align: left\">Order</th><td style=\"text-align: left\">C</td></tr><tr><th style=\"text-align: left\">Read-only</th><td style=\"text-align: left\">True</td></tr><tr><th style=\"text-align: left\">Compressor</th><td style=\"text-align: left\">Blosc(cname='lz4', clevel=5, shuffle=SHUFFLE, blocksize=0)</td></tr><tr><th style=\"text-align: left\">Store type</th><td style=\"text-align: left\">zarr.storage.DirectoryStore</td></tr><tr><th style=\"text-align: left\">No. bytes</th><td style=\"text-align: left\">4150575000 (3.9G)</td></tr><tr><th style=\"text-align: left\">No. bytes stored</th><td style=\"text-align: left\">1126870917 (1.0G)</td></tr><tr><th style=\"text-align: left\">Storage ratio</th><td style=\"text-align: left\">3.7</td></tr><tr><th style=\"text-align: left\">Chunks initialized</th><td style=\"text-align: left\">390/390</td></tr></tbody></table>"
      ],
      "text/plain": [
       "Type               : zarr.core.Array\n",
       "Data type          : uint16\n",
       "Shape              : (130, 3, 75, 258, 275)\n",
       "Chunk shape        : (1, 1, 75, 258, 275)\n",
       "Order              : C\n",
       "Read-only          : True\n",
       "Compressor         : Blosc(cname='lz4', clevel=5, shuffle=SHUFFLE, blocksize=0)\n",
       "Store type         : zarr.storage.DirectoryStore\n",
       "No. bytes          : 4150575000 (3.9G)\n",
       "No. bytes stored   : 1126870917 (1.0G)\n",
       "Storage ratio      : 3.7\n",
       "Chunks initialized : 390/390"
      ]
     },
     "execution_count": 5,
     "metadata": {},
     "output_type": "execute_result"
    }
   ],
   "source": [
    "z.info"
   ]
  },
  {
   "cell_type": "code",
   "execution_count": 6,
   "id": "a4232a36-97f6-43cc-ba54-e8cf7228a3ae",
   "metadata": {},
   "outputs": [
    {
     "data": {
      "text/plain": [
       "130"
      ]
     },
     "execution_count": 6,
     "metadata": {},
     "output_type": "execute_result"
    }
   ],
   "source": [
    "track_df['frame'].nunique()"
   ]
  },
  {
   "cell_type": "markdown",
   "id": "ebb6b1d0-c4eb-4602-bc16-2cf9efd06be9",
   "metadata": {},
   "source": [
    "## In the below cell the Extractor object is created "
   ]
  },
  {
   "cell_type": "code",
   "execution_count": 7,
   "id": "da560db3-39ca-4f61-95b5-cbd540b92f1e",
   "metadata": {},
   "outputs": [],
   "source": [
    "# Create an extractor object with required parameters to properly run the methods in next steps \n",
    "# radii is the expected radius of the CME sites (will be used for calculations which need fixed radius) \n",
    "# radii_col_name is a list of the variable sigma estimated by gaussian fitting (note: the convention for the list is z,y,x)\n",
    "# n_jobs is the cores to be used. (parallel processing for gaussian fitting on the other two channels could be done to speed up the process)\n",
    "extractor = Extractor(z, dataframe = track_df, radii=[4,2,2], frame_col_name = 'frame', \n",
    "                      radi_col_name = ['sigma_z', 'sigma_y', 'sigma_x'], n_jobs =2)"
   ]
  },
  {
   "cell_type": "markdown",
   "id": "71dd49ca-8b5b-44a3-9209-78bdc47bae18",
   "metadata": {},
   "source": [
    "# Extract Information for Channel 3 (Clathrin)"
   ]
  },
  {
   "cell_type": "markdown",
   "id": "b5fe465a-d9ad-4d7c-9497-aef4c2e0bcff",
   "metadata": {},
   "source": [
    "## Extracting voxel sum"
   ]
  },
  {
   "cell_type": "code",
   "execution_count": null,
   "id": "97507899",
   "metadata": {},
   "outputs": [],
   "source": [
    "# pass the channel for which voxel sum is needed and the coordinates around which voxel sum is supposed to be calculated\n",
    "# convention for coords [z,y,x] \n",
    "# convention for channel is 1 for channel 1, 2 for channel 2 and so on \n",
    "# channel number is to passed according to whichever channel we want to extract the data for\n",
    "start_time = time.time()\n",
    "voxel_sum_array, _ = extractor.voxel_sum_fixed_bd(center_col_names = ['mu_z', 'mu_y', 'mu_x'], channel = 3)\n",
    "end_time = time.time()\n",
    "print('time taken (seconds)', end_time - start_time)"
   ]
  },
  {
   "cell_type": "code",
   "execution_count": null,
   "id": "e3dc89b1-e00c-4773-9de6-04a0f3aaedb1",
   "metadata": {},
   "outputs": [],
   "source": [
    "# pass the channel for which voxel sum is needed and the coordinates around which voxel sum is supposed to be calculated\n",
    "# convention for coords [z,y,x] \n",
    "# convention for channel is 1 for channel 1, 2 for channel 2 and so on \n",
    "# channel number is to passed according to whichever channel we want to extract the data for\n",
    "start_time = time.time()\n",
    "voxel_sum_array_3, _, adj_voxel_sum_3 = extractor.voxel_sum_fixed_background(center_col_names = ['mu_z', 'mu_y', 'mu_x'], channel = 3,\n",
    "                                                                            background_radius=[1,1,1])\n",
    "end_time = time.time()\n",
    "print('time taken (seconds)', end_time - start_time)"
   ]
  },
  {
   "cell_type": "code",
   "execution_count": null,
   "id": "26c71025",
   "metadata": {},
   "outputs": [],
   "source": [
    "# pass the channel for which pixel values are needed and the coordinates around which values are supposed to be calculated\n",
    "# convention for coords [z,y,x] \n",
    "# convention for channel is 1 for channel 1, 2 for channel 2 and so on \n",
    "start_time = time.time()\n",
    "offset = [0,0]\n",
    "col_names = ['mu_z', 'mu_y', 'mu_x']\n",
    "mean,maximum,minimum,pixel_values,max_loc = extractor.extract_pixels_data_variable_bd(center_col_names = col_names, channel = 3)\n",
    "\n",
    "end_time = time.time()\n",
    "print('time taken (seconds)', end_time - start_time)"
   ]
  },
  {
   "cell_type": "code",
   "execution_count": null,
   "id": "6470b83f-393c-49fc-912a-3c28373090c3",
   "metadata": {},
   "outputs": [],
   "source": [
    "max_loc = np.array(max_loc)"
   ]
  },
  {
   "cell_type": "code",
   "execution_count": null,
   "id": "61193cda",
   "metadata": {},
   "outputs": [],
   "source": [
    "track_df['c3_mean_amp'] = mean\n",
    "track_df['c3_voxel_sum'] = voxel_sum_array_3\n",
    "track_df['c3_voxel_sum_adjusted'] = adj_voxel_sum_3 \n",
    "track_df['c3_peak_amp'] = maximum \n",
    "track_df['c3_peak_x'] = max_loc[:,2]\n",
    "track_df['c3_peak_y'] = max_loc[:,1]\n",
    "track_df['c3_peak_z'] = max_loc[:,0]"
   ]
  },
  {
   "cell_type": "code",
   "execution_count": null,
   "id": "d1370d02-036b-435f-b15e-09c8f184e3b1",
   "metadata": {},
   "outputs": [],
   "source": [
    "track_df"
   ]
  },
  {
   "cell_type": "markdown",
   "id": "b62534ae-ab9a-4bb5-9085-2b2da6345c81",
   "metadata": {},
   "source": [
    "# Extract information for Channel 2 "
   ]
  },
  {
   "cell_type": "code",
   "execution_count": null,
   "id": "2655d1b7-0fed-4f65-bd62-cac8f9139910",
   "metadata": {},
   "outputs": [],
   "source": [
    "# pass the channel for which pixel values are needed and the coordinates around which values are supposed to be calculated\n",
    "# convention for coords [z,y,x] \n",
    "# convention for channel is 1 for channel 1, 2 for channel 2 and so on \n",
    "start_time = time.time()\n",
    "offset = [0,0]\n",
    "col_names = ['mu_z', 'mu_y', 'mu_x']\n",
    "mean,maximum,minimum,pixel_values,max_loc = extractor.extract_pixels_data_variable_bd(center_col_names = col_names, channel = 2)\n",
    "\n",
    "end_time = time.time()\n",
    "print('time taken (seconds)', end_time - start_time)"
   ]
  },
  {
   "cell_type": "code",
   "execution_count": null,
   "id": "77f34b86",
   "metadata": {},
   "outputs": [],
   "source": [
    "max_loc = np.array(max_loc)"
   ]
  },
  {
   "cell_type": "markdown",
   "id": "6bab68ca-d187-455b-881e-6c4fd8ae772a",
   "metadata": {},
   "source": [
    "## Finding peak pixel for Channel 2 as not sure about the offset between Channel 3 and Channel 2\n",
    "**Reason for offset is being shot from different cameras**"
   ]
  },
  {
   "cell_type": "code",
   "execution_count": null,
   "id": "fe13e7ae",
   "metadata": {},
   "outputs": [],
   "source": [
    "track_df['c2_amp'] = mean\n",
    "track_df['c2_peak'] = maximum\n",
    "track_df['c2_peak_x'] = max_loc[:,2]\n",
    "track_df['c2_peak_y'] = max_loc[:,1]\n",
    "track_df['c2_peak_z'] = max_loc[:,0]"
   ]
  },
  {
   "cell_type": "code",
   "execution_count": null,
   "id": "09204f3a",
   "metadata": {},
   "outputs": [],
   "source": [
    "track_df"
   ]
  },
  {
   "cell_type": "markdown",
   "id": "3723171a-af42-4435-b792-4a1d48db6ca9",
   "metadata": {},
   "source": [
    "## Finding mean value around the peak pixel value for channel 2 "
   ]
  },
  {
   "cell_type": "code",
   "execution_count": null,
   "id": "cc79466b",
   "metadata": {},
   "outputs": [],
   "source": [
    "start_time = time.time()\n",
    "col_names = ['c2_peak_z', 'c2_peak_y', 'c2_peak_x']\n",
    "peak_mean,maxima,_,_,_ = extractor.extract_pixels_data_variable_bd(center_col_names = col_names, \n",
    "                                                     channel = 2)\n",
    "end_time = time.time()\n",
    "print('time taken (seconds)', end_time - start_time)"
   ]
  },
  {
   "cell_type": "code",
   "execution_count": null,
   "id": "038dd89a",
   "metadata": {},
   "outputs": [],
   "source": [
    "track_df['c2_peak_mean'] = peak_mean"
   ]
  },
  {
   "cell_type": "code",
   "execution_count": null,
   "id": "b2cad583",
   "metadata": {},
   "outputs": [],
   "source": [
    "track_df"
   ]
  },
  {
   "cell_type": "markdown",
   "id": "4724fe3e-043f-413e-8ef3-9f8fbd27fb06",
   "metadata": {},
   "source": [
    "## Finding voxel sum around peak for channel 2 "
   ]
  },
  {
   "cell_type": "code",
   "execution_count": null,
   "id": "7e0447c3",
   "metadata": {},
   "outputs": [],
   "source": [
    "# pass the channel for which voxel sum is needed and the coordinates around which voxel sum is supposed to be calculated\n",
    "# convention for coords [z,y,x] \n",
    "# convention for channel is 1 for channel 1, 2 for channel 2 and so on \n",
    "start_time = time.time()\n",
    "voxel_sum_array_2, _, adj_voxel_sum_array_2 = extractor.voxel_sum_fixed_background(center_col_names = ['c2_peak_z', 'c2_peak_y', 'c2_peak_x'],\n",
    "                                       channel = 2)\n",
    "end_time = time.time()\n",
    "print('time taken (seconds)', end_time - start_time)"
   ]
  },
  {
   "cell_type": "code",
   "execution_count": null,
   "id": "62a01e8d",
   "metadata": {},
   "outputs": [],
   "source": [
    "#calculated around the peak value coordinates\n",
    "track_df['c2_voxel_sum'] = voxel_sum_array_2\n",
    "track_df['c2_voxel_sum_adjusted'] = adj_voxel_sum_array_2"
   ]
  },
  {
   "cell_type": "code",
   "execution_count": null,
   "id": "52c81352",
   "metadata": {},
   "outputs": [],
   "source": [
    "track_df"
   ]
  },
  {
   "cell_type": "markdown",
   "id": "54c22afa-28b1-45ce-8b2b-8b49eb316152",
   "metadata": {},
   "source": [
    "### Gaussian Fitting for Channel 2 around peak values "
   ]
  },
  {
   "cell_type": "code",
   "execution_count": null,
   "id": "c9957dd5-d495-4041-94fe-ea299147e6b5",
   "metadata": {},
   "outputs": [],
   "source": [
    "#Calculating the gaussian fitting estimates around peak coords for channel 2 \n",
    "#expected sigma value needed for gaussian fitting \n",
    "#set all frames to False for processing limited frames \n",
    "#max_frames determines the frames to be processed if all_frames is false\n",
    "start_time = time.time()\n",
    "channel2_gaussians_df = extractor.run_parallel_frame_processing(expected_sigma = [4,2,2], \n",
    "                                        center_col_name = ['c2_peak_z', 'c2_peak_y', 'c2_peak_x'], \n",
    "                                       dist_between_spots = 10 , channel = 2,  max_frames =  2, all_frames = False)\n",
    "end_time = time.time()\n",
    "print('time taken (seconds)', end_time - start_time)"
   ]
  },
  {
   "cell_type": "code",
   "execution_count": null,
   "id": "6fa7650f-f6d3-43d4-969b-4396d3a9c757",
   "metadata": {},
   "outputs": [],
   "source": [
    "track_df['c2_gaussian_amp'] = channel2_gaussians_df['amplitude']\n",
    "track_df['c2_mu_x'] = channel2_gaussians_df['mu_x']\n",
    "track_df['c2_mu_y'] = channel2_gaussians_df['mu_y']\n",
    "track_df['c2_mu_z'] = channel2_gaussians_df['mu_z']\n",
    "track_df['c2_sigma_x'] = channel2_gaussians_df['sigma_x']\n",
    "track_df['c2_sigma_y'] = channel2_gaussians_df['sigma_y']\n",
    "track_df['c2_sigma_z'] = channel2_gaussians_df['sigma_z']"
   ]
  },
  {
   "cell_type": "code",
   "execution_count": null,
   "id": "91fc3013-3dfe-4bd2-b433-9674bfb70211",
   "metadata": {},
   "outputs": [],
   "source": [
    "track_df"
   ]
  },
  {
   "cell_type": "markdown",
   "id": "b2127dc4-fde7-4ff1-b85a-a271d142f5e2",
   "metadata": {},
   "source": [
    "# Extract information for channel 1"
   ]
  },
  {
   "cell_type": "code",
   "execution_count": null,
   "id": "62bdb118",
   "metadata": {},
   "outputs": [],
   "source": [
    "offset = [0,0]\n",
    "col_names = ['mu_z', 'mu_y', 'mu_x']\n",
    "radi_list = ['sigma_z', 'sigma_y', 'sigma_x']\n",
    "mean,maximum,minimum,pixel_values,max_loc = extractor.extract_pixels_data_variable_bd(center_col_names = col_names, channel = 1)"
   ]
  },
  {
   "cell_type": "code",
   "execution_count": null,
   "id": "79fe717a",
   "metadata": {},
   "outputs": [],
   "source": [
    "max_loc = np.array(max_loc)"
   ]
  },
  {
   "cell_type": "code",
   "execution_count": null,
   "id": "357c5a40",
   "metadata": {},
   "outputs": [],
   "source": [
    "track_df['c1_amp'] = mean\n",
    "track_df['c1_peak'] = maximum\n",
    "track_df['c1_peak_x'] = max_loc[:,2]\n",
    "track_df['c1_peak_y'] = max_loc[:,1]\n",
    "track_df['c1_peak_z'] = max_loc[:,0]"
   ]
  },
  {
   "cell_type": "code",
   "execution_count": null,
   "id": "a67774a8",
   "metadata": {},
   "outputs": [],
   "source": [
    "voxel_sum_array_1, _, adj_voxel_sum_array_1 = extractor.voxel_sum_fixed_background(center_col_names = ['mu_z', 'mu_y', 'mu_x'], channel = 1)\n"
   ]
  },
  {
   "cell_type": "code",
   "execution_count": null,
   "id": "ebb16619",
   "metadata": {},
   "outputs": [],
   "source": [
    "#calculated around the peak value coordinates\n",
    "track_df['c1_voxel_sum'] = voxel_sum_array_1\n",
    "track_df['c1_voxel_sum_adjusted'] = adj_voxel_sum_array_1"
   ]
  },
  {
   "cell_type": "code",
   "execution_count": null,
   "id": "e4657ef9",
   "metadata": {},
   "outputs": [],
   "source": [
    "track_df"
   ]
  },
  {
   "cell_type": "code",
   "execution_count": null,
   "id": "bf5f0dfc-ea9c-4be7-acc0-5a9319050256",
   "metadata": {},
   "outputs": [],
   "source": [
    "track_df.shape"
   ]
  },
  {
   "cell_type": "markdown",
   "id": "bcd66aa1-59b3-4129-8e83-8e6f582549c8",
   "metadata": {},
   "source": [
    "### Perform Guassian Fitting for channel 1"
   ]
  },
  {
   "cell_type": "code",
   "execution_count": null,
   "id": "de24014c-d01a-46ca-b163-9e8d29059916",
   "metadata": {},
   "outputs": [],
   "source": [
    "start_time = time.time()\n",
    "channel1_gaussians_df = extractor.run_parallel_frame_processing(expected_sigma = [4,2,2], \n",
    "                                        center_col_name = ['c1_peak_z', 'c1_peak_y', 'c1_peak_x'], \n",
    "                                       dist_between_spots = 10, channel = 1,  max_frames =  2, all_frames = False)\n",
    "end_time = time.time()\n",
    "print('time taken (seconds)', end_time - start_time)"
   ]
  },
  {
   "cell_type": "code",
   "execution_count": null,
   "id": "22b657a7-7581-4104-ba84-0f26509f617a",
   "metadata": {},
   "outputs": [],
   "source": [
    "channel1_gaussians_df"
   ]
  },
  {
   "cell_type": "code",
   "execution_count": null,
   "id": "3b32a53b-de84-4dba-8f42-96b29295cbf9",
   "metadata": {},
   "outputs": [],
   "source": [
    "track_df['c1_gaussian_amp'] = channel1_gaussians_df['amplitude']\n",
    "track_df['c1_mu_x'] = channel1_gaussians_df['mu_x']\n",
    "track_df['c1_mu_y'] = channel1_gaussians_df['mu_y']\n",
    "track_df['c1_mu_z'] = channel1_gaussians_df['mu_z']\n",
    "track_df['c1_sigma_x'] = channel1_gaussians_df['sigma_x']\n",
    "track_df['c1_sigma_y'] = channel1_gaussians_df['sigma_y']\n",
    "track_df['c1_sigma_z'] = channel1_gaussians_df['sigma_z']"
   ]
  },
  {
   "cell_type": "code",
   "execution_count": null,
   "id": "b624e067-8a04-4cfa-970a-8cbf6a35b652",
   "metadata": {},
   "outputs": [],
   "source": [
    "track_df"
   ]
  },
  {
   "cell_type": "code",
   "execution_count": null,
   "id": "ca4d269c",
   "metadata": {},
   "outputs": [],
   "source": [
    "track_df.to_pickle(output_directory_full)"
   ]
  },
  {
   "cell_type": "markdown",
   "id": "e9f33059-0776-41cb-ac91-aa9022cec090",
   "metadata": {},
   "source": [
    "# To test the following functions change the markdown files to code files \n",
    "1. Voxel sum using the variable sigma/radi values directly inferred from the dataset \n",
    "2. Extracting pixel values mean,max etc using fixed radi\n",
    "3. Performing Gaussian Fitting on peak coords for single frame"
   ]
  },
  {
   "cell_type": "markdown",
   "id": "cfad7292-f6d1-4a91-885e-e65038964e66",
   "metadata": {},
   "source": [
    "### Function 1 (Voxel Sum)\n",
    "start_time = time.time()\n",
    "voxel_sum_array_variable, _ = extractor.voxel_sum_variable_bd(center_col_names = ['mu_z', 'mu_y', 'mu_x'], channel = 3)\n",
    "end_time = time.time()\n",
    "print('time taken (seconds)', end_time - start_time)"
   ]
  },
  {
   "cell_type": "markdown",
   "id": "c452565a-79ae-4b62-a6ad-6324b7cec349",
   "metadata": {},
   "source": [
    "### Function 2 (Extracting Pixel Values)\n",
    "start_time = time.time()\n",
    "offset = [0,0]\n",
    "col_names = ['mu_z', 'mu_y', 'mu_x']\n",
    "radii = [4, 2, 2]\n",
    "mean_v,maximum_v,minimum_v,pixel_values_v,max_loc_v = extractor.extract_pixels_data_fixed_bd(center_col_names = col_names, channel = 3)\n",
    "\n",
    "end_time = time.time()\n",
    "print('time taken (seconds)', end_time - start_time)"
   ]
  },
  {
   "cell_type": "markdown",
   "id": "1b84b89e-7fc3-4518-a7ee-4dfb60c18141",
   "metadata": {},
   "source": [
    "### Function 3 (Gaussian fitting on one frame for one channel)\n",
    "df = extractor.gaussian_fitting_single_frame(expected_sigma = [4,2,2], \n",
    "                              center_col_names = ['c2_peak_z', 'c2_peak_y', 'c2_peak_x'],\n",
    "                                      frame = 0, channel = 2, dist_between_spots = 10)"
   ]
  },
  {
   "cell_type": "code",
   "execution_count": null,
   "id": "74d0ec9a-7039-4f35-8822-38b273d5ed1d",
   "metadata": {},
   "outputs": [],
   "source": []
  }
 ],
 "metadata": {
  "kernelspec": {
   "display_name": "Python 3 (ipykernel)",
   "language": "python",
   "name": "python3"
  },
  "language_info": {
   "codemirror_mode": {
    "name": "ipython",
    "version": 3
   },
   "file_extension": ".py",
   "mimetype": "text/x-python",
   "name": "python",
   "nbconvert_exporter": "python",
   "pygments_lexer": "ipython3",
   "version": "3.10.13"
  }
 },
 "nbformat": 4,
 "nbformat_minor": 5
}
