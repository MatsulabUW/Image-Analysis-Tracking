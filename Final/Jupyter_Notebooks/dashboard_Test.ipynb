{
 "cells": [
  {
   "cell_type": "code",
   "execution_count": 1,
   "id": "6d26db84-b3f3-446b-bbf5-17b209210da7",
   "metadata": {},
   "outputs": [],
   "source": [
    "import pandas as pd\n",
    "import numpy as np \n",
    "import plotly.express as px\n",
    "import plotly.graph_objects as go\n",
    "from plotly.subplots import make_subplots\n",
    "from dash import Dash, html, dcc, callback \n",
    "from dash.dependencies import Input, Output \n",
    "from skimage import io\n",
    "import zarr "
   ]
  },
  {
   "cell_type": "code",
   "execution_count": 17,
   "id": "6853a131-cafc-4c76-9295-bb4c121c5c62",
   "metadata": {},
   "outputs": [],
   "source": [
    "##Importing the data\n",
    "\n",
    "track_df = pd.read_pickle('/Users/apple/Desktop/Akamatsu_Lab/Lap_track/Final/test_data/datasets/track_df_cleaned_final_full.pkl')\n",
    "filtered_tracks = pd.read_pickle('/Users/apple/Desktop/Akamatsu_Lab/Lap_track/Final/test_data/datasets/filtered_tracks_final.pkl')\n",
    "\n",
    "zarr_arr = zarr.open(store = '/Users/apple/Desktop/Akamatsu_Lab/Lap_track/Final/test_data/zarr_file/all_channels_data', mode = 'r')\n",
    "\n",
    "##Generate the unique number of tracks \n",
    "\n",
    "unique_tracks = filtered_tracks['track_id'].unique()"
   ]
  },
  {
   "cell_type": "code",
   "execution_count": 18,
   "id": "592a9a5b-9de1-431e-a80c-3703297cec55",
   "metadata": {},
   "outputs": [
    {
     "data": {
      "text/plain": [
       "Index(['frame', 'c3_gaussian_amp', 'c3_mu_x', 'c3_mu_y', 'c3_mu_z',\n",
       "       'c3_sigma_x', 'c3_sigma_y', 'c3_sigma_z', 'tree_id', 'track_id',\n",
       "       'c3_mean_amp', 'c3_voxel_sum', 'c3_voxel_sum_adjusted', 'c3_peak_amp',\n",
       "       'c3_peak_x', 'c3_peak_y', 'c3_peak_z', 'c2_amp', 'c2_peak_amp',\n",
       "       'c2_peak_x', 'c2_peak_y', 'c2_peak_z', 'c2_peak_mean', 'c2_voxel_sum',\n",
       "       'c2_voxel_sum_adjusted', 'c2_gaussian_amp', 'c2_mu_x', 'c2_mu_y',\n",
       "       'c2_mu_z', 'c2_sigma_x', 'c2_sigma_y', 'c2_sigma_z', 'c1_amp',\n",
       "       'c1_peak_amp', 'c1_peak_x', 'c1_peak_y', 'c1_peak_z', 'c1_voxel_sum',\n",
       "       'c1_voxel_sum_adjusted', 'c1_gaussian_amp', 'c1_mu_x', 'c1_mu_y',\n",
       "       'c1_mu_z', 'c1_sigma_x', 'c1_sigma_y', 'c1_sigma_z'],\n",
       "      dtype='object')"
      ]
     },
     "execution_count": 18,
     "metadata": {},
     "output_type": "execute_result"
    }
   ],
   "source": [
    "track_df.columns"
   ]
  },
  {
   "cell_type": "code",
   "execution_count": 3,
   "id": "f5015486-a72f-4484-a103-161d88069186",
   "metadata": {},
   "outputs": [
    {
     "data": {
      "text/plain": [
       "(130, 3, 75, 258, 275)"
      ]
     },
     "execution_count": 3,
     "metadata": {},
     "output_type": "execute_result"
    }
   ],
   "source": [
    "zarr_arr.shape"
   ]
  },
  {
   "cell_type": "code",
   "execution_count": 4,
   "id": "a48b9fe5-395c-402b-874c-07c9ebe121ec",
   "metadata": {},
   "outputs": [
    {
     "data": {
      "text/html": [
       "<div>\n",
       "<style scoped>\n",
       "    .dataframe tbody tr th:only-of-type {\n",
       "        vertical-align: middle;\n",
       "    }\n",
       "\n",
       "    .dataframe tbody tr th {\n",
       "        vertical-align: top;\n",
       "    }\n",
       "\n",
       "    .dataframe thead th {\n",
       "        text-align: right;\n",
       "    }\n",
       "</style>\n",
       "<table border=\"1\" class=\"dataframe\">\n",
       "  <thead>\n",
       "    <tr style=\"text-align: right;\">\n",
       "      <th></th>\n",
       "      <th>track_id</th>\n",
       "      <th>track_length</th>\n",
       "      <th>track_start</th>\n",
       "      <th>track_end</th>\n",
       "      <th>c3_peak</th>\n",
       "      <th>c2_peak</th>\n",
       "      <th>c1_peak</th>\n",
       "      <th>c3_peak_frame</th>\n",
       "      <th>c2_peak_frame</th>\n",
       "      <th>c1_peak_frame</th>\n",
       "      <th>mean_displacement</th>\n",
       "      <th>mean_z</th>\n",
       "      <th>mean_z_displacement</th>\n",
       "      <th>dnm2_positive</th>\n",
       "      <th>actin_positive</th>\n",
       "      <th>membrane_region</th>\n",
       "    </tr>\n",
       "  </thead>\n",
       "  <tbody>\n",
       "    <tr>\n",
       "      <th>22</th>\n",
       "      <td>22</td>\n",
       "      <td>8</td>\n",
       "      <td>0</td>\n",
       "      <td>7</td>\n",
       "      <td>268.426824</td>\n",
       "      <td>168.0</td>\n",
       "      <td>238.0</td>\n",
       "      <td>4</td>\n",
       "      <td>7</td>\n",
       "      <td>6</td>\n",
       "      <td>1.080068</td>\n",
       "      <td>1.625000</td>\n",
       "      <td>0.428571</td>\n",
       "      <td>False</td>\n",
       "      <td>False</td>\n",
       "      <td>Basal</td>\n",
       "    </tr>\n",
       "    <tr>\n",
       "      <th>65</th>\n",
       "      <td>65</td>\n",
       "      <td>8</td>\n",
       "      <td>0</td>\n",
       "      <td>7</td>\n",
       "      <td>345.835302</td>\n",
       "      <td>224.0</td>\n",
       "      <td>420.0</td>\n",
       "      <td>6</td>\n",
       "      <td>6</td>\n",
       "      <td>6</td>\n",
       "      <td>2.043674</td>\n",
       "      <td>6.625000</td>\n",
       "      <td>1.571429</td>\n",
       "      <td>True</td>\n",
       "      <td>True</td>\n",
       "      <td>Basal</td>\n",
       "    </tr>\n",
       "    <tr>\n",
       "      <th>93</th>\n",
       "      <td>93</td>\n",
       "      <td>8</td>\n",
       "      <td>0</td>\n",
       "      <td>7</td>\n",
       "      <td>308.000000</td>\n",
       "      <td>169.0</td>\n",
       "      <td>230.0</td>\n",
       "      <td>6</td>\n",
       "      <td>3</td>\n",
       "      <td>5</td>\n",
       "      <td>1.222925</td>\n",
       "      <td>11.500000</td>\n",
       "      <td>0.857143</td>\n",
       "      <td>False</td>\n",
       "      <td>False</td>\n",
       "      <td>Lateral</td>\n",
       "    </tr>\n",
       "    <tr>\n",
       "      <th>95</th>\n",
       "      <td>95</td>\n",
       "      <td>8</td>\n",
       "      <td>0</td>\n",
       "      <td>7</td>\n",
       "      <td>332.333333</td>\n",
       "      <td>201.0</td>\n",
       "      <td>251.0</td>\n",
       "      <td>6</td>\n",
       "      <td>7</td>\n",
       "      <td>7</td>\n",
       "      <td>3.090703</td>\n",
       "      <td>13.000000</td>\n",
       "      <td>1.714286</td>\n",
       "      <td>False</td>\n",
       "      <td>False</td>\n",
       "      <td>Lateral</td>\n",
       "    </tr>\n",
       "    <tr>\n",
       "      <th>100</th>\n",
       "      <td>100</td>\n",
       "      <td>22</td>\n",
       "      <td>0</td>\n",
       "      <td>21</td>\n",
       "      <td>257.000000</td>\n",
       "      <td>188.0</td>\n",
       "      <td>513.0</td>\n",
       "      <td>13</td>\n",
       "      <td>21</td>\n",
       "      <td>13</td>\n",
       "      <td>2.233344</td>\n",
       "      <td>12.090909</td>\n",
       "      <td>0.904762</td>\n",
       "      <td>False</td>\n",
       "      <td>True</td>\n",
       "      <td>Lateral</td>\n",
       "    </tr>\n",
       "  </tbody>\n",
       "</table>\n",
       "</div>"
      ],
      "text/plain": [
       "     track_id  track_length  track_start  track_end     c3_peak  c2_peak  \\\n",
       "22         22             8            0          7  268.426824    168.0   \n",
       "65         65             8            0          7  345.835302    224.0   \n",
       "93         93             8            0          7  308.000000    169.0   \n",
       "95         95             8            0          7  332.333333    201.0   \n",
       "100       100            22            0         21  257.000000    188.0   \n",
       "\n",
       "     c1_peak  c3_peak_frame  c2_peak_frame  c1_peak_frame  mean_displacement  \\\n",
       "22     238.0              4              7              6           1.080068   \n",
       "65     420.0              6              6              6           2.043674   \n",
       "93     230.0              6              3              5           1.222925   \n",
       "95     251.0              6              7              7           3.090703   \n",
       "100    513.0             13             21             13           2.233344   \n",
       "\n",
       "        mean_z  mean_z_displacement  dnm2_positive  actin_positive  \\\n",
       "22    1.625000             0.428571          False           False   \n",
       "65    6.625000             1.571429           True            True   \n",
       "93   11.500000             0.857143          False           False   \n",
       "95   13.000000             1.714286          False           False   \n",
       "100  12.090909             0.904762          False            True   \n",
       "\n",
       "    membrane_region  \n",
       "22            Basal  \n",
       "65            Basal  \n",
       "93          Lateral  \n",
       "95          Lateral  \n",
       "100         Lateral  "
      ]
     },
     "execution_count": 4,
     "metadata": {},
     "output_type": "execute_result"
    }
   ],
   "source": [
    "filtered_tracks.head()"
   ]
  },
  {
   "cell_type": "code",
   "execution_count": 7,
   "id": "aaecb7b8-af78-464d-bc56-24fd53be4920",
   "metadata": {},
   "outputs": [],
   "source": [
    "def select_type_of_tracks(dataframe, only_dynamin_tracks = False, only_actin_tracks = False, all_positive_tracks = True, both_tracks_positive = False): \n",
    "        if only_dynamin_tracks == True: \n",
    "            relevant_tracks = dataframe[(dataframe['dnm2_positive'] == True) & (dataframe['actin_positive'] == False)]['track_id'].values\n",
    "        elif only_actin_tracks == True: \n",
    "            relevant_tracks = dataframe[(dataframe['dnm2_positive'] == False) & (dataframe['actin_positive'] == True)]['track_id'].values\n",
    "        elif all_positive_tracks == True: \n",
    "            relevant_tracks = dataframe[(dataframe['dnm2_positive'] == True) | (dataframe['actin_positive'] == True)]['track_id'].values\n",
    "        elif both_tracks_positive == True: \n",
    "            relevant_tracks = dataframe[(dataframe['dnm2_positive'] == True) & (dataframe['actin_positive'] == True)]['track_id'].values\n",
    "\n",
    "        return relevant_tracks"
   ]
  },
  {
   "cell_type": "code",
   "execution_count": 8,
   "id": "942d91cc-ab78-4f97-a4cc-854d202de37e",
   "metadata": {},
   "outputs": [],
   "source": [
    "def select_tracks_region_wise(dataframe, tracks, only_basal, only_apical, only_lateral, all):\n",
    "    updated_tracks_df = dataframe[dataframe['track_id'].isin(tracks)]\n",
    "    if only_basal == True:\n",
    "        updated_tracks = updated_tracks_df[updated_tracks_df['membrane_region'] == 'Basal']['track_id'].values\n",
    "    elif only_apical == True: \n",
    "        updated_tracks = updated_tracks_df[updated_tracks_df['membrane_region'] == 'Apical']['track_id'].values\n",
    "    elif only_lateral == True: \n",
    "        updated_tracks = updated_tracks_df[updated_tracks_df['membrane_region'] == 'Lateral']['track_id'].values\n",
    "    elif all == True: \n",
    "        return updated_tracks_df['track_id'].values \n",
    "    \n",
    "    return updated_tracks"
   ]
  },
  {
   "cell_type": "code",
   "execution_count": 19,
   "id": "7cebde72-7abb-4bd3-8202-ee57b03327f1",
   "metadata": {},
   "outputs": [],
   "source": [
    "def select_type_of_intensity(type, voxel_sum_col_names = ['c3_voxel_sum', 'c2_voxel_sum', 'c1_voxel_sum'], \n",
    "                             adjusted_voxel_sum_col_names = ['c3_voxel_sum_adjusted', 'c2_voxel_sum_adjusted', 'c1_voxel_sum_adjusted'], \n",
    "                             gaussian_col_names = ['c3_gaussian_amp', 'c2_gaussian_amp', 'c1_gaussian_amp'], \n",
    "                             peak_col_names = ['c3_peak_amp', 'c2_peak_amp', 'c1_peak_amp']): \n",
    "    if type == 'Adjusted Voxel Sum': \n",
    "        return adjusted_voxel_sum_col_names\n",
    "    elif type == 'Voxel Sum': \n",
    "        return voxel_sum_col_names\n",
    "    elif type == 'Gaussian Peaks': \n",
    "        return gaussian_col_names\n",
    "    elif type == 'Peak Intensity': \n",
    "        return peak_col_names"
   ]
  },
  {
   "cell_type": "code",
   "execution_count": 20,
   "id": "11915e0b-33e7-4e17-93f4-27c178f2fe64",
   "metadata": {},
   "outputs": [
    {
     "data": {
      "text/plain": [
       "['c3_voxel_sum_adjusted', 'c2_voxel_sum_adjusted', 'c1_voxel_sum_adjusted']"
      ]
     },
     "execution_count": 20,
     "metadata": {},
     "output_type": "execute_result"
    }
   ],
   "source": [
    "select_type_of_intensity(type = 'Adjusted Voxel Sum')"
   ]
  },
  {
   "cell_type": "code",
   "execution_count": 13,
   "id": "5a4bb4e6-2f57-49c9-8948-c99691868477",
   "metadata": {},
   "outputs": [],
   "source": [
    "relevant_tracks = select_type_of_tracks(dataframe = filtered_tracks, only_dynamin_tracks = True, only_actin_tracks = False, \n",
    "                                        all_positive_tracks = False, both_tracks_positive = False)"
   ]
  },
  {
   "cell_type": "code",
   "execution_count": 14,
   "id": "da5c90bb-6223-4c33-a595-96214f1f08d6",
   "metadata": {},
   "outputs": [],
   "source": [
    "updated_tracks = select_tracks_region_wise(dataframe = filtered_tracks, \n",
    "                                           tracks = relevant_tracks, \n",
    "                                           only_basal = True, only_apical = False, only_lateral = False, all = False)"
   ]
  },
  {
   "cell_type": "code",
   "execution_count": 15,
   "id": "b0aa84aa-4eaf-457b-b81d-4c9f53116a21",
   "metadata": {},
   "outputs": [
    {
     "data": {
      "text/plain": [
       "array([  536,   684,   838,  1001,  1428,  1586,  1589,  1742,  2623,\n",
       "        2886,  2900,  3030,  3749,  3904,  3924,  4475,  4476,  4614,\n",
       "        4774,  5292,  5336,  5465,  6661,  7790,  7957,  8203,  8744,\n",
       "        8898,  8910,  9532, 10109, 10536, 10925, 10949, 12142, 12897,\n",
       "       13644, 13885, 14760, 15095, 15109, 15607, 15847, 16094])"
      ]
     },
     "execution_count": 15,
     "metadata": {},
     "output_type": "execute_result"
    }
   ],
   "source": [
    "updated_tracks"
   ]
  },
  {
   "cell_type": "code",
   "execution_count": null,
   "id": "93dc555f-2b11-47eb-a4c4-df283b718465",
   "metadata": {},
   "outputs": [],
   "source": [
    "ans = max_z_track_visualisation(track_of_interest = 22,zarr_array = zarr_arr ,main_tracking_df = track_df, \n",
    "                          channel = 2)"
   ]
  },
  {
   "cell_type": "code",
   "execution_count": null,
   "id": "7780a752-9b15-4ed2-8ff4-28d6f9af8763",
   "metadata": {},
   "outputs": [],
   "source": [
    "plot_raw_movie(plot_type = 'max_z_slice', track_number = 22, raw_image = zarr_arr, main_tracking_df = track_df, channel = 2)"
   ]
  },
  {
   "cell_type": "code",
   "execution_count": null,
   "id": "71f7dc21-6b0e-477c-942a-2e146c1dc0a0",
   "metadata": {},
   "outputs": [],
   "source": [
    "plot_raw_movie(plot_type = 'total_z_sum', track_number = 22, raw_image = zarr_arr, main_tracking_df = track_df, channel = 2)"
   ]
  },
  {
   "cell_type": "code",
   "execution_count": null,
   "id": "7a6541b4-b123-4d5b-9040-daf1513fb767",
   "metadata": {},
   "outputs": [],
   "source": [
    "plot_raw_movie(plot_type = 'max_intensity_projection', track_number = 22, raw_image = zarr_arr, main_tracking_df = track_df, channel = 2)"
   ]
  },
  {
   "cell_type": "code",
   "execution_count": null,
   "id": "e72c8ff0-dc9e-4bb9-a45f-fb71fd2ce0d0",
   "metadata": {},
   "outputs": [],
   "source": []
  }
 ],
 "metadata": {
  "kernelspec": {
   "display_name": "Python 3 (ipykernel)",
   "language": "python",
   "name": "python3"
  },
  "language_info": {
   "codemirror_mode": {
    "name": "ipython",
    "version": 3
   },
   "file_extension": ".py",
   "mimetype": "text/x-python",
   "name": "python",
   "nbconvert_exporter": "python",
   "pygments_lexer": "ipython3",
   "version": "3.10.13"
  }
 },
 "nbformat": 4,
 "nbformat_minor": 5
}
