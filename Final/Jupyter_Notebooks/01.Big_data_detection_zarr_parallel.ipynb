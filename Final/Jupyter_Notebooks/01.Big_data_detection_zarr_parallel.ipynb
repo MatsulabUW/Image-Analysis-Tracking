{
 "cells": [
  {
   "cell_type": "markdown",
   "id": "7699bd06-dc64-4aee-8802-d99882165dd1",
   "metadata": {},
   "source": [
    "# This is the first step in the pipeline\n",
    "### Spots are detected in this notebook. The input file is expected to be in the zarr format "
   ]
  },
  {
   "cell_type": "code",
   "execution_count": 58,
   "id": "62a4feae-de71-474c-a3b1-9d442d2a2fe6",
   "metadata": {},
   "outputs": [],
   "source": [
    "import pandas as pd\n",
    "import time\n",
    "import os\n",
    "import sys\n",
    "import zarr\n",
    "import napari \n",
    "import dask.array as da \n",
    "\n",
    "pythonPackagePath = os.path.abspath('../src/')\n",
    "sys.path.append(pythonPackagePath)\n",
    "from parallel import Detector\n",
    "from gaussian_visualization import visualize_3D_gaussians"
   ]
  },
  {
   "cell_type": "markdown",
   "id": "9ebdcb7e-0da4-4aee-a372-e2128ce2cfae",
   "metadata": {},
   "source": [
    "### Do not change the code in cell below "
   ]
  },
  {
   "cell_type": "code",
   "execution_count": 59,
   "id": "5690e846-bfa8-46ae-947f-64b537f09bc9",
   "metadata": {},
   "outputs": [],
   "source": [
    "# This assumes that your notebook is inside 'Jupyter Notebooks', which is at the same level as 'test_data'\n",
    "# base_dir = os.path.join(os.path.dirname(os.path.abspath(\"__file__\")), '..', 'movie_data')\n",
    "base_dir = os.path.join(os.path.dirname(os.path.abspath(\"__file__\")), '..', 'test_movie_1')\n",
    "\n",
    "zarr_directory = 'zarr_file/all_channels_data'\n",
    "zarr_full_path = os.path.join(base_dir, zarr_directory)\n",
    "\n",
    "save_directory = 'datasets'\n",
    "save_directory_full = os.path.join(base_dir, save_directory)"
   ]
  },
  {
   "cell_type": "markdown",
   "id": "b4fa8f87",
   "metadata": {},
   "source": [
    "## Follow the Instructions below to run through the notebook properly \n",
    "\n",
    "The purpose of this notebook is to perform spot detection on your full movie. The movie is expected to be a 3 channel movie which is saved as a zarr object. If your movie is not a zarr object you can convert it to a zarr object by running and following the steps provided to you under Final/Data Preparation/full_movie_to_zarr.ipynb\n",
    "\n",
    "**For Initialising the Detector Object** \n",
    "\n",
    "1. Detector object is the main object for which you will setup the parameters to work in this notebook. \n",
    "2. **zarr_obj**: is the object which efficiently stores the movie \n",
    "3. **save_directory**: is fixed and does not need to be changed. However, for reference the files from this notebook will be outputted and saved in Final/movie_data/datasets directory \n",
    "4. **spot_intensity**: This is the minimum intensity which a spot will have in your movie. Anything below this can be called noise/background. You can determine the spot_intensity using fiji or napari to determine minimum bright spots which are of interest. If you set a spot_intensity too high very few spots will be detected, however, if you set a intensity too low a lot of spots including a lot of noise will be detected. \n",
    "5. **dist_between_spots**: this distance divided by 2 is the minimum distance that should exist between spots in pixels. For example if you set this to 10 then all spots within 5 pixels of the center of your spot will be dropped(to understand which spot is dropped you can refer to the source code in the Final/src/gaussian_fitting.py file)\n",
    "6. **sigma_estimations**: This is the spread/radius of your spots from the center. It is entered in pixels and follows the order [z,y,x]. If you expect your spot to have a radius of 4 in z and 2 in x and y then you should enter [4,2,2]. To determine the spread/radius of your spot you can visualise in fiji and look at the metadata to understand the pixel radius. \n",
    "7. **n_jobs**: Detector class allows for parallel processing and the number of cores you want to use can be determined here. You can set it to -1 and it will use all_cores - 1 for processing. It is important to allow for parallel processing else for larger movies it will take a lot of time. \n",
    "8. **channel_to_detect**: The number of channel to detect. Convention is 1 for channel 1, 2 for channel 2 and 3 for channel 3. The detector object can only detect one channel at a time. \n",
    "\n",
    "**For running processing on frames** (run_parallel_frame_processing)\n",
    "\n",
    "1. **max_frames**: the maximum frames to process. This can be useful when you just want to test your parameters selected for the Detector object like spot_intensity, dist_between_spots and sigma_estimates. \n",
    "2. **all_frames**: If all frames is set to True then all frames are processed and the **max_frames** parameter is ignored. It is recommended to initially decide all the parameters on a subset of frames and then move onto this step as it may take a lot of time for larger movies. \n",
    "\n",
    "\n",
    "**Note**\n",
    "\n",
    "-> Cores to be utilized can be increased as available. Keep in mind that limitation can be posed by the RAM of your machine. As more cores are utilized more RAM is needed. \n",
    "\n",
    "-> Detection can be only performed on 1 channel at a time\n"
   ]
  },
  {
   "cell_type": "markdown",
   "id": "42ec841e",
   "metadata": {},
   "source": [
    "## Set all parameters in the below cell "
   ]
  },
  {
   "cell_type": "code",
   "execution_count": 92,
   "id": "39e1565c",
   "metadata": {},
   "outputs": [],
   "source": [
    "#refer to the above cell for explanation of each parameter \n",
    "spot_intensity = 180\n",
    "dist_between_spots = 10\n",
    "sigma_estimations = [4,2,2]\n",
    "quality_threshold_mu = 1\n",
    "quality_threshold_sigma = 2.5\n",
    "n_jobs = -1\n",
    "channel_to_detect = 3 \n",
    "max_frames = 2 \n",
    "all_frames = False"
   ]
  },
  {
   "cell_type": "code",
   "execution_count": 93,
   "id": "2f8dc259-df31-401a-abd5-20a1e9c4e9a2",
   "metadata": {},
   "outputs": [],
   "source": [
    "#Import the zarr file by adding file path in read mode\n",
    "z2 = zarr.open(zarr_full_path, mode='r')"
   ]
  },
  {
   "cell_type": "code",
   "execution_count": 94,
   "id": "69dbbf55-cf28-420a-866c-8168ac253834",
   "metadata": {},
   "outputs": [
    {
     "data": {
      "text/html": [
       "<table class=\"zarr-info\"><tbody><tr><th style=\"text-align: left\">Type</th><td style=\"text-align: left\">zarr.core.Array</td></tr><tr><th style=\"text-align: left\">Data type</th><td style=\"text-align: left\">uint16</td></tr><tr><th style=\"text-align: left\">Shape</th><td style=\"text-align: left\">(130, 3, 75, 150, 275)</td></tr><tr><th style=\"text-align: left\">Chunk shape</th><td style=\"text-align: left\">(1, 1, 75, 150, 275)</td></tr><tr><th style=\"text-align: left\">Order</th><td style=\"text-align: left\">C</td></tr><tr><th style=\"text-align: left\">Read-only</th><td style=\"text-align: left\">True</td></tr><tr><th style=\"text-align: left\">Compressor</th><td style=\"text-align: left\">Blosc(cname='lz4', clevel=5, shuffle=SHUFFLE, blocksize=0)</td></tr><tr><th style=\"text-align: left\">Store type</th><td style=\"text-align: left\">zarr.storage.DirectoryStore</td></tr><tr><th style=\"text-align: left\">No. bytes</th><td style=\"text-align: left\">2413125000 (2.2G)</td></tr><tr><th style=\"text-align: left\">No. bytes stored</th><td style=\"text-align: left\">656696875 (626.3M)</td></tr><tr><th style=\"text-align: left\">Storage ratio</th><td style=\"text-align: left\">3.7</td></tr><tr><th style=\"text-align: left\">Chunks initialized</th><td style=\"text-align: left\">390/390</td></tr></tbody></table>"
      ],
      "text/plain": [
       "Type               : zarr.core.Array\n",
       "Data type          : uint16\n",
       "Shape              : (130, 3, 75, 150, 275)\n",
       "Chunk shape        : (1, 1, 75, 150, 275)\n",
       "Order              : C\n",
       "Read-only          : True\n",
       "Compressor         : Blosc(cname='lz4', clevel=5, shuffle=SHUFFLE, blocksize=0)\n",
       "Store type         : zarr.storage.DirectoryStore\n",
       "No. bytes          : 2413125000 (2.2G)\n",
       "No. bytes stored   : 656696875 (626.3M)\n",
       "Storage ratio      : 3.7\n",
       "Chunks initialized : 390/390"
      ]
     },
     "execution_count": 94,
     "metadata": {},
     "output_type": "execute_result"
    }
   ],
   "source": [
    "z2.info"
   ]
  },
  {
   "cell_type": "code",
   "execution_count": 95,
   "id": "74b82bf1-0470-4214-802c-e77fa4ab330a",
   "metadata": {},
   "outputs": [
    {
     "name": "stdout",
     "output_type": "stream",
     "text": [
      "the number of frames are 130\n"
     ]
    }
   ],
   "source": [
    "frames = z2.shape[0]\n",
    "print(f'the number of frames are {frames}')"
   ]
  },
  {
   "cell_type": "markdown",
   "id": "48e9983d-8633-46d7-a59a-7885c93fbd1b",
   "metadata": {},
   "source": [
    "## In the below cell Detector object is initilized to perform detection. More details on the Detector object can be attained by the following line of code: \n",
    "**copy and paste in a new cell**\n",
    "\n",
    "?Detector"
   ]
  },
  {
   "cell_type": "code",
   "execution_count": 96,
   "id": "f9a03bc8-4326-4fb0-87c0-d3af7eb67e2f",
   "metadata": {},
   "outputs": [],
   "source": [
    "detector = Detector(zarr_obj = z2, \n",
    "                    save_directory = save_directory_full, \n",
    "                    spot_intensity = spot_intensity, \n",
    "                    dist_between_spots = dist_between_spots, \n",
    "                    sigma_estimations = sigma_estimations, n_jobs = n_jobs, channel_to_detect = channel_to_detect)"
   ]
  },
  {
   "cell_type": "code",
   "execution_count": 97,
   "id": "9763ea65-4a6c-4061-8e42-29e84012bfb7",
   "metadata": {},
   "outputs": [
    {
     "name": "stderr",
     "output_type": "stream",
     "text": [
      "Processing frames: 100%|██████████| 2/2 [00:03<00:00,  1.66s/it]"
     ]
    },
    {
     "name": "stdout",
     "output_type": "stream",
     "text": [
      "the number of times the gaussian fitting worked was 244 and the number of times the gaussian did not fit was 67\n",
      "the number of times the gaussian fitting worked was 261 and the number of times the gaussian did not fit was 67\n"
     ]
    },
    {
     "name": "stderr",
     "output_type": "stream",
     "text": [
      "\n"
     ]
    }
   ],
   "source": [
    "#the following function returns the dataframe and also saves it to the provided path in pkl format\n",
    "#set all_frames = True, to process all the time frames \n",
    "#max_frames is useful when you just want to perform detection on a subset of frames. \n",
    "#Note: when all_frames= True then max_frames is ignored \n",
    "df = detector.run_parallel_frame_processing(max_frames = max_frames, all_frames = all_frames)"
   ]
  },
  {
   "cell_type": "code",
   "execution_count": 98,
   "id": "9770b428",
   "metadata": {},
   "outputs": [
    {
     "name": "stderr",
     "output_type": "stream",
     "text": [
      "Processing frames: 100%|██████████| 2/2 [00:03<00:00,  1.70s/it]"
     ]
    },
    {
     "name": "stdout",
     "output_type": "stream",
     "text": [
      "the number of times the gaussian fitting worked was 244 and the number of times the gaussian did not fit was 67\n",
      "the number of times the gaussian fitting worked was 261 and the number of times the gaussian did not fit was 67\n"
     ]
    },
    {
     "name": "stderr",
     "output_type": "stream",
     "text": [
      "\n"
     ]
    }
   ],
   "source": [
    "\n",
    "test = detector.run_parallel_frame_processing(max_frames = max_frames, all_frames = all_frames)\n",
    "# print('testing now')\n"
   ]
  },
  {
   "cell_type": "code",
   "execution_count": 99,
   "id": "6ce83a93",
   "metadata": {},
   "outputs": [
    {
     "data": {
      "text/html": [
       "<div>\n",
       "<style scoped>\n",
       "    .dataframe tbody tr th:only-of-type {\n",
       "        vertical-align: middle;\n",
       "    }\n",
       "\n",
       "    .dataframe tbody tr th {\n",
       "        vertical-align: top;\n",
       "    }\n",
       "\n",
       "    .dataframe thead th {\n",
       "        text-align: right;\n",
       "    }\n",
       "</style>\n",
       "<table border=\"1\" class=\"dataframe\">\n",
       "  <thead>\n",
       "    <tr style=\"text-align: right;\">\n",
       "      <th></th>\n",
       "      <th>amplitude</th>\n",
       "      <th>mu_x</th>\n",
       "      <th>mu_y</th>\n",
       "      <th>mu_z</th>\n",
       "      <th>sigma_x</th>\n",
       "      <th>sigma_y</th>\n",
       "      <th>sigma_z</th>\n",
       "      <th>cov_x</th>\n",
       "      <th>cov_y</th>\n",
       "      <th>cov_z</th>\n",
       "      <th>errors</th>\n",
       "      <th>frame</th>\n",
       "      <th>mean_errors_mu</th>\n",
       "      <th>mean_errors_sigma</th>\n",
       "    </tr>\n",
       "  </thead>\n",
       "  <tbody>\n",
       "    <tr>\n",
       "      <th>1</th>\n",
       "      <td>191.000000</td>\n",
       "      <td>36.0</td>\n",
       "      <td>43.0</td>\n",
       "      <td>1.0</td>\n",
       "      <td>2.0</td>\n",
       "      <td>1.0</td>\n",
       "      <td>2.0</td>\n",
       "      <td>0.015020</td>\n",
       "      <td>0.045914</td>\n",
       "      <td>2367.853395</td>\n",
       "      <td>[4.999999999999517, [0.802072230448214, 0.2164...</td>\n",
       "      <td>0</td>\n",
       "      <td>0.458639</td>\n",
       "      <td>0.800102</td>\n",
       "    </tr>\n",
       "    <tr>\n",
       "      <th>2</th>\n",
       "      <td>231.007679</td>\n",
       "      <td>40.0</td>\n",
       "      <td>96.0</td>\n",
       "      <td>1.0</td>\n",
       "      <td>2.0</td>\n",
       "      <td>2.0</td>\n",
       "      <td>2.0</td>\n",
       "      <td>0.015020</td>\n",
       "      <td>0.045914</td>\n",
       "      <td>2367.853395</td>\n",
       "      <td>[3.9923205358078633, [0.946468875975939, 0.164...</td>\n",
       "      <td>0</td>\n",
       "      <td>0.611968</td>\n",
       "      <td>0.619822</td>\n",
       "    </tr>\n",
       "    <tr>\n",
       "      <th>3</th>\n",
       "      <td>185.152538</td>\n",
       "      <td>40.0</td>\n",
       "      <td>13.0</td>\n",
       "      <td>1.0</td>\n",
       "      <td>2.0</td>\n",
       "      <td>1.0</td>\n",
       "      <td>3.0</td>\n",
       "      <td>0.015020</td>\n",
       "      <td>0.045914</td>\n",
       "      <td>2367.853395</td>\n",
       "      <td>[3.847461623190185, [0.5256193547833399, 0.389...</td>\n",
       "      <td>0</td>\n",
       "      <td>0.358392</td>\n",
       "      <td>0.536925</td>\n",
       "    </tr>\n",
       "    <tr>\n",
       "      <th>4</th>\n",
       "      <td>202.000000</td>\n",
       "      <td>46.0</td>\n",
       "      <td>28.0</td>\n",
       "      <td>1.0</td>\n",
       "      <td>2.0</td>\n",
       "      <td>2.0</td>\n",
       "      <td>3.0</td>\n",
       "      <td>0.015020</td>\n",
       "      <td>0.045914</td>\n",
       "      <td>2367.853395</td>\n",
       "      <td>[4.999999999999972, [0.7257017362142371, 0.132...</td>\n",
       "      <td>0</td>\n",
       "      <td>0.338810</td>\n",
       "      <td>0.502196</td>\n",
       "    </tr>\n",
       "    <tr>\n",
       "      <th>5</th>\n",
       "      <td>199.000000</td>\n",
       "      <td>65.0</td>\n",
       "      <td>90.0</td>\n",
       "      <td>1.0</td>\n",
       "      <td>2.0</td>\n",
       "      <td>1.0</td>\n",
       "      <td>2.0</td>\n",
       "      <td>0.015020</td>\n",
       "      <td>0.045914</td>\n",
       "      <td>2367.853395</td>\n",
       "      <td>[4.999999999999972, [0.8930416004280686, 0.024...</td>\n",
       "      <td>0</td>\n",
       "      <td>0.314858</td>\n",
       "      <td>0.614664</td>\n",
       "    </tr>\n",
       "    <tr>\n",
       "      <th>...</th>\n",
       "      <td>...</td>\n",
       "      <td>...</td>\n",
       "      <td>...</td>\n",
       "      <td>...</td>\n",
       "      <td>...</td>\n",
       "      <td>...</td>\n",
       "      <td>...</td>\n",
       "      <td>...</td>\n",
       "      <td>...</td>\n",
       "      <td>...</td>\n",
       "      <td>...</td>\n",
       "      <td>...</td>\n",
       "      <td>...</td>\n",
       "      <td>...</td>\n",
       "    </tr>\n",
       "    <tr>\n",
       "      <th>623</th>\n",
       "      <td>354.333333</td>\n",
       "      <td>232.0</td>\n",
       "      <td>98.0</td>\n",
       "      <td>72.0</td>\n",
       "      <td>2.0</td>\n",
       "      <td>2.0</td>\n",
       "      <td>4.0</td>\n",
       "      <td>0.025821</td>\n",
       "      <td>2.079709</td>\n",
       "      <td>684.234816</td>\n",
       "      <td>[1.6666666666666856, [0.1644772491307691, 0.02...</td>\n",
       "      <td>1</td>\n",
       "      <td>0.094144</td>\n",
       "      <td>0.339484</td>\n",
       "    </tr>\n",
       "    <tr>\n",
       "      <th>624</th>\n",
       "      <td>181.000000</td>\n",
       "      <td>238.0</td>\n",
       "      <td>65.0</td>\n",
       "      <td>71.0</td>\n",
       "      <td>2.0</td>\n",
       "      <td>1.0</td>\n",
       "      <td>2.0</td>\n",
       "      <td>0.025821</td>\n",
       "      <td>2.079709</td>\n",
       "      <td>684.234816</td>\n",
       "      <td>[4.999999999999972, [1.2225698305084904, 0.199...</td>\n",
       "      <td>1</td>\n",
       "      <td>0.623773</td>\n",
       "      <td>0.482415</td>\n",
       "    </tr>\n",
       "    <tr>\n",
       "      <th>626</th>\n",
       "      <td>326.981614</td>\n",
       "      <td>138.0</td>\n",
       "      <td>55.0</td>\n",
       "      <td>75.0</td>\n",
       "      <td>2.0</td>\n",
       "      <td>2.0</td>\n",
       "      <td>5.0</td>\n",
       "      <td>0.025821</td>\n",
       "      <td>2.079709</td>\n",
       "      <td>684.234816</td>\n",
       "      <td>[0.9816144068473136, [1.9585048014973552, 0.07...</td>\n",
       "      <td>1</td>\n",
       "      <td>0.818423</td>\n",
       "      <td>0.673568</td>\n",
       "    </tr>\n",
       "    <tr>\n",
       "      <th>628</th>\n",
       "      <td>219.331626</td>\n",
       "      <td>164.0</td>\n",
       "      <td>97.0</td>\n",
       "      <td>75.0</td>\n",
       "      <td>2.0</td>\n",
       "      <td>3.0</td>\n",
       "      <td>6.0</td>\n",
       "      <td>0.025821</td>\n",
       "      <td>2.079709</td>\n",
       "      <td>684.234816</td>\n",
       "      <td>[0.6683738239880483, [1.3136994252425467, 0.28...</td>\n",
       "      <td>1</td>\n",
       "      <td>0.579871</td>\n",
       "      <td>1.555417</td>\n",
       "    </tr>\n",
       "    <tr>\n",
       "      <th>630</th>\n",
       "      <td>337.560857</td>\n",
       "      <td>178.0</td>\n",
       "      <td>50.0</td>\n",
       "      <td>74.0</td>\n",
       "      <td>2.0</td>\n",
       "      <td>5.0</td>\n",
       "      <td>5.0</td>\n",
       "      <td>0.025821</td>\n",
       "      <td>2.079709</td>\n",
       "      <td>684.234816</td>\n",
       "      <td>[0.5608566241590438, [0.5242133689025081, 0.13...</td>\n",
       "      <td>1</td>\n",
       "      <td>0.858404</td>\n",
       "      <td>1.700171</td>\n",
       "    </tr>\n",
       "  </tbody>\n",
       "</table>\n",
       "<p>518 rows × 14 columns</p>\n",
       "</div>"
      ],
      "text/plain": [
       "      amplitude   mu_x  mu_y  mu_z  sigma_x  sigma_y  sigma_z     cov_x  \\\n",
       "1    191.000000   36.0  43.0   1.0      2.0      1.0      2.0  0.015020   \n",
       "2    231.007679   40.0  96.0   1.0      2.0      2.0      2.0  0.015020   \n",
       "3    185.152538   40.0  13.0   1.0      2.0      1.0      3.0  0.015020   \n",
       "4    202.000000   46.0  28.0   1.0      2.0      2.0      3.0  0.015020   \n",
       "5    199.000000   65.0  90.0   1.0      2.0      1.0      2.0  0.015020   \n",
       "..          ...    ...   ...   ...      ...      ...      ...       ...   \n",
       "623  354.333333  232.0  98.0  72.0      2.0      2.0      4.0  0.025821   \n",
       "624  181.000000  238.0  65.0  71.0      2.0      1.0      2.0  0.025821   \n",
       "626  326.981614  138.0  55.0  75.0      2.0      2.0      5.0  0.025821   \n",
       "628  219.331626  164.0  97.0  75.0      2.0      3.0      6.0  0.025821   \n",
       "630  337.560857  178.0  50.0  74.0      2.0      5.0      5.0  0.025821   \n",
       "\n",
       "        cov_y        cov_z                                             errors  \\\n",
       "1    0.045914  2367.853395  [4.999999999999517, [0.802072230448214, 0.2164...   \n",
       "2    0.045914  2367.853395  [3.9923205358078633, [0.946468875975939, 0.164...   \n",
       "3    0.045914  2367.853395  [3.847461623190185, [0.5256193547833399, 0.389...   \n",
       "4    0.045914  2367.853395  [4.999999999999972, [0.7257017362142371, 0.132...   \n",
       "5    0.045914  2367.853395  [4.999999999999972, [0.8930416004280686, 0.024...   \n",
       "..        ...          ...                                                ...   \n",
       "623  2.079709   684.234816  [1.6666666666666856, [0.1644772491307691, 0.02...   \n",
       "624  2.079709   684.234816  [4.999999999999972, [1.2225698305084904, 0.199...   \n",
       "626  2.079709   684.234816  [0.9816144068473136, [1.9585048014973552, 0.07...   \n",
       "628  2.079709   684.234816  [0.6683738239880483, [1.3136994252425467, 0.28...   \n",
       "630  2.079709   684.234816  [0.5608566241590438, [0.5242133689025081, 0.13...   \n",
       "\n",
       "     frame  mean_errors_mu  mean_errors_sigma  \n",
       "1        0        0.458639           0.800102  \n",
       "2        0        0.611968           0.619822  \n",
       "3        0        0.358392           0.536925  \n",
       "4        0        0.338810           0.502196  \n",
       "5        0        0.314858           0.614664  \n",
       "..     ...             ...                ...  \n",
       "623      1        0.094144           0.339484  \n",
       "624      1        0.623773           0.482415  \n",
       "626      1        0.818423           0.673568  \n",
       "628      1        0.579871           1.555417  \n",
       "630      1        0.858404           1.700171  \n",
       "\n",
       "[518 rows x 14 columns]"
      ]
     },
     "execution_count": 99,
     "metadata": {},
     "output_type": "execute_result"
    }
   ],
   "source": [
    "# for each line in test, calculate the mean of errors[1] and errors[2]\n",
    "# if the mean of errors[1] is greater than mu_threshold or mean of errors[2] is greater than sigma_threshold, then keep it in the dataframe test_2\n",
    "\n",
    "# mu_threshold = 0.5\n",
    "# sigma_threshold = 0.5\n",
    "# counter_not_fit = 0\n",
    "# index_of_maximas = []\n",
    "\n",
    "test['mean_errors_mu'] = test['errors'].apply(lambda x: pd.Series(x[1]).mean())\n",
    "test['mean_errors_sigma'] = test['errors'].apply(lambda x: pd.Series(x[2]).mean())\n",
    "\n",
    "\n",
    "# if np.mean(mean_absolute_error_mean) > mu_threshold or np.mean(mean_absolute_error_sigmas) > sigma_threshold:\n",
    "#                 #print('the gaussian did not fit')\n",
    "#                 counter_not_fit += 1\n",
    "#                 index_of_maximas.append(i)\n",
    "test2 = test[(test['mean_errors_mu'] <= 1) & (test['mean_errors_sigma'] < 2.5)]\n",
    "test3 = test[(test['mean_errors_mu'] > 1) & (test['mean_errors_sigma'] >= 2.5)]\n",
    "\n",
    "test2"
   ]
  },
  {
   "cell_type": "markdown",
   "id": "e2fb5443-0c8f-41f3-9464-ba14e2bbf75c",
   "metadata": {},
   "source": [
    "# Visualising the Output\n",
    "## Labels are only for time frame 0, for all z slices "
   ]
  },
  {
   "cell_type": "code",
   "execution_count": 105,
   "id": "9382aca6",
   "metadata": {},
   "outputs": [
    {
     "data": {
      "text/plain": [
       "array([[[[0., 0., 0., ..., 0., 0., 0.],\n",
       "         [0., 0., 0., ..., 0., 0., 0.],\n",
       "         [0., 0., 0., ..., 0., 0., 0.],\n",
       "         ...,\n",
       "         [0., 0., 0., ..., 0., 0., 0.],\n",
       "         [0., 0., 0., ..., 0., 0., 0.],\n",
       "         [0., 0., 0., ..., 0., 0., 0.]],\n",
       "\n",
       "        [[0., 0., 0., ..., 0., 0., 0.],\n",
       "         [0., 0., 0., ..., 0., 0., 0.],\n",
       "         [0., 0., 0., ..., 0., 0., 0.],\n",
       "         ...,\n",
       "         [0., 0., 0., ..., 0., 0., 0.],\n",
       "         [0., 0., 0., ..., 0., 0., 0.],\n",
       "         [0., 0., 0., ..., 0., 0., 0.]],\n",
       "\n",
       "        [[0., 0., 0., ..., 0., 0., 0.],\n",
       "         [0., 0., 0., ..., 0., 0., 0.],\n",
       "         [0., 0., 0., ..., 0., 0., 0.],\n",
       "         ...,\n",
       "         [0., 0., 0., ..., 0., 0., 0.],\n",
       "         [0., 0., 0., ..., 0., 0., 0.],\n",
       "         [0., 0., 0., ..., 0., 0., 0.]],\n",
       "\n",
       "        ...,\n",
       "\n",
       "        [[0., 0., 0., ..., 0., 0., 0.],\n",
       "         [0., 0., 0., ..., 0., 0., 0.],\n",
       "         [0., 0., 0., ..., 0., 0., 0.],\n",
       "         ...,\n",
       "         [0., 0., 0., ..., 0., 0., 0.],\n",
       "         [0., 0., 0., ..., 0., 0., 0.],\n",
       "         [0., 0., 0., ..., 0., 0., 0.]],\n",
       "\n",
       "        [[0., 0., 0., ..., 0., 0., 0.],\n",
       "         [0., 0., 0., ..., 0., 0., 0.],\n",
       "         [0., 0., 0., ..., 0., 0., 0.],\n",
       "         ...,\n",
       "         [0., 0., 0., ..., 0., 0., 0.],\n",
       "         [0., 0., 0., ..., 0., 0., 0.],\n",
       "         [0., 0., 0., ..., 0., 0., 0.]],\n",
       "\n",
       "        [[0., 0., 0., ..., 0., 0., 0.],\n",
       "         [0., 0., 0., ..., 0., 0., 0.],\n",
       "         [0., 0., 0., ..., 0., 0., 0.],\n",
       "         ...,\n",
       "         [0., 0., 0., ..., 0., 0., 0.],\n",
       "         [0., 0., 0., ..., 0., 0., 0.],\n",
       "         [0., 0., 0., ..., 0., 0., 0.]]]])"
      ]
     },
     "execution_count": 105,
     "metadata": {},
     "output_type": "execute_result"
    }
   ],
   "source": [
    "import numpy as np\n",
    "import zarr\n",
    "import matplotlib.pyplot as plt\n",
    "\n",
    "\n",
    "\n",
    "def create_cylindrical_mask_fast(shape, centers, radius_xy, radius_z):\n",
    "    z_dim, y_dim, x_dim = shape\n",
    "    mask = np.zeros((1,z_dim, y_dim, x_dim))\n",
    "    \n",
    "    one_frame_df = spots_df[spots_df['frame'] == 0].copy(deep = True)\n",
    "    centers = one_frame_df[['mu_z', 'mu_y', 'mu_x']].values\n",
    "    radius_xy = 2\n",
    "    radius_z = 4\n",
    "    Z, Y, X = np.ogrid[:z_dim, :y_dim, :x_dim]\n",
    "    \n",
    "    for center in centers:\n",
    "        z_center, y_center, x_center = center\n",
    "        \n",
    "        distance_xy = np.sqrt((X - x_center) ** 2 + (Y - y_center) ** 2)\n",
    "        mask_region = (distance_xy <= radius_xy) & (abs(Z - z_center) <= radius_z)\n",
    "        mask[0][mask_region] = 255\n",
    "    \n",
    "    return mask\n",
    "\n",
    "\n",
    "spots_df = df\n",
    "\n",
    "one_frame_df = spots_df[spots_df['frame'] == 0].copy(deep = True)\n",
    "centers = one_frame_df[['mu_z', 'mu_y', 'mu_x']].values\n",
    "radius_xy = 2\n",
    "radius_z = 4\n",
    "\n",
    "masks4 = create_cylindrical_mask_fast([z2.shape[2], z2.shape[3], z2.shape[4]], centers, radius_xy, radius_z)\n",
    "masks4\n",
    "\n",
    "\n",
    "\n",
    "\n"
   ]
  },
  {
   "cell_type": "code",
   "execution_count": 109,
   "id": "2aa7838c",
   "metadata": {},
   "outputs": [
    {
     "data": {
      "text/plain": [
       "<matplotlib.image.AxesImage at 0x1ed8471c0>"
      ]
     },
     "execution_count": 109,
     "metadata": {},
     "output_type": "execute_result"
    },
    {
     "data": {
      "image/png": "[encoded data removed]",
      "text/plain": [
       "<Figure size 640x480 with 1 Axes>"
      ]
     },
     "metadata": {},
     "output_type": "display_data"
    }
   ],
   "source": [
    "plt.imshow(masks4[0][0], cmap = 'gray')"
   ]
  },
  {
   "cell_type": "code",
   "execution_count": null,
   "id": "1fc215f7",
   "metadata": {},
   "outputs": [],
   "source": [
    "mask_shape = [z2.shape[2], z2.shape[3], z2.shape[4]]\n",
    "radius_xy = 2\n",
    "radius_z = 4\n",
    "df_to_use = cleaned_df[cleaned_df[‘frame’] == 0].copy(deep = True)\n",
    "centers = df_to_use[[‘mu_z’, ‘mu_y’, ‘mu_x’]].values\n",
    "mask_all_cleaned = create_cylindrical_mask_fast(mask_shape, centers, radius_xy, radius_z)\n",
    "# Initialize the array to store masks for all frames\n",
    "frames = 100  # Assuming you want to create a mask for each frame in the time dimension\n",
    "mask_all_frames = np.zeros((frames, z2.shape[2], z2.shape[3],z2.shape[4]))\n",
    "for frame in range(frames):\n",
    "    df_to_use = cleaned_df[cleaned_df[‘frame’] == frame].copy(deep = True)\n",
    "   centers = df_to_use[[‘mu_z’, ‘mu_y’, ‘mu_x’]].values\n",
    "    mask_all_cleaned = create_cylindrical_mask_fast(mask_shape, centers, radius_xy, radius_z)\n",
    "    mask_all_frames[frame] = mask_all_cleaned"
   ]
  },
  {
   "cell_type": "code",
   "execution_count": 100,
   "id": "10093fc6",
   "metadata": {},
   "outputs": [
    {
     "name": "stderr",
     "output_type": "stream",
     "text": [
      "/Users/makamats/Repos/Image-Analysis-Tracking/Final/src/gaussian_visualization.py:25: SettingWithCopyWarning: \n",
      "A value is trying to be set on a copy of a slice from a DataFrame.\n",
      "Try using .loc[row_indexer,col_indexer] = value instead\n",
      "\n",
      "See the caveats in the documentation: https://pandas.pydata.org/pandas-docs/stable/user_guide/indexing.html#returning-a-view-versus-a-copy\n",
      "  gaussians_df['sigma_x'] = gaussians_df['sigma_x'].replace(0, 1)\n",
      "/Users/makamats/Repos/Image-Analysis-Tracking/Final/src/gaussian_visualization.py:26: SettingWithCopyWarning: \n",
      "A value is trying to be set on a copy of a slice from a DataFrame.\n",
      "Try using .loc[row_indexer,col_indexer] = value instead\n",
      "\n",
      "See the caveats in the documentation: https://pandas.pydata.org/pandas-docs/stable/user_guide/indexing.html#returning-a-view-versus-a-copy\n",
      "  gaussians_df['sigma_y'] = gaussians_df['sigma_y'].replace(0, 1)\n",
      "/Users/makamats/Repos/Image-Analysis-Tracking/Final/src/gaussian_visualization.py:27: SettingWithCopyWarning: \n",
      "A value is trying to be set on a copy of a slice from a DataFrame.\n",
      "Try using .loc[row_indexer,col_indexer] = value instead\n",
      "\n",
      "See the caveats in the documentation: https://pandas.pydata.org/pandas-docs/stable/user_guide/indexing.html#returning-a-view-versus-a-copy\n",
      "  gaussians_df['sigma_z'] = gaussians_df['sigma_z'].replace(0, 1)\n"
     ]
    }
   ],
   "source": [
    "masks2 = visualize_3D_gaussians(zarr_obj = z2, gaussians_df = test2)\n",
    "masks3 = visualize_3D_gaussians(zarr_obj = z2, gaussians_df = test3)"
   ]
  },
  {
   "cell_type": "code",
   "execution_count": 110,
   "id": "efe3f21c",
   "metadata": {},
   "outputs": [],
   "source": [
    "# Create a napari viewer\n",
    "viewer = napari.Viewer()\n",
    "\n",
    "#access channel 3 only from zarr array \n",
    "dask_array = da.from_zarr(z2)\n",
    "\n",
    "#the axis arrangement is (t,c,z,y,x)\n",
    "#for the sake of improved performance only 1 channel could be imported here (if images get super large and performance issues occur)\n",
    "all_channels = dask_array[:,:,:,:,:]\n",
    "\n",
    "# Add the 4D stack to the viewer\n",
    "# Can change the names of the channels as needed\n",
    "layer_raw = viewer.add_image(all_channels, channel_axis = 1, name = ['actin', 'dynamin', 'clathrin'])\n",
    "# layer_mask = viewer.add_image(masks, name = 'detections mask')\n",
    "layer_mask_accepted = viewer.add_image(masks2, name = 'accepted detections mask', interpolation3d = 'nearest', blending = 'additive')\n",
    "layer_mask_rejected = viewer.add_image(masks3, name = 'rejected detections mask', interpolation3d = 'nearest', blending = 'additive')\n",
    "layer_mask_alt = viewer.add_image(masks4, name = 'alt detections mask', interpolation3d = 'nearest', blending = 'additive')\n",
    "\n",
    "#other useful parameters \n",
    "#color_map = list\n",
    "#contrast_limits = list of list \n",
    "\n",
    "# Add Bounding Box\n",
    "layer_raw[0].bounding_box.visible = True\n",
    "layer_raw[1].bounding_box.visible = True\n",
    "layer_raw[2].bounding_box.visible = True"
   ]
  },
  {
   "cell_type": "code",
   "execution_count": 90,
   "id": "d18b7583-5e19-4317-a350-d4fb1a00a3e1",
   "metadata": {},
   "outputs": [
    {
     "ename": "KeyError",
     "evalue": "'sigma_x'",
     "output_type": "error",
     "traceback": [
      "\u001b[0;31m---------------------------------------------------------------------------\u001b[0m",
      "\u001b[0;31mKeyError\u001b[0m                                  Traceback (most recent call last)",
      "Cell \u001b[0;32mIn[90], line 1\u001b[0m\n\u001b[0;32m----> 1\u001b[0m masks \u001b[38;5;241m=\u001b[39m \u001b[43mvisualize_3D_gaussians\u001b[49m\u001b[43m(\u001b[49m\u001b[43mzarr_obj\u001b[49m\u001b[43m \u001b[49m\u001b[38;5;241;43m=\u001b[39;49m\u001b[43m \u001b[49m\u001b[43mz2\u001b[49m\u001b[43m,\u001b[49m\u001b[43m \u001b[49m\u001b[43mgaussians_df\u001b[49m\u001b[43m \u001b[49m\u001b[38;5;241;43m=\u001b[39;49m\u001b[43m \u001b[49m\u001b[43mdf\u001b[49m\u001b[43m)\u001b[49m\n",
      "File \u001b[0;32m~/Repos/Image-Analysis-Tracking/Final/src/gaussian_visualization.py:25\u001b[0m, in \u001b[0;36mvisualize_3D_gaussians\u001b[0;34m(zarr_obj, gaussians_df)\u001b[0m\n\u001b[1;32m     22\u001b[0m image_gaussians \u001b[38;5;241m=\u001b[39m np\u001b[38;5;241m.\u001b[39mzeros((zarr_obj\u001b[38;5;241m.\u001b[39mshape[\u001b[38;5;241m2\u001b[39m],zarr_obj\u001b[38;5;241m.\u001b[39mshape[\u001b[38;5;241m3\u001b[39m],zarr_obj\u001b[38;5;241m.\u001b[39mshape[\u001b[38;5;241m4\u001b[39m]))\n\u001b[1;32m     24\u001b[0m \u001b[38;5;66;03m# Replace zero sigma values with 1\u001b[39;00m\n\u001b[0;32m---> 25\u001b[0m gaussians_df[\u001b[38;5;124m'\u001b[39m\u001b[38;5;124msigma_x\u001b[39m\u001b[38;5;124m'\u001b[39m] \u001b[38;5;241m=\u001b[39m \u001b[43mgaussians_df\u001b[49m\u001b[43m[\u001b[49m\u001b[38;5;124;43m'\u001b[39;49m\u001b[38;5;124;43msigma_x\u001b[39;49m\u001b[38;5;124;43m'\u001b[39;49m\u001b[43m]\u001b[49m\u001b[38;5;241m.\u001b[39mreplace(\u001b[38;5;241m0\u001b[39m, \u001b[38;5;241m1\u001b[39m)\n\u001b[1;32m     26\u001b[0m gaussians_df[\u001b[38;5;124m'\u001b[39m\u001b[38;5;124msigma_y\u001b[39m\u001b[38;5;124m'\u001b[39m] \u001b[38;5;241m=\u001b[39m gaussians_df[\u001b[38;5;124m'\u001b[39m\u001b[38;5;124msigma_y\u001b[39m\u001b[38;5;124m'\u001b[39m]\u001b[38;5;241m.\u001b[39mreplace(\u001b[38;5;241m0\u001b[39m, \u001b[38;5;241m1\u001b[39m)\n\u001b[1;32m     27\u001b[0m gaussians_df[\u001b[38;5;124m'\u001b[39m\u001b[38;5;124msigma_z\u001b[39m\u001b[38;5;124m'\u001b[39m] \u001b[38;5;241m=\u001b[39m gaussians_df[\u001b[38;5;124m'\u001b[39m\u001b[38;5;124msigma_z\u001b[39m\u001b[38;5;124m'\u001b[39m]\u001b[38;5;241m.\u001b[39mreplace(\u001b[38;5;241m0\u001b[39m, \u001b[38;5;241m1\u001b[39m)\n",
      "File \u001b[0;32m~/opt/anaconda3/envs/cme_pipeline/lib/python3.10/site-packages/pandas/core/frame.py:4102\u001b[0m, in \u001b[0;36mDataFrame.__getitem__\u001b[0;34m(self, key)\u001b[0m\n\u001b[1;32m   4100\u001b[0m \u001b[38;5;28;01mif\u001b[39;00m \u001b[38;5;28mself\u001b[39m\u001b[38;5;241m.\u001b[39mcolumns\u001b[38;5;241m.\u001b[39mnlevels \u001b[38;5;241m>\u001b[39m \u001b[38;5;241m1\u001b[39m:\n\u001b[1;32m   4101\u001b[0m     \u001b[38;5;28;01mreturn\u001b[39;00m \u001b[38;5;28mself\u001b[39m\u001b[38;5;241m.\u001b[39m_getitem_multilevel(key)\n\u001b[0;32m-> 4102\u001b[0m indexer \u001b[38;5;241m=\u001b[39m \u001b[38;5;28;43mself\u001b[39;49m\u001b[38;5;241;43m.\u001b[39;49m\u001b[43mcolumns\u001b[49m\u001b[38;5;241;43m.\u001b[39;49m\u001b[43mget_loc\u001b[49m\u001b[43m(\u001b[49m\u001b[43mkey\u001b[49m\u001b[43m)\u001b[49m\n\u001b[1;32m   4103\u001b[0m \u001b[38;5;28;01mif\u001b[39;00m is_integer(indexer):\n\u001b[1;32m   4104\u001b[0m     indexer \u001b[38;5;241m=\u001b[39m [indexer]\n",
      "File \u001b[0;32m~/opt/anaconda3/envs/cme_pipeline/lib/python3.10/site-packages/pandas/core/indexes/range.py:417\u001b[0m, in \u001b[0;36mRangeIndex.get_loc\u001b[0;34m(self, key)\u001b[0m\n\u001b[1;32m    415\u001b[0m         \u001b[38;5;28;01mraise\u001b[39;00m \u001b[38;5;167;01mKeyError\u001b[39;00m(key) \u001b[38;5;28;01mfrom\u001b[39;00m \u001b[38;5;21;01merr\u001b[39;00m\n\u001b[1;32m    416\u001b[0m \u001b[38;5;28;01mif\u001b[39;00m \u001b[38;5;28misinstance\u001b[39m(key, Hashable):\n\u001b[0;32m--> 417\u001b[0m     \u001b[38;5;28;01mraise\u001b[39;00m \u001b[38;5;167;01mKeyError\u001b[39;00m(key)\n\u001b[1;32m    418\u001b[0m \u001b[38;5;28mself\u001b[39m\u001b[38;5;241m.\u001b[39m_check_indexing_error(key)\n\u001b[1;32m    419\u001b[0m \u001b[38;5;28;01mraise\u001b[39;00m \u001b[38;5;167;01mKeyError\u001b[39;00m(key)\n",
      "\u001b[0;31mKeyError\u001b[0m: 'sigma_x'"
     ]
    }
   ],
   "source": [
    "masks = visualize_3D_gaussians(zarr_obj = z2, gaussians_df = df)"
   ]
  },
  {
   "cell_type": "markdown",
   "id": "7547cff8",
   "metadata": {},
   "source": [
    "### Below you can see detected spots as masks on the original image and can adjust detection parameters if needed "
   ]
  },
  {
   "cell_type": "code",
   "execution_count": 10,
   "id": "1c6c0e7b-1cad-4c00-8a8d-1e01fbe018a3",
   "metadata": {},
   "outputs": [
    {
     "name": "stderr",
     "output_type": "stream",
     "text": [
      "/Users/makamats/opt/anaconda3/envs/cme_pipeline/lib/python3.10/site-packages/napari/_vispy/layers/image.py:251: UserWarning: data shape (112, 2052, 340) exceeds GL_MAX_TEXTURE_SIZE 2048 in at least one axis and will be downsampled. Rendering is currently in 3D mode.\n",
      "  warnings.warn(\n",
      "/Users/makamats/opt/anaconda3/envs/cme_pipeline/lib/python3.10/site-packages/napari/_vispy/layers/image.py:251: UserWarning: data shape (112, 2052, 340) exceeds GL_MAX_TEXTURE_SIZE 2048 in at least one axis and will be downsampled. Rendering is currently in 3D mode.\n",
      "  warnings.warn(\n",
      "/Users/makamats/opt/anaconda3/envs/cme_pipeline/lib/python3.10/site-packages/napari/_vispy/layers/image.py:251: UserWarning: data shape (112, 2052, 340) exceeds GL_MAX_TEXTURE_SIZE 2048 in at least one axis and will be downsampled. Rendering is currently in 3D mode.\n",
      "  warnings.warn(\n"
     ]
    }
   ],
   "source": [
    "# Create a napari viewer\n",
    "viewer = napari.Viewer()\n",
    "\n",
    "#access channel 3 only from zarr array \n",
    "dask_array = da.from_zarr(z2)\n",
    "\n",
    "#the axis arrangement is (t,c,z,y,x)\n",
    "#for the sake of improved performance only 1 channel could be imported here (if images get super large and performance issues occur)\n",
    "all_channels = dask_array[:,:,:,:,:]\n",
    "\n",
    "# Add the 4D stack to the viewer\n",
    "# Can change the names of the channels as needed\n",
    "layer_raw = viewer.add_image(all_channels, channel_axis = 1, name = ['actin', 'dynamin', 'clathrin'])\n",
    "layer_mask = viewer.add_image(masks, name = 'detections mask')\n",
    "\n",
    "#other useful parameters \n",
    "#color_map = list\n",
    "#contrast_limits = list of list \n",
    "\n",
    "# Add Bounding Box\n",
    "layer_raw[0].bounding_box.visible = True\n",
    "layer_raw[1].bounding_box.visible = True\n",
    "layer_raw[2].bounding_box.visible = True"
   ]
  },
  {
   "cell_type": "markdown",
   "id": "2c08adc4",
   "metadata": {},
   "source": [
    "# move to 02.filtering_spots for next steps "
   ]
  }
 ],
 "metadata": {
  "kernelspec": {
   "display_name": "Python 3 (ipykernel)",
   "language": "python",
   "name": "python3"
  },
  "language_info": {
   "codemirror_mode": {
    "name": "ipython",
    "version": 3
   },
   "file_extension": ".py",
   "mimetype": "text/x-python",
   "name": "python",
   "nbconvert_exporter": "python",
   "pygments_lexer": "ipython3",
   "version": "3.10.0"
  }
 },
 "nbformat": 4,
 "nbformat_minor": 5
}
