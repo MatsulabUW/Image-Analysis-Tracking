{
 "cells": [
  {
   "cell_type": "code",
   "execution_count": 1,
   "metadata": {},
   "outputs": [],
   "source": [
    "import pandas as pd\n",
    "import time\n",
    "import os\n",
    "import sys\n",
    "import zarr\n",
    "import numpy as np\n",
    "import napari\n",
    "import dask.array as da"
   ]
  },
  {
   "cell_type": "code",
   "execution_count": 2,
   "metadata": {},
   "outputs": [],
   "source": [
    "df = pd.read_pickle('/Users/apple/Desktop/CME-ANALYSIS/Image-Analysis-Tracking/Final/test_data/datasets/cleaned_spots_intensities_c3_all.pkl')"
   ]
  },
  {
   "cell_type": "code",
   "execution_count": 3,
   "metadata": {},
   "outputs": [
    {
     "data": {
      "text/html": [
       "<div>\n",
       "<style scoped>\n",
       "    .dataframe tbody tr th:only-of-type {\n",
       "        vertical-align: middle;\n",
       "    }\n",
       "\n",
       "    .dataframe tbody tr th {\n",
       "        vertical-align: top;\n",
       "    }\n",
       "\n",
       "    .dataframe thead th {\n",
       "        text-align: right;\n",
       "    }\n",
       "</style>\n",
       "<table border=\"1\" class=\"dataframe\">\n",
       "  <thead>\n",
       "    <tr style=\"text-align: right;\">\n",
       "      <th></th>\n",
       "      <th>amplitude</th>\n",
       "      <th>mu_x</th>\n",
       "      <th>mu_y</th>\n",
       "      <th>mu_z</th>\n",
       "      <th>sigma_x</th>\n",
       "      <th>sigma_y</th>\n",
       "      <th>sigma_z</th>\n",
       "      <th>frame</th>\n",
       "    </tr>\n",
       "  </thead>\n",
       "  <tbody>\n",
       "    <tr>\n",
       "      <th>0</th>\n",
       "      <td>206.593249</td>\n",
       "      <td>11.0</td>\n",
       "      <td>12.0</td>\n",
       "      <td>0.0</td>\n",
       "      <td>2.0</td>\n",
       "      <td>2.0</td>\n",
       "      <td>4.0</td>\n",
       "      <td>0</td>\n",
       "    </tr>\n",
       "    <tr>\n",
       "      <th>1</th>\n",
       "      <td>191.000000</td>\n",
       "      <td>36.0</td>\n",
       "      <td>88.0</td>\n",
       "      <td>1.0</td>\n",
       "      <td>2.0</td>\n",
       "      <td>1.0</td>\n",
       "      <td>2.0</td>\n",
       "      <td>0</td>\n",
       "    </tr>\n",
       "    <tr>\n",
       "      <th>2</th>\n",
       "      <td>231.007679</td>\n",
       "      <td>40.0</td>\n",
       "      <td>141.0</td>\n",
       "      <td>1.0</td>\n",
       "      <td>2.0</td>\n",
       "      <td>2.0</td>\n",
       "      <td>2.0</td>\n",
       "      <td>0</td>\n",
       "    </tr>\n",
       "    <tr>\n",
       "      <th>3</th>\n",
       "      <td>185.152538</td>\n",
       "      <td>40.0</td>\n",
       "      <td>58.0</td>\n",
       "      <td>1.0</td>\n",
       "      <td>2.0</td>\n",
       "      <td>1.0</td>\n",
       "      <td>3.0</td>\n",
       "      <td>0</td>\n",
       "    </tr>\n",
       "    <tr>\n",
       "      <th>4</th>\n",
       "      <td>202.000000</td>\n",
       "      <td>46.0</td>\n",
       "      <td>73.0</td>\n",
       "      <td>1.0</td>\n",
       "      <td>2.0</td>\n",
       "      <td>2.0</td>\n",
       "      <td>3.0</td>\n",
       "      <td>0</td>\n",
       "    </tr>\n",
       "  </tbody>\n",
       "</table>\n",
       "</div>"
      ],
      "text/plain": [
       "    amplitude  mu_x   mu_y  mu_z  sigma_x  sigma_y  sigma_z  frame\n",
       "0  206.593249  11.0   12.0   0.0      2.0      2.0      4.0      0\n",
       "1  191.000000  36.0   88.0   1.0      2.0      1.0      2.0      0\n",
       "2  231.007679  40.0  141.0   1.0      2.0      2.0      2.0      0\n",
       "3  185.152538  40.0   58.0   1.0      2.0      1.0      3.0      0\n",
       "4  202.000000  46.0   73.0   1.0      2.0      2.0      3.0      0"
      ]
     },
     "execution_count": 3,
     "metadata": {},
     "output_type": "execute_result"
    }
   ],
   "source": [
    "df.head()"
   ]
  },
  {
   "cell_type": "code",
   "execution_count": 4,
   "metadata": {},
   "outputs": [],
   "source": [
    "# This assumes that your notebook is inside 'Jupyter Notebooks', which is at the same level as 'test_data'\n",
    "base_dir = os.path.join(os.path.dirname(os.path.abspath(\"__file__\")), '..', 'test_data')\n",
    "\n",
    "zarr_directory = 'zarr_file/all_channels_data'\n",
    "zarr_full_path = os.path.join(base_dir, zarr_directory)\n",
    "\n",
    "z2 = zarr.open(zarr_full_path, mode='r')"
   ]
  },
  {
   "cell_type": "code",
   "execution_count": 5,
   "metadata": {},
   "outputs": [
    {
     "data": {
      "text/plain": [
       "(130, 3, 75, 258, 275)"
      ]
     },
     "execution_count": 5,
     "metadata": {},
     "output_type": "execute_result"
    }
   ],
   "source": [
    "z2.shape"
   ]
  },
  {
   "cell_type": "code",
   "execution_count": 6,
   "metadata": {},
   "outputs": [],
   "source": [
    "def create_mask(frame_number, zarr_obj, detections_dataframe):\n",
    "    \n",
    "    total_frames = zarr_obj.shape[0]\n",
    "    z_max = zarr_obj.shape[2]\n",
    "    y_max = zarr_obj.shape[3]\n",
    "    x_max = zarr_obj.shape[4]\n",
    "\n",
    "    \n",
    "    if frame_number >= total_frames: \n",
    "        raise valueError(\"frame number provided is out of bounds of the frames in the movie\")\n",
    "    else: \n",
    "        mask_array = np.zeros((1,z_max,y_max, x_max))\n",
    "\n",
    "    current_time_df = detections_dataframe[detections_dataframe['frame'] == frame_number].copy(deep = True)\n",
    "    \n",
    "    #dropping spots out of bounds of z axis \n",
    "    condition_1 = current_time_df['mu_z'] >= 0\n",
    "    condition_2 = current_time_df['mu_z'] <= z2.shape[2]\n",
    "    \n",
    "    #dropping spots out of bounds of x axis \n",
    "    condition_3 = current_time_df['mu_x'] >= 0\n",
    "    condition_4 = current_time_df['mu_x'] <= z2.shape[4]\n",
    "    \n",
    "    #dropping spots out of bounds of y axis \n",
    "    condition_5 = current_time_df['mu_y'] >= 0\n",
    "    condition_6 = current_time_df['mu_y'] <= z2.shape[3]\n",
    "\n",
    "    current_time_df = current_time_df[condition_1 & condition_2 & condition_3 & condition_4 & \n",
    "    condition_5 & condition_6].reset_index(drop = True)\n",
    "\n",
    "    for row in df.itertuples(index=True, name='Pandas'):\n",
    "        z = row[4]\n",
    "        y = row[3]\n",
    "        x = row[2]\n",
    "        sigma_z = row[7]\n",
    "\n",
    "        sigma_y = row[6]\n",
    "\n",
    "        sigma_x = row[5]\n",
    "\n",
    "\n",
    "        z_lower_bound = int(max(0,z - sigma_z))\n",
    "        z_upper_bound = int(min(z_max,z + sigma_z))\n",
    "\n",
    "        y_lower_bound = int(max(0, y - sigma_y))\n",
    "        y_upper_bound = int(min(y_max, y + sigma_y))\n",
    "\n",
    "        x_lower_bound = int(max(0, x - sigma_x))\n",
    "        x_upper_bound = int(min(x_max, x + sigma_x))\n",
    "\n",
    "        mask_array[0,z_lower_bound:z_upper_bound,y_lower_bound:y_upper_bound,x_lower_bound:x_upper_bound] = 1   \n",
    "\n",
    "    return mask_array\n",
    "        "
   ]
  },
  {
   "cell_type": "code",
   "execution_count": 7,
   "metadata": {},
   "outputs": [],
   "source": [
    "detections_masks = create_mask(frame_number = 0, zarr_obj = z2, detections_dataframe = df)"
   ]
  },
  {
   "cell_type": "code",
   "execution_count": 8,
   "metadata": {},
   "outputs": [
    {
     "name": "stdout",
     "output_type": "stream",
     "text": [
      "The array contains zeros.\n"
     ]
    }
   ],
   "source": [
    "# Check if there are any zeros in the array\n",
    "contains_zeros = np.any(detections_masks == 0)\n",
    "\n",
    "# Print the result\n",
    "if contains_zeros:\n",
    "    print(\"The array contains zeros.\")\n",
    "else:\n",
    "    print(\"The array does not contain any zeros.\")"
   ]
  },
  {
   "cell_type": "code",
   "execution_count": 9,
   "metadata": {},
   "outputs": [],
   "source": [
    "# Create a napari viewer\n",
    "viewer = napari.Viewer()\n",
    "\n",
    "#access channel 3 only from zarr array \n",
    "dask_array = da.from_zarr(z2)\n",
    "\n",
    "#the axis arrangement is (t,c,z,y,x)\n",
    "#for the sake of improved performance only 1 channel could be imported here (if images get super large and performance issues occur)\n",
    "all_channels = dask_array[:,:,:,:,:]\n",
    "\n",
    "# Add the 4D stack to the viewer\n",
    "layer_raw = viewer.add_image(all_channels, channel_axis = 1, name = ['actin', 'dynamin', 'clathrin'])\n",
    "#other useful parameters \n",
    "#color_map = list\n",
    "#contrast_limits = list of list \n",
    "\n",
    "# Add Bounding Box\n",
    "layer_raw[0].bounding_box.visible = True\n",
    "layer_raw[1].bounding_box.visible = True\n",
    "layer_raw[2].bounding_box.visible = True"
   ]
  },
  {
   "cell_type": "code",
   "execution_count": 10,
   "metadata": {},
   "outputs": [],
   "source": [
    "#viewer.add_image(detections_masks, name = 'masks')\n"
   ]
  },
  {
   "cell_type": "code",
   "execution_count": 14,
   "metadata": {},
   "outputs": [],
   "source": [
    "import numpy as np\n",
    "\n",
    "def visualize_3D_gaussians(zarr_obj, gaussians_df):\n",
    "    '''\n",
    "    This function takes a raw image from which gaussians have been segmented\n",
    "    and fitted, and a DataFrame containing the Gaussian parameters to draw them\n",
    "    into a new 3D array that can then be visualized or outputted as a TIFF.\n",
    "    '''\n",
    "\n",
    "    \n",
    "    image_gaussians = np.zeros((zarr_obj.shape[2],zarr_obj.shape[3],zarr_obj.shape[4]))\n",
    "\n",
    "    # Extract Gaussian parameters from the DataFrame\n",
    "    amplitudes = gaussians_df['amplitude'].values * 100\n",
    "    mu_xs = gaussians_df['mu_x'].values.astype(int)\n",
    "    mu_ys = gaussians_df['mu_y'].values.astype(int)\n",
    "    mu_zs = gaussians_df['mu_z'].values.astype(int)\n",
    "    sigma_xs = gaussians_df['sigma_x'].values\n",
    "    sigma_ys = gaussians_df['sigma_y'].values\n",
    "    sigma_zs = gaussians_df['sigma_z'].values\n",
    "\n",
    "    for amplitude, mu_x, mu_y, mu_z, sigma_x, sigma_y, sigma_z in zip(amplitudes, mu_xs, mu_ys, mu_zs, sigma_xs, sigma_ys, sigma_zs):\n",
    "        n_neighbors_x = int(3 * sigma_x) + 1\n",
    "        n_neighbors_y = int(3 * sigma_y) + 1\n",
    "        n_neighbors_z = int(3 * sigma_z) + 1\n",
    "\n",
    "        z_range = np.arange(max(0, mu_z - n_neighbors_z), min(image_gaussians.shape[0], mu_z + n_neighbors_z + 1))\n",
    "        y_range = np.arange(max(0, mu_y - n_neighbors_y), min(image_gaussians.shape[1], mu_y + n_neighbors_y + 1))\n",
    "        x_range = np.arange(max(0, mu_x - n_neighbors_x), min(image_gaussians.shape[2], mu_x + n_neighbors_x + 1))\n",
    "\n",
    "        zz, yy, xx = np.meshgrid(z_range, y_range, x_range, indexing='ij')\n",
    "        distances = (\n",
    "            ((zz - mu_z) ** 2) / (2 * sigma_z ** 2) +\n",
    "            ((yy - mu_y) ** 2) / (2 * sigma_y ** 2) +\n",
    "            ((xx - mu_x) ** 2) / (2 * sigma_x ** 2)\n",
    "        )\n",
    "        gaussian_values = amplitude * np.exp(-distances)\n",
    "        np.add.at(image_gaussians, (zz, yy, xx), gaussian_values)\n",
    "    \n",
    "    return image_gaussians\n"
   ]
  },
  {
   "cell_type": "code",
   "execution_count": 15,
   "metadata": {},
   "outputs": [],
   "source": [
    "temp = visualize_3D_gaussians(zarr_obj = z2, gaussians_df = df)"
   ]
  },
  {
   "cell_type": "code",
   "execution_count": 16,
   "metadata": {},
   "outputs": [
    {
     "data": {
      "text/plain": [
       "<Image layer 'masks [1]' at 0x7fab0e2410c0>"
      ]
     },
     "execution_count": 16,
     "metadata": {},
     "output_type": "execute_result"
    }
   ],
   "source": [
    "viewer.add_image(temp, name = 'masks')\n"
   ]
  },
  {
   "cell_type": "code",
   "execution_count": null,
   "metadata": {},
   "outputs": [],
   "source": []
  }
 ],
 "metadata": {
  "kernelspec": {
   "display_name": "Python 3 (ipykernel)",
   "language": "python",
   "name": "python3"
  },
  "language_info": {
   "codemirror_mode": {
    "name": "ipython",
    "version": 3
   },
   "file_extension": ".py",
   "mimetype": "text/x-python",
   "name": "python",
   "nbconvert_exporter": "python",
   "pygments_lexer": "ipython3",
   "version": "3.10.13"
  }
 },
 "nbformat": 4,
 "nbformat_minor": 4
}
