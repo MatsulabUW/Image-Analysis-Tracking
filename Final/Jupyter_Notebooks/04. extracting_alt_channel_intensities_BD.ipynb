{
 "cells": [
  {
   "cell_type": "markdown",
   "id": "12cbb82d-b87b-4ede-b907-7f7fcf325961",
   "metadata": {},
   "source": [
    "# The following notebook uses the dataframe on which tracking has been performed and uses the spots coordinates to extract activity from alternate channels. "
   ]
  },
  {
   "cell_type": "code",
   "execution_count": 1,
   "id": "dbb18d9b-2add-413d-be6f-101d3c673e9b",
   "metadata": {},
   "outputs": [],
   "source": [
    "from os import path\n",
    "import pandas as pd\n",
    "from IPython.display import display\n",
    "import numpy as np \n",
    "import sys \n",
    "import time \n",
    "import zarr\n",
    "import os\n",
    "\n",
    "sys.path.append('../src/')\n",
    "\n",
    "from extract_pixel_data import Extractor"
   ]
  },
  {
   "cell_type": "markdown",
   "id": "28fc106e-ee5e-4330-83e4-5c7483e714c4",
   "metadata": {},
   "source": [
    "### Do not change the code in the cell below"
   ]
  },
  {
   "cell_type": "code",
   "execution_count": 2,
   "id": "e3c5b01d-f937-4cef-b7fc-5f3d1014bf2b",
   "metadata": {},
   "outputs": [],
   "source": [
    "# This assumes that your notebook is inside 'Jupyter Notebooks', which is at the same level as 'test_data'\n",
    "base_dir = os.path.join(os.path.dirname(os.path.abspath(\"__file__\")), '..', 'test_data')\n",
    "\n",
    "zarr_directory = 'zarr_file/all_channels_data'\n",
    "zarr_full_path = os.path.join(base_dir, zarr_directory)\n",
    "\n",
    "input_directory = 'datasets'\n",
    "input_file_name = 'track_df_c3_cleaned.pkl'\n",
    "input_directory_full = os.path.join(base_dir,input_directory, input_file_name)\n",
    "\n",
    "output_directory = 'datasets'\n",
    "output_file_name = 'track_df_cleaned_final_full.pkl'\n",
    "output_directory_full = os.path.join(base_dir,output_directory, output_file_name)"
   ]
  },
  {
   "cell_type": "code",
   "execution_count": 3,
   "id": "ab514a50-a2ea-462b-bc94-cdaad738239c",
   "metadata": {},
   "outputs": [],
   "source": [
    "track_df = pd.read_pickle(input_directory_full)\n",
    "# read the zarr file which contains the data of all three channels \n",
    "z = zarr.open(zarr_full_path, mode='r')"
   ]
  },
  {
   "cell_type": "code",
   "execution_count": 4,
   "id": "3d8387da-51cd-4063-9e8c-03212161ac20",
   "metadata": {},
   "outputs": [
    {
     "data": {
      "text/html": [
       "<div>\n",
       "<style scoped>\n",
       "    .dataframe tbody tr th:only-of-type {\n",
       "        vertical-align: middle;\n",
       "    }\n",
       "\n",
       "    .dataframe tbody tr th {\n",
       "        vertical-align: top;\n",
       "    }\n",
       "\n",
       "    .dataframe thead th {\n",
       "        text-align: right;\n",
       "    }\n",
       "</style>\n",
       "<table border=\"1\" class=\"dataframe\">\n",
       "  <thead>\n",
       "    <tr style=\"text-align: right;\">\n",
       "      <th></th>\n",
       "      <th>frame</th>\n",
       "      <th>index</th>\n",
       "      <th>amplitude</th>\n",
       "      <th>mu_x</th>\n",
       "      <th>mu_y</th>\n",
       "      <th>mu_z</th>\n",
       "      <th>sigma_x</th>\n",
       "      <th>sigma_y</th>\n",
       "      <th>sigma_z</th>\n",
       "      <th>frame_y</th>\n",
       "      <th>tree_id</th>\n",
       "      <th>track_id</th>\n",
       "    </tr>\n",
       "  </thead>\n",
       "  <tbody>\n",
       "    <tr>\n",
       "      <th>0</th>\n",
       "      <td>0</td>\n",
       "      <td>0</td>\n",
       "      <td>206.593249</td>\n",
       "      <td>11.0</td>\n",
       "      <td>12.0</td>\n",
       "      <td>0.0</td>\n",
       "      <td>2.0</td>\n",
       "      <td>2.0</td>\n",
       "      <td>4.0</td>\n",
       "      <td>0</td>\n",
       "      <td>0</td>\n",
       "      <td>0</td>\n",
       "    </tr>\n",
       "    <tr>\n",
       "      <th>1</th>\n",
       "      <td>0</td>\n",
       "      <td>1</td>\n",
       "      <td>191.000000</td>\n",
       "      <td>36.0</td>\n",
       "      <td>88.0</td>\n",
       "      <td>1.0</td>\n",
       "      <td>2.0</td>\n",
       "      <td>1.0</td>\n",
       "      <td>2.0</td>\n",
       "      <td>0</td>\n",
       "      <td>1</td>\n",
       "      <td>1</td>\n",
       "    </tr>\n",
       "    <tr>\n",
       "      <th>2</th>\n",
       "      <td>0</td>\n",
       "      <td>2</td>\n",
       "      <td>231.007679</td>\n",
       "      <td>40.0</td>\n",
       "      <td>141.0</td>\n",
       "      <td>1.0</td>\n",
       "      <td>2.0</td>\n",
       "      <td>2.0</td>\n",
       "      <td>2.0</td>\n",
       "      <td>0</td>\n",
       "      <td>2</td>\n",
       "      <td>2</td>\n",
       "    </tr>\n",
       "    <tr>\n",
       "      <th>3</th>\n",
       "      <td>0</td>\n",
       "      <td>3</td>\n",
       "      <td>185.152538</td>\n",
       "      <td>40.0</td>\n",
       "      <td>58.0</td>\n",
       "      <td>1.0</td>\n",
       "      <td>2.0</td>\n",
       "      <td>1.0</td>\n",
       "      <td>3.0</td>\n",
       "      <td>0</td>\n",
       "      <td>3</td>\n",
       "      <td>3</td>\n",
       "    </tr>\n",
       "    <tr>\n",
       "      <th>4</th>\n",
       "      <td>0</td>\n",
       "      <td>4</td>\n",
       "      <td>202.000000</td>\n",
       "      <td>46.0</td>\n",
       "      <td>73.0</td>\n",
       "      <td>1.0</td>\n",
       "      <td>2.0</td>\n",
       "      <td>2.0</td>\n",
       "      <td>3.0</td>\n",
       "      <td>0</td>\n",
       "      <td>4</td>\n",
       "      <td>4</td>\n",
       "    </tr>\n",
       "    <tr>\n",
       "      <th>...</th>\n",
       "      <td>...</td>\n",
       "      <td>...</td>\n",
       "      <td>...</td>\n",
       "      <td>...</td>\n",
       "      <td>...</td>\n",
       "      <td>...</td>\n",
       "      <td>...</td>\n",
       "      <td>...</td>\n",
       "      <td>...</td>\n",
       "      <td>...</td>\n",
       "      <td>...</td>\n",
       "      <td>...</td>\n",
       "    </tr>\n",
       "    <tr>\n",
       "      <th>43341</th>\n",
       "      <td>129</td>\n",
       "      <td>254</td>\n",
       "      <td>177.830039</td>\n",
       "      <td>160.0</td>\n",
       "      <td>133.0</td>\n",
       "      <td>72.0</td>\n",
       "      <td>2.0</td>\n",
       "      <td>2.0</td>\n",
       "      <td>3.0</td>\n",
       "      <td>129</td>\n",
       "      <td>17510</td>\n",
       "      <td>17510</td>\n",
       "    </tr>\n",
       "    <tr>\n",
       "      <th>43342</th>\n",
       "      <td>129</td>\n",
       "      <td>255</td>\n",
       "      <td>179.000000</td>\n",
       "      <td>201.0</td>\n",
       "      <td>207.0</td>\n",
       "      <td>71.0</td>\n",
       "      <td>2.0</td>\n",
       "      <td>1.0</td>\n",
       "      <td>3.0</td>\n",
       "      <td>129</td>\n",
       "      <td>17511</td>\n",
       "      <td>17511</td>\n",
       "    </tr>\n",
       "    <tr>\n",
       "      <th>43343</th>\n",
       "      <td>129</td>\n",
       "      <td>256</td>\n",
       "      <td>274.813463</td>\n",
       "      <td>219.0</td>\n",
       "      <td>45.0</td>\n",
       "      <td>71.0</td>\n",
       "      <td>2.0</td>\n",
       "      <td>2.0</td>\n",
       "      <td>2.0</td>\n",
       "      <td>129</td>\n",
       "      <td>17512</td>\n",
       "      <td>17512</td>\n",
       "    </tr>\n",
       "    <tr>\n",
       "      <th>43344</th>\n",
       "      <td>129</td>\n",
       "      <td>257</td>\n",
       "      <td>175.445348</td>\n",
       "      <td>231.0</td>\n",
       "      <td>219.0</td>\n",
       "      <td>71.0</td>\n",
       "      <td>3.0</td>\n",
       "      <td>2.0</td>\n",
       "      <td>2.0</td>\n",
       "      <td>129</td>\n",
       "      <td>17513</td>\n",
       "      <td>17513</td>\n",
       "    </tr>\n",
       "    <tr>\n",
       "      <th>43345</th>\n",
       "      <td>129</td>\n",
       "      <td>258</td>\n",
       "      <td>265.000000</td>\n",
       "      <td>263.0</td>\n",
       "      <td>237.0</td>\n",
       "      <td>71.0</td>\n",
       "      <td>1.0</td>\n",
       "      <td>2.0</td>\n",
       "      <td>3.0</td>\n",
       "      <td>129</td>\n",
       "      <td>17514</td>\n",
       "      <td>17514</td>\n",
       "    </tr>\n",
       "  </tbody>\n",
       "</table>\n",
       "<p>43346 rows × 12 columns</p>\n",
       "</div>"
      ],
      "text/plain": [
       "       frame  index   amplitude   mu_x   mu_y  mu_z  sigma_x  sigma_y  \\\n",
       "0          0      0  206.593249   11.0   12.0   0.0      2.0      2.0   \n",
       "1          0      1  191.000000   36.0   88.0   1.0      2.0      1.0   \n",
       "2          0      2  231.007679   40.0  141.0   1.0      2.0      2.0   \n",
       "3          0      3  185.152538   40.0   58.0   1.0      2.0      1.0   \n",
       "4          0      4  202.000000   46.0   73.0   1.0      2.0      2.0   \n",
       "...      ...    ...         ...    ...    ...   ...      ...      ...   \n",
       "43341    129    254  177.830039  160.0  133.0  72.0      2.0      2.0   \n",
       "43342    129    255  179.000000  201.0  207.0  71.0      2.0      1.0   \n",
       "43343    129    256  274.813463  219.0   45.0  71.0      2.0      2.0   \n",
       "43344    129    257  175.445348  231.0  219.0  71.0      3.0      2.0   \n",
       "43345    129    258  265.000000  263.0  237.0  71.0      1.0      2.0   \n",
       "\n",
       "       sigma_z  frame_y  tree_id  track_id  \n",
       "0          4.0        0        0         0  \n",
       "1          2.0        0        1         1  \n",
       "2          2.0        0        2         2  \n",
       "3          3.0        0        3         3  \n",
       "4          3.0        0        4         4  \n",
       "...        ...      ...      ...       ...  \n",
       "43341      3.0      129    17510     17510  \n",
       "43342      3.0      129    17511     17511  \n",
       "43343      2.0      129    17512     17512  \n",
       "43344      2.0      129    17513     17513  \n",
       "43345      3.0      129    17514     17514  \n",
       "\n",
       "[43346 rows x 12 columns]"
      ]
     },
     "execution_count": 4,
     "metadata": {},
     "output_type": "execute_result"
    }
   ],
   "source": [
    "track_df"
   ]
  },
  {
   "cell_type": "code",
   "execution_count": 5,
   "id": "40a3a25b",
   "metadata": {},
   "outputs": [
    {
     "data": {
      "text/html": [
       "<table class=\"zarr-info\"><tbody><tr><th style=\"text-align: left\">Type</th><td style=\"text-align: left\">zarr.core.Array</td></tr><tr><th style=\"text-align: left\">Data type</th><td style=\"text-align: left\">uint16</td></tr><tr><th style=\"text-align: left\">Shape</th><td style=\"text-align: left\">(130, 3, 75, 258, 275)</td></tr><tr><th style=\"text-align: left\">Chunk shape</th><td style=\"text-align: left\">(1, 1, 75, 258, 275)</td></tr><tr><th style=\"text-align: left\">Order</th><td style=\"text-align: left\">C</td></tr><tr><th style=\"text-align: left\">Read-only</th><td style=\"text-align: left\">True</td></tr><tr><th style=\"text-align: left\">Compressor</th><td style=\"text-align: left\">Blosc(cname='lz4', clevel=5, shuffle=SHUFFLE, blocksize=0)</td></tr><tr><th style=\"text-align: left\">Store type</th><td style=\"text-align: left\">zarr.storage.DirectoryStore</td></tr><tr><th style=\"text-align: left\">No. bytes</th><td style=\"text-align: left\">4150575000 (3.9G)</td></tr><tr><th style=\"text-align: left\">No. bytes stored</th><td style=\"text-align: left\">1126870917 (1.0G)</td></tr><tr><th style=\"text-align: left\">Storage ratio</th><td style=\"text-align: left\">3.7</td></tr><tr><th style=\"text-align: left\">Chunks initialized</th><td style=\"text-align: left\">390/390</td></tr></tbody></table>"
      ],
      "text/plain": [
       "Type               : zarr.core.Array\n",
       "Data type          : uint16\n",
       "Shape              : (130, 3, 75, 258, 275)\n",
       "Chunk shape        : (1, 1, 75, 258, 275)\n",
       "Order              : C\n",
       "Read-only          : True\n",
       "Compressor         : Blosc(cname='lz4', clevel=5, shuffle=SHUFFLE, blocksize=0)\n",
       "Store type         : zarr.storage.DirectoryStore\n",
       "No. bytes          : 4150575000 (3.9G)\n",
       "No. bytes stored   : 1126870917 (1.0G)\n",
       "Storage ratio      : 3.7\n",
       "Chunks initialized : 390/390"
      ]
     },
     "execution_count": 5,
     "metadata": {},
     "output_type": "execute_result"
    }
   ],
   "source": [
    "z.info"
   ]
  },
  {
   "cell_type": "code",
   "execution_count": 6,
   "id": "a4232a36-97f6-43cc-ba54-e8cf7228a3ae",
   "metadata": {},
   "outputs": [
    {
     "data": {
      "text/plain": [
       "130"
      ]
     },
     "execution_count": 6,
     "metadata": {},
     "output_type": "execute_result"
    }
   ],
   "source": [
    "track_df['frame'].nunique()"
   ]
  },
  {
   "cell_type": "markdown",
   "id": "ebb6b1d0-c4eb-4602-bc16-2cf9efd06be9",
   "metadata": {},
   "source": [
    "## In the below cell the Extractor object is created "
   ]
  },
  {
   "cell_type": "code",
   "execution_count": 7,
   "id": "da560db3-39ca-4f61-95b5-cbd540b92f1e",
   "metadata": {},
   "outputs": [],
   "source": [
    "# Create an extractor object with required parameters to properly run the methods in next steps \n",
    "# radii is the expected radius of the CME sites (will be used for calculations which need fixed radius) \n",
    "# radii_col_name is a list of the variable sigma estimated by gaussian fitting (note: the convention for the list is z,y,x)\n",
    "# n_jobs is the cores to be used. (parallel processing for gaussian fitting on the other two channels could be done to speed up the process)\n",
    "extractor = Extractor(z, dataframe = track_df, radii=[4,2,2], frame_col_name = 'frame', \n",
    "                      radi_col_name = ['sigma_z', 'sigma_y', 'sigma_x'], n_jobs =2)"
   ]
  },
  {
   "cell_type": "markdown",
   "id": "71dd49ca-8b5b-44a3-9209-78bdc47bae18",
   "metadata": {},
   "source": [
    "# Extract Information for Channel 3 (Clathrin)"
   ]
  },
  {
   "cell_type": "markdown",
   "id": "b5fe465a-d9ad-4d7c-9497-aef4c2e0bcff",
   "metadata": {},
   "source": [
    "## Extracting voxel sum"
   ]
  },
  {
   "cell_type": "code",
   "execution_count": 8,
   "id": "e3dc89b1-e00c-4773-9de6-04a0f3aaedb1",
   "metadata": {},
   "outputs": [
    {
     "name": "stdout",
     "output_type": "stream",
     "text": [
      "current frame is 0\n",
      "current frame is 1\n",
      "current frame is 2\n",
      "current frame is 3\n",
      "current frame is 4\n",
      "current frame is 5\n",
      "current frame is 6\n",
      "current frame is 7\n",
      "current frame is 8\n",
      "current frame is 9\n",
      "current frame is 10\n",
      "current frame is 11\n",
      "current frame is 12\n",
      "current frame is 13\n",
      "current frame is 14\n",
      "current frame is 15\n",
      "current frame is 16\n",
      "current frame is 17\n",
      "current frame is 18\n",
      "current frame is 19\n",
      "current frame is 20\n",
      "current frame is 21\n",
      "current frame is 22\n",
      "current frame is 23\n",
      "current frame is 24\n",
      "current frame is 25\n",
      "current frame is 26\n",
      "current frame is 27\n",
      "current frame is 28\n",
      "current frame is 29\n",
      "current frame is 30\n",
      "current frame is 31\n",
      "current frame is 32\n",
      "current frame is 33\n",
      "current frame is 34\n",
      "current frame is 35\n",
      "current frame is 36\n",
      "current frame is 37\n",
      "current frame is 38\n",
      "current frame is 39\n",
      "current frame is 40\n",
      "current frame is 41\n",
      "current frame is 42\n",
      "current frame is 43\n",
      "current frame is 44\n",
      "current frame is 45\n",
      "current frame is 46\n",
      "current frame is 47\n",
      "current frame is 48\n",
      "current frame is 49\n",
      "current frame is 50\n",
      "current frame is 51\n",
      "current frame is 52\n",
      "current frame is 53\n",
      "current frame is 54\n",
      "current frame is 55\n",
      "current frame is 56\n",
      "current frame is 57\n",
      "current frame is 58\n",
      "current frame is 59\n",
      "current frame is 60\n",
      "current frame is 61\n",
      "current frame is 62\n",
      "current frame is 63\n",
      "current frame is 64\n",
      "current frame is 65\n",
      "current frame is 66\n",
      "current frame is 67\n",
      "current frame is 68\n",
      "current frame is 69\n",
      "current frame is 70\n",
      "current frame is 71\n",
      "current frame is 72\n",
      "current frame is 73\n",
      "current frame is 74\n",
      "current frame is 75\n",
      "current frame is 76\n",
      "current frame is 77\n",
      "current frame is 78\n",
      "current frame is 79\n",
      "current frame is 80\n",
      "current frame is 81\n",
      "current frame is 82\n",
      "current frame is 83\n",
      "current frame is 84\n",
      "current frame is 85\n",
      "current frame is 86\n",
      "current frame is 87\n",
      "current frame is 88\n",
      "current frame is 89\n",
      "current frame is 90\n",
      "current frame is 91\n",
      "current frame is 92\n",
      "current frame is 93\n",
      "current frame is 94\n",
      "current frame is 95\n",
      "current frame is 96\n",
      "current frame is 97\n",
      "current frame is 98\n",
      "current frame is 99\n",
      "current frame is 100\n",
      "current frame is 101\n",
      "current frame is 102\n",
      "current frame is 103\n",
      "current frame is 104\n",
      "current frame is 105\n",
      "current frame is 106\n",
      "current frame is 107\n",
      "current frame is 108\n",
      "current frame is 109\n",
      "current frame is 110\n",
      "current frame is 111\n",
      "current frame is 112\n",
      "current frame is 113\n",
      "current frame is 114\n",
      "current frame is 115\n",
      "current frame is 116\n",
      "current frame is 117\n",
      "current frame is 118\n",
      "current frame is 119\n",
      "current frame is 120\n",
      "current frame is 121\n",
      "current frame is 122\n",
      "current frame is 123\n",
      "current frame is 124\n",
      "current frame is 125\n",
      "current frame is 126\n",
      "current frame is 127\n",
      "current frame is 128\n",
      "current frame is 129\n",
      "time taken (seconds) 7.604464292526245\n"
     ]
    }
   ],
   "source": [
    "# pass the channel for which voxel sum is needed and the coordinates around which voxel sum is supposed to be calculated\n",
    "# convention for coords [z,y,x] \n",
    "# convention for channel is 1 for channel 1, 2 for channel 2 and so on \n",
    "# channel number is to passed according to whichever channel we want to extract the data for\n",
    "start_time = time.time()\n",
    "voxel_sum_array_3, _, adj_voxel_sum_3 = extractor.voxel_sum_fixed_background(center_col_names = ['mu_z', 'mu_y', 'mu_x'], channel = 3,\n",
    "                                                                            background_radius=[1,1,1])\n",
    "end_time = time.time()\n",
    "print('time taken (seconds)', end_time - start_time)"
   ]
  },
  {
   "cell_type": "code",
   "execution_count": 9,
   "id": "26c71025",
   "metadata": {},
   "outputs": [
    {
     "name": "stdout",
     "output_type": "stream",
     "text": [
      "current frame number is 0\n",
      "current frame number is 1\n",
      "current frame number is 2\n",
      "current frame number is 3\n",
      "current frame number is 4\n",
      "current frame number is 5\n",
      "current frame number is 6\n",
      "current frame number is 7\n",
      "current frame number is 8\n",
      "current frame number is 9\n",
      "current frame number is 10\n",
      "current frame number is 11\n",
      "current frame number is 12\n",
      "current frame number is 13\n",
      "current frame number is 14\n",
      "current frame number is 15\n",
      "current frame number is 16\n",
      "current frame number is 17\n",
      "current frame number is 18\n",
      "current frame number is 19\n",
      "current frame number is 20\n",
      "current frame number is 21\n",
      "current frame number is 22\n",
      "current frame number is 23\n",
      "current frame number is 24\n",
      "current frame number is 25\n",
      "current frame number is 26\n",
      "current frame number is 27\n",
      "current frame number is 28\n",
      "current frame number is 29\n",
      "current frame number is 30\n",
      "current frame number is 31\n",
      "current frame number is 32\n",
      "current frame number is 33\n",
      "current frame number is 34\n",
      "current frame number is 35\n",
      "current frame number is 36\n",
      "current frame number is 37\n",
      "current frame number is 38\n",
      "current frame number is 39\n",
      "current frame number is 40\n",
      "current frame number is 41\n",
      "current frame number is 42\n",
      "current frame number is 43\n",
      "current frame number is 44\n",
      "current frame number is 45\n",
      "current frame number is 46\n",
      "current frame number is 47\n",
      "current frame number is 48\n",
      "current frame number is 49\n",
      "current frame number is 50\n",
      "current frame number is 51\n",
      "current frame number is 52\n",
      "current frame number is 53\n",
      "current frame number is 54\n",
      "current frame number is 55\n",
      "current frame number is 56\n",
      "current frame number is 57\n",
      "current frame number is 58\n",
      "current frame number is 59\n",
      "current frame number is 60\n",
      "current frame number is 61\n",
      "current frame number is 62\n",
      "current frame number is 63\n",
      "current frame number is 64\n",
      "current frame number is 65\n",
      "current frame number is 66\n",
      "current frame number is 67\n",
      "current frame number is 68\n",
      "current frame number is 69\n",
      "current frame number is 70\n",
      "current frame number is 71\n",
      "current frame number is 72\n",
      "current frame number is 73\n",
      "current frame number is 74\n",
      "current frame number is 75\n",
      "current frame number is 76\n",
      "current frame number is 77\n",
      "current frame number is 78\n",
      "current frame number is 79\n",
      "current frame number is 80\n",
      "current frame number is 81\n",
      "current frame number is 82\n",
      "current frame number is 83\n",
      "current frame number is 84\n",
      "current frame number is 85\n",
      "current frame number is 86\n",
      "current frame number is 87\n",
      "current frame number is 88\n",
      "current frame number is 89\n",
      "current frame number is 90\n",
      "current frame number is 91\n",
      "current frame number is 92\n",
      "current frame number is 93\n",
      "current frame number is 94\n",
      "current frame number is 95\n",
      "current frame number is 96\n",
      "current frame number is 97\n",
      "current frame number is 98\n",
      "current frame number is 99\n",
      "current frame number is 100\n",
      "current frame number is 101\n",
      "current frame number is 102\n",
      "current frame number is 103\n",
      "current frame number is 104\n",
      "current frame number is 105\n",
      "current frame number is 106\n",
      "current frame number is 107\n",
      "current frame number is 108\n",
      "current frame number is 109\n",
      "current frame number is 110\n",
      "current frame number is 111\n",
      "current frame number is 112\n",
      "current frame number is 113\n",
      "current frame number is 114\n",
      "current frame number is 115\n",
      "current frame number is 116\n",
      "current frame number is 117\n",
      "current frame number is 118\n",
      "current frame number is 119\n",
      "current frame number is 120\n",
      "current frame number is 121\n",
      "current frame number is 122\n",
      "current frame number is 123\n",
      "current frame number is 124\n",
      "current frame number is 125\n",
      "current frame number is 126\n",
      "current frame number is 127\n",
      "current frame number is 128\n",
      "current frame number is 129\n",
      "time taken (seconds) 9.779963970184326\n"
     ]
    }
   ],
   "source": [
    "# pass the channel for which pixel values are needed and the coordinates around which values are supposed to be calculated\n",
    "# convention for coords [z,y,x] \n",
    "# convention for channel is 1 for channel 1, 2 for channel 2 and so on \n",
    "start_time = time.time()\n",
    "offset = [0,0]\n",
    "col_names = ['mu_z', 'mu_y', 'mu_x']\n",
    "mean,maximum,minimum,pixel_values,max_loc = extractor.extract_pixels_data_variable_bd(center_col_names = col_names, channel = 3)\n",
    "\n",
    "end_time = time.time()\n",
    "print('time taken (seconds)', end_time - start_time)"
   ]
  },
  {
   "cell_type": "code",
   "execution_count": 10,
   "id": "6470b83f-393c-49fc-912a-3c28373090c3",
   "metadata": {},
   "outputs": [],
   "source": [
    "max_loc = np.array(max_loc)"
   ]
  },
  {
   "cell_type": "code",
   "execution_count": 11,
   "id": "61193cda",
   "metadata": {},
   "outputs": [],
   "source": [
    "track_df['c3_mean_amp'] = mean\n",
    "track_df['c3_voxel_sum'] = voxel_sum_array_3\n",
    "track_df['c3_voxel_sum_adjusted'] = adj_voxel_sum_3 \n",
    "track_df['c3_peak_amp'] = maximum \n",
    "track_df['c3_peak_x'] = max_loc[:,2]\n",
    "track_df['c3_peak_y'] = max_loc[:,1]\n",
    "track_df['c3_peak_z'] = max_loc[:,0]"
   ]
  },
  {
   "cell_type": "code",
   "execution_count": 12,
   "id": "d1370d02-036b-435f-b15e-09c8f184e3b1",
   "metadata": {},
   "outputs": [
    {
     "data": {
      "text/html": [
       "<div>\n",
       "<style scoped>\n",
       "    .dataframe tbody tr th:only-of-type {\n",
       "        vertical-align: middle;\n",
       "    }\n",
       "\n",
       "    .dataframe tbody tr th {\n",
       "        vertical-align: top;\n",
       "    }\n",
       "\n",
       "    .dataframe thead th {\n",
       "        text-align: right;\n",
       "    }\n",
       "</style>\n",
       "<table border=\"1\" class=\"dataframe\">\n",
       "  <thead>\n",
       "    <tr style=\"text-align: right;\">\n",
       "      <th></th>\n",
       "      <th>frame</th>\n",
       "      <th>index</th>\n",
       "      <th>amplitude</th>\n",
       "      <th>mu_x</th>\n",
       "      <th>mu_y</th>\n",
       "      <th>mu_z</th>\n",
       "      <th>sigma_x</th>\n",
       "      <th>sigma_y</th>\n",
       "      <th>sigma_z</th>\n",
       "      <th>frame_y</th>\n",
       "      <th>tree_id</th>\n",
       "      <th>track_id</th>\n",
       "      <th>c3_mean_amp</th>\n",
       "      <th>c3_voxel_sum</th>\n",
       "      <th>c3_voxel_sum_adjusted</th>\n",
       "      <th>c3_peak_amp</th>\n",
       "      <th>c3_peak_x</th>\n",
       "      <th>c3_peak_y</th>\n",
       "      <th>c3_peak_z</th>\n",
       "    </tr>\n",
       "  </thead>\n",
       "  <tbody>\n",
       "    <tr>\n",
       "      <th>0</th>\n",
       "      <td>0</td>\n",
       "      <td>0</td>\n",
       "      <td>206.593249</td>\n",
       "      <td>11.0</td>\n",
       "      <td>12.0</td>\n",
       "      <td>0.0</td>\n",
       "      <td>2.0</td>\n",
       "      <td>2.0</td>\n",
       "      <td>4.0</td>\n",
       "      <td>0</td>\n",
       "      <td>0</td>\n",
       "      <td>0</td>\n",
       "      <td>163.682353</td>\n",
       "      <td>7997</td>\n",
       "      <td>645.727273</td>\n",
       "      <td>207</td>\n",
       "      <td>12</td>\n",
       "      <td>13</td>\n",
       "      <td>0</td>\n",
       "    </tr>\n",
       "    <tr>\n",
       "      <th>1</th>\n",
       "      <td>0</td>\n",
       "      <td>1</td>\n",
       "      <td>191.000000</td>\n",
       "      <td>36.0</td>\n",
       "      <td>88.0</td>\n",
       "      <td>1.0</td>\n",
       "      <td>2.0</td>\n",
       "      <td>1.0</td>\n",
       "      <td>2.0</td>\n",
       "      <td>0</td>\n",
       "      <td>1</td>\n",
       "      <td>1</td>\n",
       "      <td>138.233333</td>\n",
       "      <td>10778</td>\n",
       "      <td>471.529412</td>\n",
       "      <td>196</td>\n",
       "      <td>36</td>\n",
       "      <td>89</td>\n",
       "      <td>1</td>\n",
       "    </tr>\n",
       "    <tr>\n",
       "      <th>2</th>\n",
       "      <td>0</td>\n",
       "      <td>2</td>\n",
       "      <td>231.007679</td>\n",
       "      <td>40.0</td>\n",
       "      <td>141.0</td>\n",
       "      <td>1.0</td>\n",
       "      <td>2.0</td>\n",
       "      <td>2.0</td>\n",
       "      <td>2.0</td>\n",
       "      <td>0</td>\n",
       "      <td>2</td>\n",
       "      <td>2</td>\n",
       "      <td>153.940000</td>\n",
       "      <td>12742</td>\n",
       "      <td>1473.764706</td>\n",
       "      <td>235</td>\n",
       "      <td>40</td>\n",
       "      <td>141</td>\n",
       "      <td>1</td>\n",
       "    </tr>\n",
       "    <tr>\n",
       "      <th>3</th>\n",
       "      <td>0</td>\n",
       "      <td>3</td>\n",
       "      <td>185.152538</td>\n",
       "      <td>40.0</td>\n",
       "      <td>58.0</td>\n",
       "      <td>1.0</td>\n",
       "      <td>2.0</td>\n",
       "      <td>1.0</td>\n",
       "      <td>3.0</td>\n",
       "      <td>0</td>\n",
       "      <td>3</td>\n",
       "      <td>3</td>\n",
       "      <td>141.280000</td>\n",
       "      <td>10928</td>\n",
       "      <td>577.411765</td>\n",
       "      <td>189</td>\n",
       "      <td>41</td>\n",
       "      <td>59</td>\n",
       "      <td>1</td>\n",
       "    </tr>\n",
       "    <tr>\n",
       "      <th>4</th>\n",
       "      <td>0</td>\n",
       "      <td>4</td>\n",
       "      <td>202.000000</td>\n",
       "      <td>46.0</td>\n",
       "      <td>73.0</td>\n",
       "      <td>1.0</td>\n",
       "      <td>2.0</td>\n",
       "      <td>2.0</td>\n",
       "      <td>3.0</td>\n",
       "      <td>0</td>\n",
       "      <td>4</td>\n",
       "      <td>4</td>\n",
       "      <td>147.768000</td>\n",
       "      <td>11688</td>\n",
       "      <td>690.941176</td>\n",
       "      <td>207</td>\n",
       "      <td>47</td>\n",
       "      <td>74</td>\n",
       "      <td>1</td>\n",
       "    </tr>\n",
       "    <tr>\n",
       "      <th>...</th>\n",
       "      <td>...</td>\n",
       "      <td>...</td>\n",
       "      <td>...</td>\n",
       "      <td>...</td>\n",
       "      <td>...</td>\n",
       "      <td>...</td>\n",
       "      <td>...</td>\n",
       "      <td>...</td>\n",
       "      <td>...</td>\n",
       "      <td>...</td>\n",
       "      <td>...</td>\n",
       "      <td>...</td>\n",
       "      <td>...</td>\n",
       "      <td>...</td>\n",
       "      <td>...</td>\n",
       "      <td>...</td>\n",
       "      <td>...</td>\n",
       "      <td>...</td>\n",
       "      <td>...</td>\n",
       "    </tr>\n",
       "    <tr>\n",
       "      <th>43341</th>\n",
       "      <td>129</td>\n",
       "      <td>254</td>\n",
       "      <td>177.830039</td>\n",
       "      <td>160.0</td>\n",
       "      <td>133.0</td>\n",
       "      <td>72.0</td>\n",
       "      <td>2.0</td>\n",
       "      <td>2.0</td>\n",
       "      <td>3.0</td>\n",
       "      <td>129</td>\n",
       "      <td>17510</td>\n",
       "      <td>17510</td>\n",
       "      <td>143.660000</td>\n",
       "      <td>16187</td>\n",
       "      <td>1172.000000</td>\n",
       "      <td>180</td>\n",
       "      <td>160</td>\n",
       "      <td>133</td>\n",
       "      <td>71</td>\n",
       "    </tr>\n",
       "    <tr>\n",
       "      <th>43342</th>\n",
       "      <td>129</td>\n",
       "      <td>255</td>\n",
       "      <td>179.000000</td>\n",
       "      <td>201.0</td>\n",
       "      <td>207.0</td>\n",
       "      <td>71.0</td>\n",
       "      <td>2.0</td>\n",
       "      <td>1.0</td>\n",
       "      <td>3.0</td>\n",
       "      <td>129</td>\n",
       "      <td>17511</td>\n",
       "      <td>17511</td>\n",
       "      <td>130.676190</td>\n",
       "      <td>16674</td>\n",
       "      <td>-701.346939</td>\n",
       "      <td>184</td>\n",
       "      <td>202</td>\n",
       "      <td>208</td>\n",
       "      <td>73</td>\n",
       "    </tr>\n",
       "    <tr>\n",
       "      <th>43343</th>\n",
       "      <td>129</td>\n",
       "      <td>256</td>\n",
       "      <td>274.813463</td>\n",
       "      <td>219.0</td>\n",
       "      <td>45.0</td>\n",
       "      <td>71.0</td>\n",
       "      <td>2.0</td>\n",
       "      <td>2.0</td>\n",
       "      <td>2.0</td>\n",
       "      <td>129</td>\n",
       "      <td>17512</td>\n",
       "      <td>17512</td>\n",
       "      <td>202.216000</td>\n",
       "      <td>24886</td>\n",
       "      <td>1879.306122</td>\n",
       "      <td>277</td>\n",
       "      <td>220</td>\n",
       "      <td>46</td>\n",
       "      <td>73</td>\n",
       "    </tr>\n",
       "    <tr>\n",
       "      <th>43344</th>\n",
       "      <td>129</td>\n",
       "      <td>257</td>\n",
       "      <td>175.445348</td>\n",
       "      <td>231.0</td>\n",
       "      <td>219.0</td>\n",
       "      <td>71.0</td>\n",
       "      <td>3.0</td>\n",
       "      <td>2.0</td>\n",
       "      <td>2.0</td>\n",
       "      <td>129</td>\n",
       "      <td>17513</td>\n",
       "      <td>17513</td>\n",
       "      <td>131.234286</td>\n",
       "      <td>17042</td>\n",
       "      <td>377.183673</td>\n",
       "      <td>180</td>\n",
       "      <td>231</td>\n",
       "      <td>217</td>\n",
       "      <td>69</td>\n",
       "    </tr>\n",
       "    <tr>\n",
       "      <th>43345</th>\n",
       "      <td>129</td>\n",
       "      <td>258</td>\n",
       "      <td>265.000000</td>\n",
       "      <td>263.0</td>\n",
       "      <td>237.0</td>\n",
       "      <td>71.0</td>\n",
       "      <td>1.0</td>\n",
       "      <td>2.0</td>\n",
       "      <td>3.0</td>\n",
       "      <td>129</td>\n",
       "      <td>17514</td>\n",
       "      <td>17514</td>\n",
       "      <td>193.821053</td>\n",
       "      <td>20320</td>\n",
       "      <td>285.181818</td>\n",
       "      <td>270</td>\n",
       "      <td>264</td>\n",
       "      <td>238</td>\n",
       "      <td>73</td>\n",
       "    </tr>\n",
       "  </tbody>\n",
       "</table>\n",
       "<p>43346 rows × 19 columns</p>\n",
       "</div>"
      ],
      "text/plain": [
       "       frame  index   amplitude   mu_x   mu_y  mu_z  sigma_x  sigma_y  \\\n",
       "0          0      0  206.593249   11.0   12.0   0.0      2.0      2.0   \n",
       "1          0      1  191.000000   36.0   88.0   1.0      2.0      1.0   \n",
       "2          0      2  231.007679   40.0  141.0   1.0      2.0      2.0   \n",
       "3          0      3  185.152538   40.0   58.0   1.0      2.0      1.0   \n",
       "4          0      4  202.000000   46.0   73.0   1.0      2.0      2.0   \n",
       "...      ...    ...         ...    ...    ...   ...      ...      ...   \n",
       "43341    129    254  177.830039  160.0  133.0  72.0      2.0      2.0   \n",
       "43342    129    255  179.000000  201.0  207.0  71.0      2.0      1.0   \n",
       "43343    129    256  274.813463  219.0   45.0  71.0      2.0      2.0   \n",
       "43344    129    257  175.445348  231.0  219.0  71.0      3.0      2.0   \n",
       "43345    129    258  265.000000  263.0  237.0  71.0      1.0      2.0   \n",
       "\n",
       "       sigma_z  frame_y  tree_id  track_id  c3_mean_amp  c3_voxel_sum  \\\n",
       "0          4.0        0        0         0   163.682353          7997   \n",
       "1          2.0        0        1         1   138.233333         10778   \n",
       "2          2.0        0        2         2   153.940000         12742   \n",
       "3          3.0        0        3         3   141.280000         10928   \n",
       "4          3.0        0        4         4   147.768000         11688   \n",
       "...        ...      ...      ...       ...          ...           ...   \n",
       "43341      3.0      129    17510     17510   143.660000         16187   \n",
       "43342      3.0      129    17511     17511   130.676190         16674   \n",
       "43343      2.0      129    17512     17512   202.216000         24886   \n",
       "43344      2.0      129    17513     17513   131.234286         17042   \n",
       "43345      3.0      129    17514     17514   193.821053         20320   \n",
       "\n",
       "       c3_voxel_sum_adjusted  c3_peak_amp  c3_peak_x  c3_peak_y  c3_peak_z  \n",
       "0                 645.727273          207         12         13          0  \n",
       "1                 471.529412          196         36         89          1  \n",
       "2                1473.764706          235         40        141          1  \n",
       "3                 577.411765          189         41         59          1  \n",
       "4                 690.941176          207         47         74          1  \n",
       "...                      ...          ...        ...        ...        ...  \n",
       "43341            1172.000000          180        160        133         71  \n",
       "43342            -701.346939          184        202        208         73  \n",
       "43343            1879.306122          277        220         46         73  \n",
       "43344             377.183673          180        231        217         69  \n",
       "43345             285.181818          270        264        238         73  \n",
       "\n",
       "[43346 rows x 19 columns]"
      ]
     },
     "execution_count": 12,
     "metadata": {},
     "output_type": "execute_result"
    }
   ],
   "source": [
    "track_df"
   ]
  },
  {
   "cell_type": "markdown",
   "id": "b62534ae-ab9a-4bb5-9085-2b2da6345c81",
   "metadata": {},
   "source": [
    "# Extract information for Channel 2 "
   ]
  },
  {
   "cell_type": "code",
   "execution_count": 13,
   "id": "2655d1b7-0fed-4f65-bd62-cac8f9139910",
   "metadata": {},
   "outputs": [
    {
     "name": "stdout",
     "output_type": "stream",
     "text": [
      "current frame number is 0\n",
      "current frame number is 1\n",
      "current frame number is 2\n",
      "current frame number is 3\n",
      "current frame number is 4\n",
      "current frame number is 5\n",
      "current frame number is 6\n",
      "current frame number is 7\n",
      "current frame number is 8\n",
      "current frame number is 9\n",
      "current frame number is 10\n",
      "current frame number is 11\n",
      "current frame number is 12\n",
      "current frame number is 13\n",
      "current frame number is 14\n",
      "current frame number is 15\n",
      "current frame number is 16\n",
      "current frame number is 17\n",
      "current frame number is 18\n",
      "current frame number is 19\n",
      "current frame number is 20\n",
      "current frame number is 21\n",
      "current frame number is 22\n",
      "current frame number is 23\n",
      "current frame number is 24\n",
      "current frame number is 25\n",
      "current frame number is 26\n",
      "current frame number is 27\n",
      "current frame number is 28\n",
      "current frame number is 29\n",
      "current frame number is 30\n",
      "current frame number is 31\n",
      "current frame number is 32\n",
      "current frame number is 33\n",
      "current frame number is 34\n",
      "current frame number is 35\n",
      "current frame number is 36\n",
      "current frame number is 37\n",
      "current frame number is 38\n",
      "current frame number is 39\n",
      "current frame number is 40\n",
      "current frame number is 41\n",
      "current frame number is 42\n",
      "current frame number is 43\n",
      "current frame number is 44\n",
      "current frame number is 45\n",
      "current frame number is 46\n",
      "current frame number is 47\n",
      "current frame number is 48\n",
      "current frame number is 49\n",
      "current frame number is 50\n",
      "current frame number is 51\n",
      "current frame number is 52\n",
      "current frame number is 53\n",
      "current frame number is 54\n",
      "current frame number is 55\n",
      "current frame number is 56\n",
      "current frame number is 57\n",
      "current frame number is 58\n",
      "current frame number is 59\n",
      "current frame number is 60\n",
      "current frame number is 61\n",
      "current frame number is 62\n",
      "current frame number is 63\n",
      "current frame number is 64\n",
      "current frame number is 65\n",
      "current frame number is 66\n",
      "current frame number is 67\n",
      "current frame number is 68\n",
      "current frame number is 69\n",
      "current frame number is 70\n",
      "current frame number is 71\n",
      "current frame number is 72\n",
      "current frame number is 73\n",
      "current frame number is 74\n",
      "current frame number is 75\n",
      "current frame number is 76\n",
      "current frame number is 77\n",
      "current frame number is 78\n",
      "current frame number is 79\n",
      "current frame number is 80\n",
      "current frame number is 81\n",
      "current frame number is 82\n",
      "current frame number is 83\n",
      "current frame number is 84\n",
      "current frame number is 85\n",
      "current frame number is 86\n",
      "current frame number is 87\n",
      "current frame number is 88\n",
      "current frame number is 89\n",
      "current frame number is 90\n",
      "current frame number is 91\n",
      "current frame number is 92\n",
      "current frame number is 93\n",
      "current frame number is 94\n",
      "current frame number is 95\n",
      "current frame number is 96\n",
      "current frame number is 97\n",
      "current frame number is 98\n",
      "current frame number is 99\n",
      "current frame number is 100\n",
      "current frame number is 101\n",
      "current frame number is 102\n",
      "current frame number is 103\n",
      "current frame number is 104\n",
      "current frame number is 105\n",
      "current frame number is 106\n",
      "current frame number is 107\n",
      "current frame number is 108\n",
      "current frame number is 109\n",
      "current frame number is 110\n",
      "current frame number is 111\n",
      "current frame number is 112\n",
      "current frame number is 113\n",
      "current frame number is 114\n",
      "current frame number is 115\n",
      "current frame number is 116\n",
      "current frame number is 117\n",
      "current frame number is 118\n",
      "current frame number is 119\n",
      "current frame number is 120\n",
      "current frame number is 121\n",
      "current frame number is 122\n",
      "current frame number is 123\n",
      "current frame number is 124\n",
      "current frame number is 125\n",
      "current frame number is 126\n",
      "current frame number is 127\n",
      "current frame number is 128\n",
      "current frame number is 129\n",
      "time taken (seconds) 11.833097219467163\n"
     ]
    }
   ],
   "source": [
    "# pass the channel for which pixel values are needed and the coordinates around which values are supposed to be calculated\n",
    "# convention for coords [z,y,x] \n",
    "# convention for channel is 1 for channel 1, 2 for channel 2 and so on \n",
    "start_time = time.time()\n",
    "offset = [0,0]\n",
    "col_names = ['mu_z', 'mu_y', 'mu_x']\n",
    "mean,maximum,minimum,pixel_values,max_loc = extractor.extract_pixels_data_variable_bd(center_col_names = col_names, channel = 2)\n",
    "\n",
    "end_time = time.time()\n",
    "print('time taken (seconds)', end_time - start_time)"
   ]
  },
  {
   "cell_type": "code",
   "execution_count": 14,
   "id": "77f34b86",
   "metadata": {},
   "outputs": [],
   "source": [
    "max_loc = np.array(max_loc)"
   ]
  },
  {
   "cell_type": "markdown",
   "id": "6bab68ca-d187-455b-881e-6c4fd8ae772a",
   "metadata": {},
   "source": [
    "## Finding peak pixel for Channel 2 as not sure about the offset between Channel 3 and Channel 2\n",
    "**Reason for offset is being shot from different cameras**"
   ]
  },
  {
   "cell_type": "code",
   "execution_count": 15,
   "id": "fe13e7ae",
   "metadata": {},
   "outputs": [],
   "source": [
    "track_df['c2_amp'] = mean\n",
    "track_df['c2_peak'] = maximum\n",
    "track_df['c2_peak_x'] = max_loc[:,2]\n",
    "track_df['c2_peak_y'] = max_loc[:,1]\n",
    "track_df['c2_peak_z'] = max_loc[:,0]"
   ]
  },
  {
   "cell_type": "code",
   "execution_count": 16,
   "id": "09204f3a",
   "metadata": {},
   "outputs": [
    {
     "data": {
      "text/html": [
       "<div>\n",
       "<style scoped>\n",
       "    .dataframe tbody tr th:only-of-type {\n",
       "        vertical-align: middle;\n",
       "    }\n",
       "\n",
       "    .dataframe tbody tr th {\n",
       "        vertical-align: top;\n",
       "    }\n",
       "\n",
       "    .dataframe thead th {\n",
       "        text-align: right;\n",
       "    }\n",
       "</style>\n",
       "<table border=\"1\" class=\"dataframe\">\n",
       "  <thead>\n",
       "    <tr style=\"text-align: right;\">\n",
       "      <th></th>\n",
       "      <th>frame</th>\n",
       "      <th>index</th>\n",
       "      <th>amplitude</th>\n",
       "      <th>mu_x</th>\n",
       "      <th>mu_y</th>\n",
       "      <th>mu_z</th>\n",
       "      <th>sigma_x</th>\n",
       "      <th>sigma_y</th>\n",
       "      <th>sigma_z</th>\n",
       "      <th>frame_y</th>\n",
       "      <th>...</th>\n",
       "      <th>c3_voxel_sum_adjusted</th>\n",
       "      <th>c3_peak_amp</th>\n",
       "      <th>c3_peak_x</th>\n",
       "      <th>c3_peak_y</th>\n",
       "      <th>c3_peak_z</th>\n",
       "      <th>c2_amp</th>\n",
       "      <th>c2_peak</th>\n",
       "      <th>c2_peak_x</th>\n",
       "      <th>c2_peak_y</th>\n",
       "      <th>c2_peak_z</th>\n",
       "    </tr>\n",
       "  </thead>\n",
       "  <tbody>\n",
       "    <tr>\n",
       "      <th>0</th>\n",
       "      <td>0</td>\n",
       "      <td>0</td>\n",
       "      <td>206.593249</td>\n",
       "      <td>11.0</td>\n",
       "      <td>12.0</td>\n",
       "      <td>0.0</td>\n",
       "      <td>2.0</td>\n",
       "      <td>2.0</td>\n",
       "      <td>4.0</td>\n",
       "      <td>0</td>\n",
       "      <td>...</td>\n",
       "      <td>645.727273</td>\n",
       "      <td>207</td>\n",
       "      <td>12</td>\n",
       "      <td>13</td>\n",
       "      <td>0</td>\n",
       "      <td>122.947826</td>\n",
       "      <td>152</td>\n",
       "      <td>9</td>\n",
       "      <td>14</td>\n",
       "      <td>2</td>\n",
       "    </tr>\n",
       "    <tr>\n",
       "      <th>1</th>\n",
       "      <td>0</td>\n",
       "      <td>1</td>\n",
       "      <td>191.000000</td>\n",
       "      <td>36.0</td>\n",
       "      <td>88.0</td>\n",
       "      <td>1.0</td>\n",
       "      <td>2.0</td>\n",
       "      <td>1.0</td>\n",
       "      <td>2.0</td>\n",
       "      <td>0</td>\n",
       "      <td>...</td>\n",
       "      <td>471.529412</td>\n",
       "      <td>196</td>\n",
       "      <td>36</td>\n",
       "      <td>89</td>\n",
       "      <td>1</td>\n",
       "      <td>116.233333</td>\n",
       "      <td>143</td>\n",
       "      <td>34</td>\n",
       "      <td>87</td>\n",
       "      <td>2</td>\n",
       "    </tr>\n",
       "    <tr>\n",
       "      <th>2</th>\n",
       "      <td>0</td>\n",
       "      <td>2</td>\n",
       "      <td>231.007679</td>\n",
       "      <td>40.0</td>\n",
       "      <td>141.0</td>\n",
       "      <td>1.0</td>\n",
       "      <td>2.0</td>\n",
       "      <td>2.0</td>\n",
       "      <td>2.0</td>\n",
       "      <td>0</td>\n",
       "      <td>...</td>\n",
       "      <td>1473.764706</td>\n",
       "      <td>235</td>\n",
       "      <td>40</td>\n",
       "      <td>141</td>\n",
       "      <td>1</td>\n",
       "      <td>122.330000</td>\n",
       "      <td>142</td>\n",
       "      <td>41</td>\n",
       "      <td>142</td>\n",
       "      <td>0</td>\n",
       "    </tr>\n",
       "    <tr>\n",
       "      <th>3</th>\n",
       "      <td>0</td>\n",
       "      <td>3</td>\n",
       "      <td>185.152538</td>\n",
       "      <td>40.0</td>\n",
       "      <td>58.0</td>\n",
       "      <td>1.0</td>\n",
       "      <td>2.0</td>\n",
       "      <td>1.0</td>\n",
       "      <td>3.0</td>\n",
       "      <td>0</td>\n",
       "      <td>...</td>\n",
       "      <td>577.411765</td>\n",
       "      <td>189</td>\n",
       "      <td>41</td>\n",
       "      <td>59</td>\n",
       "      <td>1</td>\n",
       "      <td>117.626667</td>\n",
       "      <td>142</td>\n",
       "      <td>42</td>\n",
       "      <td>59</td>\n",
       "      <td>0</td>\n",
       "    </tr>\n",
       "    <tr>\n",
       "      <th>4</th>\n",
       "      <td>0</td>\n",
       "      <td>4</td>\n",
       "      <td>202.000000</td>\n",
       "      <td>46.0</td>\n",
       "      <td>73.0</td>\n",
       "      <td>1.0</td>\n",
       "      <td>2.0</td>\n",
       "      <td>2.0</td>\n",
       "      <td>3.0</td>\n",
       "      <td>0</td>\n",
       "      <td>...</td>\n",
       "      <td>690.941176</td>\n",
       "      <td>207</td>\n",
       "      <td>47</td>\n",
       "      <td>74</td>\n",
       "      <td>1</td>\n",
       "      <td>115.112000</td>\n",
       "      <td>141</td>\n",
       "      <td>45</td>\n",
       "      <td>74</td>\n",
       "      <td>3</td>\n",
       "    </tr>\n",
       "    <tr>\n",
       "      <th>...</th>\n",
       "      <td>...</td>\n",
       "      <td>...</td>\n",
       "      <td>...</td>\n",
       "      <td>...</td>\n",
       "      <td>...</td>\n",
       "      <td>...</td>\n",
       "      <td>...</td>\n",
       "      <td>...</td>\n",
       "      <td>...</td>\n",
       "      <td>...</td>\n",
       "      <td>...</td>\n",
       "      <td>...</td>\n",
       "      <td>...</td>\n",
       "      <td>...</td>\n",
       "      <td>...</td>\n",
       "      <td>...</td>\n",
       "      <td>...</td>\n",
       "      <td>...</td>\n",
       "      <td>...</td>\n",
       "      <td>...</td>\n",
       "      <td>...</td>\n",
       "    </tr>\n",
       "    <tr>\n",
       "      <th>43341</th>\n",
       "      <td>129</td>\n",
       "      <td>254</td>\n",
       "      <td>177.830039</td>\n",
       "      <td>160.0</td>\n",
       "      <td>133.0</td>\n",
       "      <td>72.0</td>\n",
       "      <td>2.0</td>\n",
       "      <td>2.0</td>\n",
       "      <td>3.0</td>\n",
       "      <td>129</td>\n",
       "      <td>...</td>\n",
       "      <td>1172.000000</td>\n",
       "      <td>180</td>\n",
       "      <td>160</td>\n",
       "      <td>133</td>\n",
       "      <td>71</td>\n",
       "      <td>120.153333</td>\n",
       "      <td>146</td>\n",
       "      <td>161</td>\n",
       "      <td>135</td>\n",
       "      <td>70</td>\n",
       "    </tr>\n",
       "    <tr>\n",
       "      <th>43342</th>\n",
       "      <td>129</td>\n",
       "      <td>255</td>\n",
       "      <td>179.000000</td>\n",
       "      <td>201.0</td>\n",
       "      <td>207.0</td>\n",
       "      <td>71.0</td>\n",
       "      <td>2.0</td>\n",
       "      <td>1.0</td>\n",
       "      <td>3.0</td>\n",
       "      <td>129</td>\n",
       "      <td>...</td>\n",
       "      <td>-701.346939</td>\n",
       "      <td>184</td>\n",
       "      <td>202</td>\n",
       "      <td>208</td>\n",
       "      <td>73</td>\n",
       "      <td>115.380952</td>\n",
       "      <td>140</td>\n",
       "      <td>203</td>\n",
       "      <td>207</td>\n",
       "      <td>68</td>\n",
       "    </tr>\n",
       "    <tr>\n",
       "      <th>43343</th>\n",
       "      <td>129</td>\n",
       "      <td>256</td>\n",
       "      <td>274.813463</td>\n",
       "      <td>219.0</td>\n",
       "      <td>45.0</td>\n",
       "      <td>71.0</td>\n",
       "      <td>2.0</td>\n",
       "      <td>2.0</td>\n",
       "      <td>2.0</td>\n",
       "      <td>129</td>\n",
       "      <td>...</td>\n",
       "      <td>1879.306122</td>\n",
       "      <td>277</td>\n",
       "      <td>220</td>\n",
       "      <td>46</td>\n",
       "      <td>73</td>\n",
       "      <td>139.080000</td>\n",
       "      <td>181</td>\n",
       "      <td>219</td>\n",
       "      <td>43</td>\n",
       "      <td>73</td>\n",
       "    </tr>\n",
       "    <tr>\n",
       "      <th>43344</th>\n",
       "      <td>129</td>\n",
       "      <td>257</td>\n",
       "      <td>175.445348</td>\n",
       "      <td>231.0</td>\n",
       "      <td>219.0</td>\n",
       "      <td>71.0</td>\n",
       "      <td>3.0</td>\n",
       "      <td>2.0</td>\n",
       "      <td>2.0</td>\n",
       "      <td>129</td>\n",
       "      <td>...</td>\n",
       "      <td>377.183673</td>\n",
       "      <td>180</td>\n",
       "      <td>231</td>\n",
       "      <td>217</td>\n",
       "      <td>69</td>\n",
       "      <td>122.320000</td>\n",
       "      <td>156</td>\n",
       "      <td>228</td>\n",
       "      <td>218</td>\n",
       "      <td>72</td>\n",
       "    </tr>\n",
       "    <tr>\n",
       "      <th>43345</th>\n",
       "      <td>129</td>\n",
       "      <td>258</td>\n",
       "      <td>265.000000</td>\n",
       "      <td>263.0</td>\n",
       "      <td>237.0</td>\n",
       "      <td>71.0</td>\n",
       "      <td>1.0</td>\n",
       "      <td>2.0</td>\n",
       "      <td>3.0</td>\n",
       "      <td>129</td>\n",
       "      <td>...</td>\n",
       "      <td>285.181818</td>\n",
       "      <td>270</td>\n",
       "      <td>264</td>\n",
       "      <td>238</td>\n",
       "      <td>73</td>\n",
       "      <td>142.112500</td>\n",
       "      <td>192</td>\n",
       "      <td>264</td>\n",
       "      <td>237</td>\n",
       "      <td>72</td>\n",
       "    </tr>\n",
       "  </tbody>\n",
       "</table>\n",
       "<p>43346 rows × 24 columns</p>\n",
       "</div>"
      ],
      "text/plain": [
       "       frame  index   amplitude   mu_x   mu_y  mu_z  sigma_x  sigma_y  \\\n",
       "0          0      0  206.593249   11.0   12.0   0.0      2.0      2.0   \n",
       "1          0      1  191.000000   36.0   88.0   1.0      2.0      1.0   \n",
       "2          0      2  231.007679   40.0  141.0   1.0      2.0      2.0   \n",
       "3          0      3  185.152538   40.0   58.0   1.0      2.0      1.0   \n",
       "4          0      4  202.000000   46.0   73.0   1.0      2.0      2.0   \n",
       "...      ...    ...         ...    ...    ...   ...      ...      ...   \n",
       "43341    129    254  177.830039  160.0  133.0  72.0      2.0      2.0   \n",
       "43342    129    255  179.000000  201.0  207.0  71.0      2.0      1.0   \n",
       "43343    129    256  274.813463  219.0   45.0  71.0      2.0      2.0   \n",
       "43344    129    257  175.445348  231.0  219.0  71.0      3.0      2.0   \n",
       "43345    129    258  265.000000  263.0  237.0  71.0      1.0      2.0   \n",
       "\n",
       "       sigma_z  frame_y  ...  c3_voxel_sum_adjusted  c3_peak_amp  c3_peak_x  \\\n",
       "0          4.0        0  ...             645.727273          207         12   \n",
       "1          2.0        0  ...             471.529412          196         36   \n",
       "2          2.0        0  ...            1473.764706          235         40   \n",
       "3          3.0        0  ...             577.411765          189         41   \n",
       "4          3.0        0  ...             690.941176          207         47   \n",
       "...        ...      ...  ...                    ...          ...        ...   \n",
       "43341      3.0      129  ...            1172.000000          180        160   \n",
       "43342      3.0      129  ...            -701.346939          184        202   \n",
       "43343      2.0      129  ...            1879.306122          277        220   \n",
       "43344      2.0      129  ...             377.183673          180        231   \n",
       "43345      3.0      129  ...             285.181818          270        264   \n",
       "\n",
       "       c3_peak_y  c3_peak_z      c2_amp  c2_peak  c2_peak_x  c2_peak_y  \\\n",
       "0             13          0  122.947826      152          9         14   \n",
       "1             89          1  116.233333      143         34         87   \n",
       "2            141          1  122.330000      142         41        142   \n",
       "3             59          1  117.626667      142         42         59   \n",
       "4             74          1  115.112000      141         45         74   \n",
       "...          ...        ...         ...      ...        ...        ...   \n",
       "43341        133         71  120.153333      146        161        135   \n",
       "43342        208         73  115.380952      140        203        207   \n",
       "43343         46         73  139.080000      181        219         43   \n",
       "43344        217         69  122.320000      156        228        218   \n",
       "43345        238         73  142.112500      192        264        237   \n",
       "\n",
       "       c2_peak_z  \n",
       "0              2  \n",
       "1              2  \n",
       "2              0  \n",
       "3              0  \n",
       "4              3  \n",
       "...          ...  \n",
       "43341         70  \n",
       "43342         68  \n",
       "43343         73  \n",
       "43344         72  \n",
       "43345         72  \n",
       "\n",
       "[43346 rows x 24 columns]"
      ]
     },
     "execution_count": 16,
     "metadata": {},
     "output_type": "execute_result"
    }
   ],
   "source": [
    "track_df"
   ]
  },
  {
   "cell_type": "markdown",
   "id": "3723171a-af42-4435-b792-4a1d48db6ca9",
   "metadata": {},
   "source": [
    "## Finding mean value around the peak pixel value for channel 2 "
   ]
  },
  {
   "cell_type": "code",
   "execution_count": 17,
   "id": "cc79466b",
   "metadata": {},
   "outputs": [
    {
     "name": "stdout",
     "output_type": "stream",
     "text": [
      "current frame number is 0\n",
      "current frame number is 1\n",
      "current frame number is 2\n",
      "current frame number is 3\n",
      "current frame number is 4\n",
      "current frame number is 5\n",
      "current frame number is 6\n",
      "current frame number is 7\n",
      "current frame number is 8\n",
      "current frame number is 9\n",
      "current frame number is 10\n",
      "current frame number is 11\n",
      "current frame number is 12\n",
      "current frame number is 13\n",
      "current frame number is 14\n",
      "current frame number is 15\n",
      "current frame number is 16\n",
      "current frame number is 17\n",
      "current frame number is 18\n",
      "current frame number is 19\n",
      "current frame number is 20\n",
      "current frame number is 21\n",
      "current frame number is 22\n",
      "current frame number is 23\n",
      "current frame number is 24\n",
      "current frame number is 25\n",
      "current frame number is 26\n",
      "current frame number is 27\n",
      "current frame number is 28\n",
      "current frame number is 29\n",
      "current frame number is 30\n",
      "current frame number is 31\n",
      "current frame number is 32\n",
      "current frame number is 33\n",
      "current frame number is 34\n",
      "current frame number is 35\n",
      "current frame number is 36\n",
      "current frame number is 37\n",
      "current frame number is 38\n",
      "current frame number is 39\n",
      "current frame number is 40\n",
      "current frame number is 41\n",
      "current frame number is 42\n",
      "current frame number is 43\n",
      "current frame number is 44\n",
      "current frame number is 45\n",
      "current frame number is 46\n",
      "current frame number is 47\n",
      "current frame number is 48\n",
      "current frame number is 49\n",
      "current frame number is 50\n",
      "current frame number is 51\n",
      "current frame number is 52\n",
      "current frame number is 53\n",
      "current frame number is 54\n",
      "current frame number is 55\n",
      "current frame number is 56\n",
      "current frame number is 57\n",
      "current frame number is 58\n",
      "current frame number is 59\n",
      "current frame number is 60\n",
      "current frame number is 61\n",
      "current frame number is 62\n",
      "current frame number is 63\n",
      "current frame number is 64\n",
      "current frame number is 65\n",
      "current frame number is 66\n",
      "current frame number is 67\n",
      "current frame number is 68\n",
      "current frame number is 69\n",
      "current frame number is 70\n",
      "current frame number is 71\n",
      "current frame number is 72\n",
      "current frame number is 73\n",
      "current frame number is 74\n",
      "current frame number is 75\n",
      "current frame number is 76\n",
      "current frame number is 77\n",
      "current frame number is 78\n",
      "current frame number is 79\n",
      "current frame number is 80\n",
      "current frame number is 81\n",
      "current frame number is 82\n",
      "current frame number is 83\n",
      "current frame number is 84\n",
      "current frame number is 85\n",
      "current frame number is 86\n",
      "current frame number is 87\n",
      "current frame number is 88\n",
      "current frame number is 89\n",
      "current frame number is 90\n",
      "current frame number is 91\n",
      "current frame number is 92\n",
      "current frame number is 93\n",
      "current frame number is 94\n",
      "current frame number is 95\n",
      "current frame number is 96\n",
      "current frame number is 97\n",
      "current frame number is 98\n",
      "current frame number is 99\n",
      "current frame number is 100\n",
      "current frame number is 101\n",
      "current frame number is 102\n",
      "current frame number is 103\n",
      "current frame number is 104\n",
      "current frame number is 105\n",
      "current frame number is 106\n",
      "current frame number is 107\n",
      "current frame number is 108\n",
      "current frame number is 109\n",
      "current frame number is 110\n",
      "current frame number is 111\n",
      "current frame number is 112\n",
      "current frame number is 113\n",
      "current frame number is 114\n",
      "current frame number is 115\n",
      "current frame number is 116\n",
      "current frame number is 117\n",
      "current frame number is 118\n",
      "current frame number is 119\n",
      "current frame number is 120\n",
      "current frame number is 121\n",
      "current frame number is 122\n",
      "current frame number is 123\n",
      "current frame number is 124\n",
      "current frame number is 125\n",
      "current frame number is 126\n",
      "current frame number is 127\n",
      "current frame number is 128\n",
      "current frame number is 129\n",
      "time taken (seconds) 7.945610046386719\n"
     ]
    }
   ],
   "source": [
    "start_time = time.time()\n",
    "col_names = ['c2_peak_z', 'c2_peak_y', 'c2_peak_x']\n",
    "peak_mean,maxima,_,_,_ = extractor.extract_pixels_data_variable_bd(center_col_names = col_names, \n",
    "                                                     channel = 2)\n",
    "end_time = time.time()\n",
    "print('time taken (seconds)', end_time - start_time)"
   ]
  },
  {
   "cell_type": "code",
   "execution_count": 18,
   "id": "038dd89a",
   "metadata": {},
   "outputs": [],
   "source": [
    "track_df['c2_peak_mean'] = peak_mean"
   ]
  },
  {
   "cell_type": "code",
   "execution_count": 19,
   "id": "b2cad583",
   "metadata": {},
   "outputs": [
    {
     "data": {
      "text/html": [
       "<div>\n",
       "<style scoped>\n",
       "    .dataframe tbody tr th:only-of-type {\n",
       "        vertical-align: middle;\n",
       "    }\n",
       "\n",
       "    .dataframe tbody tr th {\n",
       "        vertical-align: top;\n",
       "    }\n",
       "\n",
       "    .dataframe thead th {\n",
       "        text-align: right;\n",
       "    }\n",
       "</style>\n",
       "<table border=\"1\" class=\"dataframe\">\n",
       "  <thead>\n",
       "    <tr style=\"text-align: right;\">\n",
       "      <th></th>\n",
       "      <th>frame</th>\n",
       "      <th>index</th>\n",
       "      <th>amplitude</th>\n",
       "      <th>mu_x</th>\n",
       "      <th>mu_y</th>\n",
       "      <th>mu_z</th>\n",
       "      <th>sigma_x</th>\n",
       "      <th>sigma_y</th>\n",
       "      <th>sigma_z</th>\n",
       "      <th>frame_y</th>\n",
       "      <th>...</th>\n",
       "      <th>c3_peak_amp</th>\n",
       "      <th>c3_peak_x</th>\n",
       "      <th>c3_peak_y</th>\n",
       "      <th>c3_peak_z</th>\n",
       "      <th>c2_amp</th>\n",
       "      <th>c2_peak</th>\n",
       "      <th>c2_peak_x</th>\n",
       "      <th>c2_peak_y</th>\n",
       "      <th>c2_peak_z</th>\n",
       "      <th>c2_peak_mean</th>\n",
       "    </tr>\n",
       "  </thead>\n",
       "  <tbody>\n",
       "    <tr>\n",
       "      <th>0</th>\n",
       "      <td>0</td>\n",
       "      <td>0</td>\n",
       "      <td>206.593249</td>\n",
       "      <td>11.0</td>\n",
       "      <td>12.0</td>\n",
       "      <td>0.0</td>\n",
       "      <td>2.0</td>\n",
       "      <td>2.0</td>\n",
       "      <td>4.0</td>\n",
       "      <td>0</td>\n",
       "      <td>...</td>\n",
       "      <td>207</td>\n",
       "      <td>12</td>\n",
       "      <td>13</td>\n",
       "      <td>0</td>\n",
       "      <td>122.947826</td>\n",
       "      <td>152</td>\n",
       "      <td>9</td>\n",
       "      <td>14</td>\n",
       "      <td>2</td>\n",
       "      <td>125.500000</td>\n",
       "    </tr>\n",
       "    <tr>\n",
       "      <th>1</th>\n",
       "      <td>0</td>\n",
       "      <td>1</td>\n",
       "      <td>191.000000</td>\n",
       "      <td>36.0</td>\n",
       "      <td>88.0</td>\n",
       "      <td>1.0</td>\n",
       "      <td>2.0</td>\n",
       "      <td>1.0</td>\n",
       "      <td>2.0</td>\n",
       "      <td>0</td>\n",
       "      <td>...</td>\n",
       "      <td>196</td>\n",
       "      <td>36</td>\n",
       "      <td>89</td>\n",
       "      <td>1</td>\n",
       "      <td>116.233333</td>\n",
       "      <td>143</td>\n",
       "      <td>34</td>\n",
       "      <td>87</td>\n",
       "      <td>2</td>\n",
       "      <td>114.826667</td>\n",
       "    </tr>\n",
       "    <tr>\n",
       "      <th>2</th>\n",
       "      <td>0</td>\n",
       "      <td>2</td>\n",
       "      <td>231.007679</td>\n",
       "      <td>40.0</td>\n",
       "      <td>141.0</td>\n",
       "      <td>1.0</td>\n",
       "      <td>2.0</td>\n",
       "      <td>2.0</td>\n",
       "      <td>2.0</td>\n",
       "      <td>0</td>\n",
       "      <td>...</td>\n",
       "      <td>235</td>\n",
       "      <td>40</td>\n",
       "      <td>141</td>\n",
       "      <td>1</td>\n",
       "      <td>122.330000</td>\n",
       "      <td>142</td>\n",
       "      <td>41</td>\n",
       "      <td>142</td>\n",
       "      <td>0</td>\n",
       "      <td>122.853333</td>\n",
       "    </tr>\n",
       "    <tr>\n",
       "      <th>3</th>\n",
       "      <td>0</td>\n",
       "      <td>3</td>\n",
       "      <td>185.152538</td>\n",
       "      <td>40.0</td>\n",
       "      <td>58.0</td>\n",
       "      <td>1.0</td>\n",
       "      <td>2.0</td>\n",
       "      <td>1.0</td>\n",
       "      <td>3.0</td>\n",
       "      <td>0</td>\n",
       "      <td>...</td>\n",
       "      <td>189</td>\n",
       "      <td>41</td>\n",
       "      <td>59</td>\n",
       "      <td>1</td>\n",
       "      <td>117.626667</td>\n",
       "      <td>142</td>\n",
       "      <td>42</td>\n",
       "      <td>59</td>\n",
       "      <td>0</td>\n",
       "      <td>118.016667</td>\n",
       "    </tr>\n",
       "    <tr>\n",
       "      <th>4</th>\n",
       "      <td>0</td>\n",
       "      <td>4</td>\n",
       "      <td>202.000000</td>\n",
       "      <td>46.0</td>\n",
       "      <td>73.0</td>\n",
       "      <td>1.0</td>\n",
       "      <td>2.0</td>\n",
       "      <td>2.0</td>\n",
       "      <td>3.0</td>\n",
       "      <td>0</td>\n",
       "      <td>...</td>\n",
       "      <td>207</td>\n",
       "      <td>47</td>\n",
       "      <td>74</td>\n",
       "      <td>1</td>\n",
       "      <td>115.112000</td>\n",
       "      <td>141</td>\n",
       "      <td>45</td>\n",
       "      <td>74</td>\n",
       "      <td>3</td>\n",
       "      <td>115.502857</td>\n",
       "    </tr>\n",
       "    <tr>\n",
       "      <th>...</th>\n",
       "      <td>...</td>\n",
       "      <td>...</td>\n",
       "      <td>...</td>\n",
       "      <td>...</td>\n",
       "      <td>...</td>\n",
       "      <td>...</td>\n",
       "      <td>...</td>\n",
       "      <td>...</td>\n",
       "      <td>...</td>\n",
       "      <td>...</td>\n",
       "      <td>...</td>\n",
       "      <td>...</td>\n",
       "      <td>...</td>\n",
       "      <td>...</td>\n",
       "      <td>...</td>\n",
       "      <td>...</td>\n",
       "      <td>...</td>\n",
       "      <td>...</td>\n",
       "      <td>...</td>\n",
       "      <td>...</td>\n",
       "      <td>...</td>\n",
       "    </tr>\n",
       "    <tr>\n",
       "      <th>43341</th>\n",
       "      <td>129</td>\n",
       "      <td>254</td>\n",
       "      <td>177.830039</td>\n",
       "      <td>160.0</td>\n",
       "      <td>133.0</td>\n",
       "      <td>72.0</td>\n",
       "      <td>2.0</td>\n",
       "      <td>2.0</td>\n",
       "      <td>3.0</td>\n",
       "      <td>129</td>\n",
       "      <td>...</td>\n",
       "      <td>180</td>\n",
       "      <td>160</td>\n",
       "      <td>133</td>\n",
       "      <td>71</td>\n",
       "      <td>120.153333</td>\n",
       "      <td>146</td>\n",
       "      <td>161</td>\n",
       "      <td>135</td>\n",
       "      <td>70</td>\n",
       "      <td>118.211429</td>\n",
       "    </tr>\n",
       "    <tr>\n",
       "      <th>43342</th>\n",
       "      <td>129</td>\n",
       "      <td>255</td>\n",
       "      <td>179.000000</td>\n",
       "      <td>201.0</td>\n",
       "      <td>207.0</td>\n",
       "      <td>71.0</td>\n",
       "      <td>2.0</td>\n",
       "      <td>1.0</td>\n",
       "      <td>3.0</td>\n",
       "      <td>129</td>\n",
       "      <td>...</td>\n",
       "      <td>184</td>\n",
       "      <td>202</td>\n",
       "      <td>208</td>\n",
       "      <td>73</td>\n",
       "      <td>115.380952</td>\n",
       "      <td>140</td>\n",
       "      <td>203</td>\n",
       "      <td>207</td>\n",
       "      <td>68</td>\n",
       "      <td>118.647619</td>\n",
       "    </tr>\n",
       "    <tr>\n",
       "      <th>43343</th>\n",
       "      <td>129</td>\n",
       "      <td>256</td>\n",
       "      <td>274.813463</td>\n",
       "      <td>219.0</td>\n",
       "      <td>45.0</td>\n",
       "      <td>71.0</td>\n",
       "      <td>2.0</td>\n",
       "      <td>2.0</td>\n",
       "      <td>2.0</td>\n",
       "      <td>129</td>\n",
       "      <td>...</td>\n",
       "      <td>277</td>\n",
       "      <td>220</td>\n",
       "      <td>46</td>\n",
       "      <td>73</td>\n",
       "      <td>139.080000</td>\n",
       "      <td>181</td>\n",
       "      <td>219</td>\n",
       "      <td>43</td>\n",
       "      <td>73</td>\n",
       "      <td>143.040000</td>\n",
       "    </tr>\n",
       "    <tr>\n",
       "      <th>43344</th>\n",
       "      <td>129</td>\n",
       "      <td>257</td>\n",
       "      <td>175.445348</td>\n",
       "      <td>231.0</td>\n",
       "      <td>219.0</td>\n",
       "      <td>71.0</td>\n",
       "      <td>3.0</td>\n",
       "      <td>2.0</td>\n",
       "      <td>2.0</td>\n",
       "      <td>129</td>\n",
       "      <td>...</td>\n",
       "      <td>180</td>\n",
       "      <td>231</td>\n",
       "      <td>217</td>\n",
       "      <td>69</td>\n",
       "      <td>122.320000</td>\n",
       "      <td>156</td>\n",
       "      <td>228</td>\n",
       "      <td>218</td>\n",
       "      <td>72</td>\n",
       "      <td>126.177143</td>\n",
       "    </tr>\n",
       "    <tr>\n",
       "      <th>43345</th>\n",
       "      <td>129</td>\n",
       "      <td>258</td>\n",
       "      <td>265.000000</td>\n",
       "      <td>263.0</td>\n",
       "      <td>237.0</td>\n",
       "      <td>71.0</td>\n",
       "      <td>1.0</td>\n",
       "      <td>2.0</td>\n",
       "      <td>3.0</td>\n",
       "      <td>129</td>\n",
       "      <td>...</td>\n",
       "      <td>270</td>\n",
       "      <td>264</td>\n",
       "      <td>238</td>\n",
       "      <td>73</td>\n",
       "      <td>142.112500</td>\n",
       "      <td>192</td>\n",
       "      <td>264</td>\n",
       "      <td>237</td>\n",
       "      <td>72</td>\n",
       "      <td>141.442857</td>\n",
       "    </tr>\n",
       "  </tbody>\n",
       "</table>\n",
       "<p>43346 rows × 25 columns</p>\n",
       "</div>"
      ],
      "text/plain": [
       "       frame  index   amplitude   mu_x   mu_y  mu_z  sigma_x  sigma_y  \\\n",
       "0          0      0  206.593249   11.0   12.0   0.0      2.0      2.0   \n",
       "1          0      1  191.000000   36.0   88.0   1.0      2.0      1.0   \n",
       "2          0      2  231.007679   40.0  141.0   1.0      2.0      2.0   \n",
       "3          0      3  185.152538   40.0   58.0   1.0      2.0      1.0   \n",
       "4          0      4  202.000000   46.0   73.0   1.0      2.0      2.0   \n",
       "...      ...    ...         ...    ...    ...   ...      ...      ...   \n",
       "43341    129    254  177.830039  160.0  133.0  72.0      2.0      2.0   \n",
       "43342    129    255  179.000000  201.0  207.0  71.0      2.0      1.0   \n",
       "43343    129    256  274.813463  219.0   45.0  71.0      2.0      2.0   \n",
       "43344    129    257  175.445348  231.0  219.0  71.0      3.0      2.0   \n",
       "43345    129    258  265.000000  263.0  237.0  71.0      1.0      2.0   \n",
       "\n",
       "       sigma_z  frame_y  ...  c3_peak_amp  c3_peak_x  c3_peak_y  c3_peak_z  \\\n",
       "0          4.0        0  ...          207         12         13          0   \n",
       "1          2.0        0  ...          196         36         89          1   \n",
       "2          2.0        0  ...          235         40        141          1   \n",
       "3          3.0        0  ...          189         41         59          1   \n",
       "4          3.0        0  ...          207         47         74          1   \n",
       "...        ...      ...  ...          ...        ...        ...        ...   \n",
       "43341      3.0      129  ...          180        160        133         71   \n",
       "43342      3.0      129  ...          184        202        208         73   \n",
       "43343      2.0      129  ...          277        220         46         73   \n",
       "43344      2.0      129  ...          180        231        217         69   \n",
       "43345      3.0      129  ...          270        264        238         73   \n",
       "\n",
       "           c2_amp  c2_peak  c2_peak_x  c2_peak_y  c2_peak_z  c2_peak_mean  \n",
       "0      122.947826      152          9         14          2    125.500000  \n",
       "1      116.233333      143         34         87          2    114.826667  \n",
       "2      122.330000      142         41        142          0    122.853333  \n",
       "3      117.626667      142         42         59          0    118.016667  \n",
       "4      115.112000      141         45         74          3    115.502857  \n",
       "...           ...      ...        ...        ...        ...           ...  \n",
       "43341  120.153333      146        161        135         70    118.211429  \n",
       "43342  115.380952      140        203        207         68    118.647619  \n",
       "43343  139.080000      181        219         43         73    143.040000  \n",
       "43344  122.320000      156        228        218         72    126.177143  \n",
       "43345  142.112500      192        264        237         72    141.442857  \n",
       "\n",
       "[43346 rows x 25 columns]"
      ]
     },
     "execution_count": 19,
     "metadata": {},
     "output_type": "execute_result"
    }
   ],
   "source": [
    "track_df"
   ]
  },
  {
   "cell_type": "markdown",
   "id": "4724fe3e-043f-413e-8ef3-9f8fbd27fb06",
   "metadata": {},
   "source": [
    "## Finding voxel sum around peak for channel 2 "
   ]
  },
  {
   "cell_type": "code",
   "execution_count": 20,
   "id": "7e0447c3",
   "metadata": {},
   "outputs": [
    {
     "name": "stdout",
     "output_type": "stream",
     "text": [
      "current frame is 0\n",
      "current frame is 1\n",
      "current frame is 2\n",
      "current frame is 3\n",
      "current frame is 4\n",
      "current frame is 5\n",
      "current frame is 6\n",
      "current frame is 7\n",
      "current frame is 8\n",
      "current frame is 9\n",
      "current frame is 10\n",
      "current frame is 11\n",
      "current frame is 12\n",
      "current frame is 13\n",
      "current frame is 14\n",
      "current frame is 15\n",
      "current frame is 16\n",
      "current frame is 17\n",
      "current frame is 18\n",
      "current frame is 19\n",
      "current frame is 20\n",
      "current frame is 21\n",
      "current frame is 22\n",
      "current frame is 23\n",
      "current frame is 24\n",
      "current frame is 25\n",
      "current frame is 26\n",
      "current frame is 27\n",
      "current frame is 28\n",
      "current frame is 29\n",
      "current frame is 30\n",
      "current frame is 31\n",
      "current frame is 32\n",
      "current frame is 33\n",
      "current frame is 34\n",
      "current frame is 35\n",
      "current frame is 36\n",
      "current frame is 37\n",
      "current frame is 38\n",
      "current frame is 39\n",
      "current frame is 40\n",
      "current frame is 41\n",
      "current frame is 42\n",
      "current frame is 43\n",
      "current frame is 44\n",
      "current frame is 45\n",
      "current frame is 46\n",
      "current frame is 47\n",
      "current frame is 48\n",
      "current frame is 49\n",
      "current frame is 50\n",
      "current frame is 51\n",
      "current frame is 52\n",
      "current frame is 53\n",
      "current frame is 54\n",
      "current frame is 55\n",
      "current frame is 56\n",
      "current frame is 57\n",
      "current frame is 58\n",
      "current frame is 59\n",
      "current frame is 60\n",
      "current frame is 61\n",
      "current frame is 62\n",
      "current frame is 63\n",
      "current frame is 64\n",
      "current frame is 65\n",
      "current frame is 66\n",
      "current frame is 67\n",
      "current frame is 68\n",
      "current frame is 69\n",
      "current frame is 70\n",
      "current frame is 71\n",
      "current frame is 72\n",
      "current frame is 73\n",
      "current frame is 74\n",
      "current frame is 75\n",
      "current frame is 76\n",
      "current frame is 77\n",
      "current frame is 78\n",
      "current frame is 79\n",
      "current frame is 80\n",
      "current frame is 81\n",
      "current frame is 82\n",
      "current frame is 83\n",
      "current frame is 84\n",
      "current frame is 85\n",
      "current frame is 86\n",
      "current frame is 87\n",
      "current frame is 88\n",
      "current frame is 89\n",
      "current frame is 90\n",
      "current frame is 91\n",
      "current frame is 92\n",
      "current frame is 93\n",
      "current frame is 94\n",
      "current frame is 95\n",
      "current frame is 96\n",
      "current frame is 97\n",
      "current frame is 98\n",
      "current frame is 99\n",
      "current frame is 100\n",
      "current frame is 101\n",
      "current frame is 102\n",
      "current frame is 103\n",
      "current frame is 104\n",
      "current frame is 105\n",
      "current frame is 106\n",
      "current frame is 107\n",
      "current frame is 108\n",
      "current frame is 109\n",
      "current frame is 110\n",
      "current frame is 111\n",
      "current frame is 112\n",
      "current frame is 113\n",
      "current frame is 114\n",
      "current frame is 115\n",
      "current frame is 116\n",
      "current frame is 117\n",
      "current frame is 118\n",
      "current frame is 119\n",
      "current frame is 120\n",
      "current frame is 121\n",
      "current frame is 122\n",
      "current frame is 123\n",
      "current frame is 124\n",
      "current frame is 125\n",
      "current frame is 126\n",
      "current frame is 127\n",
      "current frame is 128\n",
      "current frame is 129\n",
      "time taken (seconds) 4.129632949829102\n"
     ]
    }
   ],
   "source": [
    "# pass the channel for which voxel sum is needed and the coordinates around which voxel sum is supposed to be calculated\n",
    "# convention for coords [z,y,x] \n",
    "# convention for channel is 1 for channel 1, 2 for channel 2 and so on \n",
    "start_time = time.time()\n",
    "voxel_sum_array_2, _, adj_voxel_sum_array_2 = extractor.voxel_sum_fixed_background(center_col_names = ['c2_peak_z', 'c2_peak_y', 'c2_peak_x'],\n",
    "                                       channel = 2, background_radius = [1,1,1])\n",
    "end_time = time.time()\n",
    "print('time taken (seconds)', end_time - start_time)"
   ]
  },
  {
   "cell_type": "code",
   "execution_count": 21,
   "id": "62a01e8d",
   "metadata": {},
   "outputs": [],
   "source": [
    "#calculated around the peak value coordinates\n",
    "track_df['c2_voxel_sum'] = voxel_sum_array_2\n",
    "track_df['c2_voxel_sum_adjusted'] = adj_voxel_sum_array_2"
   ]
  },
  {
   "cell_type": "code",
   "execution_count": 22,
   "id": "52c81352",
   "metadata": {},
   "outputs": [
    {
     "data": {
      "text/html": [
       "<div>\n",
       "<style scoped>\n",
       "    .dataframe tbody tr th:only-of-type {\n",
       "        vertical-align: middle;\n",
       "    }\n",
       "\n",
       "    .dataframe tbody tr th {\n",
       "        vertical-align: top;\n",
       "    }\n",
       "\n",
       "    .dataframe thead th {\n",
       "        text-align: right;\n",
       "    }\n",
       "</style>\n",
       "<table border=\"1\" class=\"dataframe\">\n",
       "  <thead>\n",
       "    <tr style=\"text-align: right;\">\n",
       "      <th></th>\n",
       "      <th>frame</th>\n",
       "      <th>index</th>\n",
       "      <th>amplitude</th>\n",
       "      <th>mu_x</th>\n",
       "      <th>mu_y</th>\n",
       "      <th>mu_z</th>\n",
       "      <th>sigma_x</th>\n",
       "      <th>sigma_y</th>\n",
       "      <th>sigma_z</th>\n",
       "      <th>frame_y</th>\n",
       "      <th>...</th>\n",
       "      <th>c3_peak_y</th>\n",
       "      <th>c3_peak_z</th>\n",
       "      <th>c2_amp</th>\n",
       "      <th>c2_peak</th>\n",
       "      <th>c2_peak_x</th>\n",
       "      <th>c2_peak_y</th>\n",
       "      <th>c2_peak_z</th>\n",
       "      <th>c2_peak_mean</th>\n",
       "      <th>c2_voxel_sum</th>\n",
       "      <th>c2_voxel_sum_adjusted</th>\n",
       "    </tr>\n",
       "  </thead>\n",
       "  <tbody>\n",
       "    <tr>\n",
       "      <th>0</th>\n",
       "      <td>0</td>\n",
       "      <td>0</td>\n",
       "      <td>206.593249</td>\n",
       "      <td>11.0</td>\n",
       "      <td>12.0</td>\n",
       "      <td>0.0</td>\n",
       "      <td>2.0</td>\n",
       "      <td>2.0</td>\n",
       "      <td>4.0</td>\n",
       "      <td>0</td>\n",
       "      <td>...</td>\n",
       "      <td>13</td>\n",
       "      <td>0</td>\n",
       "      <td>122.947826</td>\n",
       "      <td>152</td>\n",
       "      <td>9</td>\n",
       "      <td>14</td>\n",
       "      <td>2</td>\n",
       "      <td>125.500000</td>\n",
       "      <td>6646</td>\n",
       "      <td>418.235294</td>\n",
       "    </tr>\n",
       "    <tr>\n",
       "      <th>1</th>\n",
       "      <td>0</td>\n",
       "      <td>1</td>\n",
       "      <td>191.000000</td>\n",
       "      <td>36.0</td>\n",
       "      <td>88.0</td>\n",
       "      <td>1.0</td>\n",
       "      <td>2.0</td>\n",
       "      <td>1.0</td>\n",
       "      <td>2.0</td>\n",
       "      <td>0</td>\n",
       "      <td>...</td>\n",
       "      <td>89</td>\n",
       "      <td>1</td>\n",
       "      <td>116.233333</td>\n",
       "      <td>143</td>\n",
       "      <td>34</td>\n",
       "      <td>87</td>\n",
       "      <td>2</td>\n",
       "      <td>114.826667</td>\n",
       "      <td>10934</td>\n",
       "      <td>-79.538462</td>\n",
       "    </tr>\n",
       "    <tr>\n",
       "      <th>2</th>\n",
       "      <td>0</td>\n",
       "      <td>2</td>\n",
       "      <td>231.007679</td>\n",
       "      <td>40.0</td>\n",
       "      <td>141.0</td>\n",
       "      <td>1.0</td>\n",
       "      <td>2.0</td>\n",
       "      <td>2.0</td>\n",
       "      <td>2.0</td>\n",
       "      <td>0</td>\n",
       "      <td>...</td>\n",
       "      <td>141</td>\n",
       "      <td>1</td>\n",
       "      <td>122.330000</td>\n",
       "      <td>142</td>\n",
       "      <td>41</td>\n",
       "      <td>142</td>\n",
       "      <td>0</td>\n",
       "      <td>122.853333</td>\n",
       "      <td>7836</td>\n",
       "      <td>-13.931034</td>\n",
       "    </tr>\n",
       "    <tr>\n",
       "      <th>3</th>\n",
       "      <td>0</td>\n",
       "      <td>3</td>\n",
       "      <td>185.152538</td>\n",
       "      <td>40.0</td>\n",
       "      <td>58.0</td>\n",
       "      <td>1.0</td>\n",
       "      <td>2.0</td>\n",
       "      <td>1.0</td>\n",
       "      <td>3.0</td>\n",
       "      <td>0</td>\n",
       "      <td>...</td>\n",
       "      <td>59</td>\n",
       "      <td>1</td>\n",
       "      <td>117.626667</td>\n",
       "      <td>142</td>\n",
       "      <td>42</td>\n",
       "      <td>59</td>\n",
       "      <td>0</td>\n",
       "      <td>118.016667</td>\n",
       "      <td>7556</td>\n",
       "      <td>194.896552</td>\n",
       "    </tr>\n",
       "    <tr>\n",
       "      <th>4</th>\n",
       "      <td>0</td>\n",
       "      <td>4</td>\n",
       "      <td>202.000000</td>\n",
       "      <td>46.0</td>\n",
       "      <td>73.0</td>\n",
       "      <td>1.0</td>\n",
       "      <td>2.0</td>\n",
       "      <td>2.0</td>\n",
       "      <td>3.0</td>\n",
       "      <td>0</td>\n",
       "      <td>...</td>\n",
       "      <td>74</td>\n",
       "      <td>1</td>\n",
       "      <td>115.112000</td>\n",
       "      <td>141</td>\n",
       "      <td>45</td>\n",
       "      <td>74</td>\n",
       "      <td>3</td>\n",
       "      <td>115.502857</td>\n",
       "      <td>12972</td>\n",
       "      <td>113.636364</td>\n",
       "    </tr>\n",
       "    <tr>\n",
       "      <th>...</th>\n",
       "      <td>...</td>\n",
       "      <td>...</td>\n",
       "      <td>...</td>\n",
       "      <td>...</td>\n",
       "      <td>...</td>\n",
       "      <td>...</td>\n",
       "      <td>...</td>\n",
       "      <td>...</td>\n",
       "      <td>...</td>\n",
       "      <td>...</td>\n",
       "      <td>...</td>\n",
       "      <td>...</td>\n",
       "      <td>...</td>\n",
       "      <td>...</td>\n",
       "      <td>...</td>\n",
       "      <td>...</td>\n",
       "      <td>...</td>\n",
       "      <td>...</td>\n",
       "      <td>...</td>\n",
       "      <td>...</td>\n",
       "      <td>...</td>\n",
       "    </tr>\n",
       "    <tr>\n",
       "      <th>43341</th>\n",
       "      <td>129</td>\n",
       "      <td>254</td>\n",
       "      <td>177.830039</td>\n",
       "      <td>160.0</td>\n",
       "      <td>133.0</td>\n",
       "      <td>72.0</td>\n",
       "      <td>2.0</td>\n",
       "      <td>2.0</td>\n",
       "      <td>3.0</td>\n",
       "      <td>129</td>\n",
       "      <td>...</td>\n",
       "      <td>133</td>\n",
       "      <td>71</td>\n",
       "      <td>120.153333</td>\n",
       "      <td>146</td>\n",
       "      <td>161</td>\n",
       "      <td>135</td>\n",
       "      <td>70</td>\n",
       "      <td>118.211429</td>\n",
       "      <td>15080</td>\n",
       "      <td>195.586207</td>\n",
       "    </tr>\n",
       "    <tr>\n",
       "      <th>43342</th>\n",
       "      <td>129</td>\n",
       "      <td>255</td>\n",
       "      <td>179.000000</td>\n",
       "      <td>201.0</td>\n",
       "      <td>207.0</td>\n",
       "      <td>71.0</td>\n",
       "      <td>2.0</td>\n",
       "      <td>1.0</td>\n",
       "      <td>3.0</td>\n",
       "      <td>129</td>\n",
       "      <td>...</td>\n",
       "      <td>208</td>\n",
       "      <td>73</td>\n",
       "      <td>115.380952</td>\n",
       "      <td>140</td>\n",
       "      <td>203</td>\n",
       "      <td>207</td>\n",
       "      <td>68</td>\n",
       "      <td>118.647619</td>\n",
       "      <td>15224</td>\n",
       "      <td>-210.482759</td>\n",
       "    </tr>\n",
       "    <tr>\n",
       "      <th>43343</th>\n",
       "      <td>129</td>\n",
       "      <td>256</td>\n",
       "      <td>274.813463</td>\n",
       "      <td>219.0</td>\n",
       "      <td>45.0</td>\n",
       "      <td>71.0</td>\n",
       "      <td>2.0</td>\n",
       "      <td>2.0</td>\n",
       "      <td>2.0</td>\n",
       "      <td>129</td>\n",
       "      <td>...</td>\n",
       "      <td>46</td>\n",
       "      <td>73</td>\n",
       "      <td>139.080000</td>\n",
       "      <td>181</td>\n",
       "      <td>219</td>\n",
       "      <td>43</td>\n",
       "      <td>73</td>\n",
       "      <td>143.040000</td>\n",
       "      <td>13586</td>\n",
       "      <td>596.461538</td>\n",
       "    </tr>\n",
       "    <tr>\n",
       "      <th>43344</th>\n",
       "      <td>129</td>\n",
       "      <td>257</td>\n",
       "      <td>175.445348</td>\n",
       "      <td>231.0</td>\n",
       "      <td>219.0</td>\n",
       "      <td>71.0</td>\n",
       "      <td>3.0</td>\n",
       "      <td>2.0</td>\n",
       "      <td>2.0</td>\n",
       "      <td>129</td>\n",
       "      <td>...</td>\n",
       "      <td>217</td>\n",
       "      <td>69</td>\n",
       "      <td>122.320000</td>\n",
       "      <td>156</td>\n",
       "      <td>228</td>\n",
       "      <td>218</td>\n",
       "      <td>72</td>\n",
       "      <td>126.177143</td>\n",
       "      <td>14137</td>\n",
       "      <td>220.363636</td>\n",
       "    </tr>\n",
       "    <tr>\n",
       "      <th>43345</th>\n",
       "      <td>129</td>\n",
       "      <td>258</td>\n",
       "      <td>265.000000</td>\n",
       "      <td>263.0</td>\n",
       "      <td>237.0</td>\n",
       "      <td>71.0</td>\n",
       "      <td>1.0</td>\n",
       "      <td>2.0</td>\n",
       "      <td>3.0</td>\n",
       "      <td>129</td>\n",
       "      <td>...</td>\n",
       "      <td>238</td>\n",
       "      <td>73</td>\n",
       "      <td>142.112500</td>\n",
       "      <td>192</td>\n",
       "      <td>264</td>\n",
       "      <td>237</td>\n",
       "      <td>72</td>\n",
       "      <td>141.442857</td>\n",
       "      <td>11340</td>\n",
       "      <td>446.382979</td>\n",
       "    </tr>\n",
       "  </tbody>\n",
       "</table>\n",
       "<p>43346 rows × 27 columns</p>\n",
       "</div>"
      ],
      "text/plain": [
       "       frame  index   amplitude   mu_x   mu_y  mu_z  sigma_x  sigma_y  \\\n",
       "0          0      0  206.593249   11.0   12.0   0.0      2.0      2.0   \n",
       "1          0      1  191.000000   36.0   88.0   1.0      2.0      1.0   \n",
       "2          0      2  231.007679   40.0  141.0   1.0      2.0      2.0   \n",
       "3          0      3  185.152538   40.0   58.0   1.0      2.0      1.0   \n",
       "4          0      4  202.000000   46.0   73.0   1.0      2.0      2.0   \n",
       "...      ...    ...         ...    ...    ...   ...      ...      ...   \n",
       "43341    129    254  177.830039  160.0  133.0  72.0      2.0      2.0   \n",
       "43342    129    255  179.000000  201.0  207.0  71.0      2.0      1.0   \n",
       "43343    129    256  274.813463  219.0   45.0  71.0      2.0      2.0   \n",
       "43344    129    257  175.445348  231.0  219.0  71.0      3.0      2.0   \n",
       "43345    129    258  265.000000  263.0  237.0  71.0      1.0      2.0   \n",
       "\n",
       "       sigma_z  frame_y  ...  c3_peak_y  c3_peak_z      c2_amp  c2_peak  \\\n",
       "0          4.0        0  ...         13          0  122.947826      152   \n",
       "1          2.0        0  ...         89          1  116.233333      143   \n",
       "2          2.0        0  ...        141          1  122.330000      142   \n",
       "3          3.0        0  ...         59          1  117.626667      142   \n",
       "4          3.0        0  ...         74          1  115.112000      141   \n",
       "...        ...      ...  ...        ...        ...         ...      ...   \n",
       "43341      3.0      129  ...        133         71  120.153333      146   \n",
       "43342      3.0      129  ...        208         73  115.380952      140   \n",
       "43343      2.0      129  ...         46         73  139.080000      181   \n",
       "43344      2.0      129  ...        217         69  122.320000      156   \n",
       "43345      3.0      129  ...        238         73  142.112500      192   \n",
       "\n",
       "       c2_peak_x  c2_peak_y  c2_peak_z  c2_peak_mean  c2_voxel_sum  \\\n",
       "0              9         14          2    125.500000          6646   \n",
       "1             34         87          2    114.826667         10934   \n",
       "2             41        142          0    122.853333          7836   \n",
       "3             42         59          0    118.016667          7556   \n",
       "4             45         74          3    115.502857         12972   \n",
       "...          ...        ...        ...           ...           ...   \n",
       "43341        161        135         70    118.211429         15080   \n",
       "43342        203        207         68    118.647619         15224   \n",
       "43343        219         43         73    143.040000         13586   \n",
       "43344        228        218         72    126.177143         14137   \n",
       "43345        264        237         72    141.442857         11340   \n",
       "\n",
       "       c2_voxel_sum_adjusted  \n",
       "0                 418.235294  \n",
       "1                 -79.538462  \n",
       "2                 -13.931034  \n",
       "3                 194.896552  \n",
       "4                 113.636364  \n",
       "...                      ...  \n",
       "43341             195.586207  \n",
       "43342            -210.482759  \n",
       "43343             596.461538  \n",
       "43344             220.363636  \n",
       "43345             446.382979  \n",
       "\n",
       "[43346 rows x 27 columns]"
      ]
     },
     "execution_count": 22,
     "metadata": {},
     "output_type": "execute_result"
    }
   ],
   "source": [
    "track_df"
   ]
  },
  {
   "cell_type": "markdown",
   "id": "54c22afa-28b1-45ce-8b2b-8b49eb316152",
   "metadata": {},
   "source": [
    "### Gaussian Fitting for Channel 2 around peak values "
   ]
  },
  {
   "cell_type": "code",
   "execution_count": 23,
   "id": "c9957dd5-d495-4041-94fe-ea299147e6b5",
   "metadata": {},
   "outputs": [
    {
     "name": "stderr",
     "output_type": "stream",
     "text": [
      "Processing frames:   0%|          | 0/130 [00:00<?, ?it/s]"
     ]
    },
    {
     "name": "stdout",
     "output_type": "stream",
     "text": [
      "10%(38 of 380)\n",
      "10%(37 of 361)\n",
      "20%(73 of 361)\n",
      "20%(76 of 380)\n",
      "30%(109 of 361)\n",
      "30%(114 of 380)\n",
      "40%(145 of 361)\n",
      "40%(152 of 380)\n",
      "50%(181 of 361)\n",
      "50%(190 of 380)\n",
      "60%(217 of 361)\n",
      "60%(228 of 380)\n",
      "70%(253 of 361)\n",
      "70%(266 of 380)\n",
      "80%(289 of 361)\n",
      "80%(304 of 380)\n",
      "90%(325 of 361)\n",
      "90%(342 of 380)\n"
     ]
    },
    {
     "name": "stderr",
     "output_type": "stream",
     "text": [
      "Processing frames:   1%|          | 1/130 [00:09<19:46,  9.20s/it]"
     ]
    },
    {
     "name": "stdout",
     "output_type": "stream",
     "text": [
      "100%(361 of 361)\n",
      "(361, 7)\n",
      "the number of times the gaussian fitting worked was 361 and the number of times the gaussian did not fit was 0\n"
     ]
    },
    {
     "name": "stderr",
     "output_type": "stream",
     "text": [
      "Processing frames:   2%|▏         | 2/130 [00:09<08:31,  4.00s/it]"
     ]
    },
    {
     "name": "stdout",
     "output_type": "stream",
     "text": [
      "100%(380 of 380)\n",
      "(380, 7)\n",
      "the number of times the gaussian fitting worked was 380 and the number of times the gaussian did not fit was 0\n",
      "10%(40 of 397)\n",
      "10%(37 of 366)\n",
      "20%(80 of 397)\n",
      "20%(74 of 366)\n",
      "30%(120 of 397)\n",
      "30%(110 of 366)\n",
      "40%(159 of 397)\n",
      "40%(147 of 366)\n",
      "50%(183 of 366)\n",
      "50%(199 of 397)\n",
      "60%(220 of 366)\n",
      "60%(239 of 397)\n",
      "70%(257 of 366)\n",
      "70%(278 of 397)\n",
      "80%(293 of 366)\n",
      "80%(318 of 397)\n",
      "90%(330 of 366)\n",
      "90%(358 of 397)\n"
     ]
    },
    {
     "name": "stderr",
     "output_type": "stream",
     "text": [
      "Processing frames:   2%|▏         | 3/130 [00:15<10:33,  4.99s/it]"
     ]
    },
    {
     "name": "stdout",
     "output_type": "stream",
     "text": [
      "100%(366 of 366)\n",
      "(366, 7)\n",
      "the number of times the gaussian fitting worked was 366 and the number of times the gaussian did not fit was 0\n"
     ]
    },
    {
     "name": "stderr",
     "output_type": "stream",
     "text": [
      "Processing frames:   3%|▎         | 4/130 [00:16<06:36,  3.14s/it]"
     ]
    },
    {
     "name": "stdout",
     "output_type": "stream",
     "text": [
      "100%(397 of 397)\n",
      "(397, 7)\n",
      "the number of times the gaussian fitting worked was 397 and the number of times the gaussian did not fit was 0\n",
      "10%(39 of 386)\n",
      "10%(40 of 391)\n",
      "20%(78 of 386)\n",
      "20%(79 of 391)\n",
      "30%(116 of 386)\n",
      "30%(118 of 391)\n",
      "40%(155 of 386)\n",
      "40%(157 of 391)\n",
      "50%(193 of 386)\n",
      "50%(196 of 391)\n",
      "60%(232 of 386)\n",
      "60%(235 of 391)\n",
      "70%(271 of 386)\n",
      "70%(274 of 391)\n",
      "80%(309 of 386)\n",
      "80%(313 of 391)\n",
      "90%(348 of 386)\n",
      "90%(352 of 391)\n"
     ]
    },
    {
     "name": "stderr",
     "output_type": "stream",
     "text": [
      "Processing frames:   4%|▍         | 5/130 [00:22<08:57,  4.30s/it]"
     ]
    },
    {
     "name": "stdout",
     "output_type": "stream",
     "text": [
      "100%(386 of 386)\n",
      "(386, 7)\n",
      "the number of times the gaussian fitting worked was 386 and the number of times the gaussian did not fit was 0\n"
     ]
    },
    {
     "name": "stderr",
     "output_type": "stream",
     "text": [
      "Processing frames:   5%|▍         | 6/130 [00:23<06:18,  3.05s/it]"
     ]
    },
    {
     "name": "stdout",
     "output_type": "stream",
     "text": [
      "100%(391 of 391)\n",
      "(391, 7)\n",
      "the number of times the gaussian fitting worked was 391 and the number of times the gaussian did not fit was 0\n",
      "10%(39 of 381)\n",
      "10%(39 of 381)\n",
      "20%(77 of 381)\n",
      "20%(77 of 381)\n",
      "30%(115 of 381)\n",
      "30%(115 of 381)\n",
      "40%(153 of 381)\n",
      "40%(153 of 381)\n",
      "50%(191 of 381)\n",
      "50%(191 of 381)\n",
      "60%(229 of 381)\n",
      "60%(229 of 381)\n",
      "70%(267 of 381)\n",
      "70%(267 of 381)\n",
      "80%(305 of 381)\n",
      "80%(305 of 381)\n",
      "90%(343 of 381)\n",
      "90%(343 of 381)\n"
     ]
    },
    {
     "name": "stderr",
     "output_type": "stream",
     "text": [
      "Processing frames:   5%|▌         | 7/130 [00:28<07:56,  3.87s/it]"
     ]
    },
    {
     "name": "stdout",
     "output_type": "stream",
     "text": [
      "100%(381 of 381)\n",
      "(381, 7)\n",
      "the number of times the gaussian fitting worked was 381 and the number of times the gaussian did not fit was 0\n",
      "100%(381 of 381)\n",
      "(381, 7)\n",
      "the number of times the gaussian fitting worked was 381 and the number of times the gaussian did not fit was 0\n"
     ]
    },
    {
     "name": "stderr",
     "output_type": "stream",
     "text": [
      "Processing frames:   6%|▌         | 8/130 [00:28<05:29,  2.70s/it]"
     ]
    },
    {
     "name": "stdout",
     "output_type": "stream",
     "text": [
      "10%(38 of 380)\n",
      "10%(39 of 387)\n",
      "20%(76 of 380)\n",
      "20%(78 of 387)\n",
      "30%(114 of 380)\n",
      "30%(117 of 387)\n",
      "40%(152 of 380)\n",
      "40%(155 of 387)\n",
      "50%(190 of 380)\n",
      "50%(194 of 387)\n",
      "60%(228 of 380)\n",
      "60%(233 of 387)\n",
      "70%(266 of 380)\n",
      "70%(271 of 387)\n",
      "80%(304 of 380)\n",
      "80%(310 of 387)\n",
      "90%(342 of 380)\n",
      "90%(349 of 387)\n"
     ]
    },
    {
     "name": "stderr",
     "output_type": "stream",
     "text": [
      "Processing frames:   7%|▋         | 9/130 [00:35<07:55,  3.93s/it]"
     ]
    },
    {
     "name": "stdout",
     "output_type": "stream",
     "text": [
      "100%(380 of 380)\n",
      "(380, 7)\n",
      "the number of times the gaussian fitting worked was 380 and the number of times the gaussian did not fit was 0\n"
     ]
    },
    {
     "name": "stderr",
     "output_type": "stream",
     "text": [
      "Processing frames:   8%|▊         | 10/130 [00:35<05:41,  2.84s/it]"
     ]
    },
    {
     "name": "stdout",
     "output_type": "stream",
     "text": [
      "100%(387 of 387)\n",
      "(387, 7)\n",
      "the number of times the gaussian fitting worked was 387 and the number of times the gaussian did not fit was 0\n",
      "10%(39 of 383)\n",
      "10%(39 of 387)\n",
      "20%(77 of 383)\n",
      "20%(78 of 387)\n",
      "30%(115 of 383)\n",
      "30%(117 of 387)\n",
      "40%(154 of 383)\n",
      "40%(155 of 387)\n",
      "50%(192 of 383)\n",
      "50%(194 of 387)\n",
      "60%(230 of 383)\n",
      "60%(233 of 387)\n",
      "70%(269 of 383)\n",
      "70%(271 of 387)\n",
      "80%(307 of 383)\n",
      "80%(310 of 387)\n",
      "90%(345 of 383)\n",
      "90%(349 of 387)\n"
     ]
    },
    {
     "name": "stderr",
     "output_type": "stream",
     "text": [
      "Processing frames:   8%|▊         | 11/130 [00:42<08:13,  4.15s/it]"
     ]
    },
    {
     "name": "stdout",
     "output_type": "stream",
     "text": [
      "100%(383 of 383)\n",
      "(383, 7)\n",
      "the number of times the gaussian fitting worked was 383 and the number of times the gaussian did not fit was 0\n"
     ]
    },
    {
     "name": "stderr",
     "output_type": "stream",
     "text": [
      "Processing frames:   9%|▉         | 12/130 [00:43<05:56,  3.02s/it]"
     ]
    },
    {
     "name": "stdout",
     "output_type": "stream",
     "text": [
      "100%(387 of 387)\n",
      "(387, 7)\n",
      "the number of times the gaussian fitting worked was 387 and the number of times the gaussian did not fit was 0\n",
      "10%(39 of 388)\n",
      "10%(40 of 394)\n",
      "20%(78 of 388)\n",
      "20%(79 of 394)\n",
      "30%(117 of 388)\n",
      "30%(119 of 394)\n",
      "40%(156 of 388)\n",
      "40%(158 of 394)\n",
      "50%(194 of 388)\n",
      "50%(197 of 394)\n",
      "60%(233 of 388)\n",
      "60%(237 of 394)\n",
      "70%(272 of 388)\n",
      "70%(276 of 394)\n",
      "80%(311 of 388)\n",
      "80%(316 of 394)\n",
      "90%(350 of 388)\n",
      "90%(355 of 394)\n",
      "100%(388 of 388)\n",
      "(388, 7)\n",
      "the number of times the gaussian fitting worked was 388 and the number of times the gaussian did not fit was 0\n"
     ]
    },
    {
     "name": "stderr",
     "output_type": "stream",
     "text": [
      "Processing frames:  11%|█         | 14/130 [00:51<06:05,  3.15s/it]"
     ]
    },
    {
     "name": "stdout",
     "output_type": "stream",
     "text": [
      "100%(394 of 394)\n",
      "(394, 7)\n",
      "the number of times the gaussian fitting worked was 394 and the number of times the gaussian did not fit was 0\n",
      "10%(39 of 385)\n",
      "10%(37 of 370)\n",
      "20%(77 of 385)\n",
      "20%(74 of 370)\n",
      "30%(116 of 385)\n",
      "30%(111 of 370)\n",
      "40%(154 of 385)\n",
      "40%(148 of 370)\n",
      "50%(193 of 385)\n",
      "50%(185 of 370)\n",
      "60%(231 of 385)\n",
      "60%(222 of 370)\n",
      "70%(270 of 385)\n",
      "70%(259 of 370)\n",
      "80%(308 of 385)\n",
      "80%(296 of 370)\n",
      "90%(347 of 385)\n",
      "90%(333 of 370)\n"
     ]
    },
    {
     "name": "stderr",
     "output_type": "stream",
     "text": [
      "Processing frames:  12%|█▏        | 15/130 [00:58<08:37,  4.50s/it]"
     ]
    },
    {
     "name": "stdout",
     "output_type": "stream",
     "text": [
      "100%(385 of 385)\n",
      "(385, 7)\n",
      "the number of times the gaussian fitting worked was 385 and the number of times the gaussian did not fit was 0\n"
     ]
    },
    {
     "name": "stderr",
     "output_type": "stream",
     "text": [
      "Processing frames:  12%|█▏        | 16/130 [00:58<06:06,  3.21s/it]"
     ]
    },
    {
     "name": "stdout",
     "output_type": "stream",
     "text": [
      "100%(370 of 370)\n",
      "(370, 7)\n",
      "the number of times the gaussian fitting worked was 370 and the number of times the gaussian did not fit was 0\n",
      "10%(38 of 373)\n",
      "10%(38 of 378)\n",
      "20%(75 of 373)\n",
      "20%(76 of 378)\n",
      "30%(112 of 373)\n",
      "30%(114 of 378)\n",
      "40%(150 of 373)\n",
      "40%(152 of 378)\n",
      "50%(187 of 373)\n",
      "50%(189 of 378)\n",
      "60%(224 of 373)\n",
      "60%(227 of 378)\n",
      "70%(262 of 373)\n",
      "70%(265 of 378)\n",
      "80%(299 of 373)\n",
      "80%(303 of 378)\n",
      "90%(336 of 373)\n",
      "90%(341 of 378)\n"
     ]
    },
    {
     "name": "stderr",
     "output_type": "stream",
     "text": [
      "Processing frames:  13%|█▎        | 17/130 [01:06<08:33,  4.54s/it]"
     ]
    },
    {
     "name": "stdout",
     "output_type": "stream",
     "text": [
      "100%(373 of 373)\n",
      "(373, 7)\n",
      "the number of times the gaussian fitting worked was 373 and the number of times the gaussian did not fit was 0\n"
     ]
    },
    {
     "name": "stderr",
     "output_type": "stream",
     "text": [
      "Processing frames:  14%|█▍        | 18/130 [01:06<06:03,  3.24s/it]"
     ]
    },
    {
     "name": "stdout",
     "output_type": "stream",
     "text": [
      "100%(378 of 378)\n",
      "(378, 7)\n",
      "the number of times the gaussian fitting worked was 378 and the number of times the gaussian did not fit was 0\n",
      "10%(38 of 373)\n",
      "10%(40 of 399)\n",
      "20%(75 of 373)\n",
      "20%(80 of 399)\n",
      "30%(112 of 373)\n",
      "30%(120 of 399)\n",
      "40%(150 of 373)\n",
      "40%(160 of 399)\n",
      "50%(187 of 373)\n",
      "60%(224 of 373)\n",
      "50%(200 of 399)\n",
      "70%(262 of 373)\n",
      "60%(240 of 399)\n",
      "80%(299 of 373)\n",
      "70%(280 of 399)\n",
      "90%(336 of 373)\n",
      "80%(320 of 399)\n"
     ]
    },
    {
     "name": "stderr",
     "output_type": "stream",
     "text": [
      "Processing frames:  15%|█▍        | 19/130 [01:13<07:55,  4.28s/it]"
     ]
    },
    {
     "name": "stdout",
     "output_type": "stream",
     "text": [
      "100%(373 of 373)\n",
      "(373, 7)\n",
      "the number of times the gaussian fitting worked was 373 and the number of times the gaussian did not fit was 0\n",
      "90%(360 of 399)\n",
      "10%(38 of 374)\n"
     ]
    },
    {
     "name": "stderr",
     "output_type": "stream",
     "text": [
      "Processing frames:  15%|█▌        | 20/130 [01:14<05:59,  3.27s/it]"
     ]
    },
    {
     "name": "stdout",
     "output_type": "stream",
     "text": [
      "100%(399 of 399)\n",
      "(399, 7)\n",
      "the number of times the gaussian fitting worked was 399 and the number of times the gaussian did not fit was 0\n",
      "20%(75 of 374)\n",
      "10%(38 of 372)\n",
      "30%(113 of 374)\n",
      "20%(75 of 372)\n",
      "40%(150 of 374)\n",
      "30%(112 of 372)\n",
      "50%(187 of 374)\n",
      "40%(149 of 372)\n",
      "60%(225 of 374)\n",
      "50%(186 of 372)\n",
      "70%(262 of 374)\n",
      "60%(224 of 372)\n",
      "80%(300 of 374)\n",
      "70%(261 of 372)\n",
      "90%(337 of 374)\n",
      "80%(298 of 372)\n"
     ]
    },
    {
     "name": "stderr",
     "output_type": "stream",
     "text": [
      "Processing frames:  16%|█▌        | 21/130 [01:21<07:49,  4.31s/it]"
     ]
    },
    {
     "name": "stdout",
     "output_type": "stream",
     "text": [
      "100%(374 of 374)\n",
      "(374, 7)\n",
      "the number of times the gaussian fitting worked was 374 and the number of times the gaussian did not fit was 0\n",
      "90%(335 of 372)\n"
     ]
    },
    {
     "name": "stderr",
     "output_type": "stream",
     "text": [
      "Processing frames:  17%|█▋        | 22/130 [01:22<05:57,  3.31s/it]"
     ]
    },
    {
     "name": "stdout",
     "output_type": "stream",
     "text": [
      "10%(41 of 407)\n",
      "100%(372 of 372)\n",
      "(372, 7)\n",
      "the number of times the gaussian fitting worked was 372 and the number of times the gaussian did not fit was 0\n",
      "20%(82 of 407)\n",
      "10%(37 of 368)\n",
      "30%(123 of 407)\n",
      "20%(74 of 368)\n",
      "40%(163 of 407)\n",
      "30%(111 of 368)\n",
      "40%(148 of 368)\n",
      "50%(204 of 407)\n",
      "50%(184 of 368)\n",
      "60%(245 of 407)\n",
      "60%(221 of 368)\n",
      "70%(285 of 407)\n",
      "70%(258 of 368)\n",
      "80%(326 of 407)\n",
      "80%(295 of 368)\n",
      "90%(367 of 407)\n",
      "90%(332 of 368)\n"
     ]
    },
    {
     "name": "stderr",
     "output_type": "stream",
     "text": [
      "Processing frames:  18%|█▊        | 23/130 [01:30<08:26,  4.73s/it]"
     ]
    },
    {
     "name": "stdout",
     "output_type": "stream",
     "text": [
      "100%(407 of 407)\n",
      "(407, 7)\n",
      "the number of times the gaussian fitting worked was 407 and the number of times the gaussian did not fit was 0\n"
     ]
    },
    {
     "name": "stderr",
     "output_type": "stream",
     "text": [
      "Processing frames:  18%|█▊        | 24/130 [01:31<06:28,  3.66s/it]"
     ]
    },
    {
     "name": "stdout",
     "output_type": "stream",
     "text": [
      "100%(368 of 368)\n",
      "(368, 7)\n",
      "the number of times the gaussian fitting worked was 368 and the number of times the gaussian did not fit was 0\n",
      "10%(39 of 384)\n",
      "10%(39 of 388)\n",
      "20%(77 of 384)\n",
      "20%(78 of 388)\n",
      "30%(116 of 384)\n",
      "30%(117 of 388)\n",
      "40%(154 of 384)\n",
      "40%(156 of 388)\n",
      "50%(192 of 384)\n",
      "50%(194 of 388)\n",
      "60%(231 of 384)\n",
      "60%(233 of 388)\n",
      "70%(269 of 384)\n",
      "70%(272 of 388)\n",
      "80%(308 of 384)\n",
      "80%(311 of 388)\n",
      "90%(346 of 384)\n",
      "90%(350 of 388)\n"
     ]
    },
    {
     "name": "stderr",
     "output_type": "stream",
     "text": [
      "Processing frames:  19%|█▉        | 25/130 [01:38<08:18,  4.74s/it]"
     ]
    },
    {
     "name": "stdout",
     "output_type": "stream",
     "text": [
      "100%(384 of 384)\n",
      "(384, 7)\n",
      "the number of times the gaussian fitting worked was 384 and the number of times the gaussian did not fit was 0\n"
     ]
    },
    {
     "name": "stderr",
     "output_type": "stream",
     "text": [
      "Processing frames:  20%|██        | 26/130 [01:38<05:53,  3.40s/it]"
     ]
    },
    {
     "name": "stdout",
     "output_type": "stream",
     "text": [
      "100%(388 of 388)\n",
      "(388, 7)\n",
      "the number of times the gaussian fitting worked was 388 and the number of times the gaussian did not fit was 0\n",
      "10%(37 of 367)\n",
      "10%(36 of 358)\n",
      "20%(74 of 367)\n",
      "20%(72 of 358)\n",
      "30%(111 of 367)\n",
      "30%(108 of 358)\n",
      "40%(147 of 367)\n",
      "40%(144 of 358)\n",
      "50%(184 of 367)\n",
      "50%(179 of 358)\n",
      "60%(221 of 367)\n",
      "60%(215 of 358)\n",
      "70%(257 of 367)\n",
      "70%(251 of 358)\n",
      "80%(294 of 367)\n",
      "80%(287 of 358)\n",
      "90%(331 of 367)\n",
      "90%(323 of 358)\n"
     ]
    },
    {
     "name": "stderr",
     "output_type": "stream",
     "text": [
      "Processing frames:  21%|██        | 27/130 [01:45<07:17,  4.25s/it]"
     ]
    },
    {
     "name": "stdout",
     "output_type": "stream",
     "text": [
      "100%(367 of 367)\n",
      "(367, 7)\n",
      "the number of times the gaussian fitting worked was 367 and the number of times the gaussian did not fit was 0\n"
     ]
    },
    {
     "name": "stderr",
     "output_type": "stream",
     "text": [
      "Processing frames:  22%|██▏       | 28/130 [01:45<05:19,  3.13s/it]"
     ]
    },
    {
     "name": "stdout",
     "output_type": "stream",
     "text": [
      "100%(358 of 358)\n",
      "(358, 7)\n",
      "the number of times the gaussian fitting worked was 358 and the number of times the gaussian did not fit was 0\n",
      "10%(38 of 374)\n",
      "10%(38 of 376)\n",
      "20%(75 of 374)\n",
      "20%(76 of 376)\n",
      "30%(113 of 374)\n",
      "30%(113 of 376)\n",
      "40%(150 of 374)\n",
      "40%(151 of 376)\n",
      "50%(187 of 374)\n",
      "50%(188 of 376)\n",
      "60%(225 of 374)\n",
      "60%(226 of 376)\n",
      "70%(262 of 374)\n",
      "70%(264 of 376)\n",
      "80%(300 of 374)\n",
      "80%(301 of 376)\n",
      "90%(337 of 374)\n",
      "90%(339 of 376)\n"
     ]
    },
    {
     "name": "stderr",
     "output_type": "stream",
     "text": [
      "Processing frames:  22%|██▏       | 29/130 [01:52<07:17,  4.33s/it]"
     ]
    },
    {
     "name": "stdout",
     "output_type": "stream",
     "text": [
      "100%(374 of 374)\n",
      "(374, 7)\n",
      "the number of times the gaussian fitting worked was 374 and the number of times the gaussian did not fit was 0\n"
     ]
    },
    {
     "name": "stderr",
     "output_type": "stream",
     "text": [
      "Processing frames:  23%|██▎       | 30/130 [01:53<05:15,  3.15s/it]"
     ]
    },
    {
     "name": "stdout",
     "output_type": "stream",
     "text": [
      "100%(376 of 376)\n",
      "(376, 7)\n",
      "the number of times the gaussian fitting worked was 376 and the number of times the gaussian did not fit was 0\n",
      "10%(37 of 366)\n",
      "10%(37 of 369)\n",
      "20%(74 of 366)\n",
      "20%(74 of 369)\n",
      "30%(110 of 366)\n",
      "30%(111 of 369)\n",
      "40%(147 of 366)\n",
      "40%(148 of 369)\n",
      "50%(183 of 366)\n",
      "50%(185 of 369)\n",
      "60%(220 of 366)\n",
      "60%(222 of 369)\n",
      "70%(257 of 366)\n",
      "70%(259 of 369)\n",
      "80%(293 of 366)\n",
      "80%(296 of 369)\n",
      "90%(330 of 366)\n",
      "90%(333 of 369)\n"
     ]
    },
    {
     "name": "stderr",
     "output_type": "stream",
     "text": [
      "Processing frames:  24%|██▍       | 31/130 [01:59<06:34,  3.99s/it]"
     ]
    },
    {
     "name": "stdout",
     "output_type": "stream",
     "text": [
      "100%(366 of 366)\n",
      "(366, 7)\n",
      "the number of times the gaussian fitting worked was 366 and the number of times the gaussian did not fit was 0\n"
     ]
    },
    {
     "name": "stderr",
     "output_type": "stream",
     "text": [
      "Processing frames:  25%|██▍       | 32/130 [01:59<04:42,  2.88s/it]"
     ]
    },
    {
     "name": "stdout",
     "output_type": "stream",
     "text": [
      "100%(369 of 369)\n",
      "(369, 7)\n",
      "the number of times the gaussian fitting worked was 369 and the number of times the gaussian did not fit was 0\n",
      "10%(35 of 348)\n",
      "10%(37 of 365)\n",
      "20%(70 of 348)\n",
      "20%(73 of 365)\n",
      "30%(105 of 348)\n",
      "30%(110 of 365)\n",
      "40%(140 of 348)\n",
      "40%(146 of 365)\n",
      "50%(174 of 348)\n",
      "50%(183 of 365)\n",
      "60%(209 of 348)\n",
      "60%(219 of 365)\n",
      "70%(244 of 348)\n",
      "70%(256 of 365)\n",
      "80%(279 of 348)\n",
      "80%(292 of 365)\n",
      "90%(314 of 348)\n"
     ]
    },
    {
     "name": "stderr",
     "output_type": "stream",
     "text": [
      "Processing frames:  25%|██▌       | 33/130 [02:05<06:05,  3.77s/it]"
     ]
    },
    {
     "name": "stdout",
     "output_type": "stream",
     "text": [
      "100%(348 of 348)\n",
      "(348, 7)\n",
      "the number of times the gaussian fitting worked was 348 and the number of times the gaussian did not fit was 0\n",
      "90%(329 of 365)\n"
     ]
    },
    {
     "name": "stderr",
     "output_type": "stream",
     "text": [
      "Processing frames:  26%|██▌       | 34/130 [02:05<04:32,  2.84s/it]"
     ]
    },
    {
     "name": "stdout",
     "output_type": "stream",
     "text": [
      "10%(37 of 370)\n",
      "100%(365 of 365)\n",
      "(365, 7)\n",
      "the number of times the gaussian fitting worked was 365 and the number of times the gaussian did not fit was 0\n",
      "20%(74 of 370)\n",
      "10%(39 of 385)\n",
      "30%(111 of 370)\n",
      "20%(77 of 385)\n",
      "40%(148 of 370)\n",
      "30%(116 of 385)\n",
      "50%(185 of 370)\n",
      "40%(154 of 385)\n",
      "60%(222 of 370)\n",
      "50%(193 of 385)\n",
      "70%(259 of 370)\n",
      "60%(231 of 385)\n",
      "80%(296 of 370)\n",
      "70%(270 of 385)\n",
      "90%(333 of 370)\n",
      "80%(308 of 385)\n"
     ]
    },
    {
     "name": "stderr",
     "output_type": "stream",
     "text": [
      "Processing frames:  27%|██▋       | 35/130 [02:11<05:55,  3.74s/it]"
     ]
    },
    {
     "name": "stdout",
     "output_type": "stream",
     "text": [
      "100%(370 of 370)\n",
      "(370, 7)\n",
      "the number of times the gaussian fitting worked was 370 and the number of times the gaussian did not fit was 0\n",
      "90%(347 of 385)\n"
     ]
    },
    {
     "name": "stderr",
     "output_type": "stream",
     "text": [
      "Processing frames:  28%|██▊       | 36/130 [02:12<04:34,  2.92s/it]"
     ]
    },
    {
     "name": "stdout",
     "output_type": "stream",
     "text": [
      "10%(37 of 368)\n",
      "100%(385 of 385)\n",
      "(385, 7)\n",
      "the number of times the gaussian fitting worked was 385 and the number of times the gaussian did not fit was 0\n",
      "20%(74 of 368)\n",
      "10%(36 of 359)\n",
      "30%(111 of 368)\n",
      "20%(72 of 359)\n",
      "40%(148 of 368)\n",
      "30%(108 of 359)\n",
      "50%(184 of 368)\n",
      "40%(144 of 359)\n",
      "60%(221 of 368)\n",
      "50%(180 of 359)\n",
      "70%(258 of 368)\n",
      "60%(216 of 359)\n",
      "80%(295 of 368)\n",
      "70%(252 of 359)\n",
      "80%(288 of 359)\n",
      "90%(332 of 368)\n"
     ]
    },
    {
     "name": "stderr",
     "output_type": "stream",
     "text": [
      "Processing frames:  28%|██▊       | 37/130 [02:18<05:38,  3.64s/it]"
     ]
    },
    {
     "name": "stdout",
     "output_type": "stream",
     "text": [
      "100%(368 of 368)\n",
      "(368, 7)\n",
      "the number of times the gaussian fitting worked was 368 and the number of times the gaussian did not fit was 0\n",
      "90%(324 of 359)\n"
     ]
    },
    {
     "name": "stderr",
     "output_type": "stream",
     "text": [
      "Processing frames:  29%|██▉       | 38/130 [02:18<04:15,  2.78s/it]"
     ]
    },
    {
     "name": "stdout",
     "output_type": "stream",
     "text": [
      "10%(36 of 355)\n",
      "100%(359 of 359)\n",
      "(359, 7)\n",
      "the number of times the gaussian fitting worked was 359 and the number of times the gaussian did not fit was 0\n",
      "20%(71 of 355)\n",
      "10%(35 of 348)\n",
      "30%(107 of 355)\n",
      "20%(70 of 348)\n",
      "40%(142 of 355)\n",
      "30%(105 of 348)\n",
      "50%(178 of 355)\n",
      "40%(140 of 348)\n",
      "60%(213 of 355)\n",
      "50%(174 of 348)\n",
      "70%(249 of 355)\n",
      "60%(209 of 348)\n",
      "80%(284 of 355)\n",
      "70%(244 of 348)\n",
      "90%(320 of 355)\n",
      "80%(279 of 348)\n"
     ]
    },
    {
     "name": "stderr",
     "output_type": "stream",
     "text": [
      "Processing frames:  30%|███       | 39/130 [02:25<05:47,  3.82s/it]"
     ]
    },
    {
     "name": "stdout",
     "output_type": "stream",
     "text": [
      "100%(355 of 355)\n",
      "(355, 7)\n",
      "the number of times the gaussian fitting worked was 355 and the number of times the gaussian did not fit was 0\n",
      "90%(314 of 348)\n"
     ]
    },
    {
     "name": "stderr",
     "output_type": "stream",
     "text": [
      "Processing frames:  31%|███       | 40/130 [02:25<04:25,  2.95s/it]"
     ]
    },
    {
     "name": "stdout",
     "output_type": "stream",
     "text": [
      "10%(37 of 361)\n",
      "100%(348 of 348)\n",
      "(348, 7)\n",
      "the number of times the gaussian fitting worked was 348 and the number of times the gaussian did not fit was 0\n",
      "20%(73 of 361)\n",
      "10%(36 of 352)\n",
      "30%(109 of 361)\n",
      "20%(71 of 352)\n",
      "40%(145 of 361)\n",
      "30%(106 of 352)\n",
      "50%(181 of 361)\n",
      "40%(141 of 352)\n",
      "60%(217 of 361)\n",
      "50%(176 of 352)\n",
      "70%(253 of 361)\n",
      "60%(212 of 352)\n",
      "80%(289 of 361)\n",
      "70%(247 of 352)\n",
      "90%(325 of 361)\n",
      "80%(282 of 352)\n"
     ]
    },
    {
     "name": "stderr",
     "output_type": "stream",
     "text": [
      "Processing frames:  32%|███▏      | 41/130 [02:32<05:55,  3.99s/it]"
     ]
    },
    {
     "name": "stdout",
     "output_type": "stream",
     "text": [
      "100%(361 of 361)\n",
      "(361, 7)\n",
      "the number of times the gaussian fitting worked was 361 and the number of times the gaussian did not fit was 0\n",
      "90%(317 of 352)\n"
     ]
    },
    {
     "name": "stderr",
     "output_type": "stream",
     "text": [
      "Processing frames:  32%|███▏      | 42/130 [02:32<04:21,  2.97s/it]"
     ]
    },
    {
     "name": "stdout",
     "output_type": "stream",
     "text": [
      "100%(352 of 352)\n",
      "(352, 7)\n",
      "the number of times the gaussian fitting worked was 352 and the number of times the gaussian did not fit was 0\n",
      "10%(36 of 356)\n",
      "10%(35 of 343)\n",
      "20%(72 of 356)\n",
      "20%(69 of 343)\n",
      "30%(107 of 356)\n",
      "30%(103 of 343)\n",
      "40%(143 of 356)\n",
      "40%(138 of 343)\n",
      "50%(178 of 356)\n",
      "50%(172 of 343)\n",
      "60%(214 of 356)\n",
      "60%(206 of 343)\n",
      "70%(250 of 356)\n",
      "70%(241 of 343)\n",
      "80%(285 of 356)\n",
      "80%(275 of 343)\n",
      "90%(321 of 356)\n",
      "90%(309 of 343)\n"
     ]
    },
    {
     "name": "stderr",
     "output_type": "stream",
     "text": [
      "Processing frames:  33%|███▎      | 43/130 [02:38<05:22,  3.71s/it]"
     ]
    },
    {
     "name": "stdout",
     "output_type": "stream",
     "text": [
      "100%(356 of 356)\n",
      "(356, 7)\n",
      "the number of times the gaussian fitting worked was 356 and the number of times the gaussian did not fit was 0\n"
     ]
    },
    {
     "name": "stderr",
     "output_type": "stream",
     "text": [
      "Processing frames:  34%|███▍      | 44/130 [02:38<03:51,  2.69s/it]"
     ]
    },
    {
     "name": "stdout",
     "output_type": "stream",
     "text": [
      "100%(343 of 343)\n",
      "(343, 7)\n",
      "the number of times the gaussian fitting worked was 343 and the number of times the gaussian did not fit was 0\n",
      "10%(34 of 338)\n",
      "10%(34 of 337)\n",
      "20%(68 of 338)\n",
      "20%(68 of 337)\n",
      "30%(102 of 338)\n",
      "30%(102 of 337)\n",
      "40%(136 of 338)\n",
      "40%(135 of 337)\n",
      "50%(169 of 338)\n",
      "50%(169 of 337)\n",
      "60%(203 of 338)\n",
      "60%(203 of 337)\n",
      "70%(237 of 338)\n",
      "70%(236 of 337)\n",
      "80%(271 of 338)\n",
      "80%(270 of 337)\n",
      "90%(305 of 338)\n",
      "90%(304 of 337)\n"
     ]
    },
    {
     "name": "stderr",
     "output_type": "stream",
     "text": [
      "Processing frames:  35%|███▍      | 45/130 [02:44<05:03,  3.57s/it]"
     ]
    },
    {
     "name": "stdout",
     "output_type": "stream",
     "text": [
      "100%(338 of 338)\n",
      "(338, 7)\n",
      "the number of times the gaussian fitting worked was 338 and the number of times the gaussian did not fit was 0\n"
     ]
    },
    {
     "name": "stderr",
     "output_type": "stream",
     "text": [
      "Processing frames:  35%|███▌      | 46/130 [02:44<03:43,  2.66s/it]"
     ]
    },
    {
     "name": "stdout",
     "output_type": "stream",
     "text": [
      "100%(337 of 337)\n",
      "(337, 7)\n",
      "the number of times the gaussian fitting worked was 337 and the number of times the gaussian did not fit was 0\n",
      "10%(38 of 371)\n",
      "10%(34 of 332)\n",
      "20%(75 of 371)\n",
      "20%(67 of 332)\n",
      "30%(112 of 371)\n",
      "30%(100 of 332)\n",
      "40%(149 of 371)\n",
      "40%(133 of 332)\n",
      "50%(186 of 371)\n",
      "50%(166 of 332)\n",
      "60%(200 of 332)\n",
      "60%(223 of 371)\n",
      "70%(233 of 332)\n",
      "70%(260 of 371)\n",
      "80%(266 of 332)\n",
      "80%(297 of 371)\n",
      "90%(299 of 332)\n",
      "90%(334 of 371)\n"
     ]
    },
    {
     "name": "stderr",
     "output_type": "stream",
     "text": [
      "Processing frames:  36%|███▌      | 47/130 [02:50<05:00,  3.62s/it]"
     ]
    },
    {
     "name": "stdout",
     "output_type": "stream",
     "text": [
      "100%(332 of 332)\n",
      "(332, 7)\n",
      "the number of times the gaussian fitting worked was 332 and the number of times the gaussian did not fit was 0\n"
     ]
    },
    {
     "name": "stderr",
     "output_type": "stream",
     "text": [
      "Processing frames:  37%|███▋      | 48/130 [02:51<03:34,  2.62s/it]"
     ]
    },
    {
     "name": "stdout",
     "output_type": "stream",
     "text": [
      "100%(371 of 371)\n",
      "(371, 7)\n",
      "the number of times the gaussian fitting worked was 371 and the number of times the gaussian did not fit was 0\n",
      "10%(35 of 350)\n",
      "10%(36 of 358)\n",
      "20%(70 of 350)\n",
      "20%(72 of 358)\n",
      "30%(105 of 350)\n",
      "30%(108 of 358)\n",
      "40%(140 of 350)\n",
      "40%(144 of 358)\n",
      "50%(175 of 350)\n",
      "50%(179 of 358)\n",
      "60%(210 of 350)\n",
      "60%(215 of 358)\n",
      "70%(245 of 350)\n",
      "70%(251 of 358)\n",
      "80%(280 of 350)\n",
      "80%(287 of 358)\n",
      "90%(315 of 350)\n",
      "90%(323 of 358)\n"
     ]
    },
    {
     "name": "stderr",
     "output_type": "stream",
     "text": [
      "Processing frames:  38%|███▊      | 49/130 [02:56<04:50,  3.58s/it]"
     ]
    },
    {
     "name": "stdout",
     "output_type": "stream",
     "text": [
      "100%(350 of 350)\n",
      "(350, 7)\n",
      "the number of times the gaussian fitting worked was 350 and the number of times the gaussian did not fit was 0\n"
     ]
    },
    {
     "name": "stderr",
     "output_type": "stream",
     "text": [
      "Processing frames:  38%|███▊      | 50/130 [02:57<03:27,  2.59s/it]"
     ]
    },
    {
     "name": "stdout",
     "output_type": "stream",
     "text": [
      "100%(358 of 358)\n",
      "(358, 7)\n",
      "the number of times the gaussian fitting worked was 358 and the number of times the gaussian did not fit was 0\n",
      "10%(35 of 346)\n",
      "10%(36 of 360)\n",
      "20%(70 of 346)\n",
      "20%(72 of 360)\n",
      "30%(104 of 346)\n",
      "30%(108 of 360)\n",
      "40%(139 of 346)\n",
      "40%(144 of 360)\n",
      "50%(173 of 346)\n",
      "50%(180 of 360)\n",
      "60%(208 of 346)\n",
      "60%(216 of 360)\n",
      "70%(243 of 346)\n",
      "70%(252 of 360)\n",
      "80%(277 of 346)\n",
      "80%(288 of 360)\n",
      "90%(312 of 346)\n",
      "90%(324 of 360)\n"
     ]
    },
    {
     "name": "stderr",
     "output_type": "stream",
     "text": [
      "Processing frames:  39%|███▉      | 51/130 [03:02<04:38,  3.53s/it]"
     ]
    },
    {
     "name": "stdout",
     "output_type": "stream",
     "text": [
      "100%(346 of 346)\n",
      "(346, 7)\n",
      "the number of times the gaussian fitting worked was 346 and the number of times the gaussian did not fit was 0\n"
     ]
    },
    {
     "name": "stderr",
     "output_type": "stream",
     "text": [
      "Processing frames:  40%|████      | 52/130 [03:03<03:20,  2.57s/it]"
     ]
    },
    {
     "name": "stdout",
     "output_type": "stream",
     "text": [
      "100%(360 of 360)\n",
      "(360, 7)\n",
      "the number of times the gaussian fitting worked was 360 and the number of times the gaussian did not fit was 0\n",
      "10%(36 of 355)\n",
      "10%(35 of 344)\n",
      "20%(71 of 355)\n",
      "20%(69 of 344)\n",
      "30%(107 of 355)\n",
      "30%(104 of 344)\n",
      "40%(142 of 355)\n",
      "40%(138 of 344)\n",
      "50%(178 of 355)\n",
      "50%(172 of 344)\n",
      "60%(213 of 355)\n",
      "60%(207 of 344)\n",
      "70%(249 of 355)\n",
      "70%(241 of 344)\n",
      "80%(284 of 355)\n",
      "80%(276 of 344)\n",
      "90%(320 of 355)\n",
      "90%(310 of 344)\n"
     ]
    },
    {
     "name": "stderr",
     "output_type": "stream",
     "text": [
      "Processing frames:  42%|████▏     | 54/130 [03:08<03:05,  2.45s/it]"
     ]
    },
    {
     "name": "stdout",
     "output_type": "stream",
     "text": [
      "100%(355 of 355)\n",
      "(355, 7)\n",
      "the number of times the gaussian fitting worked was 355 and the number of times the gaussian did not fit was 0\n",
      "100%(344 of 344)\n",
      "(344, 7)\n",
      "the number of times the gaussian fitting worked was 344 and the number of times the gaussian did not fit was 0\n",
      "10%(35 of 350)\n",
      "10%(35 of 342)\n",
      "20%(70 of 350)\n",
      "20%(69 of 342)\n",
      "30%(105 of 350)\n",
      "30%(103 of 342)\n",
      "40%(140 of 350)\n",
      "40%(137 of 342)\n",
      "50%(175 of 350)\n",
      "50%(171 of 342)\n",
      "60%(210 of 350)\n",
      "60%(206 of 342)\n",
      "70%(240 of 342)\n",
      "70%(245 of 350)\n",
      "80%(280 of 350)\n",
      "80%(274 of 342)\n",
      "90%(308 of 342)\n",
      "90%(315 of 350)\n"
     ]
    },
    {
     "name": "stderr",
     "output_type": "stream",
     "text": [
      "Processing frames:  42%|████▏     | 55/130 [03:14<04:14,  3.39s/it]"
     ]
    },
    {
     "name": "stdout",
     "output_type": "stream",
     "text": [
      "100%(342 of 342)\n",
      "(342, 7)\n",
      "the number of times the gaussian fitting worked was 342 and the number of times the gaussian did not fit was 0\n",
      "100%(350 of 350)\n",
      "(350, 7)\n",
      "the number of times the gaussian fitting worked was 350 and the number of times the gaussian did not fit was 0\n",
      "10%(33 of 324)\n",
      "10%(35 of 346)\n",
      "20%(65 of 324)\n",
      "20%(70 of 346)\n",
      "30%(98 of 324)\n",
      "30%(104 of 346)\n",
      "40%(130 of 324)\n",
      "40%(139 of 346)\n",
      "50%(162 of 324)\n",
      "50%(173 of 346)\n",
      "60%(195 of 324)\n",
      "60%(208 of 346)\n",
      "70%(227 of 324)\n",
      "70%(243 of 346)\n",
      "80%(260 of 324)\n",
      "80%(277 of 346)\n",
      "90%(292 of 324)\n",
      "90%(312 of 346)\n"
     ]
    },
    {
     "name": "stderr",
     "output_type": "stream",
     "text": [
      "Processing frames:  44%|████▍     | 57/130 [03:19<03:45,  3.09s/it]"
     ]
    },
    {
     "name": "stdout",
     "output_type": "stream",
     "text": [
      "100%(324 of 324)\n",
      "(324, 7)\n",
      "the number of times the gaussian fitting worked was 324 and the number of times the gaussian did not fit was 0\n"
     ]
    },
    {
     "name": "stderr",
     "output_type": "stream",
     "text": [
      "Processing frames:  45%|████▍     | 58/130 [03:20<02:52,  2.39s/it]"
     ]
    },
    {
     "name": "stdout",
     "output_type": "stream",
     "text": [
      "100%(346 of 346)\n",
      "(346, 7)\n",
      "the number of times the gaussian fitting worked was 346 and the number of times the gaussian did not fit was 0\n",
      "10%(34 of 340)\n",
      "10%(33 of 325)\n",
      "20%(68 of 340)\n",
      "20%(65 of 325)\n",
      "30%(102 of 340)\n",
      "30%(98 of 325)\n",
      "40%(136 of 340)\n",
      "40%(130 of 325)\n",
      "50%(170 of 340)\n",
      "50%(163 of 325)\n",
      "60%(204 of 340)\n",
      "60%(195 of 325)\n",
      "70%(238 of 340)\n",
      "70%(228 of 325)\n",
      "80%(260 of 325)\n",
      "80%(272 of 340)\n",
      "90%(293 of 325)\n",
      "90%(306 of 340)\n"
     ]
    },
    {
     "name": "stderr",
     "output_type": "stream",
     "text": [
      "Processing frames:  46%|████▌     | 60/130 [03:25<02:41,  2.31s/it]"
     ]
    },
    {
     "name": "stdout",
     "output_type": "stream",
     "text": [
      "100%(325 of 325)\n",
      "(325, 7)\n",
      "the number of times the gaussian fitting worked was 325 and the number of times the gaussian did not fit was 0\n",
      "100%(340 of 340)\n",
      "(340, 7)\n",
      "the number of times the gaussian fitting worked was 340 and the number of times the gaussian did not fit was 0\n",
      "10%(33 of 327)\n",
      "10%(35 of 344)\n",
      "20%(66 of 327)\n",
      "20%(69 of 344)\n",
      "30%(99 of 327)\n",
      "30%(104 of 344)\n",
      "40%(131 of 327)\n",
      "40%(138 of 344)\n",
      "50%(164 of 327)\n",
      "50%(172 of 344)\n",
      "60%(197 of 327)\n",
      "60%(207 of 344)\n",
      "70%(229 of 327)\n",
      "70%(241 of 344)\n",
      "80%(262 of 327)\n",
      "80%(276 of 344)\n",
      "90%(295 of 327)\n",
      "90%(310 of 344)\n"
     ]
    },
    {
     "name": "stderr",
     "output_type": "stream",
     "text": [
      "Processing frames:  47%|████▋     | 61/130 [03:31<03:44,  3.25s/it]"
     ]
    },
    {
     "name": "stdout",
     "output_type": "stream",
     "text": [
      "100%(327 of 327)\n",
      "(327, 7)\n",
      "the number of times the gaussian fitting worked was 327 and the number of times the gaussian did not fit was 0\n"
     ]
    },
    {
     "name": "stderr",
     "output_type": "stream",
     "text": [
      "Processing frames:  48%|████▊     | 62/130 [03:31<02:45,  2.44s/it]"
     ]
    },
    {
     "name": "stdout",
     "output_type": "stream",
     "text": [
      "100%(344 of 344)\n",
      "(344, 7)\n",
      "the number of times the gaussian fitting worked was 344 and the number of times the gaussian did not fit was 0\n",
      "10%(37 of 366)\n",
      "10%(34 of 333)\n",
      "20%(74 of 366)\n",
      "20%(67 of 333)\n",
      "30%(110 of 366)\n",
      "30%(100 of 333)\n",
      "40%(147 of 366)\n",
      "40%(134 of 333)\n",
      "50%(183 of 366)\n",
      "50%(167 of 333)\n",
      "60%(220 of 366)\n",
      "60%(200 of 333)\n",
      "70%(257 of 366)\n",
      "70%(234 of 333)\n",
      "80%(293 of 366)\n",
      "80%(267 of 333)\n",
      "90%(330 of 366)\n",
      "90%(300 of 333)\n"
     ]
    },
    {
     "name": "stderr",
     "output_type": "stream",
     "text": [
      "Processing frames:  48%|████▊     | 63/130 [03:37<03:45,  3.36s/it]"
     ]
    },
    {
     "name": "stdout",
     "output_type": "stream",
     "text": [
      "100%(366 of 366)\n",
      "(366, 7)\n",
      "100%(333 of 333)\n",
      "(333, 7)\n",
      "the number of times the gaussian fitting worked was 366 and the number of times the gaussian did not fit was 0\n",
      "the number of times the gaussian fitting worked was 333 and the number of times the gaussian did not fit was 0\n",
      "10%(31 of 309)\n",
      "10%(32 of 320)\n",
      "20%(62 of 309)\n",
      "20%(64 of 320)\n",
      "30%(93 of 309)\n",
      "30%(96 of 320)\n",
      "40%(124 of 309)\n",
      "40%(128 of 320)\n",
      "50%(155 of 309)\n",
      "50%(160 of 320)\n",
      "60%(186 of 309)\n",
      "60%(192 of 320)\n",
      "70%(217 of 309)\n",
      "70%(224 of 320)\n",
      "80%(248 of 309)\n",
      "80%(256 of 320)\n",
      "90%(279 of 309)\n",
      "90%(288 of 320)\n"
     ]
    },
    {
     "name": "stderr",
     "output_type": "stream",
     "text": [
      "Processing frames:  51%|█████     | 66/130 [03:42<02:26,  2.29s/it]"
     ]
    },
    {
     "name": "stdout",
     "output_type": "stream",
     "text": [
      "100%(309 of 309)\n",
      "(309, 7)\n",
      "the number of times the gaussian fitting worked was 309 and the number of times the gaussian did not fit was 0\n",
      "100%(320 of 320)\n",
      "(320, 7)\n",
      "the number of times the gaussian fitting worked was 320 and the number of times the gaussian did not fit was 0\n",
      "10%(34 of 336)\n",
      "10%(34 of 337)\n",
      "20%(68 of 336)\n",
      "20%(68 of 337)\n",
      "30%(101 of 336)\n",
      "30%(102 of 337)\n",
      "40%(135 of 336)\n",
      "40%(135 of 337)\n",
      "50%(168 of 336)\n",
      "50%(169 of 337)\n",
      "60%(202 of 336)\n",
      "60%(203 of 337)\n",
      "70%(236 of 336)\n",
      "70%(236 of 337)\n",
      "80%(269 of 336)\n",
      "80%(270 of 337)\n",
      "90%(303 of 336)\n",
      "90%(304 of 337)\n"
     ]
    },
    {
     "name": "stderr",
     "output_type": "stream",
     "text": [
      "Processing frames:  52%|█████▏    | 67/130 [03:47<03:16,  3.11s/it]"
     ]
    },
    {
     "name": "stdout",
     "output_type": "stream",
     "text": [
      "100%(336 of 336)\n",
      "(336, 7)\n",
      "the number of times the gaussian fitting worked was 336 and the number of times the gaussian did not fit was 0\n"
     ]
    },
    {
     "name": "stderr",
     "output_type": "stream",
     "text": [
      "Processing frames:  52%|█████▏    | 68/130 [03:48<02:26,  2.36s/it]"
     ]
    },
    {
     "name": "stdout",
     "output_type": "stream",
     "text": [
      "100%(337 of 337)\n",
      "(337, 7)\n",
      "the number of times the gaussian fitting worked was 337 and the number of times the gaussian did not fit was 0\n",
      "10%(34 of 339)\n",
      "10%(35 of 346)\n",
      "20%(68 of 339)\n",
      "20%(70 of 346)\n",
      "30%(102 of 339)\n",
      "30%(104 of 346)\n",
      "40%(136 of 339)\n",
      "40%(139 of 346)\n",
      "50%(170 of 339)\n",
      "50%(173 of 346)\n",
      "60%(204 of 339)\n",
      "60%(208 of 346)\n",
      "70%(238 of 339)\n",
      "70%(243 of 346)\n",
      "80%(272 of 339)\n",
      "80%(277 of 346)\n",
      "90%(306 of 339)\n"
     ]
    },
    {
     "name": "stderr",
     "output_type": "stream",
     "text": [
      "Processing frames:  53%|█████▎    | 69/130 [03:53<03:13,  3.17s/it]"
     ]
    },
    {
     "name": "stdout",
     "output_type": "stream",
     "text": [
      "90%(312 of 346)\n",
      "100%(339 of 339)\n",
      "(339, 7)\n",
      "the number of times the gaussian fitting worked was 339 and the number of times the gaussian did not fit was 0\n"
     ]
    },
    {
     "name": "stderr",
     "output_type": "stream",
     "text": [
      "Processing frames:  54%|█████▍    | 70/130 [03:53<02:24,  2.41s/it]"
     ]
    },
    {
     "name": "stdout",
     "output_type": "stream",
     "text": [
      "100%(346 of 346)\n",
      "(346, 7)\n",
      "the number of times the gaussian fitting worked was 346 and the number of times the gaussian did not fit was 0\n",
      "10%(33 of 326)\n",
      "10%(35 of 341)\n",
      "20%(66 of 326)\n",
      "30%(98 of 326)\n",
      "20%(69 of 341)\n",
      "40%(131 of 326)\n",
      "30%(103 of 341)\n",
      "50%(163 of 326)\n",
      "40%(137 of 341)\n",
      "60%(196 of 326)\n",
      "50%(171 of 341)\n",
      "70%(229 of 326)\n",
      "60%(205 of 341)\n",
      "80%(261 of 326)\n",
      "70%(239 of 341)\n",
      "90%(294 of 326)\n",
      "80%(273 of 341)\n"
     ]
    },
    {
     "name": "stderr",
     "output_type": "stream",
     "text": [
      "Processing frames:  55%|█████▍    | 71/130 [03:58<03:04,  3.12s/it]"
     ]
    },
    {
     "name": "stdout",
     "output_type": "stream",
     "text": [
      "100%(326 of 326)\n",
      "(326, 7)\n",
      "the number of times the gaussian fitting worked was 326 and the number of times the gaussian did not fit was 0\n",
      "90%(307 of 341)\n",
      "10%(34 of 335)\n"
     ]
    },
    {
     "name": "stderr",
     "output_type": "stream",
     "text": [
      "Processing frames:  55%|█████▌    | 72/130 [03:59<02:22,  2.46s/it]"
     ]
    },
    {
     "name": "stdout",
     "output_type": "stream",
     "text": [
      "100%(341 of 341)\n",
      "(341, 7)\n",
      "the number of times the gaussian fitting worked was 341 and the number of times the gaussian did not fit was 0\n",
      "20%(67 of 335)\n",
      "10%(34 of 336)\n",
      "30%(101 of 335)\n",
      "20%(68 of 336)\n",
      "40%(134 of 335)\n",
      "30%(101 of 336)\n",
      "50%(168 of 335)\n",
      "40%(135 of 336)\n",
      "60%(201 of 335)\n",
      "50%(168 of 336)\n",
      "70%(235 of 335)\n",
      "60%(202 of 336)\n",
      "80%(268 of 335)\n",
      "70%(236 of 336)\n",
      "90%(302 of 335)\n",
      "80%(269 of 336)\n"
     ]
    },
    {
     "name": "stderr",
     "output_type": "stream",
     "text": [
      "Processing frames:  56%|█████▌    | 73/130 [04:06<03:33,  3.75s/it]"
     ]
    },
    {
     "name": "stdout",
     "output_type": "stream",
     "text": [
      "100%(335 of 335)\n",
      "(335, 7)\n",
      "the number of times the gaussian fitting worked was 335 and the number of times the gaussian did not fit was 0\n",
      "90%(303 of 336)\n",
      "10%(36 of 351)\n",
      "100%(336 of 336)\n"
     ]
    },
    {
     "name": "stderr",
     "output_type": "stream",
     "text": [
      "Processing frames:  57%|█████▋    | 74/130 [04:07<02:41,  2.88s/it]"
     ]
    },
    {
     "name": "stdout",
     "output_type": "stream",
     "text": [
      "(336, 7)\n",
      "the number of times the gaussian fitting worked was 336 and the number of times the gaussian did not fit was 0\n",
      "20%(71 of 351)\n",
      "10%(33 of 322)\n",
      "30%(106 of 351)\n",
      "20%(65 of 322)\n",
      "40%(141 of 351)\n",
      "30%(97 of 322)\n",
      "40%(129 of 322)\n",
      "50%(176 of 351)\n",
      "50%(161 of 322)\n",
      "60%(211 of 351)\n",
      "60%(194 of 322)\n",
      "70%(246 of 351)\n",
      "70%(226 of 322)\n",
      "80%(281 of 351)\n",
      "80%(258 of 322)\n",
      "90%(316 of 351)\n",
      "90%(290 of 322)\n"
     ]
    },
    {
     "name": "stderr",
     "output_type": "stream",
     "text": [
      "Processing frames:  58%|█████▊    | 75/130 [04:12<03:13,  3.51s/it]"
     ]
    },
    {
     "name": "stdout",
     "output_type": "stream",
     "text": [
      "100%(351 of 351)\n",
      "(351, 7)\n",
      "the number of times the gaussian fitting worked was 351 and the number of times the gaussian did not fit was 0\n"
     ]
    },
    {
     "name": "stderr",
     "output_type": "stream",
     "text": [
      "Processing frames:  58%|█████▊    | 76/130 [04:12<02:16,  2.53s/it]"
     ]
    },
    {
     "name": "stdout",
     "output_type": "stream",
     "text": [
      "100%(322 of 322)\n",
      "(322, 7)\n",
      "the number of times the gaussian fitting worked was 322 and the number of times the gaussian did not fit was 0\n",
      "10%(32 of 318)\n",
      "10%(33 of 327)\n",
      "20%(64 of 318)\n",
      "20%(66 of 327)\n",
      "30%(96 of 318)\n",
      "30%(99 of 327)\n",
      "40%(128 of 318)\n",
      "40%(131 of 327)\n",
      "50%(159 of 318)\n",
      "50%(164 of 327)\n",
      "60%(191 of 318)\n",
      "60%(197 of 327)\n",
      "70%(223 of 318)\n",
      "70%(229 of 327)\n",
      "80%(255 of 318)\n",
      "80%(262 of 327)\n",
      "90%(287 of 318)\n"
     ]
    },
    {
     "name": "stderr",
     "output_type": "stream",
     "text": [
      "Processing frames:  59%|█████▉    | 77/130 [04:17<02:53,  3.27s/it]"
     ]
    },
    {
     "name": "stdout",
     "output_type": "stream",
     "text": [
      "90%(295 of 327)\n",
      "100%(318 of 318)\n",
      "(318, 7)\n",
      "the number of times the gaussian fitting worked was 318 and the number of times the gaussian did not fit was 0\n"
     ]
    },
    {
     "name": "stderr",
     "output_type": "stream",
     "text": [
      "Processing frames:  60%|██████    | 78/130 [04:18<02:06,  2.43s/it]"
     ]
    },
    {
     "name": "stdout",
     "output_type": "stream",
     "text": [
      "100%(327 of 327)\n",
      "(327, 7)\n",
      "the number of times the gaussian fitting worked was 327 and the number of times the gaussian did not fit was 0\n",
      "10%(33 of 323)\n",
      "10%(33 of 323)\n",
      "20%(65 of 323)\n",
      "20%(65 of 323)\n",
      "30%(97 of 323)\n",
      "30%(97 of 323)\n",
      "40%(130 of 323)\n",
      "40%(130 of 323)\n",
      "50%(162 of 323)\n",
      "60%(194 of 323)\n",
      "50%(162 of 323)\n",
      "70%(227 of 323)\n",
      "60%(194 of 323)\n",
      "70%(227 of 323)\n",
      "80%(259 of 323)\n",
      "90%(291 of 323)\n",
      "80%(259 of 323)\n"
     ]
    },
    {
     "name": "stderr",
     "output_type": "stream",
     "text": [
      "Processing frames:  61%|██████    | 79/130 [04:22<02:40,  3.15s/it]"
     ]
    },
    {
     "name": "stdout",
     "output_type": "stream",
     "text": [
      "100%(323 of 323)\n",
      "(323, 7)\n",
      "the number of times the gaussian fitting worked was 323 and the number of times the gaussian did not fit was 0\n",
      "90%(291 of 323)\n"
     ]
    },
    {
     "name": "stderr",
     "output_type": "stream",
     "text": [
      "Processing frames:  62%|██████▏   | 80/130 [04:23<02:01,  2.43s/it]"
     ]
    },
    {
     "name": "stdout",
     "output_type": "stream",
     "text": [
      "100%(323 of 323)\n",
      "(323, 7)\n",
      "the number of times the gaussian fitting worked was 323 and the number of times the gaussian did not fit was 0\n",
      "10%(35 of 342)\n",
      "10%(31 of 309)\n",
      "20%(69 of 342)\n",
      "20%(62 of 309)\n",
      "30%(103 of 342)\n",
      "30%(93 of 309)\n",
      "40%(137 of 342)\n",
      "40%(124 of 309)\n",
      "50%(171 of 342)\n",
      "50%(155 of 309)\n",
      "60%(206 of 342)\n",
      "60%(186 of 309)\n",
      "70%(240 of 342)\n",
      "70%(217 of 309)\n",
      "80%(274 of 342)\n",
      "80%(248 of 309)\n",
      "90%(279 of 309)\n",
      "90%(308 of 342)\n"
     ]
    },
    {
     "name": "stderr",
     "output_type": "stream",
     "text": [
      "Processing frames:  63%|██████▎   | 82/130 [04:28<01:48,  2.26s/it]"
     ]
    },
    {
     "name": "stdout",
     "output_type": "stream",
     "text": [
      "100%(309 of 309)\n",
      "(309, 7)\n",
      "the number of times the gaussian fitting worked was 309 and the number of times the gaussian did not fit was 0\n",
      "100%(342 of 342)\n",
      "(342, 7)\n",
      "the number of times the gaussian fitting worked was 342 and the number of times the gaussian did not fit was 0\n",
      "10%(33 of 328)\n",
      "10%(32 of 311)\n",
      "20%(66 of 328)\n",
      "20%(63 of 311)\n",
      "30%(99 of 328)\n",
      "30%(94 of 311)\n",
      "40%(125 of 311)\n",
      "40%(132 of 328)\n",
      "50%(156 of 311)\n",
      "50%(164 of 328)\n",
      "60%(187 of 311)\n",
      "60%(197 of 328)\n",
      "70%(218 of 311)\n",
      "70%(230 of 328)\n",
      "80%(249 of 311)\n",
      "80%(263 of 328)\n",
      "90%(280 of 311)\n",
      "90%(296 of 328)\n"
     ]
    },
    {
     "name": "stderr",
     "output_type": "stream",
     "text": [
      "Processing frames:  64%|██████▍   | 83/130 [04:33<02:26,  3.12s/it]"
     ]
    },
    {
     "name": "stdout",
     "output_type": "stream",
     "text": [
      "100%(311 of 311)\n",
      "(311, 7)\n",
      "the number of times the gaussian fitting worked was 311 and the number of times the gaussian did not fit was 0\n"
     ]
    },
    {
     "name": "stderr",
     "output_type": "stream",
     "text": [
      "Processing frames:  65%|██████▍   | 84/130 [04:34<01:44,  2.26s/it]"
     ]
    },
    {
     "name": "stdout",
     "output_type": "stream",
     "text": [
      "100%(328 of 328)\n",
      "(328, 7)\n",
      "the number of times the gaussian fitting worked was 328 and the number of times the gaussian did not fit was 0\n",
      "10%(32 of 312)\n",
      "10%(32 of 318)\n",
      "20%(63 of 312)\n",
      "20%(64 of 318)\n",
      "30%(94 of 312)\n",
      "30%(96 of 318)\n",
      "40%(125 of 312)\n",
      "40%(128 of 318)\n",
      "50%(156 of 312)\n",
      "50%(159 of 318)\n",
      "60%(188 of 312)\n",
      "60%(191 of 318)\n",
      "70%(219 of 312)\n",
      "70%(223 of 318)\n",
      "80%(250 of 312)\n",
      "80%(255 of 318)\n",
      "90%(281 of 312)\n"
     ]
    },
    {
     "name": "stderr",
     "output_type": "stream",
     "text": [
      "Processing frames:  65%|██████▌   | 85/130 [04:38<02:15,  3.01s/it]"
     ]
    },
    {
     "name": "stdout",
     "output_type": "stream",
     "text": [
      "90%(287 of 318)\n",
      "100%(312 of 312)\n",
      "(312, 7)\n",
      "the number of times the gaussian fitting worked was 312 and the number of times the gaussian did not fit was 0\n"
     ]
    },
    {
     "name": "stderr",
     "output_type": "stream",
     "text": [
      "Processing frames:  66%|██████▌   | 86/130 [04:39<01:37,  2.22s/it]"
     ]
    },
    {
     "name": "stdout",
     "output_type": "stream",
     "text": [
      "100%(318 of 318)\n",
      "(318, 7)\n",
      "the number of times the gaussian fitting worked was 318 and the number of times the gaussian did not fit was 0\n",
      "10%(32 of 318)\n",
      "10%(33 of 326)\n",
      "20%(64 of 318)\n",
      "20%(66 of 326)\n",
      "30%(96 of 318)\n",
      "30%(98 of 326)\n",
      "40%(128 of 318)\n",
      "40%(131 of 326)\n",
      "50%(159 of 318)\n",
      "60%(191 of 318)\n",
      "50%(163 of 326)\n",
      "70%(223 of 318)\n",
      "60%(196 of 326)\n",
      "80%(255 of 318)\n",
      "70%(229 of 326)\n",
      "90%(287 of 318)\n",
      "80%(261 of 326)\n"
     ]
    },
    {
     "name": "stderr",
     "output_type": "stream",
     "text": [
      "Processing frames:  67%|██████▋   | 87/130 [04:44<02:09,  3.02s/it]"
     ]
    },
    {
     "name": "stdout",
     "output_type": "stream",
     "text": [
      "100%(318 of 318)\n",
      "(318, 7)\n",
      "the number of times the gaussian fitting worked was 318 and the number of times the gaussian did not fit was 0\n",
      "90%(294 of 326)\n"
     ]
    },
    {
     "name": "stderr",
     "output_type": "stream",
     "text": [
      "Processing frames:  68%|██████▊   | 88/130 [04:44<01:38,  2.35s/it]"
     ]
    },
    {
     "name": "stdout",
     "output_type": "stream",
     "text": [
      "10%(31 of 307)\n",
      "100%(326 of 326)\n",
      "(326, 7)\n",
      "the number of times the gaussian fitting worked was 326 and the number of times the gaussian did not fit was 0\n",
      "20%(62 of 307)\n",
      "10%(33 of 326)\n",
      "30%(93 of 307)\n",
      "20%(66 of 326)\n",
      "40%(123 of 307)\n",
      "30%(98 of 326)\n",
      "50%(154 of 307)\n",
      "40%(131 of 326)\n",
      "60%(185 of 307)\n",
      "50%(163 of 326)\n",
      "70%(215 of 307)\n",
      "60%(196 of 326)\n",
      "80%(246 of 307)\n",
      "70%(229 of 326)\n",
      "90%(277 of 307)\n"
     ]
    },
    {
     "name": "stderr",
     "output_type": "stream",
     "text": [
      "Processing frames:  68%|██████▊   | 89/130 [04:49<02:01,  2.96s/it]"
     ]
    },
    {
     "name": "stdout",
     "output_type": "stream",
     "text": [
      "80%(261 of 326)\n",
      "100%(307 of 307)\n",
      "(307, 7)\n",
      "the number of times the gaussian fitting worked was 307 and the number of times the gaussian did not fit was 0\n",
      "90%(294 of 326)\n",
      "10%(31 of 309)\n"
     ]
    },
    {
     "name": "stderr",
     "output_type": "stream",
     "text": [
      "Processing frames:  69%|██████▉   | 90/130 [04:50<01:36,  2.42s/it]"
     ]
    },
    {
     "name": "stdout",
     "output_type": "stream",
     "text": [
      "100%(326 of 326)\n",
      "(326, 7)\n",
      "the number of times the gaussian fitting worked was 326 and the number of times the gaussian did not fit was 0\n",
      "20%(62 of 309)\n",
      "10%(32 of 319)\n",
      "30%(93 of 309)\n",
      "20%(64 of 319)\n",
      "40%(124 of 309)\n",
      "30%(96 of 319)\n",
      "50%(155 of 309)\n",
      "40%(128 of 319)\n",
      "60%(186 of 309)\n",
      "50%(160 of 319)\n",
      "70%(217 of 309)\n",
      "60%(192 of 319)\n",
      "80%(248 of 309)\n",
      "70%(224 of 319)\n",
      "90%(279 of 309)\n"
     ]
    },
    {
     "name": "stderr",
     "output_type": "stream",
     "text": [
      "Processing frames:  70%|███████   | 91/130 [04:54<01:56,  3.00s/it]"
     ]
    },
    {
     "name": "stdout",
     "output_type": "stream",
     "text": [
      "80%(256 of 319)\n",
      "100%(309 of 309)\n",
      "(309, 7)\n",
      "the number of times the gaussian fitting worked was 309 and the number of times the gaussian did not fit was 0\n",
      "90%(288 of 319)\n",
      "10%(33 of 328)\n"
     ]
    },
    {
     "name": "stderr",
     "output_type": "stream",
     "text": [
      "Processing frames:  71%|███████   | 92/130 [04:55<01:30,  2.37s/it]"
     ]
    },
    {
     "name": "stdout",
     "output_type": "stream",
     "text": [
      "100%(319 of 319)\n",
      "(319, 7)\n",
      "the number of times the gaussian fitting worked was 319 and the number of times the gaussian did not fit was 0\n",
      "20%(66 of 328)\n",
      "10%(32 of 318)\n",
      "30%(99 of 328)\n",
      "20%(64 of 318)\n",
      "40%(132 of 328)\n",
      "30%(96 of 318)\n",
      "50%(164 of 328)\n",
      "40%(128 of 318)\n",
      "60%(197 of 328)\n",
      "50%(159 of 318)\n",
      "70%(230 of 328)\n",
      "60%(191 of 318)\n",
      "80%(263 of 328)\n",
      "70%(223 of 318)\n",
      "90%(296 of 328)\n"
     ]
    },
    {
     "name": "stderr",
     "output_type": "stream",
     "text": [
      "Processing frames:  72%|███████▏  | 93/130 [04:59<01:48,  2.95s/it]"
     ]
    },
    {
     "name": "stdout",
     "output_type": "stream",
     "text": [
      "80%(255 of 318)\n",
      "100%(328 of 328)\n",
      "(328, 7)\n",
      "the number of times the gaussian fitting worked was 328 and the number of times the gaussian did not fit was 0\n",
      "90%(287 of 318)\n",
      "10%(31 of 303)\n"
     ]
    },
    {
     "name": "stderr",
     "output_type": "stream",
     "text": [
      "Processing frames:  72%|███████▏  | 94/130 [05:00<01:25,  2.38s/it]"
     ]
    },
    {
     "name": "stdout",
     "output_type": "stream",
     "text": [
      "100%(318 of 318)\n",
      "(318, 7)\n",
      "the number of times the gaussian fitting worked was 318 and the number of times the gaussian did not fit was 0\n",
      "20%(61 of 303)\n",
      "10%(30 of 293)\n",
      "30%(91 of 303)\n",
      "20%(59 of 293)\n",
      "40%(122 of 303)\n",
      "30%(88 of 293)\n",
      "50%(152 of 303)\n",
      "40%(118 of 293)\n",
      "60%(182 of 303)\n",
      "50%(147 of 293)\n",
      "70%(213 of 303)\n",
      "60%(176 of 293)\n",
      "80%(243 of 303)\n",
      "70%(206 of 293)\n",
      "90%(273 of 303)\n",
      "80%(235 of 293)\n"
     ]
    },
    {
     "name": "stderr",
     "output_type": "stream",
     "text": [
      "Processing frames:  73%|███████▎  | 95/130 [05:05<01:41,  2.91s/it]"
     ]
    },
    {
     "name": "stdout",
     "output_type": "stream",
     "text": [
      "100%(303 of 303)\n",
      "(303, 7)\n",
      "the number of times the gaussian fitting worked was 303 and the number of times the gaussian did not fit was 0\n",
      "90%(264 of 293)\n"
     ]
    },
    {
     "name": "stderr",
     "output_type": "stream",
     "text": [
      "Processing frames:  74%|███████▍  | 96/130 [05:05<01:16,  2.24s/it]"
     ]
    },
    {
     "name": "stdout",
     "output_type": "stream",
     "text": [
      "10%(32 of 314)\n",
      "100%(293 of 293)\n",
      "(293, 7)\n",
      "the number of times the gaussian fitting worked was 293 and the number of times the gaussian did not fit was 0\n",
      "20%(63 of 314)\n",
      "10%(31 of 309)\n",
      "30%(95 of 314)\n",
      "20%(62 of 309)\n",
      "40%(126 of 314)\n",
      "30%(93 of 309)\n",
      "50%(157 of 314)\n",
      "40%(124 of 309)\n",
      "60%(189 of 314)\n",
      "50%(155 of 309)\n",
      "70%(220 of 314)\n",
      "60%(186 of 309)\n",
      "80%(252 of 314)\n",
      "70%(217 of 309)\n",
      "90%(283 of 314)\n",
      "80%(248 of 309)\n"
     ]
    },
    {
     "name": "stderr",
     "output_type": "stream",
     "text": [
      "Processing frames:  75%|███████▍  | 97/130 [05:10<01:38,  3.00s/it]"
     ]
    },
    {
     "name": "stdout",
     "output_type": "stream",
     "text": [
      "100%(314 of 314)\n",
      "(314, 7)\n",
      "the number of times the gaussian fitting worked was 314 and the number of times the gaussian did not fit was 0\n",
      "90%(279 of 309)\n"
     ]
    },
    {
     "name": "stderr",
     "output_type": "stream",
     "text": [
      "Processing frames:  75%|███████▌  | 98/130 [05:11<01:12,  2.27s/it]"
     ]
    },
    {
     "name": "stdout",
     "output_type": "stream",
     "text": [
      "100%(309 of 309)\n",
      "10%(31 of 303)\n",
      "(309, 7)\n",
      "the number of times the gaussian fitting worked was 309 and the number of times the gaussian did not fit was 0\n",
      "20%(61 of 303)\n",
      "10%(33 of 323)\n",
      "30%(91 of 303)\n",
      "20%(65 of 323)\n",
      "40%(122 of 303)\n",
      "30%(97 of 323)\n",
      "50%(152 of 303)\n",
      "40%(130 of 323)\n",
      "60%(182 of 303)\n",
      "50%(162 of 323)\n",
      "70%(213 of 303)\n",
      "60%(194 of 323)\n",
      "80%(243 of 303)\n",
      "70%(227 of 323)\n",
      "90%(273 of 303)\n",
      "80%(259 of 323)\n",
      "100%(303 of 303)\n"
     ]
    },
    {
     "name": "stderr",
     "output_type": "stream",
     "text": [
      "Processing frames:  76%|███████▌  | 99/130 [05:15<01:30,  2.90s/it]"
     ]
    },
    {
     "name": "stdout",
     "output_type": "stream",
     "text": [
      "(303, 7)\n",
      "the number of times the gaussian fitting worked was 303 and the number of times the gaussian did not fit was 0\n",
      "90%(291 of 323)\n",
      "10%(31 of 305)\n"
     ]
    },
    {
     "name": "stderr",
     "output_type": "stream",
     "text": [
      "Processing frames:  77%|███████▋  | 100/130 [05:16<01:08,  2.29s/it]"
     ]
    },
    {
     "name": "stdout",
     "output_type": "stream",
     "text": [
      "100%(323 of 323)\n",
      "(323, 7)\n",
      "the number of times the gaussian fitting worked was 323 and the number of times the gaussian did not fit was 0\n",
      "20%(61 of 305)\n",
      "10%(33 of 321)\n",
      "30%(92 of 305)\n",
      "20%(65 of 321)\n",
      "40%(122 of 305)\n",
      "30%(97 of 321)\n",
      "50%(153 of 305)\n",
      "40%(129 of 321)\n",
      "60%(183 of 305)\n",
      "50%(161 of 321)\n",
      "70%(214 of 305)\n",
      "60%(193 of 321)\n",
      "80%(244 of 305)\n",
      "70%(225 of 321)\n",
      "90%(275 of 305)\n"
     ]
    },
    {
     "name": "stderr",
     "output_type": "stream",
     "text": [
      "Processing frames:  78%|███████▊  | 101/130 [05:21<01:27,  3.01s/it]"
     ]
    },
    {
     "name": "stdout",
     "output_type": "stream",
     "text": [
      "80%(257 of 321)\n",
      "100%(305 of 305)\n",
      "(305, 7)\n",
      "the number of times the gaussian fitting worked was 305 and the number of times the gaussian did not fit was 0\n",
      "90%(289 of 321)\n",
      "10%(31 of 309)\n"
     ]
    },
    {
     "name": "stderr",
     "output_type": "stream",
     "text": [
      "Processing frames:  78%|███████▊  | 102/130 [05:22<01:07,  2.40s/it]"
     ]
    },
    {
     "name": "stdout",
     "output_type": "stream",
     "text": [
      "100%(321 of 321)\n",
      "(321, 7)\n",
      "the number of times the gaussian fitting worked was 321 and the number of times the gaussian did not fit was 0\n",
      "20%(62 of 309)\n",
      "10%(32 of 313)\n",
      "30%(93 of 309)\n",
      "20%(63 of 313)\n",
      "40%(124 of 309)\n",
      "30%(94 of 313)\n",
      "50%(155 of 309)\n",
      "40%(126 of 313)\n",
      "60%(186 of 309)\n",
      "50%(157 of 313)\n",
      "70%(217 of 309)\n",
      "60%(188 of 313)\n",
      "80%(248 of 309)\n",
      "70%(220 of 313)\n",
      "90%(279 of 309)\n"
     ]
    },
    {
     "name": "stderr",
     "output_type": "stream",
     "text": [
      "Processing frames:  79%|███████▉  | 103/130 [05:26<01:19,  2.94s/it]"
     ]
    },
    {
     "name": "stdout",
     "output_type": "stream",
     "text": [
      "80%(251 of 313)\n",
      "100%(309 of 309)\n",
      "(309, 7)\n",
      "the number of times the gaussian fitting worked was 309 and the number of times the gaussian did not fit was 0\n",
      "90%(282 of 313)\n",
      "10%(31 of 301)\n"
     ]
    },
    {
     "name": "stderr",
     "output_type": "stream",
     "text": [
      "Processing frames:  80%|████████  | 104/130 [05:27<01:00,  2.34s/it]"
     ]
    },
    {
     "name": "stdout",
     "output_type": "stream",
     "text": [
      "100%(313 of 313)\n",
      "(313, 7)\n",
      "the number of times the gaussian fitting worked was 313 and the number of times the gaussian did not fit was 0\n",
      "20%(61 of 301)\n",
      "10%(28 of 280)\n",
      "30%(91 of 301)\n",
      "20%(56 of 280)\n",
      "40%(121 of 301)\n",
      "30%(84 of 280)\n",
      "50%(151 of 301)\n",
      "40%(112 of 280)\n",
      "60%(181 of 301)\n",
      "50%(140 of 280)\n",
      "70%(211 of 301)\n",
      "60%(168 of 280)\n",
      "80%(241 of 301)\n",
      "70%(196 of 280)\n",
      "90%(271 of 301)\n",
      "80%(224 of 280)\n"
     ]
    },
    {
     "name": "stderr",
     "output_type": "stream",
     "text": [
      "Processing frames:  81%|████████  | 105/130 [05:31<01:11,  2.86s/it]"
     ]
    },
    {
     "name": "stdout",
     "output_type": "stream",
     "text": [
      "100%(301 of 301)\n",
      "(301, 7)\n",
      "the number of times the gaussian fitting worked was 301 and the number of times the gaussian did not fit was 0\n",
      "90%(252 of 280)\n"
     ]
    },
    {
     "name": "stderr",
     "output_type": "stream",
     "text": [
      "Processing frames:  82%|████████▏ | 106/130 [05:31<00:52,  2.20s/it]"
     ]
    },
    {
     "name": "stdout",
     "output_type": "stream",
     "text": [
      "10%(31 of 308)\n",
      "100%(280 of 280)\n",
      "(280, 7)\n",
      "the number of times the gaussian fitting worked was 280 and the number of times the gaussian did not fit was 0\n",
      "20%(62 of 308)\n",
      "10%(28 of 274)\n",
      "30%(93 of 308)\n",
      "20%(55 of 274)\n",
      "30%(83 of 274)\n",
      "40%(124 of 308)\n",
      "40%(110 of 274)\n",
      "50%(154 of 308)\n",
      "50%(137 of 274)\n",
      "60%(185 of 308)\n",
      "60%(165 of 274)\n",
      "70%(216 of 308)\n",
      "70%(192 of 274)\n",
      "80%(247 of 308)\n",
      "80%(220 of 274)\n",
      "90%(278 of 308)\n",
      "90%(247 of 274)\n"
     ]
    },
    {
     "name": "stderr",
     "output_type": "stream",
     "text": [
      "Processing frames:  82%|████████▏ | 107/130 [05:36<01:06,  2.87s/it]"
     ]
    },
    {
     "name": "stdout",
     "output_type": "stream",
     "text": [
      "100%(274 of 274)\n",
      "(274, 7)\n",
      "the number of times the gaussian fitting worked was 274 and the number of times the gaussian did not fit was 0\n",
      "100%(308 of 308)\n",
      "(308, 7)\n",
      "the number of times the gaussian fitting worked was 308 and the number of times the gaussian did not fit was 0\n",
      "10%(29 of 284)\n",
      "10%(30 of 291)\n",
      "20%(57 of 284)\n",
      "20%(59 of 291)\n",
      "30%(86 of 284)\n",
      "30%(88 of 291)\n",
      "40%(114 of 284)\n",
      "40%(117 of 291)\n",
      "50%(142 of 284)\n",
      "50%(146 of 291)\n",
      "60%(171 of 284)\n",
      "60%(175 of 291)\n",
      "70%(199 of 284)\n",
      "70%(204 of 291)\n",
      "80%(228 of 284)\n",
      "80%(233 of 291)\n",
      "90%(256 of 284)\n",
      "90%(262 of 291)\n"
     ]
    },
    {
     "name": "stderr",
     "output_type": "stream",
     "text": [
      "Processing frames:  85%|████████▍ | 110/130 [05:41<00:40,  2.02s/it]"
     ]
    },
    {
     "name": "stdout",
     "output_type": "stream",
     "text": [
      "100%(284 of 284)\n",
      "(284, 7)\n",
      "the number of times the gaussian fitting worked was 284 and the number of times the gaussian did not fit was 0\n",
      "100%(291 of 291)\n",
      "(291, 7)\n",
      "the number of times the gaussian fitting worked was 291 and the number of times the gaussian did not fit was 0\n",
      "10%(27 of 263)\n",
      "10%(30 of 300)\n",
      "20%(53 of 263)\n",
      "20%(60 of 300)\n",
      "30%(79 of 263)\n",
      "30%(90 of 300)\n",
      "40%(106 of 263)\n",
      "40%(120 of 300)\n",
      "50%(132 of 263)\n",
      "60%(158 of 263)\n",
      "50%(150 of 300)\n",
      "70%(185 of 263)\n",
      "60%(180 of 300)\n",
      "80%(211 of 263)\n",
      "70%(210 of 300)\n",
      "90%(237 of 263)\n",
      "80%(240 of 300)\n"
     ]
    },
    {
     "name": "stderr",
     "output_type": "stream",
     "text": [
      "Processing frames:  85%|████████▌ | 111/130 [05:45<00:49,  2.59s/it]"
     ]
    },
    {
     "name": "stdout",
     "output_type": "stream",
     "text": [
      "100%(263 of 263)\n",
      "(263, 7)\n",
      "the number of times the gaussian fitting worked was 263 and the number of times the gaussian did not fit was 0\n",
      "90%(270 of 300)\n"
     ]
    },
    {
     "name": "stderr",
     "output_type": "stream",
     "text": [
      "Processing frames:  86%|████████▌ | 112/130 [05:46<00:37,  2.07s/it]"
     ]
    },
    {
     "name": "stdout",
     "output_type": "stream",
     "text": [
      "10%(29 of 289)\n",
      "100%(300 of 300)\n",
      "(300, 7)\n",
      "the number of times the gaussian fitting worked was 300 and the number of times the gaussian did not fit was 0\n",
      "20%(58 of 289)\n",
      "10%(29 of 287)\n",
      "30%(87 of 289)\n",
      "20%(58 of 287)\n",
      "40%(116 of 289)\n",
      "30%(87 of 287)\n",
      "50%(145 of 289)\n",
      "40%(115 of 287)\n",
      "60%(174 of 289)\n",
      "50%(144 of 287)\n",
      "70%(203 of 289)\n",
      "60%(173 of 287)\n",
      "80%(232 of 289)\n",
      "70%(201 of 287)\n",
      "90%(261 of 289)\n",
      "80%(230 of 287)\n"
     ]
    },
    {
     "name": "stderr",
     "output_type": "stream",
     "text": [
      "Processing frames:  87%|████████▋ | 113/130 [05:50<00:45,  2.67s/it]"
     ]
    },
    {
     "name": "stdout",
     "output_type": "stream",
     "text": [
      "100%(289 of 289)\n",
      "(289, 7)\n",
      "the number of times the gaussian fitting worked was 289 and the number of times the gaussian did not fit was 0\n",
      "90%(259 of 287)\n"
     ]
    },
    {
     "name": "stderr",
     "output_type": "stream",
     "text": [
      "Processing frames:  88%|████████▊ | 114/130 [05:50<00:33,  2.07s/it]"
     ]
    },
    {
     "name": "stdout",
     "output_type": "stream",
     "text": [
      "10%(29 of 283)\n",
      "100%(287 of 287)\n",
      "(287, 7)\n",
      "the number of times the gaussian fitting worked was 287 and the number of times the gaussian did not fit was 0\n",
      "20%(57 of 283)\n",
      "10%(28 of 271)\n",
      "30%(85 of 283)\n",
      "20%(55 of 271)\n",
      "40%(114 of 283)\n",
      "30%(82 of 271)\n",
      "50%(142 of 283)\n",
      "40%(109 of 271)\n",
      "50%(136 of 271)\n",
      "60%(170 of 283)\n",
      "70%(199 of 283)\n",
      "60%(163 of 271)\n",
      "70%(190 of 271)\n",
      "80%(227 of 283)\n",
      "80%(217 of 271)\n",
      "90%(255 of 283)\n"
     ]
    },
    {
     "name": "stderr",
     "output_type": "stream",
     "text": [
      "Processing frames:  88%|████████▊ | 115/130 [05:56<00:46,  3.12s/it]"
     ]
    },
    {
     "name": "stdout",
     "output_type": "stream",
     "text": [
      "90%(244 of 271)\n",
      "100%(283 of 283)\n",
      "(283, 7)\n",
      "the number of times the gaussian fitting worked was 283 and the number of times the gaussian did not fit was 0\n"
     ]
    },
    {
     "name": "stderr",
     "output_type": "stream",
     "text": [
      "Processing frames:  89%|████████▉ | 116/130 [05:57<00:33,  2.38s/it]"
     ]
    },
    {
     "name": "stdout",
     "output_type": "stream",
     "text": [
      "100%(271 of 271)\n",
      "(271, 7)\n",
      "the number of times the gaussian fitting worked was 271 and the number of times the gaussian did not fit was 0\n",
      "10%(30 of 291)\n",
      "10%(27 of 263)\n",
      "20%(59 of 291)\n",
      "20%(53 of 263)\n",
      "30%(88 of 291)\n",
      "30%(79 of 263)\n",
      "40%(117 of 291)\n",
      "40%(106 of 263)\n",
      "50%(146 of 291)\n",
      "50%(132 of 263)\n",
      "60%(175 of 291)\n",
      "60%(158 of 263)\n",
      "70%(185 of 263)\n",
      "70%(204 of 291)\n",
      "80%(211 of 263)\n",
      "80%(233 of 291)\n",
      "90%(237 of 263)\n"
     ]
    },
    {
     "name": "stderr",
     "output_type": "stream",
     "text": [
      "Processing frames:  90%|█████████ | 117/130 [06:04<00:49,  3.80s/it]"
     ]
    },
    {
     "name": "stdout",
     "output_type": "stream",
     "text": [
      "90%(262 of 291)\n",
      "100%(263 of 263)\n",
      "(263, 7)\n",
      "the number of times the gaussian fitting worked was 263 and the number of times the gaussian did not fit was 0\n"
     ]
    },
    {
     "name": "stderr",
     "output_type": "stream",
     "text": [
      "Processing frames:  91%|█████████ | 118/130 [06:05<00:34,  2.89s/it]"
     ]
    },
    {
     "name": "stdout",
     "output_type": "stream",
     "text": [
      "100%(291 of 291)\n",
      "(291, 7)\n",
      "the number of times the gaussian fitting worked was 291 and the number of times the gaussian did not fit was 0\n",
      "10%(29 of 281)\n",
      "10%(28 of 274)\n",
      "20%(57 of 281)\n",
      "20%(55 of 274)\n",
      "30%(85 of 281)\n",
      "30%(83 of 274)\n",
      "40%(113 of 281)\n",
      "40%(110 of 274)\n",
      "50%(141 of 281)\n",
      "50%(137 of 274)\n",
      "60%(169 of 281)\n",
      "60%(165 of 274)\n",
      "70%(197 of 281)\n",
      "70%(192 of 274)\n",
      "80%(225 of 281)\n",
      "80%(220 of 274)\n",
      "90%(253 of 281)\n",
      "90%(247 of 274)\n"
     ]
    },
    {
     "name": "stderr",
     "output_type": "stream",
     "text": [
      "Processing frames:  92%|█████████▏| 119/130 [06:12<00:44,  4.09s/it]"
     ]
    },
    {
     "name": "stdout",
     "output_type": "stream",
     "text": [
      "100%(281 of 281)\n",
      "(281, 7)\n",
      "the number of times the gaussian fitting worked was 281 and the number of times the gaussian did not fit was 0\n"
     ]
    },
    {
     "name": "stderr",
     "output_type": "stream",
     "text": [
      "Processing frames:  92%|█████████▏| 120/130 [06:12<00:29,  2.97s/it]"
     ]
    },
    {
     "name": "stdout",
     "output_type": "stream",
     "text": [
      "100%(274 of 274)\n",
      "(274, 7)\n",
      "the number of times the gaussian fitting worked was 274 and the number of times the gaussian did not fit was 0\n",
      "10%(28 of 275)\n",
      "10%(25 of 246)\n",
      "20%(55 of 275)\n",
      "20%(50 of 246)\n",
      "30%(83 of 275)\n",
      "30%(74 of 246)\n",
      "40%(110 of 275)\n",
      "40%(99 of 246)\n",
      "50%(123 of 246)\n",
      "50%(138 of 275)\n",
      "60%(148 of 246)\n",
      "60%(165 of 275)\n",
      "70%(173 of 246)\n",
      "70%(193 of 275)\n",
      "80%(197 of 246)\n",
      "80%(220 of 275)\n",
      "90%(222 of 246)\n",
      "90%(248 of 275)\n"
     ]
    },
    {
     "name": "stderr",
     "output_type": "stream",
     "text": [
      "Processing frames:  93%|█████████▎| 121/130 [06:19<00:37,  4.12s/it]"
     ]
    },
    {
     "name": "stdout",
     "output_type": "stream",
     "text": [
      "100%(246 of 246)\n",
      "(246, 7)\n",
      "the number of times the gaussian fitting worked was 246 and the number of times the gaussian did not fit was 0\n"
     ]
    },
    {
     "name": "stderr",
     "output_type": "stream",
     "text": [
      "Processing frames:  94%|█████████▍| 122/130 [06:19<00:24,  3.02s/it]"
     ]
    },
    {
     "name": "stdout",
     "output_type": "stream",
     "text": [
      "100%(275 of 275)\n",
      "(275, 7)\n",
      "the number of times the gaussian fitting worked was 275 and the number of times the gaussian did not fit was 0\n",
      "10%(27 of 264)\n",
      "10%(28 of 271)\n",
      "20%(53 of 264)\n",
      "20%(55 of 271)\n",
      "30%(80 of 264)\n",
      "30%(82 of 271)\n",
      "40%(106 of 264)\n",
      "40%(109 of 271)\n",
      "50%(132 of 264)\n",
      "50%(136 of 271)\n",
      "60%(159 of 264)\n",
      "60%(163 of 271)\n",
      "70%(185 of 264)\n",
      "70%(190 of 271)\n",
      "80%(217 of 271)\n",
      "80%(212 of 264)\n",
      "90%(244 of 271)\n",
      "90%(238 of 264)\n"
     ]
    },
    {
     "name": "stderr",
     "output_type": "stream",
     "text": [
      "Processing frames:  95%|█████████▌| 124/130 [06:26<00:17,  2.89s/it]"
     ]
    },
    {
     "name": "stdout",
     "output_type": "stream",
     "text": [
      "100%(264 of 264)\n",
      "(264, 7)\n",
      "the number of times the gaussian fitting worked was 264 and the number of times the gaussian did not fit was 0\n",
      "100%(271 of 271)\n",
      "(271, 7)\n",
      "the number of times the gaussian fitting worked was 271 and the number of times the gaussian did not fit was 0\n",
      "10%(26 of 260)\n",
      "10%(28 of 279)\n",
      "20%(52 of 260)\n",
      "20%(56 of 279)\n",
      "30%(78 of 260)\n",
      "30%(84 of 279)\n",
      "40%(104 of 260)\n",
      "40%(112 of 279)\n",
      "50%(130 of 260)\n",
      "50%(140 of 279)\n",
      "60%(156 of 260)\n",
      "60%(168 of 279)\n",
      "70%(182 of 260)\n",
      "70%(196 of 279)\n",
      "80%(208 of 260)\n",
      "90%(234 of 260)\n",
      "80%(224 of 279)\n"
     ]
    },
    {
     "name": "stderr",
     "output_type": "stream",
     "text": [
      "Processing frames:  96%|█████████▌| 125/130 [06:33<00:20,  4.07s/it]"
     ]
    },
    {
     "name": "stdout",
     "output_type": "stream",
     "text": [
      "100%(260 of 260)\n",
      "(260, 7)\n",
      "the number of times the gaussian fitting worked was 260 and the number of times the gaussian did not fit was 0\n",
      "90%(252 of 279)\n"
     ]
    },
    {
     "name": "stderr",
     "output_type": "stream",
     "text": [
      "Processing frames:  97%|█████████▋| 126/130 [06:33<00:12,  3.09s/it]"
     ]
    },
    {
     "name": "stdout",
     "output_type": "stream",
     "text": [
      "10%(27 of 269)\n",
      "100%(279 of 279)\n",
      "(279, 7)\n",
      "the number of times the gaussian fitting worked was 279 and the number of times the gaussian did not fit was 0\n",
      "20%(54 of 269)\n",
      "10%(25 of 245)\n",
      "20%(49 of 245)\n",
      "30%(81 of 269)\n",
      "30%(74 of 245)\n",
      "40%(108 of 269)\n",
      "40%(98 of 245)\n",
      "50%(135 of 269)\n",
      "50%(123 of 245)\n",
      "60%(162 of 269)\n",
      "60%(147 of 245)\n",
      "70%(189 of 269)\n",
      "70%(172 of 245)\n",
      "80%(216 of 269)\n",
      "80%(196 of 245)\n",
      "90%(243 of 269)\n",
      "90%(221 of 245)\n"
     ]
    },
    {
     "name": "stderr",
     "output_type": "stream",
     "text": [
      "Processing frames:  98%|█████████▊| 128/130 [06:40<00:05,  2.99s/it]"
     ]
    },
    {
     "name": "stdout",
     "output_type": "stream",
     "text": [
      "100%(269 of 269)\n",
      "(269, 7)\n",
      "the number of times the gaussian fitting worked was 269 and the number of times the gaussian did not fit was 0\n",
      "100%(245 of 245)\n",
      "(245, 7)\n",
      "the number of times the gaussian fitting worked was 245 and the number of times the gaussian did not fit was 0\n",
      "10%(26 of 259)\n",
      "10%(25 of 244)\n",
      "20%(52 of 259)\n",
      "20%(49 of 244)\n",
      "30%(78 of 259)\n",
      "30%(74 of 244)\n",
      "40%(98 of 244)\n",
      "40%(104 of 259)\n",
      "50%(122 of 244)\n",
      "50%(130 of 259)\n",
      "60%(147 of 244)\n",
      "60%(156 of 259)\n",
      "70%(171 of 244)\n",
      "70%(182 of 259)\n",
      "80%(196 of 244)\n",
      "80%(208 of 259)\n",
      "90%(220 of 244)\n"
     ]
    },
    {
     "name": "stderr",
     "output_type": "stream",
     "text": [
      "Processing frames:  99%|█████████▉| 129/130 [06:46<00:03,  3.66s/it]"
     ]
    },
    {
     "name": "stdout",
     "output_type": "stream",
     "text": [
      "90%(234 of 259)\n",
      "100%(244 of 244)\n",
      "(244, 7)\n",
      "the number of times the gaussian fitting worked was 244 and the number of times the gaussian did not fit was 0\n"
     ]
    },
    {
     "name": "stderr",
     "output_type": "stream",
     "text": [
      "Processing frames: 100%|██████████| 130/130 [06:46<00:00,  3.13s/it]"
     ]
    },
    {
     "name": "stdout",
     "output_type": "stream",
     "text": [
      "100%(259 of 259)\n",
      "(259, 7)\n",
      "the number of times the gaussian fitting worked was 259 and the number of times the gaussian did not fit was 0\n"
     ]
    },
    {
     "name": "stderr",
     "output_type": "stream",
     "text": [
      "\n"
     ]
    },
    {
     "name": "stdout",
     "output_type": "stream",
     "text": [
      "time taken (seconds) 407.1422917842865\n"
     ]
    }
   ],
   "source": [
    "#Calculating the gaussian fitting estimates around peak coords for channel 2 \n",
    "#expected sigma value needed for gaussian fitting \n",
    "#set all frames to False for processing limited frames \n",
    "#max_frames determines the frames to be processed if all_frames is false\n",
    "start_time = time.time()\n",
    "channel2_gaussians_df = extractor.run_parallel_frame_processing(expected_sigma = [4,2,2], \n",
    "                                        center_col_name = ['c2_peak_z', 'c2_peak_y', 'c2_peak_x'], \n",
    "                                       dist_between_spots = 10 , channel = 2,  max_frames =  2, all_frames = True)\n",
    "end_time = time.time()\n",
    "print('time taken (seconds)', end_time - start_time)"
   ]
  },
  {
   "cell_type": "code",
   "execution_count": 24,
   "id": "6fa7650f-f6d3-43d4-969b-4396d3a9c757",
   "metadata": {},
   "outputs": [],
   "source": [
    "track_df['c2_gaussian_amp'] = channel2_gaussians_df['amplitude']\n",
    "track_df['c2_mu_x'] = channel2_gaussians_df['mu_x']\n",
    "track_df['c2_mu_y'] = channel2_gaussians_df['mu_y']\n",
    "track_df['c2_mu_z'] = channel2_gaussians_df['mu_z']\n",
    "track_df['c2_sigma_x'] = channel2_gaussians_df['sigma_x']\n",
    "track_df['c2_sigma_y'] = channel2_gaussians_df['sigma_y']\n",
    "track_df['c2_sigma_z'] = channel2_gaussians_df['sigma_z']"
   ]
  },
  {
   "cell_type": "code",
   "execution_count": 25,
   "id": "91fc3013-3dfe-4bd2-b433-9674bfb70211",
   "metadata": {},
   "outputs": [
    {
     "data": {
      "text/html": [
       "<div>\n",
       "<style scoped>\n",
       "    .dataframe tbody tr th:only-of-type {\n",
       "        vertical-align: middle;\n",
       "    }\n",
       "\n",
       "    .dataframe tbody tr th {\n",
       "        vertical-align: top;\n",
       "    }\n",
       "\n",
       "    .dataframe thead th {\n",
       "        text-align: right;\n",
       "    }\n",
       "</style>\n",
       "<table border=\"1\" class=\"dataframe\">\n",
       "  <thead>\n",
       "    <tr style=\"text-align: right;\">\n",
       "      <th></th>\n",
       "      <th>frame</th>\n",
       "      <th>index</th>\n",
       "      <th>amplitude</th>\n",
       "      <th>mu_x</th>\n",
       "      <th>mu_y</th>\n",
       "      <th>mu_z</th>\n",
       "      <th>sigma_x</th>\n",
       "      <th>sigma_y</th>\n",
       "      <th>sigma_z</th>\n",
       "      <th>frame_y</th>\n",
       "      <th>...</th>\n",
       "      <th>c2_peak_mean</th>\n",
       "      <th>c2_voxel_sum</th>\n",
       "      <th>c2_voxel_sum_adjusted</th>\n",
       "      <th>c2_gaussian_amp</th>\n",
       "      <th>c2_mu_x</th>\n",
       "      <th>c2_mu_y</th>\n",
       "      <th>c2_mu_z</th>\n",
       "      <th>c2_sigma_x</th>\n",
       "      <th>c2_sigma_y</th>\n",
       "      <th>c2_sigma_z</th>\n",
       "    </tr>\n",
       "  </thead>\n",
       "  <tbody>\n",
       "    <tr>\n",
       "      <th>0</th>\n",
       "      <td>0</td>\n",
       "      <td>0</td>\n",
       "      <td>206.593249</td>\n",
       "      <td>11.0</td>\n",
       "      <td>12.0</td>\n",
       "      <td>0.0</td>\n",
       "      <td>2.0</td>\n",
       "      <td>2.0</td>\n",
       "      <td>4.0</td>\n",
       "      <td>0</td>\n",
       "      <td>...</td>\n",
       "      <td>125.500000</td>\n",
       "      <td>6646</td>\n",
       "      <td>418.235294</td>\n",
       "      <td>153.666667</td>\n",
       "      <td>9.0</td>\n",
       "      <td>13.0</td>\n",
       "      <td>1.0</td>\n",
       "      <td>1.0</td>\n",
       "      <td>4.0</td>\n",
       "      <td>1.0</td>\n",
       "    </tr>\n",
       "    <tr>\n",
       "      <th>1</th>\n",
       "      <td>0</td>\n",
       "      <td>1</td>\n",
       "      <td>191.000000</td>\n",
       "      <td>36.0</td>\n",
       "      <td>88.0</td>\n",
       "      <td>1.0</td>\n",
       "      <td>2.0</td>\n",
       "      <td>1.0</td>\n",
       "      <td>2.0</td>\n",
       "      <td>0</td>\n",
       "      <td>...</td>\n",
       "      <td>114.826667</td>\n",
       "      <td>10934</td>\n",
       "      <td>-79.538462</td>\n",
       "      <td>138.000000</td>\n",
       "      <td>33.0</td>\n",
       "      <td>87.0</td>\n",
       "      <td>2.0</td>\n",
       "      <td>2.0</td>\n",
       "      <td>3.0</td>\n",
       "      <td>3.0</td>\n",
       "    </tr>\n",
       "    <tr>\n",
       "      <th>2</th>\n",
       "      <td>0</td>\n",
       "      <td>2</td>\n",
       "      <td>231.007679</td>\n",
       "      <td>40.0</td>\n",
       "      <td>141.0</td>\n",
       "      <td>1.0</td>\n",
       "      <td>2.0</td>\n",
       "      <td>2.0</td>\n",
       "      <td>2.0</td>\n",
       "      <td>0</td>\n",
       "      <td>...</td>\n",
       "      <td>122.853333</td>\n",
       "      <td>7836</td>\n",
       "      <td>-13.931034</td>\n",
       "      <td>138.662341</td>\n",
       "      <td>40.0</td>\n",
       "      <td>141.0</td>\n",
       "      <td>-4.0</td>\n",
       "      <td>4.0</td>\n",
       "      <td>2.0</td>\n",
       "      <td>22.0</td>\n",
       "    </tr>\n",
       "    <tr>\n",
       "      <th>3</th>\n",
       "      <td>0</td>\n",
       "      <td>3</td>\n",
       "      <td>185.152538</td>\n",
       "      <td>40.0</td>\n",
       "      <td>58.0</td>\n",
       "      <td>1.0</td>\n",
       "      <td>2.0</td>\n",
       "      <td>1.0</td>\n",
       "      <td>3.0</td>\n",
       "      <td>0</td>\n",
       "      <td>...</td>\n",
       "      <td>118.016667</td>\n",
       "      <td>7556</td>\n",
       "      <td>194.896552</td>\n",
       "      <td>141.721258</td>\n",
       "      <td>41.0</td>\n",
       "      <td>58.0</td>\n",
       "      <td>-2.0</td>\n",
       "      <td>2.0</td>\n",
       "      <td>2.0</td>\n",
       "      <td>7.0</td>\n",
       "    </tr>\n",
       "    <tr>\n",
       "      <th>4</th>\n",
       "      <td>0</td>\n",
       "      <td>4</td>\n",
       "      <td>202.000000</td>\n",
       "      <td>46.0</td>\n",
       "      <td>73.0</td>\n",
       "      <td>1.0</td>\n",
       "      <td>2.0</td>\n",
       "      <td>2.0</td>\n",
       "      <td>3.0</td>\n",
       "      <td>0</td>\n",
       "      <td>...</td>\n",
       "      <td>115.502857</td>\n",
       "      <td>12972</td>\n",
       "      <td>113.636364</td>\n",
       "      <td>137.294351</td>\n",
       "      <td>45.0</td>\n",
       "      <td>73.0</td>\n",
       "      <td>3.0</td>\n",
       "      <td>3.0</td>\n",
       "      <td>3.0</td>\n",
       "      <td>6.0</td>\n",
       "    </tr>\n",
       "    <tr>\n",
       "      <th>...</th>\n",
       "      <td>...</td>\n",
       "      <td>...</td>\n",
       "      <td>...</td>\n",
       "      <td>...</td>\n",
       "      <td>...</td>\n",
       "      <td>...</td>\n",
       "      <td>...</td>\n",
       "      <td>...</td>\n",
       "      <td>...</td>\n",
       "      <td>...</td>\n",
       "      <td>...</td>\n",
       "      <td>...</td>\n",
       "      <td>...</td>\n",
       "      <td>...</td>\n",
       "      <td>...</td>\n",
       "      <td>...</td>\n",
       "      <td>...</td>\n",
       "      <td>...</td>\n",
       "      <td>...</td>\n",
       "      <td>...</td>\n",
       "      <td>...</td>\n",
       "    </tr>\n",
       "    <tr>\n",
       "      <th>43341</th>\n",
       "      <td>129</td>\n",
       "      <td>254</td>\n",
       "      <td>177.830039</td>\n",
       "      <td>160.0</td>\n",
       "      <td>133.0</td>\n",
       "      <td>72.0</td>\n",
       "      <td>2.0</td>\n",
       "      <td>2.0</td>\n",
       "      <td>3.0</td>\n",
       "      <td>129</td>\n",
       "      <td>...</td>\n",
       "      <td>118.211429</td>\n",
       "      <td>15080</td>\n",
       "      <td>195.586207</td>\n",
       "      <td>141.754593</td>\n",
       "      <td>160.0</td>\n",
       "      <td>134.0</td>\n",
       "      <td>69.0</td>\n",
       "      <td>4.0</td>\n",
       "      <td>2.0</td>\n",
       "      <td>5.0</td>\n",
       "    </tr>\n",
       "    <tr>\n",
       "      <th>43342</th>\n",
       "      <td>129</td>\n",
       "      <td>255</td>\n",
       "      <td>179.000000</td>\n",
       "      <td>201.0</td>\n",
       "      <td>207.0</td>\n",
       "      <td>71.0</td>\n",
       "      <td>2.0</td>\n",
       "      <td>1.0</td>\n",
       "      <td>3.0</td>\n",
       "      <td>129</td>\n",
       "      <td>...</td>\n",
       "      <td>118.647619</td>\n",
       "      <td>15224</td>\n",
       "      <td>-210.482759</td>\n",
       "      <td>138.333333</td>\n",
       "      <td>206.0</td>\n",
       "      <td>211.0</td>\n",
       "      <td>67.0</td>\n",
       "      <td>7.0</td>\n",
       "      <td>17.0</td>\n",
       "      <td>6.0</td>\n",
       "    </tr>\n",
       "    <tr>\n",
       "      <th>43343</th>\n",
       "      <td>129</td>\n",
       "      <td>256</td>\n",
       "      <td>274.813463</td>\n",
       "      <td>219.0</td>\n",
       "      <td>45.0</td>\n",
       "      <td>71.0</td>\n",
       "      <td>2.0</td>\n",
       "      <td>2.0</td>\n",
       "      <td>2.0</td>\n",
       "      <td>129</td>\n",
       "      <td>...</td>\n",
       "      <td>143.040000</td>\n",
       "      <td>13586</td>\n",
       "      <td>596.461538</td>\n",
       "      <td>176.000000</td>\n",
       "      <td>220.0</td>\n",
       "      <td>42.0</td>\n",
       "      <td>77.0</td>\n",
       "      <td>4.0</td>\n",
       "      <td>2.0</td>\n",
       "      <td>12.0</td>\n",
       "    </tr>\n",
       "    <tr>\n",
       "      <th>43344</th>\n",
       "      <td>129</td>\n",
       "      <td>257</td>\n",
       "      <td>175.445348</td>\n",
       "      <td>231.0</td>\n",
       "      <td>219.0</td>\n",
       "      <td>71.0</td>\n",
       "      <td>3.0</td>\n",
       "      <td>2.0</td>\n",
       "      <td>2.0</td>\n",
       "      <td>129</td>\n",
       "      <td>...</td>\n",
       "      <td>126.177143</td>\n",
       "      <td>14137</td>\n",
       "      <td>220.363636</td>\n",
       "      <td>153.215649</td>\n",
       "      <td>230.0</td>\n",
       "      <td>217.0</td>\n",
       "      <td>71.0</td>\n",
       "      <td>6.0</td>\n",
       "      <td>2.0</td>\n",
       "      <td>4.0</td>\n",
       "    </tr>\n",
       "    <tr>\n",
       "      <th>43345</th>\n",
       "      <td>129</td>\n",
       "      <td>258</td>\n",
       "      <td>265.000000</td>\n",
       "      <td>263.0</td>\n",
       "      <td>237.0</td>\n",
       "      <td>71.0</td>\n",
       "      <td>1.0</td>\n",
       "      <td>2.0</td>\n",
       "      <td>3.0</td>\n",
       "      <td>129</td>\n",
       "      <td>...</td>\n",
       "      <td>141.442857</td>\n",
       "      <td>11340</td>\n",
       "      <td>446.382979</td>\n",
       "      <td>190.333333</td>\n",
       "      <td>266.0</td>\n",
       "      <td>237.0</td>\n",
       "      <td>71.0</td>\n",
       "      <td>5.0</td>\n",
       "      <td>2.0</td>\n",
       "      <td>1.0</td>\n",
       "    </tr>\n",
       "  </tbody>\n",
       "</table>\n",
       "<p>43346 rows × 34 columns</p>\n",
       "</div>"
      ],
      "text/plain": [
       "       frame  index   amplitude   mu_x   mu_y  mu_z  sigma_x  sigma_y  \\\n",
       "0          0      0  206.593249   11.0   12.0   0.0      2.0      2.0   \n",
       "1          0      1  191.000000   36.0   88.0   1.0      2.0      1.0   \n",
       "2          0      2  231.007679   40.0  141.0   1.0      2.0      2.0   \n",
       "3          0      3  185.152538   40.0   58.0   1.0      2.0      1.0   \n",
       "4          0      4  202.000000   46.0   73.0   1.0      2.0      2.0   \n",
       "...      ...    ...         ...    ...    ...   ...      ...      ...   \n",
       "43341    129    254  177.830039  160.0  133.0  72.0      2.0      2.0   \n",
       "43342    129    255  179.000000  201.0  207.0  71.0      2.0      1.0   \n",
       "43343    129    256  274.813463  219.0   45.0  71.0      2.0      2.0   \n",
       "43344    129    257  175.445348  231.0  219.0  71.0      3.0      2.0   \n",
       "43345    129    258  265.000000  263.0  237.0  71.0      1.0      2.0   \n",
       "\n",
       "       sigma_z  frame_y  ...  c2_peak_mean  c2_voxel_sum  \\\n",
       "0          4.0        0  ...    125.500000          6646   \n",
       "1          2.0        0  ...    114.826667         10934   \n",
       "2          2.0        0  ...    122.853333          7836   \n",
       "3          3.0        0  ...    118.016667          7556   \n",
       "4          3.0        0  ...    115.502857         12972   \n",
       "...        ...      ...  ...           ...           ...   \n",
       "43341      3.0      129  ...    118.211429         15080   \n",
       "43342      3.0      129  ...    118.647619         15224   \n",
       "43343      2.0      129  ...    143.040000         13586   \n",
       "43344      2.0      129  ...    126.177143         14137   \n",
       "43345      3.0      129  ...    141.442857         11340   \n",
       "\n",
       "       c2_voxel_sum_adjusted  c2_gaussian_amp  c2_mu_x  c2_mu_y  c2_mu_z  \\\n",
       "0                 418.235294       153.666667      9.0     13.0      1.0   \n",
       "1                 -79.538462       138.000000     33.0     87.0      2.0   \n",
       "2                 -13.931034       138.662341     40.0    141.0     -4.0   \n",
       "3                 194.896552       141.721258     41.0     58.0     -2.0   \n",
       "4                 113.636364       137.294351     45.0     73.0      3.0   \n",
       "...                      ...              ...      ...      ...      ...   \n",
       "43341             195.586207       141.754593    160.0    134.0     69.0   \n",
       "43342            -210.482759       138.333333    206.0    211.0     67.0   \n",
       "43343             596.461538       176.000000    220.0     42.0     77.0   \n",
       "43344             220.363636       153.215649    230.0    217.0     71.0   \n",
       "43345             446.382979       190.333333    266.0    237.0     71.0   \n",
       "\n",
       "       c2_sigma_x  c2_sigma_y  c2_sigma_z  \n",
       "0             1.0         4.0         1.0  \n",
       "1             2.0         3.0         3.0  \n",
       "2             4.0         2.0        22.0  \n",
       "3             2.0         2.0         7.0  \n",
       "4             3.0         3.0         6.0  \n",
       "...           ...         ...         ...  \n",
       "43341         4.0         2.0         5.0  \n",
       "43342         7.0        17.0         6.0  \n",
       "43343         4.0         2.0        12.0  \n",
       "43344         6.0         2.0         4.0  \n",
       "43345         5.0         2.0         1.0  \n",
       "\n",
       "[43346 rows x 34 columns]"
      ]
     },
     "execution_count": 25,
     "metadata": {},
     "output_type": "execute_result"
    }
   ],
   "source": [
    "track_df"
   ]
  },
  {
   "cell_type": "markdown",
   "id": "b2127dc4-fde7-4ff1-b85a-a271d142f5e2",
   "metadata": {},
   "source": [
    "# Extract information for channel 1"
   ]
  },
  {
   "cell_type": "code",
   "execution_count": 26,
   "id": "62bdb118",
   "metadata": {},
   "outputs": [
    {
     "name": "stdout",
     "output_type": "stream",
     "text": [
      "current frame number is 0\n",
      "current frame number is 1\n",
      "current frame number is 2\n",
      "current frame number is 3\n",
      "current frame number is 4\n",
      "current frame number is 5\n",
      "current frame number is 6\n",
      "current frame number is 7\n",
      "current frame number is 8\n",
      "current frame number is 9\n",
      "current frame number is 10\n",
      "current frame number is 11\n",
      "current frame number is 12\n",
      "current frame number is 13\n",
      "current frame number is 14\n",
      "current frame number is 15\n",
      "current frame number is 16\n",
      "current frame number is 17\n",
      "current frame number is 18\n",
      "current frame number is 19\n",
      "current frame number is 20\n",
      "current frame number is 21\n",
      "current frame number is 22\n",
      "current frame number is 23\n",
      "current frame number is 24\n",
      "current frame number is 25\n",
      "current frame number is 26\n",
      "current frame number is 27\n",
      "current frame number is 28\n",
      "current frame number is 29\n",
      "current frame number is 30\n",
      "current frame number is 31\n",
      "current frame number is 32\n",
      "current frame number is 33\n",
      "current frame number is 34\n",
      "current frame number is 35\n",
      "current frame number is 36\n",
      "current frame number is 37\n",
      "current frame number is 38\n",
      "current frame number is 39\n",
      "current frame number is 40\n",
      "current frame number is 41\n",
      "current frame number is 42\n",
      "current frame number is 43\n",
      "current frame number is 44\n",
      "current frame number is 45\n",
      "current frame number is 46\n",
      "current frame number is 47\n",
      "current frame number is 48\n",
      "current frame number is 49\n",
      "current frame number is 50\n",
      "current frame number is 51\n",
      "current frame number is 52\n",
      "current frame number is 53\n",
      "current frame number is 54\n",
      "current frame number is 55\n",
      "current frame number is 56\n",
      "current frame number is 57\n",
      "current frame number is 58\n",
      "current frame number is 59\n",
      "current frame number is 60\n",
      "current frame number is 61\n",
      "current frame number is 62\n",
      "current frame number is 63\n",
      "current frame number is 64\n",
      "current frame number is 65\n",
      "current frame number is 66\n",
      "current frame number is 67\n",
      "current frame number is 68\n",
      "current frame number is 69\n",
      "current frame number is 70\n",
      "current frame number is 71\n",
      "current frame number is 72\n",
      "current frame number is 73\n",
      "current frame number is 74\n",
      "current frame number is 75\n",
      "current frame number is 76\n",
      "current frame number is 77\n",
      "current frame number is 78\n",
      "current frame number is 79\n",
      "current frame number is 80\n",
      "current frame number is 81\n",
      "current frame number is 82\n",
      "current frame number is 83\n",
      "current frame number is 84\n",
      "current frame number is 85\n",
      "current frame number is 86\n",
      "current frame number is 87\n",
      "current frame number is 88\n",
      "current frame number is 89\n",
      "current frame number is 90\n",
      "current frame number is 91\n",
      "current frame number is 92\n",
      "current frame number is 93\n",
      "current frame number is 94\n",
      "current frame number is 95\n",
      "current frame number is 96\n",
      "current frame number is 97\n",
      "current frame number is 98\n",
      "current frame number is 99\n",
      "current frame number is 100\n",
      "current frame number is 101\n",
      "current frame number is 102\n",
      "current frame number is 103\n",
      "current frame number is 104\n",
      "current frame number is 105\n",
      "current frame number is 106\n",
      "current frame number is 107\n",
      "current frame number is 108\n",
      "current frame number is 109\n",
      "current frame number is 110\n",
      "current frame number is 111\n",
      "current frame number is 112\n",
      "current frame number is 113\n",
      "current frame number is 114\n",
      "current frame number is 115\n",
      "current frame number is 116\n",
      "current frame number is 117\n",
      "current frame number is 118\n",
      "current frame number is 119\n",
      "current frame number is 120\n",
      "current frame number is 121\n",
      "current frame number is 122\n",
      "current frame number is 123\n",
      "current frame number is 124\n",
      "current frame number is 125\n",
      "current frame number is 126\n",
      "current frame number is 127\n",
      "current frame number is 128\n",
      "current frame number is 129\n"
     ]
    }
   ],
   "source": [
    "offset = [0,0]\n",
    "col_names = ['mu_z', 'mu_y', 'mu_x']\n",
    "radi_list = ['sigma_z', 'sigma_y', 'sigma_x']\n",
    "mean,maximum,minimum,pixel_values,max_loc = extractor.extract_pixels_data_variable_bd(center_col_names = col_names, channel = 1)"
   ]
  },
  {
   "cell_type": "code",
   "execution_count": 27,
   "id": "79fe717a",
   "metadata": {},
   "outputs": [],
   "source": [
    "max_loc = np.array(max_loc)"
   ]
  },
  {
   "cell_type": "code",
   "execution_count": 28,
   "id": "357c5a40",
   "metadata": {},
   "outputs": [],
   "source": [
    "track_df['c1_amp'] = mean\n",
    "track_df['c1_peak'] = maximum\n",
    "track_df['c1_peak_x'] = max_loc[:,2]\n",
    "track_df['c1_peak_y'] = max_loc[:,1]\n",
    "track_df['c1_peak_z'] = max_loc[:,0]"
   ]
  },
  {
   "cell_type": "code",
   "execution_count": 29,
   "id": "a67774a8",
   "metadata": {},
   "outputs": [
    {
     "name": "stdout",
     "output_type": "stream",
     "text": [
      "current frame is 0\n",
      "current frame is 1\n",
      "current frame is 2\n",
      "current frame is 3\n",
      "current frame is 4\n",
      "current frame is 5\n",
      "current frame is 6\n",
      "current frame is 7\n",
      "current frame is 8\n",
      "current frame is 9\n",
      "current frame is 10\n",
      "current frame is 11\n",
      "current frame is 12\n",
      "current frame is 13\n",
      "current frame is 14\n",
      "current frame is 15\n",
      "current frame is 16\n",
      "current frame is 17\n",
      "current frame is 18\n",
      "current frame is 19\n",
      "current frame is 20\n",
      "current frame is 21\n",
      "current frame is 22\n",
      "current frame is 23\n",
      "current frame is 24\n",
      "current frame is 25\n",
      "current frame is 26\n",
      "current frame is 27\n",
      "current frame is 28\n",
      "current frame is 29\n",
      "current frame is 30\n",
      "current frame is 31\n",
      "current frame is 32\n",
      "current frame is 33\n",
      "current frame is 34\n",
      "current frame is 35\n",
      "current frame is 36\n",
      "current frame is 37\n",
      "current frame is 38\n",
      "current frame is 39\n",
      "current frame is 40\n",
      "current frame is 41\n",
      "current frame is 42\n",
      "current frame is 43\n",
      "current frame is 44\n",
      "current frame is 45\n",
      "current frame is 46\n",
      "current frame is 47\n",
      "current frame is 48\n",
      "current frame is 49\n",
      "current frame is 50\n",
      "current frame is 51\n",
      "current frame is 52\n",
      "current frame is 53\n",
      "current frame is 54\n",
      "current frame is 55\n",
      "current frame is 56\n",
      "current frame is 57\n",
      "current frame is 58\n",
      "current frame is 59\n",
      "current frame is 60\n",
      "current frame is 61\n",
      "current frame is 62\n",
      "current frame is 63\n",
      "current frame is 64\n",
      "current frame is 65\n",
      "current frame is 66\n",
      "current frame is 67\n",
      "current frame is 68\n",
      "current frame is 69\n",
      "current frame is 70\n",
      "current frame is 71\n",
      "current frame is 72\n",
      "current frame is 73\n",
      "current frame is 74\n",
      "current frame is 75\n",
      "current frame is 76\n",
      "current frame is 77\n",
      "current frame is 78\n",
      "current frame is 79\n",
      "current frame is 80\n",
      "current frame is 81\n",
      "current frame is 82\n",
      "current frame is 83\n",
      "current frame is 84\n",
      "current frame is 85\n",
      "current frame is 86\n",
      "current frame is 87\n",
      "current frame is 88\n",
      "current frame is 89\n",
      "current frame is 90\n",
      "current frame is 91\n",
      "current frame is 92\n",
      "current frame is 93\n",
      "current frame is 94\n",
      "current frame is 95\n",
      "current frame is 96\n",
      "current frame is 97\n",
      "current frame is 98\n",
      "current frame is 99\n",
      "current frame is 100\n",
      "current frame is 101\n",
      "current frame is 102\n",
      "current frame is 103\n",
      "current frame is 104\n",
      "current frame is 105\n",
      "current frame is 106\n",
      "current frame is 107\n",
      "current frame is 108\n",
      "current frame is 109\n",
      "current frame is 110\n",
      "current frame is 111\n",
      "current frame is 112\n",
      "current frame is 113\n",
      "current frame is 114\n",
      "current frame is 115\n",
      "current frame is 116\n",
      "current frame is 117\n",
      "current frame is 118\n",
      "current frame is 119\n",
      "current frame is 120\n",
      "current frame is 121\n",
      "current frame is 122\n",
      "current frame is 123\n",
      "current frame is 124\n",
      "current frame is 125\n",
      "current frame is 126\n",
      "current frame is 127\n",
      "current frame is 128\n",
      "current frame is 129\n"
     ]
    }
   ],
   "source": [
    "voxel_sum_array_1, _, adj_voxel_sum_array_1 = extractor.voxel_sum_fixed_background(center_col_names = ['mu_z', 'mu_y', 'mu_x'], channel = 1,\n",
    "                                                                                  background_radius = [1,1,1])\n"
   ]
  },
  {
   "cell_type": "code",
   "execution_count": 30,
   "id": "ebb16619",
   "metadata": {},
   "outputs": [],
   "source": [
    "#calculated around the peak value coordinates\n",
    "track_df['c1_voxel_sum'] = voxel_sum_array_1\n",
    "track_df['c1_voxel_sum_adjusted'] = adj_voxel_sum_array_1"
   ]
  },
  {
   "cell_type": "code",
   "execution_count": 31,
   "id": "e4657ef9",
   "metadata": {},
   "outputs": [
    {
     "data": {
      "text/html": [
       "<div>\n",
       "<style scoped>\n",
       "    .dataframe tbody tr th:only-of-type {\n",
       "        vertical-align: middle;\n",
       "    }\n",
       "\n",
       "    .dataframe tbody tr th {\n",
       "        vertical-align: top;\n",
       "    }\n",
       "\n",
       "    .dataframe thead th {\n",
       "        text-align: right;\n",
       "    }\n",
       "</style>\n",
       "<table border=\"1\" class=\"dataframe\">\n",
       "  <thead>\n",
       "    <tr style=\"text-align: right;\">\n",
       "      <th></th>\n",
       "      <th>frame</th>\n",
       "      <th>index</th>\n",
       "      <th>amplitude</th>\n",
       "      <th>mu_x</th>\n",
       "      <th>mu_y</th>\n",
       "      <th>mu_z</th>\n",
       "      <th>sigma_x</th>\n",
       "      <th>sigma_y</th>\n",
       "      <th>sigma_z</th>\n",
       "      <th>frame_y</th>\n",
       "      <th>...</th>\n",
       "      <th>c2_sigma_x</th>\n",
       "      <th>c2_sigma_y</th>\n",
       "      <th>c2_sigma_z</th>\n",
       "      <th>c1_amp</th>\n",
       "      <th>c1_peak</th>\n",
       "      <th>c1_peak_x</th>\n",
       "      <th>c1_peak_y</th>\n",
       "      <th>c1_peak_z</th>\n",
       "      <th>c1_voxel_sum</th>\n",
       "      <th>c1_voxel_sum_adjusted</th>\n",
       "    </tr>\n",
       "  </thead>\n",
       "  <tbody>\n",
       "    <tr>\n",
       "      <th>0</th>\n",
       "      <td>0</td>\n",
       "      <td>0</td>\n",
       "      <td>206.593249</td>\n",
       "      <td>11.0</td>\n",
       "      <td>12.0</td>\n",
       "      <td>0.0</td>\n",
       "      <td>2.0</td>\n",
       "      <td>2.0</td>\n",
       "      <td>4.0</td>\n",
       "      <td>0</td>\n",
       "      <td>...</td>\n",
       "      <td>1.0</td>\n",
       "      <td>4.0</td>\n",
       "      <td>1.0</td>\n",
       "      <td>175.329412</td>\n",
       "      <td>231</td>\n",
       "      <td>10</td>\n",
       "      <td>14</td>\n",
       "      <td>2</td>\n",
       "      <td>8395</td>\n",
       "      <td>135.363636</td>\n",
       "    </tr>\n",
       "    <tr>\n",
       "      <th>1</th>\n",
       "      <td>0</td>\n",
       "      <td>1</td>\n",
       "      <td>191.000000</td>\n",
       "      <td>36.0</td>\n",
       "      <td>88.0</td>\n",
       "      <td>1.0</td>\n",
       "      <td>2.0</td>\n",
       "      <td>1.0</td>\n",
       "      <td>2.0</td>\n",
       "      <td>0</td>\n",
       "      <td>...</td>\n",
       "      <td>2.0</td>\n",
       "      <td>3.0</td>\n",
       "      <td>3.0</td>\n",
       "      <td>157.133333</td>\n",
       "      <td>189</td>\n",
       "      <td>38</td>\n",
       "      <td>87</td>\n",
       "      <td>3</td>\n",
       "      <td>12758</td>\n",
       "      <td>-47.294118</td>\n",
       "    </tr>\n",
       "    <tr>\n",
       "      <th>2</th>\n",
       "      <td>0</td>\n",
       "      <td>2</td>\n",
       "      <td>231.007679</td>\n",
       "      <td>40.0</td>\n",
       "      <td>141.0</td>\n",
       "      <td>1.0</td>\n",
       "      <td>2.0</td>\n",
       "      <td>2.0</td>\n",
       "      <td>2.0</td>\n",
       "      <td>0</td>\n",
       "      <td>...</td>\n",
       "      <td>4.0</td>\n",
       "      <td>2.0</td>\n",
       "      <td>22.0</td>\n",
       "      <td>154.560000</td>\n",
       "      <td>198</td>\n",
       "      <td>40</td>\n",
       "      <td>140</td>\n",
       "      <td>3</td>\n",
       "      <td>12604</td>\n",
       "      <td>25.176471</td>\n",
       "    </tr>\n",
       "    <tr>\n",
       "      <th>3</th>\n",
       "      <td>0</td>\n",
       "      <td>3</td>\n",
       "      <td>185.152538</td>\n",
       "      <td>40.0</td>\n",
       "      <td>58.0</td>\n",
       "      <td>1.0</td>\n",
       "      <td>2.0</td>\n",
       "      <td>1.0</td>\n",
       "      <td>3.0</td>\n",
       "      <td>0</td>\n",
       "      <td>...</td>\n",
       "      <td>2.0</td>\n",
       "      <td>2.0</td>\n",
       "      <td>7.0</td>\n",
       "      <td>152.960000</td>\n",
       "      <td>196</td>\n",
       "      <td>42</td>\n",
       "      <td>59</td>\n",
       "      <td>3</td>\n",
       "      <td>12234</td>\n",
       "      <td>-298.941176</td>\n",
       "    </tr>\n",
       "    <tr>\n",
       "      <th>4</th>\n",
       "      <td>0</td>\n",
       "      <td>4</td>\n",
       "      <td>202.000000</td>\n",
       "      <td>46.0</td>\n",
       "      <td>73.0</td>\n",
       "      <td>1.0</td>\n",
       "      <td>2.0</td>\n",
       "      <td>2.0</td>\n",
       "      <td>3.0</td>\n",
       "      <td>0</td>\n",
       "      <td>...</td>\n",
       "      <td>3.0</td>\n",
       "      <td>3.0</td>\n",
       "      <td>6.0</td>\n",
       "      <td>160.240000</td>\n",
       "      <td>219</td>\n",
       "      <td>48</td>\n",
       "      <td>72</td>\n",
       "      <td>4</td>\n",
       "      <td>12659</td>\n",
       "      <td>-1.588235</td>\n",
       "    </tr>\n",
       "    <tr>\n",
       "      <th>...</th>\n",
       "      <td>...</td>\n",
       "      <td>...</td>\n",
       "      <td>...</td>\n",
       "      <td>...</td>\n",
       "      <td>...</td>\n",
       "      <td>...</td>\n",
       "      <td>...</td>\n",
       "      <td>...</td>\n",
       "      <td>...</td>\n",
       "      <td>...</td>\n",
       "      <td>...</td>\n",
       "      <td>...</td>\n",
       "      <td>...</td>\n",
       "      <td>...</td>\n",
       "      <td>...</td>\n",
       "      <td>...</td>\n",
       "      <td>...</td>\n",
       "      <td>...</td>\n",
       "      <td>...</td>\n",
       "      <td>...</td>\n",
       "      <td>...</td>\n",
       "    </tr>\n",
       "    <tr>\n",
       "      <th>43341</th>\n",
       "      <td>129</td>\n",
       "      <td>254</td>\n",
       "      <td>177.830039</td>\n",
       "      <td>160.0</td>\n",
       "      <td>133.0</td>\n",
       "      <td>72.0</td>\n",
       "      <td>2.0</td>\n",
       "      <td>2.0</td>\n",
       "      <td>3.0</td>\n",
       "      <td>129</td>\n",
       "      <td>...</td>\n",
       "      <td>4.0</td>\n",
       "      <td>2.0</td>\n",
       "      <td>5.0</td>\n",
       "      <td>217.033333</td>\n",
       "      <td>296</td>\n",
       "      <td>159</td>\n",
       "      <td>133</td>\n",
       "      <td>71</td>\n",
       "      <td>24469</td>\n",
       "      <td>1379.818182</td>\n",
       "    </tr>\n",
       "    <tr>\n",
       "      <th>43342</th>\n",
       "      <td>129</td>\n",
       "      <td>255</td>\n",
       "      <td>179.000000</td>\n",
       "      <td>201.0</td>\n",
       "      <td>207.0</td>\n",
       "      <td>71.0</td>\n",
       "      <td>2.0</td>\n",
       "      <td>1.0</td>\n",
       "      <td>3.0</td>\n",
       "      <td>129</td>\n",
       "      <td>...</td>\n",
       "      <td>7.0</td>\n",
       "      <td>17.0</td>\n",
       "      <td>6.0</td>\n",
       "      <td>187.447619</td>\n",
       "      <td>221</td>\n",
       "      <td>200</td>\n",
       "      <td>208</td>\n",
       "      <td>68</td>\n",
       "      <td>23992</td>\n",
       "      <td>-227.428571</td>\n",
       "    </tr>\n",
       "    <tr>\n",
       "      <th>43343</th>\n",
       "      <td>129</td>\n",
       "      <td>256</td>\n",
       "      <td>274.813463</td>\n",
       "      <td>219.0</td>\n",
       "      <td>45.0</td>\n",
       "      <td>71.0</td>\n",
       "      <td>2.0</td>\n",
       "      <td>2.0</td>\n",
       "      <td>2.0</td>\n",
       "      <td>129</td>\n",
       "      <td>...</td>\n",
       "      <td>4.0</td>\n",
       "      <td>2.0</td>\n",
       "      <td>12.0</td>\n",
       "      <td>443.480000</td>\n",
       "      <td>668</td>\n",
       "      <td>220</td>\n",
       "      <td>44</td>\n",
       "      <td>73</td>\n",
       "      <td>54547</td>\n",
       "      <td>8071.897959</td>\n",
       "    </tr>\n",
       "    <tr>\n",
       "      <th>43344</th>\n",
       "      <td>129</td>\n",
       "      <td>257</td>\n",
       "      <td>175.445348</td>\n",
       "      <td>231.0</td>\n",
       "      <td>219.0</td>\n",
       "      <td>71.0</td>\n",
       "      <td>3.0</td>\n",
       "      <td>2.0</td>\n",
       "      <td>2.0</td>\n",
       "      <td>129</td>\n",
       "      <td>...</td>\n",
       "      <td>6.0</td>\n",
       "      <td>2.0</td>\n",
       "      <td>4.0</td>\n",
       "      <td>183.862857</td>\n",
       "      <td>234</td>\n",
       "      <td>231</td>\n",
       "      <td>218</td>\n",
       "      <td>73</td>\n",
       "      <td>23700</td>\n",
       "      <td>193.061224</td>\n",
       "    </tr>\n",
       "    <tr>\n",
       "      <th>43345</th>\n",
       "      <td>129</td>\n",
       "      <td>258</td>\n",
       "      <td>265.000000</td>\n",
       "      <td>263.0</td>\n",
       "      <td>237.0</td>\n",
       "      <td>71.0</td>\n",
       "      <td>1.0</td>\n",
       "      <td>2.0</td>\n",
       "      <td>3.0</td>\n",
       "      <td>129</td>\n",
       "      <td>...</td>\n",
       "      <td>5.0</td>\n",
       "      <td>2.0</td>\n",
       "      <td>1.0</td>\n",
       "      <td>451.189474</td>\n",
       "      <td>561</td>\n",
       "      <td>264</td>\n",
       "      <td>237</td>\n",
       "      <td>71</td>\n",
       "      <td>47879</td>\n",
       "      <td>3730.727273</td>\n",
       "    </tr>\n",
       "  </tbody>\n",
       "</table>\n",
       "<p>43346 rows × 41 columns</p>\n",
       "</div>"
      ],
      "text/plain": [
       "       frame  index   amplitude   mu_x   mu_y  mu_z  sigma_x  sigma_y  \\\n",
       "0          0      0  206.593249   11.0   12.0   0.0      2.0      2.0   \n",
       "1          0      1  191.000000   36.0   88.0   1.0      2.0      1.0   \n",
       "2          0      2  231.007679   40.0  141.0   1.0      2.0      2.0   \n",
       "3          0      3  185.152538   40.0   58.0   1.0      2.0      1.0   \n",
       "4          0      4  202.000000   46.0   73.0   1.0      2.0      2.0   \n",
       "...      ...    ...         ...    ...    ...   ...      ...      ...   \n",
       "43341    129    254  177.830039  160.0  133.0  72.0      2.0      2.0   \n",
       "43342    129    255  179.000000  201.0  207.0  71.0      2.0      1.0   \n",
       "43343    129    256  274.813463  219.0   45.0  71.0      2.0      2.0   \n",
       "43344    129    257  175.445348  231.0  219.0  71.0      3.0      2.0   \n",
       "43345    129    258  265.000000  263.0  237.0  71.0      1.0      2.0   \n",
       "\n",
       "       sigma_z  frame_y  ...  c2_sigma_x  c2_sigma_y  c2_sigma_z      c1_amp  \\\n",
       "0          4.0        0  ...         1.0         4.0         1.0  175.329412   \n",
       "1          2.0        0  ...         2.0         3.0         3.0  157.133333   \n",
       "2          2.0        0  ...         4.0         2.0        22.0  154.560000   \n",
       "3          3.0        0  ...         2.0         2.0         7.0  152.960000   \n",
       "4          3.0        0  ...         3.0         3.0         6.0  160.240000   \n",
       "...        ...      ...  ...         ...         ...         ...         ...   \n",
       "43341      3.0      129  ...         4.0         2.0         5.0  217.033333   \n",
       "43342      3.0      129  ...         7.0        17.0         6.0  187.447619   \n",
       "43343      2.0      129  ...         4.0         2.0        12.0  443.480000   \n",
       "43344      2.0      129  ...         6.0         2.0         4.0  183.862857   \n",
       "43345      3.0      129  ...         5.0         2.0         1.0  451.189474   \n",
       "\n",
       "       c1_peak  c1_peak_x  c1_peak_y  c1_peak_z  c1_voxel_sum  \\\n",
       "0          231         10         14          2          8395   \n",
       "1          189         38         87          3         12758   \n",
       "2          198         40        140          3         12604   \n",
       "3          196         42         59          3         12234   \n",
       "4          219         48         72          4         12659   \n",
       "...        ...        ...        ...        ...           ...   \n",
       "43341      296        159        133         71         24469   \n",
       "43342      221        200        208         68         23992   \n",
       "43343      668        220         44         73         54547   \n",
       "43344      234        231        218         73         23700   \n",
       "43345      561        264        237         71         47879   \n",
       "\n",
       "       c1_voxel_sum_adjusted  \n",
       "0                 135.363636  \n",
       "1                 -47.294118  \n",
       "2                  25.176471  \n",
       "3                -298.941176  \n",
       "4                  -1.588235  \n",
       "...                      ...  \n",
       "43341            1379.818182  \n",
       "43342            -227.428571  \n",
       "43343            8071.897959  \n",
       "43344             193.061224  \n",
       "43345            3730.727273  \n",
       "\n",
       "[43346 rows x 41 columns]"
      ]
     },
     "execution_count": 31,
     "metadata": {},
     "output_type": "execute_result"
    }
   ],
   "source": [
    "track_df"
   ]
  },
  {
   "cell_type": "code",
   "execution_count": 32,
   "id": "bf5f0dfc-ea9c-4be7-acc0-5a9319050256",
   "metadata": {},
   "outputs": [
    {
     "data": {
      "text/plain": [
       "(43346, 41)"
      ]
     },
     "execution_count": 32,
     "metadata": {},
     "output_type": "execute_result"
    }
   ],
   "source": [
    "track_df.shape"
   ]
  },
  {
   "cell_type": "markdown",
   "id": "bcd66aa1-59b3-4129-8e83-8e6f582549c8",
   "metadata": {},
   "source": [
    "### Perform Guassian Fitting for channel 1"
   ]
  },
  {
   "cell_type": "code",
   "execution_count": 33,
   "id": "de24014c-d01a-46ca-b163-9e8d29059916",
   "metadata": {},
   "outputs": [
    {
     "name": "stderr",
     "output_type": "stream",
     "text": [
      "Processing frames:   0%|          | 0/130 [00:00<?, ?it/s]"
     ]
    },
    {
     "name": "stdout",
     "output_type": "stream",
     "text": [
      "10%(37 of 361)\n",
      "10%(38 of 380)\n",
      "20%(73 of 361)\n",
      "20%(76 of 380)\n",
      "30%(109 of 361)\n",
      "30%(114 of 380)\n",
      "40%(145 of 361)\n",
      "40%(152 of 380)\n",
      "50%(181 of 361)\n",
      "50%(190 of 380)\n",
      "60%(217 of 361)\n",
      "60%(228 of 380)\n",
      "70%(253 of 361)\n",
      "70%(266 of 380)\n",
      "80%(289 of 361)\n",
      "80%(304 of 380)\n",
      "90%(325 of 361)\n",
      "90%(342 of 380)\n"
     ]
    },
    {
     "name": "stderr",
     "output_type": "stream",
     "text": [
      "Processing frames:   2%|▏         | 2/130 [00:11<10:30,  4.92s/it]"
     ]
    },
    {
     "name": "stdout",
     "output_type": "stream",
     "text": [
      "100%(361 of 361)\n",
      "(361, 7)\n",
      "the number of times the gaussian fitting worked was 361 and the number of times the gaussian did not fit was 0\n",
      "100%(380 of 380)\n",
      "(380, 7)\n",
      "the number of times the gaussian fitting worked was 380 and the number of times the gaussian did not fit was 0\n",
      "10%(40 of 397)\n",
      "10%(37 of 366)\n",
      "20%(80 of 397)\n",
      "20%(74 of 366)\n",
      "30%(120 of 397)\n",
      "30%(110 of 366)\n",
      "40%(147 of 366)\n",
      "40%(159 of 397)\n",
      "50%(183 of 366)\n",
      "50%(199 of 397)\n",
      "60%(220 of 366)\n",
      "60%(239 of 397)\n",
      "70%(257 of 366)\n",
      "70%(278 of 397)\n",
      "80%(293 of 366)\n",
      "80%(318 of 397)\n",
      "90%(330 of 366)\n",
      "90%(358 of 397)\n"
     ]
    },
    {
     "name": "stderr",
     "output_type": "stream",
     "text": [
      "Processing frames:   2%|▏         | 3/130 [00:19<13:30,  6.38s/it]"
     ]
    },
    {
     "name": "stdout",
     "output_type": "stream",
     "text": [
      "100%(366 of 366)\n",
      "(366, 7)\n",
      "the number of times the gaussian fitting worked was 366 and the number of times the gaussian did not fit was 0\n"
     ]
    },
    {
     "name": "stderr",
     "output_type": "stream",
     "text": [
      "Processing frames:   3%|▎         | 4/130 [00:20<08:19,  3.96s/it]"
     ]
    },
    {
     "name": "stdout",
     "output_type": "stream",
     "text": [
      "100%(397 of 397)\n",
      "(397, 7)\n",
      "the number of times the gaussian fitting worked was 397 and the number of times the gaussian did not fit was 0\n",
      "10%(39 of 386)\n",
      "10%(40 of 391)\n",
      "20%(78 of 386)\n",
      "20%(79 of 391)\n",
      "30%(116 of 386)\n",
      "30%(118 of 391)\n",
      "40%(155 of 386)\n",
      "40%(157 of 391)\n",
      "50%(193 of 386)\n",
      "50%(196 of 391)\n",
      "60%(232 of 386)\n",
      "60%(235 of 391)\n",
      "70%(271 of 386)\n",
      "70%(274 of 391)\n",
      "80%(309 of 386)\n",
      "80%(313 of 391)\n",
      "90%(348 of 386)\n",
      "90%(352 of 391)\n"
     ]
    },
    {
     "name": "stderr",
     "output_type": "stream",
     "text": [
      "Processing frames:   5%|▍         | 6/130 [00:27<07:04,  3.43s/it]"
     ]
    },
    {
     "name": "stdout",
     "output_type": "stream",
     "text": [
      "100%(386 of 386)\n",
      "(386, 7)\n",
      "the number of times the gaussian fitting worked was 386 and the number of times the gaussian did not fit was 0\n",
      "100%(391 of 391)\n",
      "(391, 7)\n",
      "the number of times the gaussian fitting worked was 391 and the number of times the gaussian did not fit was 0\n",
      "10%(39 of 381)\n",
      "10%(39 of 381)\n",
      "20%(77 of 381)\n",
      "20%(77 of 381)\n",
      "30%(115 of 381)\n",
      "30%(115 of 381)\n",
      "40%(153 of 381)\n",
      "40%(153 of 381)\n",
      "50%(191 of 381)\n",
      "50%(191 of 381)\n",
      "60%(229 of 381)\n",
      "60%(229 of 381)\n",
      "70%(267 of 381)\n",
      "70%(267 of 381)\n",
      "80%(305 of 381)\n",
      "80%(305 of 381)\n",
      "90%(343 of 381)\n",
      "90%(343 of 381)\n"
     ]
    },
    {
     "name": "stderr",
     "output_type": "stream",
     "text": [
      "Processing frames:   5%|▌         | 7/130 [00:33<08:59,  4.39s/it]"
     ]
    },
    {
     "name": "stdout",
     "output_type": "stream",
     "text": [
      "100%(381 of 381)\n",
      "(381, 7)\n",
      "the number of times the gaussian fitting worked was 381 and the number of times the gaussian did not fit was 0\n"
     ]
    },
    {
     "name": "stderr",
     "output_type": "stream",
     "text": [
      "Processing frames:   6%|▌         | 8/130 [00:34<06:16,  3.09s/it]"
     ]
    },
    {
     "name": "stdout",
     "output_type": "stream",
     "text": [
      "100%(381 of 381)\n",
      "(381, 7)\n",
      "the number of times the gaussian fitting worked was 381 and the number of times the gaussian did not fit was 0\n",
      "10%(38 of 380)\n",
      "10%(39 of 387)\n",
      "20%(76 of 380)\n",
      "20%(78 of 387)\n",
      "30%(114 of 380)\n",
      "30%(117 of 387)\n",
      "40%(152 of 380)\n",
      "40%(155 of 387)\n",
      "50%(190 of 380)\n",
      "50%(194 of 387)\n",
      "60%(228 of 380)\n",
      "60%(233 of 387)\n",
      "70%(266 of 380)\n",
      "70%(271 of 387)\n",
      "80%(304 of 380)\n",
      "80%(310 of 387)\n",
      "90%(342 of 380)\n"
     ]
    },
    {
     "name": "stderr",
     "output_type": "stream",
     "text": [
      "Processing frames:   7%|▋         | 9/130 [00:40<08:24,  4.17s/it]"
     ]
    },
    {
     "name": "stdout",
     "output_type": "stream",
     "text": [
      "90%(349 of 387)\n",
      "100%(380 of 380)\n",
      "(380, 7)\n",
      "the number of times the gaussian fitting worked was 380 and the number of times the gaussian did not fit was 0\n"
     ]
    },
    {
     "name": "stderr",
     "output_type": "stream",
     "text": [
      "Processing frames:   8%|▊         | 10/130 [00:41<06:06,  3.05s/it]"
     ]
    },
    {
     "name": "stdout",
     "output_type": "stream",
     "text": [
      "100%(387 of 387)\n",
      "(387, 7)\n",
      "the number of times the gaussian fitting worked was 387 and the number of times the gaussian did not fit was 0\n",
      "10%(39 of 383)\n",
      "10%(39 of 387)\n",
      "20%(77 of 383)\n",
      "20%(78 of 387)\n",
      "30%(115 of 383)\n",
      "30%(117 of 387)\n",
      "40%(154 of 383)\n",
      "40%(155 of 387)\n",
      "50%(192 of 383)\n",
      "50%(194 of 387)\n",
      "60%(230 of 383)\n",
      "60%(233 of 387)\n",
      "70%(269 of 383)\n",
      "70%(271 of 387)\n",
      "80%(307 of 383)\n",
      "80%(310 of 387)\n",
      "90%(345 of 383)\n"
     ]
    },
    {
     "name": "stderr",
     "output_type": "stream",
     "text": [
      "Processing frames:   8%|▊         | 11/130 [00:48<08:41,  4.38s/it]"
     ]
    },
    {
     "name": "stdout",
     "output_type": "stream",
     "text": [
      "90%(349 of 387)\n",
      "100%(383 of 383)\n",
      "(383, 7)\n",
      "the number of times the gaussian fitting worked was 383 and the number of times the gaussian did not fit was 0\n"
     ]
    },
    {
     "name": "stderr",
     "output_type": "stream",
     "text": [
      "Processing frames:   9%|▉         | 12/130 [00:49<06:20,  3.22s/it]"
     ]
    },
    {
     "name": "stdout",
     "output_type": "stream",
     "text": [
      "100%(387 of 387)\n",
      "(387, 7)\n",
      "the number of times the gaussian fitting worked was 387 and the number of times the gaussian did not fit was 0\n",
      "10%(39 of 388)\n",
      "10%(40 of 394)\n",
      "20%(78 of 388)\n",
      "20%(79 of 394)\n",
      "30%(117 of 388)\n",
      "30%(119 of 394)\n",
      "40%(156 of 388)\n",
      "40%(158 of 394)\n",
      "50%(194 of 388)\n",
      "50%(197 of 394)\n",
      "60%(233 of 388)\n",
      "60%(237 of 394)\n",
      "70%(272 of 388)\n",
      "70%(276 of 394)\n",
      "80%(311 of 388)\n",
      "80%(316 of 394)\n",
      "90%(350 of 388)\n"
     ]
    },
    {
     "name": "stderr",
     "output_type": "stream",
     "text": [
      "Processing frames:  10%|█         | 13/130 [00:55<08:04,  4.14s/it]"
     ]
    },
    {
     "name": "stdout",
     "output_type": "stream",
     "text": [
      "100%(388 of 388)\n",
      "(388, 7)\n",
      "the number of times the gaussian fitting worked was 388 and the number of times the gaussian did not fit was 0\n",
      "90%(355 of 394)\n"
     ]
    },
    {
     "name": "stderr",
     "output_type": "stream",
     "text": [
      "Processing frames:  11%|█         | 14/130 [00:56<06:00,  3.10s/it]"
     ]
    },
    {
     "name": "stdout",
     "output_type": "stream",
     "text": [
      "100%(394 of 394)\n",
      "(394, 7)\n",
      "the number of times the gaussian fitting worked was 394 and the number of times the gaussian did not fit was 0\n",
      "10%(39 of 385)\n",
      "20%(77 of 385)\n",
      "10%(37 of 370)\n",
      "30%(116 of 385)\n",
      "20%(74 of 370)\n",
      "30%(111 of 370)\n",
      "40%(154 of 385)\n",
      "40%(148 of 370)\n",
      "50%(193 of 385)\n",
      "50%(185 of 370)\n",
      "60%(231 of 385)\n",
      "60%(222 of 370)\n",
      "70%(270 of 385)\n",
      "70%(259 of 370)\n",
      "80%(308 of 385)\n",
      "80%(296 of 370)\n",
      "90%(347 of 385)\n",
      "90%(333 of 370)\n"
     ]
    },
    {
     "name": "stderr",
     "output_type": "stream",
     "text": [
      "Processing frames:  12%|█▏        | 15/130 [01:02<07:46,  4.06s/it]"
     ]
    },
    {
     "name": "stdout",
     "output_type": "stream",
     "text": [
      "100%(385 of 385)\n",
      "(385, 7)\n",
      "the number of times the gaussian fitting worked was 385 and the number of times the gaussian did not fit was 0\n"
     ]
    },
    {
     "name": "stderr",
     "output_type": "stream",
     "text": [
      "Processing frames:  12%|█▏        | 16/130 [01:03<05:42,  3.00s/it]"
     ]
    },
    {
     "name": "stdout",
     "output_type": "stream",
     "text": [
      "100%(370 of 370)\n",
      "(370, 7)\n",
      "the number of times the gaussian fitting worked was 370 and the number of times the gaussian did not fit was 0\n",
      "10%(38 of 373)\n",
      "10%(38 of 378)\n",
      "20%(75 of 373)\n",
      "20%(76 of 378)\n",
      "30%(112 of 373)\n",
      "30%(114 of 378)\n",
      "40%(150 of 373)\n",
      "40%(152 of 378)\n",
      "50%(187 of 373)\n",
      "50%(189 of 378)\n",
      "60%(224 of 373)\n",
      "60%(227 of 378)\n",
      "70%(262 of 373)\n",
      "70%(265 of 378)\n",
      "80%(299 of 373)\n",
      "80%(303 of 378)\n",
      "90%(336 of 373)\n"
     ]
    },
    {
     "name": "stderr",
     "output_type": "stream",
     "text": [
      "Processing frames:  13%|█▎        | 17/130 [01:09<07:29,  3.98s/it]"
     ]
    },
    {
     "name": "stdout",
     "output_type": "stream",
     "text": [
      "90%(341 of 378)\n",
      "100%(373 of 373)\n",
      "(373, 7)\n",
      "the number of times the gaussian fitting worked was 373 and the number of times the gaussian did not fit was 0\n"
     ]
    },
    {
     "name": "stderr",
     "output_type": "stream",
     "text": [
      "Processing frames:  14%|█▍        | 18/130 [01:09<05:33,  2.98s/it]"
     ]
    },
    {
     "name": "stdout",
     "output_type": "stream",
     "text": [
      "100%(378 of 378)\n",
      "(378, 7)\n",
      "the number of times the gaussian fitting worked was 378 and the number of times the gaussian did not fit was 0\n",
      "10%(38 of 373)\n",
      "20%(75 of 373)\n",
      "10%(40 of 399)\n",
      "30%(112 of 373)\n",
      "20%(80 of 399)\n",
      "40%(150 of 373)\n",
      "30%(120 of 399)\n",
      "50%(187 of 373)\n",
      "40%(160 of 399)\n",
      "60%(224 of 373)\n",
      "50%(200 of 399)\n",
      "70%(262 of 373)\n",
      "60%(240 of 399)\n",
      "80%(299 of 373)\n",
      "70%(280 of 399)\n",
      "90%(336 of 373)\n",
      "80%(320 of 399)\n"
     ]
    },
    {
     "name": "stderr",
     "output_type": "stream",
     "text": [
      "Processing frames:  15%|█▍        | 19/130 [01:15<07:11,  3.89s/it]"
     ]
    },
    {
     "name": "stdout",
     "output_type": "stream",
     "text": [
      "100%(373 of 373)\n",
      "(373, 7)\n",
      "the number of times the gaussian fitting worked was 373 and the number of times the gaussian did not fit was 0\n",
      "90%(360 of 399)\n",
      "10%(38 of 374)\n"
     ]
    },
    {
     "name": "stderr",
     "output_type": "stream",
     "text": [
      "Processing frames:  15%|█▌        | 20/130 [01:17<05:37,  3.07s/it]"
     ]
    },
    {
     "name": "stdout",
     "output_type": "stream",
     "text": [
      "100%(399 of 399)\n",
      "(399, 7)\n",
      "the number of times the gaussian fitting worked was 399 and the number of times the gaussian did not fit was 0\n",
      "20%(75 of 374)\n",
      "10%(38 of 372)\n",
      "30%(113 of 374)\n",
      "20%(75 of 372)\n",
      "40%(150 of 374)\n",
      "30%(112 of 372)\n",
      "50%(187 of 374)\n",
      "40%(149 of 372)\n",
      "60%(225 of 374)\n",
      "50%(186 of 372)\n",
      "70%(262 of 374)\n",
      "80%(300 of 374)\n",
      "60%(224 of 372)\n",
      "90%(337 of 374)\n",
      "70%(261 of 372)\n"
     ]
    },
    {
     "name": "stderr",
     "output_type": "stream",
     "text": [
      "Processing frames:  16%|█▌        | 21/130 [01:22<06:49,  3.75s/it]"
     ]
    },
    {
     "name": "stdout",
     "output_type": "stream",
     "text": [
      "80%(298 of 372)\n",
      "100%(374 of 374)\n",
      "(374, 7)\n",
      "the gaussian did not fit\n",
      "the number of times the gaussian fitting worked was 373 and the number of times the gaussian did not fit was 1\n",
      "90%(335 of 372)\n",
      "10%(41 of 407)\n"
     ]
    },
    {
     "name": "stderr",
     "output_type": "stream",
     "text": [
      "Processing frames:  17%|█▋        | 22/130 [01:24<05:32,  3.08s/it]"
     ]
    },
    {
     "name": "stdout",
     "output_type": "stream",
     "text": [
      "100%(372 of 372)\n",
      "(372, 7)\n",
      "the number of times the gaussian fitting worked was 372 and the number of times the gaussian did not fit was 0\n",
      "20%(82 of 407)\n",
      "10%(37 of 368)\n",
      "30%(123 of 407)\n",
      "20%(74 of 368)\n",
      "40%(163 of 407)\n",
      "30%(111 of 368)\n",
      "50%(204 of 407)\n",
      "40%(148 of 368)\n",
      "60%(245 of 407)\n",
      "50%(184 of 368)\n",
      "70%(285 of 407)\n",
      "60%(221 of 368)\n",
      "80%(326 of 407)\n",
      "70%(258 of 368)\n",
      "90%(367 of 407)\n",
      "80%(295 of 368)\n"
     ]
    },
    {
     "name": "stderr",
     "output_type": "stream",
     "text": [
      "Processing frames:  18%|█▊        | 23/130 [01:29<06:52,  3.85s/it]"
     ]
    },
    {
     "name": "stdout",
     "output_type": "stream",
     "text": [
      "100%(407 of 407)\n",
      "(407, 7)\n",
      "the number of times the gaussian fitting worked was 407 and the number of times the gaussian did not fit was 0\n",
      "90%(332 of 368)\n"
     ]
    },
    {
     "name": "stderr",
     "output_type": "stream",
     "text": [
      "Processing frames:  18%|█▊        | 24/130 [01:30<05:14,  2.97s/it]"
     ]
    },
    {
     "name": "stdout",
     "output_type": "stream",
     "text": [
      "10%(39 of 384)\n",
      "100%(368 of 368)\n",
      "(368, 7)\n",
      "the number of times the gaussian fitting worked was 368 and the number of times the gaussian did not fit was 0\n",
      "20%(77 of 384)\n",
      "10%(39 of 388)\n",
      "30%(116 of 384)\n",
      "20%(78 of 388)\n",
      "40%(154 of 384)\n",
      "30%(117 of 388)\n",
      "50%(192 of 384)\n",
      "40%(156 of 388)\n",
      "60%(231 of 384)\n",
      "50%(194 of 388)\n",
      "70%(269 of 384)\n",
      "60%(233 of 388)\n",
      "80%(308 of 384)\n",
      "70%(272 of 388)\n",
      "90%(346 of 384)\n",
      "80%(311 of 388)\n"
     ]
    },
    {
     "name": "stderr",
     "output_type": "stream",
     "text": [
      "Processing frames:  19%|█▉        | 25/130 [01:36<06:48,  3.89s/it]"
     ]
    },
    {
     "name": "stdout",
     "output_type": "stream",
     "text": [
      "100%(384 of 384)\n",
      "(384, 7)\n",
      "the number of times the gaussian fitting worked was 384 and the number of times the gaussian did not fit was 0\n",
      "90%(350 of 388)\n",
      "10%(37 of 367)\n",
      "100%(388 of 388)\n",
      "(388, 7)\n",
      "the number of times the gaussian fitting worked was 388 and the number of times the gaussian did not fit was 0\n"
     ]
    },
    {
     "name": "stderr",
     "output_type": "stream",
     "text": [
      "Processing frames:  20%|██        | 26/130 [01:37<05:12,  3.01s/it]"
     ]
    },
    {
     "name": "stdout",
     "output_type": "stream",
     "text": [
      "20%(74 of 367)\n",
      "10%(36 of 358)\n",
      "30%(111 of 367)\n",
      "20%(72 of 358)\n",
      "40%(147 of 367)\n",
      "30%(108 of 358)\n",
      "50%(184 of 367)\n",
      "40%(144 of 358)\n",
      "60%(221 of 367)\n",
      "50%(179 of 358)\n",
      "70%(257 of 367)\n",
      "60%(215 of 358)\n",
      "80%(294 of 367)\n",
      "70%(251 of 358)\n",
      "90%(331 of 367)\n",
      "80%(287 of 358)\n"
     ]
    },
    {
     "name": "stderr",
     "output_type": "stream",
     "text": [
      "Processing frames:  21%|██        | 27/130 [01:43<06:33,  3.82s/it]"
     ]
    },
    {
     "name": "stdout",
     "output_type": "stream",
     "text": [
      "100%(367 of 367)\n",
      "(367, 7)\n",
      "the number of times the gaussian fitting worked was 367 and the number of times the gaussian did not fit was 0\n",
      "90%(323 of 358)\n"
     ]
    },
    {
     "name": "stderr",
     "output_type": "stream",
     "text": [
      "Processing frames:  22%|██▏       | 28/130 [01:44<04:58,  2.93s/it]"
     ]
    },
    {
     "name": "stdout",
     "output_type": "stream",
     "text": [
      "10%(38 of 374)\n",
      "100%(358 of 358)\n",
      "(358, 7)\n",
      "the number of times the gaussian fitting worked was 358 and the number of times the gaussian did not fit was 0\n",
      "20%(75 of 374)\n",
      "10%(38 of 376)\n",
      "30%(113 of 374)\n",
      "20%(76 of 376)\n",
      "40%(150 of 374)\n",
      "30%(113 of 376)\n",
      "50%(187 of 374)\n",
      "40%(151 of 376)\n",
      "60%(225 of 374)\n",
      "50%(188 of 376)\n",
      "70%(262 of 374)\n",
      "60%(226 of 376)\n",
      "80%(300 of 374)\n",
      "70%(264 of 376)\n",
      "90%(337 of 374)\n"
     ]
    },
    {
     "name": "stderr",
     "output_type": "stream",
     "text": [
      "Processing frames:  22%|██▏       | 29/130 [01:49<06:16,  3.73s/it]"
     ]
    },
    {
     "name": "stdout",
     "output_type": "stream",
     "text": [
      "80%(301 of 376)\n",
      "100%(374 of 374)\n",
      "(374, 7)\n",
      "the number of times the gaussian fitting worked was 374 and the number of times the gaussian did not fit was 0\n",
      "90%(339 of 376)\n",
      "10%(37 of 366)\n"
     ]
    },
    {
     "name": "stderr",
     "output_type": "stream",
     "text": [
      "Processing frames:  23%|██▎       | 30/130 [01:50<04:57,  2.97s/it]"
     ]
    },
    {
     "name": "stdout",
     "output_type": "stream",
     "text": [
      "100%(376 of 376)\n",
      "(376, 7)\n",
      "the number of times the gaussian fitting worked was 376 and the number of times the gaussian did not fit was 0\n",
      "20%(74 of 366)\n",
      "10%(37 of 369)\n",
      "30%(110 of 366)\n",
      "20%(74 of 369)\n",
      "40%(147 of 366)\n",
      "30%(111 of 369)\n",
      "50%(183 of 366)\n",
      "60%(220 of 366)\n",
      "40%(148 of 369)\n",
      "70%(257 of 366)\n",
      "50%(185 of 369)\n",
      "80%(293 of 366)\n",
      "60%(222 of 369)\n",
      "90%(330 of 366)\n",
      "70%(259 of 369)\n"
     ]
    },
    {
     "name": "stderr",
     "output_type": "stream",
     "text": [
      "Processing frames:  24%|██▍       | 31/130 [01:56<06:02,  3.66s/it]"
     ]
    },
    {
     "name": "stdout",
     "output_type": "stream",
     "text": [
      "100%(366 of 366)\n",
      "(366, 7)\n",
      "the number of times the gaussian fitting worked was 366 and the number of times the gaussian did not fit was 0\n",
      "80%(296 of 369)\n",
      "10%(35 of 348)\n",
      "90%(333 of 369)\n"
     ]
    },
    {
     "name": "stderr",
     "output_type": "stream",
     "text": [
      "Processing frames:  25%|██▍       | 32/130 [01:57<04:51,  2.97s/it]"
     ]
    },
    {
     "name": "stdout",
     "output_type": "stream",
     "text": [
      "20%(70 of 348)\n",
      "100%(369 of 369)\n",
      "(369, 7)\n",
      "the number of times the gaussian fitting worked was 369 and the number of times the gaussian did not fit was 0\n",
      "30%(105 of 348)\n",
      "10%(37 of 365)\n",
      "40%(140 of 348)\n",
      "20%(73 of 365)\n",
      "50%(174 of 348)\n",
      "30%(110 of 365)\n",
      "60%(209 of 348)\n",
      "40%(146 of 365)\n",
      "70%(244 of 348)\n",
      "50%(183 of 365)\n",
      "80%(279 of 348)\n",
      "60%(219 of 365)\n",
      "90%(314 of 348)\n",
      "70%(256 of 365)\n"
     ]
    },
    {
     "name": "stderr",
     "output_type": "stream",
     "text": [
      "Processing frames:  25%|██▌       | 33/130 [02:04<06:52,  4.25s/it]"
     ]
    },
    {
     "name": "stdout",
     "output_type": "stream",
     "text": [
      "100%(348 of 348)\n",
      "(348, 7)\n",
      "the number of times the gaussian fitting worked was 348 and the number of times the gaussian did not fit was 0\n",
      "80%(292 of 365)\n",
      "10%(37 of 370)\n",
      "90%(329 of 365)\n",
      "20%(74 of 370)\n"
     ]
    },
    {
     "name": "stderr",
     "output_type": "stream",
     "text": [
      "Processing frames:  26%|██▌       | 34/130 [02:06<05:46,  3.61s/it]"
     ]
    },
    {
     "name": "stdout",
     "output_type": "stream",
     "text": [
      "100%(365 of 365)\n",
      "(365, 7)\n",
      "the number of times the gaussian fitting worked was 365 and the number of times the gaussian did not fit was 0\n",
      "30%(111 of 370)\n",
      "10%(39 of 385)\n",
      "40%(148 of 370)\n",
      "20%(77 of 385)\n",
      "50%(185 of 370)\n",
      "30%(116 of 385)\n",
      "60%(222 of 370)\n",
      "40%(154 of 385)\n",
      "70%(259 of 370)\n",
      "50%(193 of 385)\n",
      "80%(296 of 370)\n",
      "60%(231 of 385)\n",
      "90%(333 of 370)\n",
      "70%(270 of 385)\n"
     ]
    },
    {
     "name": "stderr",
     "output_type": "stream",
     "text": [
      "Processing frames:  27%|██▋       | 35/130 [02:13<07:10,  4.53s/it]"
     ]
    },
    {
     "name": "stdout",
     "output_type": "stream",
     "text": [
      "100%(370 of 370)\n",
      "(370, 7)\n",
      "the number of times the gaussian fitting worked was 370 and the number of times the gaussian did not fit was 0\n",
      "80%(308 of 385)\n",
      "10%(37 of 368)\n",
      "90%(347 of 385)\n",
      "20%(74 of 368)\n"
     ]
    },
    {
     "name": "stderr",
     "output_type": "stream",
     "text": [
      "Processing frames:  28%|██▊       | 36/130 [02:15<05:47,  3.70s/it]"
     ]
    },
    {
     "name": "stdout",
     "output_type": "stream",
     "text": [
      "100%(385 of 385)\n",
      "(385, 7)\n",
      "the number of times the gaussian fitting worked was 385 and the number of times the gaussian did not fit was 0\n",
      "30%(111 of 368)\n",
      "10%(36 of 359)\n",
      "40%(148 of 368)\n",
      "20%(72 of 359)\n",
      "50%(184 of 368)\n",
      "30%(108 of 359)\n",
      "60%(221 of 368)\n",
      "40%(144 of 359)\n",
      "70%(258 of 368)\n",
      "50%(180 of 359)\n",
      "80%(295 of 368)\n",
      "60%(216 of 359)\n",
      "90%(332 of 368)\n",
      "70%(252 of 359)\n"
     ]
    },
    {
     "name": "stderr",
     "output_type": "stream",
     "text": [
      "Processing frames:  28%|██▊       | 37/130 [02:20<06:20,  4.09s/it]"
     ]
    },
    {
     "name": "stdout",
     "output_type": "stream",
     "text": [
      "100%(368 of 368)\n",
      "(368, 7)\n",
      "the number of times the gaussian fitting worked was 368 and the number of times the gaussian did not fit was 0\n",
      "80%(288 of 359)\n",
      "10%(36 of 355)\n",
      "90%(324 of 359)\n",
      "20%(71 of 355)\n"
     ]
    },
    {
     "name": "stderr",
     "output_type": "stream",
     "text": [
      "Processing frames:  29%|██▉       | 38/130 [02:21<05:08,  3.36s/it]"
     ]
    },
    {
     "name": "stdout",
     "output_type": "stream",
     "text": [
      "100%(359 of 359)\n",
      "(359, 7)\n",
      "the number of times the gaussian fitting worked was 359 and the number of times the gaussian did not fit was 0\n",
      "30%(107 of 355)\n",
      "10%(35 of 348)\n",
      "40%(142 of 355)\n",
      "20%(70 of 348)\n",
      "50%(178 of 355)\n",
      "30%(105 of 348)\n",
      "60%(213 of 355)\n",
      "40%(140 of 348)\n",
      "70%(249 of 355)\n",
      "50%(174 of 348)\n",
      "80%(284 of 355)\n",
      "60%(209 of 348)\n",
      "90%(320 of 355)\n",
      "70%(244 of 348)\n"
     ]
    },
    {
     "name": "stderr",
     "output_type": "stream",
     "text": [
      "Processing frames:  30%|███       | 39/130 [02:26<05:45,  3.80s/it]"
     ]
    },
    {
     "name": "stdout",
     "output_type": "stream",
     "text": [
      "100%(355 of 355)\n",
      "(355, 7)\n",
      "the number of times the gaussian fitting worked was 355 and the number of times the gaussian did not fit was 0\n",
      "80%(279 of 348)\n",
      "10%(37 of 361)\n",
      "90%(314 of 348)\n"
     ]
    },
    {
     "name": "stderr",
     "output_type": "stream",
     "text": [
      "Processing frames:  31%|███       | 40/130 [02:28<04:39,  3.10s/it]"
     ]
    },
    {
     "name": "stdout",
     "output_type": "stream",
     "text": [
      "20%(73 of 361)\n",
      "100%(348 of 348)\n",
      "(348, 7)\n",
      "the number of times the gaussian fitting worked was 348 and the number of times the gaussian did not fit was 0\n",
      "30%(109 of 361)\n",
      "10%(36 of 352)\n",
      "40%(145 of 361)\n",
      "20%(71 of 352)\n",
      "50%(181 of 361)\n",
      "30%(106 of 352)\n",
      "60%(217 of 361)\n",
      "40%(141 of 352)\n",
      "70%(253 of 361)\n",
      "50%(176 of 352)\n",
      "80%(289 of 361)\n",
      "60%(212 of 352)\n",
      "90%(325 of 361)\n",
      "70%(247 of 352)\n"
     ]
    },
    {
     "name": "stderr",
     "output_type": "stream",
     "text": [
      "Processing frames:  32%|███▏      | 41/130 [02:33<05:21,  3.61s/it]"
     ]
    },
    {
     "name": "stdout",
     "output_type": "stream",
     "text": [
      "100%(361 of 361)\n",
      "(361, 7)\n",
      "the number of times the gaussian fitting worked was 361 and the number of times the gaussian did not fit was 0\n",
      "80%(282 of 352)\n",
      "10%(36 of 356)\n",
      "90%(317 of 352)\n",
      "20%(72 of 356)\n",
      "100%(352 of 352)\n",
      "(352, 7)\n"
     ]
    },
    {
     "name": "stderr",
     "output_type": "stream",
     "text": [
      "Processing frames:  32%|███▏      | 42/130 [02:34<04:28,  3.05s/it]"
     ]
    },
    {
     "name": "stdout",
     "output_type": "stream",
     "text": [
      "the number of times the gaussian fitting worked was 352 and the number of times the gaussian did not fit was 0\n",
      "30%(107 of 356)\n",
      "10%(35 of 343)\n",
      "40%(143 of 356)\n",
      "20%(69 of 343)\n",
      "50%(178 of 356)\n",
      "30%(103 of 343)\n",
      "60%(214 of 356)\n",
      "40%(138 of 343)\n",
      "70%(250 of 356)\n",
      "50%(172 of 343)\n",
      "80%(285 of 356)\n",
      "60%(206 of 343)\n",
      "90%(321 of 356)\n",
      "70%(241 of 343)\n"
     ]
    },
    {
     "name": "stderr",
     "output_type": "stream",
     "text": [
      "Processing frames:  33%|███▎      | 43/130 [02:39<05:06,  3.52s/it]"
     ]
    },
    {
     "name": "stdout",
     "output_type": "stream",
     "text": [
      "100%(356 of 356)\n",
      "(356, 7)\n",
      "the number of times the gaussian fitting worked was 356 and the number of times the gaussian did not fit was 0\n",
      "80%(275 of 343)\n",
      "10%(34 of 338)\n",
      "90%(309 of 343)\n"
     ]
    },
    {
     "name": "stderr",
     "output_type": "stream",
     "text": [
      "Processing frames:  34%|███▍      | 44/130 [02:40<04:08,  2.89s/it]"
     ]
    },
    {
     "name": "stdout",
     "output_type": "stream",
     "text": [
      "20%(68 of 338)\n",
      "100%(343 of 343)\n",
      "(343, 7)\n",
      "the number of times the gaussian fitting worked was 343 and the number of times the gaussian did not fit was 0\n",
      "30%(102 of 338)\n",
      "10%(34 of 337)\n",
      "40%(136 of 338)\n",
      "20%(68 of 337)\n",
      "50%(169 of 338)\n",
      "30%(102 of 337)\n",
      "60%(203 of 338)\n",
      "40%(135 of 337)\n",
      "70%(237 of 338)\n",
      "50%(169 of 337)\n",
      "80%(271 of 338)\n",
      "60%(203 of 337)\n",
      "90%(305 of 338)\n",
      "70%(236 of 337)\n"
     ]
    },
    {
     "name": "stderr",
     "output_type": "stream",
     "text": [
      "Processing frames:  35%|███▍      | 45/130 [02:45<04:58,  3.51s/it]"
     ]
    },
    {
     "name": "stdout",
     "output_type": "stream",
     "text": [
      "100%(338 of 338)\n",
      "(338, 7)\n",
      "the number of times the gaussian fitting worked was 338 and the number of times the gaussian did not fit was 0\n",
      "80%(270 of 337)\n",
      "10%(38 of 371)\n",
      "90%(304 of 337)\n"
     ]
    },
    {
     "name": "stderr",
     "output_type": "stream",
     "text": [
      "Processing frames:  35%|███▌      | 46/130 [02:47<04:07,  2.95s/it]"
     ]
    },
    {
     "name": "stdout",
     "output_type": "stream",
     "text": [
      "20%(75 of 371)\n",
      "100%(337 of 337)\n",
      "(337, 7)\n",
      "the number of times the gaussian fitting worked was 337 and the number of times the gaussian did not fit was 0\n",
      "30%(112 of 371)\n",
      "10%(34 of 332)\n",
      "40%(149 of 371)\n",
      "20%(67 of 332)\n",
      "50%(186 of 371)\n",
      "30%(100 of 332)\n",
      "40%(133 of 332)\n",
      "60%(223 of 371)\n",
      "50%(166 of 332)\n",
      "70%(260 of 371)\n",
      "60%(200 of 332)\n",
      "80%(297 of 371)\n",
      "70%(233 of 332)\n",
      "90%(334 of 371)\n",
      "80%(266 of 332)\n"
     ]
    },
    {
     "name": "stderr",
     "output_type": "stream",
     "text": [
      "Processing frames:  36%|███▌      | 47/130 [02:52<05:05,  3.68s/it]"
     ]
    },
    {
     "name": "stdout",
     "output_type": "stream",
     "text": [
      "100%(371 of 371)\n",
      "(371, 7)\n",
      "the number of times the gaussian fitting worked was 371 and the number of times the gaussian did not fit was 0\n",
      "90%(299 of 332)\n"
     ]
    },
    {
     "name": "stderr",
     "output_type": "stream",
     "text": [
      "Processing frames:  37%|███▋      | 48/130 [02:53<03:51,  2.83s/it]"
     ]
    },
    {
     "name": "stdout",
     "output_type": "stream",
     "text": [
      "10%(35 of 350)\n",
      "100%(332 of 332)\n",
      "(332, 7)\n",
      "the number of times the gaussian fitting worked was 332 and the number of times the gaussian did not fit was 0\n",
      "20%(70 of 350)\n",
      "10%(36 of 358)\n",
      "30%(105 of 350)\n",
      "20%(72 of 358)\n",
      "40%(140 of 350)\n",
      "30%(108 of 358)\n",
      "50%(175 of 350)\n",
      "40%(144 of 358)\n",
      "60%(210 of 350)\n",
      "50%(179 of 358)\n",
      "70%(245 of 350)\n",
      "60%(215 of 358)\n",
      "80%(280 of 350)\n",
      "70%(251 of 358)\n",
      "90%(315 of 350)\n",
      "80%(287 of 358)\n"
     ]
    },
    {
     "name": "stderr",
     "output_type": "stream",
     "text": [
      "Processing frames:  38%|███▊      | 49/130 [02:59<04:57,  3.68s/it]"
     ]
    },
    {
     "name": "stdout",
     "output_type": "stream",
     "text": [
      "100%(350 of 350)\n",
      "(350, 7)\n",
      "the number of times the gaussian fitting worked was 350 and the number of times the gaussian did not fit was 0\n",
      "90%(323 of 358)\n",
      "10%(35 of 346)\n"
     ]
    },
    {
     "name": "stderr",
     "output_type": "stream",
     "text": [
      "Processing frames:  38%|███▊      | 50/130 [03:00<04:00,  3.00s/it]"
     ]
    },
    {
     "name": "stdout",
     "output_type": "stream",
     "text": [
      "100%(358 of 358)\n",
      "(358, 7)\n",
      "the number of times the gaussian fitting worked was 358 and the number of times the gaussian did not fit was 0\n",
      "20%(70 of 346)\n",
      "10%(36 of 360)\n",
      "30%(104 of 346)\n",
      "20%(72 of 360)\n",
      "40%(139 of 346)\n",
      "30%(108 of 360)\n",
      "50%(173 of 346)\n",
      "40%(144 of 360)\n",
      "60%(208 of 346)\n",
      "50%(180 of 360)\n",
      "70%(243 of 346)\n",
      "60%(216 of 360)\n",
      "80%(277 of 346)\n",
      "70%(252 of 360)\n",
      "90%(312 of 346)\n"
     ]
    },
    {
     "name": "stderr",
     "output_type": "stream",
     "text": [
      "Processing frames:  39%|███▉      | 51/130 [03:06<04:50,  3.68s/it]"
     ]
    },
    {
     "name": "stdout",
     "output_type": "stream",
     "text": [
      "80%(288 of 360)\n",
      "100%(346 of 346)\n",
      "(346, 7)\n",
      "the number of times the gaussian fitting worked was 346 and the number of times the gaussian did not fit was 0\n",
      "90%(324 of 360)\n",
      "10%(36 of 355)\n"
     ]
    },
    {
     "name": "stderr",
     "output_type": "stream",
     "text": [
      "Processing frames:  40%|████      | 52/130 [03:07<03:52,  2.98s/it]"
     ]
    },
    {
     "name": "stdout",
     "output_type": "stream",
     "text": [
      "20%(71 of 355)\n",
      "100%(360 of 360)\n",
      "(360, 7)\n",
      "the number of times the gaussian fitting worked was 360 and the number of times the gaussian did not fit was 0\n",
      "30%(107 of 355)\n",
      "10%(35 of 344)\n",
      "40%(142 of 355)\n",
      "20%(69 of 344)\n",
      "50%(178 of 355)\n",
      "30%(104 of 344)\n",
      "60%(213 of 355)\n",
      "40%(138 of 344)\n",
      "50%(172 of 344)\n",
      "70%(249 of 355)\n",
      "60%(207 of 344)\n",
      "80%(284 of 355)\n",
      "70%(241 of 344)\n",
      "90%(320 of 355)\n"
     ]
    },
    {
     "name": "stderr",
     "output_type": "stream",
     "text": [
      "Processing frames:  41%|████      | 53/130 [03:12<04:36,  3.60s/it]"
     ]
    },
    {
     "name": "stdout",
     "output_type": "stream",
     "text": [
      "80%(276 of 344)\n",
      "100%(355 of 355)\n",
      "(355, 7)\n",
      "the number of times the gaussian fitting worked was 355 and the number of times the gaussian did not fit was 0\n",
      "90%(310 of 344)\n",
      "10%(35 of 350)\n"
     ]
    },
    {
     "name": "stderr",
     "output_type": "stream",
     "text": [
      "Processing frames:  42%|████▏     | 54/130 [03:13<03:37,  2.86s/it]"
     ]
    },
    {
     "name": "stdout",
     "output_type": "stream",
     "text": [
      "100%(344 of 344)\n",
      "(344, 7)\n",
      "the number of times the gaussian fitting worked was 344 and the number of times the gaussian did not fit was 0\n",
      "20%(70 of 350)\n",
      "10%(35 of 342)\n",
      "30%(105 of 350)\n",
      "20%(69 of 342)\n",
      "40%(140 of 350)\n",
      "50%(175 of 350)\n",
      "30%(103 of 342)\n",
      "40%(137 of 342)\n",
      "60%(210 of 350)\n",
      "50%(171 of 342)\n",
      "70%(245 of 350)\n",
      "60%(206 of 342)\n",
      "80%(280 of 350)\n",
      "70%(240 of 342)\n",
      "90%(315 of 350)\n"
     ]
    },
    {
     "name": "stderr",
     "output_type": "stream",
     "text": [
      "Processing frames:  42%|████▏     | 55/130 [03:18<04:22,  3.50s/it]"
     ]
    },
    {
     "name": "stdout",
     "output_type": "stream",
     "text": [
      "80%(274 of 342)\n",
      "100%(350 of 350)\n",
      "(350, 7)\n",
      "the number of times the gaussian fitting worked was 350 and the number of times the gaussian did not fit was 0\n",
      "90%(308 of 342)\n",
      "10%(33 of 324)\n"
     ]
    },
    {
     "name": "stderr",
     "output_type": "stream",
     "text": [
      "Processing frames:  43%|████▎     | 56/130 [03:19<03:28,  2.82s/it]"
     ]
    },
    {
     "name": "stdout",
     "output_type": "stream",
     "text": [
      "100%(342 of 342)\n",
      "(342, 7)\n",
      "the number of times the gaussian fitting worked was 342 and the number of times the gaussian did not fit was 0\n",
      "20%(65 of 324)\n",
      "10%(35 of 346)\n",
      "30%(98 of 324)\n",
      "20%(70 of 346)\n",
      "40%(130 of 324)\n",
      "50%(162 of 324)\n",
      "30%(104 of 346)\n",
      "60%(195 of 324)\n",
      "40%(139 of 346)\n",
      "70%(227 of 324)\n",
      "50%(173 of 346)\n",
      "80%(260 of 324)\n",
      "60%(208 of 346)\n",
      "90%(292 of 324)\n",
      "70%(243 of 346)\n"
     ]
    },
    {
     "name": "stderr",
     "output_type": "stream",
     "text": [
      "Processing frames:  44%|████▍     | 57/130 [03:24<04:07,  3.40s/it]"
     ]
    },
    {
     "name": "stdout",
     "output_type": "stream",
     "text": [
      "100%(324 of 324)\n",
      "(324, 7)\n",
      "the number of times the gaussian fitting worked was 324 and the number of times the gaussian did not fit was 0\n",
      "80%(277 of 346)\n",
      "10%(34 of 340)\n",
      "90%(312 of 346)\n",
      "20%(68 of 340)\n"
     ]
    },
    {
     "name": "stderr",
     "output_type": "stream",
     "text": [
      "Processing frames:  45%|████▍     | 58/130 [03:26<03:24,  2.83s/it]"
     ]
    },
    {
     "name": "stdout",
     "output_type": "stream",
     "text": [
      "100%(346 of 346)\n",
      "(346, 7)\n",
      "the number of times the gaussian fitting worked was 346 and the number of times the gaussian did not fit was 0\n",
      "30%(102 of 340)\n",
      "10%(33 of 325)\n",
      "40%(136 of 340)\n",
      "20%(65 of 325)\n",
      "50%(170 of 340)\n",
      "30%(98 of 325)\n",
      "60%(204 of 340)\n",
      "40%(130 of 325)\n",
      "70%(238 of 340)\n",
      "50%(163 of 325)\n",
      "80%(272 of 340)\n",
      "60%(195 of 325)\n",
      "90%(306 of 340)\n",
      "70%(228 of 325)\n"
     ]
    },
    {
     "name": "stderr",
     "output_type": "stream",
     "text": [
      "Processing frames:  45%|████▌     | 59/130 [03:30<03:54,  3.31s/it]"
     ]
    },
    {
     "name": "stdout",
     "output_type": "stream",
     "text": [
      "100%(340 of 340)\n",
      "(340, 7)\n",
      "the number of times the gaussian fitting worked was 340 and the number of times the gaussian did not fit was 0\n",
      "80%(260 of 325)\n",
      "10%(35 of 344)\n",
      "90%(293 of 325)\n"
     ]
    },
    {
     "name": "stderr",
     "output_type": "stream",
     "text": [
      "Processing frames:  46%|████▌     | 60/130 [03:32<03:14,  2.78s/it]"
     ]
    },
    {
     "name": "stdout",
     "output_type": "stream",
     "text": [
      "20%(69 of 344)\n",
      "100%(325 of 325)\n",
      "(325, 7)\n",
      "the number of times the gaussian fitting worked was 325 and the number of times the gaussian did not fit was 0\n",
      "30%(104 of 344)\n",
      "10%(33 of 327)\n",
      "40%(138 of 344)\n",
      "20%(66 of 327)\n",
      "50%(172 of 344)\n",
      "30%(99 of 327)\n",
      "60%(207 of 344)\n",
      "40%(131 of 327)\n",
      "70%(241 of 344)\n",
      "50%(164 of 327)\n",
      "80%(276 of 344)\n",
      "60%(197 of 327)\n",
      "90%(310 of 344)\n",
      "70%(229 of 327)\n"
     ]
    },
    {
     "name": "stderr",
     "output_type": "stream",
     "text": [
      "Processing frames:  47%|████▋     | 61/130 [03:36<03:50,  3.34s/it]"
     ]
    },
    {
     "name": "stdout",
     "output_type": "stream",
     "text": [
      "100%(344 of 344)\n",
      "(344, 7)\n",
      "the number of times the gaussian fitting worked was 344 and the number of times the gaussian did not fit was 0\n",
      "80%(262 of 327)\n",
      "90%(295 of 327)\n",
      "10%(37 of 366)\n"
     ]
    },
    {
     "name": "stderr",
     "output_type": "stream",
     "text": [
      "Processing frames:  48%|████▊     | 62/130 [03:37<03:03,  2.69s/it]"
     ]
    },
    {
     "name": "stdout",
     "output_type": "stream",
     "text": [
      "100%(327 of 327)\n",
      "(327, 7)\n",
      "the number of times the gaussian fitting worked was 327 and the number of times the gaussian did not fit was 0\n",
      "20%(74 of 366)\n",
      "10%(34 of 333)\n",
      "30%(110 of 366)\n",
      "20%(67 of 333)\n",
      "40%(147 of 366)\n",
      "30%(100 of 333)\n",
      "50%(183 of 366)\n",
      "40%(134 of 333)\n",
      "60%(220 of 366)\n",
      "50%(167 of 333)\n",
      "70%(257 of 366)\n",
      "60%(200 of 333)\n",
      "80%(293 of 366)\n",
      "70%(234 of 333)\n",
      "80%(267 of 333)\n",
      "90%(330 of 366)\n"
     ]
    },
    {
     "name": "stderr",
     "output_type": "stream",
     "text": [
      "Processing frames:  48%|████▊     | 63/130 [03:43<03:58,  3.57s/it]"
     ]
    },
    {
     "name": "stdout",
     "output_type": "stream",
     "text": [
      "90%(300 of 333)\n",
      "100%(366 of 366)\n",
      "(366, 7)\n",
      "the number of times the gaussian fitting worked was 366 and the number of times the gaussian did not fit was 0\n"
     ]
    },
    {
     "name": "stderr",
     "output_type": "stream",
     "text": [
      "Processing frames:  49%|████▉     | 64/130 [03:43<02:55,  2.65s/it]"
     ]
    },
    {
     "name": "stdout",
     "output_type": "stream",
     "text": [
      "100%(333 of 333)\n",
      "(333, 7)\n",
      "the number of times the gaussian fitting worked was 333 and the number of times the gaussian did not fit was 0\n",
      "10%(32 of 320)\n",
      "10%(31 of 309)\n",
      "20%(64 of 320)\n",
      "20%(62 of 309)\n",
      "30%(96 of 320)\n",
      "30%(93 of 309)\n",
      "40%(128 of 320)\n",
      "40%(124 of 309)\n",
      "50%(160 of 320)\n",
      "50%(155 of 309)\n",
      "60%(192 of 320)\n",
      "60%(186 of 309)\n",
      "70%(224 of 320)\n",
      "70%(217 of 309)\n",
      "80%(256 of 320)\n",
      "80%(248 of 309)\n",
      "90%(288 of 320)\n"
     ]
    },
    {
     "name": "stderr",
     "output_type": "stream",
     "text": [
      "Processing frames:  50%|█████     | 65/130 [03:49<03:43,  3.43s/it]"
     ]
    },
    {
     "name": "stdout",
     "output_type": "stream",
     "text": [
      "100%(320 of 320)\n",
      "(320, 7)\n",
      "the number of times the gaussian fitting worked was 320 and the number of times the gaussian did not fit was 0\n",
      "90%(279 of 309)\n"
     ]
    },
    {
     "name": "stderr",
     "output_type": "stream",
     "text": [
      "Processing frames:  51%|█████     | 66/130 [03:49<02:43,  2.56s/it]"
     ]
    },
    {
     "name": "stdout",
     "output_type": "stream",
     "text": [
      "100%(309 of 309)\n",
      "(309, 7)\n",
      "the number of times the gaussian fitting worked was 309 and the number of times the gaussian did not fit was 0\n",
      "10%(34 of 336)\n",
      "10%(34 of 337)\n",
      "20%(68 of 336)\n",
      "20%(68 of 337)\n",
      "30%(101 of 336)\n",
      "40%(135 of 336)\n",
      "30%(102 of 337)\n",
      "50%(168 of 336)\n",
      "40%(135 of 337)\n",
      "60%(202 of 336)\n",
      "50%(169 of 337)\n",
      "60%(203 of 337)\n",
      "70%(236 of 336)\n",
      "70%(236 of 337)\n",
      "80%(269 of 336)\n",
      "80%(270 of 337)\n",
      "90%(303 of 336)\n"
     ]
    },
    {
     "name": "stderr",
     "output_type": "stream",
     "text": [
      "Processing frames:  52%|█████▏    | 67/130 [03:55<03:39,  3.48s/it]"
     ]
    },
    {
     "name": "stdout",
     "output_type": "stream",
     "text": [
      "90%(304 of 337)\n",
      "100%(336 of 336)\n",
      "(336, 7)\n",
      "the number of times the gaussian fitting worked was 336 and the number of times the gaussian did not fit was 0\n"
     ]
    },
    {
     "name": "stderr",
     "output_type": "stream",
     "text": [
      "Processing frames:  52%|█████▏    | 68/130 [03:55<02:40,  2.59s/it]"
     ]
    },
    {
     "name": "stdout",
     "output_type": "stream",
     "text": [
      "100%(337 of 337)\n",
      "(337, 7)\n",
      "the number of times the gaussian fitting worked was 337 and the number of times the gaussian did not fit was 0\n",
      "10%(34 of 339)\n",
      "10%(35 of 346)\n",
      "20%(68 of 339)\n",
      "20%(70 of 346)\n",
      "30%(102 of 339)\n",
      "30%(104 of 346)\n",
      "40%(136 of 339)\n",
      "40%(139 of 346)\n",
      "50%(170 of 339)\n",
      "50%(173 of 346)\n",
      "60%(204 of 339)\n",
      "60%(208 of 346)\n",
      "70%(238 of 339)\n",
      "80%(272 of 339)\n",
      "70%(243 of 346)\n",
      "80%(277 of 346)\n",
      "90%(306 of 339)\n"
     ]
    },
    {
     "name": "stderr",
     "output_type": "stream",
     "text": [
      "Processing frames:  53%|█████▎    | 69/130 [04:01<03:32,  3.48s/it]"
     ]
    },
    {
     "name": "stdout",
     "output_type": "stream",
     "text": [
      "90%(312 of 346)\n",
      "100%(339 of 339)\n",
      "(339, 7)\n",
      "the number of times the gaussian fitting worked was 339 and the number of times the gaussian did not fit was 0\n"
     ]
    },
    {
     "name": "stderr",
     "output_type": "stream",
     "text": [
      "Processing frames:  54%|█████▍    | 70/130 [04:02<02:37,  2.62s/it]"
     ]
    },
    {
     "name": "stdout",
     "output_type": "stream",
     "text": [
      "100%(346 of 346)\n",
      "(346, 7)\n",
      "the number of times the gaussian fitting worked was 346 and the number of times the gaussian did not fit was 0\n",
      "10%(33 of 326)\n",
      "10%(35 of 341)\n",
      "20%(66 of 326)\n",
      "20%(69 of 341)\n",
      "30%(98 of 326)\n",
      "40%(131 of 326)\n",
      "30%(103 of 341)\n",
      "50%(163 of 326)\n",
      "40%(137 of 341)\n",
      "60%(196 of 326)\n",
      "50%(171 of 341)\n",
      "70%(229 of 326)\n",
      "60%(205 of 341)\n",
      "80%(261 of 326)\n",
      "70%(239 of 341)\n",
      "90%(294 of 326)\n",
      "80%(273 of 341)\n"
     ]
    },
    {
     "name": "stderr",
     "output_type": "stream",
     "text": [
      "Processing frames:  55%|█████▍    | 71/130 [04:07<03:26,  3.50s/it]"
     ]
    },
    {
     "name": "stdout",
     "output_type": "stream",
     "text": [
      "100%(326 of 326)\n",
      "(326, 7)\n",
      "the number of times the gaussian fitting worked was 326 and the number of times the gaussian did not fit was 0\n",
      "90%(307 of 341)\n"
     ]
    },
    {
     "name": "stderr",
     "output_type": "stream",
     "text": [
      "Processing frames:  55%|█████▌    | 72/130 [04:08<02:36,  2.70s/it]"
     ]
    },
    {
     "name": "stdout",
     "output_type": "stream",
     "text": [
      "10%(34 of 335)\n",
      "100%(341 of 341)\n",
      "(341, 7)\n",
      "the number of times the gaussian fitting worked was 341 and the number of times the gaussian did not fit was 0\n",
      "20%(67 of 335)\n",
      "10%(34 of 336)\n",
      "30%(101 of 335)\n",
      "20%(68 of 336)\n",
      "40%(134 of 335)\n",
      "30%(101 of 336)\n",
      "50%(168 of 335)\n",
      "40%(135 of 336)\n",
      "60%(201 of 335)\n",
      "50%(168 of 336)\n",
      "70%(235 of 335)\n",
      "60%(202 of 336)\n",
      "80%(268 of 335)\n",
      "70%(236 of 336)\n",
      "90%(302 of 335)\n",
      "80%(269 of 336)\n"
     ]
    },
    {
     "name": "stderr",
     "output_type": "stream",
     "text": [
      "Processing frames:  56%|█████▌    | 73/130 [04:13<03:17,  3.47s/it]"
     ]
    },
    {
     "name": "stdout",
     "output_type": "stream",
     "text": [
      "100%(335 of 335)\n",
      "(335, 7)\n",
      "the gaussian did not fit\n",
      "the number of times the gaussian fitting worked was 334 and the number of times the gaussian did not fit was 1\n",
      "90%(303 of 336)\n"
     ]
    },
    {
     "name": "stderr",
     "output_type": "stream",
     "text": [
      "Processing frames:  57%|█████▋    | 74/130 [04:14<02:32,  2.73s/it]"
     ]
    },
    {
     "name": "stdout",
     "output_type": "stream",
     "text": [
      "10%(36 of 351)\n",
      "100%(336 of 336)\n",
      "(336, 7)\n",
      "the number of times the gaussian fitting worked was 336 and the number of times the gaussian did not fit was 0\n",
      "20%(71 of 351)\n",
      "10%(33 of 322)\n",
      "30%(106 of 351)\n",
      "20%(65 of 322)\n",
      "40%(141 of 351)\n",
      "30%(97 of 322)\n",
      "50%(176 of 351)\n",
      "40%(129 of 322)\n",
      "60%(211 of 351)\n",
      "50%(161 of 322)\n",
      "70%(246 of 351)\n",
      "60%(194 of 322)\n",
      "70%(226 of 322)\n",
      "80%(281 of 351)\n",
      "80%(258 of 322)\n",
      "90%(316 of 351)\n",
      "90%(290 of 322)\n"
     ]
    },
    {
     "name": "stderr",
     "output_type": "stream",
     "text": [
      "Processing frames:  58%|█████▊    | 75/130 [04:20<03:16,  3.57s/it]"
     ]
    },
    {
     "name": "stdout",
     "output_type": "stream",
     "text": [
      "100%(351 of 351)\n",
      "(351, 7)\n",
      "the gaussian did not fit\n",
      "the number of times the gaussian fitting worked was 350 and the number of times the gaussian did not fit was 1\n"
     ]
    },
    {
     "name": "stderr",
     "output_type": "stream",
     "text": [
      "Processing frames:  58%|█████▊    | 76/130 [04:20<02:19,  2.57s/it]"
     ]
    },
    {
     "name": "stdout",
     "output_type": "stream",
     "text": [
      "100%(322 of 322)\n",
      "(322, 7)\n",
      "the number of times the gaussian fitting worked was 322 and the number of times the gaussian did not fit was 0\n",
      "10%(32 of 318)\n",
      "10%(33 of 327)\n",
      "20%(64 of 318)\n",
      "20%(66 of 327)\n",
      "30%(96 of 318)\n",
      "30%(99 of 327)\n",
      "40%(128 of 318)\n",
      "40%(131 of 327)\n",
      "50%(159 of 318)\n",
      "50%(164 of 327)\n",
      "60%(191 of 318)\n",
      "60%(197 of 327)\n",
      "70%(223 of 318)\n",
      "70%(229 of 327)\n",
      "80%(255 of 318)\n",
      "80%(262 of 327)\n",
      "90%(287 of 318)\n"
     ]
    },
    {
     "name": "stderr",
     "output_type": "stream",
     "text": [
      "Processing frames:  59%|█████▉    | 77/130 [04:25<03:01,  3.42s/it]"
     ]
    },
    {
     "name": "stdout",
     "output_type": "stream",
     "text": [
      "90%(295 of 327)\n",
      "100%(318 of 318)\n",
      "(318, 7)\n",
      "the number of times the gaussian fitting worked was 318 and the number of times the gaussian did not fit was 0\n"
     ]
    },
    {
     "name": "stderr",
     "output_type": "stream",
     "text": [
      "Processing frames:  60%|██████    | 78/130 [04:26<02:12,  2.55s/it]"
     ]
    },
    {
     "name": "stdout",
     "output_type": "stream",
     "text": [
      "100%(327 of 327)\n",
      "(327, 7)\n",
      "the number of times the gaussian fitting worked was 327 and the number of times the gaussian did not fit was 0\n",
      "10%(33 of 323)\n",
      "10%(33 of 323)\n",
      "20%(65 of 323)\n",
      "20%(65 of 323)\n",
      "30%(97 of 323)\n",
      "30%(97 of 323)\n",
      "40%(130 of 323)\n",
      "40%(130 of 323)\n",
      "50%(162 of 323)\n",
      "50%(162 of 323)\n",
      "60%(194 of 323)\n",
      "60%(194 of 323)\n",
      "70%(227 of 323)\n",
      "70%(227 of 323)\n",
      "80%(259 of 323)\n",
      "80%(259 of 323)\n",
      "90%(291 of 323)\n"
     ]
    },
    {
     "name": "stderr",
     "output_type": "stream",
     "text": [
      "Processing frames:  61%|██████    | 79/130 [04:31<02:52,  3.38s/it]"
     ]
    },
    {
     "name": "stdout",
     "output_type": "stream",
     "text": [
      "90%(291 of 323)\n",
      "100%(323 of 323)\n",
      "(323, 7)\n",
      "the number of times the gaussian fitting worked was 323 and the number of times the gaussian did not fit was 0\n"
     ]
    },
    {
     "name": "stderr",
     "output_type": "stream",
     "text": [
      "Processing frames:  62%|██████▏   | 80/130 [04:32<02:05,  2.50s/it]"
     ]
    },
    {
     "name": "stdout",
     "output_type": "stream",
     "text": [
      "100%(323 of 323)\n",
      "(323, 7)\n",
      "the number of times the gaussian fitting worked was 323 and the number of times the gaussian did not fit was 0\n",
      "10%(35 of 342)\n",
      "10%(31 of 309)\n",
      "20%(69 of 342)\n",
      "20%(62 of 309)\n",
      "30%(103 of 342)\n",
      "30%(93 of 309)\n",
      "40%(137 of 342)\n",
      "40%(124 of 309)\n",
      "50%(171 of 342)\n",
      "50%(155 of 309)\n",
      "60%(206 of 342)\n",
      "60%(186 of 309)\n",
      "70%(217 of 309)\n",
      "70%(240 of 342)\n",
      "80%(274 of 342)\n",
      "80%(248 of 309)\n",
      "90%(308 of 342)\n",
      "90%(279 of 309)\n"
     ]
    },
    {
     "name": "stderr",
     "output_type": "stream",
     "text": [
      "Processing frames:  63%|██████▎   | 82/130 [04:37<01:57,  2.45s/it]"
     ]
    },
    {
     "name": "stdout",
     "output_type": "stream",
     "text": [
      "100%(309 of 309)\n",
      "(309, 7)\n",
      "the number of times the gaussian fitting worked was 309 and the number of times the gaussian did not fit was 0\n",
      "100%(342 of 342)\n",
      "(342, 7)\n",
      "the number of times the gaussian fitting worked was 342 and the number of times the gaussian did not fit was 0\n",
      "10%(33 of 328)\n",
      "10%(32 of 311)\n",
      "20%(66 of 328)\n",
      "20%(63 of 311)\n",
      "30%(94 of 311)\n",
      "30%(99 of 328)\n",
      "40%(125 of 311)\n",
      "40%(132 of 328)\n",
      "50%(156 of 311)\n",
      "50%(164 of 328)\n",
      "60%(187 of 311)\n",
      "60%(197 of 328)\n",
      "70%(218 of 311)\n",
      "70%(230 of 328)\n",
      "80%(249 of 311)\n",
      "80%(263 of 328)\n",
      "90%(280 of 311)\n",
      "90%(296 of 328)\n"
     ]
    },
    {
     "name": "stderr",
     "output_type": "stream",
     "text": [
      "Processing frames:  64%|██████▍   | 83/130 [04:43<02:35,  3.32s/it]"
     ]
    },
    {
     "name": "stdout",
     "output_type": "stream",
     "text": [
      "100%(311 of 311)\n",
      "(311, 7)\n",
      "the number of times the gaussian fitting worked was 311 and the number of times the gaussian did not fit was 0\n"
     ]
    },
    {
     "name": "stderr",
     "output_type": "stream",
     "text": [
      "Processing frames:  65%|██████▍   | 84/130 [04:43<01:51,  2.42s/it]"
     ]
    },
    {
     "name": "stdout",
     "output_type": "stream",
     "text": [
      "100%(328 of 328)\n",
      "(328, 7)\n",
      "the number of times the gaussian fitting worked was 328 and the number of times the gaussian did not fit was 0\n",
      "10%(32 of 312)\n",
      "10%(32 of 318)\n",
      "20%(63 of 312)\n",
      "20%(64 of 318)\n",
      "30%(94 of 312)\n",
      "30%(96 of 318)\n",
      "40%(125 of 312)\n",
      "40%(128 of 318)\n",
      "50%(156 of 312)\n",
      "50%(159 of 318)\n",
      "60%(188 of 312)\n",
      "60%(191 of 318)\n",
      "70%(219 of 312)\n",
      "70%(223 of 318)\n",
      "80%(250 of 312)\n",
      "80%(255 of 318)\n",
      "90%(281 of 312)\n",
      "90%(287 of 318)\n"
     ]
    },
    {
     "name": "stderr",
     "output_type": "stream",
     "text": [
      "Processing frames:  65%|██████▌   | 85/130 [04:49<02:34,  3.42s/it]"
     ]
    },
    {
     "name": "stdout",
     "output_type": "stream",
     "text": [
      "100%(312 of 312)\n",
      "(312, 7)\n",
      "the number of times the gaussian fitting worked was 312 and the number of times the gaussian did not fit was 0\n"
     ]
    },
    {
     "name": "stderr",
     "output_type": "stream",
     "text": [
      "Processing frames:  66%|██████▌   | 86/130 [04:49<01:48,  2.47s/it]"
     ]
    },
    {
     "name": "stdout",
     "output_type": "stream",
     "text": [
      "100%(318 of 318)\n",
      "(318, 7)\n",
      "the number of times the gaussian fitting worked was 318 and the number of times the gaussian did not fit was 0\n",
      "10%(32 of 318)\n",
      "10%(33 of 326)\n",
      "20%(64 of 318)\n",
      "20%(66 of 326)\n",
      "30%(96 of 318)\n",
      "30%(98 of 326)\n",
      "40%(128 of 318)\n",
      "40%(131 of 326)\n",
      "50%(159 of 318)\n",
      "50%(163 of 326)\n",
      "60%(191 of 318)\n",
      "60%(196 of 326)\n",
      "70%(223 of 318)\n",
      "70%(229 of 326)\n",
      "80%(255 of 318)\n",
      "80%(261 of 326)\n",
      "90%(287 of 318)\n"
     ]
    },
    {
     "name": "stderr",
     "output_type": "stream",
     "text": [
      "Processing frames:  67%|██████▋   | 87/130 [04:55<02:28,  3.45s/it]"
     ]
    },
    {
     "name": "stdout",
     "output_type": "stream",
     "text": [
      "90%(294 of 326)\n",
      "100%(318 of 318)\n",
      "(318, 7)\n",
      "the number of times the gaussian fitting worked was 318 and the number of times the gaussian did not fit was 0\n"
     ]
    },
    {
     "name": "stderr",
     "output_type": "stream",
     "text": [
      "Processing frames:  68%|██████▊   | 88/130 [04:55<01:48,  2.57s/it]"
     ]
    },
    {
     "name": "stdout",
     "output_type": "stream",
     "text": [
      "100%(326 of 326)\n",
      "(326, 7)\n",
      "the number of times the gaussian fitting worked was 326 and the number of times the gaussian did not fit was 0\n",
      "10%(31 of 307)\n",
      "20%(62 of 307)\n",
      "10%(33 of 326)\n",
      "30%(93 of 307)\n",
      "20%(66 of 326)\n",
      "40%(123 of 307)\n",
      "30%(98 of 326)\n",
      "50%(154 of 307)\n",
      "40%(131 of 326)\n",
      "60%(185 of 307)\n",
      "50%(163 of 326)\n",
      "70%(215 of 307)\n",
      "60%(196 of 326)\n",
      "80%(246 of 307)\n",
      "70%(229 of 326)\n",
      "90%(277 of 307)\n"
     ]
    },
    {
     "name": "stderr",
     "output_type": "stream",
     "text": [
      "Processing frames:  68%|██████▊   | 89/130 [05:00<02:13,  3.25s/it]"
     ]
    },
    {
     "name": "stdout",
     "output_type": "stream",
     "text": [
      "80%(261 of 326)\n",
      "100%(307 of 307)\n",
      "(307, 7)\n",
      "the number of times the gaussian fitting worked was 307 and the number of times the gaussian did not fit was 0\n",
      "90%(294 of 326)\n",
      "10%(31 of 309)\n"
     ]
    },
    {
     "name": "stderr",
     "output_type": "stream",
     "text": [
      "Processing frames:  69%|██████▉   | 90/130 [05:01<01:44,  2.61s/it]"
     ]
    },
    {
     "name": "stdout",
     "output_type": "stream",
     "text": [
      "100%(326 of 326)\n",
      "(326, 7)\n",
      "the gaussian did not fit\n",
      "the number of times the gaussian fitting worked was 325 and the number of times the gaussian did not fit was 1\n",
      "20%(62 of 309)\n",
      "10%(32 of 319)\n",
      "30%(93 of 309)\n",
      "40%(124 of 309)\n",
      "20%(64 of 319)\n",
      "30%(96 of 319)\n",
      "50%(155 of 309)\n",
      "40%(128 of 319)\n",
      "60%(186 of 309)\n",
      "50%(160 of 319)\n",
      "70%(217 of 309)\n",
      "80%(248 of 309)\n",
      "60%(192 of 319)\n",
      "90%(279 of 309)\n",
      "70%(224 of 319)\n"
     ]
    },
    {
     "name": "stderr",
     "output_type": "stream",
     "text": [
      "Processing frames:  70%|███████   | 91/130 [05:06<02:05,  3.22s/it]"
     ]
    },
    {
     "name": "stdout",
     "output_type": "stream",
     "text": [
      "100%(309 of 309)\n",
      "(309, 7)\n",
      "the number of times the gaussian fitting worked was 309 and the number of times the gaussian did not fit was 0\n",
      "80%(256 of 319)\n",
      "10%(33 of 328)\n",
      "90%(288 of 319)\n"
     ]
    },
    {
     "name": "stderr",
     "output_type": "stream",
     "text": [
      "Processing frames:  71%|███████   | 92/130 [05:07<01:40,  2.64s/it]"
     ]
    },
    {
     "name": "stdout",
     "output_type": "stream",
     "text": [
      "100%(319 of 319)\n",
      "(319, 7)\n",
      "the number of times the gaussian fitting worked was 319 and the number of times the gaussian did not fit was 0\n",
      "20%(66 of 328)\n",
      "10%(32 of 318)\n",
      "30%(99 of 328)\n",
      "20%(64 of 318)\n",
      "40%(132 of 328)\n",
      "50%(164 of 328)\n",
      "30%(96 of 318)\n",
      "60%(197 of 328)\n",
      "40%(128 of 318)\n",
      "70%(230 of 328)\n",
      "50%(159 of 318)\n",
      "80%(263 of 328)\n",
      "60%(191 of 318)\n",
      "90%(296 of 328)\n",
      "70%(223 of 318)\n"
     ]
    },
    {
     "name": "stderr",
     "output_type": "stream",
     "text": [
      "Processing frames:  72%|███████▏  | 93/130 [05:12<01:59,  3.22s/it]"
     ]
    },
    {
     "name": "stdout",
     "output_type": "stream",
     "text": [
      "100%(328 of 328)\n",
      "(328, 7)\n",
      "the number of times the gaussian fitting worked was 328 and the number of times the gaussian did not fit was 0\n",
      "80%(255 of 318)\n",
      "10%(31 of 303)\n",
      "90%(287 of 318)\n"
     ]
    },
    {
     "name": "stderr",
     "output_type": "stream",
     "text": [
      "Processing frames:  72%|███████▏  | 94/130 [05:13<01:33,  2.60s/it]"
     ]
    },
    {
     "name": "stdout",
     "output_type": "stream",
     "text": [
      "100%(318 of 318)\n",
      "20%(61 of 303)\n",
      "(318, 7)\n",
      "the number of times the gaussian fitting worked was 318 and the number of times the gaussian did not fit was 0\n",
      "30%(91 of 303)\n",
      "10%(30 of 293)\n",
      "40%(122 of 303)\n",
      "20%(59 of 293)\n",
      "50%(152 of 303)\n",
      "30%(88 of 293)\n",
      "40%(118 of 293)\n",
      "60%(182 of 303)\n",
      "50%(147 of 293)\n",
      "70%(213 of 303)\n",
      "60%(176 of 293)\n",
      "80%(243 of 303)\n",
      "70%(206 of 293)\n",
      "90%(273 of 303)\n"
     ]
    },
    {
     "name": "stderr",
     "output_type": "stream",
     "text": [
      "Processing frames:  73%|███████▎  | 95/130 [05:17<01:50,  3.16s/it]"
     ]
    },
    {
     "name": "stdout",
     "output_type": "stream",
     "text": [
      "80%(235 of 293)\n",
      "100%(303 of 303)\n",
      "(303, 7)\n",
      "the number of times the gaussian fitting worked was 303 and the number of times the gaussian did not fit was 0\n",
      "90%(264 of 293)\n",
      "10%(32 of 314)\n"
     ]
    },
    {
     "name": "stderr",
     "output_type": "stream",
     "text": [
      "Processing frames:  74%|███████▍  | 96/130 [05:19<01:27,  2.59s/it]"
     ]
    },
    {
     "name": "stdout",
     "output_type": "stream",
     "text": [
      "20%(63 of 314)\n",
      "100%(293 of 293)\n",
      "(293, 7)\n",
      "the gaussian did not fit\n",
      "the gaussian did not fit\n",
      "the number of times the gaussian fitting worked was 291 and the number of times the gaussian did not fit was 2\n",
      "30%(95 of 314)\n",
      "10%(31 of 309)\n",
      "40%(126 of 314)\n",
      "20%(62 of 309)\n",
      "50%(157 of 314)\n",
      "30%(93 of 309)\n",
      "60%(189 of 314)\n",
      "40%(124 of 309)\n",
      "70%(220 of 314)\n",
      "50%(155 of 309)\n",
      "80%(252 of 314)\n",
      "60%(186 of 309)\n",
      "90%(283 of 314)\n",
      "70%(217 of 309)\n"
     ]
    },
    {
     "name": "stderr",
     "output_type": "stream",
     "text": [
      "Processing frames:  75%|███████▍  | 97/130 [05:23<01:46,  3.22s/it]"
     ]
    },
    {
     "name": "stdout",
     "output_type": "stream",
     "text": [
      "100%(314 of 314)\n",
      "(314, 7)\n",
      "the number of times the gaussian fitting worked was 314 and the number of times the gaussian did not fit was 0\n",
      "80%(248 of 309)\n",
      "10%(31 of 303)\n",
      "90%(279 of 309)\n"
     ]
    },
    {
     "name": "stderr",
     "output_type": "stream",
     "text": [
      "Processing frames:  75%|███████▌  | 98/130 [05:25<01:24,  2.63s/it]"
     ]
    },
    {
     "name": "stdout",
     "output_type": "stream",
     "text": [
      "20%(61 of 303)\n",
      "100%(309 of 309)\n",
      "(309, 7)\n",
      "the number of times the gaussian fitting worked was 309 and the number of times the gaussian did not fit was 0\n",
      "30%(91 of 303)\n",
      "10%(33 of 323)\n",
      "40%(122 of 303)\n",
      "20%(65 of 323)\n",
      "50%(152 of 303)\n",
      "30%(97 of 323)\n",
      "60%(182 of 303)\n",
      "40%(130 of 323)\n",
      "70%(213 of 303)\n",
      "50%(162 of 323)\n",
      "80%(243 of 303)\n",
      "60%(194 of 323)\n",
      "90%(273 of 303)\n"
     ]
    },
    {
     "name": "stderr",
     "output_type": "stream",
     "text": [
      "Processing frames:  76%|███████▌  | 99/130 [05:29<01:36,  3.11s/it]"
     ]
    },
    {
     "name": "stdout",
     "output_type": "stream",
     "text": [
      "100%(303 of 303)\n",
      "(303, 7)\n",
      "the number of times the gaussian fitting worked was 303 and the number of times the gaussian did not fit was 0\n",
      "70%(227 of 323)\n",
      "80%(259 of 323)\n",
      "10%(31 of 305)\n",
      "90%(291 of 323)\n",
      "20%(61 of 305)\n"
     ]
    },
    {
     "name": "stderr",
     "output_type": "stream",
     "text": [
      "Processing frames:  77%|███████▋  | 100/130 [05:31<01:20,  2.69s/it]"
     ]
    },
    {
     "name": "stdout",
     "output_type": "stream",
     "text": [
      "30%(92 of 305)\n",
      "100%(323 of 323)\n",
      "(323, 7)\n",
      "the number of times the gaussian fitting worked was 323 and the number of times the gaussian did not fit was 0\n",
      "40%(122 of 305)\n",
      "10%(33 of 321)\n",
      "50%(153 of 305)\n",
      "20%(65 of 321)\n",
      "60%(183 of 305)\n",
      "30%(97 of 321)\n",
      "70%(214 of 305)\n",
      "40%(129 of 321)\n",
      "80%(244 of 305)\n",
      "50%(161 of 321)\n",
      "90%(275 of 305)\n",
      "60%(193 of 321)\n"
     ]
    },
    {
     "name": "stderr",
     "output_type": "stream",
     "text": [
      "Processing frames:  78%|███████▊  | 101/130 [05:34<01:28,  3.04s/it]"
     ]
    },
    {
     "name": "stdout",
     "output_type": "stream",
     "text": [
      "100%(305 of 305)\n",
      "(305, 7)\n",
      "the number of times the gaussian fitting worked was 305 and the number of times the gaussian did not fit was 0\n",
      "70%(225 of 321)\n",
      "10%(31 of 309)\n",
      "80%(257 of 321)\n",
      "20%(62 of 309)\n",
      "90%(289 of 321)\n",
      "30%(93 of 309)\n"
     ]
    },
    {
     "name": "stderr",
     "output_type": "stream",
     "text": [
      "Processing frames:  78%|███████▊  | 102/130 [05:36<01:15,  2.70s/it]"
     ]
    },
    {
     "name": "stdout",
     "output_type": "stream",
     "text": [
      "100%(321 of 321)\n",
      "(321, 7)\n",
      "the number of times the gaussian fitting worked was 321 and the number of times the gaussian did not fit was 0\n",
      "40%(124 of 309)\n",
      "10%(32 of 313)\n",
      "50%(155 of 309)\n",
      "20%(63 of 313)\n",
      "60%(186 of 309)\n",
      "30%(94 of 313)\n",
      "70%(217 of 309)\n",
      "40%(126 of 313)\n",
      "80%(248 of 309)\n",
      "50%(157 of 313)\n",
      "90%(279 of 309)\n",
      "60%(188 of 313)\n"
     ]
    },
    {
     "name": "stderr",
     "output_type": "stream",
     "text": [
      "Processing frames:  79%|███████▉  | 103/130 [05:40<01:20,  2.98s/it]"
     ]
    },
    {
     "name": "stdout",
     "output_type": "stream",
     "text": [
      "100%(309 of 309)\n",
      "(309, 7)\n",
      "the number of times the gaussian fitting worked was 309 and the number of times the gaussian did not fit was 0\n",
      "70%(220 of 313)\n",
      "10%(31 of 301)\n",
      "80%(251 of 313)\n",
      "20%(61 of 301)\n",
      "90%(282 of 313)\n",
      "30%(91 of 301)\n"
     ]
    },
    {
     "name": "stderr",
     "output_type": "stream",
     "text": [
      "Processing frames:  80%|████████  | 104/130 [05:42<01:10,  2.71s/it]"
     ]
    },
    {
     "name": "stdout",
     "output_type": "stream",
     "text": [
      "100%(313 of 313)\n",
      "(313, 7)\n",
      "the number of times the gaussian fitting worked was 313 and the number of times the gaussian did not fit was 0\n",
      "40%(121 of 301)\n",
      "10%(28 of 280)\n",
      "50%(151 of 301)\n",
      "20%(56 of 280)\n",
      "60%(181 of 301)\n",
      "30%(84 of 280)\n",
      "70%(211 of 301)\n",
      "40%(112 of 280)\n",
      "80%(241 of 301)\n",
      "50%(140 of 280)\n",
      "90%(271 of 301)\n",
      "60%(168 of 280)\n"
     ]
    },
    {
     "name": "stderr",
     "output_type": "stream",
     "text": [
      "Processing frames:  81%|████████  | 105/130 [05:45<01:12,  2.92s/it]"
     ]
    },
    {
     "name": "stdout",
     "output_type": "stream",
     "text": [
      "100%(301 of 301)\n",
      "(301, 7)\n",
      "the number of times the gaussian fitting worked was 301 and the number of times the gaussian did not fit was 0\n",
      "70%(196 of 280)\n",
      "10%(31 of 308)\n",
      "80%(224 of 280)\n",
      "20%(62 of 308)\n",
      "90%(252 of 280)\n"
     ]
    },
    {
     "name": "stderr",
     "output_type": "stream",
     "text": [
      "Processing frames:  82%|████████▏ | 106/130 [05:48<01:03,  2.67s/it]"
     ]
    },
    {
     "name": "stdout",
     "output_type": "stream",
     "text": [
      "100%(280 of 280)\n",
      "(280, 7)\n",
      "the number of times the gaussian fitting worked was 280 and the number of times the gaussian did not fit was 0\n",
      "30%(93 of 308)\n",
      "10%(28 of 274)\n",
      "40%(124 of 308)\n",
      "20%(55 of 274)\n",
      "50%(154 of 308)\n",
      "30%(83 of 274)\n",
      "60%(185 of 308)\n",
      "40%(110 of 274)\n",
      "70%(216 of 308)\n",
      "50%(137 of 274)\n",
      "80%(247 of 308)\n",
      "60%(165 of 274)\n",
      "90%(278 of 308)\n",
      "70%(192 of 274)\n"
     ]
    },
    {
     "name": "stderr",
     "output_type": "stream",
     "text": [
      "Processing frames:  82%|████████▏ | 107/130 [05:55<01:34,  4.12s/it]"
     ]
    },
    {
     "name": "stdout",
     "output_type": "stream",
     "text": [
      "100%(308 of 308)\n",
      "(308, 7)\n",
      "the number of times the gaussian fitting worked was 308 and the number of times the gaussian did not fit was 0\n",
      "80%(220 of 274)\n",
      "10%(29 of 284)\n",
      "90%(247 of 274)\n"
     ]
    },
    {
     "name": "stderr",
     "output_type": "stream",
     "text": [
      "Processing frames:  83%|████████▎ | 108/130 [05:57<01:16,  3.49s/it]"
     ]
    },
    {
     "name": "stdout",
     "output_type": "stream",
     "text": [
      "100%(274 of 274)\n",
      "(274, 7)\n",
      "the number of times the gaussian fitting worked was 274 and the number of times the gaussian did not fit was 0\n",
      "20%(57 of 284)\n",
      "30%(86 of 284)\n",
      "10%(30 of 291)\n",
      "40%(114 of 284)\n",
      "20%(59 of 291)\n",
      "50%(142 of 284)\n",
      "30%(88 of 291)\n",
      "60%(171 of 284)\n",
      "40%(117 of 291)\n",
      "70%(199 of 284)\n",
      "50%(146 of 291)\n",
      "80%(228 of 284)\n",
      "60%(175 of 291)\n",
      "90%(256 of 284)\n",
      "70%(204 of 291)\n"
     ]
    },
    {
     "name": "stderr",
     "output_type": "stream",
     "text": [
      "Processing frames:  84%|████████▍ | 109/130 [06:02<01:21,  3.88s/it]"
     ]
    },
    {
     "name": "stdout",
     "output_type": "stream",
     "text": [
      "100%(284 of 284)\n",
      "(284, 7)\n",
      "the number of times the gaussian fitting worked was 284 and the number of times the gaussian did not fit was 0\n",
      "80%(233 of 291)\n",
      "10%(27 of 263)\n",
      "90%(262 of 291)\n"
     ]
    },
    {
     "name": "stderr",
     "output_type": "stream",
     "text": [
      "Processing frames:  85%|████████▍ | 110/130 [06:04<01:04,  3.21s/it]"
     ]
    },
    {
     "name": "stdout",
     "output_type": "stream",
     "text": [
      "20%(53 of 263)\n",
      "100%(291 of 291)\n",
      "(291, 7)\n",
      "the number of times the gaussian fitting worked was 291 and the number of times the gaussian did not fit was 0\n",
      "30%(79 of 263)\n",
      "10%(30 of 300)\n",
      "40%(106 of 263)\n",
      "20%(60 of 300)\n",
      "50%(132 of 263)\n",
      "60%(158 of 263)\n",
      "30%(90 of 300)\n",
      "70%(185 of 263)\n",
      "40%(120 of 300)\n",
      "80%(211 of 263)\n",
      "50%(150 of 300)\n",
      "90%(237 of 263)\n",
      "60%(180 of 300)\n",
      "100%(263 of 263)\n",
      "(263, 7)\n",
      "the number of times the gaussian fitting worked was 263 and the number of times the gaussian did not fit was 0\n"
     ]
    },
    {
     "name": "stderr",
     "output_type": "stream",
     "text": [
      "Processing frames:  85%|████████▌ | 111/130 [06:07<01:04,  3.41s/it]"
     ]
    },
    {
     "name": "stdout",
     "output_type": "stream",
     "text": [
      "70%(210 of 300)\n",
      "10%(29 of 289)\n",
      "80%(240 of 300)\n",
      "20%(58 of 289)\n",
      "90%(270 of 300)\n",
      "30%(87 of 289)\n"
     ]
    },
    {
     "name": "stderr",
     "output_type": "stream",
     "text": [
      "Processing frames:  86%|████████▌ | 112/130 [06:10<00:55,  3.06s/it]"
     ]
    },
    {
     "name": "stdout",
     "output_type": "stream",
     "text": [
      "100%(300 of 300)\n",
      "(300, 7)\n",
      "the number of times the gaussian fitting worked was 300 and the number of times the gaussian did not fit was 0\n",
      "40%(116 of 289)\n",
      "10%(29 of 287)\n",
      "50%(145 of 289)\n",
      "20%(58 of 287)\n",
      "60%(174 of 289)\n",
      "30%(87 of 287)\n",
      "70%(203 of 289)\n",
      "40%(115 of 287)\n",
      "80%(232 of 289)\n",
      "50%(144 of 287)\n",
      "90%(261 of 289)\n"
     ]
    },
    {
     "name": "stderr",
     "output_type": "stream",
     "text": [
      "Processing frames:  87%|████████▋ | 113/130 [06:14<00:56,  3.30s/it]"
     ]
    },
    {
     "name": "stdout",
     "output_type": "stream",
     "text": [
      "60%(173 of 287)\n",
      "100%(289 of 289)\n",
      "(289, 7)\n",
      "the number of times the gaussian fitting worked was 289 and the number of times the gaussian did not fit was 0\n",
      "70%(201 of 287)\n",
      "10%(29 of 283)\n",
      "80%(230 of 287)\n",
      "20%(57 of 283)\n",
      "90%(259 of 287)\n",
      "30%(85 of 283)\n"
     ]
    },
    {
     "name": "stderr",
     "output_type": "stream",
     "text": [
      "Processing frames:  88%|████████▊ | 114/130 [06:16<00:47,  2.97s/it]"
     ]
    },
    {
     "name": "stdout",
     "output_type": "stream",
     "text": [
      "100%(287 of 287)\n",
      "(287, 7)\n",
      "the number of times the gaussian fitting worked was 287 and the number of times the gaussian did not fit was 0\n",
      "40%(114 of 283)\n",
      "10%(28 of 271)\n",
      "50%(142 of 283)\n",
      "20%(55 of 271)\n",
      "60%(170 of 283)\n",
      "30%(82 of 271)\n",
      "70%(199 of 283)\n",
      "40%(109 of 271)\n",
      "80%(227 of 283)\n",
      "50%(136 of 271)\n",
      "90%(255 of 283)\n",
      "60%(163 of 271)\n"
     ]
    },
    {
     "name": "stderr",
     "output_type": "stream",
     "text": [
      "Processing frames:  88%|████████▊ | 115/130 [06:20<00:48,  3.23s/it]"
     ]
    },
    {
     "name": "stdout",
     "output_type": "stream",
     "text": [
      "100%(283 of 283)\n",
      "(283, 7)\n",
      "the number of times the gaussian fitting worked was 283 and the number of times the gaussian did not fit was 0\n",
      "70%(190 of 271)\n",
      "10%(30 of 291)\n",
      "80%(217 of 271)\n",
      "90%(244 of 271)\n",
      "20%(59 of 291)\n"
     ]
    },
    {
     "name": "stderr",
     "output_type": "stream",
     "text": [
      "Processing frames:  89%|████████▉ | 116/130 [06:21<00:39,  2.82s/it]"
     ]
    },
    {
     "name": "stdout",
     "output_type": "stream",
     "text": [
      "100%(271 of 271)\n",
      "(271, 7)\n",
      "the number of times the gaussian fitting worked was 271 and the number of times the gaussian did not fit was 0\n",
      "30%(88 of 291)\n",
      "10%(27 of 263)\n",
      "40%(117 of 291)\n",
      "20%(53 of 263)\n",
      "50%(146 of 291)\n",
      "30%(79 of 263)\n",
      "60%(175 of 291)\n",
      "40%(106 of 263)\n",
      "70%(204 of 291)\n",
      "50%(132 of 263)\n",
      "80%(233 of 291)\n",
      "60%(158 of 263)\n",
      "90%(262 of 291)\n",
      "70%(185 of 263)\n"
     ]
    },
    {
     "name": "stderr",
     "output_type": "stream",
     "text": [
      "Processing frames:  90%|█████████ | 117/130 [06:26<00:43,  3.32s/it]"
     ]
    },
    {
     "name": "stdout",
     "output_type": "stream",
     "text": [
      "100%(291 of 291)\n",
      "(291, 7)\n",
      "the number of times the gaussian fitting worked was 291 and the number of times the gaussian did not fit was 0\n",
      "80%(211 of 263)\n",
      "10%(29 of 281)\n",
      "90%(237 of 263)\n"
     ]
    },
    {
     "name": "stderr",
     "output_type": "stream",
     "text": [
      "Processing frames:  91%|█████████ | 118/130 [06:27<00:32,  2.68s/it]"
     ]
    },
    {
     "name": "stdout",
     "output_type": "stream",
     "text": [
      "100%(263 of 263)\n",
      "(263, 7)\n",
      "the number of times the gaussian fitting worked was 263 and the number of times the gaussian did not fit was 0\n",
      "20%(57 of 281)\n",
      "30%(85 of 281)\n",
      "10%(28 of 274)\n",
      "20%(55 of 274)\n",
      "40%(113 of 281)\n",
      "30%(83 of 274)\n",
      "50%(141 of 281)\n",
      "40%(110 of 274)\n",
      "60%(169 of 281)\n",
      "50%(137 of 274)\n",
      "70%(197 of 281)\n",
      "60%(165 of 274)\n",
      "80%(225 of 281)\n",
      "70%(192 of 274)\n",
      "90%(253 of 281)\n"
     ]
    },
    {
     "name": "stderr",
     "output_type": "stream",
     "text": [
      "Processing frames:  92%|█████████▏| 119/130 [06:32<00:35,  3.23s/it]"
     ]
    },
    {
     "name": "stdout",
     "output_type": "stream",
     "text": [
      "80%(220 of 274)\n",
      "100%(281 of 281)\n",
      "(281, 7)\n",
      "the number of times the gaussian fitting worked was 281 and the number of times the gaussian did not fit was 0\n",
      "90%(247 of 274)\n",
      "10%(28 of 275)\n"
     ]
    },
    {
     "name": "stderr",
     "output_type": "stream",
     "text": [
      "Processing frames:  92%|█████████▏| 120/130 [06:33<00:25,  2.56s/it]"
     ]
    },
    {
     "name": "stdout",
     "output_type": "stream",
     "text": [
      "100%(274 of 274)\n",
      "(274, 7)\n",
      "the number of times the gaussian fitting worked was 274 and the number of times the gaussian did not fit was 0\n",
      "20%(55 of 275)\n",
      "10%(25 of 246)\n",
      "30%(83 of 275)\n",
      "20%(50 of 246)\n",
      "40%(110 of 275)\n",
      "30%(74 of 246)\n",
      "50%(138 of 275)\n",
      "40%(99 of 246)\n",
      "60%(165 of 275)\n",
      "50%(123 of 246)\n",
      "70%(193 of 275)\n",
      "60%(148 of 246)\n",
      "70%(173 of 246)\n",
      "80%(220 of 275)\n",
      "80%(197 of 246)\n",
      "90%(248 of 275)\n"
     ]
    },
    {
     "name": "stderr",
     "output_type": "stream",
     "text": [
      "Processing frames:  93%|█████████▎| 121/130 [06:37<00:29,  3.26s/it]"
     ]
    },
    {
     "name": "stdout",
     "output_type": "stream",
     "text": [
      "90%(222 of 246)\n",
      "100%(275 of 275)\n",
      "(275, 7)\n",
      "the number of times the gaussian fitting worked was 275 and the number of times the gaussian did not fit was 0\n"
     ]
    },
    {
     "name": "stderr",
     "output_type": "stream",
     "text": [
      "Processing frames:  94%|█████████▍| 122/130 [06:38<00:19,  2.43s/it]"
     ]
    },
    {
     "name": "stdout",
     "output_type": "stream",
     "text": [
      "100%(246 of 246)\n",
      "(246, 7)\n",
      "the number of times the gaussian fitting worked was 246 and the number of times the gaussian did not fit was 0\n",
      "10%(27 of 264)\n",
      "10%(28 of 271)\n",
      "20%(53 of 264)\n",
      "20%(55 of 271)\n",
      "30%(80 of 264)\n",
      "30%(82 of 271)\n",
      "40%(106 of 264)\n",
      "40%(109 of 271)\n",
      "50%(132 of 264)\n",
      "50%(136 of 271)\n",
      "60%(159 of 264)\n",
      "60%(163 of 271)\n",
      "70%(185 of 264)\n",
      "70%(190 of 271)\n",
      "80%(212 of 264)\n",
      "80%(217 of 271)\n",
      "90%(238 of 264)\n"
     ]
    },
    {
     "name": "stderr",
     "output_type": "stream",
     "text": [
      "Processing frames:  95%|█████████▍| 123/130 [06:43<00:22,  3.26s/it]"
     ]
    },
    {
     "name": "stdout",
     "output_type": "stream",
     "text": [
      "90%(244 of 271)\n",
      "100%(264 of 264)\n",
      "(264, 7)\n",
      "the number of times the gaussian fitting worked was 264 and the number of times the gaussian did not fit was 0\n"
     ]
    },
    {
     "name": "stderr",
     "output_type": "stream",
     "text": [
      "Processing frames:  95%|█████████▌| 124/130 [06:44<00:14,  2.47s/it]"
     ]
    },
    {
     "name": "stdout",
     "output_type": "stream",
     "text": [
      "100%(271 of 271)\n",
      "(271, 7)\n",
      "the number of times the gaussian fitting worked was 271 and the number of times the gaussian did not fit was 0\n",
      "10%(26 of 260)\n",
      "20%(52 of 260)\n",
      "10%(28 of 279)\n",
      "30%(78 of 260)\n",
      "20%(56 of 279)\n",
      "40%(104 of 260)\n",
      "30%(84 of 279)\n",
      "50%(130 of 260)\n",
      "40%(112 of 279)\n",
      "60%(156 of 260)\n",
      "50%(140 of 279)\n",
      "70%(182 of 260)\n",
      "60%(168 of 279)\n",
      "80%(208 of 260)\n",
      "70%(196 of 279)\n",
      "90%(234 of 260)\n"
     ]
    },
    {
     "name": "stderr",
     "output_type": "stream",
     "text": [
      "Processing frames:  96%|█████████▌| 125/130 [06:49<00:16,  3.22s/it]"
     ]
    },
    {
     "name": "stdout",
     "output_type": "stream",
     "text": [
      "100%(260 of 260)\n",
      "(260, 7)\n",
      "the number of times the gaussian fitting worked was 260 and the number of times the gaussian did not fit was 0\n",
      "80%(224 of 279)\n",
      "90%(252 of 279)\n",
      "10%(27 of 269)\n"
     ]
    },
    {
     "name": "stderr",
     "output_type": "stream",
     "text": [
      "Processing frames:  97%|█████████▋| 126/130 [06:50<00:10,  2.63s/it]"
     ]
    },
    {
     "name": "stdout",
     "output_type": "stream",
     "text": [
      "20%(54 of 269)\n",
      "100%(279 of 279)\n",
      "(279, 7)\n",
      "the number of times the gaussian fitting worked was 279 and the number of times the gaussian did not fit was 0\n",
      "30%(81 of 269)\n",
      "10%(25 of 245)\n",
      "40%(108 of 269)\n",
      "20%(49 of 245)\n",
      "30%(74 of 245)\n",
      "50%(135 of 269)\n",
      "40%(98 of 245)\n",
      "60%(162 of 269)\n",
      "50%(123 of 245)\n",
      "70%(189 of 269)\n",
      "60%(147 of 245)\n",
      "80%(216 of 269)\n",
      "70%(172 of 245)\n",
      "90%(243 of 269)\n",
      "80%(196 of 245)\n"
     ]
    },
    {
     "name": "stderr",
     "output_type": "stream",
     "text": [
      "Processing frames:  98%|█████████▊| 127/130 [06:55<00:09,  3.21s/it]"
     ]
    },
    {
     "name": "stdout",
     "output_type": "stream",
     "text": [
      "100%(269 of 269)\n",
      "(269, 7)\n",
      "the number of times the gaussian fitting worked was 269 and the number of times the gaussian did not fit was 0\n",
      "90%(221 of 245)\n"
     ]
    },
    {
     "name": "stderr",
     "output_type": "stream",
     "text": [
      "Processing frames:  98%|█████████▊| 128/130 [06:56<00:05,  2.58s/it]"
     ]
    },
    {
     "name": "stdout",
     "output_type": "stream",
     "text": [
      "10%(25 of 244)\n",
      "100%(245 of 245)\n",
      "(245, 7)\n",
      "the number of times the gaussian fitting worked was 245 and the number of times the gaussian did not fit was 0\n",
      "20%(49 of 244)\n",
      "10%(26 of 259)\n",
      "30%(74 of 244)\n",
      "20%(52 of 259)\n",
      "40%(98 of 244)\n",
      "30%(78 of 259)\n",
      "50%(122 of 244)\n",
      "40%(104 of 259)\n",
      "60%(147 of 244)\n",
      "50%(130 of 259)\n",
      "70%(171 of 244)\n",
      "60%(156 of 259)\n",
      "80%(196 of 244)\n",
      "70%(182 of 259)\n",
      "90%(220 of 244)\n"
     ]
    },
    {
     "name": "stderr",
     "output_type": "stream",
     "text": [
      "Processing frames:  99%|█████████▉| 129/130 [07:00<00:03,  3.09s/it]"
     ]
    },
    {
     "name": "stdout",
     "output_type": "stream",
     "text": [
      "100%(244 of 244)\n",
      "(244, 7)\n",
      "the number of times the gaussian fitting worked was 244 and the number of times the gaussian did not fit was 0\n",
      "80%(208 of 259)\n",
      "90%(234 of 259)\n"
     ]
    },
    {
     "name": "stderr",
     "output_type": "stream",
     "text": [
      "Processing frames: 100%|██████████| 130/130 [07:01<00:00,  3.24s/it]"
     ]
    },
    {
     "name": "stdout",
     "output_type": "stream",
     "text": [
      "100%(259 of 259)\n",
      "(259, 7)\n",
      "the number of times the gaussian fitting worked was 259 and the number of times the gaussian did not fit was 0\n"
     ]
    },
    {
     "name": "stderr",
     "output_type": "stream",
     "text": [
      "\n"
     ]
    },
    {
     "name": "stdout",
     "output_type": "stream",
     "text": [
      "time taken (seconds) 422.38306283950806\n"
     ]
    }
   ],
   "source": [
    "start_time = time.time()\n",
    "channel1_gaussians_df = extractor.run_parallel_frame_processing(expected_sigma = [4,2,2], \n",
    "                                        center_col_name = ['c1_peak_z', 'c1_peak_y', 'c1_peak_x'], \n",
    "                                       dist_between_spots = 10, channel = 1,  max_frames =  2, all_frames = True)\n",
    "end_time = time.time()\n",
    "print('time taken (seconds)', end_time - start_time)"
   ]
  },
  {
   "cell_type": "code",
   "execution_count": 34,
   "id": "22b657a7-7581-4104-ba84-0f26509f617a",
   "metadata": {},
   "outputs": [
    {
     "data": {
      "text/html": [
       "<div>\n",
       "<style scoped>\n",
       "    .dataframe tbody tr th:only-of-type {\n",
       "        vertical-align: middle;\n",
       "    }\n",
       "\n",
       "    .dataframe tbody tr th {\n",
       "        vertical-align: top;\n",
       "    }\n",
       "\n",
       "    .dataframe thead th {\n",
       "        text-align: right;\n",
       "    }\n",
       "</style>\n",
       "<table border=\"1\" class=\"dataframe\">\n",
       "  <thead>\n",
       "    <tr style=\"text-align: right;\">\n",
       "      <th></th>\n",
       "      <th>amplitude</th>\n",
       "      <th>mu_x</th>\n",
       "      <th>mu_y</th>\n",
       "      <th>mu_z</th>\n",
       "      <th>sigma_x</th>\n",
       "      <th>sigma_y</th>\n",
       "      <th>sigma_z</th>\n",
       "      <th>frame</th>\n",
       "    </tr>\n",
       "  </thead>\n",
       "  <tbody>\n",
       "    <tr>\n",
       "      <th>0</th>\n",
       "      <td>229.333333</td>\n",
       "      <td>10.0</td>\n",
       "      <td>14.0</td>\n",
       "      <td>1.0</td>\n",
       "      <td>0.0</td>\n",
       "      <td>2.0</td>\n",
       "      <td>1.0</td>\n",
       "      <td>0</td>\n",
       "    </tr>\n",
       "    <tr>\n",
       "      <th>1</th>\n",
       "      <td>185.082663</td>\n",
       "      <td>37.0</td>\n",
       "      <td>86.0</td>\n",
       "      <td>7.0</td>\n",
       "      <td>3.0</td>\n",
       "      <td>3.0</td>\n",
       "      <td>10.0</td>\n",
       "      <td>0</td>\n",
       "    </tr>\n",
       "    <tr>\n",
       "      <th>2</th>\n",
       "      <td>196.333333</td>\n",
       "      <td>39.0</td>\n",
       "      <td>139.0</td>\n",
       "      <td>3.0</td>\n",
       "      <td>2.0</td>\n",
       "      <td>2.0</td>\n",
       "      <td>4.0</td>\n",
       "      <td>0</td>\n",
       "    </tr>\n",
       "    <tr>\n",
       "      <th>3</th>\n",
       "      <td>191.000000</td>\n",
       "      <td>43.0</td>\n",
       "      <td>58.0</td>\n",
       "      <td>3.0</td>\n",
       "      <td>4.0</td>\n",
       "      <td>2.0</td>\n",
       "      <td>3.0</td>\n",
       "      <td>0</td>\n",
       "    </tr>\n",
       "    <tr>\n",
       "      <th>4</th>\n",
       "      <td>214.000000</td>\n",
       "      <td>48.0</td>\n",
       "      <td>71.0</td>\n",
       "      <td>4.0</td>\n",
       "      <td>3.0</td>\n",
       "      <td>2.0</td>\n",
       "      <td>4.0</td>\n",
       "      <td>0</td>\n",
       "    </tr>\n",
       "    <tr>\n",
       "      <th>...</th>\n",
       "      <td>...</td>\n",
       "      <td>...</td>\n",
       "      <td>...</td>\n",
       "      <td>...</td>\n",
       "      <td>...</td>\n",
       "      <td>...</td>\n",
       "      <td>...</td>\n",
       "      <td>...</td>\n",
       "    </tr>\n",
       "    <tr>\n",
       "      <th>43341</th>\n",
       "      <td>293.865853</td>\n",
       "      <td>158.0</td>\n",
       "      <td>132.0</td>\n",
       "      <td>71.0</td>\n",
       "      <td>2.0</td>\n",
       "      <td>2.0</td>\n",
       "      <td>3.0</td>\n",
       "      <td>129</td>\n",
       "    </tr>\n",
       "    <tr>\n",
       "      <th>43342</th>\n",
       "      <td>216.000000</td>\n",
       "      <td>199.0</td>\n",
       "      <td>207.0</td>\n",
       "      <td>67.0</td>\n",
       "      <td>2.0</td>\n",
       "      <td>2.0</td>\n",
       "      <td>5.0</td>\n",
       "      <td>129</td>\n",
       "    </tr>\n",
       "    <tr>\n",
       "      <th>43343</th>\n",
       "      <td>666.333333</td>\n",
       "      <td>219.0</td>\n",
       "      <td>43.0</td>\n",
       "      <td>74.0</td>\n",
       "      <td>2.0</td>\n",
       "      <td>2.0</td>\n",
       "      <td>4.0</td>\n",
       "      <td>129</td>\n",
       "    </tr>\n",
       "    <tr>\n",
       "      <th>43344</th>\n",
       "      <td>232.333333</td>\n",
       "      <td>230.0</td>\n",
       "      <td>217.0</td>\n",
       "      <td>71.0</td>\n",
       "      <td>2.0</td>\n",
       "      <td>2.0</td>\n",
       "      <td>3.0</td>\n",
       "      <td>129</td>\n",
       "    </tr>\n",
       "    <tr>\n",
       "      <th>43345</th>\n",
       "      <td>565.180274</td>\n",
       "      <td>264.0</td>\n",
       "      <td>236.0</td>\n",
       "      <td>72.0</td>\n",
       "      <td>2.0</td>\n",
       "      <td>2.0</td>\n",
       "      <td>2.0</td>\n",
       "      <td>129</td>\n",
       "    </tr>\n",
       "  </tbody>\n",
       "</table>\n",
       "<p>43346 rows × 8 columns</p>\n",
       "</div>"
      ],
      "text/plain": [
       "        amplitude   mu_x   mu_y  mu_z  sigma_x  sigma_y  sigma_z  frame\n",
       "0      229.333333   10.0   14.0   1.0      0.0      2.0      1.0      0\n",
       "1      185.082663   37.0   86.0   7.0      3.0      3.0     10.0      0\n",
       "2      196.333333   39.0  139.0   3.0      2.0      2.0      4.0      0\n",
       "3      191.000000   43.0   58.0   3.0      4.0      2.0      3.0      0\n",
       "4      214.000000   48.0   71.0   4.0      3.0      2.0      4.0      0\n",
       "...           ...    ...    ...   ...      ...      ...      ...    ...\n",
       "43341  293.865853  158.0  132.0  71.0      2.0      2.0      3.0    129\n",
       "43342  216.000000  199.0  207.0  67.0      2.0      2.0      5.0    129\n",
       "43343  666.333333  219.0   43.0  74.0      2.0      2.0      4.0    129\n",
       "43344  232.333333  230.0  217.0  71.0      2.0      2.0      3.0    129\n",
       "43345  565.180274  264.0  236.0  72.0      2.0      2.0      2.0    129\n",
       "\n",
       "[43346 rows x 8 columns]"
      ]
     },
     "execution_count": 34,
     "metadata": {},
     "output_type": "execute_result"
    }
   ],
   "source": [
    "channel1_gaussians_df"
   ]
  },
  {
   "cell_type": "code",
   "execution_count": 35,
   "id": "3b32a53b-de84-4dba-8f42-96b29295cbf9",
   "metadata": {},
   "outputs": [],
   "source": [
    "track_df['c1_gaussian_amp'] = channel1_gaussians_df['amplitude']\n",
    "track_df['c1_mu_x'] = channel1_gaussians_df['mu_x']\n",
    "track_df['c1_mu_y'] = channel1_gaussians_df['mu_y']\n",
    "track_df['c1_mu_z'] = channel1_gaussians_df['mu_z']\n",
    "track_df['c1_sigma_x'] = channel1_gaussians_df['sigma_x']\n",
    "track_df['c1_sigma_y'] = channel1_gaussians_df['sigma_y']\n",
    "track_df['c1_sigma_z'] = channel1_gaussians_df['sigma_z']"
   ]
  },
  {
   "cell_type": "code",
   "execution_count": 36,
   "id": "b624e067-8a04-4cfa-970a-8cbf6a35b652",
   "metadata": {},
   "outputs": [
    {
     "data": {
      "text/html": [
       "<div>\n",
       "<style scoped>\n",
       "    .dataframe tbody tr th:only-of-type {\n",
       "        vertical-align: middle;\n",
       "    }\n",
       "\n",
       "    .dataframe tbody tr th {\n",
       "        vertical-align: top;\n",
       "    }\n",
       "\n",
       "    .dataframe thead th {\n",
       "        text-align: right;\n",
       "    }\n",
       "</style>\n",
       "<table border=\"1\" class=\"dataframe\">\n",
       "  <thead>\n",
       "    <tr style=\"text-align: right;\">\n",
       "      <th></th>\n",
       "      <th>frame</th>\n",
       "      <th>index</th>\n",
       "      <th>amplitude</th>\n",
       "      <th>mu_x</th>\n",
       "      <th>mu_y</th>\n",
       "      <th>mu_z</th>\n",
       "      <th>sigma_x</th>\n",
       "      <th>sigma_y</th>\n",
       "      <th>sigma_z</th>\n",
       "      <th>frame_y</th>\n",
       "      <th>...</th>\n",
       "      <th>c1_peak_z</th>\n",
       "      <th>c1_voxel_sum</th>\n",
       "      <th>c1_voxel_sum_adjusted</th>\n",
       "      <th>c1_gaussian_amp</th>\n",
       "      <th>c1_mu_x</th>\n",
       "      <th>c1_mu_y</th>\n",
       "      <th>c1_mu_z</th>\n",
       "      <th>c1_sigma_x</th>\n",
       "      <th>c1_sigma_y</th>\n",
       "      <th>c1_sigma_z</th>\n",
       "    </tr>\n",
       "  </thead>\n",
       "  <tbody>\n",
       "    <tr>\n",
       "      <th>0</th>\n",
       "      <td>0</td>\n",
       "      <td>0</td>\n",
       "      <td>206.593249</td>\n",
       "      <td>11.0</td>\n",
       "      <td>12.0</td>\n",
       "      <td>0.0</td>\n",
       "      <td>2.0</td>\n",
       "      <td>2.0</td>\n",
       "      <td>4.0</td>\n",
       "      <td>0</td>\n",
       "      <td>...</td>\n",
       "      <td>2</td>\n",
       "      <td>8395</td>\n",
       "      <td>135.363636</td>\n",
       "      <td>229.333333</td>\n",
       "      <td>10.0</td>\n",
       "      <td>14.0</td>\n",
       "      <td>1.0</td>\n",
       "      <td>0.0</td>\n",
       "      <td>2.0</td>\n",
       "      <td>1.0</td>\n",
       "    </tr>\n",
       "    <tr>\n",
       "      <th>1</th>\n",
       "      <td>0</td>\n",
       "      <td>1</td>\n",
       "      <td>191.000000</td>\n",
       "      <td>36.0</td>\n",
       "      <td>88.0</td>\n",
       "      <td>1.0</td>\n",
       "      <td>2.0</td>\n",
       "      <td>1.0</td>\n",
       "      <td>2.0</td>\n",
       "      <td>0</td>\n",
       "      <td>...</td>\n",
       "      <td>3</td>\n",
       "      <td>12758</td>\n",
       "      <td>-47.294118</td>\n",
       "      <td>185.082663</td>\n",
       "      <td>37.0</td>\n",
       "      <td>86.0</td>\n",
       "      <td>7.0</td>\n",
       "      <td>3.0</td>\n",
       "      <td>3.0</td>\n",
       "      <td>10.0</td>\n",
       "    </tr>\n",
       "    <tr>\n",
       "      <th>2</th>\n",
       "      <td>0</td>\n",
       "      <td>2</td>\n",
       "      <td>231.007679</td>\n",
       "      <td>40.0</td>\n",
       "      <td>141.0</td>\n",
       "      <td>1.0</td>\n",
       "      <td>2.0</td>\n",
       "      <td>2.0</td>\n",
       "      <td>2.0</td>\n",
       "      <td>0</td>\n",
       "      <td>...</td>\n",
       "      <td>3</td>\n",
       "      <td>12604</td>\n",
       "      <td>25.176471</td>\n",
       "      <td>196.333333</td>\n",
       "      <td>39.0</td>\n",
       "      <td>139.0</td>\n",
       "      <td>3.0</td>\n",
       "      <td>2.0</td>\n",
       "      <td>2.0</td>\n",
       "      <td>4.0</td>\n",
       "    </tr>\n",
       "    <tr>\n",
       "      <th>3</th>\n",
       "      <td>0</td>\n",
       "      <td>3</td>\n",
       "      <td>185.152538</td>\n",
       "      <td>40.0</td>\n",
       "      <td>58.0</td>\n",
       "      <td>1.0</td>\n",
       "      <td>2.0</td>\n",
       "      <td>1.0</td>\n",
       "      <td>3.0</td>\n",
       "      <td>0</td>\n",
       "      <td>...</td>\n",
       "      <td>3</td>\n",
       "      <td>12234</td>\n",
       "      <td>-298.941176</td>\n",
       "      <td>191.000000</td>\n",
       "      <td>43.0</td>\n",
       "      <td>58.0</td>\n",
       "      <td>3.0</td>\n",
       "      <td>4.0</td>\n",
       "      <td>2.0</td>\n",
       "      <td>3.0</td>\n",
       "    </tr>\n",
       "    <tr>\n",
       "      <th>4</th>\n",
       "      <td>0</td>\n",
       "      <td>4</td>\n",
       "      <td>202.000000</td>\n",
       "      <td>46.0</td>\n",
       "      <td>73.0</td>\n",
       "      <td>1.0</td>\n",
       "      <td>2.0</td>\n",
       "      <td>2.0</td>\n",
       "      <td>3.0</td>\n",
       "      <td>0</td>\n",
       "      <td>...</td>\n",
       "      <td>4</td>\n",
       "      <td>12659</td>\n",
       "      <td>-1.588235</td>\n",
       "      <td>214.000000</td>\n",
       "      <td>48.0</td>\n",
       "      <td>71.0</td>\n",
       "      <td>4.0</td>\n",
       "      <td>3.0</td>\n",
       "      <td>2.0</td>\n",
       "      <td>4.0</td>\n",
       "    </tr>\n",
       "    <tr>\n",
       "      <th>...</th>\n",
       "      <td>...</td>\n",
       "      <td>...</td>\n",
       "      <td>...</td>\n",
       "      <td>...</td>\n",
       "      <td>...</td>\n",
       "      <td>...</td>\n",
       "      <td>...</td>\n",
       "      <td>...</td>\n",
       "      <td>...</td>\n",
       "      <td>...</td>\n",
       "      <td>...</td>\n",
       "      <td>...</td>\n",
       "      <td>...</td>\n",
       "      <td>...</td>\n",
       "      <td>...</td>\n",
       "      <td>...</td>\n",
       "      <td>...</td>\n",
       "      <td>...</td>\n",
       "      <td>...</td>\n",
       "      <td>...</td>\n",
       "      <td>...</td>\n",
       "    </tr>\n",
       "    <tr>\n",
       "      <th>43341</th>\n",
       "      <td>129</td>\n",
       "      <td>254</td>\n",
       "      <td>177.830039</td>\n",
       "      <td>160.0</td>\n",
       "      <td>133.0</td>\n",
       "      <td>72.0</td>\n",
       "      <td>2.0</td>\n",
       "      <td>2.0</td>\n",
       "      <td>3.0</td>\n",
       "      <td>129</td>\n",
       "      <td>...</td>\n",
       "      <td>71</td>\n",
       "      <td>24469</td>\n",
       "      <td>1379.818182</td>\n",
       "      <td>293.865853</td>\n",
       "      <td>158.0</td>\n",
       "      <td>132.0</td>\n",
       "      <td>71.0</td>\n",
       "      <td>2.0</td>\n",
       "      <td>2.0</td>\n",
       "      <td>3.0</td>\n",
       "    </tr>\n",
       "    <tr>\n",
       "      <th>43342</th>\n",
       "      <td>129</td>\n",
       "      <td>255</td>\n",
       "      <td>179.000000</td>\n",
       "      <td>201.0</td>\n",
       "      <td>207.0</td>\n",
       "      <td>71.0</td>\n",
       "      <td>2.0</td>\n",
       "      <td>1.0</td>\n",
       "      <td>3.0</td>\n",
       "      <td>129</td>\n",
       "      <td>...</td>\n",
       "      <td>68</td>\n",
       "      <td>23992</td>\n",
       "      <td>-227.428571</td>\n",
       "      <td>216.000000</td>\n",
       "      <td>199.0</td>\n",
       "      <td>207.0</td>\n",
       "      <td>67.0</td>\n",
       "      <td>2.0</td>\n",
       "      <td>2.0</td>\n",
       "      <td>5.0</td>\n",
       "    </tr>\n",
       "    <tr>\n",
       "      <th>43343</th>\n",
       "      <td>129</td>\n",
       "      <td>256</td>\n",
       "      <td>274.813463</td>\n",
       "      <td>219.0</td>\n",
       "      <td>45.0</td>\n",
       "      <td>71.0</td>\n",
       "      <td>2.0</td>\n",
       "      <td>2.0</td>\n",
       "      <td>2.0</td>\n",
       "      <td>129</td>\n",
       "      <td>...</td>\n",
       "      <td>73</td>\n",
       "      <td>54547</td>\n",
       "      <td>8071.897959</td>\n",
       "      <td>666.333333</td>\n",
       "      <td>219.0</td>\n",
       "      <td>43.0</td>\n",
       "      <td>74.0</td>\n",
       "      <td>2.0</td>\n",
       "      <td>2.0</td>\n",
       "      <td>4.0</td>\n",
       "    </tr>\n",
       "    <tr>\n",
       "      <th>43344</th>\n",
       "      <td>129</td>\n",
       "      <td>257</td>\n",
       "      <td>175.445348</td>\n",
       "      <td>231.0</td>\n",
       "      <td>219.0</td>\n",
       "      <td>71.0</td>\n",
       "      <td>3.0</td>\n",
       "      <td>2.0</td>\n",
       "      <td>2.0</td>\n",
       "      <td>129</td>\n",
       "      <td>...</td>\n",
       "      <td>73</td>\n",
       "      <td>23700</td>\n",
       "      <td>193.061224</td>\n",
       "      <td>232.333333</td>\n",
       "      <td>230.0</td>\n",
       "      <td>217.0</td>\n",
       "      <td>71.0</td>\n",
       "      <td>2.0</td>\n",
       "      <td>2.0</td>\n",
       "      <td>3.0</td>\n",
       "    </tr>\n",
       "    <tr>\n",
       "      <th>43345</th>\n",
       "      <td>129</td>\n",
       "      <td>258</td>\n",
       "      <td>265.000000</td>\n",
       "      <td>263.0</td>\n",
       "      <td>237.0</td>\n",
       "      <td>71.0</td>\n",
       "      <td>1.0</td>\n",
       "      <td>2.0</td>\n",
       "      <td>3.0</td>\n",
       "      <td>129</td>\n",
       "      <td>...</td>\n",
       "      <td>71</td>\n",
       "      <td>47879</td>\n",
       "      <td>3730.727273</td>\n",
       "      <td>565.180274</td>\n",
       "      <td>264.0</td>\n",
       "      <td>236.0</td>\n",
       "      <td>72.0</td>\n",
       "      <td>2.0</td>\n",
       "      <td>2.0</td>\n",
       "      <td>2.0</td>\n",
       "    </tr>\n",
       "  </tbody>\n",
       "</table>\n",
       "<p>43346 rows × 48 columns</p>\n",
       "</div>"
      ],
      "text/plain": [
       "       frame  index   amplitude   mu_x   mu_y  mu_z  sigma_x  sigma_y  \\\n",
       "0          0      0  206.593249   11.0   12.0   0.0      2.0      2.0   \n",
       "1          0      1  191.000000   36.0   88.0   1.0      2.0      1.0   \n",
       "2          0      2  231.007679   40.0  141.0   1.0      2.0      2.0   \n",
       "3          0      3  185.152538   40.0   58.0   1.0      2.0      1.0   \n",
       "4          0      4  202.000000   46.0   73.0   1.0      2.0      2.0   \n",
       "...      ...    ...         ...    ...    ...   ...      ...      ...   \n",
       "43341    129    254  177.830039  160.0  133.0  72.0      2.0      2.0   \n",
       "43342    129    255  179.000000  201.0  207.0  71.0      2.0      1.0   \n",
       "43343    129    256  274.813463  219.0   45.0  71.0      2.0      2.0   \n",
       "43344    129    257  175.445348  231.0  219.0  71.0      3.0      2.0   \n",
       "43345    129    258  265.000000  263.0  237.0  71.0      1.0      2.0   \n",
       "\n",
       "       sigma_z  frame_y  ...  c1_peak_z  c1_voxel_sum  c1_voxel_sum_adjusted  \\\n",
       "0          4.0        0  ...          2          8395             135.363636   \n",
       "1          2.0        0  ...          3         12758             -47.294118   \n",
       "2          2.0        0  ...          3         12604              25.176471   \n",
       "3          3.0        0  ...          3         12234            -298.941176   \n",
       "4          3.0        0  ...          4         12659              -1.588235   \n",
       "...        ...      ...  ...        ...           ...                    ...   \n",
       "43341      3.0      129  ...         71         24469            1379.818182   \n",
       "43342      3.0      129  ...         68         23992            -227.428571   \n",
       "43343      2.0      129  ...         73         54547            8071.897959   \n",
       "43344      2.0      129  ...         73         23700             193.061224   \n",
       "43345      3.0      129  ...         71         47879            3730.727273   \n",
       "\n",
       "       c1_gaussian_amp  c1_mu_x  c1_mu_y  c1_mu_z  c1_sigma_x  c1_sigma_y  \\\n",
       "0           229.333333     10.0     14.0      1.0         0.0         2.0   \n",
       "1           185.082663     37.0     86.0      7.0         3.0         3.0   \n",
       "2           196.333333     39.0    139.0      3.0         2.0         2.0   \n",
       "3           191.000000     43.0     58.0      3.0         4.0         2.0   \n",
       "4           214.000000     48.0     71.0      4.0         3.0         2.0   \n",
       "...                ...      ...      ...      ...         ...         ...   \n",
       "43341       293.865853    158.0    132.0     71.0         2.0         2.0   \n",
       "43342       216.000000    199.0    207.0     67.0         2.0         2.0   \n",
       "43343       666.333333    219.0     43.0     74.0         2.0         2.0   \n",
       "43344       232.333333    230.0    217.0     71.0         2.0         2.0   \n",
       "43345       565.180274    264.0    236.0     72.0         2.0         2.0   \n",
       "\n",
       "       c1_sigma_z  \n",
       "0             1.0  \n",
       "1            10.0  \n",
       "2             4.0  \n",
       "3             3.0  \n",
       "4             4.0  \n",
       "...           ...  \n",
       "43341         3.0  \n",
       "43342         5.0  \n",
       "43343         4.0  \n",
       "43344         3.0  \n",
       "43345         2.0  \n",
       "\n",
       "[43346 rows x 48 columns]"
      ]
     },
     "execution_count": 36,
     "metadata": {},
     "output_type": "execute_result"
    }
   ],
   "source": [
    "track_df"
   ]
  },
  {
   "cell_type": "code",
   "execution_count": 37,
   "id": "e955a2ba-9cb0-4305-96a4-7838dae745a7",
   "metadata": {},
   "outputs": [
    {
     "data": {
      "text/plain": [
       "Index(['frame', 'index', 'amplitude', 'mu_x', 'mu_y', 'mu_z', 'sigma_x',\n",
       "       'sigma_y', 'sigma_z', 'frame_y', 'tree_id', 'track_id', 'c3_mean_amp',\n",
       "       'c3_voxel_sum', 'c3_voxel_sum_adjusted', 'c3_peak_amp', 'c3_peak_x',\n",
       "       'c3_peak_y', 'c3_peak_z', 'c2_amp', 'c2_peak', 'c2_peak_x', 'c2_peak_y',\n",
       "       'c2_peak_z', 'c2_peak_mean', 'c2_voxel_sum', 'c2_voxel_sum_adjusted',\n",
       "       'c2_gaussian_amp', 'c2_mu_x', 'c2_mu_y', 'c2_mu_z', 'c2_sigma_x',\n",
       "       'c2_sigma_y', 'c2_sigma_z', 'c1_amp', 'c1_peak', 'c1_peak_x',\n",
       "       'c1_peak_y', 'c1_peak_z', 'c1_voxel_sum', 'c1_voxel_sum_adjusted',\n",
       "       'c1_gaussian_amp', 'c1_mu_x', 'c1_mu_y', 'c1_mu_z', 'c1_sigma_x',\n",
       "       'c1_sigma_y', 'c1_sigma_z'],\n",
       "      dtype='object')"
      ]
     },
     "execution_count": 37,
     "metadata": {},
     "output_type": "execute_result"
    }
   ],
   "source": [
    "track_df.columns"
   ]
  },
  {
   "cell_type": "markdown",
   "id": "1941b08d-eb2f-4d6f-ab46-e92b2ebd7762",
   "metadata": {},
   "source": [
    "### In the below steps dataframe is being cleaned to make column names consistent for next steps "
   ]
  },
  {
   "cell_type": "code",
   "execution_count": 38,
   "id": "ecfe0f1d-667f-4e87-b44d-2fd001578b92",
   "metadata": {},
   "outputs": [],
   "source": [
    "##Dropping extra columns \n",
    "#track_df.drop(['index', 'frame_y'] , axis=1 , inplace = True)"
   ]
  },
  {
   "cell_type": "code",
   "execution_count": 39,
   "id": "50c5a52d-bfae-4dde-a562-5677aa1d9f13",
   "metadata": {},
   "outputs": [],
   "source": [
    "##Renaming columns to maintain data integrity \n",
    "new_col_names = {\n",
    "    'amplitude': 'c3_gaussian_amp', \n",
    "    'mu_x': 'c3_mu_x', \n",
    "    'mu_y': 'c3_mu_y', \n",
    "    'mu_z': 'c3_mu_z', \n",
    "    'sigma_x': 'c3_sigma_x', \n",
    "    'sigma_y': 'c3_sigma_y', \n",
    "    'sigma_z': 'c3_sigma_z', \n",
    "    'c2_peak': 'c2_peak_amp', \n",
    "    'c1_peak': 'c1_peak_amp'\n",
    "}"
   ]
  },
  {
   "cell_type": "code",
   "execution_count": 40,
   "id": "65207762-36af-4cc3-be59-01840b25674f",
   "metadata": {},
   "outputs": [],
   "source": [
    "track_df.rename(columns=new_col_names, inplace=True)"
   ]
  },
  {
   "cell_type": "code",
   "execution_count": 41,
   "id": "e58a58d2-03aa-495a-a508-e0bc2dcc4efd",
   "metadata": {},
   "outputs": [
    {
     "data": {
      "text/plain": [
       "Index(['frame', 'index', 'c3_gaussian_amp', 'c3_mu_x', 'c3_mu_y', 'c3_mu_z',\n",
       "       'c3_sigma_x', 'c3_sigma_y', 'c3_sigma_z', 'frame_y', 'tree_id',\n",
       "       'track_id', 'c3_mean_amp', 'c3_voxel_sum', 'c3_voxel_sum_adjusted',\n",
       "       'c3_peak_amp', 'c3_peak_x', 'c3_peak_y', 'c3_peak_z', 'c2_amp',\n",
       "       'c2_peak_amp', 'c2_peak_x', 'c2_peak_y', 'c2_peak_z', 'c2_peak_mean',\n",
       "       'c2_voxel_sum', 'c2_voxel_sum_adjusted', 'c2_gaussian_amp', 'c2_mu_x',\n",
       "       'c2_mu_y', 'c2_mu_z', 'c2_sigma_x', 'c2_sigma_y', 'c2_sigma_z',\n",
       "       'c1_amp', 'c1_peak_amp', 'c1_peak_x', 'c1_peak_y', 'c1_peak_z',\n",
       "       'c1_voxel_sum', 'c1_voxel_sum_adjusted', 'c1_gaussian_amp', 'c1_mu_x',\n",
       "       'c1_mu_y', 'c1_mu_z', 'c1_sigma_x', 'c1_sigma_y', 'c1_sigma_z'],\n",
       "      dtype='object')"
      ]
     },
     "execution_count": 41,
     "metadata": {},
     "output_type": "execute_result"
    }
   ],
   "source": [
    "track_df.columns"
   ]
  },
  {
   "cell_type": "code",
   "execution_count": 42,
   "id": "ca4d269c",
   "metadata": {},
   "outputs": [],
   "source": [
    "track_df.to_pickle(output_directory_full)"
   ]
  },
  {
   "cell_type": "markdown",
   "id": "e9f33059-0776-41cb-ac91-aa9022cec090",
   "metadata": {},
   "source": [
    "# To test the following functions change the markdown files to code files \n",
    "1. Voxel sum using the variable sigma/radi values directly inferred from the dataset \n",
    "2. Extracting pixel values mean,max etc using fixed radi\n",
    "3. Performing Gaussian Fitting on peak coords for single frame"
   ]
  },
  {
   "cell_type": "markdown",
   "id": "cfad7292-f6d1-4a91-885e-e65038964e66",
   "metadata": {},
   "source": [
    "### Function 1 (Voxel Sum)\n",
    "start_time = time.time()\n",
    "voxel_sum_array_variable, _ = extractor.voxel_sum_variable_bd(center_col_names = ['mu_z', 'mu_y', 'mu_x'], channel = 3)\n",
    "end_time = time.time()\n",
    "print('time taken (seconds)', end_time - start_time)"
   ]
  },
  {
   "cell_type": "markdown",
   "id": "c452565a-79ae-4b62-a6ad-6324b7cec349",
   "metadata": {},
   "source": [
    "### Function 2 (Extracting Pixel Values)\n",
    "start_time = time.time()\n",
    "offset = [0,0]\n",
    "col_names = ['mu_z', 'mu_y', 'mu_x']\n",
    "radii = [4, 2, 2]\n",
    "mean_v,maximum_v,minimum_v,pixel_values_v,max_loc_v = extractor.extract_pixels_data_fixed_bd(center_col_names = col_names, channel = 3)\n",
    "\n",
    "end_time = time.time()\n",
    "print('time taken (seconds)', end_time - start_time)"
   ]
  },
  {
   "cell_type": "markdown",
   "id": "b6b895a6-fad1-4319-b378-a3dc5568b052",
   "metadata": {},
   "source": [
    "### Function 3 (Gaussian fitting on one frame for one channel)\n",
    "df = extractor.gaussian_fitting_single_frame(expected_sigma = [4,2,2], \n",
    "                              center_col_names = ['c2_peak_z', 'c2_peak_y', 'c2_peak_x'],\n",
    "                                      frame = 0, channel = 2, dist_between_spots = 10)"
   ]
  },
  {
   "cell_type": "code",
   "execution_count": null,
   "id": "74d0ec9a-7039-4f35-8822-38b273d5ed1d",
   "metadata": {},
   "outputs": [],
   "source": []
  }
 ],
 "metadata": {
  "kernelspec": {
   "display_name": "Python 3 (ipykernel)",
   "language": "python",
   "name": "python3"
  },
  "language_info": {
   "codemirror_mode": {
    "name": "ipython",
    "version": 3
   },
   "file_extension": ".py",
   "mimetype": "text/x-python",
   "name": "python",
   "nbconvert_exporter": "python",
   "pygments_lexer": "ipython3",
   "version": "3.10.13"
  }
 },
 "nbformat": 4,
 "nbformat_minor": 5
}
