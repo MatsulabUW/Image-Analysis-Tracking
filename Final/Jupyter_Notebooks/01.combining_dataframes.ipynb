{
 "cells": [
  {
   "cell_type": "markdown",
   "id": "2a659319",
   "metadata": {},
   "source": [
    "# This notebook only calls the combine dataframe function and combines all of the dataframes "
   ]
  },
  {
   "cell_type": "code",
   "execution_count": 1,
   "id": "d9dcf790",
   "metadata": {},
   "outputs": [],
   "source": [
    "import sys \n",
    "#sys.path.append('/Users/apple/Desktop/Akamatsu_Lab/Lap_track/Final/src')\n",
    "sys.path.append('../src/')\n",
    "from detections_preprocessing import combine_dataframes"
   ]
  },
  {
   "cell_type": "code",
   "execution_count": 2,
   "id": "1194acf3",
   "metadata": {},
   "outputs": [],
   "source": [
    "path_channel_3 = '/Users/apple/Desktop/Akamatsu_Lab/pyLattice_tutorials/DataFrames/Channel_3_pkl/'\n",
    "c3_combined_df = combine_dataframes(number_of_files = 130, channel = 2, directory_path = path_channel_3 )"
   ]
  },
  {
   "cell_type": "code",
   "execution_count": 3,
   "id": "09a97722",
   "metadata": {},
   "outputs": [
    {
     "data": {
      "text/html": [
       "<div>\n",
       "<style scoped>\n",
       "    .dataframe tbody tr th:only-of-type {\n",
       "        vertical-align: middle;\n",
       "    }\n",
       "\n",
       "    .dataframe tbody tr th {\n",
       "        vertical-align: top;\n",
       "    }\n",
       "\n",
       "    .dataframe thead th {\n",
       "        text-align: right;\n",
       "    }\n",
       "</style>\n",
       "<table border=\"1\" class=\"dataframe\">\n",
       "  <thead>\n",
       "    <tr style=\"text-align: right;\">\n",
       "      <th></th>\n",
       "      <th>amplitude</th>\n",
       "      <th>mu_x</th>\n",
       "      <th>mu_y</th>\n",
       "      <th>mu_z</th>\n",
       "      <th>sigma_x</th>\n",
       "      <th>sigma_y</th>\n",
       "      <th>sigma_z</th>\n",
       "      <th>frame</th>\n",
       "    </tr>\n",
       "  </thead>\n",
       "  <tbody>\n",
       "    <tr>\n",
       "      <th>0</th>\n",
       "      <td>206.593249</td>\n",
       "      <td>11.0</td>\n",
       "      <td>12.0</td>\n",
       "      <td>0.0</td>\n",
       "      <td>2.0</td>\n",
       "      <td>2.0</td>\n",
       "      <td>4.0</td>\n",
       "      <td>0</td>\n",
       "    </tr>\n",
       "    <tr>\n",
       "      <th>1</th>\n",
       "      <td>198.333333</td>\n",
       "      <td>69.0</td>\n",
       "      <td>52.0</td>\n",
       "      <td>-2.0</td>\n",
       "      <td>2.0</td>\n",
       "      <td>2.0</td>\n",
       "      <td>7.0</td>\n",
       "      <td>0</td>\n",
       "    </tr>\n",
       "    <tr>\n",
       "      <th>2</th>\n",
       "      <td>207.348417</td>\n",
       "      <td>103.0</td>\n",
       "      <td>123.0</td>\n",
       "      <td>4.0</td>\n",
       "      <td>3.0</td>\n",
       "      <td>2.0</td>\n",
       "      <td>36.0</td>\n",
       "      <td>0</td>\n",
       "    </tr>\n",
       "    <tr>\n",
       "      <th>3</th>\n",
       "      <td>185.333333</td>\n",
       "      <td>104.0</td>\n",
       "      <td>244.0</td>\n",
       "      <td>-2.0</td>\n",
       "      <td>4.0</td>\n",
       "      <td>2.0</td>\n",
       "      <td>7.0</td>\n",
       "      <td>0</td>\n",
       "    </tr>\n",
       "    <tr>\n",
       "      <th>4</th>\n",
       "      <td>191.000000</td>\n",
       "      <td>36.0</td>\n",
       "      <td>88.0</td>\n",
       "      <td>1.0</td>\n",
       "      <td>2.0</td>\n",
       "      <td>1.0</td>\n",
       "      <td>2.0</td>\n",
       "      <td>0</td>\n",
       "    </tr>\n",
       "  </tbody>\n",
       "</table>\n",
       "</div>"
      ],
      "text/plain": [
       "    amplitude   mu_x   mu_y  mu_z  sigma_x  sigma_y  sigma_z  frame\n",
       "0  206.593249   11.0   12.0   0.0      2.0      2.0      4.0      0\n",
       "1  198.333333   69.0   52.0  -2.0      2.0      2.0      7.0      0\n",
       "2  207.348417  103.0  123.0   4.0      3.0      2.0     36.0      0\n",
       "3  185.333333  104.0  244.0  -2.0      4.0      2.0      7.0      0\n",
       "4  191.000000   36.0   88.0   1.0      2.0      1.0      2.0      0"
      ]
     },
     "execution_count": 3,
     "metadata": {},
     "output_type": "execute_result"
    }
   ],
   "source": [
    "c3_combined_df.head()"
   ]
  },
  {
   "cell_type": "code",
   "execution_count": 4,
   "id": "693baa0a",
   "metadata": {},
   "outputs": [],
   "source": [
    "pickle_file_with_intensities = \"/Users/apple/Desktop/Akamatsu_Lab/Lap_track/Final/data/spots_c3_all.pkl\"\n",
    "\n",
    "# Save the DataFrame to a pickle file\n",
    "c3_combined_df.to_pickle(pickle_file_with_intensities)"
   ]
  }
 ],
 "metadata": {
  "kernelspec": {
   "display_name": "Python 3 (ipykernel)",
   "language": "python",
   "name": "python3"
  },
  "language_info": {
   "codemirror_mode": {
    "name": "ipython",
    "version": 3
   },
   "file_extension": ".py",
   "mimetype": "text/x-python",
   "name": "python",
   "nbconvert_exporter": "python",
   "pygments_lexer": "ipython3",
   "version": "3.10.13"
  }
 },
 "nbformat": 4,
 "nbformat_minor": 5
}
