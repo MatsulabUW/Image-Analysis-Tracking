{
 "cells": [
  {
   "cell_type": "markdown",
   "id": "2a659319",
   "metadata": {},
   "source": [
    "# This notebook only calls the combine dataframe function and combines all of the dataframes "
   ]
  },
  {
   "cell_type": "code",
   "execution_count": 1,
   "id": "d9dcf790",
   "metadata": {},
   "outputs": [],
   "source": [
    "import sys \n",
    "#sys.path.append('/Users/apple/Desktop/Akamatsu_Lab/Lap_track/Final/src')\n",
    "sys.path.append('../src/')\n",
    "from detections_preprocessing import combine_dataframes"
   ]
  },
  {
   "cell_type": "code",
   "execution_count": 2,
   "id": "1194acf3",
   "metadata": {},
   "outputs": [],
   "source": [
    "path_channel_3 = '/Users/apple/Desktop/Akamatsu_Lab/pyLattice_tutorials/DataFrames/Channel_3_pkl_full'\n",
    "c3_combined_df = combine_dataframes(number_of_files = 30, channel = 3, directory_path = path_channel_3 )"
   ]
  },
  {
   "cell_type": "code",
   "execution_count": 3,
   "id": "09a97722",
   "metadata": {},
   "outputs": [
    {
     "data": {
      "text/html": [
       "<div>\n",
       "<style scoped>\n",
       "    .dataframe tbody tr th:only-of-type {\n",
       "        vertical-align: middle;\n",
       "    }\n",
       "\n",
       "    .dataframe tbody tr th {\n",
       "        vertical-align: top;\n",
       "    }\n",
       "\n",
       "    .dataframe thead th {\n",
       "        text-align: right;\n",
       "    }\n",
       "</style>\n",
       "<table border=\"1\" class=\"dataframe\">\n",
       "  <thead>\n",
       "    <tr style=\"text-align: right;\">\n",
       "      <th></th>\n",
       "      <th>amplitude</th>\n",
       "      <th>mu_x</th>\n",
       "      <th>mu_y</th>\n",
       "      <th>mu_z</th>\n",
       "      <th>sigma_x</th>\n",
       "      <th>sigma_y</th>\n",
       "      <th>sigma_z</th>\n",
       "      <th>frame</th>\n",
       "    </tr>\n",
       "  </thead>\n",
       "  <tbody>\n",
       "    <tr>\n",
       "      <th>0</th>\n",
       "      <td>178.333333</td>\n",
       "      <td>199.0</td>\n",
       "      <td>1857.0</td>\n",
       "      <td>1.0</td>\n",
       "      <td>2.0</td>\n",
       "      <td>1.0</td>\n",
       "      <td>0.0</td>\n",
       "      <td>0</td>\n",
       "    </tr>\n",
       "    <tr>\n",
       "      <th>1</th>\n",
       "      <td>178.333333</td>\n",
       "      <td>284.0</td>\n",
       "      <td>479.0</td>\n",
       "      <td>2.0</td>\n",
       "      <td>2.0</td>\n",
       "      <td>2.0</td>\n",
       "      <td>0.0</td>\n",
       "      <td>0</td>\n",
       "    </tr>\n",
       "    <tr>\n",
       "      <th>2</th>\n",
       "      <td>181.328060</td>\n",
       "      <td>321.0</td>\n",
       "      <td>830.0</td>\n",
       "      <td>2.0</td>\n",
       "      <td>3.0</td>\n",
       "      <td>2.0</td>\n",
       "      <td>0.0</td>\n",
       "      <td>0</td>\n",
       "    </tr>\n",
       "    <tr>\n",
       "      <th>3</th>\n",
       "      <td>190.663510</td>\n",
       "      <td>19.0</td>\n",
       "      <td>1222.0</td>\n",
       "      <td>2.0</td>\n",
       "      <td>1.0</td>\n",
       "      <td>2.0</td>\n",
       "      <td>0.0</td>\n",
       "      <td>0</td>\n",
       "    </tr>\n",
       "    <tr>\n",
       "      <th>4</th>\n",
       "      <td>178.333333</td>\n",
       "      <td>34.0</td>\n",
       "      <td>500.0</td>\n",
       "      <td>3.0</td>\n",
       "      <td>2.0</td>\n",
       "      <td>2.0</td>\n",
       "      <td>0.0</td>\n",
       "      <td>0</td>\n",
       "    </tr>\n",
       "  </tbody>\n",
       "</table>\n",
       "</div>"
      ],
      "text/plain": [
       "    amplitude   mu_x    mu_y  mu_z  sigma_x  sigma_y  sigma_z  frame\n",
       "0  178.333333  199.0  1857.0   1.0      2.0      1.0      0.0      0\n",
       "1  178.333333  284.0   479.0   2.0      2.0      2.0      0.0      0\n",
       "2  181.328060  321.0   830.0   2.0      3.0      2.0      0.0      0\n",
       "3  190.663510   19.0  1222.0   2.0      1.0      2.0      0.0      0\n",
       "4  178.333333   34.0   500.0   3.0      2.0      2.0      0.0      0"
      ]
     },
     "execution_count": 3,
     "metadata": {},
     "output_type": "execute_result"
    }
   ],
   "source": [
    "c3_combined_df.head()"
   ]
  },
  {
   "cell_type": "code",
   "execution_count": null,
   "id": "693baa0a",
   "metadata": {},
   "outputs": [],
   "source": [
    "#pickle_file_with_intensities = \"/Users/apple/Desktop/Akamatsu_Lab/Lap_track/Final/data/spots_c3_all.pkl\"\n",
    "\n",
    "# Save the DataFrame to a pickle file\n",
    "#c3_combined_df.to_pickle(pickle_file_with_intensities)"
   ]
  },
  {
   "cell_type": "code",
   "execution_count": null,
   "id": "fe388aa0-95ef-41c8-a4b2-642f7ad32684",
   "metadata": {},
   "outputs": [],
   "source": []
  }
 ],
 "metadata": {
  "kernelspec": {
   "display_name": "Python 3 (ipykernel)",
   "language": "python",
   "name": "python3"
  },
  "language_info": {
   "codemirror_mode": {
    "name": "ipython",
    "version": 3
   },
   "file_extension": ".py",
   "mimetype": "text/x-python",
   "name": "python",
   "nbconvert_exporter": "python",
   "pygments_lexer": "ipython3",
   "version": "3.10.13"
  }
 },
 "nbformat": 4,
 "nbformat_minor": 5
}
