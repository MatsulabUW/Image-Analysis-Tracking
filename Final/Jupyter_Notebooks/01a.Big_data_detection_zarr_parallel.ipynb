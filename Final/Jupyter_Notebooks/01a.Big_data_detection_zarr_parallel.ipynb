{
 "cells": [
  {
   "cell_type": "code",
   "execution_count": 10,
   "id": "62a4feae-de71-474c-a3b1-9d442d2a2fe6",
   "metadata": {},
   "outputs": [
    {
     "name": "stdout",
     "output_type": "stream",
     "text": [
      "The memory_profiler extension is already loaded. To reload it, use:\n",
      "  %reload_ext memory_profiler\n"
     ]
    }
   ],
   "source": [
    "%matplotlib inline\n",
    "import matplotlib.pyplot as plt\n",
    "import numpy as np\n",
    "import pandas as pd\n",
    "from aicsimageio import AICSImage\n",
    "import time\n",
    "\n",
    "### package for 3d visualization\n",
    "#from itkwidgets import view                              \n",
    "#from aicssegmentation.core.visual import seg_fluo_side_by_side,  single_fluorescent_view, segmentation_quick_view\n",
    "#import skimage\n",
    "\n",
    "### local new python segmentation functions\n",
    "import os\n",
    "import sys\n",
    "pythonPackagePath = os.path.abspath('../src/')\n",
    "sys.path.append(pythonPackagePath)\n",
    "from peak_local_max_3d import peak_local_max_3d \n",
    "from gaussian_fitting import fit_multiple_gaussians\n",
    "from extract_data import extract_data_from_filename\n",
    "from gaussian_visualization import visualize_3D_gaussians\n",
    "from gaussian_fitting import check_fitting_error\n",
    "from parallel import single_frame_segmentation\n",
    "import matplotlib.pyplot as plt\n",
    "from skimage import io\n",
    "import tifffile\n",
    "import zarr\n",
    "import time\n",
    "%load_ext memory_profiler"
   ]
  },
  {
   "cell_type": "code",
   "execution_count": 2,
   "id": "2f8dc259-df31-401a-abd5-20a1e9c4e9a2",
   "metadata": {},
   "outputs": [],
   "source": [
    "z2 = zarr.open('/Users/apple/Desktop/Akamatsu_Lab/Data/zarr_data/Channel_3/transpose-148f28e615c88260294c4c8208b84ca3', mode='r')\n",
    "\n",
    "save_dir = '/Users/apple/Desktop/Akamatsu_Lab/Data/Channel_3_pkl_zarr_test'"
   ]
  },
  {
   "cell_type": "code",
   "execution_count": 3,
   "id": "69dbbf55-cf28-420a-866c-8168ac253834",
   "metadata": {},
   "outputs": [
    {
     "data": {
      "text/html": [
       "<table class=\"zarr-info\"><tbody><tr><th style=\"text-align: left\">Type</th><td style=\"text-align: left\">zarr.core.Array</td></tr><tr><th style=\"text-align: left\">Data type</th><td style=\"text-align: left\">uint16</td></tr><tr><th style=\"text-align: left\">Shape</th><td style=\"text-align: left\">(130, 1, 116, 2052, 340)</td></tr><tr><th style=\"text-align: left\">Chunk shape</th><td style=\"text-align: left\">(1, 1, 116, 2052, 340)</td></tr><tr><th style=\"text-align: left\">Order</th><td style=\"text-align: left\">C</td></tr><tr><th style=\"text-align: left\">Read-only</th><td style=\"text-align: left\">True</td></tr><tr><th style=\"text-align: left\">Compressor</th><td style=\"text-align: left\">Blosc(cname='lz4', clevel=5, shuffle=SHUFFLE, blocksize=0)</td></tr><tr><th style=\"text-align: left\">Store type</th><td style=\"text-align: left\">zarr.storage.DirectoryStore</td></tr><tr><th style=\"text-align: left\">No. bytes</th><td style=\"text-align: left\">21042028800 (19.6G)</td></tr><tr><th style=\"text-align: left\">No. bytes stored</th><td style=\"text-align: left\">4452019926 (4.1G)</td></tr><tr><th style=\"text-align: left\">Storage ratio</th><td style=\"text-align: left\">4.7</td></tr><tr><th style=\"text-align: left\">Chunks initialized</th><td style=\"text-align: left\">130/130</td></tr></tbody></table>"
      ],
      "text/plain": [
       "Type               : zarr.core.Array\n",
       "Data type          : uint16\n",
       "Shape              : (130, 1, 116, 2052, 340)\n",
       "Chunk shape        : (1, 1, 116, 2052, 340)\n",
       "Order              : C\n",
       "Read-only          : True\n",
       "Compressor         : Blosc(cname='lz4', clevel=5, shuffle=SHUFFLE, blocksize=0)\n",
       "Store type         : zarr.storage.DirectoryStore\n",
       "No. bytes          : 21042028800 (19.6G)\n",
       "No. bytes stored   : 4452019926 (4.1G)\n",
       "Storage ratio      : 4.7\n",
       "Chunks initialized : 130/130"
      ]
     },
     "execution_count": 3,
     "metadata": {},
     "output_type": "execute_result"
    }
   ],
   "source": [
    "z2.info"
   ]
  },
  {
   "cell_type": "code",
   "execution_count": 4,
   "id": "48a04399-bc76-4895-bdc8-ade573cbfb25",
   "metadata": {},
   "outputs": [
    {
     "data": {
      "text/plain": [
       "(130, 1, 116, 2052, 340)"
      ]
     },
     "execution_count": 4,
     "metadata": {},
     "output_type": "execute_result"
    }
   ],
   "source": [
    "z2.shape"
   ]
  },
  {
   "cell_type": "code",
   "execution_count": 5,
   "id": "74b82bf1-0470-4214-802c-e77fa4ab330a",
   "metadata": {},
   "outputs": [
    {
     "name": "stdout",
     "output_type": "stream",
     "text": [
      "the number of frames are 130\n"
     ]
    }
   ],
   "source": [
    "frames = z2.shape[0]\n",
    "print(f'the number of frames are {frames}')"
   ]
  },
  {
   "cell_type": "code",
   "execution_count": null,
   "id": "f9a03bc8-4326-4fb0-87c0-d3af7eb67e2f",
   "metadata": {},
   "outputs": [],
   "source": []
  },
  {
   "cell_type": "code",
   "execution_count": 12,
   "id": "e7e66311-6fb1-41da-a62f-2b13db91118b",
   "metadata": {},
   "outputs": [],
   "source": [
    "from concurrent.futures import ProcessPoolExecutor, as_completed\n",
    "from tqdm import tqdm\n",
    "import os\n",
    "import zarr\n",
    "# Ensure all your custom functions used in single_frame_segmentation are imported\n",
    "\n",
    "def run_parallel_frame_processing(zarr_file_path, save_directory, total_frames, threshold, min_distance):\n",
    "    # Load your zarr file here, assuming zarr_file_path is the path to the zarr file\n",
    "    zarr_file = zarr.open(zarr_file_path, mode='r')\n",
    "    \n",
    "    # Initialize a ProcessPoolExecutor\n",
    "    with ProcessPoolExecutor(max_workers = 3) as executor:\n",
    "        # Create a list to hold the futures\n",
    "        futures = []\n",
    "        \n",
    "        # Submit tasks for each frame to be processed in parallel\n",
    "        for frame in range(total_frames):\n",
    "            future = executor.submit(single_frame_segmentation, frame, save_directory, zarr_file, threshold, min_distance)\n",
    "            futures.append(future)\n",
    "        \n",
    "        # Use tqdm to show progress as tasks complete\n",
    "        for future in tqdm(as_completed(futures), total=total_frames, desc=\"Processing frames\"):\n",
    "            try:\n",
    "                # If you need the result for anything, or to catch exceptions:\n",
    "                result = future.result()\n",
    "            except Exception as e:\n",
    "                # Handle exceptions (if any) from your processed function\n",
    "                print(f\"Error processing frame: {e}\")\n"
   ]
  },
  {
   "cell_type": "code",
   "execution_count": 13,
   "id": "75cc19ea-0d82-400a-ab32-7e1eec761762",
   "metadata": {},
   "outputs": [
    {
     "name": "stderr",
     "output_type": "stream",
     "text": [
      "Processing frames: 100%|██████████████████████████| 3/3 [02:16<00:00, 45.58s/it]\n"
     ]
    },
    {
     "name": "stdout",
     "output_type": "stream",
     "text": [
      "frame number is 2\n",
      "(116, 2052, 340)\n",
      "(116, 340, 2052)\n",
      "local_maximas detected are 6157\n",
      "10%(616 of 6157)\n",
      "20%(1232 of 6157)\n",
      "30%(1848 of 6157)\n",
      "40%(2463 of 6157)\n",
      "50%(3079 of 6157)\n",
      "60%(3695 of 6157)\n",
      "70%(4310 of 6157)\n",
      "80%(4926 of 6157)\n",
      "90%(5542 of 6157)\n",
      "100%(6157 of 6157)\n",
      "(6157, 7)\n",
      "the number of times the gaussian fitting worked was6157and the number of times the gaussian did not fit was 0\n",
      "frame number is 1\n",
      "(116, 2052, 340)\n",
      "(116, 340, 2052)\n",
      "local_maximas detected are 6067\n",
      "10%(607 of 6067)\n",
      "20%(1214 of 6067)\n",
      "30%(1821 of 6067)\n",
      "40%(2427 of 6067)\n",
      "50%(3034 of 6067)\n",
      "60%(3641 of 6067)\n",
      "70%(4247 of 6067)\n",
      "80%(4854 of 6067)\n",
      "90%(5461 of 6067)\n",
      "100%(6067 of 6067)\n",
      "(6067, 7)\n",
      "the number of times the gaussian fitting worked was6067and the number of times the gaussian did not fit was 0\n",
      "frame number is 0\n",
      "(116, 2052, 340)\n",
      "(116, 340, 2052)\n",
      "local_maximas detected are 6200\n",
      "10%(620 of 6200)\n",
      "20%(1240 of 6200)\n",
      "30%(1860 of 6200)\n",
      "40%(2480 of 6200)\n",
      "50%(3100 of 6200)\n",
      "60%(3720 of 6200)\n",
      "70%(4340 of 6200)\n",
      "80%(4960 of 6200)\n",
      "90%(5580 of 6200)\n",
      "100%(6200 of 6200)\n",
      "(6200, 7)\n",
      "the number of times the gaussian fitting worked was6200and the number of times the gaussian did not fit was 0\n",
      "peak memory: 185.53 MiB, increment: 0.12 MiB\n",
      "total time take is 138.19753098487854\n"
     ]
    }
   ],
   "source": [
    "# Example usage\n",
    "import time \n",
    "zarr_file_path = '/Users/apple/Desktop/Akamatsu_Lab/Data/zarr_data/Channel_3/transpose-148f28e615c88260294c4c8208b84ca3'\n",
    "save_directory = '/Users/apple/Desktop/Akamatsu_Lab/Data/Channel_3_pkl_zarr_test'\n",
    "total_frames = 3 # Adjust based on your zarr file's content\n",
    "\n",
    "start = time.time()\n",
    "%memit run_parallel_frame_processing(zarr_file_path, save_directory, total_frames, threshold = 180, min_distance = 10)\n",
    "end = time.time()\n",
    "print(f'total time take is {end-start}')"
   ]
  },
  {
   "cell_type": "code",
   "execution_count": 22,
   "id": "3baff9fc-917c-45b0-9df5-81e464d151e0",
   "metadata": {},
   "outputs": [
    {
     "name": "stdout",
     "output_type": "stream",
     "text": [
      "frame number is 0\n",
      "(116, 2052, 340)\n",
      "(116, 340, 2052)\n",
      "local_maximas detected are 6200\n",
      "10%(620 of 6200)\n",
      "20%(1240 of 6200)\n",
      "30%(1860 of 6200)\n",
      "40%(2480 of 6200)\n",
      "50%(3100 of 6200)\n",
      "60%(3720 of 6200)\n",
      "70%(4340 of 6200)\n",
      "80%(4960 of 6200)\n",
      "90%(5580 of 6200)\n",
      "100%(6200 of 6200)\n",
      "(6200, 7)\n",
      "the number of times the gaussian fitting worked was6200and the number of times the gaussian did not fit was 0\n",
      "\n"
     ]
    },
    {
     "data": {
      "text/plain": []
     },
     "metadata": {},
     "output_type": "display_data"
    }
   ],
   "source": [
    "%mprun single_frame_segmentation(frame=0, spot_intensity = 180, dist_between_spots = 10, save_directory = save_dir , zarr_file = z2)"
   ]
  },
  {
   "cell_type": "code",
   "execution_count": null,
   "id": "0561475e-00c4-4715-8b01-a708884590b6",
   "metadata": {},
   "outputs": [],
   "source": []
  }
 ],
 "metadata": {
  "kernelspec": {
   "display_name": "Python 3 (ipykernel)",
   "language": "python",
   "name": "python3"
  },
  "language_info": {
   "codemirror_mode": {
    "name": "ipython",
    "version": 3
   },
   "file_extension": ".py",
   "mimetype": "text/x-python",
   "name": "python",
   "nbconvert_exporter": "python",
   "pygments_lexer": "ipython3",
   "version": "3.10.13"
  }
 },
 "nbformat": 4,
 "nbformat_minor": 5
}
