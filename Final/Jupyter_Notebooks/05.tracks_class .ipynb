{
 "cells": [
  {
   "cell_type": "code",
   "execution_count": null,
   "id": "d931927b",
   "metadata": {},
   "outputs": [],
   "source": [
    "import pandas as pd \n",
    "import numpy as np \n",
    "import sys\n",
    "sys.path.append('../src/')\n",
    "from filters import Track, create_tracks_from_dataframe, drop_short_tracks\n",
    "from filters import drop_early_peak_tracks, drop_last_frame_peak_tracks, drop_tracks_below_intensity"
   ]
  },
  {
   "cell_type": "code",
   "execution_count": null,
   "id": "330b03a6",
   "metadata": {},
   "outputs": [],
   "source": [
    "track_df = pd.read_pickle('/Users/apple/Desktop/Akamatsu_Lab/Lap_track/Final/data/track_df_updated.pkl')"
   ]
  },
  {
   "cell_type": "code",
   "execution_count": null,
   "id": "05f220f9",
   "metadata": {},
   "outputs": [],
   "source": [
    "track_df.head()"
   ]
  },
  {
   "cell_type": "code",
   "execution_count": null,
   "id": "0e353817",
   "metadata": {},
   "outputs": [],
   "source": [
    "tracks = create_tracks_from_dataframe(df = track_df, intensities_col_name = ['amplitude', 'c2_peak', 'c1_peak'], \n",
    "track_id_col_name = 'track_id', frame_col_name = 'frame', coords = ['mu_x', 'mu_y', 'mu_z'])"
   ]
  },
  {
   "cell_type": "code",
   "execution_count": null,
   "id": "526edce9",
   "metadata": {},
   "outputs": [],
   "source": [
    "peak_intensities = tracks[0].peak_intensities"
   ]
  },
  {
   "cell_type": "code",
   "execution_count": null,
   "id": "c4bb771a",
   "metadata": {},
   "outputs": [],
   "source": [
    "# Create DataFrame from Track instances\n",
    "tracks_data = {\n",
    "    'track_id': [track.track_id.values[0] for track in tracks],\n",
    "    'track_length': [track.track_length for track in tracks],\n",
    "    'track_start': [track.track_start for track in tracks],\n",
    "    'track_end': [track.track_end for track in tracks],\n",
    "    'c3_peak': [track.peak_intensities[0] for track in tracks],\n",
    "    'c2_peak': [track.peak_intensities[1] for track in tracks],\n",
    "    'c1_peak': [track.peak_intensities[2] for track in tracks],\n",
    "    'c3_peak_frame': [track.peak_intensity_frames[0] for track in tracks],\n",
    "    'c2_peak_frame': [track.peak_intensity_frames[1] for track in tracks],\n",
    "    'c1_peak_frame': [track.peak_intensity_frames[2] for track in tracks],\n",
    "    'mean_displacement': [track.mean_displacement_track for track in tracks]\n",
    "}\n",
    "\n",
    "tracks_df = pd.DataFrame(tracks_data)"
   ]
  },
  {
   "cell_type": "code",
   "execution_count": null,
   "id": "2225f3ad",
   "metadata": {},
   "outputs": [],
   "source": [
    "tracks_df.head()"
   ]
  },
  {
   "cell_type": "code",
   "execution_count": null,
   "id": "f2f5b56e",
   "metadata": {},
   "outputs": [],
   "source": [
    "tracks_df[tracks_df['track_id']==541]"
   ]
  },
  {
   "cell_type": "code",
   "execution_count": null,
   "id": "069e6ea2",
   "metadata": {},
   "outputs": [],
   "source": [
    "tracks_df.shape"
   ]
  },
  {
   "cell_type": "markdown",
   "id": "b2b47347",
   "metadata": {},
   "source": [
    "# Filter 1 \n",
    "## Filter tracks based on intensity of channel 2 and channel 1 which do not go beyond a certain threshold"
   ]
  },
  {
   "cell_type": "code",
   "execution_count": null,
   "id": "cf4230be",
   "metadata": {},
   "outputs": [],
   "source": [
    "filtered_df = drop_tracks_below_intensity(df = tracks_df, threshold = 170, intensity_peak_frame = 'c2_peak' )"
   ]
  },
  {
   "cell_type": "code",
   "execution_count": null,
   "id": "88b13c14",
   "metadata": {},
   "outputs": [],
   "source": [
    "filtered_df"
   ]
  },
  {
   "cell_type": "code",
   "execution_count": null,
   "id": "d73d2fa3",
   "metadata": {},
   "outputs": [],
   "source": [
    "filtered_df['c2_peak'].min()"
   ]
  },
  {
   "cell_type": "code",
   "execution_count": null,
   "id": "0485afb7",
   "metadata": {},
   "outputs": [],
   "source": [
    "filtered_df.shape"
   ]
  },
  {
   "cell_type": "code",
   "execution_count": null,
   "id": "034522e0",
   "metadata": {},
   "outputs": [],
   "source": [
    "filtered_df = drop_tracks_below_intensity(df = filtered_df, threshold = 240, intensity_peak_frame = 'c1_peak' )"
   ]
  },
  {
   "cell_type": "code",
   "execution_count": null,
   "id": "36f8cdd1",
   "metadata": {},
   "outputs": [],
   "source": [
    "filtered_df.shape"
   ]
  },
  {
   "cell_type": "markdown",
   "id": "a88e2f30",
   "metadata": {},
   "source": [
    "# Filter 2\n",
    "## Filter tracks based on length"
   ]
  },
  {
   "cell_type": "code",
   "execution_count": null,
   "id": "13fdc78f",
   "metadata": {},
   "outputs": [],
   "source": [
    "#dropping tracks of length 3 and below\n",
    "filtered_df = drop_short_tracks(df = filtered_df, threshold = 3)"
   ]
  },
  {
   "cell_type": "code",
   "execution_count": null,
   "id": "3d1ab7f7",
   "metadata": {},
   "outputs": [],
   "source": [
    "filtered_df.head()"
   ]
  },
  {
   "cell_type": "code",
   "execution_count": null,
   "id": "3c70a8d4",
   "metadata": {},
   "outputs": [],
   "source": [
    "print(min(filtered_df['track_length']))"
   ]
  },
  {
   "cell_type": "code",
   "execution_count": null,
   "id": "2326f5ea",
   "metadata": {},
   "outputs": [],
   "source": [
    "filtered_df.shape"
   ]
  },
  {
   "cell_type": "markdown",
   "id": "216e02e5",
   "metadata": {},
   "source": [
    "# Filter 3\n",
    "## Filter tracks based on channel 2 and channel 1 peak if occurs within 3 frames of starting of a track "
   ]
  },
  {
   "cell_type": "code",
   "execution_count": null,
   "id": "2d32ec94",
   "metadata": {},
   "outputs": [],
   "source": [
    "filtered_df = drop_early_peak_tracks(df = filtered_df, intensity_peak_frame = 'c2_peak_frame', \n",
    "                                      cutoff = 3)"
   ]
  },
  {
   "cell_type": "code",
   "execution_count": null,
   "id": "b2036835",
   "metadata": {},
   "outputs": [],
   "source": [
    "filtered_df.head()"
   ]
  },
  {
   "cell_type": "code",
   "execution_count": null,
   "id": "54f26f45",
   "metadata": {},
   "outputs": [],
   "source": [
    "filtered_df.shape"
   ]
  },
  {
   "cell_type": "code",
   "execution_count": null,
   "id": "1a2db8fa",
   "metadata": {},
   "outputs": [],
   "source": [
    "filtered_df = drop_early_peak_tracks(df = filtered_df, intensity_peak_frame = 'c3_peak_frame', \n",
    "                                      cutoff = 3)"
   ]
  },
  {
   "cell_type": "code",
   "execution_count": null,
   "id": "f05f68bf",
   "metadata": {},
   "outputs": [],
   "source": [
    "filtered_df.head()"
   ]
  },
  {
   "cell_type": "code",
   "execution_count": null,
   "id": "2271d127",
   "metadata": {},
   "outputs": [],
   "source": [
    "filtered_df.shape"
   ]
  },
  {
   "cell_type": "code",
   "execution_count": null,
   "id": "505f19f5",
   "metadata": {},
   "outputs": [],
   "source": [
    "filtered_df = drop_early_peak_tracks(df = filtered_df, intensity_peak_frame = 'c1_peak_frame', \n",
    "                                      cutoff = 3)"
   ]
  },
  {
   "cell_type": "code",
   "execution_count": null,
   "id": "0a4d05fe",
   "metadata": {},
   "outputs": [],
   "source": [
    "filtered_df.shape"
   ]
  },
  {
   "cell_type": "markdown",
   "id": "ca78d9d0",
   "metadata": {},
   "source": [
    "# Filter 4\n",
    "## Filter tracks based on channel 2 and channel 3 peaks occuring in the last frame "
   ]
  },
  {
   "cell_type": "code",
   "execution_count": null,
   "id": "3ae362f7",
   "metadata": {},
   "outputs": [],
   "source": [
    "filtered_df = drop_last_frame_peak_tracks(df = filtered_df, intensity_col = 'c3_peak_frame')"
   ]
  },
  {
   "cell_type": "code",
   "execution_count": null,
   "id": "7d850716",
   "metadata": {},
   "outputs": [],
   "source": [
    "filtered_df.head()"
   ]
  },
  {
   "cell_type": "code",
   "execution_count": null,
   "id": "66dffe63",
   "metadata": {},
   "outputs": [],
   "source": [
    "filtered_df.shape"
   ]
  },
  {
   "cell_type": "code",
   "execution_count": null,
   "id": "a6c4b03a",
   "metadata": {},
   "outputs": [],
   "source": [
    "filtered_df = drop_last_frame_peak_tracks(df = filtered_df, intensity_col = 'c2_peak_frame')"
   ]
  },
  {
   "cell_type": "code",
   "execution_count": null,
   "id": "17c6fbae",
   "metadata": {},
   "outputs": [],
   "source": [
    "filtered_df.shape"
   ]
  },
  {
   "cell_type": "code",
   "execution_count": null,
   "id": "f9566242",
   "metadata": {},
   "outputs": [],
   "source": [
    "filtered_df.head()"
   ]
  },
  {
   "cell_type": "code",
   "execution_count": null,
   "id": "51422285",
   "metadata": {},
   "outputs": [],
   "source": [
    "filtered_df.to_pickle('/Users/apple/Desktop/Akamatsu_Lab/Lap_track/Final/data/filtered_tracks.pkl')"
   ]
  }
 ],
 "metadata": {
  "kernelspec": {
   "display_name": "Python 3 (ipykernel)",
   "language": "python",
   "name": "python3"
  },
  "language_info": {
   "codemirror_mode": {
    "name": "ipython",
    "version": 3
   },
   "file_extension": ".py",
   "mimetype": "text/x-python",
   "name": "python",
   "nbconvert_exporter": "python",
   "pygments_lexer": "ipython3",
   "version": "3.10.13"
  }
 },
 "nbformat": 4,
 "nbformat_minor": 5
}
