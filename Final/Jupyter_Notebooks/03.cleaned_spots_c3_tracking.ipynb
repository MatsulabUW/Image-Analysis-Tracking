{
 "cells": [
  {
   "cell_type": "markdown",
   "id": "c5c7afc9",
   "metadata": {},
   "source": [
    "# Main Focus of the Notebook: Running Laptrack on detections\n",
    "\n",
    "### This notebook takes as input the dataframe which contains filtered detected spots and runs laptrack module on it. \n",
    "### A new dataframe containing tree id and track id is returned. For us main variable for tracks is track id. "
   ]
  },
  {
   "cell_type": "code",
   "execution_count": 1,
   "id": "6a96b688",
   "metadata": {},
   "outputs": [],
   "source": [
    "from os import path\n",
    "import pandas as pd\n",
    "from IPython.display import display\n",
    "from matplotlib import pyplot as plt\n",
    "from laptrack import LapTrack, ParallelBackend\n",
    "import napari\n",
    "from skimage import io\n",
    "import time  \n",
    "import os \n",
    "import sys"
   ]
  },
  {
   "cell_type": "markdown",
   "id": "f97d2870",
   "metadata": {},
   "source": [
    "### Do not change the code in the cell below"
   ]
  },
  {
   "cell_type": "code",
   "execution_count": 2,
   "id": "57b24b38-fc1d-4728-9e74-5659903ec615",
   "metadata": {},
   "outputs": [],
   "source": [
    "# This assumes that your notebook is inside 'Jupyter Notebooks', which is at the same level as 'test_data'\n",
    "base_dir = os.path.join(os.path.dirname(os.path.abspath(\"__file__\")), '..', 'test_data')\n",
    "\n",
    "zarr_directory = 'zarr_file/all_channels_data'\n",
    "zarr_full_path = os.path.join(base_dir, zarr_directory)\n",
    "\n",
    "input_directory = 'datasets'\n",
    "input_file_name = 'cleaned_spots_intensities_c3_all.pkl'\n",
    "input_directory_full = os.path.join(base_dir,input_directory, input_file_name)\n",
    "\n",
    "output_directory = 'datasets'\n",
    "output_file_name = 'track_df_c3_cleaned.pkl'\n",
    "output_directory_full = os.path.join(base_dir,output_directory, output_file_name)"
   ]
  },
  {
   "cell_type": "code",
   "execution_count": 3,
   "id": "8a796435",
   "metadata": {},
   "outputs": [],
   "source": [
    "cleaned_spots_df = pd.read_pickle(input_directory_full)"
   ]
  },
  {
   "cell_type": "code",
   "execution_count": 4,
   "id": "1a146a6e",
   "metadata": {},
   "outputs": [],
   "source": [
    "max_distance = 3\n",
    "lt = LapTrack(\n",
    "    track_dist_metric=\"sqeuclidean\",  # The similarity metric for particles. See `scipy.spatial.distance.cdist` for allowed values.\n",
    "    splitting_dist_metric=\"sqeuclidean\",\n",
    "    merging_dist_metric=\"sqeuclidean\",\n",
    "    # the square of the cutoff distance for the \"sqeuclidean\" metric\n",
    "    track_cost_cutoff=max_distance**2,\n",
    "    gap_closing_cost_cutoff = (2*max_distance)**2,\n",
    "    gap_closing_max_frame_count = 1,\n",
    "    splitting_cost_cutoff=False,  # or False for non-splitting case\n",
    "    merging_cost_cutoff=False,  # or False for non-merging case\n",
    ")"
   ]
  },
  {
   "cell_type": "code",
   "execution_count": 5,
   "id": "d8cce581",
   "metadata": {},
   "outputs": [
    {
     "name": "stdout",
     "output_type": "stream",
     "text": [
      "Total execution time: 97.6930239200592 seconds\n"
     ]
    }
   ],
   "source": [
    "start_time = time.time()\n",
    "\n",
    "track_df, split_df, merge_df = lt.predict_dataframe(\n",
    "    cleaned_spots_df,\n",
    "    coordinate_cols=[\n",
    "        \"mu_x\",\n",
    "        \"mu_y\",\n",
    "        \"mu_z\"\n",
    "    ],  # the column names for the coordinates\n",
    "    frame_col=\"frame\",  # the column name for the frame (default \"frame\")\n",
    "    only_coordinate_cols=False,  # if False, returned track_df includes columns not in coordinate_cols.\n",
    "    # False will be the default in the major release.\n",
    ")\n",
    "\n",
    "end_time = time.time()\n",
    "\n",
    "execution_time = end_time - start_time\n",
    "print(f\"Total execution time: {execution_time} seconds\")\n",
    "track_df = track_df.reset_index()"
   ]
  },
  {
   "cell_type": "code",
   "execution_count": 6,
   "id": "dca1a89d",
   "metadata": {},
   "outputs": [],
   "source": [
    "# Save the DataFrame to a pickle file\n",
    "track_df.to_pickle(output_directory_full)"
   ]
  }
 ],
 "metadata": {
  "kernelspec": {
   "display_name": "Python 3 (ipykernel)",
   "language": "python",
   "name": "python3"
  },
  "language_info": {
   "codemirror_mode": {
    "name": "ipython",
    "version": 3
   },
   "file_extension": ".py",
   "mimetype": "text/x-python",
   "name": "python",
   "nbconvert_exporter": "python",
   "pygments_lexer": "ipython3",
   "version": "3.10.13"
  }
 },
 "nbformat": 4,
 "nbformat_minor": 5
}
