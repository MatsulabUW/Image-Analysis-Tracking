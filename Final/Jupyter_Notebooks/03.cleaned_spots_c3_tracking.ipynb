{
 "cells": [
  {
   "cell_type": "markdown",
   "id": "c5c7afc9",
   "metadata": {},
   "source": [
    "# Main Focus of the Notebook: Running Laptrack on detections\n",
    "\n",
    "### This notebook takes as input the dataframe which contains filtered detected spots and runs laptrack module on it. \n",
    "### A new dataframe containing tree id and track id is returned. For us main variable for tracks is track id. "
   ]
  },
  {
   "cell_type": "code",
   "execution_count": 1,
   "id": "6a96b688",
   "metadata": {},
   "outputs": [],
   "source": [
    "from os import path\n",
    "import pandas as pd\n",
    "from IPython.display import display\n",
    "from matplotlib import pyplot as plt\n",
    "from laptrack import LapTrack, ParallelBackend\n",
    "import napari\n",
    "from skimage import io\n",
    "import time  \n",
    "import os \n",
    "import sys\n",
    "import zarr \n",
    "import dask.array as da"
   ]
  },
  {
   "cell_type": "markdown",
   "id": "f97d2870",
   "metadata": {},
   "source": [
    "### Do not change the code in the cell below"
   ]
  },
  {
   "cell_type": "code",
   "execution_count": 2,
   "id": "57b24b38-fc1d-4728-9e74-5659903ec615",
   "metadata": {},
   "outputs": [],
   "source": [
    "# This assumes that your notebook is inside 'Jupyter Notebooks', which is at the same level as 'test_data'\n",
    "base_dir = os.path.join(os.path.dirname(os.path.abspath(\"__file__\")), '..', 'movie_data')\n",
    "\n",
    "zarr_directory = 'zarr_file/all_channels_data'\n",
    "zarr_full_path = os.path.join(base_dir, zarr_directory)\n",
    "\n",
    "input_directory = 'datasets'\n",
    "input_file_name = 'cleaned_spots_intensities_c3_all.pkl'\n",
    "input_directory_full = os.path.join(base_dir,input_directory, input_file_name)\n",
    "\n",
    "output_directory = 'datasets'\n",
    "output_file_name = 'track_df_c3_cleaned.pkl'\n",
    "output_directory_full = os.path.join(base_dir,output_directory, output_file_name)"
   ]
  },
  {
   "cell_type": "code",
   "execution_count": 3,
   "id": "8a796435",
   "metadata": {},
   "outputs": [],
   "source": [
    "cleaned_spots_df = pd.read_pickle(input_directory_full)\n",
    "z2 = zarr.open(zarr_full_path, mode='r')"
   ]
  },
  {
   "cell_type": "markdown",
   "id": "abe8e470",
   "metadata": {},
   "source": [
    "## Parameter to optimize \n",
    "\n",
    "1. **max_distance:** The cost cutoff for the connected points in the track."
   ]
  },
  {
   "cell_type": "code",
   "execution_count": 4,
   "id": "1a146a6e",
   "metadata": {},
   "outputs": [],
   "source": [
    "max_distance = 3\n",
    "lt = LapTrack(\n",
    "    track_dist_metric=\"sqeuclidean\",  # The similarity metric for particles. See `scipy.spatial.distance.cdist` for allowed values.\n",
    "    # the square of the cutoff distance for the \"sqeuclidean\" metric\n",
    "    track_cost_cutoff=max_distance**2,\n",
    "    gap_closing_cost_cutoff = (2*max_distance)**2,\n",
    "    gap_closing_max_frame_count = 1,\n",
    "    splitting_dist_metric=\"sqeuclidean\",\n",
    "    splitting_cost_cutoff=False,  # Enable splitting with a cost cutoff\n",
    "    merging_dist_metric=\"sqeuclidean\",\n",
    "    merging_cost_cutoff=False  # Enable merging with a cost cutoff\n",
    ")"
   ]
  },
  {
   "cell_type": "code",
   "execution_count": 5,
   "id": "d8cce581",
   "metadata": {},
   "outputs": [
    {
     "name": "stdout",
     "output_type": "stream",
     "text": [
      "Total execution time: 105.13887619972229 seconds\n"
     ]
    }
   ],
   "source": [
    "start_time = time.time()\n",
    "\n",
    "track_df, split_df, merge_df = lt.predict_dataframe(\n",
    "    cleaned_spots_df,\n",
    "    coordinate_cols=[\n",
    "        \"mu_x\",\n",
    "        \"mu_y\",\n",
    "        \"mu_z\"\n",
    "    ],  # the column names for the coordinates\n",
    "    frame_col=\"frame\",  # the column name for the frame (default \"frame\")\n",
    "    only_coordinate_cols=False,  # if False, returned track_df includes columns not in coordinate_cols.\n",
    "    # False will be the default in the major release.\n",
    ")\n",
    "\n",
    "end_time = time.time()\n",
    "\n",
    "execution_time = end_time - start_time\n",
    "print(f\"Total execution time: {execution_time} seconds\")\n",
    "track_df = track_df.reset_index()"
   ]
  },
  {
   "cell_type": "markdown",
   "id": "aa6207c5",
   "metadata": {},
   "source": [
    "### You can visualise the performance of the tracking algorithm in napari. If you feel adjustment is needed for the tracking parameters, you can adjust the parameters mentioned in the start accordingly. \n",
    "\n",
    "Once you open napari adjust the contrast so that spots are clearly visible \n",
    "\n",
    "Possible Adjustment Examples\n",
    "\n",
    "1. If a single track appears to be broken into multiple tracks you can increase the max_distance and rerun tracking \n",
    "2. If multiple tracks appear to be merged into a single track you can decrease the max_distance and rerun tracking "
   ]
  },
  {
   "cell_type": "code",
   "execution_count": 8,
   "id": "ce77b9e7",
   "metadata": {},
   "outputs": [],
   "source": [
    "# Create a napari viewer\n",
    "viewer = napari.Viewer()\n",
    "\n",
    "#access channel 3 only from zarr array \n",
    "dask_array = da.from_zarr(z2)\n",
    "\n",
    "#the axis arrangement is (t,c,z,y,x)\n",
    "#for the sake of improved performance only 1 channel could be imported here (if images get super large and performance issues occur)\n",
    "all_channels = dask_array[:,:,:,4:2050,:]\n",
    "\n",
    "# Add the 4D stack to the viewer\n",
    "layer_raw = viewer.add_image(all_channels, channel_axis = 1, name = ['channel 1', 'channel 2', 'channel 3'])\n",
    "viewer.add_tracks(track_df[[\"track_id\", \"frame\", \"mu_z\", \"mu_y\", \"mu_x\"]], name = 'all tracks')\n",
    "#other useful parameters \n",
    "#color_map = list\n",
    "#contrast_limits = list of list \n",
    "\n",
    "# Add Bounding Box\n",
    "layer_raw[0].bounding_box.visible = True\n",
    "layer_raw[1].bounding_box.visible = True\n",
    "layer_raw[2].bounding_box.visible = True\n"
   ]
  },
  {
   "cell_type": "code",
   "execution_count": null,
   "id": "dca1a89d",
   "metadata": {},
   "outputs": [],
   "source": [
    "# Save the DataFrame to a pickle file\n",
    "track_df.to_pickle(output_directory_full)"
   ]
  }
 ],
 "metadata": {
  "kernelspec": {
   "display_name": "Python 3 (ipykernel)",
   "language": "python",
   "name": "python3"
  },
  "language_info": {
   "codemirror_mode": {
    "name": "ipython",
    "version": 3
   },
   "file_extension": ".py",
   "mimetype": "text/x-python",
   "name": "python",
   "nbconvert_exporter": "python",
   "pygments_lexer": "ipython3",
   "version": "3.10.13"
  }
 },
 "nbformat": 4,
 "nbformat_minor": 5
}
