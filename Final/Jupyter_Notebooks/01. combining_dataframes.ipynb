{
 "cells": [
  {
   "cell_type": "code",
   "execution_count": 6,
   "id": "d9dcf790",
   "metadata": {},
   "outputs": [],
   "source": [
    "import sys \n",
    "#sys.path.append('/Users/apple/Desktop/Akamatsu_Lab/Lap_track/Final/src')\n",
    "sys.path.append('../src/')\n",
    "from detections_preprocessing import combine_dataframes"
   ]
  },
  {
   "cell_type": "code",
   "execution_count": 7,
   "id": "1194acf3",
   "metadata": {},
   "outputs": [],
   "source": [
    "path_channel_3 = '/Users/apple/Desktop/Akamatsu_Lab/pyLattice_tutorials/DataFrames/Channel_3_pkl/'\n",
    "c3_combined_df = combine_dataframes(number_of_files = 130, channel = 2, directory_path = path_channel_3 )"
   ]
  },
  {
   "cell_type": "code",
   "execution_count": 10,
   "id": "693baa0a",
   "metadata": {},
   "outputs": [],
   "source": [
    "pickle_file_with_intensities = \"/Users/apple/Desktop/Akamatsu_Lab/Lap_track/Final/data/spots_c3_all.pkl\"\n",
    "\n",
    "# Save the DataFrame to a pickle file\n",
    "c3_combined_df.to_pickle(pickle_file_with_intensities)"
   ]
  },
  {
   "cell_type": "code",
   "execution_count": null,
   "id": "3293f9bf",
   "metadata": {},
   "outputs": [],
   "source": []
  }
 ],
 "metadata": {
  "kernelspec": {
   "display_name": "Python 3 (ipykernel)",
   "language": "python",
   "name": "python3"
  },
  "language_info": {
   "codemirror_mode": {
    "name": "ipython",
    "version": 3
   },
   "file_extension": ".py",
   "mimetype": "text/x-python",
   "name": "python",
   "nbconvert_exporter": "python",
   "pygments_lexer": "ipython3",
   "version": "3.10.13"
  }
 },
 "nbformat": 4,
 "nbformat_minor": 5
}
